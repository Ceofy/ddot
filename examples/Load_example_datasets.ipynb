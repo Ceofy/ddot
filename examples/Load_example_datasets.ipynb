{
 "cells": [
  {
   "cell_type": "markdown",
   "metadata": {},
   "source": [
    "Load datasets used in the manuscript \"A Swiss-Army Knife for Hierarchical Modeling of Biological Systems\" (Yu et al.)"
   ]
  },
  {
   "cell_type": "code",
   "execution_count": 1,
   "metadata": {
    "ExecuteTime": {
     "end_time": "2018-11-15T23:22:43.880956Z",
     "start_time": "2018-11-15T23:22:40.965961Z"
    },
    "collapsed": true
   },
   "outputs": [],
   "source": [
    "import ddot\n",
    "from ddot import Ontology"
   ]
  },
  {
   "cell_type": "markdown",
   "metadata": {},
   "source": [
    "# Gene-disease associations from Monarch Initiative"
   ]
  },
  {
   "cell_type": "code",
   "execution_count": 7,
   "metadata": {
    "ExecuteTime": {
     "end_time": "2018-11-16T20:00:03.045557Z",
     "start_time": "2018-11-16T20:00:02.518892Z"
    }
   },
   "outputs": [
    {
     "name": "stdout",
     "output_type": "stream",
     "text": [
      "\n"
     ]
    },
    {
     "data": {
      "text/html": [
       "<div>\n",
       "<style scoped>\n",
       "    .dataframe tbody tr th:only-of-type {\n",
       "        vertical-align: middle;\n",
       "    }\n",
       "\n",
       "    .dataframe tbody tr th {\n",
       "        vertical-align: top;\n",
       "    }\n",
       "\n",
       "    .dataframe thead th {\n",
       "        text-align: right;\n",
       "    }\n",
       "</style>\n",
       "<table border=\"1\" class=\"dataframe\">\n",
       "  <thead>\n",
       "    <tr style=\"text-align: right;\">\n",
       "      <th></th>\n",
       "      <th>Node1</th>\n",
       "      <th>Node2</th>\n",
       "      <th>disease_original_name</th>\n",
       "      <th>gene</th>\n",
       "      <th>disease</th>\n",
       "      <th>similarity</th>\n",
       "    </tr>\n",
       "  </thead>\n",
       "  <tbody>\n",
       "    <tr>\n",
       "      <th>0</th>\n",
       "      <td>MIR6084</td>\n",
       "      <td>parkinson_disease_6__autosomal_recessive_early...</td>\n",
       "      <td>Parkinson Disease 6, Autosomal Recessive Early...</td>\n",
       "      <td>MIR6084</td>\n",
       "      <td>parkinson_disease_6__autosomal_recessive_early...</td>\n",
       "      <td>1.0</td>\n",
       "    </tr>\n",
       "    <tr>\n",
       "      <th>1</th>\n",
       "      <td>ELANE</td>\n",
       "      <td>autosomal_dominant_severe_congenital_neutropenia</td>\n",
       "      <td>Autosomal dominant severe congenital neutropenia</td>\n",
       "      <td>ELANE</td>\n",
       "      <td>autosomal_dominant_severe_congenital_neutropenia</td>\n",
       "      <td>1.0</td>\n",
       "    </tr>\n",
       "    <tr>\n",
       "      <th>2</th>\n",
       "      <td>B2M</td>\n",
       "      <td>bare_lymphocyte_syndrome_type_1</td>\n",
       "      <td>Bare lymphocyte syndrome type 1</td>\n",
       "      <td>B2M</td>\n",
       "      <td>bare_lymphocyte_syndrome_type_1</td>\n",
       "      <td>1.0</td>\n",
       "    </tr>\n",
       "    <tr>\n",
       "      <th>3</th>\n",
       "      <td>PDCD10</td>\n",
       "      <td>familial_cerebral_cavernous_malformation</td>\n",
       "      <td>Familial cerebral cavernous malformation</td>\n",
       "      <td>PDCD10</td>\n",
       "      <td>familial_cerebral_cavernous_malformation</td>\n",
       "      <td>1.0</td>\n",
       "    </tr>\n",
       "    <tr>\n",
       "      <th>4</th>\n",
       "      <td>PDCD10</td>\n",
       "      <td>cerebral_cavernous_malformation</td>\n",
       "      <td>Cerebral cavernous malformation</td>\n",
       "      <td>PDCD10</td>\n",
       "      <td>cerebral_cavernous_malformation</td>\n",
       "      <td>1.0</td>\n",
       "    </tr>\n",
       "  </tbody>\n",
       "</table>\n",
       "</div>"
      ],
      "text/plain": [
       "     Node1                                              Node2  \\\n",
       "0  MIR6084  parkinson_disease_6__autosomal_recessive_early...   \n",
       "1    ELANE   autosomal_dominant_severe_congenital_neutropenia   \n",
       "2      B2M                    bare_lymphocyte_syndrome_type_1   \n",
       "3   PDCD10           familial_cerebral_cavernous_malformation   \n",
       "4   PDCD10                    cerebral_cavernous_malformation   \n",
       "\n",
       "                               disease_original_name     gene  \\\n",
       "0  Parkinson Disease 6, Autosomal Recessive Early...  MIR6084   \n",
       "1   Autosomal dominant severe congenital neutropenia    ELANE   \n",
       "2                    Bare lymphocyte syndrome type 1      B2M   \n",
       "3           Familial cerebral cavernous malformation   PDCD10   \n",
       "4                    Cerebral cavernous malformation   PDCD10   \n",
       "\n",
       "                                             disease  similarity  \n",
       "0  parkinson_disease_6__autosomal_recessive_early...         1.0  \n",
       "1   autosomal_dominant_severe_congenital_neutropenia         1.0  \n",
       "2                    bare_lymphocyte_syndrome_type_1         1.0  \n",
       "3           familial_cerebral_cavernous_malformation         1.0  \n",
       "4                    cerebral_cavernous_malformation         1.0  "
      ]
     },
     "execution_count": 7,
     "metadata": {},
     "output_type": "execute_result"
    }
   ],
   "source": [
    "# Retrieve a table of gene-disease associations from the Monarch Initiative (reformatted and stored on NDEx)\n",
    "monarch, _ = ddot.ndex_to_sim_matrix(\n",
    "    ddot.MONARCH_DISEASE_GENE_SLIM_URL,\n",
    "    similarity=None,\n",
    "    input_fmt='cx',\n",
    "    output_fmt='sparse')\n",
    "monarch.head()"
   ]
  },
  {
   "cell_type": "code",
   "execution_count": 8,
   "metadata": {
    "ExecuteTime": {
     "end_time": "2018-11-16T20:00:03.055699Z",
     "start_time": "2018-11-16T20:00:03.049505Z"
    }
   },
   "outputs": [
    {
     "name": "stdout",
     "output_type": "stream",
     "text": [
      "Seed: ['COL1A1', 'A4GALT']\n"
     ]
    }
   ],
   "source": [
    "# Example: get the known genes for \"Caffey Disease\"\n",
    "seed = monarch.loc[monarch['disease']=='caffey_disease', 'gene'].tolist()\n",
    "print('Seed:', seed)"
   ]
  },
  {
   "cell_type": "markdown",
   "metadata": {},
   "source": [
    "# Human gene-gene similarity network"
   ]
  },
  {
   "cell_type": "code",
   "execution_count": null,
   "metadata": {
    "collapsed": true
   },
   "outputs": [],
   "source": [
    "# Install the simplejson package (it may be easier to run this in a separate bash terminal).\n",
    "! pip install simplejson"
   ]
  },
  {
   "cell_type": "code",
   "execution_count": 5,
   "metadata": {
    "ExecuteTime": {
     "end_time": "2018-11-16T16:32:33.043416Z",
     "start_time": "2018-11-16T16:26:52.638513Z"
    }
   },
   "outputs": [
    {
     "name": "stdout",
     "output_type": "stream",
     "text": [
      "NDEx download time (sec): 0.07517433166503906\n",
      "response.content time: 231.18325209617615\n",
      "Read HTTP response as JSON simplejson time (sec): 326.2878167629242\n",
      "loop time (sec): 13.906715154647827\n"
     ]
    },
    {
     "data": {
      "text/html": [
       "<div>\n",
       "<style scoped>\n",
       "    .dataframe tbody tr th:only-of-type {\n",
       "        vertical-align: middle;\n",
       "    }\n",
       "\n",
       "    .dataframe tbody tr th {\n",
       "        vertical-align: top;\n",
       "    }\n",
       "\n",
       "    .dataframe thead th {\n",
       "        text-align: right;\n",
       "    }\n",
       "</style>\n",
       "<table border=\"1\" class=\"dataframe\">\n",
       "  <thead>\n",
       "    <tr style=\"text-align: right;\">\n",
       "      <th></th>\n",
       "      <th>A1BG</th>\n",
       "      <th>A1CF</th>\n",
       "      <th>A2M</th>\n",
       "      <th>A2ML1</th>\n",
       "      <th>A3GALT2</th>\n",
       "      <th>A4GALT</th>\n",
       "      <th>A4GNT</th>\n",
       "      <th>AAAS</th>\n",
       "      <th>AACS</th>\n",
       "      <th>AADAC</th>\n",
       "      <th>...</th>\n",
       "      <th>ZWILCH</th>\n",
       "      <th>ZWINT</th>\n",
       "      <th>ZXDA</th>\n",
       "      <th>ZXDB</th>\n",
       "      <th>ZXDC</th>\n",
       "      <th>ZYG11A</th>\n",
       "      <th>ZYG11B</th>\n",
       "      <th>ZYX</th>\n",
       "      <th>ZZEF1</th>\n",
       "      <th>ZZZ3</th>\n",
       "    </tr>\n",
       "  </thead>\n",
       "  <tbody>\n",
       "    <tr>\n",
       "      <th>A1BG</th>\n",
       "      <td>0.000000</td>\n",
       "      <td>3.431698</td>\n",
       "      <td>2.995258</td>\n",
       "      <td>2.485376</td>\n",
       "      <td>1.232452</td>\n",
       "      <td>2.963180</td>\n",
       "      <td>2.740923</td>\n",
       "      <td>2.636584</td>\n",
       "      <td>3.164647</td>\n",
       "      <td>3.111191</td>\n",
       "      <td>...</td>\n",
       "      <td>3.030626</td>\n",
       "      <td>2.133460</td>\n",
       "      <td>2.139856</td>\n",
       "      <td>4.836614</td>\n",
       "      <td>2.500669</td>\n",
       "      <td>5.753610</td>\n",
       "      <td>3.179621</td>\n",
       "      <td>3.085719</td>\n",
       "      <td>1.398557</td>\n",
       "      <td>2.737073</td>\n",
       "    </tr>\n",
       "    <tr>\n",
       "      <th>A1CF</th>\n",
       "      <td>3.431698</td>\n",
       "      <td>0.000000</td>\n",
       "      <td>4.359057</td>\n",
       "      <td>2.530033</td>\n",
       "      <td>1.346039</td>\n",
       "      <td>3.376200</td>\n",
       "      <td>3.739248</td>\n",
       "      <td>3.486164</td>\n",
       "      <td>2.975972</td>\n",
       "      <td>5.348464</td>\n",
       "      <td>...</td>\n",
       "      <td>3.125845</td>\n",
       "      <td>3.449779</td>\n",
       "      <td>2.975913</td>\n",
       "      <td>5.248934</td>\n",
       "      <td>2.748682</td>\n",
       "      <td>4.152000</td>\n",
       "      <td>5.086524</td>\n",
       "      <td>3.503827</td>\n",
       "      <td>4.535737</td>\n",
       "      <td>3.060234</td>\n",
       "    </tr>\n",
       "    <tr>\n",
       "      <th>A2M</th>\n",
       "      <td>2.995258</td>\n",
       "      <td>4.359057</td>\n",
       "      <td>0.000000</td>\n",
       "      <td>7.321767</td>\n",
       "      <td>1.265758</td>\n",
       "      <td>4.137097</td>\n",
       "      <td>3.941315</td>\n",
       "      <td>3.487693</td>\n",
       "      <td>3.333286</td>\n",
       "      <td>4.303947</td>\n",
       "      <td>...</td>\n",
       "      <td>3.101827</td>\n",
       "      <td>3.386778</td>\n",
       "      <td>2.540423</td>\n",
       "      <td>3.380266</td>\n",
       "      <td>2.677951</td>\n",
       "      <td>2.743995</td>\n",
       "      <td>2.966277</td>\n",
       "      <td>4.337028</td>\n",
       "      <td>4.838756</td>\n",
       "      <td>3.218988</td>\n",
       "    </tr>\n",
       "    <tr>\n",
       "      <th>A2ML1</th>\n",
       "      <td>2.485376</td>\n",
       "      <td>2.530033</td>\n",
       "      <td>7.321767</td>\n",
       "      <td>0.000000</td>\n",
       "      <td>1.209089</td>\n",
       "      <td>2.809288</td>\n",
       "      <td>2.544417</td>\n",
       "      <td>2.969902</td>\n",
       "      <td>2.728513</td>\n",
       "      <td>2.532099</td>\n",
       "      <td>...</td>\n",
       "      <td>2.383435</td>\n",
       "      <td>2.437612</td>\n",
       "      <td>2.401979</td>\n",
       "      <td>5.131732</td>\n",
       "      <td>1.858816</td>\n",
       "      <td>4.387240</td>\n",
       "      <td>2.501511</td>\n",
       "      <td>2.807124</td>\n",
       "      <td>3.867039</td>\n",
       "      <td>2.168479</td>\n",
       "    </tr>\n",
       "    <tr>\n",
       "      <th>A3GALT2</th>\n",
       "      <td>1.232452</td>\n",
       "      <td>1.346039</td>\n",
       "      <td>1.265758</td>\n",
       "      <td>1.209089</td>\n",
       "      <td>0.000000</td>\n",
       "      <td>1.252855</td>\n",
       "      <td>1.192584</td>\n",
       "      <td>1.275544</td>\n",
       "      <td>1.301369</td>\n",
       "      <td>1.316169</td>\n",
       "      <td>...</td>\n",
       "      <td>1.403003</td>\n",
       "      <td>1.536927</td>\n",
       "      <td>1.336344</td>\n",
       "      <td>2.543513</td>\n",
       "      <td>1.316635</td>\n",
       "      <td>2.621008</td>\n",
       "      <td>4.016145</td>\n",
       "      <td>1.420911</td>\n",
       "      <td>3.459424</td>\n",
       "      <td>1.265704</td>\n",
       "    </tr>\n",
       "  </tbody>\n",
       "</table>\n",
       "<p>5 rows × 19009 columns</p>\n",
       "</div>"
      ],
      "text/plain": [
       "             A1BG      A1CF       A2M     A2ML1   A3GALT2    A4GALT     A4GNT  \\\n",
       "A1BG     0.000000  3.431698  2.995258  2.485376  1.232452  2.963180  2.740923   \n",
       "A1CF     3.431698  0.000000  4.359057  2.530033  1.346039  3.376200  3.739248   \n",
       "A2M      2.995258  4.359057  0.000000  7.321767  1.265758  4.137097  3.941315   \n",
       "A2ML1    2.485376  2.530033  7.321767  0.000000  1.209089  2.809288  2.544417   \n",
       "A3GALT2  1.232452  1.346039  1.265758  1.209089  0.000000  1.252855  1.192584   \n",
       "\n",
       "             AAAS      AACS     AADAC    ...       ZWILCH     ZWINT      ZXDA  \\\n",
       "A1BG     2.636584  3.164647  3.111191    ...     3.030626  2.133460  2.139856   \n",
       "A1CF     3.486164  2.975972  5.348464    ...     3.125845  3.449779  2.975913   \n",
       "A2M      3.487693  3.333286  4.303947    ...     3.101827  3.386778  2.540423   \n",
       "A2ML1    2.969902  2.728513  2.532099    ...     2.383435  2.437612  2.401979   \n",
       "A3GALT2  1.275544  1.301369  1.316169    ...     1.403003  1.536927  1.336344   \n",
       "\n",
       "             ZXDB      ZXDC    ZYG11A    ZYG11B       ZYX     ZZEF1      ZZZ3  \n",
       "A1BG     4.836614  2.500669  5.753610  3.179621  3.085719  1.398557  2.737073  \n",
       "A1CF     5.248934  2.748682  4.152000  5.086524  3.503827  4.535737  3.060234  \n",
       "A2M      3.380266  2.677951  2.743995  2.966277  4.337028  4.838756  3.218988  \n",
       "A2ML1    5.131732  1.858816  4.387240  2.501511  2.807124  3.867039  2.168479  \n",
       "A3GALT2  2.543513  1.316635  2.621008  4.016145  1.420911  3.459424  1.265704  \n",
       "\n",
       "[5 rows x 19009 columns]"
      ]
     },
     "execution_count": 5,
     "metadata": {},
     "output_type": "execute_result"
    }
   ],
   "source": [
    "## Download human gene-gene similarity network from NDEx\n",
    "## -- WARNING: This network is very large (19,009-by-19,009 matrix). Downloading will take ~10 min for a fast internet connection.\n",
    "sim, sim_names = ddot.ndex_to_sim_matrix(\n",
    "    ndex_uuid=ddot.HUMAN_GENE_SIMILARITIES_URL,\n",
    "    similarity='similarity',\n",
    "    input_fmt='cx_matrix',\n",
    "    output_fmt='matrix',\n",
    "    subset=None)\n",
    "\n",
    "import pandas as pd\n",
    "sim = pd.DataFrame(sim, columns=sim_names, index=sim_names)\n",
    "\n",
    "sim.head()"
   ]
  },
  {
   "cell_type": "markdown",
   "metadata": {},
   "source": [
    "# The Gene Ontology"
   ]
  },
  {
   "cell_type": "code",
   "execution_count": 5,
   "metadata": {
    "ExecuteTime": {
     "end_time": "2018-11-15T21:25:19.591854Z",
     "start_time": "2018-11-15T21:24:46.107894Z"
    }
   },
   "outputs": [
    {
     "name": "stdout",
     "output_type": "stream",
     "text": [
      "\n",
      "19015 genes, 19343 terms, 215488 gene-term relations, 36362 term-term relations\n",
      "node_attributes: ['Branch', 'name', 'Vis:Shape', 'Vis:Fill Color', 'Vis:Border Paint', 'Term_Description', 'Vis:Size']\n",
      "edge_attributes: ['Vis:Visible']\n"
     ]
    }
   ],
   "source": [
    "# Read Gene Ontology from NDEx. \n",
    "# -- This version has been pre-processed to contain a non-redundant set of GO terms and connections that are relevant to human genes (see Process_the_Gene_Ontology.ipynb) \n",
    "go_human = Ontology.from_ndex(ddot.GO_HUMAN_URL)\n",
    "print(go_human)"
   ]
  }
 ],
 "metadata": {
  "kernelspec": {
   "display_name": "Python [conda env:ddot_py36]",
   "language": "python",
   "name": "conda-env-ddot_py36-py"
  },
  "language_info": {
   "codemirror_mode": {
    "name": "ipython",
    "version": 3
   },
   "file_extension": ".py",
   "mimetype": "text/x-python",
   "name": "python",
   "nbconvert_exporter": "python",
   "pygments_lexer": "ipython3",
   "version": "3.6.5"
  },
  "latex_envs": {
   "LaTeX_envs_menu_present": true,
   "autocomplete": true,
   "bibliofile": "biblio.bib",
   "cite_by": "apalike",
   "current_citInitial": 1,
   "eqLabelWithNumbers": true,
   "eqNumInitial": 1,
   "hotkeys": {
    "equation": "Ctrl-E",
    "itemize": "Ctrl-I"
   },
   "labels_anchors": false,
   "latex_user_defs": false,
   "report_style_numbering": false,
   "user_envs_cfg": false
  },
  "toc": {
   "colors": {
    "hover_highlight": "#DAA520",
    "navigate_num": "#000000",
    "navigate_text": "#333333",
    "running_highlight": "#FF0000",
    "selected_highlight": "#FFD700",
    "sidebar_border": "#EEEEEE",
    "wrapper_background": "#FFFFFF"
   },
   "moveMenuLeft": true,
   "nav_menu": {
    "height": "86px",
    "width": "252px"
   },
   "navigate_menu": true,
   "number_sections": true,
   "sideBar": true,
   "threshold": 4,
   "toc_cell": false,
   "toc_section_display": "block",
   "toc_window_display": false,
   "widenNotebook": false
  }
 },
 "nbformat": 4,
 "nbformat_minor": 2
}
