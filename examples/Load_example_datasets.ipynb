{
 "cells": [
  {
   "cell_type": "markdown",
   "metadata": {},
   "source": [
    "Load datasets used in the manuscript \"A Swiss-Army Knife for Hierarchical Modeling of Biological Systems\" (Yu et al.)"
   ]
  },
  {
   "cell_type": "code",
   "execution_count": 1,
   "metadata": {
    "ExecuteTime": {
     "end_time": "2018-12-04T17:08:25.029675Z",
     "start_time": "2018-12-04T17:08:25.006233Z"
    },
    "collapsed": true
   },
   "outputs": [],
   "source": [
    "%load_ext autoreload\n",
    "%autoreload 2\n",
    "import sys\n",
    "sys.path.insert(0, '/cellar/users/mikeyu/DeepTranslate/ddot')"
   ]
  },
  {
   "cell_type": "code",
   "execution_count": 2,
   "metadata": {
    "ExecuteTime": {
     "end_time": "2018-12-04T17:08:26.489868Z",
     "start_time": "2018-12-04T17:08:25.032637Z"
    },
    "collapsed": true
   },
   "outputs": [],
   "source": [
    "import ddot\n",
    "from ddot import Ontology"
   ]
  },
  {
   "cell_type": "markdown",
   "metadata": {},
   "source": [
    "# Gene-disease associations from Monarch Initiative"
   ]
  },
  {
   "cell_type": "code",
   "execution_count": 3,
   "metadata": {
    "ExecuteTime": {
     "end_time": "2018-12-04T17:08:27.086384Z",
     "start_time": "2018-12-04T17:08:26.503475Z"
    }
   },
   "outputs": [
    {
     "name": "stdout",
     "output_type": "stream",
     "text": [
      "\n"
     ]
    },
    {
     "data": {
      "text/html": [
       "<div>\n",
       "<style scoped>\n",
       "    .dataframe tbody tr th:only-of-type {\n",
       "        vertical-align: middle;\n",
       "    }\n",
       "\n",
       "    .dataframe tbody tr th {\n",
       "        vertical-align: top;\n",
       "    }\n",
       "\n",
       "    .dataframe thead th {\n",
       "        text-align: right;\n",
       "    }\n",
       "</style>\n",
       "<table border=\"1\" class=\"dataframe\">\n",
       "  <thead>\n",
       "    <tr style=\"text-align: right;\">\n",
       "      <th></th>\n",
       "      <th>Node1</th>\n",
       "      <th>Node2</th>\n",
       "      <th>disease</th>\n",
       "      <th>gene</th>\n",
       "      <th>disease_original_name</th>\n",
       "      <th>similarity</th>\n",
       "    </tr>\n",
       "  </thead>\n",
       "  <tbody>\n",
       "    <tr>\n",
       "      <th>0</th>\n",
       "      <td>MIR6084</td>\n",
       "      <td>parkinson_disease_6__autosomal_recessive_early...</td>\n",
       "      <td>parkinson_disease_6__autosomal_recessive_early...</td>\n",
       "      <td>MIR6084</td>\n",
       "      <td>Parkinson Disease 6, Autosomal Recessive Early...</td>\n",
       "      <td>1.0</td>\n",
       "    </tr>\n",
       "    <tr>\n",
       "      <th>1</th>\n",
       "      <td>ELANE</td>\n",
       "      <td>autosomal_dominant_severe_congenital_neutropenia</td>\n",
       "      <td>autosomal_dominant_severe_congenital_neutropenia</td>\n",
       "      <td>ELANE</td>\n",
       "      <td>Autosomal dominant severe congenital neutropenia</td>\n",
       "      <td>1.0</td>\n",
       "    </tr>\n",
       "    <tr>\n",
       "      <th>2</th>\n",
       "      <td>B2M</td>\n",
       "      <td>bare_lymphocyte_syndrome_type_1</td>\n",
       "      <td>bare_lymphocyte_syndrome_type_1</td>\n",
       "      <td>B2M</td>\n",
       "      <td>Bare lymphocyte syndrome type 1</td>\n",
       "      <td>1.0</td>\n",
       "    </tr>\n",
       "    <tr>\n",
       "      <th>3</th>\n",
       "      <td>PDCD10</td>\n",
       "      <td>familial_cerebral_cavernous_malformation</td>\n",
       "      <td>familial_cerebral_cavernous_malformation</td>\n",
       "      <td>PDCD10</td>\n",
       "      <td>Familial cerebral cavernous malformation</td>\n",
       "      <td>1.0</td>\n",
       "    </tr>\n",
       "    <tr>\n",
       "      <th>4</th>\n",
       "      <td>PDCD10</td>\n",
       "      <td>cerebral_cavernous_malformation</td>\n",
       "      <td>cerebral_cavernous_malformation</td>\n",
       "      <td>PDCD10</td>\n",
       "      <td>Cerebral cavernous malformation</td>\n",
       "      <td>1.0</td>\n",
       "    </tr>\n",
       "  </tbody>\n",
       "</table>\n",
       "</div>"
      ],
      "text/plain": [
       "     Node1                                              Node2  \\\n",
       "0  MIR6084  parkinson_disease_6__autosomal_recessive_early...   \n",
       "1    ELANE   autosomal_dominant_severe_congenital_neutropenia   \n",
       "2      B2M                    bare_lymphocyte_syndrome_type_1   \n",
       "3   PDCD10           familial_cerebral_cavernous_malformation   \n",
       "4   PDCD10                    cerebral_cavernous_malformation   \n",
       "\n",
       "                                             disease     gene  \\\n",
       "0  parkinson_disease_6__autosomal_recessive_early...  MIR6084   \n",
       "1   autosomal_dominant_severe_congenital_neutropenia    ELANE   \n",
       "2                    bare_lymphocyte_syndrome_type_1      B2M   \n",
       "3           familial_cerebral_cavernous_malformation   PDCD10   \n",
       "4                    cerebral_cavernous_malformation   PDCD10   \n",
       "\n",
       "                               disease_original_name  similarity  \n",
       "0  Parkinson Disease 6, Autosomal Recessive Early...         1.0  \n",
       "1   Autosomal dominant severe congenital neutropenia         1.0  \n",
       "2                    Bare lymphocyte syndrome type 1         1.0  \n",
       "3           Familial cerebral cavernous malformation         1.0  \n",
       "4                    Cerebral cavernous malformation         1.0  "
      ]
     },
     "execution_count": 3,
     "metadata": {},
     "output_type": "execute_result"
    }
   ],
   "source": [
    "# Retrieve a table of gene-disease associations from the Monarch Initiative (reformatted and stored on NDEx)\n",
    "monarch, _ = ddot.ndex_to_sim_matrix(\n",
    "    ddot.MONARCH_DISEASE_GENE_SLIM_URL,\n",
    "    similarity=None,\n",
    "    input_fmt='cx',\n",
    "    output_fmt='sparse')\n",
    "monarch.head()"
   ]
  },
  {
   "cell_type": "code",
   "execution_count": 5,
   "metadata": {
    "ExecuteTime": {
     "end_time": "2018-12-04T17:09:31.769809Z",
     "start_time": "2018-12-04T17:09:31.112347Z"
    }
   },
   "outputs": [
    {
     "name": "stdout",
     "output_type": "stream",
     "text": [
      "Seed: ['COL1A1', 'A4GALT']\n"
     ]
    }
   ],
   "source": [
    "# Example: get the known genes for \"Caffey Disease\"\n",
    "seed = monarch.loc[monarch['disease']=='caffey_disease', 'gene'].tolist()\n",
    "print('Seed:', seed)"
   ]
  },
  {
   "cell_type": "markdown",
   "metadata": {},
   "source": [
    "# Human gene-gene similarity network"
   ]
  },
  {
   "cell_type": "code",
   "execution_count": 6,
   "metadata": {
    "ExecuteTime": {
     "end_time": "2018-12-04T17:09:49.362434Z",
     "start_time": "2018-12-04T17:09:39.261961Z"
    }
   },
   "outputs": [
    {
     "name": "stdout",
     "output_type": "stream",
     "text": [
      "Requirement already satisfied: simplejson in /cellar/users/mikeyu/anaconda2/lib/python2.7/site-packages (3.11.1)\n",
      "\u001b[33mYou are using pip version 10.0.1, however version 18.1 is available.\n",
      "You should consider upgrading via the 'pip install --upgrade pip' command.\u001b[0m\n"
     ]
    }
   ],
   "source": [
    "# Install the simplejson package (it is recommend you run this in a separate bash terminal, not in this Jupyter notebook. If you want to use a conda virtual environment, then you first need to activate the environment)\n",
    "! pip install simplejson"
   ]
  },
  {
   "cell_type": "code",
   "execution_count": null,
   "metadata": {
    "ExecuteTime": {
     "start_time": "2018-12-04T17:31:03.037Z"
    }
   },
   "outputs": [
    {
     "name": "stdout",
     "output_type": "stream",
     "text": [
      "NDEx download time (sec): 0.07912540435791016\n"
     ]
    }
   ],
   "source": [
    "## Download human gene-gene similarity network from NDEx\n",
    "## -- WARNING: This network is very large (19,009-by-19,009 matrix). Downloading will take ~10 min for a fast internet connection.\n",
    "sim, sim_names = ddot.ndex_to_sim_matrix(\n",
    "    ndex_url=ddot.HUMAN_GENE_SIMILARITIES_URL,\n",
    "    input_fmt='cx_matrix',\n",
    "    output_fmt='matrix',\n",
    "    subset=None)\n",
    "\n",
    "import pandas as pd\n",
    "sim = pd.DataFrame(sim, columns=sim_names, index=sim_names)\n",
    "\n",
    "sim.head()"
   ]
  },
  {
   "cell_type": "markdown",
   "metadata": {},
   "source": [
    "# The Gene Ontology"
   ]
  },
  {
   "cell_type": "code",
   "execution_count": 8,
   "metadata": {
    "ExecuteTime": {
     "end_time": "2018-12-04T17:12:57.026431Z",
     "start_time": "2018-12-04T17:12:24.352410Z"
    }
   },
   "outputs": [
    {
     "name": "stdout",
     "output_type": "stream",
     "text": [
      "\n",
      "19015 genes, 19343 terms, 215488 gene-term relations, 36362 term-term relations\n",
      "node_attributes: ['Vis:Shape', 'Vis:Fill Color', 'Vis:Border Paint', 'Term_Description', 'name', 'Branch']\n",
      "edge_attributes: ['Vis:Visible']\n"
     ]
    }
   ],
   "source": [
    "# Read Gene Ontology from NDEx. \n",
    "# -- This version has been pre-processed to contain a non-redundant set of GO terms and connections that are relevant to human genes (see Process_the_Gene_Ontology.ipynb) \n",
    "go_human = Ontology.from_ndex(ddot.GO_HUMAN_URL)\n",
    "print(go_human)"
   ]
  },
  {
   "cell_type": "markdown",
   "metadata": {},
   "source": [
    "# Fanconi Anemia gene ontology (FanGO)"
   ]
  },
  {
   "cell_type": "code",
   "execution_count": 9,
   "metadata": {
    "ExecuteTime": {
     "end_time": "2018-12-04T17:12:57.646170Z",
     "start_time": "2018-12-04T17:12:57.029719Z"
    }
   },
   "outputs": [
    {
     "ename": "IndexError",
     "evalue": "list index out of range",
     "output_type": "error",
     "traceback": [
      "\u001b[0;31m---------------------------------------------------------------------------\u001b[0m",
      "\u001b[0;31mIndexError\u001b[0m                                Traceback (most recent call last)",
      "\u001b[0;32m<ipython-input-9-abf8c16f2d21>\u001b[0m in \u001b[0;36m<module>\u001b[0;34m()\u001b[0m\n\u001b[0;32m----> 1\u001b[0;31m \u001b[0mfango\u001b[0m \u001b[0;34m=\u001b[0m \u001b[0mOntology\u001b[0m\u001b[0;34m.\u001b[0m\u001b[0mfrom_ndex\u001b[0m\u001b[0;34m(\u001b[0m\u001b[0mddot\u001b[0m\u001b[0;34m.\u001b[0m\u001b[0mFANGO_URL\u001b[0m\u001b[0;34m)\u001b[0m\u001b[0;34m\u001b[0m\u001b[0m\n\u001b[0m\u001b[1;32m      2\u001b[0m \u001b[0mprint\u001b[0m\u001b[0;34m(\u001b[0m\u001b[0mfango\u001b[0m\u001b[0;34m)\u001b[0m\u001b[0;34m\u001b[0m\u001b[0m\n",
      "\u001b[0;32m~/DeepTranslate/ddot/ddot/Ontology.py\u001b[0m in \u001b[0;36mfrom_ndex\u001b[0;34m(cls, ndex_uuid, ndex_user, ndex_pass, ndex_server, edgetype_attr, edgetype_value)\u001b[0m\n\u001b[1;32m   1743\u001b[0m         \u001b[0;32mif\u001b[0m \u001b[0;34m'/'\u001b[0m \u001b[0;32min\u001b[0m \u001b[0mndex_uuid\u001b[0m\u001b[0;34m:\u001b[0m\u001b[0;34m\u001b[0m\u001b[0m\n\u001b[1;32m   1744\u001b[0m             \u001b[0mndex_server\u001b[0m \u001b[0;34m=\u001b[0m \u001b[0mparse_ndex_server\u001b[0m\u001b[0;34m(\u001b[0m\u001b[0mndex_uuid\u001b[0m\u001b[0;34m)\u001b[0m\u001b[0;34m\u001b[0m\u001b[0m\n\u001b[0;32m-> 1745\u001b[0;31m             \u001b[0mndex_uuid\u001b[0m \u001b[0;34m=\u001b[0m \u001b[0mparse_ndex_uuid\u001b[0m\u001b[0;34m(\u001b[0m\u001b[0mndex_uuid\u001b[0m\u001b[0;34m)\u001b[0m\u001b[0;34m\u001b[0m\u001b[0m\n\u001b[0m\u001b[1;32m   1746\u001b[0m \u001b[0;34m\u001b[0m\u001b[0m\n\u001b[1;32m   1747\u001b[0m         G = NdexGraph(\n",
      "\u001b[0;32m~/DeepTranslate/ddot/ddot/utils.py\u001b[0m in \u001b[0;36mparse_ndex_uuid\u001b[0;34m(ndex_url)\u001b[0m\n\u001b[1;32m    609\u001b[0m \u001b[0;34m\u001b[0m\u001b[0m\n\u001b[1;32m    610\u001b[0m     \"\"\"\n\u001b[0;32m--> 611\u001b[0;31m     \u001b[0;32mreturn\u001b[0m \u001b[0mndex_url\u001b[0m\u001b[0;34m.\u001b[0m\u001b[0msplit\u001b[0m\u001b[0;34m(\u001b[0m\u001b[0;34m'v2/network/'\u001b[0m\u001b[0;34m)\u001b[0m\u001b[0;34m[\u001b[0m\u001b[0;36m1\u001b[0m\u001b[0;34m]\u001b[0m\u001b[0;34m\u001b[0m\u001b[0m\n\u001b[0m\u001b[1;32m    612\u001b[0m \u001b[0;34m\u001b[0m\u001b[0m\n\u001b[1;32m    613\u001b[0m \u001b[0;32mdef\u001b[0m \u001b[0mparse_ndex_server\u001b[0m\u001b[0;34m(\u001b[0m\u001b[0mndex_url\u001b[0m\u001b[0;34m)\u001b[0m\u001b[0;34m:\u001b[0m\u001b[0;34m\u001b[0m\u001b[0m\n",
      "\u001b[0;31mIndexError\u001b[0m: list index out of range"
     ]
    }
   ],
   "source": [
    "fango = Ontology.from_ndex(ddot.FANGO_URL)\n",
    "print(fango)"
   ]
  },
  {
   "cell_type": "markdown",
   "metadata": {},
   "source": [
    "# Other disease gene ontologies (based on gene-disease associations in Monarch Initiative)"
   ]
  },
  {
   "cell_type": "code",
   "execution_count": 17,
   "metadata": {
    "ExecuteTime": {
     "end_time": "2018-12-04T17:03:30.901916Z",
     "start_time": "2018-12-04T17:03:30.867954Z"
    }
   },
   "outputs": [
    {
     "data": {
      "text/html": [
       "<div>\n",
       "<style scoped>\n",
       "    .dataframe tbody tr th:only-of-type {\n",
       "        vertical-align: middle;\n",
       "    }\n",
       "\n",
       "    .dataframe tbody tr th {\n",
       "        vertical-align: top;\n",
       "    }\n",
       "\n",
       "    .dataframe thead th {\n",
       "        text-align: right;\n",
       "    }\n",
       "</style>\n",
       "<table border=\"1\" class=\"dataframe\">\n",
       "  <thead>\n",
       "    <tr style=\"text-align: right;\">\n",
       "      <th></th>\n",
       "      <th>Disease</th>\n",
       "      <th>Total_Genes</th>\n",
       "      <th>Seed_Genes</th>\n",
       "      <th>Subsystems</th>\n",
       "      <th>Subsystems_Aligned_to_GO</th>\n",
       "      <th>NDEx_URL</th>\n",
       "      <th>HiView_URL</th>\n",
       "    </tr>\n",
       "  </thead>\n",
       "  <tbody>\n",
       "    <tr>\n",
       "      <th>0</th>\n",
       "      <td>rickets</td>\n",
       "      <td>481</td>\n",
       "      <td>4</td>\n",
       "      <td>209</td>\n",
       "      <td>109</td>\n",
       "      <td>http://public.ndexbio.org/v2/network/b2494349-...</td>\n",
       "      <td>http://hiview.ucsd.edu/b2494349-f775-11e8-aaa6...</td>\n",
       "    </tr>\n",
       "    <tr>\n",
       "      <th>1</th>\n",
       "      <td>hyperlipoproteinemias</td>\n",
       "      <td>434</td>\n",
       "      <td>5</td>\n",
       "      <td>185</td>\n",
       "      <td>107</td>\n",
       "      <td>http://public.ndexbio.org/v2/network/25726bc9-...</td>\n",
       "      <td>http://hiview.ucsd.edu/25726bc9-f775-11e8-aaa6...</td>\n",
       "    </tr>\n",
       "    <tr>\n",
       "      <th>2</th>\n",
       "      <td>bronchitis__chronic</td>\n",
       "      <td>487</td>\n",
       "      <td>2</td>\n",
       "      <td>207</td>\n",
       "      <td>106</td>\n",
       "      <td>http://public.ndexbio.org/v2/network/caba1662-...</td>\n",
       "      <td>http://hiview.ucsd.edu/caba1662-f774-11e8-aaa6...</td>\n",
       "    </tr>\n",
       "    <tr>\n",
       "      <th>3</th>\n",
       "      <td>aplastic_anemia__aa_</td>\n",
       "      <td>474</td>\n",
       "      <td>2</td>\n",
       "      <td>209</td>\n",
       "      <td>101</td>\n",
       "      <td>http://public.ndexbio.org/v2/network/9a11b9c8-...</td>\n",
       "      <td>http://hiview.ucsd.edu/9a11b9c8-f774-11e8-aaa6...</td>\n",
       "    </tr>\n",
       "    <tr>\n",
       "      <th>4</th>\n",
       "      <td>hydronephrosis</td>\n",
       "      <td>411</td>\n",
       "      <td>3</td>\n",
       "      <td>157</td>\n",
       "      <td>97</td>\n",
       "      <td>http://public.ndexbio.org/v2/network/1b21bc44-...</td>\n",
       "      <td>http://hiview.ucsd.edu/1b21bc44-f775-11e8-aaa6...</td>\n",
       "    </tr>\n",
       "  </tbody>\n",
       "</table>\n",
       "</div>"
      ],
      "text/plain": [
       "                 Disease  Total_Genes  Seed_Genes  Subsystems  \\\n",
       "0                rickets          481           4         209   \n",
       "1  hyperlipoproteinemias          434           5         185   \n",
       "2    bronchitis__chronic          487           2         207   \n",
       "3   aplastic_anemia__aa_          474           2         209   \n",
       "4         hydronephrosis          411           3         157   \n",
       "\n",
       "   Subsystems_Aligned_to_GO  \\\n",
       "0                       109   \n",
       "1                       107   \n",
       "2                       106   \n",
       "3                       101   \n",
       "4                        97   \n",
       "\n",
       "                                            NDEx_URL  \\\n",
       "0  http://public.ndexbio.org/v2/network/b2494349-...   \n",
       "1  http://public.ndexbio.org/v2/network/25726bc9-...   \n",
       "2  http://public.ndexbio.org/v2/network/caba1662-...   \n",
       "3  http://public.ndexbio.org/v2/network/9a11b9c8-...   \n",
       "4  http://public.ndexbio.org/v2/network/1b21bc44-...   \n",
       "\n",
       "                                          HiView_URL  \n",
       "0  http://hiview.ucsd.edu/b2494349-f775-11e8-aaa6...  \n",
       "1  http://hiview.ucsd.edu/25726bc9-f775-11e8-aaa6...  \n",
       "2  http://hiview.ucsd.edu/caba1662-f774-11e8-aaa6...  \n",
       "3  http://hiview.ucsd.edu/9a11b9c8-f774-11e8-aaa6...  \n",
       "4  http://hiview.ucsd.edu/1b21bc44-f775-11e8-aaa6...  "
      ]
     },
     "execution_count": 17,
     "metadata": {},
     "output_type": "execute_result"
    }
   ],
   "source": [
    "df = pd.read_table('disease_gene_ontologies.txt', header=0, index_col=False)\n",
    "df.head()"
   ]
  },
  {
   "cell_type": "code",
   "execution_count": null,
   "metadata": {
    "collapsed": true
   },
   "outputs": [],
   "source": [
    "# Example: get the URL to view the disease \"hydronephrosis\" on HiView\n",
    "print(df.loc[df['Disease']=='hydronephrosis']['HiView_URL'])"
   ]
  }
 ],
 "metadata": {
  "kernelspec": {
   "display_name": "Python [conda env:ddot_py36]",
   "language": "python",
   "name": "conda-env-ddot_py36-py"
  },
  "language_info": {
   "codemirror_mode": {
    "name": "ipython",
    "version": 3
   },
   "file_extension": ".py",
   "mimetype": "text/x-python",
   "name": "python",
   "nbconvert_exporter": "python",
   "pygments_lexer": "ipython3",
   "version": "3.6.5"
  },
  "latex_envs": {
   "LaTeX_envs_menu_present": true,
   "autocomplete": true,
   "bibliofile": "biblio.bib",
   "cite_by": "apalike",
   "current_citInitial": 1,
   "eqLabelWithNumbers": true,
   "eqNumInitial": 1,
   "hotkeys": {
    "equation": "Ctrl-E",
    "itemize": "Ctrl-I"
   },
   "labels_anchors": false,
   "latex_user_defs": false,
   "report_style_numbering": false,
   "user_envs_cfg": false
  },
  "toc": {
   "colors": {
    "hover_highlight": "#DAA520",
    "navigate_num": "#000000",
    "navigate_text": "#333333",
    "running_highlight": "#FF0000",
    "selected_highlight": "#FFD700",
    "sidebar_border": "#EEEEEE",
    "wrapper_background": "#FFFFFF"
   },
   "moveMenuLeft": true,
   "nav_menu": {
    "height": "86px",
    "width": "252px"
   },
   "navigate_menu": true,
   "number_sections": true,
   "sideBar": true,
   "threshold": 4,
   "toc_cell": false,
   "toc_section_display": "block",
   "toc_window_display": false,
   "widenNotebook": false
  }
 },
 "nbformat": 4,
 "nbformat_minor": 2
}
