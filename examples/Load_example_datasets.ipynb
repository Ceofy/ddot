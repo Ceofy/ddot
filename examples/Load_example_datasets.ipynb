{
 "cells": [
  {
   "cell_type": "markdown",
   "metadata": {},
   "source": [
    "Load datasets used in the manuscript \"A Swiss-Army Knife for Hierarchical Modeling of Biological Systems\" (Yu et al.)"
   ]
  },
  {
   "cell_type": "code",
   "execution_count": null,
   "metadata": {
    "ExecuteTime": {
     "end_time": "2018-12-04T17:08:26.489868Z",
     "start_time": "2018-12-04T17:08:25.032637Z"
    },
    "collapsed": true
   },
   "outputs": [],
   "source": [
    "import ddot\n",
    "from ddot import Ontology"
   ]
  },
  {
   "cell_type": "markdown",
   "metadata": {},
   "source": [
    "# Gene-disease associations from Monarch Initiative"
   ]
  },
  {
   "cell_type": "code",
   "execution_count": null,
   "metadata": {
    "ExecuteTime": {
     "end_time": "2018-12-04T17:08:27.086384Z",
     "start_time": "2018-12-04T17:08:26.503475Z"
    }
   },
   "outputs": [],
   "source": [
    "# Retrieve a table of gene-disease associations from the Monarch Initiative (reformatted and stored on NDEx)\n",
    "monarch, _ = ddot.ndex_to_sim_matrix(\n",
    "    ddot.MONARCH_DISEASE_GENE_SLIM_URL,\n",
    "    similarity=None,\n",
    "    input_fmt='cx',\n",
    "    output_fmt='sparse')\n",
    "monarch.head()"
   ]
  },
  {
   "cell_type": "code",
   "execution_count": null,
   "metadata": {
    "ExecuteTime": {
     "end_time": "2018-12-04T17:09:31.769809Z",
     "start_time": "2018-12-04T17:09:31.112347Z"
    }
   },
   "outputs": [],
   "source": [
    "# Example: get the known genes for \"Caffey Disease\"\n",
    "seed = monarch.loc[monarch['disease']=='caffey_disease', 'gene'].tolist()\n",
    "print('Seed:', seed)"
   ]
  },
  {
   "cell_type": "markdown",
   "metadata": {},
   "source": [
    "# Human gene-gene similarity network"
   ]
  },
  {
   "cell_type": "code",
   "execution_count": null,
   "metadata": {
    "ExecuteTime": {
     "end_time": "2018-12-04T17:09:49.362434Z",
     "start_time": "2018-12-04T17:09:39.261961Z"
    }
   },
   "outputs": [],
   "source": [
    "# Install the simplejson package (it is recommend you run this in a separate bash terminal, not in this Jupyter notebook. If you want to use a conda virtual environment, then you first need to activate the environment)\n",
    "! pip install simplejson"
   ]
  },
  {
   "cell_type": "code",
   "execution_count": null,
   "metadata": {
    "ExecuteTime": {
     "end_time": "2018-12-04T17:37:25.071337Z",
     "start_time": "2018-12-04T17:30:59.463730Z"
    }
   },
   "outputs": [],
   "source": [
    "## Download human gene-gene similarity network from NDEx\n",
    "## -- WARNING: This network is very large (19,009-by-19,009 matrix). Downloading will take ~10 min for a fast internet connection.\n",
    "sim, sim_names = ddot.ndex_to_sim_matrix(\n",
    "    ndex_url=ddot.HUMAN_GENE_SIMILARITIES_URL,\n",
    "    input_fmt='cx_matrix',\n",
    "    output_fmt='matrix',\n",
    "    subset=None)\n",
    "\n",
    "import pandas as pd\n",
    "sim = pd.DataFrame(sim, columns=sim_names, index=sim_names)\n",
    "\n",
    "sim.head()"
   ]
  },
  {
   "cell_type": "markdown",
   "metadata": {},
   "source": [
    "# The Gene Ontology"
   ]
  },
  {
   "cell_type": "code",
   "execution_count": null,
   "metadata": {
    "ExecuteTime": {
     "end_time": "2018-12-04T17:12:57.026431Z",
     "start_time": "2018-12-04T17:12:24.352410Z"
    }
   },
   "outputs": [],
   "source": [
    "# Read Gene Ontology from NDEx. \n",
    "# -- This version has been pre-processed to contain a non-redundant set of GO terms and connections that are relevant to human genes (see Process_the_Gene_Ontology.ipynb) \n",
    "go_human = Ontology.from_ndex(ddot.GO_HUMAN_URL)\n",
    "print(go_human)"
   ]
  },
  {
   "cell_type": "markdown",
   "metadata": {},
   "source": [
    "# Fanconi Anemia gene ontology (FanGO)"
   ]
  },
  {
   "cell_type": "code",
   "execution_count": null,
   "metadata": {
    "ExecuteTime": {
     "end_time": "2018-12-04T17:12:57.646170Z",
     "start_time": "2018-12-04T17:12:57.029719Z"
    }
   },
   "outputs": [],
   "source": [
    "fango = Ontology.from_ndex(ddot.FANGO_URL)\n",
    "print(fango)"
   ]
  },
  {
   "cell_type": "markdown",
   "metadata": {},
   "source": [
    "# Other disease gene ontologies (based on gene-disease associations in Monarch Initiative)"
   ]
  },
  {
   "cell_type": "code",
   "execution_count": null,
   "metadata": {
    "ExecuteTime": {
     "end_time": "2018-12-04T18:00:16.006545Z",
     "start_time": "2018-12-04T18:00:15.942416Z"
    }
   },
   "outputs": [],
   "source": [
    "import pandas as pd\n",
    "df = pd.read_table('disease_gene_ontologies.txt', header=0, index_col=False)\n",
    "df = df.set_index('Disease')\n",
    "df.head()"
   ]
  },
  {
   "cell_type": "code",
   "execution_count": null,
   "metadata": {
    "ExecuteTime": {
     "end_time": "2018-12-04T18:00:34.891429Z",
     "start_time": "2018-12-04T18:00:34.862923Z"
    }
   },
   "outputs": [],
   "source": [
    "# Example: get the URL to view the disease \"hydronephrosis\" on HiView\n",
    "print(df.loc['hydronephrosis', 'HiView_URL'])"
   ]
  }
 ],
 "metadata": {
  "kernelspec": {
   "display_name": "Python [conda env:ddot_py36]",
   "language": "python",
   "name": "conda-env-ddot_py36-py"
  },
  "language_info": {
   "codemirror_mode": {
    "name": "ipython",
    "version": 3
   },
   "file_extension": ".py",
   "mimetype": "text/x-python",
   "name": "python",
   "nbconvert_exporter": "python",
   "pygments_lexer": "ipython3",
   "version": "3.6.5"
  },
  "latex_envs": {
   "LaTeX_envs_menu_present": true,
   "autocomplete": true,
   "bibliofile": "biblio.bib",
   "cite_by": "apalike",
   "current_citInitial": 1,
   "eqLabelWithNumbers": true,
   "eqNumInitial": 1,
   "hotkeys": {
    "equation": "Ctrl-E",
    "itemize": "Ctrl-I"
   },
   "labels_anchors": false,
   "latex_user_defs": false,
   "report_style_numbering": false,
   "user_envs_cfg": false
  },
  "toc": {
   "colors": {
    "hover_highlight": "#DAA520",
    "navigate_num": "#000000",
    "navigate_text": "#333333",
    "running_highlight": "#FF0000",
    "selected_highlight": "#FFD700",
    "sidebar_border": "#EEEEEE",
    "wrapper_background": "#FFFFFF"
   },
   "moveMenuLeft": true,
   "nav_menu": {
    "height": "86px",
    "width": "252px"
   },
   "navigate_menu": true,
   "number_sections": true,
   "sideBar": true,
   "threshold": 4,
   "toc_cell": false,
   "toc_section_display": "block",
   "toc_window_display": false,
   "widenNotebook": false
  }
 },
 "nbformat": 4,
 "nbformat_minor": 2
}
