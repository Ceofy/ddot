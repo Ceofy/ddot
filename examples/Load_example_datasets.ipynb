{
 "cells": [
  {
   "cell_type": "code",
   "execution_count": 19,
   "metadata": {
    "ExecuteTime": {
     "end_time": "2018-11-08T17:38:34.652157Z",
     "start_time": "2018-11-08T17:38:34.649660Z"
    }
   },
   "outputs": [],
   "source": [
    "import ddot\n",
    "from ddot import Ontology"
   ]
  },
  {
   "cell_type": "markdown",
   "metadata": {},
   "source": [
    "# Load gene-disease associations from Monarch Initiative"
   ]
  },
  {
   "cell_type": "code",
   "execution_count": 5,
   "metadata": {
    "ExecuteTime": {
     "end_time": "2018-11-07T20:21:33.027411Z",
     "start_time": "2018-11-07T20:21:32.619940Z"
    }
   },
   "outputs": [
    {
     "name": "stdout",
     "output_type": "stream",
     "text": [
      "\n"
     ]
    },
    {
     "data": {
      "text/html": [
       "<div>\n",
       "<style scoped>\n",
       "    .dataframe tbody tr th:only-of-type {\n",
       "        vertical-align: middle;\n",
       "    }\n",
       "\n",
       "    .dataframe tbody tr th {\n",
       "        vertical-align: top;\n",
       "    }\n",
       "\n",
       "    .dataframe thead th {\n",
       "        text-align: right;\n",
       "    }\n",
       "</style>\n",
       "<table border=\"1\" class=\"dataframe\">\n",
       "  <thead>\n",
       "    <tr style=\"text-align: right;\">\n",
       "      <th></th>\n",
       "      <th>Node1</th>\n",
       "      <th>Node2</th>\n",
       "      <th>disease</th>\n",
       "      <th>gene</th>\n",
       "      <th>disease_original_name</th>\n",
       "      <th>similarity</th>\n",
       "    </tr>\n",
       "  </thead>\n",
       "  <tbody>\n",
       "    <tr>\n",
       "      <th>0</th>\n",
       "      <td>MIR6084</td>\n",
       "      <td>parkinson_disease_6__autosomal_recessive_early...</td>\n",
       "      <td>parkinson_disease_6__autosomal_recessive_early...</td>\n",
       "      <td>MIR6084</td>\n",
       "      <td>Parkinson Disease 6, Autosomal Recessive Early...</td>\n",
       "      <td>1.0</td>\n",
       "    </tr>\n",
       "    <tr>\n",
       "      <th>1</th>\n",
       "      <td>ELANE</td>\n",
       "      <td>autosomal_dominant_severe_congenital_neutropenia</td>\n",
       "      <td>autosomal_dominant_severe_congenital_neutropenia</td>\n",
       "      <td>ELANE</td>\n",
       "      <td>Autosomal dominant severe congenital neutropenia</td>\n",
       "      <td>1.0</td>\n",
       "    </tr>\n",
       "    <tr>\n",
       "      <th>2</th>\n",
       "      <td>B2M</td>\n",
       "      <td>bare_lymphocyte_syndrome_type_1</td>\n",
       "      <td>bare_lymphocyte_syndrome_type_1</td>\n",
       "      <td>B2M</td>\n",
       "      <td>Bare lymphocyte syndrome type 1</td>\n",
       "      <td>1.0</td>\n",
       "    </tr>\n",
       "    <tr>\n",
       "      <th>3</th>\n",
       "      <td>PDCD10</td>\n",
       "      <td>familial_cerebral_cavernous_malformation</td>\n",
       "      <td>familial_cerebral_cavernous_malformation</td>\n",
       "      <td>PDCD10</td>\n",
       "      <td>Familial cerebral cavernous malformation</td>\n",
       "      <td>1.0</td>\n",
       "    </tr>\n",
       "    <tr>\n",
       "      <th>4</th>\n",
       "      <td>PDCD10</td>\n",
       "      <td>cerebral_cavernous_malformation</td>\n",
       "      <td>cerebral_cavernous_malformation</td>\n",
       "      <td>PDCD10</td>\n",
       "      <td>Cerebral cavernous malformation</td>\n",
       "      <td>1.0</td>\n",
       "    </tr>\n",
       "  </tbody>\n",
       "</table>\n",
       "</div>"
      ],
      "text/plain": [
       "     Node1                                              Node2  \\\n",
       "0  MIR6084  parkinson_disease_6__autosomal_recessive_early...   \n",
       "1    ELANE   autosomal_dominant_severe_congenital_neutropenia   \n",
       "2      B2M                    bare_lymphocyte_syndrome_type_1   \n",
       "3   PDCD10           familial_cerebral_cavernous_malformation   \n",
       "4   PDCD10                    cerebral_cavernous_malformation   \n",
       "\n",
       "                                             disease     gene  \\\n",
       "0  parkinson_disease_6__autosomal_recessive_early...  MIR6084   \n",
       "1   autosomal_dominant_severe_congenital_neutropenia    ELANE   \n",
       "2                    bare_lymphocyte_syndrome_type_1      B2M   \n",
       "3           familial_cerebral_cavernous_malformation   PDCD10   \n",
       "4                    cerebral_cavernous_malformation   PDCD10   \n",
       "\n",
       "                               disease_original_name  similarity  \n",
       "0  Parkinson Disease 6, Autosomal Recessive Early...         1.0  \n",
       "1   Autosomal dominant severe congenital neutropenia         1.0  \n",
       "2                    Bare lymphocyte syndrome type 1         1.0  \n",
       "3           Familial cerebral cavernous malformation         1.0  \n",
       "4                    Cerebral cavernous malformation         1.0  "
      ]
     },
     "execution_count": 5,
     "metadata": {},
     "output_type": "execute_result"
    }
   ],
   "source": [
    "# Retrieve a table of gene-disease associations from the Monarch Initiative (reformatted and stored on NDEx)\n",
    "monarch, _ = ddot.ndex_to_sim_matrix(\n",
    "    ddot.config.MONARCH_DISEASE_GENE_SLIM_URL,\n",
    "    similarity=None,\n",
    "    input_fmt='cx',\n",
    "    output_fmt='sparse')\n",
    "monarch.head()"
   ]
  },
  {
   "cell_type": "code",
   "execution_count": 6,
   "metadata": {
    "ExecuteTime": {
     "end_time": "2018-11-07T20:21:37.618835Z",
     "start_time": "2018-11-07T20:21:37.611646Z"
    }
   },
   "outputs": [
    {
     "name": "stdout",
     "output_type": "stream",
     "text": [
      "Seed: ['COL1A1', 'A4GALT']\n"
     ]
    }
   ],
   "source": [
    "# Example: get the known genes for Caffey Disease\n",
    "seed = monarch.loc[monarch['disease']=='caffey_disease', 'gene'].tolist()\n",
    "print('Seed:', seed)"
   ]
  },
  {
   "cell_type": "markdown",
   "metadata": {},
   "source": [
    "# Read gene-gene integrated similarity network"
   ]
  },
  {
   "cell_type": "code",
   "execution_count": null,
   "metadata": {
    "collapsed": true
   },
   "outputs": [],
   "source": [
    "# Install the simplejson package (it may be easier to run this in a separate terminal).\n",
    "! pip install simplejson"
   ]
  },
  {
   "cell_type": "code",
   "execution_count": 12,
   "metadata": {
    "ExecuteTime": {
     "end_time": "2018-11-08T17:34:37.829528Z",
     "start_time": "2018-11-08T17:34:37.630072Z"
    }
   },
   "outputs": [
    {
     "ename": "HTTPError",
     "evalue": "401 Client Error:  for url: http://test.ndexbio.org/v2/network/d2dfa5cc-56de-11e7-a2e2-0660b7976219",
     "output_type": "error",
     "traceback": [
      "\u001b[0;31m---------------------------------------------------------------------------\u001b[0m",
      "\u001b[0;31mHTTPError\u001b[0m                                 Traceback (most recent call last)",
      "\u001b[0;32m<ipython-input-12-45e9a71c87b4>\u001b[0m in \u001b[0;36m<module>\u001b[0;34m()\u001b[0m\n\u001b[1;32m      5\u001b[0m     \u001b[0minput_fmt\u001b[0m\u001b[0;34m=\u001b[0m\u001b[0;34m'cx_matrix'\u001b[0m\u001b[0;34m,\u001b[0m\u001b[0;34m\u001b[0m\u001b[0m\n\u001b[1;32m      6\u001b[0m     \u001b[0moutput_fmt\u001b[0m\u001b[0;34m=\u001b[0m\u001b[0;34m'matrix'\u001b[0m\u001b[0;34m,\u001b[0m\u001b[0;34m\u001b[0m\u001b[0m\n\u001b[0;32m----> 7\u001b[0;31m     subset=None)\n\u001b[0m\u001b[1;32m      8\u001b[0m \u001b[0msim\u001b[0m \u001b[0;34m=\u001b[0m \u001b[0mpd\u001b[0m\u001b[0;34m.\u001b[0m\u001b[0mDataFrame\u001b[0m\u001b[0;34m(\u001b[0m\u001b[0msim\u001b[0m\u001b[0;34m,\u001b[0m \u001b[0mcolumns\u001b[0m\u001b[0;34m=\u001b[0m\u001b[0msim_names\u001b[0m\u001b[0;34m,\u001b[0m \u001b[0mindex\u001b[0m\u001b[0;34m=\u001b[0m\u001b[0msim_names\u001b[0m\u001b[0;34m)\u001b[0m\u001b[0;34m\u001b[0m\u001b[0m\n\u001b[1;32m      9\u001b[0m \u001b[0;34m\u001b[0m\u001b[0m\n",
      "\u001b[0;32m~/anaconda2/envs/ddot_py36/lib/python3.6/site-packages/ddot/utils.py\u001b[0m in \u001b[0;36mndex_to_sim_matrix\u001b[0;34m(ndex_uuid, ndex_server, ndex_user, ndex_pass, similarity, input_fmt, output_fmt, subset)\u001b[0m\n\u001b[1;32m    890\u001b[0m             \u001b[0mndex_server\u001b[0m\u001b[0;34m,\u001b[0m\u001b[0;34m\u001b[0m\u001b[0m\n\u001b[1;32m    891\u001b[0m             \u001b[0mndex_user\u001b[0m\u001b[0;34m,\u001b[0m\u001b[0;34m\u001b[0m\u001b[0m\n\u001b[0;32m--> 892\u001b[0;31m             ndex_pass)\n\u001b[0m\u001b[1;32m    893\u001b[0m         \u001b[0;32massert\u001b[0m \u001b[0msim_names\u001b[0m \u001b[0;34m==\u001b[0m \u001b[0msim_names_col\u001b[0m\u001b[0;34m\u001b[0m\u001b[0m\n\u001b[1;32m    894\u001b[0m \u001b[0;34m\u001b[0m\u001b[0m\n",
      "\u001b[0;32m~/anaconda2/envs/ddot_py36/lib/python3.6/site-packages/ddot/utils.py\u001b[0m in \u001b[0;36mload_edgeMatrix\u001b[0;34m(ndex_uuid, ndex_server, ndex_user, ndex_pass, ndex, json, verbose)\u001b[0m\n\u001b[1;32m    707\u001b[0m \u001b[0;34m\u001b[0m\u001b[0m\n\u001b[1;32m    708\u001b[0m     \u001b[0mstart\u001b[0m \u001b[0;34m=\u001b[0m \u001b[0mtime\u001b[0m\u001b[0;34m.\u001b[0m\u001b[0mtime\u001b[0m\u001b[0;34m(\u001b[0m\u001b[0;34m)\u001b[0m\u001b[0;34m\u001b[0m\u001b[0m\n\u001b[0;32m--> 709\u001b[0;31m     \u001b[0mresponse\u001b[0m \u001b[0;34m=\u001b[0m \u001b[0mndex\u001b[0m\u001b[0;34m.\u001b[0m\u001b[0mget_network_as_cx_stream\u001b[0m\u001b[0;34m(\u001b[0m\u001b[0mndex_uuid\u001b[0m\u001b[0;34m)\u001b[0m\u001b[0;34m\u001b[0m\u001b[0m\n\u001b[0m\u001b[1;32m    710\u001b[0m     \u001b[0;32mif\u001b[0m \u001b[0mverbose\u001b[0m\u001b[0;34m:\u001b[0m\u001b[0;34m\u001b[0m\u001b[0m\n\u001b[1;32m    711\u001b[0m         \u001b[0mprint\u001b[0m\u001b[0;34m(\u001b[0m\u001b[0;34m'NDEx download time (sec):'\u001b[0m\u001b[0;34m,\u001b[0m \u001b[0mtime\u001b[0m\u001b[0;34m.\u001b[0m\u001b[0mtime\u001b[0m\u001b[0;34m(\u001b[0m\u001b[0;34m)\u001b[0m \u001b[0;34m-\u001b[0m \u001b[0mstart\u001b[0m\u001b[0;34m)\u001b[0m\u001b[0;34m\u001b[0m\u001b[0m\n",
      "\u001b[0;32m~/anaconda2/envs/ddot_py36/lib/python3.6/site-packages/ndex/client.py\u001b[0m in \u001b[0;36mget_network_as_cx_stream\u001b[0;34m(self, network_id)\u001b[0m\n\u001b[1;32m    350\u001b[0m             \u001b[0mroute\u001b[0m \u001b[0;34m=\u001b[0m \u001b[0;34m\"/network/%s/asCX\"\u001b[0m \u001b[0;34m%\u001b[0m \u001b[0;34m(\u001b[0m\u001b[0mnetwork_id\u001b[0m\u001b[0;34m)\u001b[0m\u001b[0;34m\u001b[0m\u001b[0m\n\u001b[1;32m    351\u001b[0m \u001b[0;34m\u001b[0m\u001b[0m\n\u001b[0;32m--> 352\u001b[0;31m         \u001b[0;32mreturn\u001b[0m \u001b[0mself\u001b[0m\u001b[0;34m.\u001b[0m\u001b[0mget_stream\u001b[0m\u001b[0;34m(\u001b[0m\u001b[0mroute\u001b[0m\u001b[0;34m)\u001b[0m\u001b[0;34m\u001b[0m\u001b[0m\n\u001b[0m\u001b[1;32m    353\u001b[0m \u001b[0;34m\u001b[0m\u001b[0m\n\u001b[1;32m    354\u001b[0m     \u001b[0;31m# Get a CX stream for a aspect of a network\u001b[0m\u001b[0;34m\u001b[0m\u001b[0;34m\u001b[0m\u001b[0m\n",
      "\u001b[0;32m~/anaconda2/envs/ddot_py36/lib/python3.6/site-packages/ndex/client.py\u001b[0m in \u001b[0;36mget_stream\u001b[0;34m(self, route, get_params)\u001b[0m\n\u001b[1;32m    185\u001b[0m         \u001b[0mresponse\u001b[0m \u001b[0;34m=\u001b[0m \u001b[0mself\u001b[0m\u001b[0;34m.\u001b[0m\u001b[0ms\u001b[0m\u001b[0;34m.\u001b[0m\u001b[0mget\u001b[0m\u001b[0;34m(\u001b[0m\u001b[0murl\u001b[0m\u001b[0;34m,\u001b[0m \u001b[0mparams\u001b[0m \u001b[0;34m=\u001b[0m \u001b[0mget_params\u001b[0m\u001b[0;34m,\u001b[0m \u001b[0mstream\u001b[0m \u001b[0;34m=\u001b[0m \u001b[0;32mTrue\u001b[0m\u001b[0;34m,\u001b[0m\u001b[0mheaders\u001b[0m \u001b[0;34m=\u001b[0m \u001b[0mheaders\u001b[0m\u001b[0;34m)\u001b[0m\u001b[0;34m\u001b[0m\u001b[0m\n\u001b[1;32m    186\u001b[0m         \u001b[0mself\u001b[0m\u001b[0;34m.\u001b[0m\u001b[0mdebug_response\u001b[0m\u001b[0;34m(\u001b[0m\u001b[0mresponse\u001b[0m\u001b[0;34m)\u001b[0m\u001b[0;34m\u001b[0m\u001b[0m\n\u001b[0;32m--> 187\u001b[0;31m         \u001b[0mresponse\u001b[0m\u001b[0;34m.\u001b[0m\u001b[0mraise_for_status\u001b[0m\u001b[0;34m(\u001b[0m\u001b[0;34m)\u001b[0m\u001b[0;34m\u001b[0m\u001b[0m\n\u001b[0m\u001b[1;32m    188\u001b[0m         \u001b[0;32mif\u001b[0m \u001b[0mresponse\u001b[0m\u001b[0;34m.\u001b[0m\u001b[0mstatus_code\u001b[0m \u001b[0;34m==\u001b[0m \u001b[0;36m204\u001b[0m\u001b[0;34m:\u001b[0m\u001b[0;34m\u001b[0m\u001b[0m\n\u001b[1;32m    189\u001b[0m             \u001b[0;32mreturn\u001b[0m \u001b[0;34m\"\"\u001b[0m\u001b[0;34m\u001b[0m\u001b[0m\n",
      "\u001b[0;32m~/anaconda2/envs/ddot_py36/lib/python3.6/site-packages/requests/models.py\u001b[0m in \u001b[0;36mraise_for_status\u001b[0;34m(self)\u001b[0m\n\u001b[1;32m    933\u001b[0m \u001b[0;34m\u001b[0m\u001b[0m\n\u001b[1;32m    934\u001b[0m         \u001b[0;32mif\u001b[0m \u001b[0mhttp_error_msg\u001b[0m\u001b[0;34m:\u001b[0m\u001b[0;34m\u001b[0m\u001b[0m\n\u001b[0;32m--> 935\u001b[0;31m             \u001b[0;32mraise\u001b[0m \u001b[0mHTTPError\u001b[0m\u001b[0;34m(\u001b[0m\u001b[0mhttp_error_msg\u001b[0m\u001b[0;34m,\u001b[0m \u001b[0mresponse\u001b[0m\u001b[0;34m=\u001b[0m\u001b[0mself\u001b[0m\u001b[0;34m)\u001b[0m\u001b[0;34m\u001b[0m\u001b[0m\n\u001b[0m\u001b[1;32m    936\u001b[0m \u001b[0;34m\u001b[0m\u001b[0m\n\u001b[1;32m    937\u001b[0m     \u001b[0;32mdef\u001b[0m \u001b[0mclose\u001b[0m\u001b[0;34m(\u001b[0m\u001b[0mself\u001b[0m\u001b[0;34m)\u001b[0m\u001b[0;34m:\u001b[0m\u001b[0;34m\u001b[0m\u001b[0m\n",
      "\u001b[0;31mHTTPError\u001b[0m: 401 Client Error:  for url: http://test.ndexbio.org/v2/network/d2dfa5cc-56de-11e7-a2e2-0660b7976219"
     ]
    }
   ],
   "source": [
    "## Read gene similarity network\n",
    "sim, sim_names = ddot.ndex_to_sim_matrix(\n",
    "    ndex_uuid='d2dfa5cc-56de-11e7-a2e2-0660b7976219',\n",
    "    similarity='similarity',\n",
    "    input_fmt='cx_matrix',\n",
    "    output_fmt='matrix',\n",
    "    subset=None)\n",
    "sim = pd.DataFrame(sim, columns=sim_names, index=sim_names)\n",
    "\n",
    "sim.head()"
   ]
  },
  {
   "cell_type": "markdown",
   "metadata": {},
   "source": [
    "# Human Gene Ontology"
   ]
  },
  {
   "cell_type": "code",
   "execution_count": 20,
   "metadata": {
    "ExecuteTime": {
     "end_time": "2018-11-08T17:38:54.102270Z",
     "start_time": "2018-11-08T17:38:36.979168Z"
    }
   },
   "outputs": [
    {
     "name": "stdout",
     "output_type": "stream",
     "text": [
      "\n",
      "19015 genes, 19343 terms, 215488 gene-term relations, 36362 term-term relations\n",
      "node_attributes: ['Vis:Shape', 'Vis:Border Paint', 'Term_Description', 'Branch', 'Vis:Fill Color', 'Vis:Size', 'name']\n",
      "edge_attributes: ['Vis:Visible']\n"
     ]
    }
   ],
   "source": [
    "# Read Gene Ontology from NDEx. This version has been pre-processed to contain a non-redundant set of GO terms and connections that are relevant to human genes (see Get_Gene_Ontology.ipynb) \n",
    "go_human = Ontology.from_ndex(ddot.config.GO_HUMAN_URL)\n",
    "print(go_human)"
   ]
  }
 ],
 "metadata": {
  "kernelspec": {
   "display_name": "Python [conda env:ddot_py36]",
   "language": "python",
   "name": "conda-env-ddot_py36-py"
  },
  "language_info": {
   "codemirror_mode": {
    "name": "ipython",
    "version": 3
   },
   "file_extension": ".py",
   "mimetype": "text/x-python",
   "name": "python",
   "nbconvert_exporter": "python",
   "pygments_lexer": "ipython3",
   "version": "3.6.5"
  },
  "latex_envs": {
   "LaTeX_envs_menu_present": true,
   "autocomplete": true,
   "bibliofile": "biblio.bib",
   "cite_by": "apalike",
   "current_citInitial": 1,
   "eqLabelWithNumbers": true,
   "eqNumInitial": 1,
   "hotkeys": {
    "equation": "Ctrl-E",
    "itemize": "Ctrl-I"
   },
   "labels_anchors": false,
   "latex_user_defs": false,
   "report_style_numbering": false,
   "user_envs_cfg": false
  },
  "toc": {
   "colors": {
    "hover_highlight": "#DAA520",
    "navigate_num": "#000000",
    "navigate_text": "#333333",
    "running_highlight": "#FF0000",
    "selected_highlight": "#FFD700",
    "sidebar_border": "#EEEEEE",
    "wrapper_background": "#FFFFFF"
   },
   "moveMenuLeft": true,
   "nav_menu": {
    "height": "86px",
    "width": "252px"
   },
   "navigate_menu": true,
   "number_sections": true,
   "sideBar": true,
   "threshold": 4,
   "toc_cell": false,
   "toc_section_display": "block",
   "toc_window_display": false,
   "widenNotebook": false
  }
 },
 "nbformat": 4,
 "nbformat_minor": 2
}
