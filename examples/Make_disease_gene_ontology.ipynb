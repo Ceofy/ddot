{
 "cells": [
  {
   "cell_type": "code",
   "execution_count": 1,
   "metadata": {
    "ExecuteTime": {
     "end_time": "2018-05-20T22:01:57.066611Z",
     "start_time": "2018-05-20T22:01:56.599580Z"
    },
    "collapsed": true
   },
   "outputs": [],
   "source": [
    "%load_ext autoreload\n",
    "%autoreload 2\n",
    "\n",
    "import sys\n",
    "sys.path.insert(0, '/cellar/users/mikeyu/DeepTranslate/ddot')\n",
    "\n",
    "import numpy as np\n",
    "np.set_printoptions(linewidth=150)"
   ]
  },
  {
   "cell_type": "markdown",
   "metadata": {},
   "source": [
    "# Introduction: Constructing a data-driven gene ontology to study disease mechanisms\n",
    "\n",
    "This notebook uses the DDOT Python package to create data-driven gene ontologies to study disease mechanisms. This notebook focuses on Fanconi Anemia (FA), a rare genetic disorder that is associated with bone marrow failure, myeloid dysplasia, and increased cancer risk. A total of 20 genes have been classified as FA genes because their germline mutations in patients have been associated with FA clinical phenotypes (Fanconi Anemia Mutation Database, http://www2.rockefeller.edu/fanconi/). All of these genes have known functions in the repair of DNA damage due to interstrand cross-links. However, beyond these DNA repair functions, the full spectrum of genes and pathways underlying FA remains unclear. \n",
    "\n",
    "To discover other genes and pathways involved in FA, here we apply DDOT in a five-step pipeline to construct a Fanconi Anemia gene ontology (FanGO) as follows (Figure A). First, we gather input data, consisting of the 20 known FA genes as a seed set of genes for modeling and a pre-computed gene similarity network derived by integrating several types of molecular evidence including protein-protein interactions, co-expression, co-localization, and epistasis. Second, we score every gene for its involvement in FA by calculating its average functional similarity to the seed genes. The minimum score among the seed genes was used as a threshold to identify an additional set of 174 candidate genes. Third, we organized all genes in a hierarchy of 74 cellular subsystems to construct FanGO. Fourth, we aligned it with GO. Finally, we uploaded FanGO to an online database, the Network Data Exchange (NDEx, http://ndexbio.org), and visualized the results in HiView (Figure B).\n",
    "\n",
    "* Code is also provided to analyze 651 other diseases using a similar pipeline\n",
    "* It is recommended that you look at the tutorial for the DDOT package at Tutorial.ipynb. "
   ]
  },
  {
   "cell_type": "markdown",
   "metadata": {},
   "source": [
    "<img src=\"https://github.com/michaelkyu/ontology/blob/master/docs/software_pipeline_23jan2018.png?raw=true\" width=\"500\" align=\"left\"> "
   ]
  },
  {
   "cell_type": "code",
   "execution_count": 2,
   "metadata": {
    "ExecuteTime": {
     "end_time": "2018-05-20T22:02:01.121520Z",
     "start_time": "2018-05-20T22:01:57.131238Z"
    },
    "collapsed": true
   },
   "outputs": [],
   "source": [
    "import pandas as pd\n",
    "import networkx as nx\n",
    "import numpy as np\n",
    "\n",
    "import ddot\n",
    "from ddot import Ontology, ndex_to_sim_matrix, expand_seed, melt_square, make_seed_ontology, make_index"
   ]
  },
  {
   "cell_type": "markdown",
   "metadata": {},
   "source": [
    "# Set the NDEx server and the user account/password\n",
    "* Replace with your own NDEx user account"
   ]
  },
  {
   "cell_type": "code",
   "execution_count": 4,
   "metadata": {
    "ExecuteTime": {
     "end_time": "2018-05-20T22:02:03.702670Z",
     "start_time": "2018-05-20T22:02:03.670754Z"
    },
    "collapsed": true
   },
   "outputs": [],
   "source": [
    "ndex_server = 'http://test.ndexbio.org'\n",
    "ndex_user, ndex_pass = 'scratch', 'scratch'"
   ]
  },
  {
   "cell_type": "markdown",
   "metadata": {},
   "source": [
    "# Specify a set of seed genes with known associations to the disease being studied"
   ]
  },
  {
   "cell_type": "code",
   "execution_count": 23,
   "metadata": {
    "ExecuteTime": {
     "end_time": "2018-05-20T23:15:25.163589Z",
     "start_time": "2018-05-20T23:15:24.299345Z"
    },
    "collapsed": true
   },
   "outputs": [],
   "source": [
    "# Let seed genes be the 20 known genes that cause Fanconi Anemia\n",
    "seed = ['FANCA', 'FANCB', 'FANCC', 'BRCA2', 'FANCD2',\n",
    "        'FANCE', 'FANCF', 'FANCG', 'FANCI', 'BRIP1',\n",
    "        'FANCL', 'FANCM', 'PALB2', 'RAD51C', 'SLX4',\n",
    "        'ERCC4', 'RAD51', 'BRCA1', 'UBE2T', 'XRCC2']"
   ]
  },
  {
   "cell_type": "code",
   "execution_count": 24,
   "metadata": {
    "ExecuteTime": {
     "end_time": "2018-05-20T23:15:26.688949Z",
     "start_time": "2018-05-20T23:15:26.038646Z"
    }
   },
   "outputs": [
    {
     "name": "stdout",
     "output_type": "stream",
     "text": [
      "\n"
     ]
    }
   ],
   "source": [
    "# Let seed genes be the known genese for one of 651 diseases (uncomment to use)\n",
    "# monarch, _ = ddot.ndex_to_sim_matrix(\n",
    "#     ddot.config.MONARCH_DISEASE_GENE_SLIM_URL,\n",
    "#     similarity=None,\n",
    "#     input_fmt='cx',\n",
    "#     output_fmt='sparse')"
   ]
  },
  {
   "cell_type": "markdown",
   "metadata": {},
   "source": [
    "# Read gene-gene integrated similarity network"
   ]
  },
  {
   "cell_type": "code",
   "execution_count": 39,
   "metadata": {
    "ExecuteTime": {
     "end_time": "2018-05-21T18:33:09.110120Z",
     "start_time": "2018-05-21T18:32:24.251210Z"
    }
   },
   "outputs": [
    {
     "data": {
      "text/html": [
       "<div>\n",
       "<style>\n",
       "    .dataframe thead tr:only-child th {\n",
       "        text-align: right;\n",
       "    }\n",
       "\n",
       "    .dataframe thead th {\n",
       "        text-align: left;\n",
       "    }\n",
       "\n",
       "    .dataframe tbody tr th {\n",
       "        vertical-align: top;\n",
       "    }\n",
       "</style>\n",
       "<table border=\"1\" class=\"dataframe\">\n",
       "  <thead>\n",
       "    <tr style=\"text-align: right;\">\n",
       "      <th></th>\n",
       "      <th>A1BG</th>\n",
       "      <th>A1CF</th>\n",
       "      <th>A2M</th>\n",
       "      <th>A2ML1</th>\n",
       "      <th>A3GALT2</th>\n",
       "      <th>A4GALT</th>\n",
       "      <th>A4GNT</th>\n",
       "      <th>AAAS</th>\n",
       "      <th>AACS</th>\n",
       "      <th>AADAC</th>\n",
       "      <th>...</th>\n",
       "      <th>ZWILCH</th>\n",
       "      <th>ZWINT</th>\n",
       "      <th>ZXDA</th>\n",
       "      <th>ZXDB</th>\n",
       "      <th>ZXDC</th>\n",
       "      <th>ZYG11A</th>\n",
       "      <th>ZYG11B</th>\n",
       "      <th>ZYX</th>\n",
       "      <th>ZZEF1</th>\n",
       "      <th>ZZZ3</th>\n",
       "    </tr>\n",
       "  </thead>\n",
       "  <tbody>\n",
       "    <tr>\n",
       "      <th>A1BG</th>\n",
       "      <td>0.000053</td>\n",
       "      <td>0.654751</td>\n",
       "      <td>0.466593</td>\n",
       "      <td>0.322811</td>\n",
       "      <td>0.027936</td>\n",
       "      <td>0.451599</td>\n",
       "      <td>0.332334</td>\n",
       "      <td>0.221617</td>\n",
       "      <td>0.565551</td>\n",
       "      <td>0.563473</td>\n",
       "      <td>...</td>\n",
       "      <td>0.470512</td>\n",
       "      <td>0.093434</td>\n",
       "      <td>0.088042</td>\n",
       "      <td>0.922059</td>\n",
       "      <td>0.198680</td>\n",
       "      <td>0.991425</td>\n",
       "      <td>0.536011</td>\n",
       "      <td>0.479693</td>\n",
       "      <td>0.021175</td>\n",
       "      <td>0.290588</td>\n",
       "    </tr>\n",
       "    <tr>\n",
       "      <th>A1CF</th>\n",
       "      <td>0.654751</td>\n",
       "      <td>0.000053</td>\n",
       "      <td>0.871843</td>\n",
       "      <td>0.304977</td>\n",
       "      <td>0.281618</td>\n",
       "      <td>0.465988</td>\n",
       "      <td>0.694550</td>\n",
       "      <td>0.428951</td>\n",
       "      <td>0.291614</td>\n",
       "      <td>0.970460</td>\n",
       "      <td>...</td>\n",
       "      <td>0.334991</td>\n",
       "      <td>0.475563</td>\n",
       "      <td>0.453309</td>\n",
       "      <td>0.963410</td>\n",
       "      <td>0.237216</td>\n",
       "      <td>0.781723</td>\n",
       "      <td>0.952073</td>\n",
       "      <td>0.453467</td>\n",
       "      <td>0.756576</td>\n",
       "      <td>0.301505</td>\n",
       "    </tr>\n",
       "    <tr>\n",
       "      <th>A2M</th>\n",
       "      <td>0.466593</td>\n",
       "      <td>0.871843</td>\n",
       "      <td>0.000053</td>\n",
       "      <td>0.999053</td>\n",
       "      <td>0.062145</td>\n",
       "      <td>0.820181</td>\n",
       "      <td>0.777252</td>\n",
       "      <td>0.430240</td>\n",
       "      <td>0.480298</td>\n",
       "      <td>0.816577</td>\n",
       "      <td>...</td>\n",
       "      <td>0.327862</td>\n",
       "      <td>0.455414</td>\n",
       "      <td>0.204230</td>\n",
       "      <td>0.495449</td>\n",
       "      <td>0.205282</td>\n",
       "      <td>0.255577</td>\n",
       "      <td>0.262837</td>\n",
       "      <td>0.731297</td>\n",
       "      <td>0.850221</td>\n",
       "      <td>0.379972</td>\n",
       "    </tr>\n",
       "    <tr>\n",
       "      <th>A2ML1</th>\n",
       "      <td>0.322811</td>\n",
       "      <td>0.304977</td>\n",
       "      <td>0.999053</td>\n",
       "      <td>0.000053</td>\n",
       "      <td>0.015770</td>\n",
       "      <td>0.474248</td>\n",
       "      <td>0.333386</td>\n",
       "      <td>0.476089</td>\n",
       "      <td>0.438315</td>\n",
       "      <td>0.346933</td>\n",
       "      <td>...</td>\n",
       "      <td>0.189578</td>\n",
       "      <td>0.276015</td>\n",
       "      <td>0.260390</td>\n",
       "      <td>0.968592</td>\n",
       "      <td>0.047822</td>\n",
       "      <td>0.890704</td>\n",
       "      <td>0.282092</td>\n",
       "      <td>0.447627</td>\n",
       "      <td>0.663615</td>\n",
       "      <td>0.100694</td>\n",
       "    </tr>\n",
       "    <tr>\n",
       "      <th>A3GALT2</th>\n",
       "      <td>0.027936</td>\n",
       "      <td>0.281618</td>\n",
       "      <td>0.062145</td>\n",
       "      <td>0.015770</td>\n",
       "      <td>0.000053</td>\n",
       "      <td>0.049229</td>\n",
       "      <td>0.009654</td>\n",
       "      <td>0.083807</td>\n",
       "      <td>0.155461</td>\n",
       "      <td>0.193261</td>\n",
       "      <td>...</td>\n",
       "      <td>0.318918</td>\n",
       "      <td>0.377512</td>\n",
       "      <td>0.259443</td>\n",
       "      <td>0.514783</td>\n",
       "      <td>0.197062</td>\n",
       "      <td>0.574311</td>\n",
       "      <td>0.825521</td>\n",
       "      <td>0.335596</td>\n",
       "      <td>0.608165</td>\n",
       "      <td>0.063526</td>\n",
       "    </tr>\n",
       "  </tbody>\n",
       "</table>\n",
       "<p>5 rows × 19009 columns</p>\n",
       "</div>"
      ],
      "text/plain": [
       "             A1BG      A1CF       A2M     A2ML1   A3GALT2    A4GALT     A4GNT  \\\n",
       "A1BG     0.000053  0.654751  0.466593  0.322811  0.027936  0.451599  0.332334   \n",
       "A1CF     0.654751  0.000053  0.871843  0.304977  0.281618  0.465988  0.694550   \n",
       "A2M      0.466593  0.871843  0.000053  0.999053  0.062145  0.820181  0.777252   \n",
       "A2ML1    0.322811  0.304977  0.999053  0.000053  0.015770  0.474248  0.333386   \n",
       "A3GALT2  0.027936  0.281618  0.062145  0.015770  0.000053  0.049229  0.009654   \n",
       "\n",
       "             AAAS      AACS     AADAC    ...       ZWILCH     ZWINT      ZXDA  \\\n",
       "A1BG     0.221617  0.565551  0.563473    ...     0.470512  0.093434  0.088042   \n",
       "A1CF     0.428951  0.291614  0.970460    ...     0.334991  0.475563  0.453309   \n",
       "A2M      0.430240  0.480298  0.816577    ...     0.327862  0.455414  0.204230   \n",
       "A2ML1    0.476089  0.438315  0.346933    ...     0.189578  0.276015  0.260390   \n",
       "A3GALT2  0.083807  0.155461  0.193261    ...     0.318918  0.377512  0.259443   \n",
       "\n",
       "             ZXDB      ZXDC    ZYG11A    ZYG11B       ZYX     ZZEF1      ZZZ3  \n",
       "A1BG     0.922059  0.198680  0.991425  0.536011  0.479693  0.021175  0.290588  \n",
       "A1CF     0.963410  0.237216  0.781723  0.952073  0.453467  0.756576  0.301505  \n",
       "A2M      0.495449  0.205282  0.255577  0.262837  0.731297  0.850221  0.379972  \n",
       "A2ML1    0.968592  0.047822  0.890704  0.282092  0.447627  0.663615  0.100694  \n",
       "A3GALT2  0.514783  0.197062  0.574311  0.825521  0.335596  0.608165  0.063526  \n",
       "\n",
       "[5 rows x 19009 columns]"
      ]
     },
     "execution_count": 39,
     "metadata": {},
     "output_type": "execute_result"
    }
   ],
   "source": [
    "## Read gene similarity network\n",
    "# sim, sim_names = ndex_to_sim_matrix(\n",
    "#     ndex_uuid='d2dfa5cc-56de-11e7-a2e2-0660b7976219',\n",
    "#     similarity='similarity',\n",
    "#     input_fmt='cx_matrix',\n",
    "#     output_fmt='matrix',\n",
    "#     subset=None)\n",
    "\n",
    "tmp = np.load('/cellar/users/mikeyu/DeepTranslate/hnexo/RFv2r3_square.npz')\n",
    "rf, rf_genes = tmp['rf'], tmp['genes']\n",
    "np.fill_diagonal(rf, 0)\n",
    "rf[np.isnan(rf)] = 0\n",
    "sim, sim_names = rf, rf_genes\n",
    "\n",
    "sim = pd.DataFrame(sim, columns=sim_names, index=sim_names)\n",
    "\n",
    "## Rank transform the similarities\n",
    "sim_rank = sim.rank(0) / (sim.shape[0] - 1)\n",
    "sim_rank = pd.DataFrame((sim_rank.values + sim_rank.values.T) / 2.0, columns=sim_names, index=sim_names)\n",
    "\n",
    "sim_rank.head()"
   ]
  },
  {
   "cell_type": "code",
   "execution_count": 38,
   "metadata": {
    "ExecuteTime": {
     "end_time": "2018-05-21T18:31:50.350164Z",
     "start_time": "2018-05-21T18:31:35.048295Z"
    }
   },
   "outputs": [
    {
     "name": "stdout",
     "output_type": "stream",
     "text": [
      "\n"
     ]
    },
    {
     "data": {
      "text/html": [
       "<div>\n",
       "<style>\n",
       "    .dataframe thead tr:only-child th {\n",
       "        text-align: right;\n",
       "    }\n",
       "\n",
       "    .dataframe thead th {\n",
       "        text-align: left;\n",
       "    }\n",
       "\n",
       "    .dataframe tbody tr th {\n",
       "        vertical-align: top;\n",
       "    }\n",
       "</style>\n",
       "<table border=\"1\" class=\"dataframe\">\n",
       "  <thead>\n",
       "    <tr style=\"text-align: right;\">\n",
       "      <th></th>\n",
       "      <th>Gene1</th>\n",
       "      <th>Gene2</th>\n",
       "      <th>GTEx Skin-SunExposed_Lowerleg</th>\n",
       "      <th>GTEx Esophagus-Mucosa</th>\n",
       "      <th>PPI PrePPI</th>\n",
       "      <th>PPI huMap</th>\n",
       "      <th>PPI BioGRID</th>\n",
       "      <th>GTEx Artery-Aorta</th>\n",
       "      <th>GTEx Breast-MammaryTissue</th>\n",
       "      <th>GTEx Nerve-Tibial</th>\n",
       "      <th>...</th>\n",
       "      <th>GTEx Muscle-Skeletal</th>\n",
       "      <th>GTEx sum</th>\n",
       "      <th>GTEx Adipose-Subcutaneous</th>\n",
       "      <th>PPI CCSB</th>\n",
       "      <th>GTEx Adipose-Visceral_Omentum</th>\n",
       "      <th>GTEx Esophagus-Muscularis</th>\n",
       "      <th>GTEx WholeBlood</th>\n",
       "      <th>PPI InbioMap</th>\n",
       "      <th>GTEx Heart-LeftVentricle</th>\n",
       "      <th>RF score</th>\n",
       "    </tr>\n",
       "  </thead>\n",
       "  <tbody>\n",
       "    <tr>\n",
       "      <th>0</th>\n",
       "      <td>ARHGAP19</td>\n",
       "      <td>ASF1B</td>\n",
       "      <td>False</td>\n",
       "      <td>False</td>\n",
       "      <td>False</td>\n",
       "      <td>False</td>\n",
       "      <td>False</td>\n",
       "      <td>False</td>\n",
       "      <td>False</td>\n",
       "      <td>False</td>\n",
       "      <td>...</td>\n",
       "      <td>False</td>\n",
       "      <td>0</td>\n",
       "      <td>False</td>\n",
       "      <td>False</td>\n",
       "      <td>False</td>\n",
       "      <td>False</td>\n",
       "      <td>False</td>\n",
       "      <td>False</td>\n",
       "      <td>False</td>\n",
       "      <td>5.624597</td>\n",
       "    </tr>\n",
       "    <tr>\n",
       "      <th>1</th>\n",
       "      <td>ARHGAP19</td>\n",
       "      <td>C16orf59</td>\n",
       "      <td>False</td>\n",
       "      <td>False</td>\n",
       "      <td>False</td>\n",
       "      <td>False</td>\n",
       "      <td>False</td>\n",
       "      <td>False</td>\n",
       "      <td>False</td>\n",
       "      <td>False</td>\n",
       "      <td>...</td>\n",
       "      <td>False</td>\n",
       "      <td>0</td>\n",
       "      <td>False</td>\n",
       "      <td>False</td>\n",
       "      <td>False</td>\n",
       "      <td>False</td>\n",
       "      <td>False</td>\n",
       "      <td>False</td>\n",
       "      <td>False</td>\n",
       "      <td>4.986351</td>\n",
       "    </tr>\n",
       "    <tr>\n",
       "      <th>2</th>\n",
       "      <td>ARHGAP19</td>\n",
       "      <td>CCNA2</td>\n",
       "      <td>False</td>\n",
       "      <td>False</td>\n",
       "      <td>False</td>\n",
       "      <td>False</td>\n",
       "      <td>False</td>\n",
       "      <td>False</td>\n",
       "      <td>False</td>\n",
       "      <td>False</td>\n",
       "      <td>...</td>\n",
       "      <td>False</td>\n",
       "      <td>0</td>\n",
       "      <td>False</td>\n",
       "      <td>False</td>\n",
       "      <td>False</td>\n",
       "      <td>False</td>\n",
       "      <td>False</td>\n",
       "      <td>False</td>\n",
       "      <td>False</td>\n",
       "      <td>5.853767</td>\n",
       "    </tr>\n",
       "    <tr>\n",
       "      <th>3</th>\n",
       "      <td>ARHGAP19</td>\n",
       "      <td>CDC45</td>\n",
       "      <td>False</td>\n",
       "      <td>False</td>\n",
       "      <td>False</td>\n",
       "      <td>False</td>\n",
       "      <td>False</td>\n",
       "      <td>False</td>\n",
       "      <td>False</td>\n",
       "      <td>False</td>\n",
       "      <td>...</td>\n",
       "      <td>False</td>\n",
       "      <td>0</td>\n",
       "      <td>False</td>\n",
       "      <td>False</td>\n",
       "      <td>False</td>\n",
       "      <td>False</td>\n",
       "      <td>False</td>\n",
       "      <td>False</td>\n",
       "      <td>False</td>\n",
       "      <td>5.783103</td>\n",
       "    </tr>\n",
       "    <tr>\n",
       "      <th>4</th>\n",
       "      <td>ARHGAP19</td>\n",
       "      <td>CDT1</td>\n",
       "      <td>False</td>\n",
       "      <td>False</td>\n",
       "      <td>False</td>\n",
       "      <td>False</td>\n",
       "      <td>False</td>\n",
       "      <td>False</td>\n",
       "      <td>False</td>\n",
       "      <td>False</td>\n",
       "      <td>...</td>\n",
       "      <td>False</td>\n",
       "      <td>0</td>\n",
       "      <td>False</td>\n",
       "      <td>False</td>\n",
       "      <td>False</td>\n",
       "      <td>False</td>\n",
       "      <td>False</td>\n",
       "      <td>False</td>\n",
       "      <td>False</td>\n",
       "      <td>5.914361</td>\n",
       "    </tr>\n",
       "  </tbody>\n",
       "</table>\n",
       "<p>5 rows × 31 columns</p>\n",
       "</div>"
      ],
      "text/plain": [
       "      Gene1     Gene2  GTEx Skin-SunExposed_Lowerleg  GTEx Esophagus-Mucosa  \\\n",
       "0  ARHGAP19     ASF1B                          False                  False   \n",
       "1  ARHGAP19  C16orf59                          False                  False   \n",
       "2  ARHGAP19     CCNA2                          False                  False   \n",
       "3  ARHGAP19     CDC45                          False                  False   \n",
       "4  ARHGAP19      CDT1                          False                  False   \n",
       "\n",
       "   PPI PrePPI  PPI huMap  PPI BioGRID  GTEx Artery-Aorta  \\\n",
       "0       False      False        False              False   \n",
       "1       False      False        False              False   \n",
       "2       False      False        False              False   \n",
       "3       False      False        False              False   \n",
       "4       False      False        False              False   \n",
       "\n",
       "   GTEx Breast-MammaryTissue  GTEx Nerve-Tibial    ...     \\\n",
       "0                      False              False    ...      \n",
       "1                      False              False    ...      \n",
       "2                      False              False    ...      \n",
       "3                      False              False    ...      \n",
       "4                      False              False    ...      \n",
       "\n",
       "   GTEx Muscle-Skeletal  GTEx sum  GTEx Adipose-Subcutaneous  PPI CCSB  \\\n",
       "0                 False         0                      False     False   \n",
       "1                 False         0                      False     False   \n",
       "2                 False         0                      False     False   \n",
       "3                 False         0                      False     False   \n",
       "4                 False         0                      False     False   \n",
       "\n",
       "   GTEx Adipose-Visceral_Omentum  GTEx Esophagus-Muscularis  GTEx WholeBlood  \\\n",
       "0                          False                      False            False   \n",
       "1                          False                      False            False   \n",
       "2                          False                      False            False   \n",
       "3                          False                      False            False   \n",
       "4                          False                      False            False   \n",
       "\n",
       "   PPI InbioMap  GTEx Heart-LeftVentricle  RF score  \n",
       "0         False                     False  5.624597  \n",
       "1         False                     False  4.986351  \n",
       "2         False                     False  5.853767  \n",
       "3         False                     False  5.783103  \n",
       "4         False                     False  5.914361  \n",
       "\n",
       "[5 rows x 31 columns]"
      ]
     },
     "execution_count": 38,
     "metadata": {},
     "output_type": "execute_result"
    }
   ],
   "source": [
    "# Read from local table\n",
    "# gene_network_data = pd.read_table('/cellar/users/mikeyu/DeepTranslate/hnexo/fango_genes_data.txt', header=0, index_col=None)\n",
    "\n",
    "# Download data from NDEx\n",
    "from ndex.networkn import NdexGraph\n",
    "G_ndex = NdexGraph(server='http://test.ndexbio.org', uuid='9412e430-02f1-11e8-bd69-0660b7976219')\n",
    "G = ddot.NdexGraph_to_nx(G_ndex)\n",
    "gene_network_data = ddot.nx_edges_to_pandas(G)\n",
    "gene_network_data.index.names = ['Gene1', 'Gene2']\n",
    "gene_network_data.reset_index(inplace=True)\n",
    "\n",
    "gene_network_data['RF score'] = [sim.loc[g1, g2] for g1, g2 in zip(gene_network_data['Gene1'], gene_network_data['Gene2'])]\n",
    "\n",
    "gene_network_data.head()"
   ]
  },
  {
   "cell_type": "markdown",
   "metadata": {},
   "source": [
    "# Identify candidate set of genes that are highly similar to the seed set of genes"
   ]
  },
  {
   "cell_type": "code",
   "execution_count": 40,
   "metadata": {
    "ExecuteTime": {
     "end_time": "2018-05-21T18:33:10.326224Z",
     "start_time": "2018-05-21T18:33:09.111750Z"
    }
   },
   "outputs": [
    {
     "data": {
      "image/png": "[encoded data removed]",
      "text/plain": [
       "<matplotlib.figure.Figure at 0x7f44c02d3e90>"
      ]
     },
     "metadata": {},
     "output_type": "display_data"
    }
   ],
   "source": [
    "# import seaborn as sns\n",
    "# import matplotlib.pyplot as plt\n",
    "# %matplotlib inline\n",
    "# np.set_printoptions(precision=3)\n",
    "# plt.rcParams['svg.fonttype'] = 'none'\n",
    "\n",
    "expand, expand_idx, sim_2_seed, fig = expand_seed(\n",
    "    seed,\n",
    "    sim_rank.values,\n",
    "    sim_names,\n",
    "    seed_perc=0,\n",
    "    agg='mean',\n",
    "    figure=True)"
   ]
  },
  {
   "cell_type": "markdown",
   "metadata": {},
   "source": [
    "# Organize seed and candidate genes into a data-driven gene ontology"
   ]
  },
  {
   "cell_type": "code",
   "execution_count": 27,
   "metadata": {
    "ExecuteTime": {
     "end_time": "2018-05-20T23:15:52.946131Z",
     "start_time": "2018-05-20T23:15:52.471076Z"
    }
   },
   "outputs": [
    {
     "data": {
      "text/plain": [
       "194 genes, 74 terms, 349 gene-term relations, 86 term-term relations\n",
       "node_attributes: []\n",
       "edge_attributes: ['CLIXO_score']"
      ]
     },
     "execution_count": 27,
     "metadata": {},
     "output_type": "execute_result"
    }
   ],
   "source": [
    "# Set CliXO parameters\n",
    "alpha = 0.05\n",
    "beta = 0.5\n",
    "\n",
    "# Run CliXO\n",
    "ont = Ontology.run_clixo(sim.loc[expand, :].loc[:, expand], alpha, beta, square=True)\n",
    "ont"
   ]
  },
  {
   "cell_type": "markdown",
   "metadata": {},
   "source": [
    "# Align the data-driven ontology with the Gene Ontology (GO)"
   ]
  },
  {
   "cell_type": "code",
   "execution_count": 41,
   "metadata": {
    "ExecuteTime": {
     "end_time": "2018-05-21T18:34:54.900564Z",
     "start_time": "2018-05-21T18:34:02.959062Z"
    }
   },
   "outputs": [
    {
     "name": "stdout",
     "output_type": "stream",
     "text": [
      "\n",
      "18993 genes, 19343 terms, 215371 gene-term relations, 36362 term-term relations\n",
      "node_attributes: [u'NodeType', 'name', u'isRoot', u'Branch', u'Vis:Shape', u'Label', u'Vis:Border Paint', u'Vis:Size', u'Term_Description', u'Vis:Fill Color', u'Size']\n",
      "edge_attributes: [u'Is_Tree_Edge', u'Vis:Visible', u'EdgeType']\n",
      "Common genes: 193\n",
      "collapse command: /cellar/users/mikeyu/DeepTranslate/ddot/ddot/alignOntology/collapseRedundantNodes /tmp/tmpToyL0F\n",
      "collapse command: /cellar/users/mikeyu/DeepTranslate/ddot/ddot/alignOntology/collapseRedundantNodes /tmp/tmpUmkd5D\n",
      "ont1_collapsed: 193 genes, 74 terms, 348 gene-term relations, 86 term-term relations\n",
      "node_attributes: ['Aligned_Term', 'Aligned_Similarity', 'Aligned_FDR', u'Aligned_Term_Description', u'Aligned_Size', 'Label', 'Vis:Fill Color']\n",
      "edge_attributes: ['CLIXO_score']\n",
      "ont2_collapsed: 193 genes, 1854 terms, 3594 gene-term relations, 4490 term-term relations\n",
      "node_attributes: [u'NodeType', 'name', u'isRoot', u'Branch', u'Vis:Shape', u'Label', u'Vis:Border Paint', u'Vis:Size', u'Term_Description', u'Vis:Fill Color', u'Size']\n",
      "edge_attributes: [u'Is_Tree_Edge', u'Vis:Visible', u'EdgeType']\n",
      "Alignment command: /cellar/users/mikeyu/DeepTranslate/ddot/ddot/alignOntology/calculateFDRs /tmp/tmp6RlrCD /tmp/tmp24EPws 0.05 criss_cross /tmp/tmpzcTjvX 100 40 gene\n"
     ]
    },
    {
     "data": {
      "text/html": [
       "<div>\n",
       "<style>\n",
       "    .dataframe thead tr:only-child th {\n",
       "        text-align: right;\n",
       "    }\n",
       "\n",
       "    .dataframe thead th {\n",
       "        text-align: left;\n",
       "    }\n",
       "\n",
       "    .dataframe tbody tr th {\n",
       "        vertical-align: top;\n",
       "    }\n",
       "</style>\n",
       "<table border=\"1\" class=\"dataframe\">\n",
       "  <thead>\n",
       "    <tr style=\"text-align: right;\">\n",
       "      <th></th>\n",
       "      <th>Term</th>\n",
       "      <th>Similarity</th>\n",
       "      <th>FDR</th>\n",
       "    </tr>\n",
       "    <tr>\n",
       "      <th>Term</th>\n",
       "      <th></th>\n",
       "      <th></th>\n",
       "      <th></th>\n",
       "    </tr>\n",
       "  </thead>\n",
       "  <tbody>\n",
       "    <tr>\n",
       "      <th>CLIXO:196</th>\n",
       "      <td>GO:0035098</td>\n",
       "      <td>0.902151</td>\n",
       "      <td>0.0100</td>\n",
       "    </tr>\n",
       "    <tr>\n",
       "      <th>CLIXO:219</th>\n",
       "      <td>GO:1905773</td>\n",
       "      <td>0.900885</td>\n",
       "      <td>0.0050</td>\n",
       "    </tr>\n",
       "    <tr>\n",
       "      <th>CLIXO:206</th>\n",
       "      <td>GO:1901673</td>\n",
       "      <td>0.891946</td>\n",
       "      <td>0.0100</td>\n",
       "    </tr>\n",
       "    <tr>\n",
       "      <th>CLIXO:205</th>\n",
       "      <td>GO:0004748</td>\n",
       "      <td>0.891813</td>\n",
       "      <td>0.0075</td>\n",
       "    </tr>\n",
       "    <tr>\n",
       "      <th>CLIXO:240</th>\n",
       "      <td>GO:0071821</td>\n",
       "      <td>0.891387</td>\n",
       "      <td>0.0000</td>\n",
       "    </tr>\n",
       "  </tbody>\n",
       "</table>\n",
       "</div>"
      ],
      "text/plain": [
       "                 Term  Similarity     FDR\n",
       "Term                                     \n",
       "CLIXO:196  GO:0035098    0.902151  0.0100\n",
       "CLIXO:219  GO:1905773    0.900885  0.0050\n",
       "CLIXO:206  GO:1901673    0.891946  0.0100\n",
       "CLIXO:205  GO:0004748    0.891813  0.0075\n",
       "CLIXO:240  GO:0071821    0.891387  0.0000"
      ]
     },
     "execution_count": 41,
     "metadata": {},
     "output_type": "execute_result"
    }
   ],
   "source": [
    "# Read Gene Ontology from NDEx. This version has been pre-processed to contain a non-redundant set of GO terms and connections that are relevant to human genes (see Get_Gene_Ontology.ipynb) \n",
    "go_human = Ontology.from_ndex(ddot.config.GO_HUMAN_URL)\n",
    "print(go_human)\n",
    "\n",
    "# Align ontologies\n",
    "alignment = ont.align(go_human, \n",
    "                      iterations=100,\n",
    "                      threads=40,\n",
    "                      update_self=['Term_Description', 'Size'],\n",
    "                      align_label='Term_Description',\n",
    "                      verbose=True)\n",
    "alignment.head()"
   ]
  },
  {
   "cell_type": "markdown",
   "metadata": {},
   "source": [
    "# Upload ontology with NDEx to visualize in the HiView application (http://hiview.ucsd.edu)\n",
    "* A two-dimensional layout of nodes is automatically calculated to optimize visualization of hierarchical structure\n",
    "* Molecular networks, such as protein-protein interactions and RNA coexpression, can be visualized in HiView to understand how an ontology's structure is consistent with data\n",
    "* Node attributes (color and size) can be set to visualize metadata."
   ]
  },
  {
   "cell_type": "code",
   "execution_count": null,
   "metadata": {
    "collapsed": true
   },
   "outputs": [],
   "source": [
    "# Set the node color of seed genes to be green\n",
    "fill_attr = pd.DataFrame({'Vis:Fill Color' : '#6ACC65'}, index=seed)\n",
    "ont.update_node_attr(fill_attr)"
   ]
  },
  {
   "cell_type": "code",
   "execution_count": 42,
   "metadata": {
    "ExecuteTime": {
     "end_time": "2018-05-21T19:06:36.813946Z",
     "start_time": "2018-05-21T19:06:23.346678Z"
    }
   },
   "outputs": [
    {
     "name": "stdout",
     "output_type": "stream",
     "text": [
      "\n"
     ]
    },
    {
     "data": {
      "text/html": [
       "<div>\n",
       "<style>\n",
       "    .dataframe thead tr:only-child th {\n",
       "        text-align: right;\n",
       "    }\n",
       "\n",
       "    .dataframe thead th {\n",
       "        text-align: left;\n",
       "    }\n",
       "\n",
       "    .dataframe tbody tr th {\n",
       "        vertical-align: top;\n",
       "    }\n",
       "</style>\n",
       "<table border=\"1\" class=\"dataframe\">\n",
       "  <thead>\n",
       "    <tr style=\"text-align: right;\">\n",
       "      <th></th>\n",
       "      <th>Gene1</th>\n",
       "      <th>Gene2</th>\n",
       "      <th>GTEx Skin-SunExposed_Lowerleg</th>\n",
       "      <th>GTEx Esophagus-Mucosa</th>\n",
       "      <th>PPI PrePPI</th>\n",
       "      <th>PPI huMap</th>\n",
       "      <th>PPI BioGRID</th>\n",
       "      <th>GTEx Artery-Aorta</th>\n",
       "      <th>GTEx Breast-MammaryTissue</th>\n",
       "      <th>GTEx Nerve-Tibial</th>\n",
       "      <th>...</th>\n",
       "      <th>GTEx Muscle-Skeletal</th>\n",
       "      <th>GTEx sum</th>\n",
       "      <th>GTEx Adipose-Subcutaneous</th>\n",
       "      <th>PPI CCSB</th>\n",
       "      <th>GTEx Adipose-Visceral_Omentum</th>\n",
       "      <th>GTEx Esophagus-Muscularis</th>\n",
       "      <th>GTEx WholeBlood</th>\n",
       "      <th>PPI InbioMap</th>\n",
       "      <th>GTEx Heart-LeftVentricle</th>\n",
       "      <th>RandomForest integrated similarity</th>\n",
       "    </tr>\n",
       "  </thead>\n",
       "  <tbody>\n",
       "    <tr>\n",
       "      <th>0</th>\n",
       "      <td>ARHGAP19</td>\n",
       "      <td>ASF1B</td>\n",
       "      <td>False</td>\n",
       "      <td>False</td>\n",
       "      <td>False</td>\n",
       "      <td>False</td>\n",
       "      <td>False</td>\n",
       "      <td>False</td>\n",
       "      <td>False</td>\n",
       "      <td>False</td>\n",
       "      <td>...</td>\n",
       "      <td>False</td>\n",
       "      <td>0</td>\n",
       "      <td>False</td>\n",
       "      <td>False</td>\n",
       "      <td>False</td>\n",
       "      <td>False</td>\n",
       "      <td>False</td>\n",
       "      <td>False</td>\n",
       "      <td>False</td>\n",
       "      <td>5.624597</td>\n",
       "    </tr>\n",
       "    <tr>\n",
       "      <th>1</th>\n",
       "      <td>ARHGAP19</td>\n",
       "      <td>C16orf59</td>\n",
       "      <td>False</td>\n",
       "      <td>False</td>\n",
       "      <td>False</td>\n",
       "      <td>False</td>\n",
       "      <td>False</td>\n",
       "      <td>False</td>\n",
       "      <td>False</td>\n",
       "      <td>False</td>\n",
       "      <td>...</td>\n",
       "      <td>False</td>\n",
       "      <td>0</td>\n",
       "      <td>False</td>\n",
       "      <td>False</td>\n",
       "      <td>False</td>\n",
       "      <td>False</td>\n",
       "      <td>False</td>\n",
       "      <td>False</td>\n",
       "      <td>False</td>\n",
       "      <td>4.986351</td>\n",
       "    </tr>\n",
       "    <tr>\n",
       "      <th>2</th>\n",
       "      <td>ARHGAP19</td>\n",
       "      <td>CCNA2</td>\n",
       "      <td>False</td>\n",
       "      <td>False</td>\n",
       "      <td>False</td>\n",
       "      <td>False</td>\n",
       "      <td>False</td>\n",
       "      <td>False</td>\n",
       "      <td>False</td>\n",
       "      <td>False</td>\n",
       "      <td>...</td>\n",
       "      <td>False</td>\n",
       "      <td>0</td>\n",
       "      <td>False</td>\n",
       "      <td>False</td>\n",
       "      <td>False</td>\n",
       "      <td>False</td>\n",
       "      <td>False</td>\n",
       "      <td>False</td>\n",
       "      <td>False</td>\n",
       "      <td>5.853767</td>\n",
       "    </tr>\n",
       "    <tr>\n",
       "      <th>3</th>\n",
       "      <td>ARHGAP19</td>\n",
       "      <td>CDC45</td>\n",
       "      <td>False</td>\n",
       "      <td>False</td>\n",
       "      <td>False</td>\n",
       "      <td>False</td>\n",
       "      <td>False</td>\n",
       "      <td>False</td>\n",
       "      <td>False</td>\n",
       "      <td>False</td>\n",
       "      <td>...</td>\n",
       "      <td>False</td>\n",
       "      <td>0</td>\n",
       "      <td>False</td>\n",
       "      <td>False</td>\n",
       "      <td>False</td>\n",
       "      <td>False</td>\n",
       "      <td>False</td>\n",
       "      <td>False</td>\n",
       "      <td>False</td>\n",
       "      <td>5.783103</td>\n",
       "    </tr>\n",
       "    <tr>\n",
       "      <th>4</th>\n",
       "      <td>ARHGAP19</td>\n",
       "      <td>CDT1</td>\n",
       "      <td>False</td>\n",
       "      <td>False</td>\n",
       "      <td>False</td>\n",
       "      <td>False</td>\n",
       "      <td>False</td>\n",
       "      <td>False</td>\n",
       "      <td>False</td>\n",
       "      <td>False</td>\n",
       "      <td>...</td>\n",
       "      <td>False</td>\n",
       "      <td>0</td>\n",
       "      <td>False</td>\n",
       "      <td>False</td>\n",
       "      <td>False</td>\n",
       "      <td>False</td>\n",
       "      <td>False</td>\n",
       "      <td>False</td>\n",
       "      <td>False</td>\n",
       "      <td>5.914361</td>\n",
       "    </tr>\n",
       "  </tbody>\n",
       "</table>\n",
       "<p>5 rows × 31 columns</p>\n",
       "</div>"
      ],
      "text/plain": [
       "      Gene1     Gene2  GTEx Skin-SunExposed_Lowerleg  GTEx Esophagus-Mucosa  \\\n",
       "0  ARHGAP19     ASF1B                          False                  False   \n",
       "1  ARHGAP19  C16orf59                          False                  False   \n",
       "2  ARHGAP19     CCNA2                          False                  False   \n",
       "3  ARHGAP19     CDC45                          False                  False   \n",
       "4  ARHGAP19      CDT1                          False                  False   \n",
       "\n",
       "   PPI PrePPI  PPI huMap  PPI BioGRID  GTEx Artery-Aorta  \\\n",
       "0       False      False        False              False   \n",
       "1       False      False        False              False   \n",
       "2       False      False        False              False   \n",
       "3       False      False        False              False   \n",
       "4       False      False        False              False   \n",
       "\n",
       "   GTEx Breast-MammaryTissue  GTEx Nerve-Tibial  \\\n",
       "0                      False              False   \n",
       "1                      False              False   \n",
       "2                      False              False   \n",
       "3                      False              False   \n",
       "4                      False              False   \n",
       "\n",
       "                  ...                  GTEx Muscle-Skeletal  GTEx sum  \\\n",
       "0                 ...                                 False         0   \n",
       "1                 ...                                 False         0   \n",
       "2                 ...                                 False         0   \n",
       "3                 ...                                 False         0   \n",
       "4                 ...                                 False         0   \n",
       "\n",
       "   GTEx Adipose-Subcutaneous  PPI CCSB  GTEx Adipose-Visceral_Omentum  \\\n",
       "0                      False     False                          False   \n",
       "1                      False     False                          False   \n",
       "2                      False     False                          False   \n",
       "3                      False     False                          False   \n",
       "4                      False     False                          False   \n",
       "\n",
       "   GTEx Esophagus-Muscularis  GTEx WholeBlood  PPI InbioMap  \\\n",
       "0                      False            False         False   \n",
       "1                      False            False         False   \n",
       "2                      False            False         False   \n",
       "3                      False            False         False   \n",
       "4                      False            False         False   \n",
       "\n",
       "   GTEx Heart-LeftVentricle  RandomForest integrated similarity  \n",
       "0                     False                            5.624597  \n",
       "1                     False                            4.986351  \n",
       "2                     False                            5.853767  \n",
       "3                     False                            5.783103  \n",
       "4                     False                            5.914361  \n",
       "\n",
       "[5 rows x 31 columns]"
      ]
     },
     "execution_count": 42,
     "metadata": {},
     "output_type": "execute_result"
    }
   ],
   "source": [
    "# Download a preformatted network containing multiple types of gene-gene interactions has been preformatted and uploaded into NDEx for the Fanconi Anemia example.\n",
    "from ndex.networkn import NdexGraph\n",
    "G_ndex = NdexGraph(server='http://test.ndexbio.org', uuid='9412e430-02f1-11e8-bd69-0660b7976219')\n",
    "G = ddot.NdexGraph_to_nx(G_ndex)\n",
    "gene_network_data = ddot.nx_edges_to_pandas(G)\n",
    "gene_network_data.index.names = ['Gene1', 'Gene2']\n",
    "gene_network_data.reset_index(inplace=True)\n",
    "# gene_network_data = pd.read_table('/cellar/users/mikeyu/DeepTranslate/hnexo/fango_genes_data.txt', header=0, index_col=None)\n",
    "gene_network_data['RandomForest integrated similarity'] = [sim.loc[g1, g2] for g1, g2 in zip(gene_network_data['Gene1'], gene_network_data['Gene2'])]\n",
    "gene_network_data.head()"
   ]
  },
  {
   "cell_type": "code",
   "execution_count": 45,
   "metadata": {
    "ExecuteTime": {
     "end_time": "2018-05-21T19:10:59.224323Z",
     "start_time": "2018-05-21T19:10:16.819101Z"
    }
   },
   "outputs": [
    {
     "name": "stdout",
     "output_type": "stream",
     "text": [
      "\n",
      "Go to http://hiview.ucsd.edu in your web browser\n",
      "Enter this into the \"NDEx Sever URL\" field: http://dev2.ndexbio.org\n",
      "Enter this into the \"UUID of the main hierarchy\" field: b20bb038-5d2a-11e8-9d1c-0660b7976219\n"
     ]
    }
   ],
   "source": [
    "# Upload ontology to NDEx\n",
    "ndex_url, _ = ont.to_ndex(\n",
    "            name='Fanconi Anemia Gene Ontology',\n",
    "            ndex_server=ndex_server,\n",
    "            ndex_user=ndex_user,\n",
    "            ndex_pass=ndex_pass,\n",
    "            visibility='PUBLIC',\n",
    "            layout='bubble-collect',\n",
    "            network=gene_network_data,\n",
    "            main_feature='RandomForest integrated similarity')\n",
    "print('Go to http://hiview.ucsd.edu in your web browser')\n",
    "print('Enter this into the \"NDEx Sever URL\" field: %s' % ndex_url.split('ndexbio.org')[0] + 'ndexbio.org')\n",
    "print('Enter this into the \"UUID of the main hierarchy\" field: %s' % ndex_url.split('/')[-1])"
   ]
  },
  {
   "cell_type": "code",
   "execution_count": 46,
   "metadata": {
    "ExecuteTime": {
     "end_time": "2018-05-21T19:33:12.214249Z",
     "start_time": "2018-05-21T19:33:11.251688Z"
    }
   },
   "outputs": [
    {
     "name": "stdout",
     "output_type": "stream",
     "text": [
      "http://dev2.ndexbio.org/v2/network/b20bb038-5d2a-11e8-9d1c-0660b7976219\n"
     ]
    }
   ],
   "source": [
    "print(ndex_url)"
   ]
  },
  {
   "cell_type": "markdown",
   "metadata": {},
   "source": [
    "## Alternative code for the above steps using the convience function `make_seed_ontology`"
   ]
  },
  {
   "cell_type": "code",
   "execution_count": null,
   "metadata": {
    "collapsed": true
   },
   "outputs": [],
   "source": [
    "ont, url, ont_ndexgraph, expand_results = make_seed_ontology(\n",
    "      sim,\n",
    "      sim_names,\n",
    "      build_kwargs={'alpha' : alpha,\n",
    "                    'beta' : beta,\n",
    "                    'method' : 'clixo'},\n",
    "      expand_kwargs={'seed' : seed,\n",
    "                     'sim': sim_rank.values,\n",
    "                     'sim_names': sim_names,\n",
    "                     'seed_perc':0,\n",
    "                     'agg':'mean',\n",
    "                     'figure':True},\n",
    "      align_kwargs={'hier' : go_human,\n",
    "                    'iterations':100,\n",
    "                    'threads': 40,\n",
    "                    'update_self': ['Term_Description', 'Size'],\n",
    "                    'align_label' : 'Term_Description'},\n",
    "      ndex_kwargs={'ndex_user':ndex_user,\n",
    "                   'ndex_pass':ndex_pass,\n",
    "                   'ndex_server':ndex_server,\n",
    "                   'name' : 'Fanconi Anemia Gene Ontology (FanGO)',\n",
    "                   'visible_term_attr': ['Aligned_Term',\n",
    "                                         'Aligned_Similarity',\n",
    "                                         'Aligned_FDR',\n",
    "                                         'Aligned_Term_Description',\n",
    "                                         'Aligned_Size',\n",
    "                                         'Similarity_2_Seed'],\n",
    "                   'subnet_max_term_size' : 0,\n",
    "                   'visibility' : 'PUBLIC',\n",
    "                   'layout' : 'bubble-collect',                  \n",
    "                   'network' : hnexo_data,\n",
    "                   'features' : hnexo_data.columns,\n",
    "                   'main_feature' : 'RF score'},\n",
    "      node_attr=gene_drug,\n",
    "      verbose=False,\n",
    "      ndex=True,\n",
    ")\n",
    "print(url)\n",
    "print(ont)"
   ]
  }
 ],
 "metadata": {
  "kernelspec": {
   "display_name": "Python 2",
   "language": "python",
   "name": "python2"
  },
  "language_info": {
   "codemirror_mode": {
    "name": "ipython",
    "version": 2
   },
   "file_extension": ".py",
   "mimetype": "text/x-python",
   "name": "python",
   "nbconvert_exporter": "python",
   "pygments_lexer": "ipython2",
   "version": "2.7.13"
  },
  "latex_envs": {
   "LaTeX_envs_menu_present": true,
   "autocomplete": true,
   "bibliofile": "biblio.bib",
   "cite_by": "apalike",
   "current_citInitial": 1,
   "eqLabelWithNumbers": true,
   "eqNumInitial": 1,
   "hotkeys": {
    "equation": "Ctrl-E",
    "itemize": "Ctrl-I"
   },
   "labels_anchors": false,
   "latex_user_defs": false,
   "report_style_numbering": false,
   "user_envs_cfg": false
  },
  "toc": {
   "colors": {
    "hover_highlight": "#DAA520",
    "navigate_num": "#000000",
    "navigate_text": "#333333",
    "running_highlight": "#FF0000",
    "selected_highlight": "#FFD700",
    "sidebar_border": "#EEEEEE",
    "wrapper_background": "#FFFFFF"
   },
   "moveMenuLeft": true,
   "nav_menu": {
    "height": "225px",
    "width": "252px"
   },
   "navigate_menu": true,
   "number_sections": true,
   "sideBar": true,
   "threshold": 4,
   "toc_cell": false,
   "toc_position": {
    "height": "690px",
    "left": "0px",
    "right": "1414.04px",
    "top": "108px",
    "width": "330px"
   },
   "toc_section_display": "block",
   "toc_window_display": false,
   "widenNotebook": false
  }
 },
 "nbformat": 4,
 "nbformat_minor": 2
}
