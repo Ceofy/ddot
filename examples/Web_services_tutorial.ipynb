{
 "cells": [
  {
   "cell_type": "markdown",
   "metadata": {},
   "source": [
    "# "
   ]
  },
  {
   "cell_type": "code",
   "execution_count": null,
   "metadata": {
    "collapsed": true
   },
   "outputs": [],
   "source": []
  },
  {
   "cell_type": "markdown",
   "metadata": {},
   "source": [
    "# Construct data-driven ontology (nexo.ncats.io:8888/)"
   ]
  },
  {
   "cell_type": "code",
   "execution_count": 28,
   "metadata": {
    "ExecuteTime": {
     "end_time": "2017-05-09T07:12:00.364974Z",
     "start_time": "2017-05-09T07:12:00.353331Z"
    },
    "collapsed": true
   },
   "outputs": [],
   "source": [
    "import requests\n",
    "\n",
    "def parse_output_ndex_uuid(r):\n",
    "    networkAttributes = [x for x in r.json()['data'] if x.has_key('networkAttributes')][0]['networkAttributes']\n",
    "    ndex_url = [x for x in networkAttributes if x['n']=='ndex_url'][0]['v']\n",
    "    ndex_uuid = [x for x in networkAttributes if x['n']=='ndex_uuid'][0]['v']\n",
    "    return ndex_uuid, ndex_url"
   ]
  },
  {
   "cell_type": "markdown",
   "metadata": {},
   "source": [
    "## --- Algorithmic parameters ---\n",
    "* ndex_uuid : The NDEx UUID of the input similarity network. The network must be publicly vieweable, or the NDEx user must have permissions to access the network\n",
    "* similarity_attribute : The name of the edge attribute in the input network that represents similarities.\n",
    "* alpha : Controls the granularity of the hierarchy, i.e. the number of terms and depth of the hierarchy. alpha\n",
    "* beta : Another granularity parameter. Recommended to keep at 0.5\n",
    "\n",
    "## --- Other parameters ---\n",
    "* ndex_user : NDEX username\n",
    "* ndex_pass : NDEX password\n",
    "\n",
    "## -- Output --\n",
    "A JSON string with the two following attributes:\n",
    "* output_ndex_uuid : NDEx UUID of the data-driven ontology\n",
    "* output_ndex_url : NDEx URL of the data-driven ontology (directly based on the NDEx UUID))"
   ]
  },
  {
   "cell_type": "code",
   "execution_count": 32,
   "metadata": {
    "ExecuteTime": {
     "end_time": "2017-05-09T07:31:42.516717Z",
     "start_time": "2017-05-09T07:31:29.086493Z"
    },
    "collapsed": false
   },
   "outputs": [
    {
     "name": "stdout",
     "output_type": "stream",
     "text": [
      "Query URL: http://nexo.ncats.io:8888/?name=FanGO&input_ndex_uuid=0fed05d6-297a-11e7-8f50-0ac135e8bacf&beta=0.5&similarity_attr=weight&ndex_user=mikeyu_testacct&alpha=0.1&ndex_pass=GoHejVeg8\n",
      "NDEx UUID of data-driven ontology: 387e3926-34c4-11e7-8f50-0ac135e8bacf\n",
      "NDEx URL of data-driven ontology: http://public.ndexbio.org/v2/network/387e3926-34c4-11e7-8f50-0ac135e8bacf\n"
     ]
    }
   ],
   "source": [
    "server_address = 'http://nexo.ncats.io:8888'\n",
    "\n",
    "params = {'alpha' : 0.1,\n",
    "          'beta' : 0.5,\n",
    "          'name' : 'FanGO',\n",
    "          'similarity_attr' : 'weight',\n",
    "          'ndex_user' : 'mikeyu_testacct',\n",
    "          'ndex_pass' : 'GoHejVeg8',\n",
    "          'input_ndex_uuid' : '0fed05d6-297a-11e7-8f50-0ac135e8bacf'}\n",
    "\n",
    "r = requests.post(server_address, params=params)\n",
    "print 'Query URL:', r.url\n",
    "\n",
    "output_ndex_uuid, output_ndex_url = parse_output_ndex_uuid(r)\n",
    "print 'NDEx UUID of data-driven ontology:', output_ndex_uuid\n",
    "print 'NDEx URL of data-driven ontology:', output_ndex_url"
   ]
  },
  {
   "cell_type": "markdown",
   "metadata": {},
   "source": [
    "# Align data-driven ontology to reference ontology (nexo.ncats.io:8889/)"
   ]
  },
  {
   "cell_type": "code",
   "execution_count": null,
   "metadata": {
    "collapsed": true
   },
   "outputs": [],
   "source": [
    "r = requests.get('http://httpbin.org/get', params=payload)"
   ]
  },
  {
   "cell_type": "code",
   "execution_count": null,
   "metadata": {
    "collapsed": true
   },
   "outputs": [],
   "source": [
    "ndex_server = 'http://public.ndexbio.org'\n",
    "ndex_user = 'mikeyu_testacct'\n",
    "ndex_pass = 'GoHejVeg8'"
   ]
  },
  {
   "cell_type": "code",
   "execution_count": null,
   "metadata": {
    "collapsed": true
   },
   "outputs": [],
   "source": [
    "%%bash\n",
    "\n",
    "curl \"localhost?ont1_ndex_uuid=8d8c3850-340f-11e7-8f50-0ac135e8bacf&ont2_ndex_uuid=4e1096f6-33b0-11e7-8f50-0ac135e8bacf&ndex_user=kenlo_testacct&ndex_pass=GoHejVeg\\\n",
    "8"
   ]
  },
  {
   "cell_type": "code",
   "execution_count": null,
   "metadata": {
    "collapsed": true
   },
   "outputs": [],
   "source": []
  }
 ],
 "metadata": {
  "kernelspec": {
   "display_name": "Python 2",
   "language": "python",
   "name": "python2"
  },
  "language_info": {
   "codemirror_mode": {
    "name": "ipython",
    "version": 2
   },
   "file_extension": ".py",
   "mimetype": "text/x-python",
   "name": "python",
   "nbconvert_exporter": "python",
   "pygments_lexer": "ipython2",
   "version": "2.7.12"
  },
  "latex_envs": {
   "LaTeX_envs_menu_present": true,
   "autocomplete": true,
   "bibliofile": "biblio.bib",
   "cite_by": "apalike",
   "current_citInitial": 1,
   "eqLabelWithNumbers": true,
   "eqNumInitial": 1,
   "hotkeys": {
    "equation": "Ctrl-E",
    "itemize": "Ctrl-I"
   },
   "labels_anchors": false,
   "latex_user_defs": false,
   "report_style_numbering": false,
   "user_envs_cfg": false
  },
  "toc": {
   "colors": {
    "hover_highlight": "#DAA520",
    "running_highlight": "#FF0000",
    "selected_highlight": "#FFD700"
   },
   "moveMenuLeft": true,
   "nav_menu": {
    "height": "102px",
    "width": "252px"
   },
   "navigate_menu": true,
   "number_sections": true,
   "sideBar": true,
   "threshold": 4,
   "toc_cell": false,
   "toc_section_display": "block",
   "toc_window_display": false,
   "widenNotebook": false
  }
 },
 "nbformat": 4,
 "nbformat_minor": 0
}
