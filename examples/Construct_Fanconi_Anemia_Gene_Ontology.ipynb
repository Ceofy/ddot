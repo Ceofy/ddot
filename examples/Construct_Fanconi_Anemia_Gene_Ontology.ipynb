{
 "cells": [
  {
   "cell_type": "code",
   "execution_count": 1,
   "metadata": {
    "ExecuteTime": {
     "end_time": "2017-08-31T22:52:28.696716Z",
     "start_time": "2017-08-31T22:52:24.776275Z"
    },
    "collapsed": false
   },
   "outputs": [
    {
     "name": "stdout",
     "output_type": "stream",
     "text": [
      "\n"
     ]
    }
   ],
   "source": [
    "import requests\n",
    "import gzip\n",
    "\n",
    "import pandas as pd\n",
    "import networkx as nx\n",
    "import numpy as np\n",
    "%matplotlib inline\n",
    "import seaborn as sns\n",
    "\n",
    "import sys\n",
    "sys.path = ['/cellar/users/mikeyu/DeepTranslate/ddot'] + sys.path\n",
    "\n",
    "import ddot\n",
    "from ddot import Ontology, get_gene_name_converter, parse_gaf, parse_obo, nx_to_NdexGraph, read_term_descriptions, ndex_to_sim_matrix\n",
    "from ddot import expand_seed, melt_square, make_index, align_hierarchies, update_nx_with_alignment, parse_ndex_uuid, NdexGraph_to_nx, bubble_layout_nx, ddot_pipeline"
   ]
  },
  {
   "cell_type": "markdown",
   "metadata": {},
   "source": [
    "# Setup parameters"
   ]
  },
  {
   "cell_type": "code",
   "execution_count": 2,
   "metadata": {
    "ExecuteTime": {
     "end_time": "2017-08-31T22:52:28.704456Z",
     "start_time": "2017-08-31T22:52:28.700087Z"
    },
    "collapsed": true
   },
   "outputs": [],
   "source": [
    "alpha = 0.1\n",
    "beta = 0.5"
   ]
  },
  {
   "cell_type": "code",
   "execution_count": 3,
   "metadata": {
    "ExecuteTime": {
     "end_time": "2017-08-31T22:52:28.712540Z",
     "start_time": "2017-08-31T22:52:28.707478Z"
    },
    "collapsed": true
   },
   "outputs": [],
   "source": [
    "seed = ['FANCA','FANCB', 'FANCC', 'BRCA2', 'FANCD2', 'FANCE',\n",
    "        'FANCF', 'FANCG', 'FANCI', 'BRIP1', 'FANCL', 'FANCM', 'PALB2', 'RAD51C', 'SLX4', 'ERCC4', 'RAD51',\n",
    "        'BRCA1', 'UBE2T', 'XRCC2']"
   ]
  },
  {
   "cell_type": "code",
   "execution_count": 14,
   "metadata": {
    "ExecuteTime": {
     "end_time": "2017-08-31T23:04:06.600568Z",
     "start_time": "2017-08-31T23:04:06.595737Z"
    },
    "collapsed": true
   },
   "outputs": [],
   "source": [
    "ndex_user = 'mikeyu_testacct3'\n",
    "ndex_pass = 'GoHejVeg8'\n",
    "ndex_server = 'http://test.ndexbio.org'"
   ]
  },
  {
   "cell_type": "markdown",
   "metadata": {},
   "source": [
    "# Download GO from NDEx"
   ]
  },
  {
   "cell_type": "code",
   "execution_count": 5,
   "metadata": {
    "ExecuteTime": {
     "end_time": "2017-08-31T22:52:28.726274Z",
     "start_time": "2017-08-31T22:52:28.723031Z"
    },
    "collapsed": false
   },
   "outputs": [],
   "source": [
    "# go_human = Ontology.from_ndex(ddot.config.GO_HUMAN_URL)\n",
    "# print go_human.summary()"
   ]
  },
  {
   "cell_type": "code",
   "execution_count": 6,
   "metadata": {
    "ExecuteTime": {
     "end_time": "2017-08-31T22:52:29.460582Z",
     "start_time": "2017-08-31T22:52:28.728775Z"
    },
    "collapsed": true
   },
   "outputs": [],
   "source": [
    "# go_human.to_pickle('/cellar/users/mikeyu/go.pkl')\n",
    "go_human = Ontology.read_pickle('/cellar/users/mikeyu/go.pkl')"
   ]
  },
  {
   "cell_type": "markdown",
   "metadata": {},
   "source": [
    "# Download gene similarity network from NDEx"
   ]
  },
  {
   "cell_type": "code",
   "execution_count": 7,
   "metadata": {
    "ExecuteTime": {
     "end_time": "2017-08-31T22:52:29.465560Z",
     "start_time": "2017-08-31T22:52:29.462495Z"
    },
    "collapsed": false
   },
   "outputs": [],
   "source": [
    "# sim, sim_names = ndex_to_sim_matrix(\n",
    "#     ndex_uuid='d2dfa5cc-56de-11e7-a2e2-0660b7976219',\n",
    "#     similarity='similarity',\n",
    "#     input_fmt='cx_matrix',\n",
    "#     output_fmt='matrix',\n",
    "#     subset=None)"
   ]
  },
  {
   "cell_type": "code",
   "execution_count": 8,
   "metadata": {
    "ExecuteTime": {
     "end_time": "2017-08-31T22:52:34.576269Z",
     "start_time": "2017-08-31T22:52:29.472109Z"
    },
    "collapsed": false
   },
   "outputs": [
    {
     "name": "stdout",
     "output_type": "stream",
     "text": [
      "CPU times: user 0 ns, sys: 4 ms, total: 4 ms\n",
      "Wall time: 1.74 ms\n"
     ]
    }
   ],
   "source": [
    "%time tmp = np.load('/cellar/users/mikeyu/DeepTranslate/hnexo/RFv2r3_square.npz')\n",
    "rf, rf_genes = tmp['rf'], tmp['genes']\n",
    "np.fill_diagonal(rf, 0)\n",
    "rf[np.isnan(rf)] = 0\n",
    "sim, sim_names = rf, rf_genes"
   ]
  },
  {
   "cell_type": "markdown",
   "metadata": {},
   "source": [
    "# Download gene-drug targets"
   ]
  },
  {
   "cell_type": "code",
   "execution_count": 9,
   "metadata": {
    "ExecuteTime": {
     "end_time": "2017-08-31T22:52:35.247760Z",
     "start_time": "2017-08-31T22:52:34.578311Z"
    },
    "collapsed": false
   },
   "outputs": [
    {
     "name": "stdout",
     "output_type": "stream",
     "text": [
      "\n"
     ]
    }
   ],
   "source": [
    "pharos, pharos_nodes = ndex_to_sim_matrix(\n",
    "    parse_ndex_uuid(ddot.config.PHAROS_URL),\n",
    "    similarity=None,\n",
    "    input_fmt='cx',\n",
    "    output_fmt='sparse')\n",
    "pharos.rename(columns={'Node1' : 'gene', 'Node2' : 'drug'}, inplace=True)\n",
    "gene_drug = pharos.groupby('gene').agg({'drug' : lambda x : ','.join(x)})\n",
    "gene_drug['has_drug'] = True"
   ]
  },
  {
   "cell_type": "markdown",
   "metadata": {},
   "source": [
    "# Run Ontology pipeline"
   ]
  },
  {
   "cell_type": "code",
   "execution_count": 18,
   "metadata": {
    "ExecuteTime": {
     "end_time": "2017-08-31T23:07:07.419628Z",
     "start_time": "2017-08-31T23:06:35.950787Z"
    },
    "collapsed": false,
    "scrolled": false
   },
   "outputs": [
    {
     "name": "stdout",
     "output_type": "stream",
     "text": [
      "min_sim: 5.20081410586\n",
      "Expanded gene set: 246\n",
      "temp output: /tmp/tmpZ3s_e2\n",
      "temp graph: /tmp/tmpglTeun\n",
      "temp output log: /tmp/tmpmNASr4\n",
      "/tmp/tmpglTeun\t0.1\t0.5\t-10000000 2017-08-31 23:06:36.229469\n",
      "CLIXO command: /cellar/users/mikeyu/DeepTranslate/ddot/ddot/mhk7-clixo_0.3-cec3674/clixo /tmp/tmpglTeun 0.1 0.5 | awk '{if ( $1 ~ /^#/ ) {print \"\\#\", strftime(\"%Y-%m-%d %H:%M:%S\"), $0 ; fflush() } else {print $0}}' | tee /tmp/tmpmNASr4\n",
      "Extracting by grep -v # 2017-08-31 23:06:37.555122\n",
      "Elapsed time (sec): 1.33150100708 2017-08-31 23:06:37.592654\n",
      "Ontology: 246 genes, 38 terms, 290 gene-term relations, 38 term-term relations\n",
      "node_attributes: \n",
      "edge_attributes: CLIXO_score\n",
      "collapse command: /cellar/users/mikeyu/alignOntology/collapseRedundantNodes /tmp/tmpcg9dRN\n",
      "collapse command: /cellar/users/mikeyu/alignOntology/collapseRedundantNodes /tmp/tmp5q7N9y\n",
      "Alignment command: /cellar/users/mikeyu/DeepTranslate/ddot/ddot/alignOntology/calculateFDRs /tmp/tmpyxdG2o /tmp/tmpUVio8S 0.05 criss_cross /tmp/tmppKdkgt 100 40 gene\n",
      "Alignment: 16 matches\n",
      "WARNING: There are 38 terms that have no direct gene annotations\n",
      "http://dev2.ndexbio.org/v2/network/c848905a-8edb-11e7-9743-0660b7976219\n"
     ]
    }
   ],
   "source": [
    "ont, url, ont_ndexgraph = ddot_pipeline(\n",
    "      alpha,\n",
    "      beta,\n",
    "      sim,\n",
    "      sim_names,\n",
    "      seed,\n",
    "      go_human,\n",
    "      node_attr=gene_drug,\n",
    "      name='Fanconi Anemia Gene Ontology (FanGO)',\n",
    "      expand_kwargs={'seed_perc':0, 'agg':'mean', 'figure':False},\n",
    "      ndex_kwargs={'ndex_user':ndex_user, 'ndex_pass':ndex_pass, 'ndex_server':ndex_server},\n",
    "      align_kwargs={'iterations':100, 'threads': 40},\n",
    "      verbose=True\n",
    ")\n",
    "print url\n",
    "\n",
    "# Save to graphml\n",
    "nx.write_graphml(ont_ndexgraph, '/cellar/users/mikeyu/DeepTranslate/fango/fango.graphml')\n",
    "\n",
    "# Pickle ontology file\n",
    "ont.to_pickle('/cellar/users/mikeyu/DeepTranslate/fango/fango.pkl')\n",
    "\n",
    "# Save NDEx URL\n",
    "with open('/cellar/users/mikeyu/DeepTranslate/fango/fango.ndex_url.txt', 'w') as f:\n",
    "    f.write(url + '\\n')"
   ]
  }
 ],
 "metadata": {
  "kernelspec": {
   "display_name": "Python 2",
   "language": "python",
   "name": "python2"
  },
  "language_info": {
   "codemirror_mode": {
    "name": "ipython",
    "version": 2
   },
   "file_extension": ".py",
   "mimetype": "text/x-python",
   "name": "python",
   "nbconvert_exporter": "python",
   "pygments_lexer": "ipython2",
   "version": "2.7.13"
  },
  "latex_envs": {
   "LaTeX_envs_menu_present": true,
   "autocomplete": true,
   "bibliofile": "biblio.bib",
   "cite_by": "apalike",
   "current_citInitial": 1,
   "eqLabelWithNumbers": true,
   "eqNumInitial": 1,
   "hotkeys": {
    "equation": "Ctrl-E",
    "itemize": "Ctrl-I"
   },
   "labels_anchors": false,
   "latex_user_defs": false,
   "report_style_numbering": false,
   "user_envs_cfg": false
  },
  "toc": {
   "colors": {
    "hover_highlight": "#DAA520",
    "navigate_num": "#000000",
    "navigate_text": "#333333",
    "running_highlight": "#FF0000",
    "selected_highlight": "#FFD700",
    "sidebar_border": "#EEEEEE",
    "wrapper_background": "#FFFFFF"
   },
   "moveMenuLeft": true,
   "nav_menu": {
    "height": "225px",
    "width": "252px"
   },
   "navigate_menu": true,
   "number_sections": true,
   "sideBar": true,
   "threshold": 4,
   "toc_cell": false,
   "toc_section_display": "block",
   "toc_window_display": false,
   "widenNotebook": false
  }
 },
 "nbformat": 4,
 "nbformat_minor": 2
}
