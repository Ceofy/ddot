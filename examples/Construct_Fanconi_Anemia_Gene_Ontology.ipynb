{
 "cells": [
  {
   "cell_type": "code",
   "execution_count": 1,
   "metadata": {
    "ExecuteTime": {
     "end_time": "2017-08-15T19:52:41.911801Z",
     "start_time": "2017-08-15T19:51:30.044433Z"
    },
    "collapsed": false
   },
   "outputs": [
    {
     "name": "stdout",
     "output_type": "stream",
     "text": [
      "\n"
     ]
    }
   ],
   "source": [
    "import requests\n",
    "import gzip\n",
    "import pandas as pd\n",
    "import networkx as nx\n",
    "import numpy as np\n",
    "\n",
    "%matplotlib inline\n",
    "import seaborn as sns\n",
    "\n",
    "import sys\n",
    "sys.path = ['/cellar/users/mikeyu/DeepTranslate/ddot'] + sys.path\n",
    "\n",
    "import ddot\n",
    "from ddot import Ontology, get_gene_name_converter, parse_gaf, parse_obo, nx_to_NdexGraph, read_term_descriptions, ndex_to_sim_matrix\n",
    "from ddot import expand_seed, melt_square, make_index, align_hierarchies, update_nx_with_alignment, parse_ndex_uuid, NdexGraph_to_nx, bubble_layout_nx, ddot_pipeline"
   ]
  },
  {
   "cell_type": "markdown",
   "metadata": {},
   "source": [
    "# Setup parameters"
   ]
  },
  {
   "cell_type": "code",
   "execution_count": 2,
   "metadata": {
    "ExecuteTime": {
     "end_time": "2017-08-15T19:52:41.918848Z",
     "start_time": "2017-08-15T19:52:41.914883Z"
    },
    "collapsed": true
   },
   "outputs": [],
   "source": [
    "alpha = 0.1\n",
    "beta = 0.5"
   ]
  },
  {
   "cell_type": "code",
   "execution_count": 3,
   "metadata": {
    "ExecuteTime": {
     "end_time": "2017-08-15T19:52:41.925625Z",
     "start_time": "2017-08-15T19:52:41.921357Z"
    },
    "collapsed": true
   },
   "outputs": [],
   "source": [
    "seed = ['FANCA','FANCB', 'FANCC', 'BRCA2', 'FANCD2', 'FANCE',\n",
    "        'FANCF', 'FANCG', 'FANCI', 'BRIP1', 'FANCL', 'FANCM', 'PALB2', 'RAD51C', 'SLX4', 'ERCC4', 'RAD51',\n",
    "        'BRCA1', 'UBE2T', 'XRCC2']"
   ]
  },
  {
   "cell_type": "markdown",
   "metadata": {},
   "source": [
    "# Download GO from NDEx"
   ]
  },
  {
   "cell_type": "code",
   "execution_count": 4,
   "metadata": {
    "ExecuteTime": {
     "end_time": "2017-08-08T23:05:26.033798Z",
     "start_time": "2017-08-08T23:05:26.030055Z"
    },
    "collapsed": true
   },
   "outputs": [],
   "source": [
    "go_human = Ontology.from_ndex(ddot.config.GO_HUMAN_URL)\n",
    "print go_human.summary()"
   ]
  },
  {
   "cell_type": "code",
   "execution_count": 4,
   "metadata": {
    "ExecuteTime": {
     "end_time": "2017-08-15T19:52:43.600139Z",
     "start_time": "2017-08-15T19:52:41.928219Z"
    },
    "collapsed": true
   },
   "outputs": [],
   "source": [
    "# go_human.to_pickle('/cellar/users/mikeyu/go.pkl')\n",
    "go_human = Ontology.read_pickle('/cellar/users/mikeyu/go.pkl')"
   ]
  },
  {
   "cell_type": "markdown",
   "metadata": {},
   "source": [
    "# Download gene similarity network from NDEx"
   ]
  },
  {
   "cell_type": "code",
   "execution_count": 5,
   "metadata": {
    "ExecuteTime": {
     "end_time": "2017-08-15T19:52:43.607365Z",
     "start_time": "2017-08-15T19:52:43.603360Z"
    },
    "collapsed": false
   },
   "outputs": [],
   "source": [
    "# sim, sim_names = ndex_to_sim_matrix(\n",
    "#     ndex_uuid='d2dfa5cc-56de-11e7-a2e2-0660b7976219',\n",
    "#     similarity='similarity',\n",
    "#     input_fmt='cx_matrix',\n",
    "#     output_fmt='matrix',\n",
    "#     subset=None)"
   ]
  },
  {
   "cell_type": "code",
   "execution_count": 6,
   "metadata": {
    "ExecuteTime": {
     "end_time": "2017-08-15T19:53:23.884449Z",
     "start_time": "2017-08-15T19:52:43.609779Z"
    },
    "collapsed": false
   },
   "outputs": [
    {
     "name": "stdout",
     "output_type": "stream",
     "text": [
      "CPU times: user 0 ns, sys: 0 ns, total: 0 ns\n",
      "Wall time: 720 ms\n"
     ]
    }
   ],
   "source": [
    "%time tmp = np.load('/cellar/users/mikeyu/DeepTranslate/hnexo/RFv2r3_square.npz')\n",
    "rf, rf_genes = tmp['rf'], tmp['genes']\n",
    "np.fill_diagonal(rf, 0)\n",
    "rf[np.isnan(rf)] = 0\n",
    "sim, sim_names = rf, rf_genes"
   ]
  },
  {
   "cell_type": "markdown",
   "metadata": {},
   "source": [
    "# Download gene-drug targets"
   ]
  },
  {
   "cell_type": "code",
   "execution_count": 7,
   "metadata": {
    "ExecuteTime": {
     "end_time": "2017-08-15T19:53:27.343887Z",
     "start_time": "2017-08-15T19:53:23.886645Z"
    },
    "collapsed": false
   },
   "outputs": [
    {
     "name": "stdout",
     "output_type": "stream",
     "text": [
      "\n"
     ]
    }
   ],
   "source": [
    "pharos, pharos_nodes = ndex_to_sim_matrix(\n",
    "    parse_ndex_uuid(ddot.config.PHAROS_URL),\n",
    "    similarity=None,\n",
    "    input_fmt='cx',\n",
    "    output_fmt='sparse')\n",
    "pharos.rename(columns={'Node1' : 'gene', 'Node2' : 'drug'}, inplace=True)\n",
    "gene_drug = pharos.groupby('gene').agg({'drug' : lambda x : ','.join(x)})\n",
    "gene_drug['has_drug'] = True"
   ]
  },
  {
   "cell_type": "markdown",
   "metadata": {},
   "source": [
    "# Run Ontology pipeline"
   ]
  },
  {
   "cell_type": "code",
   "execution_count": 8,
   "metadata": {
    "ExecuteTime": {
     "end_time": "2017-08-15T19:54:21.841189Z",
     "start_time": "2017-08-15T19:53:27.356673Z"
    },
    "collapsed": false,
    "scrolled": false
   },
   "outputs": [
    {
     "name": "stdout",
     "output_type": "stream",
     "text": [
      "min_sim: 5.20081410586\n",
      "Expanded gene set: 246\n",
      "temp output: /tmp/tmpJ118Mb\n",
      "temp graph: /tmp/tmp7T7KTZ\n",
      "temp output log: /tmp/tmpL6SEKs\n",
      "/tmp/tmp7T7KTZ\t0.1\t0.5\t-10000000 2017-08-15 19:53:28.585888\n",
      "CLIXO command: /cellar/users/mikeyu/DeepTranslate/ddot/ddot/mhk7-clixo_0.3-cec3674/clixo /tmp/tmp7T7KTZ 0.1 0.5 | awk '{if ( $1 ~ /^#/ ) {print \"\\#\", strftime(\"%Y-%m-%d %H:%M:%S\"), $0 ; fflush() } else {print $0}}' | tee /tmp/tmpL6SEKs\n",
      "Extracting by grep -v # 2017-08-15 19:53:30.768520\n",
      "Elapsed time (sec): 2.21404886246 2017-08-15 19:53:30.927493\n",
      "Ontology: 246 genes, 38 terms, 290 gene-term relations, 38 term-term relations\n",
      "node_attributes: \n",
      "edge_attributes: CLIXO_score\n",
      "collapse command: /cellar/users/mikeyu/alignOntology/collapseRedundantNodes /tmp/tmpypIRwj\n",
      "collapse command: /cellar/users/mikeyu/alignOntology/collapseRedundantNodes /tmp/tmp6U2Eb2\n",
      "Alignment command: /cellar/users/mikeyu/DeepTranslate/ddot/ddot/alignOntology/calculateFDRs /tmp/tmpS5Nm7I /tmp/tmp2opGPc 0.05 criss_cross /tmp/tmpZyVWM5 100 40 gene\n",
      "Alignment: 16 matches\n",
      "WARNING: There are 38 terms that have no direct gene annotations\n",
      "http://dev2.ndexbio.org/v2/network/345c4c73-822e-11e7-9743-0660b7976219\n"
     ]
    }
   ],
   "source": [
    "ont, url, ont_ndexgraph = ddot_pipeline(\n",
    "      alpha,\n",
    "      beta,\n",
    "      sim,\n",
    "      sim_names,\n",
    "      seed,\n",
    "      go_human,\n",
    "      node_attr=gene_drug,\n",
    "      name='Fanconi Anemia Gene Ontology (FanGO)',\n",
    "      expand_kwargs={'seed_perc':0, 'agg':'mean', 'figure':False},\n",
    "      align_kwargs={'iterations':100, 'threads': 40},\n",
    "      verbose=True\n",
    ")\n",
    "print url"
   ]
  }
 ],
 "metadata": {
  "kernelspec": {
   "display_name": "Python 2",
   "language": "python",
   "name": "python2"
  },
  "language_info": {
   "codemirror_mode": {
    "name": "ipython",
    "version": 2
   },
   "file_extension": ".py",
   "mimetype": "text/x-python",
   "name": "python",
   "nbconvert_exporter": "python",
   "pygments_lexer": "ipython2",
   "version": "2.7.13"
  },
  "latex_envs": {
   "LaTeX_envs_menu_present": true,
   "autocomplete": true,
   "bibliofile": "biblio.bib",
   "cite_by": "apalike",
   "current_citInitial": 1,
   "eqLabelWithNumbers": true,
   "eqNumInitial": 1,
   "hotkeys": {
    "equation": "Ctrl-E",
    "itemize": "Ctrl-I"
   },
   "labels_anchors": false,
   "latex_user_defs": false,
   "report_style_numbering": false,
   "user_envs_cfg": false
  },
  "toc": {
   "colors": {
    "hover_highlight": "#DAA520",
    "navigate_num": "#000000",
    "navigate_text": "#333333",
    "running_highlight": "#FF0000",
    "selected_highlight": "#FFD700",
    "sidebar_border": "#EEEEEE",
    "wrapper_background": "#FFFFFF"
   },
   "moveMenuLeft": true,
   "nav_menu": {
    "height": "225px",
    "width": "252px"
   },
   "navigate_menu": true,
   "number_sections": true,
   "sideBar": true,
   "threshold": 4,
   "toc_cell": false,
   "toc_section_display": "block",
   "toc_window_display": false,
   "widenNotebook": false
  }
 },
 "nbformat": 4,
 "nbformat_minor": 2
}
