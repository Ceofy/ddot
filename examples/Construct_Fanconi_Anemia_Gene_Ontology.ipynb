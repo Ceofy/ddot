{
 "cells": [
  {
   "cell_type": "code",
   "execution_count": 1,
   "metadata": {
    "ExecuteTime": {
     "end_time": "2017-08-09T12:44:04.487174Z",
     "start_time": "2017-08-09T12:43:48.217969Z"
    },
    "collapsed": false
   },
   "outputs": [],
   "source": [
    "import requests\n",
    "import gzip\n",
    "import pandas as pd\n",
    "import networkx as nx\n",
    "import numpy as np\n",
    "\n",
    "%matplotlib inline\n",
    "import seaborn as sns\n",
    "\n",
    "import sys\n",
    "sys.path = ['/cellar/users/mikeyu/DeepTranslate/ddot'] + sys.path\n",
    "\n",
    "import ddot\n",
    "from ddot import Ontology, get_gene_name_converter, parse_gaf, parse_obo, nx_to_NdexGraph, read_term_descriptions, ndex_to_sim_matrix\n",
    "from ddot import expand_seed, melt_square, make_index, align_hierarchies, update_nx_with_alignment, parse_ndex_uuid, NdexGraph_to_nx, bubble_layout_nx, ddot_pipeline"
   ]
  },
  {
   "cell_type": "markdown",
   "metadata": {},
   "source": [
    "# Setup parameters"
   ]
  },
  {
   "cell_type": "code",
   "execution_count": 2,
   "metadata": {
    "ExecuteTime": {
     "end_time": "2017-08-09T12:44:04.493286Z",
     "start_time": "2017-08-09T12:44:04.489863Z"
    },
    "collapsed": true
   },
   "outputs": [],
   "source": [
    "alpha = 0.1\n",
    "beta = 0.5"
   ]
  },
  {
   "cell_type": "code",
   "execution_count": 3,
   "metadata": {
    "ExecuteTime": {
     "end_time": "2017-08-09T12:44:04.501060Z",
     "start_time": "2017-08-09T12:44:04.496085Z"
    },
    "collapsed": true
   },
   "outputs": [],
   "source": [
    "seed = ['FANCA','FANCB', 'FANCC', 'BRCA2', 'FANCD2', 'FANCE',\n",
    "        'FANCF', 'FANCG', 'FANCI', 'BRIP1', 'FANCL', 'FANCM', 'PALB2', 'RAD51C', 'SLX4', 'ERCC4', 'RAD51',\n",
    "        'BRCA1', 'UBE2T', 'XRCC2']"
   ]
  },
  {
   "cell_type": "markdown",
   "metadata": {},
   "source": [
    "# Download GO from NDEx"
   ]
  },
  {
   "cell_type": "code",
   "execution_count": 4,
   "metadata": {
    "ExecuteTime": {
     "end_time": "2017-08-08T23:05:26.033798Z",
     "start_time": "2017-08-08T23:05:26.030055Z"
    },
    "collapsed": true
   },
   "outputs": [],
   "source": [
    "# go_human = Ontology.from_ndex(ddot.config.GO_HUMAN_URL, ndex_server, ndex_user, ndex_pass)\n",
    "# go_human.summary()\n",
    "\n",
    "# go_human.to_3col_table('/cellar/users/mikeyu/go.txt')"
   ]
  },
  {
   "cell_type": "code",
   "execution_count": 4,
   "metadata": {
    "ExecuteTime": {
     "end_time": "2017-08-09T12:44:10.839181Z",
     "start_time": "2017-08-09T12:44:04.504057Z"
    },
    "collapsed": false
   },
   "outputs": [],
   "source": [
    "go_human = Ontology.from_table('/cellar/users/mikeyu/go.txt')"
   ]
  },
  {
   "cell_type": "code",
   "execution_count": 5,
   "metadata": {
    "ExecuteTime": {
     "end_time": "2017-08-09T12:44:11.027194Z",
     "start_time": "2017-08-09T12:44:10.841392Z"
    },
    "collapsed": true
   },
   "outputs": [],
   "source": [
    "term_descriptions = read_term_descriptions('/cellar/users/mikeyu/DeepTranslate/go_human_7jun2017/goID_2_name.tab')\n",
    "go_human.update_node_attr(term_descriptions.to_frame())"
   ]
  },
  {
   "cell_type": "markdown",
   "metadata": {},
   "source": [
    "# Download gene similarity network from NDEx"
   ]
  },
  {
   "cell_type": "code",
   "execution_count": 6,
   "metadata": {
    "ExecuteTime": {
     "end_time": "2017-08-08T23:05:33.002913Z",
     "start_time": "2017-08-08T23:05:32.998137Z"
    },
    "collapsed": false
   },
   "outputs": [],
   "source": [
    "# sim, sim_names = ndex_to_sim_matrix(\n",
    "#     ndex_uuid='d2dfa5cc-56de-11e7-a2e2-0660b7976219',\n",
    "#     similarity='similarity',\n",
    "#     input_fmt='cx_matrix',\n",
    "#     output_fmt='matrix',\n",
    "#     subset=None)"
   ]
  },
  {
   "cell_type": "code",
   "execution_count": 7,
   "metadata": {
    "ExecuteTime": {
     "end_time": "2017-08-08T23:05:38.948567Z",
     "start_time": "2017-08-08T23:05:33.005829Z"
    },
    "collapsed": false
   },
   "outputs": [
    {
     "name": "stdout",
     "output_type": "stream",
     "text": [
      "CPU times: user 4 ms, sys: 0 ns, total: 4 ms\n",
      "Wall time: 1.75 ms\n"
     ]
    }
   ],
   "source": [
    "%time tmp = np.load('/cellar/users/mikeyu/DeepTranslate/hnexo/RFv2r3_square.npz')\n",
    "rf, rf_genes = tmp['rf'], tmp['genes']\n",
    "np.fill_diagonal(rf, 0)\n",
    "rf[np.isnan(rf)] = 0\n",
    "sim, sim_names = rf, rf_genes"
   ]
  },
  {
   "cell_type": "code",
   "execution_count": 8,
   "metadata": {
    "ExecuteTime": {
     "end_time": "2017-08-08T23:05:39.585199Z",
     "start_time": "2017-08-08T23:05:38.952970Z"
    },
    "collapsed": true
   },
   "outputs": [],
   "source": [
    "pharos, pharos_nodes = ndex_to_sim_matrix(\n",
    "    parse_ndex_uuid(ddot.config.PHAROS_URL),\n",
    "    similarity=None,\n",
    "    input_fmt='cx',\n",
    "    output_fmt='sparse')\n",
    "assert (pharos_nodes.loc[pharos['Node1'], 'Type'] == 'Gene').all()\n",
    "assert (pharos_nodes.loc[pharos['Node2'], 'Type'] == 'Drug').all()\n",
    "pharos.rename(columns={'Node1' : 'gene', 'Node2' : 'drug'}, inplace=True)\n",
    "gene_drug = pharos.groupby('gene').agg({'drug' : lambda x : ','.join(x)})\n",
    "gene_drug['has_drug'] = True"
   ]
  },
  {
   "cell_type": "code",
   "execution_count": 9,
   "metadata": {
    "ExecuteTime": {
     "end_time": "2017-08-08T23:05:39.590959Z",
     "start_time": "2017-08-08T23:05:39.587429Z"
    },
    "collapsed": false
   },
   "outputs": [],
   "source": [
    "# sim_flat = sim[np.triu_indices(sim.shape[0], k=1)]\n",
    "# min_sim = np.percentile(sim_flat, 98)\n",
    "# print min_sim\n",
    "\n",
    "# 99th percentile\n",
    "min_sim = 5.8080535279783332\n",
    "\n",
    "# 98th percentile\n",
    "# min_sim = 5.559528536"
   ]
  },
  {
   "cell_type": "code",
   "execution_count": 10,
   "metadata": {
    "ExecuteTime": {
     "end_time": "2017-08-08T23:06:00.930614Z",
     "start_time": "2017-08-08T23:05:39.592737Z"
    },
    "collapsed": false,
    "scrolled": false
   },
   "outputs": [
    {
     "name": "stdout",
     "output_type": "stream",
     "text": [
      "min_sim: 5.80805352798\n",
      "Expanded gene set: 69\n",
      "temp output: /tmp/tmpo6T5HE\n",
      "temp graph: /tmp/tmppRATvK\n",
      "temp output log: /tmp/tmp8oLzJP\n",
      "/tmp/tmppRATvK\t0.1\t0.5\t-10000000 2017-08-08 23:05:39.785566\n",
      "CLIXO command: /cellar/users/mikeyu/DeepTranslate/ddot/ddot/mhk7-clixo_0.3-cec3674/clixo /tmp/tmppRATvK 0.1 0.5 | awk '{if ( $1 ~ /^#/ ) {print \"\\#\", strftime(\"%Y-%m-%d %H:%M:%S\"), $0 ; fflush() } else {print $0}}' | tee /tmp/tmp8oLzJP\n",
      "Extracting by grep -v # 2017-08-08 23:05:39.951674\n",
      "Elapsed time (sec): 0.165986061096 2017-08-08 23:05:39.974577\n",
      "Ontology: 69 genes, 15 terms, 78 gene-term relations, 14 term-term relations\n",
      "collapse command: /cellar/users/mikeyu/alignOntology/collapseRedundantNodes /tmp/tmpqgQoFK\n",
      "collapse command: /cellar/users/mikeyu/alignOntology/collapseRedundantNodes /tmp/tmp7TjwRf\n",
      "Alignment command: /cellar/users/mikeyu/alignOntology/calculateFDRs /tmp/tmprozzBg /tmp/tmpFQNT_b 0.05 criss_cross /tmp/tmpbFz9df 100 101 gene\n",
      "Alignment: 5 matches\n",
      "WARNING: There are 15 terms that have no direct gene annotations\n"
     ]
    }
   ],
   "source": [
    "# %%time\n",
    "\n",
    "ont, alignment, uuid = ddot_pipeline(\n",
    "      alpha,\n",
    "      beta,\n",
    "      sim,\n",
    "      sim_names,\n",
    "      seed,\n",
    "      go_human,\n",
    "      name='Fanconi Anemia',\n",
    "      expand_kwargs={'expand_size':500, 'min_sim':min_sim, 'figure':False},\n",
    "      align_kwargs={'iterations':100, 'threads': 101},\n",
    "      verbose=True\n",
    ")"
   ]
  },
  {
   "cell_type": "code",
   "execution_count": null,
   "metadata": {
    "collapsed": true
   },
   "outputs": [],
   "source": []
  },
  {
   "cell_type": "code",
   "execution_count": null,
   "metadata": {
    "collapsed": true
   },
   "outputs": [],
   "source": []
  },
  {
   "cell_type": "code",
   "execution_count": null,
   "metadata": {
    "collapsed": true
   },
   "outputs": [],
   "source": []
  },
  {
   "cell_type": "code",
   "execution_count": null,
   "metadata": {
    "collapsed": true
   },
   "outputs": [],
   "source": []
  },
  {
   "cell_type": "code",
   "execution_count": 25,
   "metadata": {
    "ExecuteTime": {
     "end_time": "2017-08-08T22:14:26.209436Z",
     "start_time": "2017-08-08T22:14:26.200398Z"
    },
    "collapsed": false
   },
   "outputs": [],
   "source": [
    "idx = pd.MultiIndex.from_tuples([('a','b'), ('a','c'), ('c','d')], names=['1', '2'])\n",
    "df = pd.DataFrame({'v' : np.arange(3)}, index=idx)"
   ]
  },
  {
   "cell_type": "code",
   "execution_count": 33,
   "metadata": {
    "ExecuteTime": {
     "end_time": "2017-08-08T22:15:45.047399Z",
     "start_time": "2017-08-08T22:15:45.040327Z"
    },
    "collapsed": false
   },
   "outputs": [
    {
     "name": "stdout",
     "output_type": "stream",
     "text": [
      "('a', 'b') 0\n",
      "('a', 'c') 1\n",
      "('c', 'd') 2\n"
     ]
    }
   ],
   "source": [
    "for x, y in list(df.iteritems())[0][1].iteritems():\n",
    "    print x, y"
   ]
  }
 ],
 "metadata": {
  "kernelspec": {
   "display_name": "Python 2",
   "language": "python",
   "name": "python2"
  },
  "language_info": {
   "codemirror_mode": {
    "name": "ipython",
    "version": 2
   },
   "file_extension": ".py",
   "mimetype": "text/x-python",
   "name": "python",
   "nbconvert_exporter": "python",
   "pygments_lexer": "ipython2",
   "version": "2.7.13"
  },
  "latex_envs": {
   "LaTeX_envs_menu_present": true,
   "autocomplete": true,
   "bibliofile": "biblio.bib",
   "cite_by": "apalike",
   "current_citInitial": 1,
   "eqLabelWithNumbers": true,
   "eqNumInitial": 1,
   "hotkeys": {
    "equation": "Ctrl-E",
    "itemize": "Ctrl-I"
   },
   "labels_anchors": false,
   "latex_user_defs": false,
   "report_style_numbering": false,
   "user_envs_cfg": false
  },
  "toc": {
   "colors": {
    "hover_highlight": "#DAA520",
    "navigate_num": "#000000",
    "navigate_text": "#333333",
    "running_highlight": "#FF0000",
    "selected_highlight": "#FFD700",
    "sidebar_border": "#EEEEEE",
    "wrapper_background": "#FFFFFF"
   },
   "moveMenuLeft": true,
   "nav_menu": {
    "height": "225px",
    "width": "252px"
   },
   "navigate_menu": true,
   "number_sections": true,
   "sideBar": true,
   "threshold": 4,
   "toc_cell": false,
   "toc_section_display": "block",
   "toc_window_display": false,
   "widenNotebook": false
  }
 },
 "nbformat": 4,
 "nbformat_minor": 2
}
