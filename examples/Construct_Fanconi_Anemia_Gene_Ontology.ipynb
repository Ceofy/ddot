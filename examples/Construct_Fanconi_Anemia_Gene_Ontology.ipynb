{
 "cells": [
  {
   "cell_type": "code",
   "execution_count": null,
   "metadata": {
    "ExecuteTime": {
     "end_time": "2017-07-17T13:20:18.163547Z",
     "start_time": "2017-07-17T13:20:13.325721Z"
    },
    "collapsed": false
   },
   "outputs": [],
   "source": [
    "import requests\n",
    "import gzip\n",
    "import pandas as pd\n",
    "import networkx as nx\n",
    "import numpy as np\n",
    "\n",
    "%matplotlib inline\n",
    "import seaborn as sns\n",
    "\n",
    "import ddot\n",
    "from ddot import Ontology, get_gene_name_converter, parse_gaf, parse_obo, nx_to_NdexGraph, read_term_descriptions, ndex_to_sim_matrix\n",
    "from ddot import expand_seed, melt_square, make_index, align_hierarchies, update_nx_with_alignment, parse_ndex_uuid\n",
    "from ddot.utils import NdexGraph_to_nx\n",
    "from ddot.utils import bubble_layout_nx"
   ]
  },
  {
   "cell_type": "markdown",
   "metadata": {},
   "source": [
    "# Setup parameters"
   ]
  },
  {
   "cell_type": "code",
   "execution_count": null,
   "metadata": {
    "ExecuteTime": {
     "end_time": "2017-07-17T13:20:18.171187Z",
     "start_time": "2017-07-17T13:20:18.168068Z"
    },
    "collapsed": true
   },
   "outputs": [],
   "source": [
    "alpha = 0.1\n",
    "beta = 0.5"
   ]
  },
  {
   "cell_type": "code",
   "execution_count": null,
   "metadata": {
    "ExecuteTime": {
     "end_time": "2017-07-17T13:20:18.176776Z",
     "start_time": "2017-07-17T13:20:18.173545Z"
    },
    "collapsed": true
   },
   "outputs": [],
   "source": [
    "similarity_uuid = 'd2dfa5cc-56de-11e7-a2e2-0660b7976219'\n",
    "go_uuid = '8bfa8318-55ed-11e7-a2e2-0660b7976219'"
   ]
  },
  {
   "cell_type": "code",
   "execution_count": null,
   "metadata": {
    "ExecuteTime": {
     "end_time": "2017-07-17T13:20:18.192018Z",
     "start_time": "2017-07-17T13:20:18.186672Z"
    },
    "collapsed": true
   },
   "outputs": [],
   "source": [
    "seed = ['FANCA','FANCB', 'FANCC', 'BRCA2', 'FANCD2', 'FANCE',\n",
    "        'FANCF', 'FANCG', 'FANCI', 'BRIP1', 'FANCL', 'FANCM', 'PALB2', 'RAD51C', 'SLX4', 'ERCC4', 'RAD51',\n",
    "        'BRCA1', 'UBE2T', 'XRCC2']"
   ]
  },
  {
   "cell_type": "markdown",
   "metadata": {},
   "source": [
    "# Download similarity data from NDEx"
   ]
  },
  {
   "cell_type": "code",
   "execution_count": null,
   "metadata": {
    "ExecuteTime": {
     "end_time": "2017-07-14T17:15:12.040967Z",
     "start_time": "2017-07-14T17:15:12.037592Z"
    },
    "collapsed": true
   },
   "outputs": [],
   "source": [
    "sim, sim_names = ndex_to_sim_matrix(\n",
    "    similarity_uuid,\n",
    "    ndex_server,\n",
    "    ndex_user,\n",
    "    ndex_pass,\n",
    "    similarity='similarity',\n",
    "    input_fmt='cx_matrix',\n",
    "    output_fmt='matrix',\n",
    "    subset=None)"
   ]
  },
  {
   "cell_type": "markdown",
   "metadata": {},
   "source": [
    "# Expand known FA genes"
   ]
  },
  {
   "cell_type": "code",
   "execution_count": null,
   "metadata": {
    "ExecuteTime": {
     "end_time": "2017-07-17T13:20:23.461922Z",
     "start_time": "2017-07-17T13:20:23.033069Z"
    },
    "collapsed": false
   },
   "outputs": [],
   "source": [
    "expand, expand_idx, sim_2_seed, fig = expand_seed(\n",
    "    seed,\n",
    "    sim,\n",
    "    sim_names,\n",
    "    agg='mean',\n",
    "    min_sim=4,\n",
    "    filter_perc=None,\n",
    "    seed_perc=0,\n",
    "    agg_perc=None,\n",
    "    expand_size=None,\n",
    "    figure=True,\n",
    ")\n",
    "expand = list(expand)\n",
    "len(expand)"
   ]
  },
  {
   "cell_type": "markdown",
   "metadata": {},
   "source": [
    "# Run CLIXO"
   ]
  },
  {
   "cell_type": "code",
   "execution_count": null,
   "metadata": {
    "ExecuteTime": {
     "end_time": "2017-07-17T13:20:23.489648Z",
     "start_time": "2017-07-17T13:20:23.464637Z"
    },
    "collapsed": false
   },
   "outputs": [],
   "source": [
    "df_sq = pd.DataFrame(sim[expand_idx, :][:, expand_idx], index=expand, columns=expand)\n",
    "df = melt_square(df_sq)"
   ]
  },
  {
   "cell_type": "code",
   "execution_count": null,
   "metadata": {
    "ExecuteTime": {
     "end_time": "2017-07-17T13:20:24.832183Z",
     "start_time": "2017-07-17T13:20:23.492416Z"
    },
    "collapsed": false
   },
   "outputs": [],
   "source": [
    "ont = Ontology.run_clixo(df, alpha, beta)"
   ]
  },
  {
   "cell_type": "markdown",
   "metadata": {},
   "source": [
    "# Align with Gene Ontology"
   ]
  },
  {
   "cell_type": "markdown",
   "metadata": {},
   "source": [
    "## Read Gene Ontology from NDEx"
   ]
  },
  {
   "cell_type": "code",
   "execution_count": null,
   "metadata": {
    "ExecuteTime": {
     "end_time": "2017-07-17T13:20:42.683602Z",
     "start_time": "2017-07-17T13:20:24.833932Z"
    },
    "collapsed": false
   },
   "outputs": [],
   "source": [
    "go_human = Ontology.from_ndex(go_uuid, ndex_server, ndex_user, ndex_pass)\n",
    "go_human.summary()"
   ]
  },
  {
   "cell_type": "markdown",
   "metadata": {},
   "source": [
    "## Mutually collapse ontologies"
   ]
  },
  {
   "cell_type": "code",
   "execution_count": null,
   "metadata": {
    "ExecuteTime": {
     "end_time": "2017-07-17T13:20:46.343032Z",
     "start_time": "2017-07-17T13:20:42.687297Z"
    },
    "collapsed": false
   },
   "outputs": [],
   "source": [
    "ont_collapsed, go_human_collapsed = Ontology.mutual_collapse(ont, go_human)"
   ]
  },
  {
   "cell_type": "markdown",
   "metadata": {},
   "source": [
    "## Do alignment"
   ]
  },
  {
   "cell_type": "code",
   "execution_count": null,
   "metadata": {
    "ExecuteTime": {
     "end_time": "2017-07-17T13:20:49.566589Z",
     "start_time": "2017-07-17T13:20:46.345104Z"
    },
    "collapsed": false
   },
   "outputs": [],
   "source": [
    "alignment = align_hierarchies(ont_collapsed, go_human_collapsed, 3, 4)\n",
    "alignment.head()"
   ]
  },
  {
   "cell_type": "markdown",
   "metadata": {},
   "source": [
    "# Upload to NDEx"
   ]
  },
  {
   "cell_type": "markdown",
   "metadata": {},
   "source": [
    "## Upload subnetworks supporting each term"
   ]
  },
  {
   "cell_type": "code",
   "execution_count": null,
   "metadata": {
    "ExecuteTime": {
     "end_time": "2017-07-17T13:20:49.578152Z",
     "start_time": "2017-07-17T13:20:49.571826Z"
    },
    "collapsed": false
   },
   "outputs": [],
   "source": [
    "name = 'FanGO'\n",
    "description = (\n",
    "    'Data-driven ontology created by CLIXO '\n",
    "    '(parameters: alpha={alpha}, beta={beta}). '\n",
    "    'Created from similarity network '\n",
    "    'at {ndex_server}/{ndex_uuid}').format(\n",
    "        alpha=alpha,\n",
    "        beta=beta,\n",
    "        ndex_server=ndex_server,\n",
    "        ndex_uuid=similarity_uuid)"
   ]
  },
  {
   "cell_type": "code",
   "execution_count": null,
   "metadata": {
    "ExecuteTime": {
     "end_time": "2017-07-14T10:57:31.573716Z",
     "start_time": "2017-07-14T10:57:18.861501Z"
    },
    "collapsed": false,
    "scrolled": true
   },
   "outputs": [],
   "source": [
    "term_2_uuid = ont.upload_subnets_ndex(\n",
    "    df,\n",
    "    ['similarity'],\n",
    "    ndex_server,\n",
    "    ndex_user,\n",
    "    ndex_pass,\n",
    "    name,\n",
    "    propagate=True,\n",
    "    public=True,\n",
    "    verbose=True\n",
    ")"
   ]
  },
  {
   "cell_type": "markdown",
   "metadata": {},
   "source": [
    "## Upload ontology"
   ]
  },
  {
   "cell_type": "code",
   "execution_count": null,
   "metadata": {
    "ExecuteTime": {
     "end_time": "2017-07-17T13:51:29.896567Z",
     "start_time": "2017-07-17T13:51:29.857983Z"
    },
    "collapsed": false
   },
   "outputs": [],
   "source": [
    "ont_ndex = ont.to_NdexGraph(\n",
    "    name=name,\n",
    "    description=description,\n",
    "    term_2_uuid=None,\n",
    "    layout='bubble',\n",
    "    represents=True)\n",
    "update_nx_with_alignment(ont_ndex, alignment, use_node_name=True)"
   ]
  },
  {
   "cell_type": "code",
   "execution_count": null,
   "metadata": {
    "ExecuteTime": {
     "end_time": "2017-07-13T14:20:34.386300Z",
     "start_time": "2017-07-13T14:20:34.101153Z"
    },
    "collapsed": false
   },
   "outputs": [],
   "source": [
    "ont_url = ont_ndex.upload_to(ndex_server, ndex_user, ndex_pass)\n",
    "ont_uuid = parse_ndex_uuid(ont_url)\n",
    "ont_url"
   ]
  },
  {
   "cell_type": "code",
   "execution_count": null,
   "metadata": {
    "collapsed": false
   },
   "outputs": [],
   "source": [
    "import ndex.client as nc\n",
    "ndex = nc.Ndex(ndex_server, ndex_user, ndex_pass)\n",
    "ndex.make_network_public(ont_uuid)"
   ]
  }
 ],
 "metadata": {
  "kernelspec": {
   "display_name": "Python 2",
   "language": "python",
   "name": "python2"
  },
  "language_info": {
   "codemirror_mode": {
    "name": "ipython",
    "version": 2
   },
   "file_extension": ".py",
   "mimetype": "text/x-python",
   "name": "python",
   "nbconvert_exporter": "python",
   "pygments_lexer": "ipython2",
   "version": "2.7.13"
  },
  "latex_envs": {
   "LaTeX_envs_menu_present": true,
   "autocomplete": true,
   "bibliofile": "biblio.bib",
   "cite_by": "apalike",
   "current_citInitial": 1,
   "eqLabelWithNumbers": true,
   "eqNumInitial": 1,
   "hotkeys": {
    "equation": "Ctrl-E",
    "itemize": "Ctrl-I"
   },
   "labels_anchors": false,
   "latex_user_defs": false,
   "report_style_numbering": false,
   "user_envs_cfg": false
  },
  "toc": {
   "colors": {
    "hover_highlight": "#DAA520",
    "navigate_num": "#000000",
    "navigate_text": "#333333",
    "running_highlight": "#FF0000",
    "selected_highlight": "#FFD700",
    "sidebar_border": "#EEEEEE",
    "wrapper_background": "#FFFFFF"
   },
   "moveMenuLeft": true,
   "nav_menu": {
    "height": "225px",
    "width": "252px"
   },
   "navigate_menu": true,
   "number_sections": true,
   "sideBar": true,
   "threshold": 4,
   "toc_cell": false,
   "toc_section_display": "block",
   "toc_window_display": false,
   "widenNotebook": false
  }
 },
 "nbformat": 4,
 "nbformat_minor": 2
}
