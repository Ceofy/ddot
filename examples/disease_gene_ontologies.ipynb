{
 "cells": [
  {
   "cell_type": "code",
   "execution_count": 1,
   "metadata": {
    "ExecuteTime": {
     "end_time": "2017-11-09T23:27:44.814276Z",
     "start_time": "2017-11-09T23:27:44.750981Z"
    },
    "collapsed": true
   },
   "outputs": [],
   "source": [
    "%load_ext autoreload\n",
    "%autoreload 2"
   ]
  },
  {
   "cell_type": "code",
   "execution_count": 3,
   "metadata": {
    "ExecuteTime": {
     "end_time": "2017-11-09T23:27:49.278580Z",
     "start_time": "2017-11-09T23:27:44.954894Z"
    }
   },
   "outputs": [
    {
     "name": "stdout",
     "output_type": "stream",
     "text": [
      "\n",
      "\n"
     ]
    }
   ],
   "source": [
    "import sys\n",
    "import requests\n",
    "import gzip\n",
    "import pandas as pd\n",
    "import networkx as nx\n",
    "import numpy as np\n",
    "import cPickle\n",
    "import time\n",
    "import os\n",
    "import string\n",
    "from itertools import islice\n",
    "\n",
    "import ndex.client as nc\n",
    "\n",
    "sys.path.insert(0, '/cellar/users/mikeyu/DeepTranslate/ddot')\n",
    "import ddot"
   ]
  },
  {
   "cell_type": "markdown",
   "metadata": {},
   "source": [
    "# Set CLIXO parameters"
   ]
  },
  {
   "cell_type": "code",
   "execution_count": null,
   "metadata": {
    "collapsed": true
   },
   "outputs": [],
   "source": [
    "alpha = 0.05\n",
    "beta = 0.5\n",
    "\n",
    "threads = 40"
   ]
  },
  {
   "cell_type": "markdown",
   "metadata": {},
   "source": [
    "# Set NDEx account parameters"
   ]
  },
  {
   "cell_type": "code",
   "execution_count": null,
   "metadata": {
    "collapsed": true
   },
   "outputs": [],
   "source": [
    "ndex_server = 'http://test.ndexbio.org'\n",
    "ndex_user = 'scratch'\n",
    "ndex_pass = 'scratch'"
   ]
  },
  {
   "cell_type": "markdown",
   "metadata": {},
   "source": [
    "# Load pre-processed Gene Ontology"
   ]
  },
  {
   "cell_type": "code",
   "execution_count": null,
   "metadata": {
    "collapsed": true
   },
   "outputs": [],
   "source": [
    "go_human = Ontology.from_ndex(ddot.config.GO_HUMAN_URL)\n",
    "print go_human"
   ]
  },
  {
   "cell_type": "markdown",
   "metadata": {},
   "source": [
    "# Load gene-gene similarity network"
   ]
  },
  {
   "cell_type": "code",
   "execution_count": null,
   "metadata": {
    "collapsed": true
   },
   "outputs": [],
   "source": [
    "similarity_uuid = 'd2dfa5cc-56de-11e7-a2e2-0660b7976219'\n",
    "sim, sim_names = ndex_to_sim_matrix(\n",
    "    similarity_uuid=similarity_uuid,\n",
    "    similarity='similarity',\n",
    "    input_fmt='cx_matrix',\n",
    "    output_fmt='matrix',\n",
    "    subset=None)\n",
    "\n",
    "# Rank the similarity scores\n",
    "sim_rank = pd.DataFrame(sim).rank(0) / (sim.shape[0] - 1)\n",
    "sim_rank = pd.DataFrame((sim_rank.values + sim_rank.values.T) / 2.0, columns=sim_names, index=sim_names)"
   ]
  },
  {
   "cell_type": "code",
   "execution_count": 4,
   "metadata": {
    "ExecuteTime": {
     "end_time": "2017-11-09T23:27:58.547064Z",
     "start_time": "2017-11-09T23:27:49.290399Z"
    }
   },
   "outputs": [
    {
     "name": "stdout",
     "output_type": "stream",
     "text": [
      "19468 genes, 19343 terms, 215864 gene-term relations, 43296 term-term relations\n",
      "node_attributes: Term_Description, Branch, Size, uniprot, ensembl_gene, entrez_gene\n",
      "edge_attributes: \n"
     ]
    }
   ],
   "source": [
    "monarch = pd.read_table('/cellar/users/mikeyu/DeepTranslate/monarch/gene_disease.tsv', header=0)\n",
    "monarch = monarch.loc[monarch['subject_taxon_label']=='Homo sapiens']\n",
    "monarch = monarch.loc[[x.split(':')[0] not in ['NCBIGene', 'OMIA'] for x in monarch['object']]]\n",
    "# Convert punctuation to underscores '_'\n",
    "trantab = string.maketrans(string.punctuation, '_' * len(string.punctuation))\n",
    "monarch_groups = list(monarch.groupby(monarch.apply(lambda x: x['object_label'].translate(trantab).lower().replace(' ', '_'), 1)))"
   ]
  },
  {
   "cell_type": "markdown",
   "metadata": {},
   "source": [
    "# Make ontologies"
   ]
  },
  {
   "cell_type": "code",
   "execution_count": 27,
   "metadata": {
    "ExecuteTime": {
     "end_time": "2017-11-10T01:02:32.853155Z",
     "start_time": "2017-11-10T01:02:22.634134Z"
    }
   },
   "outputs": [
    {
     "name": "stdout",
     "output_type": "stream",
     "text": [
      "temp output: /tmp/tmpqYjD86\n",
      "temp graph: /tmp/tmp0y49Yt\n",
      "temp output log: /tmp/tmpHMj6I3\n",
      "/tmp/tmp0y49Yt\t0.05\t0.5\t-10000000 2017-11-09 17:02:23.972950\n",
      "CLIXO command: /cellar/users/mikeyu/DeepTranslate/ddot/ddot/mhk7-clixo_0.3-cec3674/clixo /tmp/tmp0y49Yt 0.05 0.5 | awk '{if ( $1 ~ /^#/ ) {print \"\\#\", strftime(\"%Y-%m-%d %H:%M:%S\"), $0 ; fflush() } else {print $0}}' | tee /tmp/tmpHMj6I3\n",
      "Extracting by grep -v # 2017-11-09 17:02:24.119528\n",
      "Elapsed time (sec): 0.154404163361 2017-11-09 17:02:24.154821\n",
      "Ontology: 3 genes, 1 terms, 3 gene-term relations, 0 term-term relations\n",
      "node_attributes: \n",
      "edge_attributes: CLIXO_score\n",
      "collapse command: /cellar/users/mikeyu/alignOntology/collapseRedundantNodes /tmp/tmp4hm_K6\n",
      "collapse command: /cellar/users/mikeyu/alignOntology/collapseRedundantNodes /tmp/tmppPrKN4\n",
      "Alignment command: /cellar/users/mikeyu/DeepTranslate/ddot/ddot/alignOntology/calculateFDRs /tmp/tmpPcFTTR /tmp/tmpnEw0EB 0.05 criss_cross /tmp/tmpRmkFSy 100 40 gene\n",
      "Alignment: 1 matches\n",
      "None\n",
      "3 genes, 1 terms, 3 gene-term relations, 0 term-term relations\n",
      "node_attributes: Aligned_Term, Aligned_Similarity, Aligned_FDR, Aligned_Term_Description, Aligned_Size, Label, Seed, Similarity_2_Seed, drug, has_drug, Vis:Fill Color\n",
      "edge_attributes: CLIXO_score\n"
     ]
    },
    {
     "ename": "NameError",
     "evalue": "name 'ont_url' is not defined",
     "output_type": "error",
     "traceback": [
      "\u001b[0;31m---------------------------------------------------------------------------\u001b[0m",
      "\u001b[0;31mNameError\u001b[0m                                 Traceback (most recent call last)",
      "\u001b[0;32m<ipython-input-27-e34398869ffc>\u001b[0m in \u001b[0;36m<module>\u001b[0;34m()\u001b[0m\n\u001b[1;32m     25\u001b[0m     \u001b[0mnx\u001b[0m\u001b[0;34m.\u001b[0m\u001b[0mwrite_graphml\u001b[0m\u001b[0;34m(\u001b[0m\u001b[0mont_ndexgraph\u001b[0m\u001b[0;34m,\u001b[0m \u001b[0;34m'%s.graphml'\u001b[0m \u001b[0;34m%\u001b[0m \u001b[0mbasename\u001b[0m\u001b[0;34m)\u001b[0m\u001b[0;34m\u001b[0m\u001b[0m\n\u001b[1;32m     26\u001b[0m \u001b[0;32mwith\u001b[0m \u001b[0mopen\u001b[0m\u001b[0;34m(\u001b[0m\u001b[0;34m'%s.ndex_url.txt'\u001b[0m \u001b[0;34m%\u001b[0m \u001b[0mbasename\u001b[0m\u001b[0;34m,\u001b[0m \u001b[0;34m'w'\u001b[0m\u001b[0;34m)\u001b[0m \u001b[0;32mas\u001b[0m \u001b[0mf\u001b[0m\u001b[0;34m:\u001b[0m\u001b[0;34m\u001b[0m\u001b[0m\n\u001b[0;32m---> 27\u001b[0;31m     \u001b[0mf\u001b[0m\u001b[0;34m.\u001b[0m\u001b[0mwrite\u001b[0m\u001b[0;34m(\u001b[0m\u001b[0mont_url\u001b[0m \u001b[0;34m+\u001b[0m \u001b[0;34m'\\n'\u001b[0m\u001b[0;34m)\u001b[0m\u001b[0;34m\u001b[0m\u001b[0m\n\u001b[0m\u001b[1;32m     28\u001b[0m \u001b[0mont\u001b[0m\u001b[0;34m.\u001b[0m\u001b[0mto_pickle\u001b[0m\u001b[0;34m(\u001b[0m\u001b[0;34m'%s.pkl'\u001b[0m \u001b[0;34m%\u001b[0m \u001b[0mbasename\u001b[0m\u001b[0;34m)\u001b[0m\u001b[0;34m\u001b[0m\u001b[0m\n",
      "\u001b[0;31mNameError\u001b[0m: name 'ont_url' is not defined"
     ]
    }
   ],
   "source": [
    "for disease_index in range(len(monarch_groups)):\n",
    "    \n",
    "    disease_name, group = monarch_groups[disease_index]\n",
    "    seed = group['subject_label'].unique().tolist()\n",
    "    print 'Disease:', disease_name, '\\n\\t', 'Seed:', len(seed), seed\n",
    "\n",
    "    total_genes = set(sim_names)\n",
    "    seed = [s for s in seed if s in total_genes]\n",
    "    print '\\tFiltered seeds:', len(seed)\n",
    "\n",
    "    expand, expand_idx, sim_2_seed, fig = ddot.expand_seed(seed, **{'sim': sim_rank.values, 'sim_names': sim_names, 'seed_perc':0, 'agg':'mean', 'figure':True})\n",
    "    print '\\tExpanded genes:', len(expand)\n",
    "\n",
    "    if len(expand) <= 500:\n",
    "        ont, url, ont_ndexgraph, expand_results = ddot.make_seed_ontology(\n",
    "              seed,\n",
    "              sim,\n",
    "              sim_names,\n",
    "              alpha,\n",
    "              beta,\n",
    "              go_human,\n",
    "              node_attr=gene_drug,\n",
    "              name=disease_name,\n",
    "              expand_kwargs={'sim': sim_rank.values, 'sim_names': sim_names, 'seed_perc':0, 'agg':'mean', 'figure':True},\n",
    "              ndex_kwargs={'ndex_user':ndex_user, 'ndex_pass':ndex_pass, 'ndex_server':ndex_server},\n",
    "              align_kwargs={'iterations':100, 'threads': threads, 'update_self': ['Term_Description', 'Size']},\n",
    "              subnet_max_term_size=None,\n",
    "              verbose=True,\n",
    "              ndex=False,\n",
    "        )\n",
    "        print url\n",
    "        print ont\n",
    "\n",
    "        basename = 'diseases/%s' % disease_name\n",
    "        _ = ont.to_cx('%s.cx' % basename, layout='bubble-collect', style='passthrough')\n",
    "        _ = ont.unfold().to_cx('%s.unfold.cx' % basename, layout='bubble', style='passthrough')\n",
    "        pd.io.pickle.to_pickle(expand_results, '%s.expand.pkl' % basename)\n",
    "        if ont_ndexgraph is not None:\n",
    "            nx.write_graphml(ont_ndexgraph, '%s.graphml' % basename)\n",
    "        with open('%s.ndex_url.txt' % basename, 'w') as f:\n",
    "            f.write(url + '\\n')\n",
    "        ont.to_pickle('%s.pkl' % basename)"
   ]
  }
 ],
 "metadata": {
  "kernelspec": {
   "display_name": "Python 2",
   "language": "python",
   "name": "python2"
  },
  "language_info": {
   "codemirror_mode": {
    "name": "ipython",
    "version": 2
   },
   "file_extension": ".py",
   "mimetype": "text/x-python",
   "name": "python",
   "nbconvert_exporter": "python",
   "pygments_lexer": "ipython2",
   "version": "2.7.13"
  },
  "latex_envs": {
   "LaTeX_envs_menu_present": true,
   "autocomplete": true,
   "bibliofile": "biblio.bib",
   "cite_by": "apalike",
   "current_citInitial": 1,
   "eqLabelWithNumbers": true,
   "eqNumInitial": 1,
   "hotkeys": {
    "equation": "Ctrl-E",
    "itemize": "Ctrl-I"
   },
   "labels_anchors": false,
   "latex_user_defs": false,
   "report_style_numbering": false,
   "user_envs_cfg": false
  },
  "toc": {
   "colors": {
    "hover_highlight": "#DAA520",
    "navigate_num": "#000000",
    "navigate_text": "#333333",
    "running_highlight": "#FF0000",
    "selected_highlight": "#FFD700",
    "sidebar_border": "#EEEEEE",
    "wrapper_background": "#FFFFFF"
   },
   "moveMenuLeft": true,
   "nav_menu": {
    "height": "12px",
    "width": "252px"
   },
   "navigate_menu": true,
   "number_sections": true,
   "sideBar": true,
   "threshold": 4,
   "toc_cell": false,
   "toc_section_display": "block",
   "toc_window_display": false,
   "widenNotebook": false
  }
 },
 "nbformat": 4,
 "nbformat_minor": 2
}
