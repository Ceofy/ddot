{
 "cells": [
  {
   "cell_type": "markdown",
   "metadata": {},
   "source": [
    "# tohiview v1.0.1"
   ]
  },
  {
   "cell_type": "markdown",
   "metadata": {},
   "source": [
    "This is a updated tutorial of visualizing hierarchical protein network modules, via a script that intefacing the DDOT python package (v1.0.1) and the HiView server (v2.6)\n",
    "\n",
    "Author: Fan Zheng  \n",
    "Date: 08/04/2020"
   ]
  },
  {
   "cell_type": "markdown",
   "metadata": {},
   "source": [
    "If the DDOT package has been installed and all dependencies are satisfied, all you need is the upload script `tohiview.py`, and a few input files of that script. This tutorial will walk over the creation of hierarchical models and their visualization in HiView.   "
   ]
  },
  {
   "cell_type": "code",
   "execution_count": 20,
   "metadata": {},
   "outputs": [],
   "source": [
    "username = 'fzheng' # replace with your username"
   ]
  },
  {
   "cell_type": "code",
   "execution_count": 16,
   "metadata": {},
   "outputs": [
    {
     "name": "stdin",
     "output_type": "stream",
     "text": [
      "Passwd here:  ········\n"
     ]
    }
   ],
   "source": [
    "import getpass\n",
    "passwd = getpass.getpass(\"Passwd here: \")"
   ]
  },
  {
   "cell_type": "markdown",
   "metadata": {},
   "source": [
    "The available options of the upload script are listed below. Many options are available, but only `--ont`, `--hier_name`, `--ndex_acount` are required.\n",
    "\n",
    "`--ont` should be a 3-col file defined in DDOT, which represent parent, child and type of the relationship (see details here).  \n",
    "`--hier_name` is just a string to label the files.   \n",
    "`--ndex_acount` contains 3 strings, the server name (http://www.ndexbio.org for all external users), a username and a password."
   ]
  },
  {
   "cell_type": "code",
   "execution_count": 15,
   "metadata": {
    "scrolled": false
   },
   "outputs": [
    {
     "name": "stdout",
     "output_type": "stream",
     "text": [
      "usage: tohiview.py [-h] --ont ONT --hier_name HIER_NAME\n",
      "                   [--subnet_size SUBNET_SIZE SUBNET_SIZE]\n",
      "                   [--node_attr NODE_ATTR] [--subnet_links SUBNET_LINKS]\n",
      "                   [--rf_score RF_SCORE] [--gene_attr GENE_ATTR]\n",
      "                   [--term_2_uuid TERM_2_UUID]\n",
      "                   [--visible_cols [VISIBLE_COLS [VISIBLE_COLS ...]]]\n",
      "                   [--max_num_edges MAX_NUM_EDGES] [--col_color COL_COLOR]\n",
      "                   [--col_label COL_LABEL]\n",
      "                   [--ndex_account NDEX_ACCOUNT NDEX_ACCOUNT NDEX_ACCOUNT]\n",
      "                   [--rename RENAME] [--skip_main]\n",
      "\n",
      "optional arguments:\n",
      "  -h, --help            show this help message and exit\n",
      "  --ont ONT             ontology file, 3 col table\n",
      "  --hier_name HIER_NAME\n",
      "                        name of the hierarchy\n",
      "  --subnet_size SUBNET_SIZE SUBNET_SIZE\n",
      "                        minimum and maximum term size to show network support\n",
      "  --node_attr NODE_ATTR\n",
      "                        table file for attributes on systems\n",
      "  --subnet_links SUBNET_LINKS\n",
      "                        data frame for network support\n",
      "  --rf_score RF_SCORE   integrated edge score\n",
      "  --gene_attr GENE_ATTR\n",
      "                        table file for attributes on genes\n",
      "  --term_2_uuid TERM_2_UUID\n",
      "                        if available, reuse networks that are already on NDEX\n",
      "  --visible_cols [VISIBLE_COLS [VISIBLE_COLS ...]]\n",
      "                        a list, specified column names in the ode attribute\n",
      "                        file will be shown as subsystem information\n",
      "  --max_num_edges MAX_NUM_EDGES\n",
      "                        maximum number of edges uploaded\n",
      "  --col_color COL_COLOR\n",
      "                        a column name in the node attribute file, used to\n",
      "                        color the node (only works in node-link diagram)\n",
      "  --col_label COL_LABEL\n",
      "                        a column name in the node attribute file, add as the\n",
      "                        term label on the map\n",
      "  --ndex_account NDEX_ACCOUNT NDEX_ACCOUNT NDEX_ACCOUNT\n",
      "  --rename RENAME       if not None, rename name of subsystems specified by\n",
      "                        this column in the node_attr file\n",
      "  --skip_main           if true, do not update the main hierarchy\n"
     ]
    },
    {
     "name": "stderr",
     "output_type": "stream",
     "text": [
      "In /cellar/users/f6zheng/anaconda2/envs/ddot/lib/python3.6/site-packages/matplotlib/mpl-data/stylelib/_classic_test.mplstyle: \n",
      "The savefig.frameon rcparam was deprecated in Matplotlib 3.1 and will be removed in 3.3.\n",
      "In /cellar/users/f6zheng/anaconda2/envs/ddot/lib/python3.6/site-packages/matplotlib/mpl-data/stylelib/_classic_test.mplstyle: \n",
      "The verbose.level rcparam was deprecated in Matplotlib 3.1 and will be removed in 3.3.\n",
      "In /cellar/users/f6zheng/anaconda2/envs/ddot/lib/python3.6/site-packages/matplotlib/mpl-data/stylelib/_classic_test.mplstyle: \n",
      "The verbose.fileo rcparam was deprecated in Matplotlib 3.1 and will be removed in 3.3.\n"
     ]
    }
   ],
   "source": [
    "%%bash \n",
    "\n",
    "python ../../ddot/tohiview.py -h"
   ]
  },
  {
   "cell_type": "markdown",
   "metadata": {},
   "source": [
    "# 1. A simple hierarchy"
   ]
  },
  {
   "cell_type": "markdown",
   "metadata": {},
   "source": [
    "We will first create and upload a decoy hierarchy."
   ]
  },
  {
   "cell_type": "code",
   "execution_count": 31,
   "metadata": {},
   "outputs": [
    {
     "data": {
      "text/html": [
       "<div>\n",
       "<style scoped>\n",
       "    .dataframe tbody tr th:only-of-type {\n",
       "        vertical-align: middle;\n",
       "    }\n",
       "\n",
       "    .dataframe tbody tr th {\n",
       "        vertical-align: top;\n",
       "    }\n",
       "\n",
       "    .dataframe thead th {\n",
       "        text-align: right;\n",
       "    }\n",
       "</style>\n",
       "<table border=\"1\" class=\"dataframe\">\n",
       "  <thead>\n",
       "    <tr style=\"text-align: right;\">\n",
       "      <th></th>\n",
       "      <th>0</th>\n",
       "      <th>1</th>\n",
       "      <th>2</th>\n",
       "    </tr>\n",
       "  </thead>\n",
       "  <tbody>\n",
       "    <tr>\n",
       "      <td>0</td>\n",
       "      <td>ROOT</td>\n",
       "      <td>Coarse-1</td>\n",
       "      <td>default</td>\n",
       "    </tr>\n",
       "    <tr>\n",
       "      <td>1</td>\n",
       "      <td>ROOT</td>\n",
       "      <td>Coarse-2</td>\n",
       "      <td>default</td>\n",
       "    </tr>\n",
       "    <tr>\n",
       "      <td>2</td>\n",
       "      <td>Coarse-1</td>\n",
       "      <td>Fine-1</td>\n",
       "      <td>default</td>\n",
       "    </tr>\n",
       "    <tr>\n",
       "      <td>3</td>\n",
       "      <td>Coarse-1</td>\n",
       "      <td>Fine-2</td>\n",
       "      <td>default</td>\n",
       "    </tr>\n",
       "    <tr>\n",
       "      <td>4</td>\n",
       "      <td>Coarse-1</td>\n",
       "      <td>Fine-3</td>\n",
       "      <td>default</td>\n",
       "    </tr>\n",
       "    <tr>\n",
       "      <td>5</td>\n",
       "      <td>Coarse-2</td>\n",
       "      <td>Fine-3</td>\n",
       "      <td>default</td>\n",
       "    </tr>\n",
       "    <tr>\n",
       "      <td>6</td>\n",
       "      <td>Coarse-2</td>\n",
       "      <td>Fine-4</td>\n",
       "      <td>default</td>\n",
       "    </tr>\n",
       "    <tr>\n",
       "      <td>7</td>\n",
       "      <td>Fine-1</td>\n",
       "      <td>A</td>\n",
       "      <td>gene</td>\n",
       "    </tr>\n",
       "    <tr>\n",
       "      <td>8</td>\n",
       "      <td>Fine-1</td>\n",
       "      <td>B</td>\n",
       "      <td>gene</td>\n",
       "    </tr>\n",
       "    <tr>\n",
       "      <td>9</td>\n",
       "      <td>Coarse-1</td>\n",
       "      <td>C</td>\n",
       "      <td>gene</td>\n",
       "    </tr>\n",
       "  </tbody>\n",
       "</table>\n",
       "</div>"
      ],
      "text/plain": [
       "          0         1        2\n",
       "0      ROOT  Coarse-1  default\n",
       "1      ROOT  Coarse-2  default\n",
       "2  Coarse-1    Fine-1  default\n",
       "3  Coarse-1    Fine-2  default\n",
       "4  Coarse-1    Fine-3  default\n",
       "5  Coarse-2    Fine-3  default\n",
       "6  Coarse-2    Fine-4  default\n",
       "7    Fine-1         A     gene\n",
       "8    Fine-1         B     gene\n",
       "9  Coarse-1         C     gene"
      ]
     },
     "execution_count": 31,
     "metadata": {},
     "output_type": "execute_result"
    }
   ],
   "source": [
    "d = './data'\n",
    "df = pd.read_csv(d + '/decoy.txt', sep='\\t', header=None)\n",
    "df"
   ]
  },
  {
   "cell_type": "code",
   "execution_count": 22,
   "metadata": {},
   "outputs": [
    {
     "name": "stdout",
     "output_type": "stream",
     "text": [
      "Creating NdexGraph\n",
      "\n",
      "Uploading to NDEx\n"
     ]
    },
    {
     "name": "stderr",
     "output_type": "stream",
     "text": [
      "In /cellar/users/f6zheng/anaconda2/envs/ddot/lib/python3.6/site-packages/matplotlib/mpl-data/stylelib/_classic_test.mplstyle: \n",
      "The savefig.frameon rcparam was deprecated in Matplotlib 3.1 and will be removed in 3.3.\n",
      "In /cellar/users/f6zheng/anaconda2/envs/ddot/lib/python3.6/site-packages/matplotlib/mpl-data/stylelib/_classic_test.mplstyle: \n",
      "The verbose.level rcparam was deprecated in Matplotlib 3.1 and will be removed in 3.3.\n",
      "In /cellar/users/f6zheng/anaconda2/envs/ddot/lib/python3.6/site-packages/matplotlib/mpl-data/stylelib/_classic_test.mplstyle: \n",
      "The verbose.fileo rcparam was deprecated in Matplotlib 3.1 and will be removed in 3.3.\n",
      "Traceback (most recent call last):\n",
      "  File \"../../ddot/tohiview.py\", line 241, in <module>\n",
      "    main_uuid = upload_main_hierarchy(ont, args.hier_name, term_uuid, vis_cols)\n",
      "  File \"../../ddot/tohiview.py\", line 148, in upload_main_hierarchy\n",
      "    verbose=True)\n",
      "  File \"/cellar/users/f6zheng/anaconda2/envs/ddot/lib/python3.6/site-packages/ddot/Ontology.py\", line 3338, in to_ndex\n",
      "    ont_url = G.upload_to(ndex_server, ndex_user, ndex_pass, visibility=visibility)\n",
      "  File \"/cellar/users/f6zheng/anaconda2/envs/ddot/lib/python3.6/site-packages/ndex/networkn.py\", line 1118, in upload_to\n",
      "    return ndex.save_new_network(self.to_cx(), visibility=visibility, indexed_fields=indexed_fields)\n",
      "  File \"/cellar/users/f6zheng/anaconda2/envs/ddot/lib/python3.6/site-packages/ndex/client.py\", line 275, in save_new_network\n",
      "    return self.save_cx_stream_as_new_network(stream, visibility=visibility, indexed_fields=indexed_fields)\n",
      "  File \"/cellar/users/f6zheng/anaconda2/envs/ddot/lib/python3.6/site-packages/ndex/client.py\", line 311, in save_cx_stream_as_new_network\n",
      "    return self.post_multipart(route, fields, query_string=query_string)\n",
      "  File \"/cellar/users/f6zheng/anaconda2/envs/ddot/lib/python3.6/site-packages/ndex/client.py\", line 248, in post_multipart\n",
      "    response.raise_for_status()\n",
      "  File \"/cellar/users/f6zheng/anaconda2/envs/ddot/lib/python3.6/site-packages/requests/models.py\", line 940, in raise_for_status\n",
      "    raise HTTPError(http_error_msg, response=self)\n",
      "requests.exceptions.HTTPError: 401 Client Error: 401 for url: http://www.ndexbio.org/v2/network?visibility=PUBLIC\n"
     ]
    },
    {
     "ename": "CalledProcessError",
     "evalue": "Command 'b'\\npython ../../ddot/tohiview.py --ont ./data/small-1.txt --hier_name small-1 --ndex_account http://www.ndexbio.org $1 $2\\n'' returned non-zero exit status 1.",
     "output_type": "error",
     "traceback": [
      "\u001b[0;31m---------------------------------------------------------------------------\u001b[0m",
      "\u001b[0;31mCalledProcessError\u001b[0m                        Traceback (most recent call last)",
      "\u001b[0;32m<ipython-input-22-d2d74ee492a0>\u001b[0m in \u001b[0;36m<module>\u001b[0;34m\u001b[0m\n\u001b[0;32m----> 1\u001b[0;31m \u001b[0mget_ipython\u001b[0m\u001b[0;34m(\u001b[0m\u001b[0;34m)\u001b[0m\u001b[0;34m.\u001b[0m\u001b[0mrun_cell_magic\u001b[0m\u001b[0;34m(\u001b[0m\u001b[0;34m'bash'\u001b[0m\u001b[0;34m,\u001b[0m \u001b[0;34m'-s \"$username\", \"$passwd\"'\u001b[0m\u001b[0;34m,\u001b[0m \u001b[0;34m'\\npython ../../ddot/tohiview.py --ont ./data/small-1.txt --hier_name small-1 --ndex_account http://www.ndexbio.org $1 $2\\n'\u001b[0m\u001b[0;34m)\u001b[0m\u001b[0;34m\u001b[0m\u001b[0m\n\u001b[0m",
      "\u001b[0;32m~/anaconda2/envs/ddot/lib/python3.6/site-packages/IPython/core/interactiveshell.py\u001b[0m in \u001b[0;36mrun_cell_magic\u001b[0;34m(self, magic_name, line, cell)\u001b[0m\n\u001b[1;32m   2357\u001b[0m             \u001b[0;32mwith\u001b[0m \u001b[0mself\u001b[0m\u001b[0;34m.\u001b[0m\u001b[0mbuiltin_trap\u001b[0m\u001b[0;34m:\u001b[0m\u001b[0;34m\u001b[0m\u001b[0m\n\u001b[1;32m   2358\u001b[0m                 \u001b[0margs\u001b[0m \u001b[0;34m=\u001b[0m \u001b[0;34m(\u001b[0m\u001b[0mmagic_arg_s\u001b[0m\u001b[0;34m,\u001b[0m \u001b[0mcell\u001b[0m\u001b[0;34m)\u001b[0m\u001b[0;34m\u001b[0m\u001b[0m\n\u001b[0;32m-> 2359\u001b[0;31m                 \u001b[0mresult\u001b[0m \u001b[0;34m=\u001b[0m \u001b[0mfn\u001b[0m\u001b[0;34m(\u001b[0m\u001b[0;34m*\u001b[0m\u001b[0margs\u001b[0m\u001b[0;34m,\u001b[0m \u001b[0;34m**\u001b[0m\u001b[0mkwargs\u001b[0m\u001b[0;34m)\u001b[0m\u001b[0;34m\u001b[0m\u001b[0m\n\u001b[0m\u001b[1;32m   2360\u001b[0m             \u001b[0;32mreturn\u001b[0m \u001b[0mresult\u001b[0m\u001b[0;34m\u001b[0m\u001b[0m\n\u001b[1;32m   2361\u001b[0m \u001b[0;34m\u001b[0m\u001b[0m\n",
      "\u001b[0;32m~/anaconda2/envs/ddot/lib/python3.6/site-packages/IPython/core/magics/script.py\u001b[0m in \u001b[0;36mnamed_script_magic\u001b[0;34m(line, cell)\u001b[0m\n\u001b[1;32m    140\u001b[0m             \u001b[0;32melse\u001b[0m\u001b[0;34m:\u001b[0m\u001b[0;34m\u001b[0m\u001b[0m\n\u001b[1;32m    141\u001b[0m                 \u001b[0mline\u001b[0m \u001b[0;34m=\u001b[0m \u001b[0mscript\u001b[0m\u001b[0;34m\u001b[0m\u001b[0m\n\u001b[0;32m--> 142\u001b[0;31m             \u001b[0;32mreturn\u001b[0m \u001b[0mself\u001b[0m\u001b[0;34m.\u001b[0m\u001b[0mshebang\u001b[0m\u001b[0;34m(\u001b[0m\u001b[0mline\u001b[0m\u001b[0;34m,\u001b[0m \u001b[0mcell\u001b[0m\u001b[0;34m)\u001b[0m\u001b[0;34m\u001b[0m\u001b[0m\n\u001b[0m\u001b[1;32m    143\u001b[0m \u001b[0;34m\u001b[0m\u001b[0m\n\u001b[1;32m    144\u001b[0m         \u001b[0;31m# write a basic docstring:\u001b[0m\u001b[0;34m\u001b[0m\u001b[0;34m\u001b[0m\u001b[0m\n",
      "\u001b[0;32m</cellar/users/f6zheng/anaconda2/envs/ddot/lib/python3.6/site-packages/decorator.py:decorator-gen-110>\u001b[0m in \u001b[0;36mshebang\u001b[0;34m(self, line, cell)\u001b[0m\n",
      "\u001b[0;32m~/anaconda2/envs/ddot/lib/python3.6/site-packages/IPython/core/magic.py\u001b[0m in \u001b[0;36m<lambda>\u001b[0;34m(f, *a, **k)\u001b[0m\n\u001b[1;32m    185\u001b[0m     \u001b[0;31m# but it's overkill for just that one bit of state.\u001b[0m\u001b[0;34m\u001b[0m\u001b[0;34m\u001b[0m\u001b[0m\n\u001b[1;32m    186\u001b[0m     \u001b[0;32mdef\u001b[0m \u001b[0mmagic_deco\u001b[0m\u001b[0;34m(\u001b[0m\u001b[0marg\u001b[0m\u001b[0;34m)\u001b[0m\u001b[0;34m:\u001b[0m\u001b[0;34m\u001b[0m\u001b[0m\n\u001b[0;32m--> 187\u001b[0;31m         \u001b[0mcall\u001b[0m \u001b[0;34m=\u001b[0m \u001b[0;32mlambda\u001b[0m \u001b[0mf\u001b[0m\u001b[0;34m,\u001b[0m \u001b[0;34m*\u001b[0m\u001b[0ma\u001b[0m\u001b[0;34m,\u001b[0m \u001b[0;34m**\u001b[0m\u001b[0mk\u001b[0m\u001b[0;34m:\u001b[0m \u001b[0mf\u001b[0m\u001b[0;34m(\u001b[0m\u001b[0;34m*\u001b[0m\u001b[0ma\u001b[0m\u001b[0;34m,\u001b[0m \u001b[0;34m**\u001b[0m\u001b[0mk\u001b[0m\u001b[0;34m)\u001b[0m\u001b[0;34m\u001b[0m\u001b[0m\n\u001b[0m\u001b[1;32m    188\u001b[0m \u001b[0;34m\u001b[0m\u001b[0m\n\u001b[1;32m    189\u001b[0m         \u001b[0;32mif\u001b[0m \u001b[0mcallable\u001b[0m\u001b[0;34m(\u001b[0m\u001b[0marg\u001b[0m\u001b[0;34m)\u001b[0m\u001b[0;34m:\u001b[0m\u001b[0;34m\u001b[0m\u001b[0m\n",
      "\u001b[0;32m~/anaconda2/envs/ddot/lib/python3.6/site-packages/IPython/core/magics/script.py\u001b[0m in \u001b[0;36mshebang\u001b[0;34m(self, line, cell)\u001b[0m\n\u001b[1;32m    243\u001b[0m             \u001b[0msys\u001b[0m\u001b[0;34m.\u001b[0m\u001b[0mstderr\u001b[0m\u001b[0;34m.\u001b[0m\u001b[0mflush\u001b[0m\u001b[0;34m(\u001b[0m\u001b[0;34m)\u001b[0m\u001b[0;34m\u001b[0m\u001b[0m\n\u001b[1;32m    244\u001b[0m         \u001b[0;32mif\u001b[0m \u001b[0margs\u001b[0m\u001b[0;34m.\u001b[0m\u001b[0mraise_error\u001b[0m \u001b[0;32mand\u001b[0m \u001b[0mp\u001b[0m\u001b[0;34m.\u001b[0m\u001b[0mreturncode\u001b[0m\u001b[0;34m!=\u001b[0m\u001b[0;36m0\u001b[0m\u001b[0;34m:\u001b[0m\u001b[0;34m\u001b[0m\u001b[0m\n\u001b[0;32m--> 245\u001b[0;31m             \u001b[0;32mraise\u001b[0m \u001b[0mCalledProcessError\u001b[0m\u001b[0;34m(\u001b[0m\u001b[0mp\u001b[0m\u001b[0;34m.\u001b[0m\u001b[0mreturncode\u001b[0m\u001b[0;34m,\u001b[0m \u001b[0mcell\u001b[0m\u001b[0;34m,\u001b[0m \u001b[0moutput\u001b[0m\u001b[0;34m=\u001b[0m\u001b[0mout\u001b[0m\u001b[0;34m,\u001b[0m \u001b[0mstderr\u001b[0m\u001b[0;34m=\u001b[0m\u001b[0merr\u001b[0m\u001b[0;34m)\u001b[0m\u001b[0;34m\u001b[0m\u001b[0m\n\u001b[0m\u001b[1;32m    246\u001b[0m \u001b[0;34m\u001b[0m\u001b[0m\n\u001b[1;32m    247\u001b[0m     \u001b[0;32mdef\u001b[0m \u001b[0m_run_script\u001b[0m\u001b[0;34m(\u001b[0m\u001b[0mself\u001b[0m\u001b[0;34m,\u001b[0m \u001b[0mp\u001b[0m\u001b[0;34m,\u001b[0m \u001b[0mcell\u001b[0m\u001b[0;34m,\u001b[0m \u001b[0mto_close\u001b[0m\u001b[0;34m)\u001b[0m\u001b[0;34m:\u001b[0m\u001b[0;34m\u001b[0m\u001b[0m\n",
      "\u001b[0;31mCalledProcessError\u001b[0m: Command 'b'\\npython ../../ddot/tohiview.py --ont ./data/small-1.txt --hier_name small-1 --ndex_account http://www.ndexbio.org $1 $2\\n'' returned non-zero exit status 1."
     ]
    }
   ],
   "source": [
    "%%bash -s \"$username\", \"$passwd\"\n",
    "\n",
    "python ../../ddot/tohiview.py --ont ./data/decoy.txt --hier_name decoy --ndex_account http://www.ndexbio.org $1 $2"
   ]
  },
  {
   "cell_type": "markdown",
   "metadata": {},
   "source": [
    "# 2. Adding integrated networks to communities"
   ]
  },
  {
   "cell_type": "markdown",
   "metadata": {},
   "source": [
    "HiView is a powerful platform to display multiscale communities in a network. It is often of interest to visualize edges in the source network that support a community.   Precisely, for a source network $G = (V, E)$, a subnetwork of a community $s$ is defined as $G_s = (V_s, E_s)$, where $\\forall e = (u,v) \\in E_s$, $u,v \\in V_s$.  \n"
   ]
  },
  {
   "cell_type": "markdown",
   "metadata": {},
   "source": [
    "This is achieved by the `--score` argument. It is a tab seperated file with three columns: `geneA`,`geneB` and `score`. We recommend having the values of score reside within (0,1). "
   ]
  },
  {
   "cell_type": "markdown",
   "metadata": {},
   "source": [
    "## \"score\" of a community.   "
   ]
  },
  {
   "cell_type": "markdown",
   "metadata": {},
   "source": [
    "This is a concept specific to certain community detection algorithms, e.g. CliXO. CliXO takes a weighted graph as the input, and iterate community detection at different thresholds. Thus, each community in CliXO is associated with a \"score\"."
   ]
  },
  {
   "cell_type": "markdown",
   "metadata": {},
   "source": [
    "By default, edges in a subnetwork have a uniform color in HiView. However, if communities are associated with scores, the edges will be shown with a discrete color map (which often visually highlights the community structures), determined by the score of the community itself, and the score(s) of its children community(ies). This can be achieved by adding a 4-th column to the file for the `--ont` argument, as in the following example:"
   ]
  },
  {
   "cell_type": "markdown",
   "metadata": {},
   "source": [
    "# 3. Adding multiple evidence networks to systems"
   ]
  },
  {
   "cell_type": "markdown",
   "metadata": {},
   "source": [
    "In addition to a single master network, it is also possible to overlay more networks supporting a community and visualize them HiView. For example, if the master network is the result of integrating multiple datasets, it is often of interest to visualize the interactions in these datasets (jointly or separately)."
   ]
  },
  {
   "cell_type": "markdown",
   "metadata": {},
   "source": [
    "## Large networks"
   ]
  },
  {
   "cell_type": "markdown",
   "metadata": {},
   "source": [
    "Large scale networks are often bottlenecks of the speed of uploading and HiView visualization (we are working on improving that). To reduce overhead, subnetwork uploading can be disabled for large communities, while still being enabled for smaller communities. \n",
    "\n",
    "It is achieved by the `--subnet_size` argument, which takes two integers, specifying the lower and upper bound of community sizes for which upload of the integrated subnetworks is enabled.\n",
    "\n",
    "Similarly `--evinet_size` takes one integer, and for communities larger than this threshold, upload of evidence networks will be disabled.\n",
    "\n",
    "We require `subnet_size[0] < evinet_size <= subnet_size[1]`."
   ]
  },
  {
   "cell_type": "markdown",
   "metadata": {},
   "source": [
    "# 4. Reuse uploaded subnetworks"
   ]
  },
  {
   "cell_type": "markdown",
   "metadata": {},
   "source": [
    "After uploading a hierarchy, a file starting with `term_2_uuid` will be writing to the working directory. This file describe the mapping between community names and community subnetworks. \n",
    "\n",
    "This file can also be later used as the input of `--term_2_uuid` argument, so subnetworks can be shared across different hierarchical models."
   ]
  },
  {
   "cell_type": "markdown",
   "metadata": {},
   "source": [
    "# 5. Control the information displayed in HiView"
   ]
  },
  {
   "cell_type": "markdown",
   "metadata": {},
   "source": [
    "# 6. Delete a HiView session from NDEx account"
   ]
  },
  {
   "cell_type": "markdown",
   "metadata": {},
   "source": [
    "After a upload has been finished, the script creates a folder (network set) on the NDEx account containing one network of the hierarchical model (to be used in the model view), as well as many subnetworks (to be used in the data view). With the button `Delete Network Set`, the set and all networks in this set can be deleted."
   ]
  },
  {
   "cell_type": "markdown",
   "metadata": {},
   "source": [
    "**Warning**: note that if subnetworks are shared across models (see Section 4 above), the deleting operation could affect other models (unwanted)."
   ]
  },
  {
   "cell_type": "code",
   "execution_count": null,
   "metadata": {},
   "outputs": [],
   "source": []
  }
 ],
 "metadata": {
  "kernelspec": {
   "display_name": "Python 3",
   "language": "python",
   "name": "python3"
  },
  "language_info": {
   "codemirror_mode": {
    "name": "ipython",
    "version": 3
   },
   "file_extension": ".py",
   "mimetype": "text/x-python",
   "name": "python",
   "nbconvert_exporter": "python",
   "pygments_lexer": "ipython3",
   "version": "3.6.2"
  }
 },
 "nbformat": 4,
 "nbformat_minor": 2
}
