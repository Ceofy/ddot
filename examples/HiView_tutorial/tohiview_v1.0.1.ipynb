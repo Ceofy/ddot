{
 "cells": [
  {
   "cell_type": "code",
   "execution_count": 1,
   "metadata": {},
   "outputs": [
    {
     "data": {
      "text/plain": [
       "'1.11'"
      ]
     },
     "execution_count": 1,
     "metadata": {},
     "output_type": "execute_result"
    }
   ],
   "source": [
    "import networkx\n",
    "networkx.__version__"
   ]
  },
  {
   "cell_type": "markdown",
   "metadata": {},
   "source": [
    "This is a updated tutorial of visualizing hierarchical protein network modules, via a script that intefacing the DDOT python package (v1.0.1) and the HiView server (v2.6)\n",
    "\n",
    "Author: Fan Zheng  \n",
    "Date: 08/04/2020"
   ]
  },
  {
   "cell_type": "markdown",
   "metadata": {},
   "source": [
    "If the DDOT package has been installed and all dependencies are satisfied, all you need is the upload script `tohiview.py`, and a few input files of that script. This tutorial will walk over the creation of those input files, and show how they affect the visualization in HiView.   "
   ]
  },
  {
   "cell_type": "code",
   "execution_count": 5,
   "metadata": {},
   "outputs": [
    {
     "name": "stdout",
     "output_type": "stream",
     "text": [
      "Passwd here: ········\n"
     ]
    }
   ],
   "source": [
    "import getpass\n",
    "passwd = getpass.getpass(\"Passwd here: \")"
   ]
  },
  {
   "cell_type": "markdown",
   "metadata": {},
   "source": [
    "The available options of the upload script are listed below. Many options are available, but only `--ont`, `--hier_name`, `--ndex_acount` are required.\n",
    "\n",
    "`--ont` should be a 3-col file defined in DDOT (see here).  \n",
    "`--hier_name` is just a string to label the files.   \n",
    "`--ndex_acount` contains 3 strings, the server name (http://www.ndexbio.org for all external users), a username and a password."
   ]
  },
  {
   "cell_type": "code",
   "execution_count": 3,
   "metadata": {
    "scrolled": true
   },
   "outputs": [
    {
     "name": "stdout",
     "output_type": "stream",
     "text": [
      "usage: tohiview.py [-h] --ont ONT --hier_name HIER_NAME\n",
      "                   [--subnet_size SUBNET_SIZE SUBNET_SIZE]\n",
      "                   [--node_attr NODE_ATTR] [--subnet_links SUBNET_LINKS]\n",
      "                   [--rf_score RF_SCORE] [--gene_attr GENE_ATTR]\n",
      "                   [--term_2_uuid TERM_2_UUID]\n",
      "                   [--visible_cols [VISIBLE_COLS [VISIBLE_COLS ...]]]\n",
      "                   [--max_num_edges MAX_NUM_EDGES] [--col_color COL_COLOR]\n",
      "                   [--col_label COL_LABEL]\n",
      "                   [--ndex_account NDEX_ACCOUNT NDEX_ACCOUNT NDEX_ACCOUNT]\n",
      "                   [--rename RENAME] [--skip_main]\n",
      "\n",
      "optional arguments:\n",
      "  -h, --help            show this help message and exit\n",
      "  --ont ONT             ontology file, 3 col table\n",
      "  --hier_name HIER_NAME\n",
      "                        name of the hierarchy\n",
      "  --subnet_size SUBNET_SIZE SUBNET_SIZE\n",
      "                        minimum and maximum term size to show network support\n",
      "  --node_attr NODE_ATTR\n",
      "                        table file for attributes on systems\n",
      "  --subnet_links SUBNET_LINKS\n",
      "                        data frame for network support\n",
      "  --rf_score RF_SCORE   integrated edge score\n",
      "  --gene_attr GENE_ATTR\n",
      "                        table file for attributes on genes\n",
      "  --term_2_uuid TERM_2_UUID\n",
      "                        if available, reuse networks that are already on NDEX\n",
      "  --visible_cols [VISIBLE_COLS [VISIBLE_COLS ...]]\n",
      "                        a list, specified column names in the ode attribute\n",
      "                        file will be shown as subsystem information\n",
      "  --max_num_edges MAX_NUM_EDGES\n",
      "                        maximum number of edges uploaded\n",
      "  --col_color COL_COLOR\n",
      "                        a column name in the node attribute file, used to\n",
      "                        color the node (only works in node-link diagram)\n",
      "  --col_label COL_LABEL\n",
      "                        a column name in the node attribute file, add as the\n",
      "                        term label on the map\n",
      "  --ndex_account NDEX_ACCOUNT NDEX_ACCOUNT NDEX_ACCOUNT\n",
      "  --rename RENAME       if not None, rename name of subsystems specified by\n",
      "                        this column in the node_attr file\n",
      "  --skip_main           if true, do not update the main hierarchy\n"
     ]
    },
    {
     "name": "stderr",
     "output_type": "stream",
     "text": [
      "In /cellar/users/f6zheng/anaconda2/envs/ddot/lib/python3.6/site-packages/matplotlib/mpl-data/stylelib/_classic_test.mplstyle: \n",
      "The savefig.frameon rcparam was deprecated in Matplotlib 3.1 and will be removed in 3.3.\n",
      "In /cellar/users/f6zheng/anaconda2/envs/ddot/lib/python3.6/site-packages/matplotlib/mpl-data/stylelib/_classic_test.mplstyle: \n",
      "The verbose.level rcparam was deprecated in Matplotlib 3.1 and will be removed in 3.3.\n",
      "In /cellar/users/f6zheng/anaconda2/envs/ddot/lib/python3.6/site-packages/matplotlib/mpl-data/stylelib/_classic_test.mplstyle: \n",
      "The verbose.fileo rcparam was deprecated in Matplotlib 3.1 and will be removed in 3.3.\n"
     ]
    }
   ],
   "source": [
    "%%bash \n",
    "\n",
    "python ../../ddot/tohiview.py -h"
   ]
  },
  {
   "cell_type": "markdown",
   "metadata": {},
   "source": [
    "Let's now start creating a simple hierarchy. "
   ]
  },
  {
   "cell_type": "code",
   "execution_count": 8,
   "metadata": {},
   "outputs": [],
   "source": [
    "d = './data'\n",
    "\n",
    "# note underscore is not supported '_' as system name \n",
    "records = [['ROOT', 'Coarse-1', 'default'],\n",
    "           ['ROOT', 'Coarse-2', 'default'],\n",
    "           ['Coarse-1', 'Fine-1', 'default'],\n",
    "           ['Coarse-1', 'Fine-2', 'default'],\n",
    "           ['Coarse-1', 'Fine-3', 'default'],\n",
    "           ['Coarse-2', 'Fine-3', 'default'], # note Fine-3 has two parents\n",
    "           ['Coarse-2', 'Fine-4', 'default'],\n",
    "           ['Fine-1', 'A', 'gene'],\n",
    "           ['Fine-1', 'B', 'gene'],\n",
    "           ['Coarse-1', 'C', 'gene'], # note gene (terminal entities) can be assigned to any level\n",
    "          ] # node that we stop here without further gene assignments; system does not have to contain genes. \n",
    "with open(d + '/small-1.txt', 'w') as fh:\n",
    "    for r in records:\n",
    "        fh.write('\\t'.join(r) + '\\n')"
   ]
  },
  {
   "cell_type": "code",
   "execution_count": 13,
   "metadata": {},
   "outputs": [
    {
     "data": {
      "text/plain": [
       "256"
      ]
     },
     "execution_count": 13,
     "metadata": {},
     "output_type": "execute_result"
    }
   ],
   "source": [
    "cmd = ['python ../../ddot/tohiview.py',\n",
    "       '--ont ./data/small-1.txt', \n",
    "       '--hier_name small-1',\n",
    "       '--ndex_account http://www.ndexbio.org fzheng ' + passwd]\n",
    "cmd = ' '.join(cmd)\n",
    "os.system(cmd)"
   ]
  }
 ],
 "metadata": {
  "kernelspec": {
   "display_name": "Python 3",
   "language": "python",
   "name": "python3"
  },
  "language_info": {
   "codemirror_mode": {
    "name": "ipython",
    "version": 3
   },
   "file_extension": ".py",
   "mimetype": "text/x-python",
   "name": "python",
   "nbconvert_exporter": "python",
   "pygments_lexer": "ipython3",
   "version": "3.6.2"
  }
 },
 "nbformat": 4,
 "nbformat_minor": 2
}
