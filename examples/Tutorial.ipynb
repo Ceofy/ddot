{
 "cells": [
  {
   "cell_type": "markdown",
   "metadata": {
    "nbpresent": {
     "id": "223bb699-1069-46f4-940e-d2772d419290"
    }
   },
   "source": [
    "# Introduction: DDOT tutorial\n",
    "\n",
    "* __What is DDOT?__ The DDOT Python package provides many functions for assembling,\n",
    "analyzing, and visualizing ontologies.  The main functionalities are\n",
    "implemented in an object-oriented manner by an \"Ontology\" class, which handles ontologies that are data-driven as well as those\n",
    "that are manually curated like the Gene Ontology.\n",
    "\n",
    "* __What is an ontology?__ An ontology is a hierarchical arrangement of two types of nodes: (1)\n",
    "genes at the leaves of the hierarchy and (2) terms at intermediate\n",
    "levels of the hierarchy. The hierarchy can be thought of as directed\n",
    "acyclic graph (DAG), in which each node can have multiple children or\n",
    "multiple parent nodes. DAGs are a generalization of trees\n",
    "(a.k.a. dendogram), where each node has at most one parent.\n",
    "\n",
    "* __What to do after reading this tutorial__ Check out a complete list of functions in the [Ontology class](http://ddot.readthedocs.io/en/latest/ontology.html) and a list of [utility functions](http://ddot.readthedocs.io/en/latest/utils.html) that may help you build more concise pipelines. Also check out [example Jupyter notebooks](https://github.com/michaelkyu/ddot/tree/master/examples) that contain pipelines for downloading and processing the Gene Ontology and for inferring data-driven gene ontologies of diseases"
   ]
  },
  {
   "cell_type": "code",
   "execution_count": 1,
   "metadata": {
    "ExecuteTime": {
     "end_time": "2018-10-22T18:13:04.386371Z",
     "start_time": "2018-10-22T18:13:04.350837Z"
    },
    "collapsed": true,
    "nbpresent": {
     "id": "f596fd04-39ef-499c-a96a-3bc8e9fec584"
    }
   },
   "outputs": [],
   "source": [
    "%load_ext autoreload\n",
    "%autoreload 2\n",
    "\n",
    "import sys\n",
    "sys.path.insert(0, '/cellar/users/mikeyu/DeepTranslate/ddot/')"
   ]
  },
  {
   "cell_type": "code",
   "execution_count": 2,
   "metadata": {
    "ExecuteTime": {
     "end_time": "2018-10-22T18:13:06.795195Z",
     "start_time": "2018-10-22T18:13:04.389584Z"
    },
    "nbpresent": {
     "id": "8b427caf-0c25-4d27-96fd-3ab144caf1a2"
    }
   },
   "outputs": [
    {
     "name": "stderr",
     "output_type": "stream",
     "text": [
      "/cellar/users/mikeyu/anaconda2/envs/ddot_py36/lib/python3.6/site-packages/requests/__init__.py:80: RequestsDependencyWarning: urllib3 (1.23) or chardet (3.0.4) doesn't match a supported version!\n",
      "  RequestsDependencyWarning)\n"
     ]
    }
   ],
   "source": [
    "# Import Ontology class from DDOT package\n",
    "import ddot\n",
    "from ddot import Ontology\n",
    "\n",
    "import numpy as np"
   ]
  },
  {
   "cell_type": "code",
   "execution_count": 9,
   "metadata": {
    "ExecuteTime": {
     "end_time": "2018-10-24T05:18:15.583869Z",
     "start_time": "2018-10-24T05:18:12.764850Z"
    }
   },
   "outputs": [
    {
     "name": "stdout",
     "output_type": "stream",
     "text": [
      "A\tB\t1.4150375\r\n",
      "A\tC\t1.4150375\r\n",
      "A\tD\t0.42\r\n",
      "A\tE\t0.42\r\n",
      "A\tF\t0.42\r\n",
      "A\tG\t-0.0\r\n",
      "A\tH\t-0.0\r\n",
      "B\tC\t1.4150375\r\n",
      "B\tD\t0.42\r\n",
      "B\tE\t0.42\r\n",
      "B\tF\t0.42\r\n",
      "B\tG\t-0.0\r\n",
      "B\tH\t-0.0\r\n",
      "C\tD\t2.0\r\n",
      "C\tE\t0.42\r\n",
      "C\tF\t0.42\r\n",
      "C\tG\t-0.0\r\n",
      "C\tH\t-0.0\r\n",
      "D\tE\t0.42\r\n",
      "D\tF\t0.42\r\n",
      "D\tG\t-0.0\r\n",
      "D\tH\t-0.0\r\n",
      "E\tF\t2.0\r\n",
      "E\tG\t1.0\r\n",
      "E\tH\t1.0\r\n",
      "F\tG\t1.0\r\n",
      "F\tH\t1.0\r\n",
      "G\tH\t2.0\r\n"
     ]
    }
   ],
   "source": [
    "! cat /cellar/users/mikeyu/DeepTranslate/fan-CliXO-debug/toy_resnik.txt"
   ]
  },
  {
   "cell_type": "markdown",
   "metadata": {
    "nbpresent": {
     "id": "46da7f94-eecd-4534-ba2a-4bbd20bacf93"
    }
   },
   "source": [
    "# Creating an Ontology object\n",
    "\n",
    "* An object of the Ontology class can be created in several ways.\n",
    "* In this tutorial, we will construct and analyze the toy ontology shown below.\n",
    "\n",
    "<img src=\"https://raw.githubusercontent.com/michaelkyu/ddot/master/docs/toy_ontology.png\" height=\"250\" align=\"left\">"
   ]
  },
  {
   "cell_type": "markdown",
   "metadata": {
    "nbpresent": {
     "id": "be4003bd-483c-4ce8-8ed2-db400e38c490"
    }
   },
   "source": [
    "### Create an ontology through the \\_\\_init\\_\\_ constructor"
   ]
  },
  {
   "cell_type": "code",
   "execution_count": 3,
   "metadata": {
    "ExecuteTime": {
     "end_time": "2018-10-22T18:13:09.818475Z",
     "start_time": "2018-10-22T18:13:09.753955Z"
    },
    "nbpresent": {
     "id": "31b50aa5-03da-41ef-a77d-c91cf99a94b6"
    }
   },
   "outputs": [
    {
     "name": "stdout",
     "output_type": "stream",
     "text": [
      "8 genes, 7 terms, 9 gene-term relations, 7 term-term relations\n",
      "node_attributes: []\n",
      "edge_attributes: []\n"
     ]
    }
   ],
   "source": [
    "# Connections from child terms to parent terms\n",
    "hierarchy = [('S3', 'S1'),\n",
    "             ('S4', 'S1'),\n",
    "             ('S5', 'S1'),\n",
    "             ('S5', 'S2'),\n",
    "             ('S6', 'S2'),\n",
    "             ('S1', 'S0'),\n",
    "             ('S2', 'S0')]\n",
    "\n",
    "# Connections from genes to terms\n",
    "mapping = [('A', 'S3'),\n",
    "           ('B', 'S3'),\n",
    "           ('C', 'S3'),\n",
    "           ('C', 'S4'),\n",
    "           ('D', 'S4'),\n",
    "           ('E', 'S5'),\n",
    "           ('F', 'S5'),\n",
    "           ('G', 'S6'),\n",
    "           ('H', 'S6')]\n",
    "\n",
    "# Construct ontology\n",
    "ont = Ontology(hierarchy, mapping)\n",
    "\n",
    "# Prints a summary of the ontology's structure\n",
    "print(ont)"
   ]
  },
  {
   "cell_type": "markdown",
   "metadata": {
    "nbpresent": {
     "id": "9e4a838c-c3ae-491c-803b-1cabc35c771b"
    }
   },
   "source": [
    "### Create an ontology from a tab-delimited table or Pandas dataframe"
   ]
  },
  {
   "cell_type": "code",
   "execution_count": 9,
   "metadata": {
    "ExecuteTime": {
     "end_time": "2018-10-19T19:04:43.867905Z",
     "start_time": "2018-10-19T19:04:43.745976Z"
    },
    "nbpresent": {
     "id": "0fa9733d-71f4-42da-ac30-29913582d33f"
    }
   },
   "outputs": [
    {
     "data": {
      "text/html": [
       "<div>\n",
       "<style scoped>\n",
       "    .dataframe tbody tr th:only-of-type {\n",
       "        vertical-align: middle;\n",
       "    }\n",
       "\n",
       "    .dataframe tbody tr th {\n",
       "        vertical-align: top;\n",
       "    }\n",
       "\n",
       "    .dataframe thead th {\n",
       "        text-align: right;\n",
       "    }\n",
       "</style>\n",
       "<table border=\"1\" class=\"dataframe\">\n",
       "  <thead>\n",
       "    <tr style=\"text-align: right;\">\n",
       "      <th></th>\n",
       "      <th>Parent</th>\n",
       "      <th>Child</th>\n",
       "      <th>EdgeType</th>\n",
       "    </tr>\n",
       "  </thead>\n",
       "  <tbody>\n",
       "    <tr>\n",
       "      <th>0</th>\n",
       "      <td>S0</td>\n",
       "      <td>S1</td>\n",
       "      <td>Child-Parent</td>\n",
       "    </tr>\n",
       "    <tr>\n",
       "      <th>1</th>\n",
       "      <td>S0</td>\n",
       "      <td>S2</td>\n",
       "      <td>Child-Parent</td>\n",
       "    </tr>\n",
       "    <tr>\n",
       "      <th>2</th>\n",
       "      <td>S1</td>\n",
       "      <td>S3</td>\n",
       "      <td>Child-Parent</td>\n",
       "    </tr>\n",
       "    <tr>\n",
       "      <th>3</th>\n",
       "      <td>S1</td>\n",
       "      <td>S4</td>\n",
       "      <td>Child-Parent</td>\n",
       "    </tr>\n",
       "    <tr>\n",
       "      <th>4</th>\n",
       "      <td>S1</td>\n",
       "      <td>S5</td>\n",
       "      <td>Child-Parent</td>\n",
       "    </tr>\n",
       "    <tr>\n",
       "      <th>5</th>\n",
       "      <td>S2</td>\n",
       "      <td>S5</td>\n",
       "      <td>Child-Parent</td>\n",
       "    </tr>\n",
       "    <tr>\n",
       "      <th>6</th>\n",
       "      <td>S2</td>\n",
       "      <td>S6</td>\n",
       "      <td>Child-Parent</td>\n",
       "    </tr>\n",
       "    <tr>\n",
       "      <th>7</th>\n",
       "      <td>S3</td>\n",
       "      <td>A</td>\n",
       "      <td>Gene-Term</td>\n",
       "    </tr>\n",
       "    <tr>\n",
       "      <th>8</th>\n",
       "      <td>S3</td>\n",
       "      <td>B</td>\n",
       "      <td>Gene-Term</td>\n",
       "    </tr>\n",
       "    <tr>\n",
       "      <th>9</th>\n",
       "      <td>S3</td>\n",
       "      <td>C</td>\n",
       "      <td>Gene-Term</td>\n",
       "    </tr>\n",
       "    <tr>\n",
       "      <th>10</th>\n",
       "      <td>S4</td>\n",
       "      <td>C</td>\n",
       "      <td>Gene-Term</td>\n",
       "    </tr>\n",
       "    <tr>\n",
       "      <th>11</th>\n",
       "      <td>S4</td>\n",
       "      <td>D</td>\n",
       "      <td>Gene-Term</td>\n",
       "    </tr>\n",
       "    <tr>\n",
       "      <th>12</th>\n",
       "      <td>S5</td>\n",
       "      <td>E</td>\n",
       "      <td>Gene-Term</td>\n",
       "    </tr>\n",
       "    <tr>\n",
       "      <th>13</th>\n",
       "      <td>S5</td>\n",
       "      <td>F</td>\n",
       "      <td>Gene-Term</td>\n",
       "    </tr>\n",
       "    <tr>\n",
       "      <th>14</th>\n",
       "      <td>S6</td>\n",
       "      <td>G</td>\n",
       "      <td>Gene-Term</td>\n",
       "    </tr>\n",
       "    <tr>\n",
       "      <th>15</th>\n",
       "      <td>S6</td>\n",
       "      <td>H</td>\n",
       "      <td>Gene-Term</td>\n",
       "    </tr>\n",
       "  </tbody>\n",
       "</table>\n",
       "</div>"
      ],
      "text/plain": [
       "   Parent Child      EdgeType\n",
       "0      S0    S1  Child-Parent\n",
       "1      S0    S2  Child-Parent\n",
       "2      S1    S3  Child-Parent\n",
       "3      S1    S4  Child-Parent\n",
       "4      S1    S5  Child-Parent\n",
       "5      S2    S5  Child-Parent\n",
       "6      S2    S6  Child-Parent\n",
       "7      S3     A     Gene-Term\n",
       "8      S3     B     Gene-Term\n",
       "9      S3     C     Gene-Term\n",
       "10     S4     C     Gene-Term\n",
       "11     S4     D     Gene-Term\n",
       "12     S5     E     Gene-Term\n",
       "13     S5     F     Gene-Term\n",
       "14     S6     G     Gene-Term\n",
       "15     S6     H     Gene-Term"
      ]
     },
     "execution_count": 9,
     "metadata": {},
     "output_type": "execute_result"
    }
   ],
   "source": [
    "# Write ontology to a tab-delimited table\n",
    "ont.to_table('toy_ontology.txt')"
   ]
  },
  {
   "cell_type": "code",
   "execution_count": 7,
   "metadata": {
    "ExecuteTime": {
     "end_time": "2018-10-18T16:16:24.560389Z",
     "start_time": "2018-10-18T16:16:24.476002Z"
    },
    "nbpresent": {
     "id": "cdb81701-5c51-475f-bb7f-865d9a1b7c0b"
    }
   },
   "outputs": [
    {
     "data": {
      "text/plain": [
       "8 genes, 7 terms, 9 gene-term relations, 7 term-term relations\n",
       "node_attributes: []\n",
       "edge_attributes: []"
      ]
     },
     "execution_count": 7,
     "metadata": {},
     "output_type": "execute_result"
    }
   ],
   "source": [
    "# Reconstruct the ontology from the table\n",
    "ont2 = Ontology.from_table('toy_ontology.txt')\n",
    "ont2"
   ]
  },
  {
   "cell_type": "markdown",
   "metadata": {
    "nbpresent": {
     "id": "b4a0d457-1752-443f-aaea-d95d5157a7c4"
    }
   },
   "source": [
    "### From the Network Data Exchange (NDEx).\n",
    "* It is strongly recommended that you create a free account on NDEx in order to keep track of your own ontologies.\n",
    "* Note that there are two NDEx servers: the main one at http://ndexbio.org/ and a test server for prototyping your code at http://test.ndexbio.org. Each server requires a separate user account. While you get familiar with DDOT, we recommend that you use an account on the test server."
   ]
  },
  {
   "cell_type": "code",
   "execution_count": 4,
   "metadata": {
    "ExecuteTime": {
     "end_time": "2018-10-22T18:13:13.199330Z",
     "start_time": "2018-10-22T18:13:13.148413Z"
    },
    "collapsed": true,
    "nbpresent": {
     "id": "f13fb1fd-8181-422a-a2cd-e028c7856c64"
    }
   },
   "outputs": [],
   "source": [
    "# Set the NDEx server and the user account.\n",
    "# This \"scratch\" account will work for this tutorial, but you should replace it with your own account.\n",
    "ndex_server = 'http://test.ndexbio.org'\n",
    "# ndex_user, ndex_pass = 'scratch', 'scratch'\n",
    "ndex_user, ndex_pass = 'mikeyu_testacct', 'GoHejVeg8'"
   ]
  },
  {
   "cell_type": "code",
   "execution_count": 9,
   "metadata": {
    "ExecuteTime": {
     "end_time": "2018-10-18T15:56:31.456219Z",
     "start_time": "2018-10-18T15:56:31.215828Z"
    },
    "nbpresent": {
     "id": "b92c69af-fc2e-4e00-87fc-830c1c479c0c"
    }
   },
   "outputs": [
    {
     "name": "stdout",
     "output_type": "stream",
     "text": [
      "http://dev2.ndexbio.org/v2/network/617bc217-d2ee-11e8-a74b-0660b7976219\n"
     ]
    }
   ],
   "source": [
    "# Upload ontology to NDEx. The string after \"v2/network/\" is a unique identifier, which is called the UUID, of the ontology in NDEx\n",
    "url, _ = ont.to_ndex(ndex_server=ndex_server, ndex_user=ndex_user, ndex_pass=ndex_pass)\n",
    "print(url)"
   ]
  },
  {
   "cell_type": "code",
   "execution_count": 10,
   "metadata": {
    "ExecuteTime": {
     "end_time": "2018-10-18T15:59:39.054323Z",
     "start_time": "2018-10-18T15:59:38.781686Z"
    },
    "nbpresent": {
     "id": "1ff085e3-8571-43a0-929d-b41629934dd7"
    }
   },
   "outputs": [
    {
     "name": "stdout",
     "output_type": "stream",
     "text": [
      "\n",
      "8 genes, 7 terms, 9 gene-term relations, 7 term-term relations\n",
      "node_attributes: ['Vis:Fill Color', 'Vis:Border Paint', 'name', 'Vis:Shape', 'Vis:Size']\n",
      "edge_attributes: ['Vis:Visible']\n"
     ]
    }
   ],
   "source": [
    "# Download the ontology from NDEx\n",
    "ont2 = Ontology.from_ndex(url)\n",
    "print(ont2)"
   ]
  },
  {
   "cell_type": "markdown",
   "metadata": {
    "nbpresent": {
     "id": "21ac5e5a-0740-421b-9cd6-de6bb9d685c8"
    }
   },
   "source": [
    "# Inspecting the structure of an ontology"
   ]
  },
  {
   "cell_type": "markdown",
   "metadata": {
    "nbpresent": {
     "id": "24ab31ca-c6cf-406f-9e50-87970eef6ca7"
    }
   },
   "source": [
    "An Ontology object contains seven attributes:\n",
    "\n",
    "* ``genes`` : List of gene names\n",
    "* ``terms`` : List of term names\n",
    "* ``gene_2_term`` : dictionary mapping a gene name to a list of terms connected to that gene. Terms are represented as their 0-based index in ``terms``.\n",
    "* ``term_2_gene`` : dictionary mapping a term name to a list or genes connected to that term. Genes are represented as their 0-based index in ``genes``.\n",
    "* ``child_2_parent`` : dictionary mapping a child term to its parent terms.\n",
    "* ``parent_2_child`` : dictionary mapping a parent term to its children terms.\n",
    "* ``term_sizes`` : A list of each term's size, i.e. the number of unique genes contained within this term and its descendants. The order of this list is the same as ``terms``. For every ``i``, it holds that ``term_sizes[i] = len(self.term_2_gene[self.terms[i]])``"
   ]
  },
  {
   "cell_type": "code",
   "execution_count": 11,
   "metadata": {
    "ExecuteTime": {
     "end_time": "2018-10-18T15:59:46.666949Z",
     "start_time": "2018-10-18T15:59:46.658790Z"
    },
    "nbpresent": {
     "id": "aa6df6e1-d8db-4665-940f-b9a753b62339"
    }
   },
   "outputs": [
    {
     "data": {
      "text/plain": [
       "['A', 'B', 'C', 'D', 'E', 'F', 'G', 'H']"
      ]
     },
     "execution_count": 11,
     "metadata": {},
     "output_type": "execute_result"
    }
   ],
   "source": [
    "ont.genes"
   ]
  },
  {
   "cell_type": "code",
   "execution_count": 12,
   "metadata": {
    "ExecuteTime": {
     "end_time": "2018-10-18T15:59:47.994455Z",
     "start_time": "2018-10-18T15:59:47.987001Z"
    },
    "nbpresent": {
     "id": "8352f6ac-aa1a-43e1-adce-83d108f16e49"
    }
   },
   "outputs": [
    {
     "data": {
      "text/plain": [
       "['S0', 'S1', 'S2', 'S3', 'S4', 'S5', 'S6']"
      ]
     },
     "execution_count": 12,
     "metadata": {},
     "output_type": "execute_result"
    }
   ],
   "source": [
    "ont.terms"
   ]
  },
  {
   "cell_type": "code",
   "execution_count": 13,
   "metadata": {
    "ExecuteTime": {
     "end_time": "2018-10-18T15:59:49.225459Z",
     "start_time": "2018-10-18T15:59:49.217063Z"
    },
    "nbpresent": {
     "id": "078d9e45-761e-43b5-ad22-d498fda3ecd8"
    }
   },
   "outputs": [
    {
     "data": {
      "text/plain": [
       "{'A': [3],\n",
       " 'B': [3],\n",
       " 'C': [4, 3],\n",
       " 'D': [4],\n",
       " 'E': [5],\n",
       " 'F': [5],\n",
       " 'G': [6],\n",
       " 'H': [6]}"
      ]
     },
     "execution_count": 13,
     "metadata": {},
     "output_type": "execute_result"
    }
   ],
   "source": [
    "ont.gene_2_term"
   ]
  },
  {
   "cell_type": "code",
   "execution_count": 14,
   "metadata": {
    "ExecuteTime": {
     "end_time": "2018-10-18T15:59:49.426773Z",
     "start_time": "2018-10-18T15:59:49.419312Z"
    },
    "nbpresent": {
     "id": "598bcc47-ec21-4993-8c48-d3fc6793e341"
    }
   },
   "outputs": [
    {
     "data": {
      "text/plain": [
       "{'S3': [0, 1, 2],\n",
       " 'S4': [2, 3],\n",
       " 'S5': [4, 5],\n",
       " 'S6': [6, 7],\n",
       " 'S0': [],\n",
       " 'S1': [],\n",
       " 'S2': []}"
      ]
     },
     "execution_count": 14,
     "metadata": {},
     "output_type": "execute_result"
    }
   ],
   "source": [
    "ont.term_2_gene"
   ]
  },
  {
   "cell_type": "code",
   "execution_count": 15,
   "metadata": {
    "ExecuteTime": {
     "end_time": "2018-10-18T15:59:50.614133Z",
     "start_time": "2018-10-18T15:59:50.606649Z"
    },
    "nbpresent": {
     "id": "12f8580e-997f-4b95-bd9f-fa0b0d696221"
    }
   },
   "outputs": [
    {
     "data": {
      "text/plain": [
       "{'S1': ['S0'],\n",
       " 'S2': ['S0'],\n",
       " 'S3': ['S1'],\n",
       " 'S4': ['S1'],\n",
       " 'S5': ['S1', 'S2'],\n",
       " 'S6': ['S2'],\n",
       " 'S0': []}"
      ]
     },
     "execution_count": 15,
     "metadata": {},
     "output_type": "execute_result"
    }
   ],
   "source": [
    "ont.child_2_parent"
   ]
  },
  {
   "cell_type": "code",
   "execution_count": 16,
   "metadata": {
    "ExecuteTime": {
     "end_time": "2018-10-18T15:59:50.831375Z",
     "start_time": "2018-10-18T15:59:50.823869Z"
    },
    "nbpresent": {
     "id": "c23f6dc7-249b-4cf9-8812-47974d4d9e21"
    }
   },
   "outputs": [
    {
     "data": {
      "text/plain": [
       "{'S0': ['S1', 'S2'],\n",
       " 'S1': ['S3', 'S4', 'S5'],\n",
       " 'S2': ['S5', 'S6'],\n",
       " 'S3': [],\n",
       " 'S4': [],\n",
       " 'S5': [],\n",
       " 'S6': []}"
      ]
     },
     "execution_count": 16,
     "metadata": {},
     "output_type": "execute_result"
    }
   ],
   "source": [
    "ont.parent_2_child"
   ]
  },
  {
   "cell_type": "markdown",
   "metadata": {
    "nbpresent": {
     "id": "6f59c7f6-54e7-40db-9c3d-3938a1f93799"
    }
   },
   "source": [
    "Alternatively, the hierarchical connections can be viewed as a binary matrix, using `Ontology.connected()`"
   ]
  },
  {
   "cell_type": "code",
   "execution_count": 17,
   "metadata": {
    "ExecuteTime": {
     "end_time": "2018-10-18T15:59:52.978593Z",
     "start_time": "2018-10-18T15:59:52.964562Z"
    },
    "nbpresent": {
     "id": "72a38eda-4567-44ee-b61e-af46adcd798f"
    }
   },
   "outputs": [
    {
     "data": {
      "text/plain": [
       "array([[1, 0, 0, 0, 0, 0, 0, 0, 1, 1, 0, 1, 0, 0, 0],\n",
       "       [0, 1, 0, 0, 0, 0, 0, 0, 1, 1, 0, 1, 0, 0, 0],\n",
       "       [0, 0, 1, 0, 0, 0, 0, 0, 1, 1, 0, 1, 1, 0, 0],\n",
       "       [0, 0, 0, 1, 0, 0, 0, 0, 1, 1, 0, 0, 1, 0, 0],\n",
       "       [0, 0, 0, 0, 1, 0, 0, 0, 1, 1, 1, 0, 0, 1, 0],\n",
       "       [0, 0, 0, 0, 0, 1, 0, 0, 1, 1, 1, 0, 0, 1, 0],\n",
       "       [0, 0, 0, 0, 0, 0, 1, 0, 1, 0, 1, 0, 0, 0, 1],\n",
       "       [0, 0, 0, 0, 0, 0, 0, 1, 1, 0, 1, 0, 0, 0, 1],\n",
       "       [0, 0, 0, 0, 0, 0, 0, 0, 1, 0, 0, 0, 0, 0, 0],\n",
       "       [0, 0, 0, 0, 0, 0, 0, 0, 1, 1, 0, 0, 0, 0, 0],\n",
       "       [0, 0, 0, 0, 0, 0, 0, 0, 1, 0, 1, 0, 0, 0, 0],\n",
       "       [0, 0, 0, 0, 0, 0, 0, 0, 1, 1, 0, 1, 0, 0, 0],\n",
       "       [0, 0, 0, 0, 0, 0, 0, 0, 1, 1, 0, 0, 1, 0, 0],\n",
       "       [0, 0, 0, 0, 0, 0, 0, 0, 1, 1, 1, 0, 0, 1, 0],\n",
       "       [0, 0, 0, 0, 0, 0, 0, 0, 1, 0, 1, 0, 0, 0, 1]], dtype=int32)"
      ]
     },
     "execution_count": 17,
     "metadata": {},
     "output_type": "execute_result"
    }
   ],
   "source": [
    "conn = ont.connected()\n",
    "np.array(conn, dtype=np.int32)"
   ]
  },
  {
   "cell_type": "markdown",
   "metadata": {
    "ExecuteTime": {
     "end_time": "2018-04-01T21:12:33.941513Z",
     "start_time": "2018-04-01T21:12:33.132850Z"
    },
    "nbpresent": {
     "id": "b7024761-e432-449d-93a5-f64bf00c3dc0"
    }
   },
   "source": [
    "A summary of an Ontology’s object, i.e. the number of genes, terms, and connections, can be printed `print(ont)`"
   ]
  },
  {
   "cell_type": "code",
   "execution_count": 18,
   "metadata": {
    "ExecuteTime": {
     "end_time": "2018-10-18T15:59:55.974853Z",
     "start_time": "2018-10-18T15:59:55.968821Z"
    },
    "nbpresent": {
     "id": "8f1b490b-230d-483a-956c-20a473cfd8af"
    }
   },
   "outputs": [
    {
     "name": "stdout",
     "output_type": "stream",
     "text": [
      "8 genes, 7 terms, 9 gene-term relations, 7 term-term relations\n",
      "node_attributes: []\n",
      "edge_attributes: []\n"
     ]
    }
   ],
   "source": [
    "print(ont)"
   ]
  },
  {
   "cell_type": "markdown",
   "metadata": {
    "nbpresent": {
     "id": "c60a404f-5d49-43cf-bc98-1043982b3f94"
    }
   },
   "source": [
    "# Manipulating the structure of an ontology"
   ]
  },
  {
   "cell_type": "markdown",
   "metadata": {
    "nbpresent": {
     "id": "18e79e56-515a-4136-addb-6a83a6c37211"
    }
   },
   "source": [
    "DDOT provides several convenience functions for processing Ontologies into a desirable structure. Currently, there are no functions for adding genes and terms. If this is needed, then we recommend creating a new Ontology or manipulating the contents in a different library, such as NetworkX or igraph, and transforming the results into Ontology."
   ]
  },
  {
   "cell_type": "markdown",
   "metadata": {
    "nbpresent": {
     "id": "dcf6947b-409e-4202-ac17-fc78966a2883"
    }
   },
   "source": [
    "### Renaming nodes"
   ]
  },
  {
   "cell_type": "code",
   "execution_count": 19,
   "metadata": {
    "ExecuteTime": {
     "end_time": "2018-10-18T16:00:02.224690Z",
     "start_time": "2018-10-18T16:00:02.168949Z"
    },
    "nbpresent": {
     "id": "95c75ce7-476b-4623-8c48-46373a5ef23a"
    }
   },
   "outputs": [
    {
     "data": {
      "text/html": [
       "<div>\n",
       "<style scoped>\n",
       "    .dataframe tbody tr th:only-of-type {\n",
       "        vertical-align: middle;\n",
       "    }\n",
       "\n",
       "    .dataframe tbody tr th {\n",
       "        vertical-align: top;\n",
       "    }\n",
       "\n",
       "    .dataframe thead th {\n",
       "        text-align: right;\n",
       "    }\n",
       "</style>\n",
       "<table border=\"1\" class=\"dataframe\">\n",
       "  <thead>\n",
       "    <tr style=\"text-align: right;\">\n",
       "      <th></th>\n",
       "      <th>Parent</th>\n",
       "      <th>Child</th>\n",
       "      <th>EdgeType</th>\n",
       "    </tr>\n",
       "  </thead>\n",
       "  <tbody>\n",
       "    <tr>\n",
       "      <th>0</th>\n",
       "      <td>S0_alias</td>\n",
       "      <td>S1</td>\n",
       "      <td>Child-Parent</td>\n",
       "    </tr>\n",
       "    <tr>\n",
       "      <th>1</th>\n",
       "      <td>S0_alias</td>\n",
       "      <td>S2</td>\n",
       "      <td>Child-Parent</td>\n",
       "    </tr>\n",
       "    <tr>\n",
       "      <th>2</th>\n",
       "      <td>S1</td>\n",
       "      <td>S3</td>\n",
       "      <td>Child-Parent</td>\n",
       "    </tr>\n",
       "    <tr>\n",
       "      <th>3</th>\n",
       "      <td>S1</td>\n",
       "      <td>S4</td>\n",
       "      <td>Child-Parent</td>\n",
       "    </tr>\n",
       "    <tr>\n",
       "      <th>4</th>\n",
       "      <td>S1</td>\n",
       "      <td>S5</td>\n",
       "      <td>Child-Parent</td>\n",
       "    </tr>\n",
       "    <tr>\n",
       "      <th>5</th>\n",
       "      <td>S2</td>\n",
       "      <td>S5</td>\n",
       "      <td>Child-Parent</td>\n",
       "    </tr>\n",
       "    <tr>\n",
       "      <th>6</th>\n",
       "      <td>S2</td>\n",
       "      <td>S6</td>\n",
       "      <td>Child-Parent</td>\n",
       "    </tr>\n",
       "    <tr>\n",
       "      <th>7</th>\n",
       "      <td>S3</td>\n",
       "      <td>A_alias</td>\n",
       "      <td>Gene-Term</td>\n",
       "    </tr>\n",
       "    <tr>\n",
       "      <th>8</th>\n",
       "      <td>S3</td>\n",
       "      <td>B</td>\n",
       "      <td>Gene-Term</td>\n",
       "    </tr>\n",
       "    <tr>\n",
       "      <th>9</th>\n",
       "      <td>S4</td>\n",
       "      <td>C</td>\n",
       "      <td>Gene-Term</td>\n",
       "    </tr>\n",
       "    <tr>\n",
       "      <th>10</th>\n",
       "      <td>S3</td>\n",
       "      <td>C</td>\n",
       "      <td>Gene-Term</td>\n",
       "    </tr>\n",
       "    <tr>\n",
       "      <th>11</th>\n",
       "      <td>S4</td>\n",
       "      <td>D</td>\n",
       "      <td>Gene-Term</td>\n",
       "    </tr>\n",
       "    <tr>\n",
       "      <th>12</th>\n",
       "      <td>S5</td>\n",
       "      <td>E</td>\n",
       "      <td>Gene-Term</td>\n",
       "    </tr>\n",
       "    <tr>\n",
       "      <th>13</th>\n",
       "      <td>S5</td>\n",
       "      <td>F</td>\n",
       "      <td>Gene-Term</td>\n",
       "    </tr>\n",
       "    <tr>\n",
       "      <th>14</th>\n",
       "      <td>S6</td>\n",
       "      <td>G</td>\n",
       "      <td>Gene-Term</td>\n",
       "    </tr>\n",
       "    <tr>\n",
       "      <th>15</th>\n",
       "      <td>S6</td>\n",
       "      <td>H</td>\n",
       "      <td>Gene-Term</td>\n",
       "    </tr>\n",
       "  </tbody>\n",
       "</table>\n",
       "</div>"
      ],
      "text/plain": [
       "      Parent    Child      EdgeType\n",
       "0   S0_alias       S1  Child-Parent\n",
       "1   S0_alias       S2  Child-Parent\n",
       "2         S1       S3  Child-Parent\n",
       "3         S1       S4  Child-Parent\n",
       "4         S1       S5  Child-Parent\n",
       "5         S2       S5  Child-Parent\n",
       "6         S2       S6  Child-Parent\n",
       "7         S3  A_alias     Gene-Term\n",
       "8         S3        B     Gene-Term\n",
       "9         S4        C     Gene-Term\n",
       "10        S3        C     Gene-Term\n",
       "11        S4        D     Gene-Term\n",
       "12        S5        E     Gene-Term\n",
       "13        S5        F     Gene-Term\n",
       "14        S6        G     Gene-Term\n",
       "15        S6        H     Gene-Term"
      ]
     },
     "execution_count": 19,
     "metadata": {},
     "output_type": "execute_result"
    }
   ],
   "source": [
    "# Renaming genes and terms.\n",
    "ont2 = ont.rename(genes={'A' : 'A_alias'}, terms={'S0':'S0_alias'})\n",
    "ont2.to_table()"
   ]
  },
  {
   "cell_type": "markdown",
   "metadata": {
    "nbpresent": {
     "id": "d31e2270-626e-4664-93ba-1241e95860dd"
    }
   },
   "source": [
    "### Delete S1 and G while preserving transitive connections\n",
    "\n",
    "<img src=\"https://raw.githubusercontent.com/michaelkyu/ddot/master/docs/toy_ontology_delete_transitive.png\" height=\"250\" align=\"left\">"
   ]
  },
  {
   "cell_type": "code",
   "execution_count": 20,
   "metadata": {
    "ExecuteTime": {
     "end_time": "2018-10-18T16:00:05.434441Z",
     "start_time": "2018-10-18T16:00:05.424251Z"
    },
    "nbpresent": {
     "id": "4999daa2-1daa-41b8-8cd1-61878229dce2"
    }
   },
   "outputs": [
    {
     "name": "stdout",
     "output_type": "stream",
     "text": [
      "7 genes, 6 terms, 8 gene-term relations, 6 term-term relations\n",
      "node_attributes: []\n",
      "edge_attributes: []\n"
     ]
    }
   ],
   "source": [
    "ont2 = ont.delete(to_delete=['S1', 'G'])\n",
    "print(ont2)"
   ]
  },
  {
   "cell_type": "markdown",
   "metadata": {
    "ExecuteTime": {
     "end_time": "2018-04-01T19:15:12.279137Z",
     "start_time": "2018-04-01T19:15:11.004604Z"
    },
    "nbpresent": {
     "id": "baa58b3e-36a5-43bc-8063-b5940b536b7e"
    }
   },
   "source": [
    "### Delete S1 and G (don't preserve transitive connections)\n",
    "\n",
    "<img src=\"https://raw.githubusercontent.com/michaelkyu/ddot/master/docs/toy_ontology_delete_not_transitive.png\" height=\"250\" align=\"left\">"
   ]
  },
  {
   "cell_type": "code",
   "execution_count": 21,
   "metadata": {
    "ExecuteTime": {
     "end_time": "2018-10-18T16:00:05.965791Z",
     "start_time": "2018-10-18T16:00:05.955604Z"
    },
    "nbpresent": {
     "id": "7d401d48-b91f-4a9f-970c-b4a376ee5b9b"
    }
   },
   "outputs": [
    {
     "name": "stdout",
     "output_type": "stream",
     "text": [
      "7 genes, 6 terms, 8 gene-term relations, 3 term-term relations\n",
      "node_attributes: []\n",
      "edge_attributes: []\n"
     ]
    }
   ],
   "source": [
    "ont2 = ont.delete(to_delete=['S1', 'G'], preserve_transitivity=False)\n",
    "print(ont2)"
   ]
  },
  {
   "cell_type": "markdown",
   "metadata": {
    "nbpresent": {
     "id": "a4d5783a-1690-46e1-a811-ceb210b7cf8d"
    }
   },
   "source": [
    "### Propagate gene-term connections\n",
    "\n",
    "* Often times, it is convenient to explicitly include all transitive connections in the hierarchy. That is, if a hierarchy has edges A-->B and B-->C, then the hierarchy also has A-->C. This can be done by calling `Ontology.propagate(direction='forward')` function.\n",
    "\n",
    "* On the other hand, all transitive connections can be removed with `Ontology.propagate(direction='reverse')`. This is useful as a parsimonious set of connections.\n",
    "\n",
    "\n",
    "<img src=\"https://raw.githubusercontent.com/michaelkyu/ddot/master/docs/toy_ontology_propagate_gene_term.png\" height=\"250\" align=\"left\">"
   ]
  },
  {
   "cell_type": "code",
   "execution_count": 22,
   "metadata": {
    "ExecuteTime": {
     "end_time": "2018-10-18T16:00:06.819887Z",
     "start_time": "2018-10-18T16:00:06.799182Z"
    },
    "nbpresent": {
     "id": "0f2bad00-e9dc-4d25-bc39-cbbc9125caa4"
    }
   },
   "outputs": [
    {
     "name": "stdout",
     "output_type": "stream",
     "text": [
      "8 genes, 7 terms, 27 gene-term relations, 7 term-term relations\n",
      "node_attributes: []\n",
      "edge_attributes: []\n",
      "8 genes, 7 terms, 9 gene-term relations, 7 term-term relations\n",
      "node_attributes: []\n",
      "edge_attributes: []\n"
     ]
    }
   ],
   "source": [
    "# Include all transitive connections between genes and terms\n",
    "ont2 = ont.propagate(direction='forward', gene_term=True, term_term=False)\n",
    "print(ont2)\n",
    "\n",
    "# Remove all transitive connections between genes and terms, retaining only a parsimonious set of connections\n",
    "ont3 = ont2.propagate(direction='reverse', gene_term=True, term_term=False)\n",
    "print(ont3)"
   ]
  },
  {
   "cell_type": "markdown",
   "metadata": {
    "nbpresent": {
     "id": "6945b6a3-1caf-41c0-986f-fe83df38508b"
    }
   },
   "source": [
    "### Propagate term-term connections\n",
    "\n",
    "<img src=\"https://raw.githubusercontent.com/michaelkyu/ddot/master/docs/toy_ontology_propagate_term_term.png\" height=\"250\" align=\"left\">"
   ]
  },
  {
   "cell_type": "code",
   "execution_count": 23,
   "metadata": {
    "ExecuteTime": {
     "end_time": "2018-10-18T16:00:07.697575Z",
     "start_time": "2018-10-18T16:00:07.677995Z"
    },
    "nbpresent": {
     "id": "425b84f6-fa3d-44e2-817b-f4f89ad04c40"
    }
   },
   "outputs": [
    {
     "name": "stdout",
     "output_type": "stream",
     "text": [
      "8 genes, 7 terms, 9 gene-term relations, 11 term-term relations\n",
      "node_attributes: []\n",
      "edge_attributes: []\n",
      "8 genes, 7 terms, 9 gene-term relations, 7 term-term relations\n",
      "node_attributes: []\n",
      "edge_attributes: []\n"
     ]
    }
   ],
   "source": [
    "# Include all transitive connections between terms\n",
    "ont2 = ont.propagate(direction='forward', gene_term=False, term_term=True)\n",
    "print(ont2)\n",
    "\n",
    "# Remove all transitive connections between terms, retaining only a parsimonious set of connections\n",
    "ont3 = ont2.propagate(direction='reverse', gene_term=False, term_term=True)\n",
    "print(ont3)"
   ]
  },
  {
   "cell_type": "markdown",
   "metadata": {
    "nbpresent": {
     "id": "3805380d-5210-440a-94da-f170c09b300c"
    }
   },
   "source": [
    "### Take the subbranch consisting of all term and genes under S1\n",
    "\n",
    "<img src=\"https://raw.githubusercontent.com/michaelkyu/ddot/master/docs/toy_ontology_S1.png\" height=\"250\" align=\"left\">"
   ]
  },
  {
   "cell_type": "code",
   "execution_count": 24,
   "metadata": {
    "ExecuteTime": {
     "end_time": "2018-10-18T16:00:09.012998Z",
     "start_time": "2018-10-18T16:00:08.953463Z"
    },
    "nbpresent": {
     "id": "355796d0-f36a-494f-8241-c378dd28d273"
    }
   },
   "outputs": [
    {
     "name": "stdout",
     "output_type": "stream",
     "text": [
      "Genes and Terms to keep: 10\n",
      "6 genes, 4 terms, 7 gene-term relations, 3 term-term relations\n",
      "node_attributes: []\n",
      "edge_attributes: []\n"
     ]
    }
   ],
   "source": [
    "ont2 = ont.focus(branches=['S1'])\n",
    "print(ont2)"
   ]
  },
  {
   "cell_type": "markdown",
   "metadata": {
    "nbpresent": {
     "id": "b67db015-bad0-4258-bae2-2d21ede76e37"
    }
   },
   "source": [
    "# Inferring a data-driven ontology\n",
    "\n",
    "* Given a set of genes and a gene similarity network, we can hierarchically cluster the genes to infer cellular subsystems using the CliXO algorithm. The resulting hierarchy of subsystems defines a \"data-driven gene ontology\". For more information about the CLIXO algorithm, see Kramer et al. Bioinformatics, 30(12), pp.i34-i42. 2014.\n",
    "* Conversely, we can also \"flatten\" the ontology structure to infer a gene-by-gene similarity network. In particular, the similarity between two genes is calculated as the size of the smallest common subsystem, known as \"Resnik semantic similarity\".\n",
    "* The CLIXO algorithm has been designed to reconstruct the original hierarchy from the Resnik score."
   ]
  },
  {
   "cell_type": "code",
   "execution_count": 62,
   "metadata": {
    "ExecuteTime": {
     "end_time": "2018-10-22T15:56:59.176533Z",
     "start_time": "2018-10-22T15:56:59.112572Z"
    },
    "nbpresent": {
     "id": "3998f05e-236b-4279-85f6-d370b0579c33"
    }
   },
   "outputs": [
    {
     "name": "stdout",
     "output_type": "stream",
     "text": [
      "Similarity matrix\n",
      "[[ 1.42  1.42  1.42  0.42  0.42  0.42 -0.   -0.  ]\n",
      " [ 1.42  1.42  1.42  0.42  0.42  0.42 -0.   -0.  ]\n",
      " [ 1.42  1.42  2.    2.    0.42  0.42 -0.   -0.  ]\n",
      " [ 0.42  0.42  2.    2.    0.42  0.42 -0.   -0.  ]\n",
      " [ 0.42  0.42  0.42  0.42  2.    2.    1.    1.  ]\n",
      " [ 0.42  0.42  0.42  0.42  2.    2.    1.    1.  ]\n",
      " [-0.   -0.   -0.   -0.    1.    1.    2.    2.  ]\n",
      " [-0.   -0.   -0.   -0.    1.    1.    2.    2.  ]]\n",
      "Row/column names of similarity matrix\n",
      "['A' 'B' 'C' 'D' 'E' 'F' 'G' 'H']\n"
     ]
    }
   ],
   "source": [
    "# Flatten ontology to gene-by-gene network\n",
    "sim, genes = ont.flatten()\n",
    "print('Similarity matrix')\n",
    "print(np.round(sim, 2))\n",
    "print('Row/column names of similarity matrix')\n",
    "print(genes)"
   ]
  },
  {
   "cell_type": "code",
   "execution_count": 63,
   "metadata": {
    "ExecuteTime": {
     "end_time": "2018-10-22T15:56:59.488380Z",
     "start_time": "2018-10-22T15:56:59.439229Z"
    }
   },
   "outputs": [],
   "source": [
    "sim[sim == np.log2(4/3)] = 0.42"
   ]
  },
  {
   "cell_type": "code",
   "execution_count": 15,
   "metadata": {
    "ExecuteTime": {
     "end_time": "2018-10-25T16:19:15.616947Z",
     "start_time": "2018-10-25T16:19:15.569111Z"
    },
    "collapsed": true,
    "nbpresent": {
     "id": "927a426d-aad2-42e1-bdda-fcc1f46c7711"
    }
   },
   "outputs": [],
   "source": [
    "clixo_cmd = \"/cellar/users/mikeyu/DeepTranslate/fan-CliXO/clixo\""
   ]
  },
  {
   "cell_type": "code",
   "execution_count": 16,
   "metadata": {
    "ExecuteTime": {
     "end_time": "2018-10-25T16:19:17.244204Z",
     "start_time": "2018-10-25T16:19:17.193806Z"
    },
    "nbpresent": {
     "id": "86a6ba3b-4ec7-4716-ab81-a3aa2bdd0d07"
    }
   },
   "outputs": [
    {
     "data": {
      "text/plain": [
       "8 genes, 7 terms, 9 gene-term relations, 7 term-term relations\n",
       "node_attributes: []\n",
       "edge_attributes: []"
      ]
     },
     "execution_count": 16,
     "metadata": {},
     "output_type": "execute_result"
    }
   ],
   "source": [
    "ont"
   ]
  },
  {
   "cell_type": "code",
   "execution_count": 20,
   "metadata": {
    "ExecuteTime": {
     "end_time": "2018-10-25T16:23:10.712070Z",
     "start_time": "2018-10-25T16:23:10.560429Z"
    },
    "nbpresent": {
     "id": "3e03fbd0-35b2-48ad-865b-1eddd77a4bc4"
    },
    "scrolled": true
   },
   "outputs": [
    {
     "name": "stdout",
     "output_type": "stream",
     "text": [
      "temp output: /tmp/tmpipliokfe\n",
      "temp graph: /tmp/tmpw85qpso2\n",
      "temp output log: /tmp/tmphma8bykt\n",
      "CLIXO command: /cellar/users/mikeyu/DeepTranslate/fan-CliXO/clixo -i /tmp/tmpw85qpso2 -a 0.01 -b 1.0 -m 0 -z 0  | tee /tmp/tmphma8bykt\n",
      "Extracting by grep -v # 2018-10-25 09:23:10.658632\n",
      "Elapsed time (sec): 0.0352175235748291 2018-10-25 09:23:10.675033\n",
      "Ontology: 8 genes, 7 terms, 9 gene-term relations, 7 term-term relations\n",
      "node_attributes: []\n",
      "edge_attributes: ['CLIXO_score']\n",
      "8 genes, 7 terms, 9 gene-term relations, 7 term-term relations\n",
      "node_attributes: []\n",
      "edge_attributes: ['CLIXO_score']\n"
     ]
    }
   ],
   "source": [
    "# Reconstruct the ontology using the CLIXO algorithm.\n",
    "# In general, you may feed any kind of gene-gene similarities, e.g. measurements of protein-protein interactions, gene co-expression, or genetic interactions.\n",
    "\n",
    "ont2 = Ontology.run_clixo(sim,\n",
    "                          alpha=0.01,\n",
    "                          beta=1.0,\n",
    "                          newman_modularity=0,\n",
    "                          miyauchi_modularity=0,\n",
    "                          square=True,\n",
    "                          square_names=genes,\n",
    "                          clixo_cmd=clixo_cmd,\n",
    "                          clixo_version=1.0, verbose=True, debug=True)\n",
    "print(ont2)"
   ]
  },
  {
   "cell_type": "code",
   "execution_count": 21,
   "metadata": {
    "ExecuteTime": {
     "end_time": "2018-10-25T16:23:23.345989Z",
     "start_time": "2018-10-25T16:23:23.258625Z"
    },
    "nbpresent": {
     "id": "89070ba3-1d19-4ba6-bcbf-92ed82aaafe9"
    }
   },
   "outputs": [
    {
     "data": {
      "text/html": [
       "<div>\n",
       "<style scoped>\n",
       "    .dataframe tbody tr th:only-of-type {\n",
       "        vertical-align: middle;\n",
       "    }\n",
       "\n",
       "    .dataframe tbody tr th {\n",
       "        vertical-align: top;\n",
       "    }\n",
       "\n",
       "    .dataframe thead th {\n",
       "        text-align: right;\n",
       "    }\n",
       "</style>\n",
       "<table border=\"1\" class=\"dataframe\">\n",
       "  <thead>\n",
       "    <tr style=\"text-align: right;\">\n",
       "      <th></th>\n",
       "      <th>Parent</th>\n",
       "      <th>Child</th>\n",
       "      <th>EdgeType</th>\n",
       "    </tr>\n",
       "  </thead>\n",
       "  <tbody>\n",
       "    <tr>\n",
       "      <th>0</th>\n",
       "      <td>S:12</td>\n",
       "      <td>S:9</td>\n",
       "      <td>Child-Parent</td>\n",
       "    </tr>\n",
       "    <tr>\n",
       "      <th>1</th>\n",
       "      <td>S:12</td>\n",
       "      <td>S:10</td>\n",
       "      <td>Child-Parent</td>\n",
       "    </tr>\n",
       "    <tr>\n",
       "      <th>2</th>\n",
       "      <td>S:13</td>\n",
       "      <td>S:8</td>\n",
       "      <td>Child-Parent</td>\n",
       "    </tr>\n",
       "    <tr>\n",
       "      <th>3</th>\n",
       "      <td>S:13</td>\n",
       "      <td>S:9</td>\n",
       "      <td>Child-Parent</td>\n",
       "    </tr>\n",
       "    <tr>\n",
       "      <th>4</th>\n",
       "      <td>S:13</td>\n",
       "      <td>S:11</td>\n",
       "      <td>Child-Parent</td>\n",
       "    </tr>\n",
       "    <tr>\n",
       "      <th>5</th>\n",
       "      <td>S:14</td>\n",
       "      <td>S:12</td>\n",
       "      <td>Child-Parent</td>\n",
       "    </tr>\n",
       "    <tr>\n",
       "      <th>6</th>\n",
       "      <td>S:14</td>\n",
       "      <td>S:13</td>\n",
       "      <td>Child-Parent</td>\n",
       "    </tr>\n",
       "    <tr>\n",
       "      <th>7</th>\n",
       "      <td>S:11</td>\n",
       "      <td>A</td>\n",
       "      <td>Gene-Term</td>\n",
       "    </tr>\n",
       "    <tr>\n",
       "      <th>8</th>\n",
       "      <td>S:11</td>\n",
       "      <td>B</td>\n",
       "      <td>Gene-Term</td>\n",
       "    </tr>\n",
       "    <tr>\n",
       "      <th>9</th>\n",
       "      <td>S:8</td>\n",
       "      <td>C</td>\n",
       "      <td>Gene-Term</td>\n",
       "    </tr>\n",
       "    <tr>\n",
       "      <th>10</th>\n",
       "      <td>S:11</td>\n",
       "      <td>C</td>\n",
       "      <td>Gene-Term</td>\n",
       "    </tr>\n",
       "    <tr>\n",
       "      <th>11</th>\n",
       "      <td>S:8</td>\n",
       "      <td>D</td>\n",
       "      <td>Gene-Term</td>\n",
       "    </tr>\n",
       "    <tr>\n",
       "      <th>12</th>\n",
       "      <td>S:9</td>\n",
       "      <td>E</td>\n",
       "      <td>Gene-Term</td>\n",
       "    </tr>\n",
       "    <tr>\n",
       "      <th>13</th>\n",
       "      <td>S:9</td>\n",
       "      <td>F</td>\n",
       "      <td>Gene-Term</td>\n",
       "    </tr>\n",
       "    <tr>\n",
       "      <th>14</th>\n",
       "      <td>S:10</td>\n",
       "      <td>G</td>\n",
       "      <td>Gene-Term</td>\n",
       "    </tr>\n",
       "    <tr>\n",
       "      <th>15</th>\n",
       "      <td>S:10</td>\n",
       "      <td>H</td>\n",
       "      <td>Gene-Term</td>\n",
       "    </tr>\n",
       "  </tbody>\n",
       "</table>\n",
       "</div>"
      ],
      "text/plain": [
       "   Parent Child      EdgeType\n",
       "0    S:12   S:9  Child-Parent\n",
       "1    S:12  S:10  Child-Parent\n",
       "2    S:13   S:8  Child-Parent\n",
       "3    S:13   S:9  Child-Parent\n",
       "4    S:13  S:11  Child-Parent\n",
       "5    S:14  S:12  Child-Parent\n",
       "6    S:14  S:13  Child-Parent\n",
       "7    S:11     A     Gene-Term\n",
       "8    S:11     B     Gene-Term\n",
       "9     S:8     C     Gene-Term\n",
       "10   S:11     C     Gene-Term\n",
       "11    S:8     D     Gene-Term\n",
       "12    S:9     E     Gene-Term\n",
       "13    S:9     F     Gene-Term\n",
       "14   S:10     G     Gene-Term\n",
       "15   S:10     H     Gene-Term"
      ]
     },
     "execution_count": 21,
     "metadata": {},
     "output_type": "execute_result"
    }
   ],
   "source": [
    "ont2.to_table()"
   ]
  },
  {
   "cell_type": "code",
   "execution_count": 51,
   "metadata": {
    "ExecuteTime": {
     "end_time": "2018-10-22T15:32:15.401234Z",
     "start_time": "2018-10-22T15:32:12.965124Z"
    },
    "nbpresent": {
     "id": "8b48e5a1-2c07-42df-8fbe-f2e0c43c131e"
    }
   },
   "outputs": [
    {
     "name": "stdout",
     "output_type": "stream",
     "text": [
      "8 genes, 7 terms, 9 gene-term relations, 7 term-term relations\n",
      "node_attributes: []\n",
      "edge_attributes: ['CLIXO_score']\n"
     ]
    }
   ],
   "source": [
    "# Reconstruct the ontology using the CLIXO algorithm.\n",
    "# In general, you may feed any kind of gene-gene similarities,\n",
    "# e.g. measurements of protein-protein interactions, gene co-expression, or genetic interactions.\n",
    "\n",
    "ont2 = Ontology.run_clixo(sim, alpha=0.0, beta=1.0, square=True, square_names=genes, clixo_version=0.3)\n",
    "print(ont2)"
   ]
  },
  {
   "cell_type": "code",
   "execution_count": 42,
   "metadata": {
    "ExecuteTime": {
     "end_time": "2018-10-19T20:30:44.361032Z",
     "start_time": "2018-10-19T20:30:44.277854Z"
    },
    "nbpresent": {
     "id": "d7b3bf92-2c07-4ace-a1d4-f591d5b3ddf4"
    },
    "scrolled": false
   },
   "outputs": [
    {
     "data": {
      "text/html": [
       "<div>\n",
       "<style scoped>\n",
       "    .dataframe tbody tr th:only-of-type {\n",
       "        vertical-align: middle;\n",
       "    }\n",
       "\n",
       "    .dataframe tbody tr th {\n",
       "        vertical-align: top;\n",
       "    }\n",
       "\n",
       "    .dataframe thead th {\n",
       "        text-align: right;\n",
       "    }\n",
       "</style>\n",
       "<table border=\"1\" class=\"dataframe\">\n",
       "  <thead>\n",
       "    <tr style=\"text-align: right;\">\n",
       "      <th></th>\n",
       "      <th>Parent</th>\n",
       "      <th>Child</th>\n",
       "      <th>EdgeType</th>\n",
       "      <th>CLIXO_score</th>\n",
       "    </tr>\n",
       "  </thead>\n",
       "  <tbody>\n",
       "    <tr>\n",
       "      <th>0</th>\n",
       "      <td>S:12</td>\n",
       "      <td>S:9</td>\n",
       "      <td>Child-Parent</td>\n",
       "      <td>1.00</td>\n",
       "    </tr>\n",
       "    <tr>\n",
       "      <th>1</th>\n",
       "      <td>S:12</td>\n",
       "      <td>S:10</td>\n",
       "      <td>Child-Parent</td>\n",
       "      <td>1.00</td>\n",
       "    </tr>\n",
       "    <tr>\n",
       "      <th>2</th>\n",
       "      <td>S:13</td>\n",
       "      <td>S:8</td>\n",
       "      <td>Child-Parent</td>\n",
       "      <td>0.00</td>\n",
       "    </tr>\n",
       "    <tr>\n",
       "      <th>3</th>\n",
       "      <td>S:13</td>\n",
       "      <td>S:11</td>\n",
       "      <td>Child-Parent</td>\n",
       "      <td>0.00</td>\n",
       "    </tr>\n",
       "    <tr>\n",
       "      <th>4</th>\n",
       "      <td>S:13</td>\n",
       "      <td>S:12</td>\n",
       "      <td>Child-Parent</td>\n",
       "      <td>0.00</td>\n",
       "    </tr>\n",
       "    <tr>\n",
       "      <th>5</th>\n",
       "      <td>S:11</td>\n",
       "      <td>A</td>\n",
       "      <td>Gene-Term</td>\n",
       "      <td>1.41</td>\n",
       "    </tr>\n",
       "    <tr>\n",
       "      <th>6</th>\n",
       "      <td>S:11</td>\n",
       "      <td>B</td>\n",
       "      <td>Gene-Term</td>\n",
       "      <td>1.41</td>\n",
       "    </tr>\n",
       "    <tr>\n",
       "      <th>7</th>\n",
       "      <td>S:8</td>\n",
       "      <td>C</td>\n",
       "      <td>Gene-Term</td>\n",
       "      <td>1.99</td>\n",
       "    </tr>\n",
       "    <tr>\n",
       "      <th>8</th>\n",
       "      <td>S:11</td>\n",
       "      <td>C</td>\n",
       "      <td>Gene-Term</td>\n",
       "      <td>1.41</td>\n",
       "    </tr>\n",
       "    <tr>\n",
       "      <th>9</th>\n",
       "      <td>S:8</td>\n",
       "      <td>D</td>\n",
       "      <td>Gene-Term</td>\n",
       "      <td>1.99</td>\n",
       "    </tr>\n",
       "    <tr>\n",
       "      <th>10</th>\n",
       "      <td>S:9</td>\n",
       "      <td>E</td>\n",
       "      <td>Gene-Term</td>\n",
       "      <td>1.99</td>\n",
       "    </tr>\n",
       "    <tr>\n",
       "      <th>11</th>\n",
       "      <td>S:9</td>\n",
       "      <td>F</td>\n",
       "      <td>Gene-Term</td>\n",
       "      <td>1.99</td>\n",
       "    </tr>\n",
       "    <tr>\n",
       "      <th>12</th>\n",
       "      <td>S:10</td>\n",
       "      <td>G</td>\n",
       "      <td>Gene-Term</td>\n",
       "      <td>1.99</td>\n",
       "    </tr>\n",
       "    <tr>\n",
       "      <th>13</th>\n",
       "      <td>S:10</td>\n",
       "      <td>H</td>\n",
       "      <td>Gene-Term</td>\n",
       "      <td>1.99</td>\n",
       "    </tr>\n",
       "  </tbody>\n",
       "</table>\n",
       "</div>"
      ],
      "text/plain": [
       "   Parent Child      EdgeType  CLIXO_score\n",
       "0    S:12   S:9  Child-Parent         1.00\n",
       "1    S:12  S:10  Child-Parent         1.00\n",
       "2    S:13   S:8  Child-Parent         0.00\n",
       "3    S:13  S:11  Child-Parent         0.00\n",
       "4    S:13  S:12  Child-Parent         0.00\n",
       "5    S:11     A     Gene-Term         1.41\n",
       "6    S:11     B     Gene-Term         1.41\n",
       "7     S:8     C     Gene-Term         1.99\n",
       "8    S:11     C     Gene-Term         1.41\n",
       "9     S:8     D     Gene-Term         1.99\n",
       "10    S:9     E     Gene-Term         1.99\n",
       "11    S:9     F     Gene-Term         1.99\n",
       "12   S:10     G     Gene-Term         1.99\n",
       "13   S:10     H     Gene-Term         1.99"
      ]
     },
     "execution_count": 42,
     "metadata": {},
     "output_type": "execute_result"
    }
   ],
   "source": [
    "ont2.to_table(edge_attr=True)"
   ]
  },
  {
   "cell_type": "markdown",
   "metadata": {
    "nbpresent": {
     "id": "933d0417-ca0e-4c4d-b9b2-3cb250063678"
    }
   },
   "source": [
    "# Ontology alignment\n",
    "\n",
    "* The structures of two ontologies can be compared through a procedure known as ontology alignment. Ontology.align() implements the ontology alignment described in (Dutkowski et al. Nature biotechnology, 31(1), 2013), in which terms are matched if they contain similar sets of genes and if their parents and children terms are also similar.\n",
    "\n",
    "* Ontology alignment is particularly useful for annotating a data-driven gene ontology by aligning it to a curated ontology such as the Gene Ontology (GO). For instance, if a data-driven term is identified to have a similar set of genes as the GO term for DNA repair, then the data-driven subsystem can be annotated as being involved in DNA repair. Moreover, data-driven terms with no matches in the ontology alignment may represent new molecular mechanisms.\n",
    "\n",
    "<img src=\"https://raw.githubusercontent.com/michaelkyu/ddot/master/docs/toy_ontology_alignment.png\" height=\"250\" align=\"left\">"
   ]
  },
  {
   "cell_type": "code",
   "execution_count": 28,
   "metadata": {
    "ExecuteTime": {
     "end_time": "2018-10-18T16:00:16.428271Z",
     "start_time": "2018-10-18T16:00:16.409685Z"
    },
    "collapsed": true,
    "nbpresent": {
     "id": "afad8ed5-c7ad-435e-bd30-b2f5671d7ccb"
    }
   },
   "outputs": [],
   "source": [
    "## Make a second ontology (the ontology to the right in the above diagram)\n",
    "\n",
    "# Connections from child terms to parent terms\n",
    "hierarchy = [('T3', 'T1'),\n",
    "             ('T4', 'T1'),\n",
    "             ('T1', 'T0'),\n",
    "             ('T5', 'T0')]\n",
    "\n",
    "# Connections from genes to terms\n",
    "mapping = [('A', 'T3'),\n",
    "           ('B', 'T3'),\n",
    "           ('C', 'T3'),\n",
    "           ('D', 'T4'),\n",
    "           ('E', 'T4'),\n",
    "           ('F', 'T4'),\n",
    "           ('G', 'T5'),\n",
    "           ('H', 'T5')]\n",
    "\n",
    "# Construct ontology\n",
    "ont_B = Ontology(hierarchy, mapping)"
   ]
  },
  {
   "cell_type": "code",
   "execution_count": 29,
   "metadata": {
    "ExecuteTime": {
     "end_time": "2018-10-18T16:00:21.901763Z",
     "start_time": "2018-10-18T16:00:18.473647Z"
    },
    "nbpresent": {
     "id": "1272f4f5-95d5-48f9-b3aa-cd17f3371f27"
    },
    "scrolled": true
   },
   "outputs": [
    {
     "name": "stdout",
     "output_type": "stream",
     "text": [
      "collapse command: /cellar/users/mikeyu/anaconda2/envs/ddot_py36/lib/python3.6/site-packages/ddot/alignOntology/collapseRedundantNodes /tmp/tmpyztfn6aa\n",
      "collapse command: /cellar/users/mikeyu/anaconda2/envs/ddot_py36/lib/python3.6/site-packages/ddot/alignOntology/collapseRedundantNodes /tmp/tmpw8ctxo1c\n",
      "Alignment command: /cellar/users/mikeyu/anaconda2/envs/ddot_py36/lib/python3.6/site-packages/ddot/alignOntology/calculateFDRs /tmp/tmpu410rmyr /tmp/tmpalc4hx6o 0.05 criss_cross /tmp/tmpv8kebtu4 100 8 gene\n"
     ]
    },
    {
     "data": {
      "text/html": [
       "<div>\n",
       "<style scoped>\n",
       "    .dataframe tbody tr th:only-of-type {\n",
       "        vertical-align: middle;\n",
       "    }\n",
       "\n",
       "    .dataframe tbody tr th {\n",
       "        vertical-align: top;\n",
       "    }\n",
       "\n",
       "    .dataframe thead th {\n",
       "        text-align: right;\n",
       "    }\n",
       "</style>\n",
       "<table border=\"1\" class=\"dataframe\">\n",
       "  <thead>\n",
       "    <tr style=\"text-align: right;\">\n",
       "      <th></th>\n",
       "      <th>Term</th>\n",
       "      <th>Similarity</th>\n",
       "      <th>FDR</th>\n",
       "    </tr>\n",
       "    <tr>\n",
       "      <th>Term</th>\n",
       "      <th></th>\n",
       "      <th></th>\n",
       "      <th></th>\n",
       "    </tr>\n",
       "  </thead>\n",
       "  <tbody>\n",
       "    <tr>\n",
       "      <th>S3</th>\n",
       "      <td>T3</td>\n",
       "      <td>0.985294</td>\n",
       "      <td>0.000</td>\n",
       "    </tr>\n",
       "    <tr>\n",
       "      <th>S1</th>\n",
       "      <td>T1</td>\n",
       "      <td>0.913608</td>\n",
       "      <td>0.000</td>\n",
       "    </tr>\n",
       "    <tr>\n",
       "      <th>S6</th>\n",
       "      <td>T5</td>\n",
       "      <td>0.910000</td>\n",
       "      <td>0.080</td>\n",
       "    </tr>\n",
       "    <tr>\n",
       "      <th>S0</th>\n",
       "      <td>T0</td>\n",
       "      <td>0.892982</td>\n",
       "      <td>0.005</td>\n",
       "    </tr>\n",
       "  </tbody>\n",
       "</table>\n",
       "</div>"
      ],
      "text/plain": [
       "     Term  Similarity    FDR\n",
       "Term                        \n",
       "S3     T3    0.985294  0.000\n",
       "S1     T1    0.913608  0.000\n",
       "S6     T5    0.910000  0.080\n",
       "S0     T0    0.892982  0.005"
      ]
     },
     "execution_count": 29,
     "metadata": {},
     "output_type": "execute_result"
    }
   ],
   "source": [
    "ont.align(ont_B)"
   ]
  },
  {
   "cell_type": "markdown",
   "metadata": {
    "nbpresent": {
     "id": "3c5023e7-3e96-4974-81a5-46a8b10cf530"
    }
   },
   "source": [
    "# Construct ontotypes\n",
    "\n",
    "* A major goal of genetics is to understand how genotype translates to phenotype. An ontology represents biological structure through which this genotype-phenotype translation happens. \n",
    "\n",
    "* Given a set of mutations comprising a genotype, DDOT allows you to propagate the impact of these mutations to the subsystems containing these genes in the ontology. In particular, the impact on a subsystem is estimated by the number of its genes that have been mutated. These subsystem activities, which we have called an “ontotype”, enables more accurate and interpretable predictions of phenotype from genotype (Yu et al. Cell Systems 2016, 2(2), pp.77-88. 2016)."
   ]
  },
  {
   "cell_type": "code",
   "execution_count": 30,
   "metadata": {
    "ExecuteTime": {
     "end_time": "2018-10-18T16:00:24.312643Z",
     "start_time": "2018-10-18T16:00:24.289720Z"
    },
    "nbpresent": {
     "id": "0e6b0a24-c016-41f4-9290-e5e4524c44a3"
    }
   },
   "outputs": [
    {
     "name": "stdout",
     "output_type": "stream",
     "text": [
      "   S0  S1  S2  S3  S4  S5  S6\n",
      "0   0   0   0   2   0   0   0\n",
      "1   0   0   0   1   0   1   0\n",
      "2   0   0   0   1   0   0   1\n",
      "3   0   0   0   1   0   1   0\n",
      "4   0   0   0   1   0   0   1\n",
      "5   0   0   0   1   1   1   0\n",
      "6   0   0   0   0   1   1   0\n",
      "7   0   0   0   0   1   0   1\n",
      "8   0   0   0   0   0   1   1\n",
      "9   0   0   0   0   0   0   2\n"
     ]
    }
   ],
   "source": [
    "# Genotypes can be represented as tuples of mutated genes\n",
    "genotypes = [('A', 'B'),\n",
    "             ('A', 'E'),\n",
    "             ('A', 'H'),\n",
    "             ('B', 'E'),\n",
    "             ('B', 'H'),\n",
    "             ('C', 'F'),\n",
    "             ('D', 'E'),\n",
    "             ('D', 'H'),\n",
    "             ('E', 'H'),\n",
    "             ('G', 'H')]\n",
    "\n",
    "# Calculate the ontotypes, represented a genotype-by-term matrix. Each value represents the functional impact on a term in a genotype.\n",
    "ontotypes = ont.get_ontotype(genotypes)\n",
    "print(ontotypes)"
   ]
  },
  {
   "cell_type": "code",
   "execution_count": 31,
   "metadata": {
    "ExecuteTime": {
     "end_time": "2018-10-18T16:00:26.183249Z",
     "start_time": "2018-10-18T16:00:26.126607Z"
    },
    "nbpresent": {
     "id": "58fbf722-ac48-4f2b-afcd-6156f126afa9"
    }
   },
   "outputs": [
    {
     "name": "stdout",
     "output_type": "stream",
     "text": [
      "Genotype matrix\n",
      "             A    B    C    D    E    F    G    H\n",
      "Genotype0  1.0  1.0  0.0  0.0  0.0  0.0  0.0  0.0\n",
      "Genotype1  1.0  0.0  0.0  0.0  1.0  0.0  0.0  0.0\n",
      "Genotype2  1.0  0.0  0.0  0.0  0.0  0.0  0.0  1.0\n",
      "Genotype3  0.0  1.0  0.0  0.0  1.0  0.0  0.0  0.0\n",
      "Genotype4  0.0  1.0  0.0  0.0  0.0  0.0  0.0  1.0\n",
      "Genotype5  0.0  0.0  1.0  0.0  0.0  1.0  0.0  0.0\n",
      "Genotype6  0.0  0.0  0.0  1.0  1.0  0.0  0.0  0.0\n",
      "Genotype7  0.0  0.0  0.0  1.0  0.0  0.0  0.0  1.0\n",
      "Genotype8  0.0  0.0  0.0  0.0  1.0  0.0  0.0  1.0\n",
      "Genotype9  0.0  0.0  0.0  0.0  0.0  0.0  1.0  1.0\n",
      "\n",
      "Ontotype matrix\n",
      "            S0   S1   S2   S3   S4   S5   S6\n",
      "Genotype0  0.0  0.0  0.0  2.0  0.0  0.0  0.0\n",
      "Genotype1  0.0  0.0  0.0  1.0  0.0  1.0  0.0\n",
      "Genotype2  0.0  0.0  0.0  1.0  0.0  0.0  1.0\n",
      "Genotype3  0.0  0.0  0.0  1.0  0.0  1.0  0.0\n",
      "Genotype4  0.0  0.0  0.0  1.0  0.0  0.0  1.0\n",
      "Genotype5  0.0  0.0  0.0  1.0  1.0  1.0  0.0\n",
      "Genotype6  0.0  0.0  0.0  0.0  1.0  1.0  0.0\n",
      "Genotype7  0.0  0.0  0.0  0.0  1.0  0.0  1.0\n",
      "Genotype8  0.0  0.0  0.0  0.0  0.0  1.0  1.0\n",
      "Genotype9  0.0  0.0  0.0  0.0  0.0  0.0  2.0\n"
     ]
    }
   ],
   "source": [
    "# Genotypes can also be represented a genotype-by-gene matrix as an alternative input format\n",
    "import pandas as pd, numpy as np\n",
    "genotypes_df = pd.DataFrame(np.zeros((len(genotypes), len(ont.genes)), np.float64),\n",
    "                            index=['Genotype%s' % i for i in range(len(genotypes))],\n",
    "                            columns=ont.genes)\n",
    "for i, (g1, g2) in enumerate(genotypes):\n",
    "    genotypes_df.loc['Genotype%s' % i, g1] = 1.0\n",
    "    genotypes_df.loc['Genotype%s' % i, g2] = 1.0\n",
    "print('Genotype matrix')\n",
    "print(genotypes_df)\n",
    "print(\"\")\n",
    "\n",
    "ontotypes = ont.get_ontotype(genotypes_df, input_format='matrix')\n",
    "print('Ontotype matrix')\n",
    "print(ontotypes)"
   ]
  },
  {
   "cell_type": "markdown",
   "metadata": {
    "nbpresent": {
     "id": "aeb126a6-63f7-49b5-9db5-911bad7bcfd5"
    }
   },
   "source": [
    "# Conversions to NetworkX and igraph"
   ]
  },
  {
   "cell_type": "code",
   "execution_count": 32,
   "metadata": {
    "ExecuteTime": {
     "end_time": "2018-10-18T16:00:29.074321Z",
     "start_time": "2018-10-18T16:00:29.063390Z"
    },
    "nbpresent": {
     "id": "fa90ab90-0c38-476b-98c5-e89c6301a459"
    }
   },
   "outputs": [
    {
     "name": "stdout",
     "output_type": "stream",
     "text": [
      "IGRAPH DN-- 15 16 --\n",
      "+ attr: NodeType (v), name (v), EdgeType (e)\n",
      "+ edges (vertex names):\n",
      "A->S3, B->S3, C->S4, C->S3, D->S4, E->S5, F->S5, G->S6, H->S6, S1->S0, S2->S0,\n",
      "S3->S1, S4->S1, S5->S1, S5->S2, S6->S2\n"
     ]
    }
   ],
   "source": [
    "# Convert to an igraph object\n",
    "G = ont.to_igraph()\n",
    "print(G)"
   ]
  },
  {
   "cell_type": "code",
   "execution_count": 33,
   "metadata": {
    "ExecuteTime": {
     "end_time": "2018-10-18T16:00:30.826310Z",
     "start_time": "2018-10-18T16:00:30.798016Z"
    },
    "nbpresent": {
     "id": "88795777-fe1f-4beb-a64c-e78610978fa5"
    }
   },
   "outputs": [
    {
     "data": {
      "text/plain": [
       "8 genes, 7 terms, 9 gene-term relations, 7 term-term relations\n",
       "node_attributes: []\n",
       "edge_attributes: []"
      ]
     },
     "execution_count": 33,
     "metadata": {},
     "output_type": "execute_result"
    }
   ],
   "source": [
    "# Reconstruct the Ontology object from the igraph object\n",
    "Ontology.from_igraph(G)"
   ]
  },
  {
   "cell_type": "code",
   "execution_count": 34,
   "metadata": {
    "ExecuteTime": {
     "end_time": "2018-10-18T16:00:32.491279Z",
     "start_time": "2018-10-18T16:00:32.438211Z"
    },
    "nbpresent": {
     "id": "f8c763da-71a4-4fc2-a08d-8dd1d1853c6b"
    }
   },
   "outputs": [
    {
     "name": "stdout",
     "output_type": "stream",
     "text": [
      "['A', 'B', 'C', 'D', 'E', 'F', 'G', 'H', 'S0', 'S1', 'S2', 'S3', 'S4', 'S5', 'S6']\n",
      "[('A', 'S3'), ('B', 'S3'), ('C', 'S4'), ('C', 'S3'), ('D', 'S4'), ('E', 'S5'), ('F', 'S5'), ('G', 'S6'), ('H', 'S6'), ('S1', 'S0'), ('S2', 'S0'), ('S3', 'S1'), ('S4', 'S1'), ('S5', 'S1'), ('S5', 'S2'), ('S6', 'S2')]\n"
     ]
    }
   ],
   "source": [
    "# Convert to a NetworkX object\n",
    "G = ont.to_networkx()\n",
    "print(G.nodes())\n",
    "print(G.edges())"
   ]
  },
  {
   "cell_type": "code",
   "execution_count": 35,
   "metadata": {
    "ExecuteTime": {
     "end_time": "2018-10-18T16:00:33.420331Z",
     "start_time": "2018-10-18T16:00:33.390244Z"
    },
    "nbpresent": {
     "id": "8fb103e9-91ab-4fb6-8bf2-9bc76053da2e"
    }
   },
   "outputs": [
    {
     "name": "stdout",
     "output_type": "stream",
     "text": [
      "8 genes, 7 terms, 9 gene-term relations, 7 term-term relations\n",
      "node_attributes: []\n",
      "edge_attributes: []\n"
     ]
    }
   ],
   "source": [
    "# Reconstruct the Ontology object from the NetworkX object\n",
    "tmp = Ontology.from_networkx(G)\n",
    "print(tmp)"
   ]
  },
  {
   "cell_type": "markdown",
   "metadata": {
    "nbpresent": {
     "id": "49b149f6-6645-4cd8-ab0f-cfb659f82953"
    }
   },
   "source": [
    "# Ontology visualization using HiView (http://hiview.ucsd.edu)\n",
    "* HiView is a web application for general visualization of the hierarchical structure in ontologies.\n",
    "* To use HiView, you must first upload your ontology into NDEx using the [Ontology.to_ndex()](http://ddot.readthedocs.io/en/latest/ontology.html#ddot.Ontology.to_ndex) function, and then input the NDEx URL for the ontology to HiView\n",
    "* In contrast to almost all other hierarchical visualization tools, which are limited to simple tree structures, HiView also supports more complicated hierarchies in the form of directed acyclic graphs, in which nodes may have multiple parents."
   ]
  },
  {
   "cell_type": "markdown",
   "metadata": {
    "nbpresent": {
     "id": "2524cfe0-4f93-4a30-a07f-2f9b443cefcd"
    }
   },
   "source": [
    "### A simple upload to NDEx and visualization in HiView\n",
    "* Upload ontologies to NDEx using the `Ontology.to_ndex()` function.\n",
    "* Setting the parameter `layout=\"bubble\"` (default value) will identify a spanning tree of the DAG and then lay this tree in a space-compact manner. When viewing in HiView, only the edges in the spanning tree are shown, while the other edges can be chosen to be shown.\n",
    "\n",
    "<img src=\"https://raw.githubusercontent.com/michaelkyu/ddot/master/docs/toy_ontology_spanning_tree.png\" height=\"250\" align=\"left\">"
   ]
  },
  {
   "cell_type": "code",
   "execution_count": 36,
   "metadata": {
    "ExecuteTime": {
     "end_time": "2018-10-18T16:00:38.436069Z",
     "start_time": "2018-10-18T16:00:38.199645Z"
    },
    "nbpresent": {
     "id": "d134403d-5ea5-49c3-8b1f-48f8c44cc82e"
    }
   },
   "outputs": [
    {
     "name": "stdout",
     "output_type": "stream",
     "text": [
      "Go to http://hiview.ucsd.edu in your web browser\n",
      "Enter this into the \"NDEx Sever URL\" field: http://test.ndexbio.org\n",
      "Enter this into the \"UUID of the main hierarchy\" field: f4b19c39-d2ee-11e8-a74b-0660b7976219\n"
     ]
    }
   ],
   "source": [
    "url, _ = ont.to_ndex(ndex_server=ndex_server,\n",
    "                     ndex_user=ndex_user,\n",
    "                     ndex_pass=ndex_pass,\n",
    "                     layout='bubble')\n",
    "\n",
    "print('Go to http://hiview.ucsd.edu in your web browser')\n",
    "print('Enter this into the \"NDEx Sever URL\" field: %s' % ndex_server)\n",
    "print('Enter this into the \"UUID of the main hierarchy\" field: %s' % url.split('/')[-1])"
   ]
  },
  {
   "cell_type": "markdown",
   "metadata": {
    "nbpresent": {
     "id": "2467df7d-0d6f-4db5-9323-31fae19baeb3"
    }
   },
   "source": [
    "### An alternative layout by duplicating nodes\n",
    "* Setting the parameter `layout=\"bubble-collect\"` will convert the DAG into a tree by duplicating nodes.\n",
    "* This transformation enables the ontology structure to be visualized without edges crossing.\n",
    "\n",
    "<img src=\"https://raw.githubusercontent.com/michaelkyu/ddot/master/docs/toy_ontology_dag2tree.png\" height=\"250\" align=\"left\">"
   ]
  },
  {
   "cell_type": "code",
   "execution_count": 20,
   "metadata": {
    "ExecuteTime": {
     "end_time": "2018-10-18T16:30:36.455318Z",
     "start_time": "2018-10-18T16:30:36.109036Z"
    },
    "nbpresent": {
     "id": "ad1d94f4-f1d8-4f79-977a-441021101239"
    }
   },
   "outputs": [
    {
     "name": "stdout",
     "output_type": "stream",
     "text": [
      "Go to http://hiview.ucsd.edu in your web browser\n",
      "Enter this into the \"NDEx Sever URL\" field: http://test.ndexbio.org\n",
      "Enter this into the \"UUID of the main hierarchy\" field: 2464ed37-d2f3-11e8-a74b-0660b7976219\n"
     ]
    }
   ],
   "source": [
    "url, _ = ont.to_ndex(ndex_server=ndex_server,\n",
    "                     ndex_user=ndex_user,\n",
    "                     ndex_pass=ndex_pass,\n",
    "                     layout='bubble-collect')\n",
    "\n",
    "print('Go to http://hiview.ucsd.edu in your web browser')\n",
    "print('Enter this into the \"NDEx Sever URL\" field: %s' % ndex_server)\n",
    "print('Enter this into the \"UUID of the main hierarchy\" field: %s' % url.split('/')[-1])"
   ]
  },
  {
   "cell_type": "markdown",
   "metadata": {
    "nbpresent": {
     "id": "9411c38a-c923-42ee-84e5-19fde623bf4b"
    }
   },
   "source": [
    "### Visualizing metadata by modifying node labels, colors, and sizes\n",
    "\n",
    "* An Ontology object has a `node_attr` field that is a pandas DataFrame. The rows of the dataframe are genes or terms, and the columns are node attributes.\n",
    "* HiView understands special node attributes to control the node labels, colors, and sizes."
   ]
  },
  {
   "cell_type": "code",
   "execution_count": 21,
   "metadata": {
    "ExecuteTime": {
     "end_time": "2018-10-18T16:32:07.061806Z",
     "start_time": "2018-10-18T16:32:06.358729Z"
    },
    "nbpresent": {
     "id": "859a0f4f-9b5e-4233-8991-61d66be2c552"
    }
   },
   "outputs": [
    {
     "data": {
      "text/html": [
       "<div>\n",
       "<style scoped>\n",
       "    .dataframe tbody tr th:only-of-type {\n",
       "        vertical-align: middle;\n",
       "    }\n",
       "\n",
       "    .dataframe tbody tr th {\n",
       "        vertical-align: top;\n",
       "    }\n",
       "\n",
       "    .dataframe thead th {\n",
       "        text-align: right;\n",
       "    }\n",
       "</style>\n",
       "<table border=\"1\" class=\"dataframe\">\n",
       "  <thead>\n",
       "    <tr style=\"text-align: right;\">\n",
       "      <th></th>\n",
       "      <th>Label</th>\n",
       "      <th>Vis:Fill Color</th>\n",
       "      <th>Size</th>\n",
       "    </tr>\n",
       "    <tr>\n",
       "      <th>Node</th>\n",
       "      <th></th>\n",
       "      <th></th>\n",
       "      <th></th>\n",
       "    </tr>\n",
       "  </thead>\n",
       "  <tbody>\n",
       "    <tr>\n",
       "      <th>S4</th>\n",
       "      <td>S4 alias</td>\n",
       "      <td>NaN</td>\n",
       "      <td>NaN</td>\n",
       "    </tr>\n",
       "    <tr>\n",
       "      <th>S5</th>\n",
       "      <td>S5 alias</td>\n",
       "      <td>NaN</td>\n",
       "      <td>NaN</td>\n",
       "    </tr>\n",
       "    <tr>\n",
       "      <th>C</th>\n",
       "      <td>NaN</td>\n",
       "      <td>#7fc97f</td>\n",
       "      <td>10.0</td>\n",
       "    </tr>\n",
       "    <tr>\n",
       "      <th>S1</th>\n",
       "      <td>NaN</td>\n",
       "      <td>#beaed4</td>\n",
       "      <td>NaN</td>\n",
       "    </tr>\n",
       "    <tr>\n",
       "      <th>S0</th>\n",
       "      <td>NaN</td>\n",
       "      <td>#fdc086</td>\n",
       "      <td>NaN</td>\n",
       "    </tr>\n",
       "  </tbody>\n",
       "</table>\n",
       "</div>"
      ],
      "text/plain": [
       "         Label Vis:Fill Color  Size\n",
       "Node                               \n",
       "S4    S4 alias            NaN   NaN\n",
       "S5    S5 alias            NaN   NaN\n",
       "C          NaN        #7fc97f  10.0\n",
       "S1         NaN        #beaed4   NaN\n",
       "S0         NaN        #fdc086   NaN"
      ]
     },
     "execution_count": 21,
     "metadata": {},
     "output_type": "execute_result"
    }
   ],
   "source": [
    "# Set the node labels (default is the gene and term names, as found in Ontology.genes and Ontology.terms)\n",
    "ont.node_attr.loc['S4', 'Label'] = 'S4 alias'\n",
    "ont.node_attr.loc['S5', 'Label'] = 'S5 alias'\n",
    "\n",
    "# Set the fill color of nodes\n",
    "ont.node_attr.loc['C', 'Vis:Fill Color'] = '#7fc97f'\n",
    "ont.node_attr.loc['S1', 'Vis:Fill Color'] = '#beaed4'\n",
    "ont.node_attr.loc['S0', 'Vis:Fill Color'] = '#fdc086'\n",
    "\n",
    "# Set the node sizes (if not set, the default is the term size, as found in Ontology.term_sizes)\n",
    "ont.node_attr.loc['C', 'Size'] = 10\n",
    "\n",
    "ont.node_attr"
   ]
  },
  {
   "cell_type": "code",
   "execution_count": 22,
   "metadata": {
    "ExecuteTime": {
     "end_time": "2018-10-18T16:32:09.857261Z",
     "start_time": "2018-10-18T16:32:09.495252Z"
    },
    "nbpresent": {
     "id": "7d1e2a4c-d1bc-481d-bc67-e60d1c04dd00"
    }
   },
   "outputs": [
    {
     "name": "stdout",
     "output_type": "stream",
     "text": [
      "Go to http://hiview.ucsd.edu in your web browser\n",
      "Enter this into the \"NDEx Sever URL\" field: http://test.ndexbio.org\n",
      "Enter this into the \"UUID of the main hierarchy\" field: 5c10c9c9-d2f3-11e8-a74b-0660b7976219\n"
     ]
    }
   ],
   "source": [
    "url, _ = ont.to_ndex(ndex_server=ndex_server,\n",
    "                     ndex_user=ndex_user,\n",
    "                     ndex_pass=ndex_pass,\n",
    "                     layout='bubble-collect')\n",
    "\n",
    "print('Go to http://hiview.ucsd.edu in your web browser')\n",
    "print('Enter this into the \"NDEx Sever URL\" field: %s' % ndex_server)\n",
    "print('Enter this into the \"UUID of the main hierarchy\" field: %s' % url.split('/')[-1])"
   ]
  },
  {
   "cell_type": "code",
   "execution_count": 17,
   "metadata": {
    "ExecuteTime": {
     "end_time": "2018-10-18T16:20:58.779471Z",
     "start_time": "2018-10-18T16:20:58.158746Z"
    },
    "nbpresent": {
     "id": "38eeebca-52ff-4f9e-a80a-3da04bc6892a"
    }
   },
   "outputs": [
    {
     "data": {
      "text/plain": [
       "'http://hiview-test.ucsd.edu/aa0a40e3-d2f1-11e8-a74b-0660b7976219?type=test&server=http://test.ndexbio.org'"
      ]
     },
     "execution_count": 17,
     "metadata": {},
     "output_type": "execute_result"
    }
   ],
   "source": [
    "\"http://hiview-test.ucsd.edu/%s?type=test&server=%s\" % (url.split('/')[-1], ndex_server)"
   ]
  },
  {
   "cell_type": "code",
   "execution_count": 40,
   "metadata": {
    "ExecuteTime": {
     "end_time": "2018-10-18T16:02:31.391896Z",
     "start_time": "2018-10-18T16:02:31.370526Z"
    },
    "nbpresent": {
     "id": "89667895-2263-4844-bbea-bbabc20593e5"
    }
   },
   "outputs": [
    {
     "data": {
      "text/html": [
       "<div>\n",
       "<style scoped>\n",
       "    .dataframe tbody tr th:only-of-type {\n",
       "        vertical-align: middle;\n",
       "    }\n",
       "\n",
       "    .dataframe tbody tr th {\n",
       "        vertical-align: top;\n",
       "    }\n",
       "\n",
       "    .dataframe thead th {\n",
       "        text-align: right;\n",
       "    }\n",
       "</style>\n",
       "<table border=\"1\" class=\"dataframe\">\n",
       "  <thead>\n",
       "    <tr style=\"text-align: right;\">\n",
       "      <th></th>\n",
       "    </tr>\n",
       "    <tr>\n",
       "      <th>Node</th>\n",
       "    </tr>\n",
       "  </thead>\n",
       "  <tbody>\n",
       "  </tbody>\n",
       "</table>\n",
       "</div>"
      ],
      "text/plain": [
       "Empty DataFrame\n",
       "Columns: []\n",
       "Index: []"
      ]
     },
     "execution_count": 40,
     "metadata": {},
     "output_type": "execute_result"
    }
   ],
   "source": [
    "# Clear node attributes (optional)\n",
    "ont.clear_node_attr()\n",
    "ont.node_attr"
   ]
  },
  {
   "cell_type": "markdown",
   "metadata": {
    "nbpresent": {
     "id": "7688ec8b-0154-49cd-996a-f7456ca66ddc"
    }
   },
   "source": [
    "### Visualize gene-gene interaction networks alongside the ontology\n",
    "* Every term in an ontology represents a biological function shared among the term's genes. Based on this intuition, those genes should be interacting in different ways, e.g. protein-protein interactions, RNA expression, or genetic interactions.\n",
    "* Gene-gene interaction networks can be uploaded with the ontology to NDEx, so that they can be visualized at the same time in HiView"
   ]
  },
  {
   "cell_type": "code",
   "execution_count": 5,
   "metadata": {
    "ExecuteTime": {
     "end_time": "2018-10-22T18:13:30.952895Z",
     "start_time": "2018-10-22T18:13:30.880186Z"
    },
    "nbpresent": {
     "id": "2539616d-9a55-4778-8bf4-894201391b49"
    }
   },
   "outputs": [
    {
     "name": "stdout",
     "output_type": "stream",
     "text": [
      "['A' 'B' 'C' 'D' 'E' 'F' 'G' 'H']\n",
      "[[ 1.42  1.42  1.42  0.42  0.42  0.42 -0.   -0.  ]\n",
      " [ 1.42  1.42  1.42  0.42  0.42  0.42 -0.   -0.  ]\n",
      " [ 1.42  1.42  2.    2.    0.42  0.42 -0.   -0.  ]\n",
      " [ 0.42  0.42  2.    2.    0.42  0.42 -0.   -0.  ]\n",
      " [ 0.42  0.42  0.42  0.42  2.    2.    1.    1.  ]\n",
      " [ 0.42  0.42  0.42  0.42  2.    2.    1.    1.  ]\n",
      " [-0.   -0.   -0.   -0.    1.    1.    2.    2.  ]\n",
      " [-0.   -0.   -0.   -0.    1.    1.    2.    2.  ]]\n"
     ]
    }
   ],
   "source": [
    "# Calculate a gene-by-gene similarity matrix using the Resnik semantic similarity definition (see section \"Inferring a data-driven ontology\")\n",
    "sim, genes = ont.flatten()\n",
    "print(genes)\n",
    "print(np.round(sim, 2))"
   ]
  },
  {
   "cell_type": "code",
   "execution_count": 6,
   "metadata": {
    "ExecuteTime": {
     "end_time": "2018-10-22T18:13:32.623806Z",
     "start_time": "2018-10-22T18:13:32.528304Z"
    },
    "nbpresent": {
     "id": "3c77f4e4-746b-4cec-9dab-3ef5cf847b18"
    }
   },
   "outputs": [
    {
     "data": {
      "text/html": [
       "<div>\n",
       "<style scoped>\n",
       "    .dataframe tbody tr th:only-of-type {\n",
       "        vertical-align: middle;\n",
       "    }\n",
       "\n",
       "    .dataframe tbody tr th {\n",
       "        vertical-align: top;\n",
       "    }\n",
       "\n",
       "    .dataframe thead th {\n",
       "        text-align: right;\n",
       "    }\n",
       "</style>\n",
       "<table border=\"1\" class=\"dataframe\">\n",
       "  <thead>\n",
       "    <tr style=\"text-align: right;\">\n",
       "      <th></th>\n",
       "      <th>Gene1</th>\n",
       "      <th>Gene2</th>\n",
       "      <th>similarity</th>\n",
       "    </tr>\n",
       "  </thead>\n",
       "  <tbody>\n",
       "    <tr>\n",
       "      <th>0</th>\n",
       "      <td>A</td>\n",
       "      <td>B</td>\n",
       "      <td>1.415038</td>\n",
       "    </tr>\n",
       "    <tr>\n",
       "      <th>1</th>\n",
       "      <td>A</td>\n",
       "      <td>C</td>\n",
       "      <td>1.415038</td>\n",
       "    </tr>\n",
       "    <tr>\n",
       "      <th>2</th>\n",
       "      <td>A</td>\n",
       "      <td>D</td>\n",
       "      <td>0.415038</td>\n",
       "    </tr>\n",
       "    <tr>\n",
       "      <th>3</th>\n",
       "      <td>A</td>\n",
       "      <td>E</td>\n",
       "      <td>0.415038</td>\n",
       "    </tr>\n",
       "    <tr>\n",
       "      <th>4</th>\n",
       "      <td>A</td>\n",
       "      <td>F</td>\n",
       "      <td>0.415038</td>\n",
       "    </tr>\n",
       "  </tbody>\n",
       "</table>\n",
       "</div>"
      ],
      "text/plain": [
       "  Gene1 Gene2  similarity\n",
       "0     A     B    1.415038\n",
       "1     A     C    1.415038\n",
       "2     A     D    0.415038\n",
       "3     A     E    0.415038\n",
       "4     A     F    0.415038"
      ]
     },
     "execution_count": 6,
     "metadata": {},
     "output_type": "execute_result"
    }
   ],
   "source": [
    "# Convert the gene-by-gene similarity matrix into a dataframe with a \"long\" format, where rows represent gene pairs. This conversion can be easily done with ddot.melt_square()\n",
    "import pandas as pd\n",
    "sim_df = pd.DataFrame(sim, index=genes, columns=genes)\n",
    "sim_long = ddot.melt_square(sim_df)\n",
    "sim_long.head()"
   ]
  },
  {
   "cell_type": "code",
   "execution_count": 7,
   "metadata": {
    "ExecuteTime": {
     "end_time": "2018-10-22T18:13:36.231515Z",
     "start_time": "2018-10-22T18:13:36.153230Z"
    },
    "nbpresent": {
     "id": "7edaeb1a-9330-4aa3-982d-95fef98aab76"
    }
   },
   "outputs": [
    {
     "data": {
      "text/html": [
       "<div>\n",
       "<style scoped>\n",
       "    .dataframe tbody tr th:only-of-type {\n",
       "        vertical-align: middle;\n",
       "    }\n",
       "\n",
       "    .dataframe tbody tr th {\n",
       "        vertical-align: top;\n",
       "    }\n",
       "\n",
       "    .dataframe thead th {\n",
       "        text-align: right;\n",
       "    }\n",
       "</style>\n",
       "<table border=\"1\" class=\"dataframe\">\n",
       "  <thead>\n",
       "    <tr style=\"text-align: right;\">\n",
       "      <th></th>\n",
       "      <th>Gene1</th>\n",
       "      <th>Gene2</th>\n",
       "      <th>similarity</th>\n",
       "      <th>example_interaction_type1</th>\n",
       "      <th>example_interaction_type2</th>\n",
       "    </tr>\n",
       "  </thead>\n",
       "  <tbody>\n",
       "    <tr>\n",
       "      <th>0</th>\n",
       "      <td>A</td>\n",
       "      <td>B</td>\n",
       "      <td>1.415038</td>\n",
       "      <td>1.910442</td>\n",
       "      <td>1.654844</td>\n",
       "    </tr>\n",
       "    <tr>\n",
       "      <th>1</th>\n",
       "      <td>A</td>\n",
       "      <td>C</td>\n",
       "      <td>1.415038</td>\n",
       "      <td>1.763780</td>\n",
       "      <td>1.710498</td>\n",
       "    </tr>\n",
       "    <tr>\n",
       "      <th>2</th>\n",
       "      <td>A</td>\n",
       "      <td>D</td>\n",
       "      <td>0.415038</td>\n",
       "      <td>0.691413</td>\n",
       "      <td>0.469619</td>\n",
       "    </tr>\n",
       "    <tr>\n",
       "      <th>3</th>\n",
       "      <td>A</td>\n",
       "      <td>E</td>\n",
       "      <td>0.415038</td>\n",
       "      <td>0.856354</td>\n",
       "      <td>0.826621</td>\n",
       "    </tr>\n",
       "    <tr>\n",
       "      <th>4</th>\n",
       "      <td>A</td>\n",
       "      <td>F</td>\n",
       "      <td>0.415038</td>\n",
       "      <td>0.878889</td>\n",
       "      <td>0.795275</td>\n",
       "    </tr>\n",
       "  </tbody>\n",
       "</table>\n",
       "</div>"
      ],
      "text/plain": [
       "  Gene1 Gene2  similarity  example_interaction_type1  \\\n",
       "0     A     B    1.415038                   1.910442   \n",
       "1     A     C    1.415038                   1.763780   \n",
       "2     A     D    0.415038                   0.691413   \n",
       "3     A     E    0.415038                   0.856354   \n",
       "4     A     F    0.415038                   0.878889   \n",
       "\n",
       "   example_interaction_type2  \n",
       "0                   1.654844  \n",
       "1                   1.710498  \n",
       "2                   0.469619  \n",
       "3                   0.826621  \n",
       "4                   0.795275  "
      ]
     },
     "execution_count": 7,
     "metadata": {},
     "output_type": "execute_result"
    }
   ],
   "source": [
    "# Create other gene-gene interactions.\n",
    "# For example, these can represent protein-protein interactions or gene co-expression. \n",
    "# Here, we simulate types of interactions by adding a random noise to the Resnik similarity\n",
    "sim_long['example_interaction_type1'] = sim_long['similarity'] + np.random.random(sim_long.shape[0]) / 2.\n",
    "sim_long['example_interaction_type2'] = sim_long['similarity'] + np.random.random(sim_long.shape[0]) / 2.\n",
    "sim_long.head()"
   ]
  },
  {
   "cell_type": "code",
   "execution_count": 23,
   "metadata": {
    "ExecuteTime": {
     "end_time": "2018-10-26T19:36:00.359194Z",
     "start_time": "2018-10-26T19:35:58.634360Z"
    },
    "nbpresent": {
     "id": "93203177-12db-4f5c-8489-3375cdcd2685"
    },
    "scrolled": false
   },
   "outputs": [
    {
     "name": "stdout",
     "output_type": "stream",
     "text": [
      "Go to http://hiview.ucsd.edu in your web browser\n",
      "Enter this into the \"NDEx Sever URL\" field: http://test.ndexbio.org\n",
      "Enter this into the \"UUID of the main hierarchy\" field: 5e1095e1-d956-11e8-a260-0660b7976219\n",
      "http://hiview-test.ucsd.edu/5e1095e1-d956-11e8-a260-0660b7976219?type=test&server=http://dev2.ndexbio.org\n"
     ]
    }
   ],
   "source": [
    "# Include the above gene-gene interactions by setting the `network` and `main_feature` parameters.\n",
    "url, _ = ont.to_ndex(name=\"Toy Ontology\",\n",
    "                     ndex_server=ndex_server,\n",
    "                     ndex_user=ndex_user,\n",
    "                     ndex_pass=ndex_pass,\n",
    "                     network=sim_long,\n",
    "                     main_feature='similarity',\n",
    "                     layout='bubble-collect')\n",
    "\n",
    "print('Go to http://hiview.ucsd.edu in your web browser')\n",
    "print('Enter this into the \"NDEx Sever URL\" field: %s' % ndex_server)\n",
    "print('Enter this into the \"UUID of the main hierarchy\" field: %s' % url.split('/')[-1])\n",
    "print(\"http://hiview-test.ucsd.edu/%s?type=test&server=%s\" % (url.split('/')[-1], url.split('ndexbio.org')[0] + 'ndexbio.org'))"
   ]
  }
 ],
 "metadata": {
  "kernelspec": {
   "display_name": "Python [conda env:ddot_py36]",
   "language": "python",
   "name": "conda-env-ddot_py36-py"
  },
  "language_info": {
   "codemirror_mode": {
    "name": "ipython",
    "version": 3
   },
   "file_extension": ".py",
   "mimetype": "text/x-python",
   "name": "python",
   "nbconvert_exporter": "python",
   "pygments_lexer": "ipython3",
   "version": "3.6.5"
  },
  "latex_envs": {
   "LaTeX_envs_menu_present": true,
   "autocomplete": true,
   "bibliofile": "biblio.bib",
   "cite_by": "apalike",
   "current_citInitial": 1,
   "eqLabelWithNumbers": true,
   "eqNumInitial": 1,
   "hotkeys": {
    "equation": "Ctrl-E",
    "itemize": "Ctrl-I"
   },
   "labels_anchors": false,
   "latex_user_defs": false,
   "report_style_numbering": false,
   "user_envs_cfg": false
  },
  "toc": {
   "colors": {
    "hover_highlight": "#DAA520",
    "navigate_num": "#000000",
    "navigate_text": "#333333",
    "running_highlight": "#FF0000",
    "selected_highlight": "#FFD700",
    "sidebar_border": "#EEEEEE",
    "wrapper_background": "#FFFFFF"
   },
   "moveMenuLeft": true,
   "nav_menu": {
    "height": "66px",
    "width": "252px"
   },
   "navigate_menu": true,
   "number_sections": true,
   "sideBar": true,
   "threshold": 4,
   "toc_cell": false,
   "toc_position": {
    "height": "672px",
    "left": "0px",
    "right": "1391.67px",
    "top": "106px",
    "width": "299px"
   },
   "toc_section_display": "none",
   "toc_window_display": false,
   "widenNotebook": false
  }
 },
 "nbformat": 4,
 "nbformat_minor": 2
}
