{
 "cells": [
  {
   "cell_type": "code",
   "execution_count": 1,
   "metadata": {
    "ExecuteTime": {
     "end_time": "2018-03-18T23:43:28.222151Z",
     "start_time": "2018-03-18T23:43:22.534015Z"
    }
   },
   "outputs": [
    {
     "name": "stdout",
     "output_type": "stream",
     "text": [
      "\n",
      "\n"
     ]
    }
   ],
   "source": [
    "%load_ext autoreload\n",
    "%autoreload 2\n",
    "\n",
    "import sys\n",
    "sys.path.insert(0, '/cellar/users/mikeyu/DeepTranslate/ddot')\n",
    "\n",
    "from ddot import Ontology"
   ]
  },
  {
   "cell_type": "markdown",
   "metadata": {},
   "source": [
    "# Tutorial\n",
    "\n",
    "\n",
    "An ontology is a hierarchical arrangement of two types of nodes: (1)\n",
    "genes at the leaves of the hierarchy and (2) terms at intermediate\n",
    "levels of the hierarchy. The hierarchy can be thought of as directed\n",
    "acyclic graph (DAG), in which each node can have multiple children or\n",
    "multiple parent nodes. DAGs are a generalization of trees\n",
    "(a.k.a. dendogram), where each node has at most one parent.\n",
    "\n",
    "The DDOT Python library provides many functions for assembling,\n",
    "analyzing, and visualizing ontologies.  The main functionalities are\n",
    "implemented in an object-oriented manner by an \"Ontology\" class.  This\n",
    "class can handle both ontologies that are data-driven as well as those\n",
    "that are manually curated like the Gene Ontology.\n"
   ]
  },
  {
   "cell_type": "markdown",
   "metadata": {},
   "source": [
    "# Creating an Ontology object\n",
    "\n",
    "An object of the Ontology class can be created in several ways. To demonstrate\n",
    "this, we will build the following ontology\n",
    "\n",
    "<img src=\"https://github.com/michaelkyu/ontology/blob/master/docs/toy_ontology.png?raw=true\" width=\"500\" align=\"left\">"
   ]
  },
  {
   "cell_type": "markdown",
   "metadata": {},
   "source": [
    "## Through the __init__ constructor"
   ]
  },
  {
   "cell_type": "code",
   "execution_count": 25,
   "metadata": {
    "ExecuteTime": {
     "end_time": "2018-03-19T00:48:27.629337Z",
     "start_time": "2018-03-19T00:48:27.583554Z"
    },
    "collapsed": true
   },
   "outputs": [],
   "source": [
    "# Connections from child terms to parent terms\n",
    "hierarchy = [('S3', 'S1'),\n",
    "             ('S4', 'S1'),\n",
    "             ('S5', 'S1'),\n",
    "             ('S6', 'S2'),\n",
    "             ('S1', 'S0'),\n",
    "             ('S2', 'S0')]\n",
    "\n",
    "# Connections from genes to terms\n",
    "mapping = [('A', 'S3'),\n",
    "           ('B', 'S3'),\n",
    "           ('C', 'S3'),\n",
    "           ('C', 'S4'),\n",
    "           ('D', 'S4'),\n",
    "           ('E', 'S5'),\n",
    "           ('F', 'S5'),\n",
    "           ('G', 'S6'),\n",
    "           ('H', 'S6')]\n",
    "\n",
    "# Construct ontology\n",
    "ont = Ontology(hierarchy, mapping)"
   ]
  },
  {
   "cell_type": "code",
   "execution_count": 26,
   "metadata": {
    "ExecuteTime": {
     "end_time": "2018-03-19T00:48:27.832366Z",
     "start_time": "2018-03-19T00:48:27.798247Z"
    }
   },
   "outputs": [
    {
     "name": "stdout",
     "output_type": "stream",
     "text": [
      "8 genes, 7 terms, 9 gene-term relations, 6 term-term relations\n",
      "node_attributes: []\n",
      "edge_attributes: []\n"
     ]
    }
   ],
   "source": [
    "# Print summary\n",
    "print(ont)"
   ]
  },
  {
   "cell_type": "markdown",
   "metadata": {},
   "source": [
    "## From from a tab-delimited table or pandas DataFrame\n"
   ]
  },
  {
   "cell_type": "code",
   "execution_count": 23,
   "metadata": {
    "ExecuteTime": {
     "end_time": "2018-03-19T00:48:02.007621Z",
     "start_time": "2018-03-19T00:48:01.844077Z"
    }
   },
   "outputs": [
    {
     "data": {
      "text/html": [
       "<div>\n",
       "<style>\n",
       "    .dataframe thead tr:only-child th {\n",
       "        text-align: right;\n",
       "    }\n",
       "\n",
       "    .dataframe thead th {\n",
       "        text-align: left;\n",
       "    }\n",
       "\n",
       "    .dataframe tbody tr th {\n",
       "        vertical-align: top;\n",
       "    }\n",
       "</style>\n",
       "<table border=\"1\" class=\"dataframe\">\n",
       "  <thead>\n",
       "    <tr style=\"text-align: right;\">\n",
       "      <th></th>\n",
       "      <th>Parent</th>\n",
       "      <th>Child</th>\n",
       "      <th>EdgeType</th>\n",
       "    </tr>\n",
       "  </thead>\n",
       "  <tbody>\n",
       "    <tr>\n",
       "      <th>0</th>\n",
       "      <td>S2</td>\n",
       "      <td>S6</td>\n",
       "      <td>Child-Parent</td>\n",
       "    </tr>\n",
       "    <tr>\n",
       "      <th>1</th>\n",
       "      <td>S1</td>\n",
       "      <td>S3</td>\n",
       "      <td>Child-Parent</td>\n",
       "    </tr>\n",
       "    <tr>\n",
       "      <th>2</th>\n",
       "      <td>S1</td>\n",
       "      <td>S4</td>\n",
       "      <td>Child-Parent</td>\n",
       "    </tr>\n",
       "    <tr>\n",
       "      <th>3</th>\n",
       "      <td>S1</td>\n",
       "      <td>S5</td>\n",
       "      <td>Child-Parent</td>\n",
       "    </tr>\n",
       "    <tr>\n",
       "      <th>4</th>\n",
       "      <td>S0</td>\n",
       "      <td>S1</td>\n",
       "      <td>Child-Parent</td>\n",
       "    </tr>\n",
       "    <tr>\n",
       "      <th>5</th>\n",
       "      <td>S0</td>\n",
       "      <td>S2</td>\n",
       "      <td>Child-Parent</td>\n",
       "    </tr>\n",
       "    <tr>\n",
       "      <th>6</th>\n",
       "      <td>S3</td>\n",
       "      <td>A</td>\n",
       "      <td>Gene-Term</td>\n",
       "    </tr>\n",
       "    <tr>\n",
       "      <th>7</th>\n",
       "      <td>S3</td>\n",
       "      <td>C</td>\n",
       "      <td>Gene-Term</td>\n",
       "    </tr>\n",
       "    <tr>\n",
       "      <th>8</th>\n",
       "      <td>S4</td>\n",
       "      <td>C</td>\n",
       "      <td>Gene-Term</td>\n",
       "    </tr>\n",
       "    <tr>\n",
       "      <th>9</th>\n",
       "      <td>S3</td>\n",
       "      <td>B</td>\n",
       "      <td>Gene-Term</td>\n",
       "    </tr>\n",
       "    <tr>\n",
       "      <th>10</th>\n",
       "      <td>S5</td>\n",
       "      <td>E</td>\n",
       "      <td>Gene-Term</td>\n",
       "    </tr>\n",
       "    <tr>\n",
       "      <th>11</th>\n",
       "      <td>S4</td>\n",
       "      <td>D</td>\n",
       "      <td>Gene-Term</td>\n",
       "    </tr>\n",
       "    <tr>\n",
       "      <th>12</th>\n",
       "      <td>S6</td>\n",
       "      <td>G</td>\n",
       "      <td>Gene-Term</td>\n",
       "    </tr>\n",
       "    <tr>\n",
       "      <th>13</th>\n",
       "      <td>S5</td>\n",
       "      <td>F</td>\n",
       "      <td>Gene-Term</td>\n",
       "    </tr>\n",
       "    <tr>\n",
       "      <th>14</th>\n",
       "      <td>S6</td>\n",
       "      <td>H</td>\n",
       "      <td>Gene-Term</td>\n",
       "    </tr>\n",
       "  </tbody>\n",
       "</table>\n",
       "</div>"
      ],
      "text/plain": [
       "   Parent Child      EdgeType\n",
       "0      S2    S6  Child-Parent\n",
       "1      S1    S3  Child-Parent\n",
       "2      S1    S4  Child-Parent\n",
       "3      S1    S5  Child-Parent\n",
       "4      S0    S1  Child-Parent\n",
       "5      S0    S2  Child-Parent\n",
       "6      S3     A     Gene-Term\n",
       "7      S3     C     Gene-Term\n",
       "8      S4     C     Gene-Term\n",
       "9      S3     B     Gene-Term\n",
       "10     S5     E     Gene-Term\n",
       "11     S4     D     Gene-Term\n",
       "12     S6     G     Gene-Term\n",
       "13     S5     F     Gene-Term\n",
       "14     S6     H     Gene-Term"
      ]
     },
     "execution_count": 23,
     "metadata": {},
     "output_type": "execute_result"
    }
   ],
   "source": [
    "ont.to_table(output='toy_ontology.txt', term_2_term=True)"
   ]
  },
  {
   "cell_type": "code",
   "execution_count": 24,
   "metadata": {
    "ExecuteTime": {
     "end_time": "2018-03-19T00:48:20.390233Z",
     "start_time": "2018-03-19T00:48:19.672622Z"
    }
   },
   "outputs": [
    {
     "data": {
      "text/plain": [
       "8 genes, 7 terms, 9 gene-term relations, 6 term-term relations\n",
       "node_attributes: []\n",
       "edge_attributes: [2]"
      ]
     },
     "execution_count": 24,
     "metadata": {},
     "output_type": "execute_result"
    }
   ],
   "source": [
    "ont = Ontology.from_table('toy_ontology.txt')"
   ]
  },
  {
   "cell_type": "code",
   "execution_count": null,
   "metadata": {
    "collapsed": true
   },
   "outputs": [],
   "source": [
    "ont.to_table(output='toy_ontology.gene_2_term.txt', gene_2_term=True)\n",
    "ont.to_table(output='toy_ontology.term_2_term.txt', term_2_term=True)"
   ]
  },
  {
   "cell_type": "code",
   "execution_count": null,
   "metadata": {
    "collapsed": true
   },
   "outputs": [],
   "source": [
    "ont = Ontology.from_table('toy_ontology.txt', "
   ]
  },
  {
   "cell_type": "markdown",
   "metadata": {},
   "source": [
    "# From the Network Data Exchange (NDEx, requires registering a user account at http://ndexbio.org/)"
   ]
  },
  {
   "cell_type": "code",
   "execution_count": 30,
   "metadata": {
    "ExecuteTime": {
     "end_time": "2018-03-19T17:50:18.632054Z",
     "start_time": "2018-03-19T17:50:18.371974Z"
    },
    "collapsed": true
   },
   "outputs": [],
   "source": [
    "# Replace with your own NDEx user account\n",
    "ndex_user, ndex_pass = 'ddot_test', 'ddot_test'\n",
    "\n",
    "url, _ = ont.to_ndex(ndex_user=ndex_user, ndex_pass=ndex_pass)\n",
    "print(url)"
   ]
  },
  {
   "cell_type": "code",
   "execution_count": 34,
   "metadata": {
    "ExecuteTime": {
     "end_time": "2018-03-19T19:19:22.251098Z",
     "start_time": "2018-03-19T19:19:21.839935Z"
    }
   },
   "outputs": [
    {
     "name": "stdout",
     "output_type": "stream",
     "text": [
      "\n"
     ]
    }
   ],
   "source": [
    "ont = Ontology.from_ndex('http://dev2.ndexbio.org/v2/network/fccec840-2b9d-11e8-84e4-0660b7976219')"
   ]
  },
  {
   "cell_type": "code",
   "execution_count": 35,
   "metadata": {
    "ExecuteTime": {
     "end_time": "2018-03-19T19:19:23.955516Z",
     "start_time": "2018-03-19T19:19:23.916739Z"
    }
   },
   "outputs": [
    {
     "name": "stdout",
     "output_type": "stream",
     "text": [
      "8 genes, 7 terms, 9 gene-term relations, 6 term-term relations\n",
      "node_attributes: [u'NodeType', 'name', u'x_pos', u'isRoot', u'Vis:Shape', u'y_pos', u'Label', u'Vis:Border Paint', u'Vis:Size', u'Vis:Fill Color', u'Size']\n",
      "edge_attributes: [u'Is_Tree_Edge', u'Vis:Visible', u'EdgeType']\n"
     ]
    }
   ],
   "source": [
    "print(ont)"
   ]
  },
  {
   "cell_type": "markdown",
   "metadata": {},
   "source": [
    "# Inspection the structure of an ontology"
   ]
  },
  {
   "cell_type": "markdown",
   "metadata": {},
   "source": [
    "An Ontology object contains seven attributes:\n",
    "\n",
    "* ``genes`` : List of gene names\n",
    "* ``terms`` : List of term names\n",
    "* ``gene_2_term`` : dictionary mapping a gene name to a list of terms connected to that gene. Terms are represented as their 0-based index in ``terms``.\n",
    "* ``term_2_gene`` : dictionary mapping a term name to a list or genes connected to that term. Genes are represented as their 0-based index in ``genes``.\n",
    "* ``child_2_parent`` : dictionary mapping a child term to its parent terms.\n",
    "* ``parent_2_child`` : dictionary mapping a parent term to its children terms.\n",
    "* ``term_sizes`` : A list of each term's size, i.e. the number of unique genes contained within this term and its descendants. The order of this list is the same as ``terms``. For every ``i``, it holds that ``term_sizes[i] = len(self.term_2_gene[self.terms[i]])``"
   ]
  },
  {
   "cell_type": "code",
   "execution_count": 38,
   "metadata": {
    "ExecuteTime": {
     "end_time": "2018-03-19T19:31:12.741353Z",
     "start_time": "2018-03-19T19:31:11.747249Z"
    }
   },
   "outputs": [
    {
     "data": {
      "text/plain": [
       "['A', 'B', 'C', 'D', 'E', 'F', 'G', 'H']"
      ]
     },
     "execution_count": 38,
     "metadata": {},
     "output_type": "execute_result"
    }
   ],
   "source": [
    "ont.genes"
   ]
  },
  {
   "cell_type": "code",
   "execution_count": 39,
   "metadata": {
    "ExecuteTime": {
     "end_time": "2018-03-19T19:31:14.310027Z",
     "start_time": "2018-03-19T19:31:14.265211Z"
    }
   },
   "outputs": [
    {
     "data": {
      "text/plain": [
       "['S0', 'S1', 'S2', 'S3', 'S4', 'S5', 'S6']"
      ]
     },
     "execution_count": 39,
     "metadata": {},
     "output_type": "execute_result"
    }
   ],
   "source": [
    "ont.terms"
   ]
  },
  {
   "cell_type": "code",
   "execution_count": 45,
   "metadata": {
    "ExecuteTime": {
     "end_time": "2018-03-19T19:31:44.931919Z",
     "start_time": "2018-03-19T19:31:44.893823Z"
    }
   },
   "outputs": [
    {
     "data": {
      "text/plain": [
       "{'A': [3],\n",
       " 'B': [3],\n",
       " 'C': [3, 4],\n",
       " 'D': [4],\n",
       " 'E': [5],\n",
       " 'F': [5],\n",
       " 'G': [6],\n",
       " 'H': [6]}"
      ]
     },
     "execution_count": 45,
     "metadata": {},
     "output_type": "execute_result"
    }
   ],
   "source": [
    "ont.gene_2_term"
   ]
  },
  {
   "cell_type": "code",
   "execution_count": 42,
   "metadata": {
    "ExecuteTime": {
     "end_time": "2018-03-19T19:31:24.904229Z",
     "start_time": "2018-03-19T19:31:24.864722Z"
    }
   },
   "outputs": [
    {
     "data": {
      "text/plain": [
       "{'S0': [],\n",
       " 'S1': [],\n",
       " 'S2': [],\n",
       " 'S3': [0, 1, 2],\n",
       " 'S4': [2, 3],\n",
       " 'S5': [4, 5],\n",
       " 'S6': [6, 7]}"
      ]
     },
     "execution_count": 42,
     "metadata": {},
     "output_type": "execute_result"
    }
   ],
   "source": [
    "ont.term_2_gene"
   ]
  },
  {
   "cell_type": "code",
   "execution_count": 43,
   "metadata": {
    "ExecuteTime": {
     "end_time": "2018-03-19T19:31:29.810691Z",
     "start_time": "2018-03-19T19:31:29.772088Z"
    }
   },
   "outputs": [
    {
     "data": {
      "text/plain": [
       "{'S0': [],\n",
       " 'S1': ('S0',),\n",
       " 'S2': ('S0',),\n",
       " 'S3': ('S1',),\n",
       " 'S4': ('S1',),\n",
       " 'S5': ('S1',),\n",
       " 'S6': ('S2',)}"
      ]
     },
     "execution_count": 43,
     "metadata": {},
     "output_type": "execute_result"
    }
   ],
   "source": [
    "ont.child_2_parent"
   ]
  },
  {
   "cell_type": "markdown",
   "metadata": {},
   "source": [
    "Alternatively, the hierarchical connections can be viewed as a matrix, using `connected()`"
   ]
  },
  {
   "cell_type": "code",
   "execution_count": 55,
   "metadata": {
    "ExecuteTime": {
     "end_time": "2018-03-19T22:04:03.947127Z",
     "start_time": "2018-03-19T22:04:03.902802Z"
    }
   },
   "outputs": [
    {
     "data": {
      "text/plain": [
       "array([[ True, False, False, False, False, False, False, False,  True,\n",
       "         True, False,  True, False, False, False],\n",
       "       [False,  True, False, False, False, False, False, False,  True,\n",
       "         True, False,  True, False, False, False],\n",
       "       [False, False,  True, False, False, False, False, False,  True,\n",
       "         True, False,  True,  True, False, False],\n",
       "       [False, False, False,  True, False, False, False, False,  True,\n",
       "         True, False, False,  True, False, False],\n",
       "       [False, False, False, False,  True, False, False, False,  True,\n",
       "         True, False, False, False,  True, False],\n",
       "       [False, False, False, False, False,  True, False, False,  True,\n",
       "         True, False, False, False,  True, False],\n",
       "       [False, False, False, False, False, False,  True, False,  True,\n",
       "        False,  True, False, False, False,  True],\n",
       "       [False, False, False, False, False, False, False,  True,  True,\n",
       "        False,  True, False, False, False,  True],\n",
       "       [False, False, False, False, False, False, False, False,  True,\n",
       "        False, False, False, False, False, False],\n",
       "       [False, False, False, False, False, False, False, False,  True,\n",
       "         True, False, False, False, False, False],\n",
       "       [False, False, False, False, False, False, False, False,  True,\n",
       "        False,  True, False, False, False, False],\n",
       "       [False, False, False, False, False, False, False, False,  True,\n",
       "         True, False,  True, False, False, False],\n",
       "       [False, False, False, False, False, False, False, False,  True,\n",
       "         True, False, False,  True, False, False],\n",
       "       [False, False, False, False, False, False, False, False,  True,\n",
       "         True, False, False, False,  True, False],\n",
       "       [False, False, False, False, False, False, False, False,  True,\n",
       "        False,  True, False, False, False,  True]], dtype=bool)"
      ]
     },
     "execution_count": 55,
     "metadata": {},
     "output_type": "execute_result"
    }
   ],
   "source": [
    "ont.connected()"
   ]
  },
  {
   "cell_type": "markdown",
   "metadata": {},
   "source": [
    "A summary of an Ontology’s object, i.e. the number of genes, terms, and connections, can be printed `print(ont)`"
   ]
  },
  {
   "cell_type": "code",
   "execution_count": 54,
   "metadata": {
    "ExecuteTime": {
     "end_time": "2018-03-19T22:03:45.139009Z",
     "start_time": "2018-03-19T22:03:44.379973Z"
    }
   },
   "outputs": [
    {
     "name": "stdout",
     "output_type": "stream",
     "text": [
      "8 genes, 7 terms, 9 gene-term relations, 6 term-term relations\n",
      "node_attributes: [u'NodeType', 'name', u'x_pos', u'isRoot', u'Vis:Shape', u'y_pos', u'Label', u'Vis:Border Paint', u'Vis:Size', u'Vis:Fill Color', u'Size']\n",
      "edge_attributes: [u'Is_Tree_Edge', u'Vis:Visible', u'EdgeType']\n"
     ]
    }
   ],
   "source": [
    "print(ont)"
   ]
  },
  {
   "cell_type": "code",
   "execution_count": 53,
   "metadata": {
    "ExecuteTime": {
     "end_time": "2018-03-19T20:52:22.036442Z",
     "start_time": "2018-03-19T20:52:21.997455Z"
    }
   },
   "outputs": [
    {
     "data": {
      "text/plain": [
       "['A',\n",
       " 'B',\n",
       " 'C',\n",
       " 'D',\n",
       " 'E',\n",
       " 'F',\n",
       " 'G',\n",
       " 'H',\n",
       " 'S0',\n",
       " 'S1',\n",
       " 'S2',\n",
       " 'S3',\n",
       " 'S4',\n",
       " 'S5',\n",
       " 'S6']"
      ]
     },
     "execution_count": 53,
     "metadata": {},
     "output_type": "execute_result"
    }
   ],
   "source": [
    "ont.to_igraph(include_genes=True).vs['name']"
   ]
  },
  {
   "cell_type": "markdown",
   "metadata": {},
   "source": [
    "# Manipulating the structure of an ontology"
   ]
  },
  {
   "cell_type": "markdown",
   "metadata": {},
   "source": [
    "DDOT provides several convenience functions for processing Ontologies into a desirable structure. Currently, there are no functions for adding genes and terms. If this is needed, then we recommend creating a new Ontology or manipulating the contents in a different library, such as NetworkX or igraph, and transforming the results into Ontology."
   ]
  },
  {
   "cell_type": "code",
   "execution_count": 49,
   "metadata": {
    "ExecuteTime": {
     "end_time": "2018-03-19T19:37:49.651892Z",
     "start_time": "2018-03-19T19:37:49.564971Z"
    }
   },
   "outputs": [
    {
     "ename": "KeyError",
     "evalue": "'S3'",
     "output_type": "error",
     "traceback": [
      "\u001b[0;31m---------------------------------------------------------------------------\u001b[0m",
      "\u001b[0;31mKeyError\u001b[0m                                  Traceback (most recent call last)",
      "\u001b[0;32m<ipython-input-49-e7819fc8c3af>\u001b[0m in \u001b[0;36m<module>\u001b[0;34m()\u001b[0m\n\u001b[1;32m      1\u001b[0m \u001b[0;31m# Renaming genes and terms.\u001b[0m\u001b[0;34m\u001b[0m\u001b[0;34m\u001b[0m\u001b[0m\n\u001b[0;32m----> 2\u001b[0;31m \u001b[0mont2\u001b[0m \u001b[0;34m=\u001b[0m \u001b[0mont\u001b[0m\u001b[0;34m.\u001b[0m\u001b[0mrename\u001b[0m\u001b[0;34m(\u001b[0m\u001b[0mgenes\u001b[0m\u001b[0;34m=\u001b[0m\u001b[0;34m{\u001b[0m\u001b[0;34m'A'\u001b[0m \u001b[0;34m:\u001b[0m \u001b[0;34m'A_alias'\u001b[0m\u001b[0;34m}\u001b[0m\u001b[0;34m,\u001b[0m \u001b[0mterms\u001b[0m\u001b[0;34m=\u001b[0m\u001b[0;34m{\u001b[0m\u001b[0;34m'S0'\u001b[0m\u001b[0;34m:\u001b[0m\u001b[0;34m'S0_alias'\u001b[0m\u001b[0;34m}\u001b[0m\u001b[0;34m)\u001b[0m\u001b[0;34m\u001b[0m\u001b[0m\n\u001b[0m\u001b[1;32m      3\u001b[0m \u001b[0mont2\u001b[0m\u001b[0;34m.\u001b[0m\u001b[0mto_table\u001b[0m\u001b[0;34m(\u001b[0m\u001b[0;34m)\u001b[0m\u001b[0;34m\u001b[0m\u001b[0m\n",
      "\u001b[0;32m/cellar/users/mikeyu/DeepTranslate/ddot/ddot/Ontology.py\u001b[0m in \u001b[0;36mrename\u001b[0;34m(self, genes, terms, inplace)\u001b[0m\n\u001b[1;32m   2248\u001b[0m         \u001b[0;32mif\u001b[0m \u001b[0mterms\u001b[0m\u001b[0;34m:\u001b[0m\u001b[0;34m\u001b[0m\u001b[0m\n\u001b[1;32m   2249\u001b[0m             ont.parent_2_child = {terms[p] : [terms[c] for c in c_list]\n\u001b[0;32m-> 2250\u001b[0;31m                                   for p, c_list in ont.parent_2_child.items()}\n\u001b[0m\u001b[1;32m   2251\u001b[0m             \u001b[0mold_term_names\u001b[0m \u001b[0;34m=\u001b[0m \u001b[0mont\u001b[0m\u001b[0;34m.\u001b[0m\u001b[0mterms\u001b[0m\u001b[0;34m\u001b[0m\u001b[0m\n\u001b[1;32m   2252\u001b[0m             \u001b[0mont\u001b[0m\u001b[0;34m.\u001b[0m\u001b[0mterms\u001b[0m \u001b[0;34m=\u001b[0m \u001b[0;34m[\u001b[0m\u001b[0mterms\u001b[0m\u001b[0;34m.\u001b[0m\u001b[0mget\u001b[0m\u001b[0;34m(\u001b[0m\u001b[0mt\u001b[0m\u001b[0;34m,\u001b[0m\u001b[0mt\u001b[0m\u001b[0;34m)\u001b[0m \u001b[0;32mfor\u001b[0m \u001b[0mt\u001b[0m \u001b[0;32min\u001b[0m \u001b[0mont\u001b[0m\u001b[0;34m.\u001b[0m\u001b[0mterms\u001b[0m\u001b[0;34m]\u001b[0m\u001b[0;34m\u001b[0m\u001b[0m\n",
      "\u001b[0;32m/cellar/users/mikeyu/DeepTranslate/ddot/ddot/Ontology.py\u001b[0m in \u001b[0;36m<dictcomp>\u001b[0;34m((p, c_list))\u001b[0m\n\u001b[1;32m   2248\u001b[0m         \u001b[0;32mif\u001b[0m \u001b[0mterms\u001b[0m\u001b[0;34m:\u001b[0m\u001b[0;34m\u001b[0m\u001b[0m\n\u001b[1;32m   2249\u001b[0m             ont.parent_2_child = {terms[p] : [terms[c] for c in c_list]\n\u001b[0;32m-> 2250\u001b[0;31m                                   for p, c_list in ont.parent_2_child.items()}\n\u001b[0m\u001b[1;32m   2251\u001b[0m             \u001b[0mold_term_names\u001b[0m \u001b[0;34m=\u001b[0m \u001b[0mont\u001b[0m\u001b[0;34m.\u001b[0m\u001b[0mterms\u001b[0m\u001b[0;34m\u001b[0m\u001b[0m\n\u001b[1;32m   2252\u001b[0m             \u001b[0mont\u001b[0m\u001b[0;34m.\u001b[0m\u001b[0mterms\u001b[0m \u001b[0;34m=\u001b[0m \u001b[0;34m[\u001b[0m\u001b[0mterms\u001b[0m\u001b[0;34m.\u001b[0m\u001b[0mget\u001b[0m\u001b[0;34m(\u001b[0m\u001b[0mt\u001b[0m\u001b[0;34m,\u001b[0m\u001b[0mt\u001b[0m\u001b[0;34m)\u001b[0m \u001b[0;32mfor\u001b[0m \u001b[0mt\u001b[0m \u001b[0;32min\u001b[0m \u001b[0mont\u001b[0m\u001b[0;34m.\u001b[0m\u001b[0mterms\u001b[0m\u001b[0;34m]\u001b[0m\u001b[0;34m\u001b[0m\u001b[0m\n",
      "\u001b[0;31mKeyError\u001b[0m: 'S3'"
     ]
    }
   ],
   "source": [
    "# Renaming genes and terms.\n",
    "ont2 = ont.rename(genes={'A' : 'A_alias'}, terms={'S0':'S0_alias'})\n",
    "ont2.to_table()"
   ]
  },
  {
   "cell_type": "code",
   "execution_count": null,
   "metadata": {
    "collapsed": true
   },
   "outputs": [],
   "source": [
    "ont.delete"
   ]
  },
  {
   "cell_type": "markdown",
   "metadata": {},
   "source": [
    "# Inferring a data-driven ontology\n",
    "\n",
    "An ontology can also be inferred in a data-driven manner based on an input set of node-node similarities."
   ]
  },
  {
   "cell_type": "code",
   "execution_count": 4,
   "metadata": {
    "ExecuteTime": {
     "end_time": "2018-03-18T23:43:28.329642Z",
     "start_time": "2018-03-18T23:43:28.300376Z"
    },
    "collapsed": true
   },
   "outputs": [],
   "source": [
    "sim, genes = ont.flatten()"
   ]
  },
  {
   "cell_type": "code",
   "execution_count": 6,
   "metadata": {
    "ExecuteTime": {
     "end_time": "2018-03-18T23:43:30.802613Z",
     "start_time": "2018-03-18T23:43:30.703777Z"
    },
    "collapsed": true
   },
   "outputs": [],
   "source": [
    "ont2 = Ontology.run_clixo(sim, 0.0, 1.0, square=True, square_names=genes)"
   ]
  },
  {
   "cell_type": "code",
   "execution_count": 8,
   "metadata": {
    "ExecuteTime": {
     "end_time": "2018-03-18T23:43:45.307357Z",
     "start_time": "2018-03-18T23:43:45.269455Z"
    },
    "scrolled": true
   },
   "outputs": [
    {
     "name": "stdout",
     "output_type": "stream",
     "text": [
      "8 genes, 6 terms, 9 gene-term relations, 5 term-term relations\n",
      "node_attributes: []\n",
      "edge_attributes: ['CLIXO_score']\n"
     ]
    }
   ],
   "source": [
    "print(ont2)"
   ]
  }
 ],
 "metadata": {
  "kernelspec": {
   "display_name": "Python 2",
   "language": "python",
   "name": "python2"
  },
  "language_info": {
   "codemirror_mode": {
    "name": "ipython",
    "version": 2
   },
   "file_extension": ".py",
   "mimetype": "text/x-python",
   "name": "python",
   "nbconvert_exporter": "python",
   "pygments_lexer": "ipython2",
   "version": "2.7.13"
  },
  "latex_envs": {
   "LaTeX_envs_menu_present": true,
   "autocomplete": true,
   "bibliofile": "biblio.bib",
   "cite_by": "apalike",
   "current_citInitial": 1,
   "eqLabelWithNumbers": true,
   "eqNumInitial": 1,
   "hotkeys": {
    "equation": "Ctrl-E",
    "itemize": "Ctrl-I"
   },
   "labels_anchors": false,
   "latex_user_defs": false,
   "report_style_numbering": false,
   "user_envs_cfg": false
  },
  "toc": {
   "colors": {
    "hover_highlight": "#DAA520",
    "navigate_num": "#000000",
    "navigate_text": "#333333",
    "running_highlight": "#FF0000",
    "selected_highlight": "#FFD700",
    "sidebar_border": "#EEEEEE",
    "wrapper_background": "#FFFFFF"
   },
   "moveMenuLeft": true,
   "nav_menu": {
    "height": "66px",
    "width": "252px"
   },
   "navigate_menu": true,
   "number_sections": true,
   "sideBar": true,
   "threshold": 4,
   "toc_cell": false,
   "toc_section_display": "block",
   "toc_window_display": false,
   "widenNotebook": false
  }
 },
 "nbformat": 4,
 "nbformat_minor": 2
}
