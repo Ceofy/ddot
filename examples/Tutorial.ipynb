{
 "cells": [
  {
   "cell_type": "code",
   "execution_count": 1,
   "metadata": {
    "ExecuteTime": {
     "end_time": "2018-04-02T14:59:47.050077Z",
     "start_time": "2018-04-02T14:59:42.944796Z"
    }
   },
   "outputs": [
    {
     "name": "stdout",
     "output_type": "stream",
     "text": [
      "\n",
      "\n"
     ]
    }
   ],
   "source": [
    "%load_ext autoreload\n",
    "%autoreload 2\n",
    "\n",
    "import sys\n",
    "sys.path.insert(0, '/cellar/users/mikeyu/DeepTranslate/ddot')\n",
    "\n",
    "from ddot import Ontology\n",
    "\n",
    "import numpy as np\n",
    "np.set_printoptions(linewidth=150)"
   ]
  },
  {
   "cell_type": "markdown",
   "metadata": {},
   "source": [
    "# Introduction\n",
    "\n",
    "\n",
    "An ontology is a hierarchical arrangement of two types of nodes: (1)\n",
    "genes at the leaves of the hierarchy and (2) terms at intermediate\n",
    "levels of the hierarchy. The hierarchy can be thought of as directed\n",
    "acyclic graph (DAG), in which each node can have multiple children or\n",
    "multiple parent nodes. DAGs are a generalization of trees\n",
    "(a.k.a. dendogram), where each node has at most one parent.\n",
    "\n",
    "The DDOT Python library provides many functions for assembling,\n",
    "analyzing, and visualizing ontologies.  The main functionalities are\n",
    "implemented in an object-oriented manner by an \"Ontology\" class.  This\n",
    "class can handle both ontologies that are data-driven as well as those\n",
    "that are manually curated like the Gene Ontology.\n"
   ]
  },
  {
   "cell_type": "markdown",
   "metadata": {},
   "source": [
    "# Creating an Ontology object\n",
    "\n",
    "An object of the Ontology class can be created in several ways. To demonstrate\n",
    "this, we will build the following ontology\n",
    "\n",
    "<img src=\"https://github.com/michaelkyu/ontology/blob/master/docs/toy_ontology.png?raw=true\" width=\"500\" align=\"left\">"
   ]
  },
  {
   "cell_type": "markdown",
   "metadata": {},
   "source": [
    "## Through the \\_\\_init\\_\\_ constructor"
   ]
  },
  {
   "cell_type": "code",
   "execution_count": 43,
   "metadata": {
    "ExecuteTime": {
     "end_time": "2018-04-02T17:20:54.129321Z",
     "start_time": "2018-04-02T17:20:53.197455Z"
    },
    "collapsed": true
   },
   "outputs": [],
   "source": [
    "# Connections from child terms to parent terms\n",
    "hierarchy = [('S3', 'S1'),\n",
    "             ('S4', 'S1'),\n",
    "             ('S5', 'S1'),\n",
    "             ('S5', 'S2'),\n",
    "             ('S6', 'S2'),\n",
    "             ('S1', 'S0'),\n",
    "             ('S2', 'S0')]\n",
    "\n",
    "# Connections from genes to terms\n",
    "mapping = [('A', 'S3'),\n",
    "           ('B', 'S3'),\n",
    "           ('C', 'S3'),\n",
    "           ('C', 'S4'),\n",
    "           ('D', 'S4'),\n",
    "           ('E', 'S5'),\n",
    "           ('F', 'S5'),\n",
    "           ('G', 'S6'),\n",
    "           ('H', 'S6')]\n",
    "\n",
    "# Construct ontology\n",
    "ont = Ontology(hierarchy, mapping)"
   ]
  },
  {
   "cell_type": "markdown",
   "metadata": {},
   "source": [
    "## To and from a tab-delimited table or Pandas dataframe"
   ]
  },
  {
   "cell_type": "code",
   "execution_count": 46,
   "metadata": {
    "ExecuteTime": {
     "end_time": "2018-04-02T17:22:32.234786Z",
     "start_time": "2018-04-02T17:22:32.128845Z"
    }
   },
   "outputs": [
    {
     "data": {
      "text/html": [
       "<div>\n",
       "<style>\n",
       "    .dataframe thead tr:only-child th {\n",
       "        text-align: right;\n",
       "    }\n",
       "\n",
       "    .dataframe thead th {\n",
       "        text-align: left;\n",
       "    }\n",
       "\n",
       "    .dataframe tbody tr th {\n",
       "        vertical-align: top;\n",
       "    }\n",
       "</style>\n",
       "<table border=\"1\" class=\"dataframe\">\n",
       "  <thead>\n",
       "    <tr style=\"text-align: right;\">\n",
       "      <th></th>\n",
       "      <th>Parent</th>\n",
       "      <th>Child</th>\n",
       "      <th>EdgeType</th>\n",
       "    </tr>\n",
       "  </thead>\n",
       "  <tbody>\n",
       "    <tr>\n",
       "      <th>0</th>\n",
       "      <td>S2</td>\n",
       "      <td>S5</td>\n",
       "      <td>Child-Parent</td>\n",
       "    </tr>\n",
       "    <tr>\n",
       "      <th>1</th>\n",
       "      <td>S2</td>\n",
       "      <td>S6</td>\n",
       "      <td>Child-Parent</td>\n",
       "    </tr>\n",
       "    <tr>\n",
       "      <th>2</th>\n",
       "      <td>S1</td>\n",
       "      <td>S3</td>\n",
       "      <td>Child-Parent</td>\n",
       "    </tr>\n",
       "    <tr>\n",
       "      <th>3</th>\n",
       "      <td>S1</td>\n",
       "      <td>S4</td>\n",
       "      <td>Child-Parent</td>\n",
       "    </tr>\n",
       "    <tr>\n",
       "      <th>4</th>\n",
       "      <td>S1</td>\n",
       "      <td>S5</td>\n",
       "      <td>Child-Parent</td>\n",
       "    </tr>\n",
       "    <tr>\n",
       "      <th>5</th>\n",
       "      <td>S0</td>\n",
       "      <td>S1</td>\n",
       "      <td>Child-Parent</td>\n",
       "    </tr>\n",
       "    <tr>\n",
       "      <th>6</th>\n",
       "      <td>S0</td>\n",
       "      <td>S2</td>\n",
       "      <td>Child-Parent</td>\n",
       "    </tr>\n",
       "    <tr>\n",
       "      <th>7</th>\n",
       "      <td>S3</td>\n",
       "      <td>A</td>\n",
       "      <td>Gene-Term</td>\n",
       "    </tr>\n",
       "    <tr>\n",
       "      <th>8</th>\n",
       "      <td>S3</td>\n",
       "      <td>C</td>\n",
       "      <td>Gene-Term</td>\n",
       "    </tr>\n",
       "    <tr>\n",
       "      <th>9</th>\n",
       "      <td>S4</td>\n",
       "      <td>C</td>\n",
       "      <td>Gene-Term</td>\n",
       "    </tr>\n",
       "    <tr>\n",
       "      <th>10</th>\n",
       "      <td>S3</td>\n",
       "      <td>B</td>\n",
       "      <td>Gene-Term</td>\n",
       "    </tr>\n",
       "    <tr>\n",
       "      <th>11</th>\n",
       "      <td>S5</td>\n",
       "      <td>E</td>\n",
       "      <td>Gene-Term</td>\n",
       "    </tr>\n",
       "    <tr>\n",
       "      <th>12</th>\n",
       "      <td>S4</td>\n",
       "      <td>D</td>\n",
       "      <td>Gene-Term</td>\n",
       "    </tr>\n",
       "    <tr>\n",
       "      <th>13</th>\n",
       "      <td>S6</td>\n",
       "      <td>G</td>\n",
       "      <td>Gene-Term</td>\n",
       "    </tr>\n",
       "    <tr>\n",
       "      <th>14</th>\n",
       "      <td>S5</td>\n",
       "      <td>F</td>\n",
       "      <td>Gene-Term</td>\n",
       "    </tr>\n",
       "    <tr>\n",
       "      <th>15</th>\n",
       "      <td>S6</td>\n",
       "      <td>H</td>\n",
       "      <td>Gene-Term</td>\n",
       "    </tr>\n",
       "  </tbody>\n",
       "</table>\n",
       "</div>"
      ],
      "text/plain": [
       "   Parent Child      EdgeType\n",
       "0      S2    S5  Child-Parent\n",
       "1      S2    S6  Child-Parent\n",
       "2      S1    S3  Child-Parent\n",
       "3      S1    S4  Child-Parent\n",
       "4      S1    S5  Child-Parent\n",
       "5      S0    S1  Child-Parent\n",
       "6      S0    S2  Child-Parent\n",
       "7      S3     A     Gene-Term\n",
       "8      S3     C     Gene-Term\n",
       "9      S4     C     Gene-Term\n",
       "10     S3     B     Gene-Term\n",
       "11     S5     E     Gene-Term\n",
       "12     S4     D     Gene-Term\n",
       "13     S6     G     Gene-Term\n",
       "14     S5     F     Gene-Term\n",
       "15     S6     H     Gene-Term"
      ]
     },
     "execution_count": 46,
     "metadata": {},
     "output_type": "execute_result"
    }
   ],
   "source": [
    "ont.to_table('toy_ontology.txt')"
   ]
  },
  {
   "cell_type": "code",
   "execution_count": 47,
   "metadata": {
    "ExecuteTime": {
     "end_time": "2018-04-02T17:22:41.333408Z",
     "start_time": "2018-04-02T17:22:41.278138Z"
    }
   },
   "outputs": [],
   "source": [
    "ont = Ontology.from_table('toy_ontology.txt')"
   ]
  },
  {
   "cell_type": "markdown",
   "metadata": {},
   "source": [
    "## From the Network Data Exchange (NDEx). Requires a free user account at http://ndexbio.org/"
   ]
  },
  {
   "cell_type": "code",
   "execution_count": 48,
   "metadata": {
    "ExecuteTime": {
     "end_time": "2018-04-02T17:22:53.168333Z",
     "start_time": "2018-04-02T17:22:52.453129Z"
    }
   },
   "outputs": [
    {
     "name": "stdout",
     "output_type": "stream",
     "text": [
      "http://dev2.ndexbio.org/v2/network/79ccfa8b-369a-11e8-929a-0660b7976219\n"
     ]
    }
   ],
   "source": [
    "# Replace with your own NDEx user account\n",
    "ndex_server, ndex_user, ndex_pass = 'http://test.ndexbio.org', 'scratch', 'scratch'\n",
    "# ndex_user, ndex_pass = 'ddot_test', 'ddot_test'\n",
    "\n",
    "url, _ = ont.to_ndex(ndex_server=ndex_server, ndex_user=ndex_user, ndex_pass=ndex_pass)\n",
    "print(url)"
   ]
  },
  {
   "cell_type": "code",
   "execution_count": 80,
   "metadata": {
    "ExecuteTime": {
     "end_time": "2018-04-01T21:11:33.607583Z",
     "start_time": "2018-04-01T21:11:33.356455Z"
    }
   },
   "outputs": [
    {
     "name": "stdout",
     "output_type": "stream",
     "text": [
      "\n",
      "8 genes, 7 terms, 9 gene-term relations, 7 term-term relations\n",
      "node_attributes: [u'NodeType', 'name', u'x_pos', u'isRoot', u'Vis:Shape', u'y_pos', u'Label', u'Vis:Border Paint', u'Vis:Size', u'Vis:Fill Color', u'Size']\n",
      "edge_attributes: [u'Is_Tree_Edge', u'2', u'Vis:Visible', u'EdgeType']\n"
     ]
    }
   ],
   "source": [
    "ont2 = Ontology.from_ndex(\"http://dev2.ndexbio.org/v2/network/3a103097-35f1-11e8-84e4-0660b7976219\")\n",
    "print(ont2)"
   ]
  },
  {
   "cell_type": "markdown",
   "metadata": {},
   "source": [
    "# Inspecting the structure of an ontology"
   ]
  },
  {
   "cell_type": "markdown",
   "metadata": {},
   "source": [
    "An Ontology object contains seven attributes:\n",
    "\n",
    "* ``genes`` : List of gene names\n",
    "* ``terms`` : List of term names\n",
    "* ``gene_2_term`` : dictionary mapping a gene name to a list of terms connected to that gene. Terms are represented as their 0-based index in ``terms``.\n",
    "* ``term_2_gene`` : dictionary mapping a term name to a list or genes connected to that term. Genes are represented as their 0-based index in ``genes``.\n",
    "* ``child_2_parent`` : dictionary mapping a child term to its parent terms.\n",
    "* ``parent_2_child`` : dictionary mapping a parent term to its children terms.\n",
    "* ``term_sizes`` : A list of each term's size, i.e. the number of unique genes contained within this term and its descendants. The order of this list is the same as ``terms``. For every ``i``, it holds that ``term_sizes[i] = len(self.term_2_gene[self.terms[i]])``"
   ]
  },
  {
   "cell_type": "code",
   "execution_count": 81,
   "metadata": {
    "ExecuteTime": {
     "end_time": "2018-04-01T21:11:37.500973Z",
     "start_time": "2018-04-01T21:11:37.465515Z"
    }
   },
   "outputs": [
    {
     "data": {
      "text/plain": [
       "['A', 'B', 'C', 'D', 'E', 'F', 'G', 'H']"
      ]
     },
     "execution_count": 81,
     "metadata": {},
     "output_type": "execute_result"
    }
   ],
   "source": [
    "ont.genes"
   ]
  },
  {
   "cell_type": "code",
   "execution_count": 82,
   "metadata": {
    "ExecuteTime": {
     "end_time": "2018-04-01T21:11:37.722739Z",
     "start_time": "2018-04-01T21:11:37.690197Z"
    }
   },
   "outputs": [
    {
     "data": {
      "text/plain": [
       "['S0', 'S1', 'S2', 'S3', 'S4', 'S5', 'S6']"
      ]
     },
     "execution_count": 82,
     "metadata": {},
     "output_type": "execute_result"
    }
   ],
   "source": [
    "ont.terms"
   ]
  },
  {
   "cell_type": "code",
   "execution_count": 83,
   "metadata": {
    "ExecuteTime": {
     "end_time": "2018-04-01T21:11:39.083153Z",
     "start_time": "2018-04-01T21:11:39.047953Z"
    }
   },
   "outputs": [
    {
     "data": {
      "text/plain": [
       "{'A': [3],\n",
       " 'B': [3],\n",
       " 'C': [3, 4],\n",
       " 'D': [4],\n",
       " 'E': [5],\n",
       " 'F': [5],\n",
       " 'G': [6],\n",
       " 'H': [6]}"
      ]
     },
     "execution_count": 83,
     "metadata": {},
     "output_type": "execute_result"
    }
   ],
   "source": [
    "ont.gene_2_term"
   ]
  },
  {
   "cell_type": "code",
   "execution_count": 84,
   "metadata": {
    "ExecuteTime": {
     "end_time": "2018-04-01T21:11:40.319578Z",
     "start_time": "2018-04-01T21:11:40.280627Z"
    }
   },
   "outputs": [
    {
     "data": {
      "text/plain": [
       "{'S0': [],\n",
       " 'S1': [],\n",
       " 'S2': [],\n",
       " 'S3': [0, 1, 2],\n",
       " 'S4': [2, 3],\n",
       " 'S5': [4, 5],\n",
       " 'S6': [6, 7]}"
      ]
     },
     "execution_count": 84,
     "metadata": {},
     "output_type": "execute_result"
    }
   ],
   "source": [
    "ont.term_2_gene"
   ]
  },
  {
   "cell_type": "code",
   "execution_count": 85,
   "metadata": {
    "ExecuteTime": {
     "end_time": "2018-04-01T21:11:43.461551Z",
     "start_time": "2018-04-01T21:11:43.426094Z"
    }
   },
   "outputs": [
    {
     "data": {
      "text/plain": [
       "{'S0': [],\n",
       " 'S1': ('S0',),\n",
       " 'S2': ('S0',),\n",
       " 'S3': ('S1',),\n",
       " 'S4': ('S1',),\n",
       " 'S5': ('S2', 'S1'),\n",
       " 'S6': ('S2',)}"
      ]
     },
     "execution_count": 85,
     "metadata": {},
     "output_type": "execute_result"
    }
   ],
   "source": [
    "ont.child_2_parent"
   ]
  },
  {
   "cell_type": "markdown",
   "metadata": {},
   "source": [
    "Alternatively, the hierarchical connections can be viewed as a matrix, using `connected()`"
   ]
  },
  {
   "cell_type": "code",
   "execution_count": 86,
   "metadata": {
    "ExecuteTime": {
     "end_time": "2018-04-01T21:11:47.715411Z",
     "start_time": "2018-04-01T21:11:47.676868Z"
    }
   },
   "outputs": [
    {
     "data": {
      "text/plain": [
       "array([[ True, False, False, False, False, False, False, False,  True,  True, False,  True, False, False, False],\n",
       "       [False,  True, False, False, False, False, False, False,  True,  True, False,  True, False, False, False],\n",
       "       [False, False,  True, False, False, False, False, False,  True,  True, False,  True,  True, False, False],\n",
       "       [False, False, False,  True, False, False, False, False,  True,  True, False, False,  True, False, False],\n",
       "       [False, False, False, False,  True, False, False, False,  True,  True,  True, False, False,  True, False],\n",
       "       [False, False, False, False, False,  True, False, False,  True,  True,  True, False, False,  True, False],\n",
       "       [False, False, False, False, False, False,  True, False,  True, False,  True, False, False, False,  True],\n",
       "       [False, False, False, False, False, False, False,  True,  True, False,  True, False, False, False,  True],\n",
       "       [False, False, False, False, False, False, False, False,  True, False, False, False, False, False, False],\n",
       "       [False, False, False, False, False, False, False, False,  True,  True, False, False, False, False, False],\n",
       "       [False, False, False, False, False, False, False, False,  True, False,  True, False, False, False, False],\n",
       "       [False, False, False, False, False, False, False, False,  True,  True, False,  True, False, False, False],\n",
       "       [False, False, False, False, False, False, False, False,  True,  True, False, False,  True, False, False],\n",
       "       [False, False, False, False, False, False, False, False,  True,  True,  True, False, False,  True, False],\n",
       "       [False, False, False, False, False, False, False, False,  True, False,  True, False, False, False,  True]], dtype=bool)"
      ]
     },
     "execution_count": 86,
     "metadata": {},
     "output_type": "execute_result"
    }
   ],
   "source": [
    "ont.connected()"
   ]
  },
  {
   "cell_type": "markdown",
   "metadata": {
    "ExecuteTime": {
     "end_time": "2018-04-01T21:12:33.941513Z",
     "start_time": "2018-04-01T21:12:33.132850Z"
    }
   },
   "source": [
    "A summary of an Ontology’s object, i.e. the number of genes, terms, and connections, can be printed `print(ont)`"
   ]
  },
  {
   "cell_type": "code",
   "execution_count": 88,
   "metadata": {
    "ExecuteTime": {
     "end_time": "2018-04-01T21:12:37.409360Z",
     "start_time": "2018-04-01T21:12:37.373144Z"
    }
   },
   "outputs": [
    {
     "name": "stdout",
     "output_type": "stream",
     "text": [
      "8 genes, 7 terms, 9 gene-term relations, 7 term-term relations\n",
      "node_attributes: []\n",
      "edge_attributes: [2]\n"
     ]
    }
   ],
   "source": [
    "print(ont)"
   ]
  },
  {
   "cell_type": "markdown",
   "metadata": {},
   "source": [
    "# Manipulating the structure of an ontology"
   ]
  },
  {
   "cell_type": "markdown",
   "metadata": {},
   "source": [
    "DDOT provides several convenience functions for processing Ontologies into a desirable structure. Currently, there are no functions for adding genes and terms. If this is needed, then we recommend creating a new Ontology or manipulating the contents in a different library, such as NetworkX or igraph, and transforming the results into Ontology."
   ]
  },
  {
   "cell_type": "code",
   "execution_count": 90,
   "metadata": {
    "ExecuteTime": {
     "end_time": "2018-04-01T21:13:40.497109Z",
     "start_time": "2018-04-01T21:13:39.675023Z"
    }
   },
   "outputs": [
    {
     "data": {
      "text/html": [
       "<div>\n",
       "<style>\n",
       "    .dataframe thead tr:only-child th {\n",
       "        text-align: right;\n",
       "    }\n",
       "\n",
       "    .dataframe thead th {\n",
       "        text-align: left;\n",
       "    }\n",
       "\n",
       "    .dataframe tbody tr th {\n",
       "        vertical-align: top;\n",
       "    }\n",
       "</style>\n",
       "<table border=\"1\" class=\"dataframe\">\n",
       "  <thead>\n",
       "    <tr style=\"text-align: right;\">\n",
       "      <th></th>\n",
       "      <th>Parent</th>\n",
       "      <th>Child</th>\n",
       "      <th>EdgeType</th>\n",
       "    </tr>\n",
       "  </thead>\n",
       "  <tbody>\n",
       "    <tr>\n",
       "      <th>0</th>\n",
       "      <td>S2</td>\n",
       "      <td>S5</td>\n",
       "      <td>Child-Parent</td>\n",
       "    </tr>\n",
       "    <tr>\n",
       "      <th>1</th>\n",
       "      <td>S2</td>\n",
       "      <td>S6</td>\n",
       "      <td>Child-Parent</td>\n",
       "    </tr>\n",
       "    <tr>\n",
       "      <th>2</th>\n",
       "      <td>S1</td>\n",
       "      <td>S3</td>\n",
       "      <td>Child-Parent</td>\n",
       "    </tr>\n",
       "    <tr>\n",
       "      <th>3</th>\n",
       "      <td>S1</td>\n",
       "      <td>S4</td>\n",
       "      <td>Child-Parent</td>\n",
       "    </tr>\n",
       "    <tr>\n",
       "      <th>4</th>\n",
       "      <td>S1</td>\n",
       "      <td>S5</td>\n",
       "      <td>Child-Parent</td>\n",
       "    </tr>\n",
       "    <tr>\n",
       "      <th>5</th>\n",
       "      <td>S0_alias</td>\n",
       "      <td>S1</td>\n",
       "      <td>Child-Parent</td>\n",
       "    </tr>\n",
       "    <tr>\n",
       "      <th>6</th>\n",
       "      <td>S0_alias</td>\n",
       "      <td>S2</td>\n",
       "      <td>Child-Parent</td>\n",
       "    </tr>\n",
       "    <tr>\n",
       "      <th>7</th>\n",
       "      <td>S3</td>\n",
       "      <td>C</td>\n",
       "      <td>Gene-Term</td>\n",
       "    </tr>\n",
       "    <tr>\n",
       "      <th>8</th>\n",
       "      <td>S4</td>\n",
       "      <td>C</td>\n",
       "      <td>Gene-Term</td>\n",
       "    </tr>\n",
       "    <tr>\n",
       "      <th>9</th>\n",
       "      <td>S3</td>\n",
       "      <td>B</td>\n",
       "      <td>Gene-Term</td>\n",
       "    </tr>\n",
       "    <tr>\n",
       "      <th>10</th>\n",
       "      <td>S5</td>\n",
       "      <td>E</td>\n",
       "      <td>Gene-Term</td>\n",
       "    </tr>\n",
       "    <tr>\n",
       "      <th>11</th>\n",
       "      <td>S4</td>\n",
       "      <td>D</td>\n",
       "      <td>Gene-Term</td>\n",
       "    </tr>\n",
       "    <tr>\n",
       "      <th>12</th>\n",
       "      <td>S6</td>\n",
       "      <td>G</td>\n",
       "      <td>Gene-Term</td>\n",
       "    </tr>\n",
       "    <tr>\n",
       "      <th>13</th>\n",
       "      <td>S5</td>\n",
       "      <td>F</td>\n",
       "      <td>Gene-Term</td>\n",
       "    </tr>\n",
       "    <tr>\n",
       "      <th>14</th>\n",
       "      <td>S6</td>\n",
       "      <td>H</td>\n",
       "      <td>Gene-Term</td>\n",
       "    </tr>\n",
       "    <tr>\n",
       "      <th>15</th>\n",
       "      <td>S3</td>\n",
       "      <td>A_alias</td>\n",
       "      <td>Gene-Term</td>\n",
       "    </tr>\n",
       "  </tbody>\n",
       "</table>\n",
       "</div>"
      ],
      "text/plain": [
       "      Parent    Child      EdgeType\n",
       "0         S2       S5  Child-Parent\n",
       "1         S2       S6  Child-Parent\n",
       "2         S1       S3  Child-Parent\n",
       "3         S1       S4  Child-Parent\n",
       "4         S1       S5  Child-Parent\n",
       "5   S0_alias       S1  Child-Parent\n",
       "6   S0_alias       S2  Child-Parent\n",
       "7         S3        C     Gene-Term\n",
       "8         S4        C     Gene-Term\n",
       "9         S3        B     Gene-Term\n",
       "10        S5        E     Gene-Term\n",
       "11        S4        D     Gene-Term\n",
       "12        S6        G     Gene-Term\n",
       "13        S5        F     Gene-Term\n",
       "14        S6        H     Gene-Term\n",
       "15        S3  A_alias     Gene-Term"
      ]
     },
     "execution_count": 90,
     "metadata": {},
     "output_type": "execute_result"
    }
   ],
   "source": [
    "# Renaming genes and terms.\n",
    "ont2 = ont.rename(genes={'A' : 'A_alias'}, terms={'S0':'S0_alias'})\n",
    "ont2.to_table()"
   ]
  },
  {
   "cell_type": "markdown",
   "metadata": {},
   "source": [
    "## Delete S1 and G while preserving transitive connections\n",
    "\n",
    "<img src=\"https://github.com/michaelkyu/ontology/blob/master/docs/toy_ontology_delete_transitive.png?raw=true\" width=\"250\" align=\"left\">"
   ]
  },
  {
   "cell_type": "code",
   "execution_count": 42,
   "metadata": {
    "ExecuteTime": {
     "end_time": "2018-04-02T17:17:50.313095Z",
     "start_time": "2018-04-02T17:17:49.537258Z"
    }
   },
   "outputs": [
    {
     "name": "stdout",
     "output_type": "stream",
     "text": [
      "7 genes, 6 terms, 8 gene-term relations, 6 term-term relations\n",
      "node_attributes: []\n",
      "edge_attributes: []\n"
     ]
    }
   ],
   "source": [
    "ont2 = ont.delete(to_delete=['S1', 'G'])\n",
    "print(ont2)"
   ]
  },
  {
   "cell_type": "markdown",
   "metadata": {
    "ExecuteTime": {
     "end_time": "2018-04-01T19:15:12.279137Z",
     "start_time": "2018-04-01T19:15:11.004604Z"
    }
   },
   "source": [
    "## Delete S1 and G (don't preserve transitive connections)\n",
    "\n",
    "<img src=\"https://github.com/michaelkyu/ontology/blob/master/docs/toy_ontology_delete_not_transitive.png?raw=true\" width=\"250\" align=\"left\">"
   ]
  },
  {
   "cell_type": "code",
   "execution_count": 41,
   "metadata": {
    "ExecuteTime": {
     "end_time": "2018-04-02T17:17:40.959771Z",
     "start_time": "2018-04-02T17:17:40.917050Z"
    }
   },
   "outputs": [
    {
     "name": "stdout",
     "output_type": "stream",
     "text": [
      "7 genes, 6 terms, 8 gene-term relations, 3 term-term relations\n",
      "node_attributes: []\n",
      "edge_attributes: []\n"
     ]
    }
   ],
   "source": [
    "ont2 = ont.delete(to_delete=['S1', 'G'], preserve_transitivity=False)\n",
    "print(ont2)"
   ]
  },
  {
   "cell_type": "markdown",
   "metadata": {},
   "source": [
    "## Propagate gene-term connections\n",
    "\n",
    "<img src=\"https://github.com/michaelkyu/ontology/blob/master/docs/toy_ontology_propagate_gene_term.png?raw=true\" width=\"250\" align=\"left\">"
   ]
  },
  {
   "cell_type": "code",
   "execution_count": 39,
   "metadata": {
    "ExecuteTime": {
     "end_time": "2018-04-02T17:17:19.195679Z",
     "start_time": "2018-04-02T17:17:19.146670Z"
    }
   },
   "outputs": [
    {
     "name": "stdout",
     "output_type": "stream",
     "text": [
      "8 genes, 7 terms, 27 gene-term relations, 7 term-term relations\n",
      "node_attributes: []\n",
      "edge_attributes: []\n"
     ]
    }
   ],
   "source": [
    "ont2 = ont.propagate(direction='forward', gene_term=True, term_term=False)\n",
    "print(ont2)\n",
    "\n",
    "# Remove all transitive connections, and maintain only a parsimonious set of connections\n",
    "ont3 = ont2.propagate(direction='reverse', gene_term=True, term_term=False)"
   ]
  },
  {
   "cell_type": "markdown",
   "metadata": {},
   "source": [
    "## Propagate term-term connections\n",
    "\n",
    "<img src=\"https://github.com/michaelkyu/ontology/blob/master/docs/toy_ontology_propagate_term_term.png?raw=true\" width=\"250\" align=\"left\">"
   ]
  },
  {
   "cell_type": "code",
   "execution_count": 40,
   "metadata": {
    "ExecuteTime": {
     "end_time": "2018-04-02T17:17:27.815478Z",
     "start_time": "2018-04-02T17:17:27.766265Z"
    }
   },
   "outputs": [
    {
     "name": "stdout",
     "output_type": "stream",
     "text": [
      "8 genes, 7 terms, 9 gene-term relations, 11 term-term relations\n",
      "node_attributes: []\n",
      "edge_attributes: []\n"
     ]
    }
   ],
   "source": [
    "ont2 = ont.propagate(direction='forward', gene_term=False, term_term=True)\n",
    "print(ont2)\n",
    "\n",
    "# Remove all transitive connections, and maintain only a parsimonious set of connections\n",
    "ont3 = ont2.propagate(direction='reverse', gene_term=False, term_term=True)"
   ]
  },
  {
   "cell_type": "markdown",
   "metadata": {},
   "source": [
    "## Take the subbranch consisting of all term and genes under S1\n",
    "\n",
    "<img src=\"https://github.com/michaelkyu/ontology/blob/master/docs/toy_ontology_S1.png?raw=true\" width=\"250\" align=\"left\">"
   ]
  },
  {
   "cell_type": "code",
   "execution_count": 38,
   "metadata": {
    "ExecuteTime": {
     "end_time": "2018-04-02T17:16:56.613318Z",
     "start_time": "2018-04-02T17:16:56.538671Z"
    }
   },
   "outputs": [
    {
     "name": "stdout",
     "output_type": "stream",
     "text": [
      "Genes and Terms to keep: 10\n",
      "6 genes, 4 terms, 7 gene-term relations, 3 term-term relations\n",
      "node_attributes: ['Original_Size']\n",
      "edge_attributes: []\n"
     ]
    }
   ],
   "source": [
    "ont2 = ont.focus(branches=['S1'])\n",
    "print(ont2)"
   ]
  },
  {
   "cell_type": "markdown",
   "metadata": {},
   "source": [
    "# Inferring a data-driven ontology\n",
    "\n",
    "An ontology can also be inferred in a data-driven manner based on an input set of node-node similarities."
   ]
  },
  {
   "cell_type": "code",
   "execution_count": 95,
   "metadata": {
    "ExecuteTime": {
     "end_time": "2018-04-01T21:14:28.986630Z",
     "start_time": "2018-04-01T21:14:28.934074Z"
    }
   },
   "outputs": [
    {
     "name": "stdout",
     "output_type": "stream",
     "text": [
      "['A' 'B' 'C' 'D' 'E' 'F' 'G' 'H']\n",
      "[[ 1.41503751  1.41503751  1.41503751  0.41503751  0.41503751  0.41503751 -0.         -0.        ]\n",
      " [ 1.41503751  1.41503751  1.41503751  0.41503751  0.41503751  0.41503751 -0.         -0.        ]\n",
      " [ 1.41503751  1.41503751  2.          2.          0.41503751  0.41503751 -0.         -0.        ]\n",
      " [ 0.41503751  0.41503751  2.          2.          0.41503751  0.41503751 -0.         -0.        ]\n",
      " [ 0.41503751  0.41503751  0.41503751  0.41503751  2.          2.          1.          1.        ]\n",
      " [ 0.41503751  0.41503751  0.41503751  0.41503751  2.          2.          1.          1.        ]\n",
      " [-0.         -0.         -0.         -0.          1.          1.          2.          2.        ]\n",
      " [-0.         -0.         -0.         -0.          1.          1.          2.          2.        ]]\n"
     ]
    }
   ],
   "source": [
    "sim, genes = ont.flatten()\n",
    "print(genes)\n",
    "print(sim)"
   ]
  },
  {
   "cell_type": "code",
   "execution_count": 96,
   "metadata": {
    "ExecuteTime": {
     "end_time": "2018-04-01T21:14:31.693068Z",
     "start_time": "2018-04-01T21:14:31.564020Z"
    },
    "collapsed": true
   },
   "outputs": [],
   "source": [
    "ont2 = Ontology.run_clixo(sim, 0.0, 1.0, square=True, square_names=genes)"
   ]
  },
  {
   "cell_type": "code",
   "execution_count": 97,
   "metadata": {
    "ExecuteTime": {
     "end_time": "2018-04-01T21:14:33.738928Z",
     "start_time": "2018-04-01T21:14:33.699786Z"
    },
    "scrolled": true
   },
   "outputs": [
    {
     "name": "stdout",
     "output_type": "stream",
     "text": [
      "8 genes, 7 terms, 9 gene-term relations, 7 term-term relations\n",
      "node_attributes: []\n",
      "edge_attributes: ['CLIXO_score']\n"
     ]
    }
   ],
   "source": [
    "print(ont2)"
   ]
  },
  {
   "cell_type": "markdown",
   "metadata": {},
   "source": [
    "# Ontology alignment\n",
    "\n",
    "<img src=\"https://github.com/michaelkyu/ontology/blob/master/docs/toy_ontology_alignment.png?raw=true\" width=\"550\" align=\"left\">"
   ]
  },
  {
   "cell_type": "code",
   "execution_count": 2,
   "metadata": {
    "ExecuteTime": {
     "end_time": "2018-04-02T14:59:53.645204Z",
     "start_time": "2018-04-02T14:59:53.497608Z"
    },
    "collapsed": true
   },
   "outputs": [],
   "source": [
    "## Make a second ontology\n",
    "\n",
    "# Connections from child terms to parent terms\n",
    "hierarchy = [('T3', 'T1'),\n",
    "             ('T4', 'T1'),\n",
    "             ('T1', 'T0'),\n",
    "             ('T5', 'T0')]\n",
    "\n",
    "# Connections from genes to terms\n",
    "mapping = [('A', 'T3'),\n",
    "           ('B', 'T3'),\n",
    "           ('C', 'T3'),\n",
    "           ('D', 'T4'),\n",
    "           ('E', 'T4'),\n",
    "           ('F', 'T4'),\n",
    "           ('G', 'T5'),\n",
    "           ('H', 'T5')]\n",
    "\n",
    "# Construct ontology\n",
    "ont_B = Ontology(hierarchy, mapping)"
   ]
  },
  {
   "cell_type": "code",
   "execution_count": 27,
   "metadata": {
    "ExecuteTime": {
     "end_time": "2018-04-02T16:53:30.689841Z",
     "start_time": "2018-04-02T16:53:26.909175Z"
    }
   },
   "outputs": [
    {
     "name": "stdout",
     "output_type": "stream",
     "text": [
      "collapse command: /cellar/users/mikeyu/DeepTranslate/ddot/ddot/alignOntology/collapseRedundantNodes /tmp/tmp7vURpx\n",
      "collapse command: /cellar/users/mikeyu/DeepTranslate/ddot/ddot/alignOntology/collapseRedundantNodes /tmp/tmpL2rvmk\n",
      "Alignment command: /cellar/users/mikeyu/DeepTranslate/ddot/ddot/alignOntology/calculateFDRs /tmp/tmpbJwfYR /tmp/tmpmzw76c 0.05 criss_cross /tmp/tmpFprCRw 100 40 gene\n"
     ]
    },
    {
     "data": {
      "text/html": [
       "<div>\n",
       "<style>\n",
       "    .dataframe thead tr:only-child th {\n",
       "        text-align: right;\n",
       "    }\n",
       "\n",
       "    .dataframe thead th {\n",
       "        text-align: left;\n",
       "    }\n",
       "\n",
       "    .dataframe tbody tr th {\n",
       "        vertical-align: top;\n",
       "    }\n",
       "</style>\n",
       "<table border=\"1\" class=\"dataframe\">\n",
       "  <thead>\n",
       "    <tr style=\"text-align: right;\">\n",
       "      <th></th>\n",
       "      <th>Term</th>\n",
       "      <th>Similarity</th>\n",
       "      <th>FDR</th>\n",
       "    </tr>\n",
       "    <tr>\n",
       "      <th>Term</th>\n",
       "      <th></th>\n",
       "      <th></th>\n",
       "      <th></th>\n",
       "    </tr>\n",
       "  </thead>\n",
       "  <tbody>\n",
       "    <tr>\n",
       "      <th>S3</th>\n",
       "      <td>T3</td>\n",
       "      <td>0.985294</td>\n",
       "      <td>0.000</td>\n",
       "    </tr>\n",
       "    <tr>\n",
       "      <th>S1</th>\n",
       "      <td>T1</td>\n",
       "      <td>0.913608</td>\n",
       "      <td>0.000</td>\n",
       "    </tr>\n",
       "    <tr>\n",
       "      <th>S6</th>\n",
       "      <td>T5</td>\n",
       "      <td>0.910000</td>\n",
       "      <td>0.040</td>\n",
       "    </tr>\n",
       "    <tr>\n",
       "      <th>S0</th>\n",
       "      <td>T0</td>\n",
       "      <td>0.892982</td>\n",
       "      <td>0.005</td>\n",
       "    </tr>\n",
       "  </tbody>\n",
       "</table>\n",
       "</div>"
      ],
      "text/plain": [
       "     Term  Similarity    FDR\n",
       "Term                        \n",
       "S3     T3    0.985294  0.000\n",
       "S1     T1    0.913608  0.000\n",
       "S6     T5    0.910000  0.040\n",
       "S0     T0    0.892982  0.005"
      ]
     },
     "execution_count": 27,
     "metadata": {},
     "output_type": "execute_result"
    }
   ],
   "source": [
    "ont.align(ont_B)"
   ]
  },
  {
   "cell_type": "markdown",
   "metadata": {},
   "source": [
    "# Construct ontotypes"
   ]
  },
  {
   "cell_type": "code",
   "execution_count": 99,
   "metadata": {
    "ExecuteTime": {
     "end_time": "2018-04-01T21:14:46.712555Z",
     "start_time": "2018-04-01T21:14:45.911813Z"
    }
   },
   "outputs": [
    {
     "name": "stdout",
     "output_type": "stream",
     "text": [
      "   S0  S1  S2  S3  S4  S5  S6\n",
      "0   0   0   0   2   0   0   0\n",
      "1   0   0   0   1   0   1   0\n",
      "2   0   0   0   1   0   0   1\n",
      "3   0   0   0   1   0   1   0\n",
      "4   0   0   0   1   0   0   1\n",
      "5   0   0   0   1   1   1   0\n",
      "6   0   0   0   0   1   1   0\n",
      "7   0   0   0   0   1   0   1\n",
      "8   0   0   0   0   0   1   1\n",
      "9   0   0   0   0   0   0   2\n"
     ]
    }
   ],
   "source": [
    "# Genotypes can be represented as tuples of mutated genes\n",
    "genotypes = [('A', 'B'),\n",
    "             ('A', 'E'),\n",
    "             ('A', 'H'),\n",
    "             ('B', 'E'),\n",
    "             ('B', 'H'),\n",
    "             ('C', 'F'),\n",
    "             ('D', 'E'),\n",
    "             ('D', 'H'),\n",
    "             ('E', 'H'),\n",
    "             ('G', 'H')]\n",
    "\n",
    "ontotypes = ont.get_ontotype(genotypes)\n",
    "print(ontotypes)"
   ]
  },
  {
   "cell_type": "code",
   "execution_count": 100,
   "metadata": {
    "ExecuteTime": {
     "end_time": "2018-04-01T21:14:48.770114Z",
     "start_time": "2018-04-01T21:14:48.697379Z"
    }
   },
   "outputs": [
    {
     "name": "stdout",
     "output_type": "stream",
     "text": [
      "             A    B    C    D    E    F    G    H\n",
      "Genotype0  1.0  1.0  0.0  0.0  0.0  0.0  0.0  0.0\n",
      "Genotype1  1.0  0.0  0.0  0.0  1.0  0.0  0.0  0.0\n",
      "Genotype2  1.0  0.0  0.0  0.0  0.0  0.0  0.0  1.0\n",
      "Genotype3  0.0  1.0  0.0  0.0  1.0  0.0  0.0  0.0\n",
      "Genotype4  0.0  1.0  0.0  0.0  0.0  0.0  0.0  1.0\n",
      "Genotype5  0.0  0.0  1.0  0.0  0.0  1.0  0.0  0.0\n",
      "Genotype6  0.0  0.0  0.0  1.0  1.0  0.0  0.0  0.0\n",
      "Genotype7  0.0  0.0  0.0  1.0  0.0  0.0  0.0  1.0\n",
      "Genotype8  0.0  0.0  0.0  0.0  1.0  0.0  0.0  1.0\n",
      "Genotype9  0.0  0.0  0.0  0.0  0.0  0.0  1.0  1.0\n",
      "            S0   S1   S2   S3   S4   S5   S6\n",
      "Genotype0  0.0  0.0  0.0  2.0  0.0  0.0  0.0\n",
      "Genotype1  0.0  0.0  0.0  1.0  0.0  1.0  0.0\n",
      "Genotype2  0.0  0.0  0.0  1.0  0.0  0.0  1.0\n",
      "Genotype3  0.0  0.0  0.0  1.0  0.0  1.0  0.0\n",
      "Genotype4  0.0  0.0  0.0  1.0  0.0  0.0  1.0\n",
      "Genotype5  0.0  0.0  0.0  1.0  1.0  1.0  0.0\n",
      "Genotype6  0.0  0.0  0.0  0.0  1.0  1.0  0.0\n",
      "Genotype7  0.0  0.0  0.0  0.0  1.0  0.0  1.0\n",
      "Genotype8  0.0  0.0  0.0  0.0  0.0  1.0  1.0\n",
      "Genotype9  0.0  0.0  0.0  0.0  0.0  0.0  2.0\n"
     ]
    }
   ],
   "source": [
    "# Genotypes can also be represented a genotype-by-gene matrix\n",
    "import pandas as pd, numpy as np\n",
    "genotypes_df = pd.DataFrame(np.zeros((len(genotypes), len(ont.genes)), np.float64),\n",
    "                            index=['Genotype%s' % i for i in range(len(genotypes))],\n",
    "                            columns=ont.genes)\n",
    "for i, (g1, g2) in enumerate(genotypes):\n",
    "    genotypes_df.loc['Genotype%s' % i, g1] = 1.0\n",
    "    genotypes_df.loc['Genotype%s' % i, g2] = 1.0\n",
    "print(genotypes_df)\n",
    "\n",
    "ontotypes = ont.get_ontotype(genotypes_df, input_format='matrix')\n",
    "print(ontotypes)"
   ]
  },
  {
   "cell_type": "markdown",
   "metadata": {},
   "source": [
    "# Conversions to NetworkX and igraph"
   ]
  },
  {
   "cell_type": "code",
   "execution_count": 101,
   "metadata": {
    "ExecuteTime": {
     "end_time": "2018-04-01T21:14:51.149841Z",
     "start_time": "2018-04-01T21:14:51.113385Z"
    }
   },
   "outputs": [
    {
     "name": "stdout",
     "output_type": "stream",
     "text": [
      "IGRAPH DN-- 15 16 --\n",
      "+ attr: NodeType (v), name (v), EdgeType (e)\n",
      "+ edges (vertex names):\n",
      "A->S3, B->S3, C->S3, C->S4, D->S4, E->S5, F->S5, G->S6, H->S6, S5->S2, S6->S2,\n",
      "S3->S1, S4->S1, S5->S1, S1->S0, S2->S0\n"
     ]
    }
   ],
   "source": [
    "G = ont.to_igraph()\n",
    "print(G)"
   ]
  },
  {
   "cell_type": "code",
   "execution_count": 102,
   "metadata": {
    "ExecuteTime": {
     "end_time": "2018-04-01T21:14:53.813324Z",
     "start_time": "2018-04-01T21:14:53.758351Z"
    }
   },
   "outputs": [
    {
     "name": "stdout",
     "output_type": "stream",
     "text": [
      "['A', 'C', 'B', 'E', 'D', 'G', 'F', 'S3', 'H', 'S1', 'S0', 'S6', 'S5', 'S4', 'S2']\n",
      "[('A', 'S3'), ('C', 'S3'), ('C', 'S4'), ('B', 'S3'), ('E', 'S5'), ('D', 'S4'), ('G', 'S6'), ('F', 'S5'), ('S3', 'S1'), ('H', 'S6'), ('S1', 'S0'), ('S6', 'S2'), ('S5', 'S2'), ('S5', 'S1'), ('S4', 'S1'), ('S2', 'S0')]\n"
     ]
    }
   ],
   "source": [
    "G = ont.to_networkx()\n",
    "print(G.nodes())\n",
    "print(G.edges())"
   ]
  },
  {
   "cell_type": "markdown",
   "metadata": {},
   "source": [
    "# Visualization in HiView (http://hiview.ucsd.edu)"
   ]
  },
  {
   "cell_type": "code",
   "execution_count": 49,
   "metadata": {
    "ExecuteTime": {
     "end_time": "2018-04-02T17:22:57.877777Z",
     "start_time": "2018-04-02T17:22:57.453999Z"
    }
   },
   "outputs": [
    {
     "name": "stdout",
     "output_type": "stream",
     "text": [
      "http://dev2.ndexbio.org/v2/network/7c8fc40e-369a-11e8-929a-0660b7976219\n"
     ]
    }
   ],
   "source": [
    "url, _ = ont.to_ndex(ndex_server=ndex_server, ndex_user=ndex_user, ndex_pass=ndex_pass, layout='bubble-collect')\n",
    "print(url)"
   ]
  },
  {
   "cell_type": "markdown",
   "metadata": {},
   "source": [
    "# After reading this tutorial\n",
    "\n",
    "You should check out the list of functions of the [Ontology class](http://the-data-driven-ontology-toolkit-ddot.readthedocs.io/en/latest/ontology.html) and a list of [utility functions](http://the-data-driven-ontology-toolkit-ddot.readthedocs.io/en/latest/utils.html) that may help you build more concise pipelines"
   ]
  }
 ],
 "metadata": {
  "kernelspec": {
   "display_name": "Python 2",
   "language": "python",
   "name": "python2"
  },
  "language_info": {
   "codemirror_mode": {
    "name": "ipython",
    "version": 2
   },
   "file_extension": ".py",
   "mimetype": "text/x-python",
   "name": "python",
   "nbconvert_exporter": "python",
   "pygments_lexer": "ipython2",
   "version": "2.7.13"
  },
  "latex_envs": {
   "LaTeX_envs_menu_present": true,
   "autocomplete": true,
   "bibliofile": "biblio.bib",
   "cite_by": "apalike",
   "current_citInitial": 1,
   "eqLabelWithNumbers": true,
   "eqNumInitial": 1,
   "hotkeys": {
    "equation": "Ctrl-E",
    "itemize": "Ctrl-I"
   },
   "labels_anchors": false,
   "latex_user_defs": false,
   "report_style_numbering": false,
   "user_envs_cfg": false
  },
  "toc": {
   "colors": {
    "hover_highlight": "#DAA520",
    "navigate_num": "#000000",
    "navigate_text": "#333333",
    "running_highlight": "#FF0000",
    "selected_highlight": "#FFD700",
    "sidebar_border": "#EEEEEE",
    "wrapper_background": "#FFFFFF"
   },
   "moveMenuLeft": true,
   "nav_menu": {
    "height": "66px",
    "width": "252px"
   },
   "navigate_menu": true,
   "number_sections": true,
   "sideBar": true,
   "threshold": 4,
   "toc_cell": false,
   "toc_position": {
    "height": "748px",
    "left": "0px",
    "right": "1391.67px",
    "top": "107px",
    "width": "299px"
   },
   "toc_section_display": "block",
   "toc_window_display": false,
   "widenNotebook": false
  }
 },
 "nbformat": 4,
 "nbformat_minor": 2
}
