{
 "cells": [
  {
   "cell_type": "code",
   "execution_count": 3,
   "metadata": {
    "ExecuteTime": {
     "end_time": "2017-09-25T17:48:59.386164Z",
     "start_time": "2017-09-25T17:48:55.189689Z"
    }
   },
   "outputs": [
    {
     "name": "stdout",
     "output_type": "stream",
     "text": [
      "\n"
     ]
    }
   ],
   "source": [
    "import requests\n",
    "import gzip\n",
    "\n",
    "import pandas as pd\n",
    "import networkx as nx\n",
    "import numpy as np\n",
    "import seaborn as sns\n",
    "import matplotlib.pyplot as plt\n",
    "%matplotlib inline\n",
    "\n",
    "import sys\n",
    "sys.path.insert(0, '/cellar/users/mikeyu/DeepTranslate/ddot')\n",
    "\n",
    "np.set_printoptions(precision=3)\n",
    "\n",
    "import ddot\n",
    "from ddot import Ontology, get_gene_name_converter, parse_gaf, parse_obo, nx_to_NdexGraph, read_term_descriptions, ndex_to_sim_matrix\n",
    "from ddot import expand_seed, melt_square, make_index, align_hierarchies, update_nx_with_alignment, parse_ndex_uuid, NdexGraph_to_nx, bubble_layout_nx, ddot_pipeline"
   ]
  },
  {
   "cell_type": "markdown",
   "metadata": {},
   "source": [
    "# Setup parameters"
   ]
  },
  {
   "cell_type": "code",
   "execution_count": 4,
   "metadata": {
    "ExecuteTime": {
     "end_time": "2017-09-25T17:48:59.396622Z",
     "start_time": "2017-09-25T17:48:59.390865Z"
    },
    "collapsed": true
   },
   "outputs": [],
   "source": [
    "alpha = 0.1\n",
    "beta = 0.5"
   ]
  },
  {
   "cell_type": "code",
   "execution_count": 5,
   "metadata": {
    "ExecuteTime": {
     "end_time": "2017-09-25T17:48:59.406338Z",
     "start_time": "2017-09-25T17:48:59.400339Z"
    },
    "collapsed": true
   },
   "outputs": [],
   "source": [
    "seed = ['FANCA','FANCB', 'FANCC', 'BRCA2', 'FANCD2', 'FANCE',\n",
    "        'FANCF', 'FANCG', 'FANCI', 'BRIP1', 'FANCL', 'FANCM', 'PALB2', 'RAD51C', 'SLX4', 'ERCC4', 'RAD51',\n",
    "        'BRCA1', 'UBE2T', 'XRCC2']"
   ]
  },
  {
   "cell_type": "code",
   "execution_count": 6,
   "metadata": {
    "ExecuteTime": {
     "end_time": "2017-09-25T17:48:59.414660Z",
     "start_time": "2017-09-25T17:48:59.409767Z"
    },
    "collapsed": true
   },
   "outputs": [],
   "source": [
    "ndex_user = 'mikeyu_testacct3'\n",
    "ndex_pass = 'GoHejVeg8'\n",
    "ndex_server = 'http://test.ndexbio.org'"
   ]
  },
  {
   "cell_type": "markdown",
   "metadata": {},
   "source": [
    "# Download GO from NDEx"
   ]
  },
  {
   "cell_type": "code",
   "execution_count": 7,
   "metadata": {
    "ExecuteTime": {
     "end_time": "2017-09-25T17:48:59.421694Z",
     "start_time": "2017-09-25T17:48:59.418020Z"
    },
    "collapsed": true
   },
   "outputs": [],
   "source": [
    "# go_human = Ontology.from_ndex(ddot.config.GO_HUMAN_URL)\n",
    "# print go_human.summary()"
   ]
  },
  {
   "cell_type": "code",
   "execution_count": 8,
   "metadata": {
    "ExecuteTime": {
     "end_time": "2017-09-25T17:48:59.428540Z",
     "start_time": "2017-09-25T17:48:59.424845Z"
    },
    "collapsed": true
   },
   "outputs": [],
   "source": [
    "# go_human.to_pickle('/cellar/users/mikeyu/go.pkl')\n",
    "# go_human = Ontology.read_pickle('/cellar/users/mikeyu/go.pkl')"
   ]
  },
  {
   "cell_type": "code",
   "execution_count": 9,
   "metadata": {
    "ExecuteTime": {
     "end_time": "2017-09-25T17:49:06.751943Z",
     "start_time": "2017-09-25T17:48:59.431615Z"
    },
    "collapsed": true
   },
   "outputs": [],
   "source": [
    "go_human = Ontology.from_table('/cellar/users/mikeyu/DeepTranslate/go_human_10aug2017/collapsed_go.symbol', clixo_format=True)\n",
    "# go_human_entrez = Ontology.from_table('/cellar/users/mikeyu/DeepTranslate/go_human_10aug2017/collapsed_go.entrez', clixo_format=True)"
   ]
  },
  {
   "cell_type": "markdown",
   "metadata": {},
   "source": [
    "# Download gene similarity network from NDEx"
   ]
  },
  {
   "cell_type": "code",
   "execution_count": 10,
   "metadata": {
    "ExecuteTime": {
     "end_time": "2017-09-25T17:49:06.756745Z",
     "start_time": "2017-09-25T17:49:06.753935Z"
    },
    "collapsed": true
   },
   "outputs": [],
   "source": [
    "# sim, sim_names = ndex_to_sim_matrix(\n",
    "#     ndex_uuid='d2dfa5cc-56de-11e7-a2e2-0660b7976219',\n",
    "#     similarity='similarity',\n",
    "#     input_fmt='cx_matrix',\n",
    "#     output_fmt='matrix',\n",
    "#     subset=None)"
   ]
  },
  {
   "cell_type": "code",
   "execution_count": 11,
   "metadata": {
    "ExecuteTime": {
     "end_time": "2017-09-25T17:49:11.282450Z",
     "start_time": "2017-09-25T17:49:06.758290Z"
    }
   },
   "outputs": [
    {
     "name": "stdout",
     "output_type": "stream",
     "text": [
      "CPU times: user 0 ns, sys: 0 ns, total: 0 ns\n",
      "Wall time: 1.09 ms\n"
     ]
    }
   ],
   "source": [
    "%time tmp = np.load('/cellar/users/mikeyu/DeepTranslate/hnexo/RFv2r3_square.npz')\n",
    "rf, rf_genes = tmp['rf'], tmp['genes']\n",
    "np.fill_diagonal(rf, 0)\n",
    "rf[np.isnan(rf)] = 0\n",
    "sim, sim_names = rf, rf_genes"
   ]
  },
  {
   "cell_type": "code",
   "execution_count": 12,
   "metadata": {
    "ExecuteTime": {
     "end_time": "2017-09-25T17:49:45.190328Z",
     "start_time": "2017-09-25T17:49:11.284244Z"
    },
    "collapsed": true
   },
   "outputs": [],
   "source": [
    "# Rank the similarity scores\n",
    "sim_rank = pd.DataFrame(sim).rank(0) / (sim.shape[0] - 1)\n",
    "sim_rank = pd.DataFrame((sim_rank.values + sim_rank.values.T) / 2.0)"
   ]
  },
  {
   "cell_type": "markdown",
   "metadata": {},
   "source": [
    "# Download gene-drug targets"
   ]
  },
  {
   "cell_type": "code",
   "execution_count": 13,
   "metadata": {
    "ExecuteTime": {
     "end_time": "2017-09-25T17:49:45.195148Z",
     "start_time": "2017-09-25T17:49:45.192114Z"
    },
    "collapsed": true
   },
   "outputs": [],
   "source": [
    "# pharos, pharos_nodes = ndex_to_sim_matrix(\n",
    "#     parse_ndex_uuid(ddot.config.PHAROS_URL),\n",
    "#     similarity=None,\n",
    "#     input_fmt='cx',\n",
    "#     output_fmt='sparse')\n",
    "# pharos.rename(columns={'Node1' : 'gene', 'Node2' : 'drug'}, inplace=True)\n",
    "# gene_drug = pharos.groupby('gene').agg({'drug' : lambda x : ','.join(x)})\n",
    "# gene_drug['has_drug'] = True"
   ]
  },
  {
   "cell_type": "code",
   "execution_count": 14,
   "metadata": {
    "ExecuteTime": {
     "end_time": "2017-09-25T17:49:45.267551Z",
     "start_time": "2017-09-25T17:49:45.196716Z"
    },
    "collapsed": true
   },
   "outputs": [],
   "source": [
    "pharos = pd.read_table('/cellar/users/mikeyu/DeepTranslate/pharos/tcrd460_gene_drug.txt')\n",
    "pharos.drop_duplicates(inplace=True)\n",
    "gene_drug = pharos.groupby('gene').agg({'drug' : lambda x : ','.join(x)})\n",
    "gene_drug['has_drug'] = True"
   ]
  },
  {
   "cell_type": "markdown",
   "metadata": {},
   "source": [
    "# Run Ontology pipeline"
   ]
  },
  {
   "cell_type": "code",
   "execution_count": 18,
   "metadata": {
    "ExecuteTime": {
     "end_time": "2017-08-31T23:07:07.419628Z",
     "start_time": "2017-08-31T23:06:35.950787Z"
    },
    "scrolled": false
   },
   "outputs": [
    {
     "name": "stdout",
     "output_type": "stream",
     "text": [
      "min_sim: 5.20081410586\n",
      "Expanded gene set: 246\n",
      "temp output: /tmp/tmpZ3s_e2\n",
      "temp graph: /tmp/tmpglTeun\n",
      "temp output log: /tmp/tmpmNASr4\n",
      "/tmp/tmpglTeun\t0.1\t0.5\t-10000000 2017-08-31 23:06:36.229469\n",
      "CLIXO command: /cellar/users/mikeyu/DeepTranslate/ddot/ddot/mhk7-clixo_0.3-cec3674/clixo /tmp/tmpglTeun 0.1 0.5 | awk '{if ( $1 ~ /^#/ ) {print \"\\#\", strftime(\"%Y-%m-%d %H:%M:%S\"), $0 ; fflush() } else {print $0}}' | tee /tmp/tmpmNASr4\n",
      "Extracting by grep -v # 2017-08-31 23:06:37.555122\n",
      "Elapsed time (sec): 1.33150100708 2017-08-31 23:06:37.592654\n",
      "Ontology: 246 genes, 38 terms, 290 gene-term relations, 38 term-term relations\n",
      "node_attributes: \n",
      "edge_attributes: CLIXO_score\n",
      "collapse command: /cellar/users/mikeyu/alignOntology/collapseRedundantNodes /tmp/tmpcg9dRN\n",
      "collapse command: /cellar/users/mikeyu/alignOntology/collapseRedundantNodes /tmp/tmp5q7N9y\n",
      "Alignment command: /cellar/users/mikeyu/DeepTranslate/ddot/ddot/alignOntology/calculateFDRs /tmp/tmpyxdG2o /tmp/tmpUVio8S 0.05 criss_cross /tmp/tmppKdkgt 100 40 gene\n",
      "Alignment: 16 matches\n",
      "WARNING: There are 38 terms that have no direct gene annotations\n",
      "http://dev2.ndexbio.org/v2/network/c848905a-8edb-11e7-9743-0660b7976219\n"
     ]
    }
   ],
   "source": [
    "ont, url, ont_ndexgraph = ddot_pipeline(\n",
    "      alpha,\n",
    "      beta,\n",
    "      sim,\n",
    "      sim_names,\n",
    "      seed,\n",
    "      go_human,\n",
    "      node_attr=gene_drug,\n",
    "      name='Fanconi Anemia Gene Ontology (FanGO)',\n",
    "      expand_kwargs={'seed_perc':0, 'agg':'mean', 'figure':False},\n",
    "      ndex_kwargs={'ndex_user':ndex_user, 'ndex_pass':ndex_pass, 'ndex_server':ndex_server},\n",
    "      align_kwargs={'iterations':100, 'threads': 40},\n",
    "      verbose=True,\n",
    ")\n",
    "print url\n",
    "\n",
    "# Save to graphml\n",
    "nx.write_graphml(ont_ndexgraph, '/cellar/users/mikeyu/DeepTranslate/fango/fango.graphml')\n",
    "\n",
    "# Pickle ontology file\n",
    "ont.to_pickle('/cellar/users/mikeyu/DeepTranslate/fango/fango.pkl')\n",
    "\n",
    "# Save NDEx URL\n",
    "with open('/cellar/users/mikeyu/DeepTranslate/fango/fango.ndex_url.txt', 'w') as f:\n",
    "    f.write(url + '\\n')"
   ]
  },
  {
   "cell_type": "markdown",
   "metadata": {},
   "source": [
    "# Analysis"
   ]
  },
  {
   "cell_type": "code",
   "execution_count": 15,
   "metadata": {
    "ExecuteTime": {
     "end_time": "2017-09-25T16:49:40.217476Z",
     "start_time": "2017-09-25T16:49:16.295346Z"
    }
   },
   "outputs": [
    {
     "name": "stdout",
     "output_type": "stream",
     "text": [
      "min_sim: 5.20081410586\n",
      "Expanded gene set: 246\n",
      "temp output: /tmp/tmpiSgf7P\n",
      "temp graph: /tmp/tmpp4afdk\n",
      "temp output log: /tmp/tmpB1T8fh\n",
      "/tmp/tmpp4afdk\t0.1\t0.5\t-10000000 2017-09-25 09:49:16.770978\n",
      "CLIXO command: /cellar/users/mikeyu/DeepTranslate/ddot/ddot/mhk7-clixo_0.3-cec3674/clixo /tmp/tmpp4afdk 0.1 0.5 | awk '{if ( $1 ~ /^#/ ) {print \"\\#\", strftime(\"%Y-%m-%d %H:%M:%S\"), $0 ; fflush() } else {print $0}}' | tee /tmp/tmpB1T8fh\n",
      "Extracting by grep -v # 2017-09-25 09:49:17.862214\n",
      "Elapsed time (sec): 1.09697294235 2017-09-25 09:49:17.883452\n",
      "Ontology: 246 genes, 38 terms, 290 gene-term relations, 38 term-term relations\n",
      "node_attributes: \n",
      "edge_attributes: CLIXO_score\n",
      "collapse command: /cellar/users/mikeyu/alignOntology/collapseRedundantNodes /tmp/tmphRyC9j\n",
      "collapse command: /cellar/users/mikeyu/alignOntology/collapseRedundantNodes /tmp/tmpB7jnU4\n",
      "Alignment command: /cellar/users/mikeyu/DeepTranslate/ddot/ddot/alignOntology/calculateFDRs /tmp/tmpuSfuB7 /tmp/tmp6WxU2r 0.05 criss_cross /tmp/tmpoKLUjC 100 40 gene\n",
      "Alignment: 0 matches\n"
     ]
    },
    {
     "data": {
      "image/png": "[encoded data removed]",
      "text/plain": [
       "<matplotlib.figure.Figure at 0x7f6af51edd10>"
      ]
     },
     "metadata": {},
     "output_type": "display_data"
    }
   ],
   "source": [
    "ont, url, ont_ndexgraph, expand_results = ddot_pipeline(\n",
    "      alpha,\n",
    "      beta,\n",
    "      sim,\n",
    "      sim_names,\n",
    "      seed,\n",
    "      go_human,\n",
    "      node_attr=gene_drug,\n",
    "      name='Fanconi Anemia Gene Ontology (FanGO)',\n",
    "      expand_kwargs={'seed_perc':0, 'agg':'mean', 'figure':True},\n",
    "      ndex_kwargs={'ndex_user':ndex_user, 'ndex_pass':ndex_pass, 'ndex_server':ndex_server},\n",
    "      align_kwargs={'iterations':100, 'threads': 40},\n",
    "      verbose=True,\n",
    "      ndex=False\n",
    ")"
   ]
  },
  {
   "cell_type": "markdown",
   "metadata": {},
   "source": [
    "## Expand based on ranked similarities"
   ]
  },
  {
   "cell_type": "code",
   "execution_count": null,
   "metadata": {
    "ExecuteTime": {
     "start_time": "2017-09-25T17:56:21.866Z"
    }
   },
   "outputs": [
    {
     "name": "stdout",
     "output_type": "stream",
     "text": [
      "expand_kwargs keys: ['agg', 'sim_names', 'figure', 'sim', 'seed_perc']\n",
      "expand_kwargs keys: ['agg', 'sim_names', 'figure', 'sim', 'seed_perc']\n",
      "min_sim: 0.840498737374\n",
      "Expanded gene set: 429\n",
      "temp output: /tmp/tmpnabGj0\n",
      "temp graph: /tmp/tmpP8LDRd\n",
      "temp output log: /tmp/tmpGIIGJk\n",
      "/tmp/tmpP8LDRd\t0.05\t0.5\t-10000000 2017-09-25 10:56:21.812846\n",
      "CLIXO command: /cellar/users/mikeyu/DeepTranslate/ddot/ddot/mhk7-clixo_0.3-cec3674/clixo /tmp/tmpP8LDRd 0.05 0.5 | awk '{if ( $1 ~ /^#/ ) {print \"\\#\", strftime(\"%Y-%m-%d %H:%M:%S\"), $0 ; fflush() } else {print $0}}' | tee /tmp/tmpGIIGJk\n",
      "Extracting by grep -v # 2017-09-25 10:56:23.789202\n",
      "Elapsed time (sec): 1.97818112373 2017-09-25 10:56:23.806455\n",
      "Ontology: 429 genes, 146 terms, 876 gene-term relations, 173 term-term relations\n",
      "node_attributes: \n",
      "edge_attributes: CLIXO_score\n",
      "collapse command: /cellar/users/mikeyu/alignOntology/collapseRedundantNodes /tmp/tmpmu5J1C\n",
      "collapse command: /cellar/users/mikeyu/alignOntology/collapseRedundantNodes /tmp/tmp1crHOc\n",
      "Alignment command: /cellar/users/mikeyu/DeepTranslate/ddot/ddot/alignOntology/calculateFDRs /tmp/tmp2VdHcR /tmp/tmpXQB0eh 0.05 criss_cross /tmp/tmpATBmLT 2 3 gene\n",
      "Alignment: 80 matches\n"
     ]
    }
   ],
   "source": [
    "ont, url, ont_ndexgraph, expand_rank_results = ddot.utils.ddot_pipeline(\n",
    "      0.05,\n",
    "      beta,\n",
    "      sim,\n",
    "      sim_names,\n",
    "      seed,\n",
    "      go_human,\n",
    "      node_attr=gene_drug,\n",
    "      name='Fanconi Anemia Gene Ontology (FanGO)',\n",
    "      expand_kwargs={'sim': sim_rank.values, 'sim_names': sim_names, 'seed_perc':0, 'agg':'mean', 'figure':True},\n",
    "      ndex_kwargs={'ndex_user':'scratch', 'ndex_pass':'scratch', 'ndex_server':ndex_server},\n",
    "      align_kwargs={'iterations':2, 'threads': 3},\n",
    "      verbose=True,\n",
    "      ndex=True\n",
    ")\n",
    "\n",
    "print url\n",
    "\n",
    "basename = 'fango.rank.a_0.05'\n",
    "\n",
    "# Save to graphml\n",
    "nx.write_graphml(ont_ndexgraph, '/cellar/users/mikeyu/DeepTranslate/fango/%s.graphml' % basename)\n",
    "\n",
    "# # Pickle ontology file\n",
    "# ont.to_pickle('/cellar/users/mikeyu/DeepTranslate/fango/%s.pkl' % basename)\n",
    "\n",
    "# # Save NDEx URL\n",
    "# with open('/cellar/users/mikeyu/DeepTranslate/fango/fango.ndex_url.txt', 'w') as f:\n",
    "#     f.write(url + '\\n')"
   ]
  },
  {
   "cell_type": "code",
   "execution_count": 16,
   "metadata": {
    "ExecuteTime": {
     "end_time": "2017-09-25T17:52:21.525019Z",
     "start_time": "2017-09-25T17:52:20.359297Z"
    }
   },
   "outputs": [
    {
     "ename": "AttributeError",
     "evalue": "'NoneType' object has no attribute 'is_directed'",
     "output_type": "error",
     "traceback": [
      "\u001b[0;31m---------------------------------------------------------------------------\u001b[0m",
      "\u001b[0;31mAttributeError\u001b[0m                            Traceback (most recent call last)",
      "\u001b[0;32m<ipython-input-16-aaee471244f2>\u001b[0m in \u001b[0;36m<module>\u001b[0;34m()\u001b[0m\n\u001b[1;32m      2\u001b[0m \u001b[0;34m\u001b[0m\u001b[0m\n\u001b[1;32m      3\u001b[0m \u001b[0;31m# Save to graphml\u001b[0m\u001b[0;34m\u001b[0m\u001b[0;34m\u001b[0m\u001b[0m\n\u001b[0;32m----> 4\u001b[0;31m \u001b[0mnx\u001b[0m\u001b[0;34m.\u001b[0m\u001b[0mwrite_graphml\u001b[0m\u001b[0;34m(\u001b[0m\u001b[0mont_ndexgraph\u001b[0m\u001b[0;34m,\u001b[0m \u001b[0;34m'/cellar/users/mikeyu/DeepTranslate/fango/%s.graphml'\u001b[0m \u001b[0;34m%\u001b[0m \u001b[0mbasename\u001b[0m\u001b[0;34m)\u001b[0m\u001b[0;34m\u001b[0m\u001b[0m\n\u001b[0m",
      "\u001b[0;32m<decorator-gen-323>\u001b[0m in \u001b[0;36mwrite_graphml\u001b[0;34m(G, path, encoding, prettyprint)\u001b[0m\n",
      "\u001b[0;32m/cellar/users/mikeyu/anaconda2/lib/python2.7/site-packages/networkx/utils/decorators.pyc\u001b[0m in \u001b[0;36m_open_file\u001b[0;34m(func, *args, **kwargs)\u001b[0m\n\u001b[1;32m    218\u001b[0m         \u001b[0;31m# Finally, we call the original function, making sure to close the fobj.\u001b[0m\u001b[0;34m\u001b[0m\u001b[0;34m\u001b[0m\u001b[0m\n\u001b[1;32m    219\u001b[0m         \u001b[0;32mtry\u001b[0m\u001b[0;34m:\u001b[0m\u001b[0;34m\u001b[0m\u001b[0m\n\u001b[0;32m--> 220\u001b[0;31m             \u001b[0mresult\u001b[0m \u001b[0;34m=\u001b[0m \u001b[0mfunc\u001b[0m\u001b[0;34m(\u001b[0m\u001b[0;34m*\u001b[0m\u001b[0mnew_args\u001b[0m\u001b[0;34m,\u001b[0m \u001b[0;34m**\u001b[0m\u001b[0mkwargs\u001b[0m\u001b[0;34m)\u001b[0m\u001b[0;34m\u001b[0m\u001b[0m\n\u001b[0m\u001b[1;32m    221\u001b[0m         \u001b[0;32mfinally\u001b[0m\u001b[0;34m:\u001b[0m\u001b[0;34m\u001b[0m\u001b[0m\n\u001b[1;32m    222\u001b[0m             \u001b[0;32mif\u001b[0m \u001b[0mclose_fobj\u001b[0m\u001b[0;34m:\u001b[0m\u001b[0;34m\u001b[0m\u001b[0m\n",
      "\u001b[0;32m/cellar/users/mikeyu/anaconda2/lib/python2.7/site-packages/networkx/readwrite/graphml.pyc\u001b[0m in \u001b[0;36mwrite_graphml\u001b[0;34m(G, path, encoding, prettyprint)\u001b[0m\n\u001b[1;32m     80\u001b[0m     \"\"\"\n\u001b[1;32m     81\u001b[0m     \u001b[0mwriter\u001b[0m \u001b[0;34m=\u001b[0m \u001b[0mGraphMLWriter\u001b[0m\u001b[0;34m(\u001b[0m\u001b[0mencoding\u001b[0m\u001b[0;34m=\u001b[0m\u001b[0mencoding\u001b[0m\u001b[0;34m,\u001b[0m\u001b[0mprettyprint\u001b[0m\u001b[0;34m=\u001b[0m\u001b[0mprettyprint\u001b[0m\u001b[0;34m)\u001b[0m\u001b[0;34m\u001b[0m\u001b[0m\n\u001b[0;32m---> 82\u001b[0;31m     \u001b[0mwriter\u001b[0m\u001b[0;34m.\u001b[0m\u001b[0madd_graph_element\u001b[0m\u001b[0;34m(\u001b[0m\u001b[0mG\u001b[0m\u001b[0;34m)\u001b[0m\u001b[0;34m\u001b[0m\u001b[0m\n\u001b[0m\u001b[1;32m     83\u001b[0m     \u001b[0mwriter\u001b[0m\u001b[0;34m.\u001b[0m\u001b[0mdump\u001b[0m\u001b[0;34m(\u001b[0m\u001b[0mpath\u001b[0m\u001b[0;34m)\u001b[0m\u001b[0;34m\u001b[0m\u001b[0m\n\u001b[1;32m     84\u001b[0m \u001b[0;34m\u001b[0m\u001b[0m\n",
      "\u001b[0;32m/cellar/users/mikeyu/anaconda2/lib/python2.7/site-packages/networkx/readwrite/graphml.pyc\u001b[0m in \u001b[0;36madd_graph_element\u001b[0;34m(self, G)\u001b[0m\n\u001b[1;32m    330\u001b[0m         \u001b[0mSerialize\u001b[0m \u001b[0mgraph\u001b[0m \u001b[0mG\u001b[0m \u001b[0;32min\u001b[0m \u001b[0mGraphML\u001b[0m \u001b[0mto\u001b[0m \u001b[0mthe\u001b[0m \u001b[0mstream\u001b[0m\u001b[0;34m.\u001b[0m\u001b[0;34m\u001b[0m\u001b[0m\n\u001b[1;32m    331\u001b[0m         \"\"\"\n\u001b[0;32m--> 332\u001b[0;31m         \u001b[0;32mif\u001b[0m \u001b[0mG\u001b[0m\u001b[0;34m.\u001b[0m\u001b[0mis_directed\u001b[0m\u001b[0;34m(\u001b[0m\u001b[0;34m)\u001b[0m\u001b[0;34m:\u001b[0m\u001b[0;34m\u001b[0m\u001b[0m\n\u001b[0m\u001b[1;32m    333\u001b[0m             \u001b[0mdefault_edge_type\u001b[0m\u001b[0;34m=\u001b[0m\u001b[0;34m'directed'\u001b[0m\u001b[0;34m\u001b[0m\u001b[0m\n\u001b[1;32m    334\u001b[0m         \u001b[0;32melse\u001b[0m\u001b[0;34m:\u001b[0m\u001b[0;34m\u001b[0m\u001b[0m\n",
      "\u001b[0;31mAttributeError\u001b[0m: 'NoneType' object has no attribute 'is_directed'"
     ]
    }
   ],
   "source": [
    "basename = 'fango.rank.a_0.05'\n",
    "\n",
    "# Save to graphml\n",
    "nx.write_graphml(ont_ndexgraph, '/cellar/users/mikeyu/DeepTranslate/fango/%s.graphml' % basename)"
   ]
  },
  {
   "cell_type": "markdown",
   "metadata": {},
   "source": [
    "## Analyze drugs (doramapimod, danazol, tremulacin, resveratrol) in \n",
    "\n",
    "Modelling Fanconi anemia pathogenesis and therapeutics using integration-free patient-derived iPSCs\n",
    "\n",
    "Guang-Hui Liu, Keiichiro Suzuki[…]Juan Carlos Izpisua Belmonte\n",
    "\n",
    "Nat Comm 2014\n",
    "\n",
    "https://www.nature.com/articles/ncomms5330"
   ]
  },
  {
   "cell_type": "code",
   "execution_count": 59,
   "metadata": {
    "ExecuteTime": {
     "end_time": "2017-09-14T23:25:33.983639Z",
     "start_time": "2017-09-14T23:25:33.937115Z"
    }
   },
   "outputs": [
    {
     "name": "stdout",
     "output_type": "stream",
     "text": [
      "--------------\n",
      "DORAMAPIMOD\n",
      "----------------\n",
      "MAPK14 4.7347316969\n",
      "--------------\n",
      "DANAZOL\n",
      "--------------------\n",
      "ESR1 4.18767324569\n",
      "AR 4.24415533601\n",
      "PGR 3.95895529765\n",
      "GNRHR 3.71385777327\n",
      "GNRHR2 None\n",
      "CCL2 4.05967928262\n",
      "--------------\n",
      "RESVERATROL\n",
      "--------------------\n",
      "NQO2 4.05970725904\n",
      "CSNK2A1 4.47084835889\n",
      "PTGS1 4.27848051557\n",
      "PTGS2 4.03183188885\n",
      "ALOX15 3.50135926612\n",
      "ALOX5 4.540854534\n",
      "AHR 4.32784587545\n",
      "PI4K2B 3.76117958109\n",
      "ITGA5 4.08251866356\n",
      "ITGB3 4.20139344358\n",
      "APP 4.65135539059\n",
      "SNCA 4.22859744509\n",
      "ESR1 4.18767324569\n",
      "MTNR1A 3.10433967927\n",
      "MTNR1B 3.77106802382\n",
      "CLEC14A 2.67376263885\n",
      "NR1I2 3.94983589403\n",
      "NR1I3 3.22243732039\n",
      "SLC2A1 4.46799776057\n",
      "CBR1 4.08947881991\n",
      "PPARA 3.94621490134\n",
      "PPARG 3.7372701393\n",
      "AKT1 4.4181894815\n",
      "KHSRP 4.98514756052\n",
      "YARS 4.48174374576\n"
     ]
    }
   ],
   "source": [
    "sim_names_2_index = ddot.make_index(sim_names)\n",
    "doramapimod_targets = ['MAPK14']\n",
    "\n",
    "# for g in ['MAPK14', 'SIRT1']:\n",
    "print '--------------\\nDORAMAPIMOD\\n----------------'\n",
    "for g in doramapimod_targets:\n",
    "    print g, expand_results['sim_2_seed'][sim_names_2_index[g]]\n",
    "print '--------------\\nDANAZOL\\n--------------------'\n",
    "for g in danazol_targets:\n",
    "    if sim_names_2_index.has_key(g):\n",
    "        print g, expand_results['sim_2_seed'][sim_names_2_index[g]]\n",
    "    else:\n",
    "        print g, None\n",
    "print '--------------\\nRESVERATROL\\n--------------------'\n",
    "for prot in resveratrol_targets:\n",
    "    g = uniprot_2_symbol[prot]\n",
    "    print g, expand_results['sim_2_seed'][sim_names_2_index[g]]    "
   ]
  },
  {
   "cell_type": "code",
   "execution_count": 55,
   "metadata": {
    "ExecuteTime": {
     "end_time": "2017-09-14T23:23:54.347636Z",
     "start_time": "2017-09-14T23:23:54.223096Z"
    }
   },
   "outputs": [
    {
     "data": {
      "text/plain": [
       "[u'ESR1', u'AR', u'PGR', u'GNRHR', 'GNRHR2', u'CCL2']"
      ]
     },
     "execution_count": 55,
     "metadata": {},
     "output_type": "execute_result"
    }
   ],
   "source": [
    "danazol_uniprot = '''P03372\n",
    "P10275\n",
    "P06401\n",
    "P30968\n",
    "Q96P88\n",
    "P13500'''.splitlines()\n",
    "tmp = get_gene_name_converter(danazol_uniprot, scopes='uniprot', fields='symbol', species='human')\n",
    "tmp['Q96P88'] = 'GNRHR2' # from https://www.phosphosite.org/proteinAction?id=6648&showAllSites=true\n",
    "danazol_targets = [tmp[x] for x in danazol_uniprot]\n",
    "danazol_targets"
   ]
  },
  {
   "cell_type": "code",
   "execution_count": 52,
   "metadata": {
    "ExecuteTime": {
     "end_time": "2017-09-14T20:14:48.392558Z",
     "start_time": "2017-09-14T20:14:48.237185Z"
    },
    "collapsed": true
   },
   "outputs": [],
   "source": [
    "resveratrol_uniprot = '''P16083\n",
    "P68400\n",
    "P23219\n",
    "P35354\n",
    "P16050\n",
    "P09917\n",
    "P35869\n",
    "Q8TCG2\n",
    "P08648\n",
    "P05106\n",
    "P05067\n",
    "P37840\n",
    "P03372\n",
    "P48039\n",
    "P49286\n",
    "Q86T13\n",
    "O75469\n",
    "Q14994\n",
    "P11166\n",
    "P16152\n",
    "Q07869\n",
    "P37231\n",
    "P31749\n",
    "Q92945\n",
    "P54577'''.splitlines()\n",
    "tmp = get_gene_name_converter(resveratrol_uniprot, scopes='uniprot', fields='symbol', species='human')\n",
    "reveratrol_targets = [tmp[x] for x in resveratrol_uniprot]"
   ]
  },
  {
   "cell_type": "code",
   "execution_count": 14,
   "metadata": {
    "ExecuteTime": {
     "end_time": "2017-09-14T19:07:39.463132Z",
     "start_time": "2017-09-14T19:07:39.417315Z"
    }
   },
   "outputs": [
    {
     "data": {
      "text/html": [
       "<div>\n",
       "<style>\n",
       "    .dataframe thead tr:only-child th {\n",
       "        text-align: right;\n",
       "    }\n",
       "\n",
       "    .dataframe thead th {\n",
       "        text-align: left;\n",
       "    }\n",
       "\n",
       "    .dataframe tbody tr th {\n",
       "        vertical-align: top;\n",
       "    }\n",
       "</style>\n",
       "<table border=\"1\" class=\"dataframe\">\n",
       "  <thead>\n",
       "    <tr style=\"text-align: right;\">\n",
       "      <th></th>\n",
       "      <th>drug</th>\n",
       "      <th>has_drug</th>\n",
       "    </tr>\n",
       "    <tr>\n",
       "      <th>gene</th>\n",
       "      <th></th>\n",
       "      <th></th>\n",
       "    </tr>\n",
       "  </thead>\n",
       "  <tbody>\n",
       "    <tr>\n",
       "      <th>AURKB</th>\n",
       "      <td>axitinib</td>\n",
       "      <td>True</td>\n",
       "    </tr>\n",
       "    <tr>\n",
       "      <th>DNMT1</th>\n",
       "      <td>azacitidine,decitabine</td>\n",
       "      <td>True</td>\n",
       "    </tr>\n",
       "    <tr>\n",
       "      <th>MELK</th>\n",
       "      <td>nintedanib</td>\n",
       "      <td>True</td>\n",
       "    </tr>\n",
       "    <tr>\n",
       "      <th>PARP1</th>\n",
       "      <td>rucaparib,olaparib,niraparib</td>\n",
       "      <td>True</td>\n",
       "    </tr>\n",
       "    <tr>\n",
       "      <th>PARP2</th>\n",
       "      <td>rucaparib,olaparib,niraparib</td>\n",
       "      <td>True</td>\n",
       "    </tr>\n",
       "    <tr>\n",
       "      <th>PLK4</th>\n",
       "      <td>axitinib</td>\n",
       "      <td>True</td>\n",
       "    </tr>\n",
       "    <tr>\n",
       "      <th>POLA1</th>\n",
       "      <td>cytarabine,clofarabine,fludarabine phosphate,g...</td>\n",
       "      <td>True</td>\n",
       "    </tr>\n",
       "    <tr>\n",
       "      <th>POLD1</th>\n",
       "      <td>cytarabine,gemcitabine</td>\n",
       "      <td>True</td>\n",
       "    </tr>\n",
       "    <tr>\n",
       "      <th>PPAT</th>\n",
       "      <td>mercaptopurine</td>\n",
       "      <td>True</td>\n",
       "    </tr>\n",
       "    <tr>\n",
       "      <th>RRM1</th>\n",
       "      <td>hydroxycarbamide,clofarabine,gemcitabine</td>\n",
       "      <td>True</td>\n",
       "    </tr>\n",
       "    <tr>\n",
       "      <th>RRM2</th>\n",
       "      <td>hydroxycarbamide,clofarabine,gemcitabine</td>\n",
       "      <td>True</td>\n",
       "    </tr>\n",
       "    <tr>\n",
       "      <th>TOP2A</th>\n",
       "      <td>valrubicin,doxorubicin,teniposide,daunorubicin...</td>\n",
       "      <td>True</td>\n",
       "    </tr>\n",
       "    <tr>\n",
       "      <th>TTK</th>\n",
       "      <td>nintedanib</td>\n",
       "      <td>True</td>\n",
       "    </tr>\n",
       "    <tr>\n",
       "      <th>TYMS</th>\n",
       "      <td>capecitabine,pemetrexed,fluorouracil,floxuridine</td>\n",
       "      <td>True</td>\n",
       "    </tr>\n",
       "  </tbody>\n",
       "</table>\n",
       "</div>"
      ],
      "text/plain": [
       "                                                    drug has_drug\n",
       "gene                                                             \n",
       "AURKB                                           axitinib     True\n",
       "DNMT1                             azacitidine,decitabine     True\n",
       "MELK                                          nintedanib     True\n",
       "PARP1                       rucaparib,olaparib,niraparib     True\n",
       "PARP2                       rucaparib,olaparib,niraparib     True\n",
       "PLK4                                            axitinib     True\n",
       "POLA1  cytarabine,clofarabine,fludarabine phosphate,g...     True\n",
       "POLD1                             cytarabine,gemcitabine     True\n",
       "PPAT                                      mercaptopurine     True\n",
       "RRM1            hydroxycarbamide,clofarabine,gemcitabine     True\n",
       "RRM2            hydroxycarbamide,clofarabine,gemcitabine     True\n",
       "TOP2A  valrubicin,doxorubicin,teniposide,daunorubicin...     True\n",
       "TTK                                           nintedanib     True\n",
       "TYMS    capecitabine,pemetrexed,fluorouracil,floxuridine     True"
      ]
     },
     "execution_count": 14,
     "metadata": {},
     "output_type": "execute_result"
    }
   ],
   "source": [
    "# Genes in fango with drugs\n",
    "gene_drug.loc[ont.genes].dropna()"
   ]
  },
  {
   "cell_type": "markdown",
   "metadata": {},
   "source": [
    "## Analysis of autophagy paper\n",
    "Sumpter 2016 Cell\n",
    "http://www.sciencedirect.com/science/article/pii/S009286741630397X?via%3Dihub\n",
    "\n",
    "Review of selective autophagy processes by Jean Claude and Subramani\n",
    "https://www.nature.com/nrm/journal/v17/n9/fig_tab/nrm.2016.74_T2.html"
   ]
  },
  {
   "cell_type": "code",
   "execution_count": 108,
   "metadata": {
    "ExecuteTime": {
     "end_time": "2017-09-15T00:34:07.231916Z",
     "start_time": "2017-09-15T00:33:59.674790Z"
    }
   },
   "outputs": [
    {
     "data": {
      "text/plain": [
       "<ddot.Ontology.Ontology instance at 0x7fdd2d97f320>"
      ]
     },
     "execution_count": 108,
     "metadata": {},
     "output_type": "execute_result"
    }
   ],
   "source": [
    "go_human.propagate_annotations(inplace=True)"
   ]
  },
  {
   "cell_type": "code",
   "execution_count": null,
   "metadata": {
    "collapsed": true
   },
   "outputs": [],
   "source": [
    "sim_df = pd.DataFrame(sim, columns=sim_names, index=sim_names)"
   ]
  },
  {
   "cell_type": "code",
   "execution_count": 104,
   "metadata": {
    "ExecuteTime": {
     "end_time": "2017-09-15T00:22:04.518029Z",
     "start_time": "2017-09-15T00:22:00.158063Z"
    }
   },
   "outputs": [
    {
     "data": {
      "text/plain": [
       "<matplotlib.axes._subplots.AxesSubplot at 0x7fdd2eda1350>"
      ]
     },
     "execution_count": 104,
     "metadata": {},
     "output_type": "execute_result"
    },
    {
     "data": {
      "image/png": "[encoded data removed]",
      "text/plain": [
       "<matplotlib.figure.Figure at 0x7fdd2e023c50>"
      ]
     },
     "metadata": {},
     "output_type": "display_data"
    }
   ],
   "source": [
    "sim_flat = sim[np.triu_indices(sim.shape[0], k=1)]\n",
    "sns.distplot(np.random.choice(sim_flat, 100000))"
   ]
  },
  {
   "cell_type": "markdown",
   "metadata": {},
   "source": [
    "### Autophagy term"
   ]
  },
  {
   "cell_type": "code",
   "execution_count": 167,
   "metadata": {
    "ExecuteTime": {
     "end_time": "2017-09-15T21:29:18.307102Z",
     "start_time": "2017-09-15T21:29:17.536092Z"
    }
   },
   "outputs": [
    {
     "name": "stdout",
     "output_type": "stream",
     "text": [
      "Autophagy genes: 470\n"
     ]
    },
    {
     "data": {
      "text/plain": [
       "[<matplotlib.text.Text at 0x7fdd28a5f890>,\n",
       " <matplotlib.text.Text at 0x7fdd2b46c390>]"
      ]
     },
     "execution_count": 167,
     "metadata": {},
     "output_type": "execute_result"
    },
    {
     "data": {
      "image/png": "[encoded data removed]",
      "text/plain": [
       "<matplotlib.figure.Figure at 0x7fdd28995950>"
      ]
     },
     "metadata": {},
     "output_type": "display_data"
    }
   ],
   "source": [
    "# Autophagy term\n",
    "print 'Autophagy genes:', len([go_human.genes[g] for g in go_human.term_2_gene['GO:0006914']])\n",
    "fig = plt.figure(figsize=(6, 4))\n",
    "ax = sns.distplot(sim_df['FANCC'], kde=False, norm_hist=True)\n",
    "ax = sns.distplot(sim_df.loc[[go_human.genes[g] for g in go_human.term_2_gene['GO:0006914']], 'FANCC'].dropna(), kde=False, norm_hist=True)\n",
    "ax.set(xlabel='Data-derived similarity to FANCC', ylabel='Probability density of genes')"
   ]
  },
  {
   "cell_type": "code",
   "execution_count": 168,
   "metadata": {
    "ExecuteTime": {
     "end_time": "2017-09-15T21:31:56.596756Z",
     "start_time": "2017-09-15T21:31:56.577019Z"
    }
   },
   "outputs": [
    {
     "data": {
      "text/plain": [
       "CAPN1     7.328646\n",
       "HSPA8     7.572541\n",
       "RPS27A    7.077502\n",
       "UBA52     6.989941\n",
       "UBB       6.992048\n",
       "UBC       7.079985\n",
       "Name: FANCC, dtype: float64"
      ]
     },
     "execution_count": 168,
     "metadata": {},
     "output_type": "execute_result"
    }
   ],
   "source": [
    "df = sim_df.loc[[go_human.genes[g] for g in go_human.term_2_gene['GO:0006914']], 'FANCC']\n",
    "df[df > 6.9]"
   ]
  },
  {
   "cell_type": "markdown",
   "metadata": {},
   "source": [
    "### Mitophagy term"
   ]
  },
  {
   "cell_type": "code",
   "execution_count": 102,
   "metadata": {
    "ExecuteTime": {
     "end_time": "2017-09-15T00:21:45.009095Z",
     "start_time": "2017-09-15T00:21:44.688193Z"
    }
   },
   "outputs": [
    {
     "name": "stdout",
     "output_type": "stream",
     "text": [
      "Mitophagy genes: 88\n"
     ]
    },
    {
     "data": {
      "text/plain": [
       "<matplotlib.axes._subplots.AxesSubplot at 0x7fdd2e7cf1d0>"
      ]
     },
     "execution_count": 102,
     "metadata": {},
     "output_type": "execute_result"
    },
    {
     "data": {
      "image/png": "[encoded data removed]",
      "text/plain": [
       "<matplotlib.figure.Figure at 0x7fdd2dcb7990>"
      ]
     },
     "metadata": {},
     "output_type": "display_data"
    }
   ],
   "source": [
    "# Mitophagy term, GO:0000422\n",
    "print 'Mitophagy genes:', len([go_human.genes[g] for g in go_human.term_2_gene['GO:0000422']])\n",
    "sns.distplot(sim_df['FANCC'], kde=False, norm_hist=True)\n",
    "sns.distplot(sim_df.loc[[go_human.genes[g] for g in go_human.term_2_gene['GO:0000422']], 'FANCC'].dropna(), kde=False, norm_hist=True)"
   ]
  },
  {
   "cell_type": "code",
   "execution_count": 169,
   "metadata": {
    "ExecuteTime": {
     "end_time": "2017-09-15T21:36:54.519779Z",
     "start_time": "2017-09-15T21:36:52.553772Z"
    }
   },
   "outputs": [
    {
     "name": "stdout",
     "output_type": "stream",
     "text": [
      "           FANCC      Rank\n",
      "PARK2   4.327426  0.781972\n",
      "TOMM20  4.619613  0.847994\n",
      "ATP5B   4.999000  0.918945\n",
      "HSPD1   4.800671  0.884095\n",
      "COX4I1  5.361087  0.965312\n"
     ]
    },
    {
     "data": {
      "text/plain": [
       "[<matplotlib.text.Text at 0x7fdd25163c90>,\n",
       " <matplotlib.text.Text at 0x7fdd248abc90>]"
      ]
     },
     "execution_count": 169,
     "metadata": {},
     "output_type": "execute_result"
    },
    {
     "data": {
      "image/png": "[encoded data removed]",
      "text/plain": [
       "<matplotlib.figure.Figure at 0x7fdd2fcbfb90>"
      ]
     },
     "metadata": {},
     "output_type": "display_data"
    }
   ],
   "source": [
    "# PARK2 = Parkin, which mediates mitophagy\n",
    "# TOMM20, ATP5B, HSP60 (aka HSPD1), COXIV (aka COX4I1)\n",
    "# Mitochondria localization markers: as measured by quantitation of TOMM20 (outer mitochondrial membrane protein) and ATP5B (mitochondrial matrix protein) puncta (Figures 3A and 3B) or by western blot detection of TOMM20, HSP60 (mitochondrial matrix protein), and COXIV (inner mitochondrial membrane protein)\n",
    "df = sim_df.loc[['PARK2', 'TOMM20', 'ATP5B', 'HSPD1', 'COX4I1'], ['FANCC']]\n",
    "df['Rank'] = df.apply(lambda x: (x['FANCC'] > sim_flat).sum() / float(sim_flat.size), axis=1)\n",
    "print df\n",
    "mitophagy_df = df\n",
    "\n",
    "fig = plt.figure(figsize=(6, 4))\n",
    "ax = sns.distplot(sim_df['FANCC'], kde=False, norm_hist=False)\n",
    "ax.vlines(df['FANCC'].values, 0, 1400)\n",
    "ax.set(xlabel='Data-derived similarity to FANCC', ylabel='Number of genes')\n",
    "# fig.savefig('/cellar/users/mikeyu/public_html/tmp.png')"
   ]
  },
  {
   "cell_type": "code",
   "execution_count": 175,
   "metadata": {
    "ExecuteTime": {
     "end_time": "2017-09-15T21:39:40.106953Z",
     "start_time": "2017-09-15T21:39:40.096843Z"
    }
   },
   "outputs": [
    {
     "data": {
      "text/plain": [
       "[False, False, False, False, False]"
      ]
     },
     "execution_count": 175,
     "metadata": {},
     "output_type": "execute_result"
    }
   ],
   "source": [
    "[x in ont.genes for x in ['PARK2', 'TOMM20', 'ATP5B', 'HSPD1', 'COX4I1']]"
   ]
  },
  {
   "cell_type": "markdown",
   "metadata": {},
   "source": [
    "### Xenophagy"
   ]
  },
  {
   "cell_type": "code",
   "execution_count": 101,
   "metadata": {
    "ExecuteTime": {
     "end_time": "2017-09-15T00:21:19.928105Z",
     "start_time": "2017-09-15T00:21:19.555147Z"
    }
   },
   "outputs": [
    {
     "name": "stdout",
     "output_type": "stream",
     "text": [
      "Xenophagy genes: 10\n"
     ]
    },
    {
     "data": {
      "text/plain": [
       "<matplotlib.axes._subplots.AxesSubplot at 0x7fdd24830210>"
      ]
     },
     "execution_count": 101,
     "metadata": {},
     "output_type": "execute_result"
    },
    {
     "data": {
      "image/png": "[encoded data removed]",
      "text/plain": [
       "<matplotlib.figure.Figure at 0x7fdd304d0b10>"
      ]
     },
     "metadata": {},
     "output_type": "display_data"
    }
   ],
   "source": [
    "# Xenophagy term, GO:0098792\n",
    "# Closest term to the concept of virophagy\n",
    "print 'Xenophagy genes:', len([go_human.genes[g] for g in go_human.term_2_gene['GO:0098792']])\n",
    "sns.distplot(sim_df['FANCC'], kde=False, norm_hist=True)\n",
    "sns.distplot(sim_df.loc[[go_human.genes[g] for g in go_human.term_2_gene['GO:0098792']], 'FANCC'].dropna(), kde=False, norm_hist=True)"
   ]
  },
  {
   "cell_type": "code",
   "execution_count": 173,
   "metadata": {
    "ExecuteTime": {
     "end_time": "2017-09-15T21:38:28.395655Z",
     "start_time": "2017-09-15T21:38:28.018899Z"
    }
   },
   "outputs": [
    {
     "name": "stdout",
     "output_type": "stream",
     "text": [
      "           FANCC\n",
      "TRIM5   2.864414\n",
      "SMURF1  3.968265\n"
     ]
    },
    {
     "data": {
      "text/plain": [
       "[<matplotlib.text.Text at 0x7fdd2500d110>,\n",
       " <matplotlib.text.Text at 0x7fdd270f8110>]"
      ]
     },
     "execution_count": 173,
     "metadata": {},
     "output_type": "execute_result"
    },
    {
     "data": {
      "image/png": "[encoded data removed]",
      "text/plain": [
       "<matplotlib.figure.Figure at 0x7fdd28a4b550>"
      ]
     },
     "metadata": {},
     "output_type": "display_data"
    }
   ],
   "source": [
    "# from Sumppter 2016 Cell.\n",
    "# p62, SMURF1 are two proteins in mediating virophagy against the virus SIN\n",
    "# p62 = TRIM5\n",
    "df = sim_df.loc[['TRIM5', 'SMURF1'], ['FANCC']]\n",
    "print df\n",
    "\n",
    "fig = plt.figure(figsize=(6, 4))\n",
    "ax = sns.distplot(sim_df['FANCC'], kde=False, norm_hist=False, color='grey')\n",
    "ax.vlines(df['FANCC'].values, 0, 1400, color='red')\n",
    "ax.vlines(mitophagy_df['FANCC'].values, 0, 1400, color='blue')\n",
    "ax.set(xlabel='Data-derived similarity to FANCC', ylabel='Number of genes')"
   ]
  },
  {
   "cell_type": "markdown",
   "metadata": {},
   "source": [
    "## Analyze alcohol metabolism\n",
    "\n",
    "Alcohol Dehydrogenase (ALD) and Aldehyde Dehydrogenase (ADLH) genes are reviewed in Edenberg Alcohol Res Health 2007\n",
    "https://www.ncbi.nlm.nih.gov/pmc/articles/PMC3860432/"
   ]
  },
  {
   "cell_type": "code",
   "execution_count": 305,
   "metadata": {
    "ExecuteTime": {
     "end_time": "2017-09-25T13:11:55.443213Z",
     "start_time": "2017-09-25T13:11:55.031531Z"
    }
   },
   "outputs": [
    {
     "data": {
      "text/plain": [
       "[<matplotlib.text.Text at 0x7fdd2a08b110>,\n",
       " <matplotlib.text.Text at 0x7fdd295b75d0>]"
      ]
     },
     "execution_count": 305,
     "metadata": {},
     "output_type": "execute_result"
    },
    {
     "data": {
      "image/png": "[encoded data removed]",
      "text/plain": [
       "<matplotlib.figure.Figure at 0x7fdd2a478c10>"
      ]
     },
     "metadata": {},
     "output_type": "display_data"
    }
   ],
   "source": [
    "sim_names_2_index = ddot.make_index(sim_names)\n",
    "indices = [x for x in [sim_names_2_index.get(go_human.genes[g], None) for g in go_human.term_2_gene['GO:0006066']] if x is not None]\n",
    "ax = sns.distplot(expand_results['sim_2_seed'], kde=False, norm_hist=True)\n",
    "ax = sns.distplot(expand_results['sim_2_seed'][indices], kde=False, norm_hist=True)\n",
    "ax.set(xlabel='Data-derived similarity to 20 known Fanconi Anemia genes', ylabel='Probability density of genes')\n",
    "# sns.distplot(sim_df['FANCC'], kde=False, norm_hist=True)\n",
    "# sns.distplot(sim_df.loc[[go_human.genes[g] for g in go_human.term_2_gene['GO:0006066']], ['FANCC']].dropna())"
   ]
  },
  {
   "cell_type": "code",
   "execution_count": 177,
   "metadata": {
    "ExecuteTime": {
     "end_time": "2017-09-15T21:40:00.147230Z",
     "start_time": "2017-09-15T21:40:00.133609Z"
    }
   },
   "outputs": [
    {
     "data": {
      "text/plain": [
       "['LBR']"
      ]
     },
     "execution_count": 177,
     "metadata": {},
     "output_type": "execute_result"
    }
   ],
   "source": [
    "[g for g in [go_human.genes[g] for g in go_human.term_2_gene['GO:0006066']] if g in ont.genes]"
   ]
  },
  {
   "cell_type": "markdown",
   "metadata": {},
   "source": [
    "# Analyze RFWD3\n",
    "New gene that is a E3 ubiquitin ligase"
   ]
  },
  {
   "cell_type": "code",
   "execution_count": 187,
   "metadata": {
    "ExecuteTime": {
     "end_time": "2017-09-23T01:41:37.075373Z",
     "start_time": "2017-09-23T01:41:37.064877Z"
    }
   },
   "outputs": [
    {
     "data": {
      "text/plain": [
       "4.9358252716196418"
      ]
     },
     "execution_count": 187,
     "metadata": {},
     "output_type": "execute_result"
    }
   ],
   "source": [
    "expand_results['sim_2_seed'][(sim_names == 'RFWD3').nonzero()[0][0]]"
   ]
  },
  {
   "cell_type": "code",
   "execution_count": 258,
   "metadata": {
    "ExecuteTime": {
     "end_time": "2017-09-23T04:00:43.003054Z",
     "start_time": "2017-09-23T04:00:42.748330Z"
    }
   },
   "outputs": [
    {
     "data": {
      "text/html": [
       "<div>\n",
       "<style>\n",
       "    .dataframe thead tr:only-child th {\n",
       "        text-align: right;\n",
       "    }\n",
       "\n",
       "    .dataframe thead th {\n",
       "        text-align: left;\n",
       "    }\n",
       "\n",
       "    .dataframe tbody tr th {\n",
       "        vertical-align: top;\n",
       "    }\n",
       "</style>\n",
       "<table border=\"1\" class=\"dataframe\">\n",
       "  <thead>\n",
       "    <tr style=\"text-align: right;\">\n",
       "      <th></th>\n",
       "      <th>FANCA</th>\n",
       "      <th>FANCB</th>\n",
       "      <th>FANCC</th>\n",
       "      <th>BRCA2</th>\n",
       "      <th>FANCD2</th>\n",
       "      <th>FANCE</th>\n",
       "      <th>FANCF</th>\n",
       "      <th>FANCG</th>\n",
       "      <th>FANCI</th>\n",
       "      <th>BRIP1</th>\n",
       "      <th>FANCL</th>\n",
       "      <th>FANCM</th>\n",
       "      <th>PALB2</th>\n",
       "      <th>RAD51C</th>\n",
       "      <th>SLX4</th>\n",
       "      <th>ERCC4</th>\n",
       "      <th>RAD51</th>\n",
       "      <th>BRCA1</th>\n",
       "      <th>UBE2T</th>\n",
       "      <th>XRCC2</th>\n",
       "    </tr>\n",
       "  </thead>\n",
       "  <tbody>\n",
       "    <tr>\n",
       "      <th>FANCA_sim</th>\n",
       "      <td>0.000000</td>\n",
       "      <td>7.665104</td>\n",
       "      <td>8.127575</td>\n",
       "      <td>6.414759</td>\n",
       "      <td>7.131968</td>\n",
       "      <td>8.107625</td>\n",
       "      <td>8.133525</td>\n",
       "      <td>8.114880</td>\n",
       "      <td>7.623168</td>\n",
       "      <td>7.191518</td>\n",
       "      <td>7.915455</td>\n",
       "      <td>7.686853</td>\n",
       "      <td>4.919861</td>\n",
       "      <td>5.698090</td>\n",
       "      <td>7.281170</td>\n",
       "      <td>7.449128</td>\n",
       "      <td>6.185612</td>\n",
       "      <td>8.123561</td>\n",
       "      <td>7.017165</td>\n",
       "      <td>6.287984</td>\n",
       "    </tr>\n",
       "    <tr>\n",
       "      <th>FANCA_sim_perc</th>\n",
       "      <td>0.000000</td>\n",
       "      <td>0.999579</td>\n",
       "      <td>0.999842</td>\n",
       "      <td>0.992161</td>\n",
       "      <td>0.996317</td>\n",
       "      <td>0.999842</td>\n",
       "      <td>0.999895</td>\n",
       "      <td>0.999947</td>\n",
       "      <td>0.999790</td>\n",
       "      <td>0.998948</td>\n",
       "      <td>0.999737</td>\n",
       "      <td>0.999000</td>\n",
       "      <td>0.982271</td>\n",
       "      <td>0.965173</td>\n",
       "      <td>0.997685</td>\n",
       "      <td>0.998737</td>\n",
       "      <td>0.986164</td>\n",
       "      <td>0.997685</td>\n",
       "      <td>0.997843</td>\n",
       "      <td>0.996423</td>\n",
       "    </tr>\n",
       "    <tr>\n",
       "      <th>FANCB_sim</th>\n",
       "      <td>7.665104</td>\n",
       "      <td>0.000000</td>\n",
       "      <td>6.771049</td>\n",
       "      <td>4.947805</td>\n",
       "      <td>7.430605</td>\n",
       "      <td>7.123895</td>\n",
       "      <td>7.137596</td>\n",
       "      <td>7.876083</td>\n",
       "      <td>7.144021</td>\n",
       "      <td>4.253695</td>\n",
       "      <td>7.666925</td>\n",
       "      <td>7.754939</td>\n",
       "      <td>3.136707</td>\n",
       "      <td>3.893176</td>\n",
       "      <td>7.336919</td>\n",
       "      <td>6.774013</td>\n",
       "      <td>3.752006</td>\n",
       "      <td>4.290523</td>\n",
       "      <td>7.382528</td>\n",
       "      <td>4.289215</td>\n",
       "    </tr>\n",
       "    <tr>\n",
       "      <th>FANCB_sim_perc</th>\n",
       "      <td>0.998632</td>\n",
       "      <td>0.000000</td>\n",
       "      <td>0.997317</td>\n",
       "      <td>0.698074</td>\n",
       "      <td>0.998053</td>\n",
       "      <td>0.998790</td>\n",
       "      <td>0.999053</td>\n",
       "      <td>0.999263</td>\n",
       "      <td>0.998895</td>\n",
       "      <td>0.948232</td>\n",
       "      <td>0.999211</td>\n",
       "      <td>0.999211</td>\n",
       "      <td>0.359322</td>\n",
       "      <td>0.348537</td>\n",
       "      <td>0.997843</td>\n",
       "      <td>0.993003</td>\n",
       "      <td>0.406776</td>\n",
       "      <td>0.560080</td>\n",
       "      <td>0.999579</td>\n",
       "      <td>0.619844</td>\n",
       "    </tr>\n",
       "    <tr>\n",
       "      <th>FANCC_sim</th>\n",
       "      <td>8.127575</td>\n",
       "      <td>6.771049</td>\n",
       "      <td>0.000000</td>\n",
       "      <td>5.818381</td>\n",
       "      <td>7.227028</td>\n",
       "      <td>8.128179</td>\n",
       "      <td>8.161589</td>\n",
       "      <td>8.102749</td>\n",
       "      <td>7.298342</td>\n",
       "      <td>4.269397</td>\n",
       "      <td>7.853620</td>\n",
       "      <td>7.912879</td>\n",
       "      <td>3.662798</td>\n",
       "      <td>5.330723</td>\n",
       "      <td>7.442037</td>\n",
       "      <td>7.408429</td>\n",
       "      <td>5.715941</td>\n",
       "      <td>5.707332</td>\n",
       "      <td>7.008214</td>\n",
       "      <td>5.308710</td>\n",
       "    </tr>\n",
       "    <tr>\n",
       "      <th>FANCC_sim_perc</th>\n",
       "      <td>0.999790</td>\n",
       "      <td>0.998106</td>\n",
       "      <td>0.000000</td>\n",
       "      <td>0.965488</td>\n",
       "      <td>0.997054</td>\n",
       "      <td>0.999947</td>\n",
       "      <td>0.999947</td>\n",
       "      <td>0.999842</td>\n",
       "      <td>0.999474</td>\n",
       "      <td>0.949074</td>\n",
       "      <td>0.999579</td>\n",
       "      <td>0.999632</td>\n",
       "      <td>0.693497</td>\n",
       "      <td>0.870160</td>\n",
       "      <td>0.998580</td>\n",
       "      <td>0.998527</td>\n",
       "      <td>0.963910</td>\n",
       "      <td>0.952073</td>\n",
       "      <td>0.997790</td>\n",
       "      <td>0.930345</td>\n",
       "    </tr>\n",
       "    <tr>\n",
       "      <th>BRCA2_sim</th>\n",
       "      <td>6.414759</td>\n",
       "      <td>4.947805</td>\n",
       "      <td>5.818381</td>\n",
       "      <td>0.000000</td>\n",
       "      <td>7.830819</td>\n",
       "      <td>7.453912</td>\n",
       "      <td>5.020994</td>\n",
       "      <td>7.957709</td>\n",
       "      <td>5.682074</td>\n",
       "      <td>7.109639</td>\n",
       "      <td>5.335388</td>\n",
       "      <td>4.911664</td>\n",
       "      <td>8.000441</td>\n",
       "      <td>7.114549</td>\n",
       "      <td>7.431057</td>\n",
       "      <td>5.584397</td>\n",
       "      <td>8.135328</td>\n",
       "      <td>8.145746</td>\n",
       "      <td>5.262312</td>\n",
       "      <td>7.306519</td>\n",
       "    </tr>\n",
       "    <tr>\n",
       "      <th>BRCA2_sim_perc</th>\n",
       "      <td>0.993424</td>\n",
       "      <td>0.987532</td>\n",
       "      <td>0.991267</td>\n",
       "      <td>0.000000</td>\n",
       "      <td>0.999263</td>\n",
       "      <td>0.999421</td>\n",
       "      <td>0.975957</td>\n",
       "      <td>0.999579</td>\n",
       "      <td>0.979272</td>\n",
       "      <td>0.998527</td>\n",
       "      <td>0.985743</td>\n",
       "      <td>0.974274</td>\n",
       "      <td>0.999737</td>\n",
       "      <td>0.998369</td>\n",
       "      <td>0.998527</td>\n",
       "      <td>0.975011</td>\n",
       "      <td>0.999579</td>\n",
       "      <td>0.998159</td>\n",
       "      <td>0.954861</td>\n",
       "      <td>0.998948</td>\n",
       "    </tr>\n",
       "    <tr>\n",
       "      <th>FANCD2_sim</th>\n",
       "      <td>7.131968</td>\n",
       "      <td>7.430605</td>\n",
       "      <td>7.227028</td>\n",
       "      <td>7.830819</td>\n",
       "      <td>0.000000</td>\n",
       "      <td>7.801961</td>\n",
       "      <td>7.213720</td>\n",
       "      <td>7.309339</td>\n",
       "      <td>7.933257</td>\n",
       "      <td>5.663237</td>\n",
       "      <td>7.870917</td>\n",
       "      <td>7.402274</td>\n",
       "      <td>4.658996</td>\n",
       "      <td>7.310319</td>\n",
       "      <td>7.581861</td>\n",
       "      <td>7.053115</td>\n",
       "      <td>7.872530</td>\n",
       "      <td>7.837479</td>\n",
       "      <td>7.123080</td>\n",
       "      <td>7.435635</td>\n",
       "    </tr>\n",
       "    <tr>\n",
       "      <th>FANCD2_sim_perc</th>\n",
       "      <td>0.997106</td>\n",
       "      <td>0.999474</td>\n",
       "      <td>0.998474</td>\n",
       "      <td>0.998737</td>\n",
       "      <td>0.000000</td>\n",
       "      <td>0.999579</td>\n",
       "      <td>0.999211</td>\n",
       "      <td>0.998843</td>\n",
       "      <td>0.999842</td>\n",
       "      <td>0.990688</td>\n",
       "      <td>0.999684</td>\n",
       "      <td>0.998474</td>\n",
       "      <td>0.970013</td>\n",
       "      <td>0.999000</td>\n",
       "      <td>0.999053</td>\n",
       "      <td>0.994003</td>\n",
       "      <td>0.998527</td>\n",
       "      <td>0.992950</td>\n",
       "      <td>0.998316</td>\n",
       "      <td>0.999158</td>\n",
       "    </tr>\n",
       "    <tr>\n",
       "      <th>FANCE_sim</th>\n",
       "      <td>8.107625</td>\n",
       "      <td>7.123895</td>\n",
       "      <td>8.128179</td>\n",
       "      <td>7.453912</td>\n",
       "      <td>7.801961</td>\n",
       "      <td>0.000000</td>\n",
       "      <td>8.169740</td>\n",
       "      <td>8.113182</td>\n",
       "      <td>6.965274</td>\n",
       "      <td>4.465534</td>\n",
       "      <td>7.051144</td>\n",
       "      <td>7.777475</td>\n",
       "      <td>4.231221</td>\n",
       "      <td>4.762893</td>\n",
       "      <td>7.150205</td>\n",
       "      <td>7.138026</td>\n",
       "      <td>5.682710</td>\n",
       "      <td>5.433005</td>\n",
       "      <td>6.981115</td>\n",
       "      <td>4.419440</td>\n",
       "    </tr>\n",
       "    <tr>\n",
       "      <th>FANCE_sim_perc</th>\n",
       "      <td>0.999632</td>\n",
       "      <td>0.998632</td>\n",
       "      <td>0.999895</td>\n",
       "      <td>0.997685</td>\n",
       "      <td>0.999158</td>\n",
       "      <td>0.000000</td>\n",
       "      <td>1.000000</td>\n",
       "      <td>0.999895</td>\n",
       "      <td>0.997843</td>\n",
       "      <td>0.960964</td>\n",
       "      <td>0.998685</td>\n",
       "      <td>0.999263</td>\n",
       "      <td>0.917403</td>\n",
       "      <td>0.615951</td>\n",
       "      <td>0.997264</td>\n",
       "      <td>0.995002</td>\n",
       "      <td>0.960543</td>\n",
       "      <td>0.914089</td>\n",
       "      <td>0.997633</td>\n",
       "      <td>0.663247</td>\n",
       "    </tr>\n",
       "    <tr>\n",
       "      <th>FANCF_sim</th>\n",
       "      <td>8.133525</td>\n",
       "      <td>7.137596</td>\n",
       "      <td>8.161589</td>\n",
       "      <td>5.020994</td>\n",
       "      <td>7.213720</td>\n",
       "      <td>8.169740</td>\n",
       "      <td>0.000000</td>\n",
       "      <td>8.118121</td>\n",
       "      <td>6.953337</td>\n",
       "      <td>3.991343</td>\n",
       "      <td>7.920660</td>\n",
       "      <td>7.721102</td>\n",
       "      <td>4.407206</td>\n",
       "      <td>4.476824</td>\n",
       "      <td>7.136587</td>\n",
       "      <td>7.187049</td>\n",
       "      <td>4.673099</td>\n",
       "      <td>4.810779</td>\n",
       "      <td>6.870685</td>\n",
       "      <td>3.541185</td>\n",
       "    </tr>\n",
       "    <tr>\n",
       "      <th>FANCF_sim_perc</th>\n",
       "      <td>0.999842</td>\n",
       "      <td>0.998790</td>\n",
       "      <td>0.999947</td>\n",
       "      <td>0.728851</td>\n",
       "      <td>0.997001</td>\n",
       "      <td>1.000000</td>\n",
       "      <td>0.000000</td>\n",
       "      <td>1.000000</td>\n",
       "      <td>0.997685</td>\n",
       "      <td>0.914931</td>\n",
       "      <td>0.999790</td>\n",
       "      <td>0.999106</td>\n",
       "      <td>0.945497</td>\n",
       "      <td>0.517940</td>\n",
       "      <td>0.997159</td>\n",
       "      <td>0.995949</td>\n",
       "      <td>0.689289</td>\n",
       "      <td>0.703335</td>\n",
       "      <td>0.997159</td>\n",
       "      <td>0.387784</td>\n",
       "    </tr>\n",
       "    <tr>\n",
       "      <th>FANCG_sim</th>\n",
       "      <td>8.114880</td>\n",
       "      <td>7.876083</td>\n",
       "      <td>8.102749</td>\n",
       "      <td>7.957709</td>\n",
       "      <td>7.309339</td>\n",
       "      <td>8.113182</td>\n",
       "      <td>8.118121</td>\n",
       "      <td>0.000000</td>\n",
       "      <td>7.208825</td>\n",
       "      <td>5.403651</td>\n",
       "      <td>7.671418</td>\n",
       "      <td>7.828922</td>\n",
       "      <td>4.620458</td>\n",
       "      <td>5.934189</td>\n",
       "      <td>7.128881</td>\n",
       "      <td>7.293961</td>\n",
       "      <td>6.300767</td>\n",
       "      <td>6.325158</td>\n",
       "      <td>6.797184</td>\n",
       "      <td>5.832651</td>\n",
       "    </tr>\n",
       "    <tr>\n",
       "      <th>FANCG_sim_perc</th>\n",
       "      <td>0.999684</td>\n",
       "      <td>0.999842</td>\n",
       "      <td>0.999790</td>\n",
       "      <td>0.999106</td>\n",
       "      <td>0.997475</td>\n",
       "      <td>0.999895</td>\n",
       "      <td>0.999842</td>\n",
       "      <td>0.000000</td>\n",
       "      <td>0.999211</td>\n",
       "      <td>0.987216</td>\n",
       "      <td>0.999263</td>\n",
       "      <td>0.999316</td>\n",
       "      <td>0.967172</td>\n",
       "      <td>0.988794</td>\n",
       "      <td>0.996896</td>\n",
       "      <td>0.997422</td>\n",
       "      <td>0.989794</td>\n",
       "      <td>0.974011</td>\n",
       "      <td>0.996896</td>\n",
       "      <td>0.987216</td>\n",
       "    </tr>\n",
       "    <tr>\n",
       "      <th>FANCI_sim</th>\n",
       "      <td>7.623168</td>\n",
       "      <td>7.144021</td>\n",
       "      <td>7.298342</td>\n",
       "      <td>5.682074</td>\n",
       "      <td>7.933257</td>\n",
       "      <td>6.965274</td>\n",
       "      <td>6.953337</td>\n",
       "      <td>7.208825</td>\n",
       "      <td>0.000000</td>\n",
       "      <td>5.671120</td>\n",
       "      <td>7.951148</td>\n",
       "      <td>7.373785</td>\n",
       "      <td>5.174043</td>\n",
       "      <td>7.227260</td>\n",
       "      <td>7.352636</td>\n",
       "      <td>7.002518</td>\n",
       "      <td>6.407777</td>\n",
       "      <td>6.460032</td>\n",
       "      <td>6.964588</td>\n",
       "      <td>7.201821</td>\n",
       "    </tr>\n",
       "    <tr>\n",
       "      <th>FANCI_sim_perc</th>\n",
       "      <td>0.998580</td>\n",
       "      <td>0.998895</td>\n",
       "      <td>0.998580</td>\n",
       "      <td>0.945760</td>\n",
       "      <td>0.999579</td>\n",
       "      <td>0.998264</td>\n",
       "      <td>0.998422</td>\n",
       "      <td>0.998422</td>\n",
       "      <td>0.000000</td>\n",
       "      <td>0.990899</td>\n",
       "      <td>0.999895</td>\n",
       "      <td>0.998369</td>\n",
       "      <td>0.989110</td>\n",
       "      <td>0.998737</td>\n",
       "      <td>0.997896</td>\n",
       "      <td>0.993687</td>\n",
       "      <td>0.991425</td>\n",
       "      <td>0.975852</td>\n",
       "      <td>0.997475</td>\n",
       "      <td>0.998369</td>\n",
       "    </tr>\n",
       "    <tr>\n",
       "      <th>BRIP1_sim</th>\n",
       "      <td>7.191518</td>\n",
       "      <td>4.253695</td>\n",
       "      <td>4.269397</td>\n",
       "      <td>7.109639</td>\n",
       "      <td>5.663237</td>\n",
       "      <td>4.465534</td>\n",
       "      <td>3.991343</td>\n",
       "      <td>5.403651</td>\n",
       "      <td>5.671120</td>\n",
       "      <td>0.000000</td>\n",
       "      <td>5.314059</td>\n",
       "      <td>4.915250</td>\n",
       "      <td>7.029966</td>\n",
       "      <td>6.959184</td>\n",
       "      <td>7.687253</td>\n",
       "      <td>7.164580</td>\n",
       "      <td>7.166238</td>\n",
       "      <td>9.144388</td>\n",
       "      <td>4.980310</td>\n",
       "      <td>7.031194</td>\n",
       "    </tr>\n",
       "    <tr>\n",
       "      <th>BRIP1_sim_perc</th>\n",
       "      <td>0.997317</td>\n",
       "      <td>0.964699</td>\n",
       "      <td>0.554451</td>\n",
       "      <td>0.995213</td>\n",
       "      <td>0.990688</td>\n",
       "      <td>0.897043</td>\n",
       "      <td>0.707439</td>\n",
       "      <td>0.915825</td>\n",
       "      <td>0.979061</td>\n",
       "      <td>0.000000</td>\n",
       "      <td>0.984796</td>\n",
       "      <td>0.974379</td>\n",
       "      <td>0.997790</td>\n",
       "      <td>0.997790</td>\n",
       "      <td>0.999263</td>\n",
       "      <td>0.995476</td>\n",
       "      <td>0.995265</td>\n",
       "      <td>1.000000</td>\n",
       "      <td>0.920981</td>\n",
       "      <td>0.997896</td>\n",
       "    </tr>\n",
       "    <tr>\n",
       "      <th>FANCL_sim</th>\n",
       "      <td>7.915455</td>\n",
       "      <td>7.666925</td>\n",
       "      <td>7.853620</td>\n",
       "      <td>5.335388</td>\n",
       "      <td>7.870917</td>\n",
       "      <td>7.051144</td>\n",
       "      <td>7.920660</td>\n",
       "      <td>7.671418</td>\n",
       "      <td>7.951148</td>\n",
       "      <td>5.314059</td>\n",
       "      <td>0.000000</td>\n",
       "      <td>7.833858</td>\n",
       "      <td>4.366872</td>\n",
       "      <td>5.227013</td>\n",
       "      <td>6.984514</td>\n",
       "      <td>7.166894</td>\n",
       "      <td>4.684821</td>\n",
       "      <td>5.362079</td>\n",
       "      <td>7.974388</td>\n",
       "      <td>6.288250</td>\n",
       "    </tr>\n",
       "    <tr>\n",
       "      <th>FANCL_sim_perc</th>\n",
       "      <td>0.999000</td>\n",
       "      <td>0.999632</td>\n",
       "      <td>0.999211</td>\n",
       "      <td>0.858744</td>\n",
       "      <td>0.999421</td>\n",
       "      <td>0.998580</td>\n",
       "      <td>0.999790</td>\n",
       "      <td>0.998948</td>\n",
       "      <td>0.999895</td>\n",
       "      <td>0.986111</td>\n",
       "      <td>0.000000</td>\n",
       "      <td>0.999369</td>\n",
       "      <td>0.939394</td>\n",
       "      <td>0.827915</td>\n",
       "      <td>0.996580</td>\n",
       "      <td>0.995581</td>\n",
       "      <td>0.693761</td>\n",
       "      <td>0.896991</td>\n",
       "      <td>0.999947</td>\n",
       "      <td>0.996475</td>\n",
       "    </tr>\n",
       "    <tr>\n",
       "      <th>FANCM_sim</th>\n",
       "      <td>7.686853</td>\n",
       "      <td>7.754939</td>\n",
       "      <td>7.912879</td>\n",
       "      <td>4.911664</td>\n",
       "      <td>7.402274</td>\n",
       "      <td>7.777475</td>\n",
       "      <td>7.721102</td>\n",
       "      <td>7.828922</td>\n",
       "      <td>7.373785</td>\n",
       "      <td>4.915250</td>\n",
       "      <td>7.833858</td>\n",
       "      <td>0.000000</td>\n",
       "      <td>4.466267</td>\n",
       "      <td>4.658035</td>\n",
       "      <td>7.493067</td>\n",
       "      <td>7.598567</td>\n",
       "      <td>6.381220</td>\n",
       "      <td>4.701371</td>\n",
       "      <td>7.140076</td>\n",
       "      <td>4.855318</td>\n",
       "    </tr>\n",
       "    <tr>\n",
       "      <th>FANCM_sim_perc</th>\n",
       "      <td>0.998685</td>\n",
       "      <td>0.999737</td>\n",
       "      <td>0.999527</td>\n",
       "      <td>0.683291</td>\n",
       "      <td>0.997896</td>\n",
       "      <td>0.999527</td>\n",
       "      <td>0.999527</td>\n",
       "      <td>0.999106</td>\n",
       "      <td>0.999579</td>\n",
       "      <td>0.978851</td>\n",
       "      <td>0.999474</td>\n",
       "      <td>0.000000</td>\n",
       "      <td>0.953072</td>\n",
       "      <td>0.580124</td>\n",
       "      <td>0.998685</td>\n",
       "      <td>0.999053</td>\n",
       "      <td>0.991162</td>\n",
       "      <td>0.671507</td>\n",
       "      <td>0.998527</td>\n",
       "      <td>0.811658</td>\n",
       "    </tr>\n",
       "    <tr>\n",
       "      <th>PALB2_sim</th>\n",
       "      <td>4.919861</td>\n",
       "      <td>3.136707</td>\n",
       "      <td>3.662798</td>\n",
       "      <td>8.000441</td>\n",
       "      <td>4.658996</td>\n",
       "      <td>4.231221</td>\n",
       "      <td>4.407206</td>\n",
       "      <td>4.620458</td>\n",
       "      <td>5.174043</td>\n",
       "      <td>7.029966</td>\n",
       "      <td>4.366872</td>\n",
       "      <td>4.466267</td>\n",
       "      <td>0.000000</td>\n",
       "      <td>6.722526</td>\n",
       "      <td>7.551782</td>\n",
       "      <td>3.963594</td>\n",
       "      <td>8.005961</td>\n",
       "      <td>8.016091</td>\n",
       "      <td>4.147547</td>\n",
       "      <td>6.933945</td>\n",
       "    </tr>\n",
       "    <tr>\n",
       "      <th>PALB2_sim_perc</th>\n",
       "      <td>0.706913</td>\n",
       "      <td>0.799137</td>\n",
       "      <td>0.377420</td>\n",
       "      <td>0.999527</td>\n",
       "      <td>0.950495</td>\n",
       "      <td>0.831860</td>\n",
       "      <td>0.857113</td>\n",
       "      <td>0.682449</td>\n",
       "      <td>0.953598</td>\n",
       "      <td>0.997896</td>\n",
       "      <td>0.826021</td>\n",
       "      <td>0.943182</td>\n",
       "      <td>0.000000</td>\n",
       "      <td>0.997475</td>\n",
       "      <td>0.998895</td>\n",
       "      <td>0.473432</td>\n",
       "      <td>0.999000</td>\n",
       "      <td>0.995476</td>\n",
       "      <td>0.781987</td>\n",
       "      <td>0.997738</td>\n",
       "    </tr>\n",
       "    <tr>\n",
       "      <th>RAD51C_sim</th>\n",
       "      <td>5.698090</td>\n",
       "      <td>3.893176</td>\n",
       "      <td>5.330723</td>\n",
       "      <td>7.114549</td>\n",
       "      <td>7.310319</td>\n",
       "      <td>4.762893</td>\n",
       "      <td>4.476824</td>\n",
       "      <td>5.934189</td>\n",
       "      <td>7.227260</td>\n",
       "      <td>6.959184</td>\n",
       "      <td>5.227013</td>\n",
       "      <td>4.658035</td>\n",
       "      <td>6.722526</td>\n",
       "      <td>0.000000</td>\n",
       "      <td>8.697811</td>\n",
       "      <td>5.255947</td>\n",
       "      <td>8.111050</td>\n",
       "      <td>7.304740</td>\n",
       "      <td>5.407784</td>\n",
       "      <td>8.139024</td>\n",
       "    </tr>\n",
       "    <tr>\n",
       "      <th>RAD51C_sim_perc</th>\n",
       "      <td>0.950179</td>\n",
       "      <td>0.945128</td>\n",
       "      <td>0.944129</td>\n",
       "      <td>0.995265</td>\n",
       "      <td>0.997527</td>\n",
       "      <td>0.950968</td>\n",
       "      <td>0.876420</td>\n",
       "      <td>0.976221</td>\n",
       "      <td>0.999316</td>\n",
       "      <td>0.997317</td>\n",
       "      <td>0.980692</td>\n",
       "      <td>0.959280</td>\n",
       "      <td>0.996633</td>\n",
       "      <td>0.000000</td>\n",
       "      <td>1.000000</td>\n",
       "      <td>0.933449</td>\n",
       "      <td>0.999263</td>\n",
       "      <td>0.987952</td>\n",
       "      <td>0.967645</td>\n",
       "      <td>0.999842</td>\n",
       "    </tr>\n",
       "    <tr>\n",
       "      <th>SLX4_sim</th>\n",
       "      <td>7.281170</td>\n",
       "      <td>7.336919</td>\n",
       "      <td>7.442037</td>\n",
       "      <td>7.431057</td>\n",
       "      <td>7.581861</td>\n",
       "      <td>7.150205</td>\n",
       "      <td>7.136587</td>\n",
       "      <td>7.128881</td>\n",
       "      <td>7.352636</td>\n",
       "      <td>7.687253</td>\n",
       "      <td>6.984514</td>\n",
       "      <td>7.493067</td>\n",
       "      <td>7.551782</td>\n",
       "      <td>8.697811</td>\n",
       "      <td>0.000000</td>\n",
       "      <td>8.233839</td>\n",
       "      <td>7.906017</td>\n",
       "      <td>7.884081</td>\n",
       "      <td>3.766680</td>\n",
       "      <td>7.615032</td>\n",
       "    </tr>\n",
       "    <tr>\n",
       "      <th>SLX4_sim_perc</th>\n",
       "      <td>0.997633</td>\n",
       "      <td>0.999369</td>\n",
       "      <td>0.998843</td>\n",
       "      <td>0.997580</td>\n",
       "      <td>0.998369</td>\n",
       "      <td>0.998948</td>\n",
       "      <td>0.999000</td>\n",
       "      <td>0.998106</td>\n",
       "      <td>0.999527</td>\n",
       "      <td>0.999579</td>\n",
       "      <td>0.998422</td>\n",
       "      <td>0.998685</td>\n",
       "      <td>0.999158</td>\n",
       "      <td>1.000000</td>\n",
       "      <td>0.000000</td>\n",
       "      <td>0.999579</td>\n",
       "      <td>0.998580</td>\n",
       "      <td>0.993529</td>\n",
       "      <td>0.653988</td>\n",
       "      <td>0.999421</td>\n",
       "    </tr>\n",
       "    <tr>\n",
       "      <th>ERCC4_sim</th>\n",
       "      <td>7.449128</td>\n",
       "      <td>6.774013</td>\n",
       "      <td>7.408429</td>\n",
       "      <td>5.584397</td>\n",
       "      <td>7.053115</td>\n",
       "      <td>7.138026</td>\n",
       "      <td>7.187049</td>\n",
       "      <td>7.293961</td>\n",
       "      <td>7.002518</td>\n",
       "      <td>7.164580</td>\n",
       "      <td>7.166894</td>\n",
       "      <td>7.598567</td>\n",
       "      <td>3.963594</td>\n",
       "      <td>5.255947</td>\n",
       "      <td>8.233839</td>\n",
       "      <td>0.000000</td>\n",
       "      <td>7.717279</td>\n",
       "      <td>7.395290</td>\n",
       "      <td>3.275838</td>\n",
       "      <td>4.700043</td>\n",
       "    </tr>\n",
       "    <tr>\n",
       "      <th>ERCC4_sim_perc</th>\n",
       "      <td>0.998264</td>\n",
       "      <td>0.998159</td>\n",
       "      <td>0.998790</td>\n",
       "      <td>0.928030</td>\n",
       "      <td>0.995949</td>\n",
       "      <td>0.998895</td>\n",
       "      <td>0.999106</td>\n",
       "      <td>0.998737</td>\n",
       "      <td>0.997948</td>\n",
       "      <td>0.998790</td>\n",
       "      <td>0.999000</td>\n",
       "      <td>0.998948</td>\n",
       "      <td>0.843013</td>\n",
       "      <td>0.840120</td>\n",
       "      <td>0.999790</td>\n",
       "      <td>0.000000</td>\n",
       "      <td>0.998211</td>\n",
       "      <td>0.989320</td>\n",
       "      <td>0.392887</td>\n",
       "      <td>0.759996</td>\n",
       "    </tr>\n",
       "    <tr>\n",
       "      <th>RAD51_sim</th>\n",
       "      <td>6.185612</td>\n",
       "      <td>3.752006</td>\n",
       "      <td>5.715941</td>\n",
       "      <td>8.135328</td>\n",
       "      <td>7.872530</td>\n",
       "      <td>5.682710</td>\n",
       "      <td>4.673099</td>\n",
       "      <td>6.300767</td>\n",
       "      <td>6.407777</td>\n",
       "      <td>7.166238</td>\n",
       "      <td>4.684821</td>\n",
       "      <td>6.381220</td>\n",
       "      <td>8.005961</td>\n",
       "      <td>8.111050</td>\n",
       "      <td>7.906017</td>\n",
       "      <td>7.717279</td>\n",
       "      <td>0.000000</td>\n",
       "      <td>8.120280</td>\n",
       "      <td>5.743471</td>\n",
       "      <td>9.135344</td>\n",
       "    </tr>\n",
       "    <tr>\n",
       "      <th>RAD51_sim_perc</th>\n",
       "      <td>0.987532</td>\n",
       "      <td>0.932292</td>\n",
       "      <td>0.988110</td>\n",
       "      <td>0.999895</td>\n",
       "      <td>0.999474</td>\n",
       "      <td>0.996054</td>\n",
       "      <td>0.926031</td>\n",
       "      <td>0.989478</td>\n",
       "      <td>0.992003</td>\n",
       "      <td>0.998843</td>\n",
       "      <td>0.909301</td>\n",
       "      <td>0.996896</td>\n",
       "      <td>0.999790</td>\n",
       "      <td>0.999684</td>\n",
       "      <td>0.999474</td>\n",
       "      <td>0.999106</td>\n",
       "      <td>0.000000</td>\n",
       "      <td>0.997422</td>\n",
       "      <td>0.984848</td>\n",
       "      <td>1.000000</td>\n",
       "    </tr>\n",
       "    <tr>\n",
       "      <th>BRCA1_sim</th>\n",
       "      <td>8.123561</td>\n",
       "      <td>4.290523</td>\n",
       "      <td>5.707332</td>\n",
       "      <td>8.145746</td>\n",
       "      <td>7.837479</td>\n",
       "      <td>5.433005</td>\n",
       "      <td>4.810779</td>\n",
       "      <td>6.325158</td>\n",
       "      <td>6.460032</td>\n",
       "      <td>9.144388</td>\n",
       "      <td>5.362079</td>\n",
       "      <td>4.701371</td>\n",
       "      <td>8.016091</td>\n",
       "      <td>7.304740</td>\n",
       "      <td>7.884081</td>\n",
       "      <td>7.395290</td>\n",
       "      <td>8.120280</td>\n",
       "      <td>0.000000</td>\n",
       "      <td>7.362208</td>\n",
       "      <td>7.319406</td>\n",
       "    </tr>\n",
       "    <tr>\n",
       "      <th>BRCA1_sim_perc</th>\n",
       "      <td>0.999737</td>\n",
       "      <td>0.966330</td>\n",
       "      <td>0.987637</td>\n",
       "      <td>0.999947</td>\n",
       "      <td>0.999316</td>\n",
       "      <td>0.993371</td>\n",
       "      <td>0.951021</td>\n",
       "      <td>0.990215</td>\n",
       "      <td>0.992950</td>\n",
       "      <td>1.000000</td>\n",
       "      <td>0.986585</td>\n",
       "      <td>0.962016</td>\n",
       "      <td>0.999842</td>\n",
       "      <td>0.998948</td>\n",
       "      <td>0.999421</td>\n",
       "      <td>0.998211</td>\n",
       "      <td>0.999421</td>\n",
       "      <td>0.000000</td>\n",
       "      <td>0.999474</td>\n",
       "      <td>0.999000</td>\n",
       "    </tr>\n",
       "    <tr>\n",
       "      <th>UBE2T_sim</th>\n",
       "      <td>7.017165</td>\n",
       "      <td>7.382528</td>\n",
       "      <td>7.008214</td>\n",
       "      <td>5.262312</td>\n",
       "      <td>7.123080</td>\n",
       "      <td>6.981115</td>\n",
       "      <td>6.870685</td>\n",
       "      <td>6.797184</td>\n",
       "      <td>6.964588</td>\n",
       "      <td>4.980310</td>\n",
       "      <td>7.974388</td>\n",
       "      <td>7.140076</td>\n",
       "      <td>4.147547</td>\n",
       "      <td>5.407784</td>\n",
       "      <td>3.766680</td>\n",
       "      <td>3.275838</td>\n",
       "      <td>5.743471</td>\n",
       "      <td>7.362208</td>\n",
       "      <td>0.000000</td>\n",
       "      <td>4.640398</td>\n",
       "    </tr>\n",
       "    <tr>\n",
       "      <th>UBE2T_sim_perc</th>\n",
       "      <td>0.996896</td>\n",
       "      <td>0.999421</td>\n",
       "      <td>0.997738</td>\n",
       "      <td>0.831387</td>\n",
       "      <td>0.996265</td>\n",
       "      <td>0.998316</td>\n",
       "      <td>0.998159</td>\n",
       "      <td>0.996475</td>\n",
       "      <td>0.997738</td>\n",
       "      <td>0.980324</td>\n",
       "      <td>0.999947</td>\n",
       "      <td>0.997948</td>\n",
       "      <td>0.898201</td>\n",
       "      <td>0.898201</td>\n",
       "      <td>0.808554</td>\n",
       "      <td>0.270570</td>\n",
       "      <td>0.966856</td>\n",
       "      <td>0.988794</td>\n",
       "      <td>0.000000</td>\n",
       "      <td>0.738847</td>\n",
       "    </tr>\n",
       "    <tr>\n",
       "      <th>XRCC2_sim</th>\n",
       "      <td>6.287984</td>\n",
       "      <td>4.289215</td>\n",
       "      <td>5.308710</td>\n",
       "      <td>7.306519</td>\n",
       "      <td>7.435635</td>\n",
       "      <td>4.419440</td>\n",
       "      <td>3.541185</td>\n",
       "      <td>5.832651</td>\n",
       "      <td>7.201821</td>\n",
       "      <td>7.031194</td>\n",
       "      <td>6.288250</td>\n",
       "      <td>4.855318</td>\n",
       "      <td>6.933945</td>\n",
       "      <td>8.139024</td>\n",
       "      <td>7.615032</td>\n",
       "      <td>4.700043</td>\n",
       "      <td>9.135344</td>\n",
       "      <td>7.319406</td>\n",
       "      <td>4.640398</td>\n",
       "      <td>0.000000</td>\n",
       "    </tr>\n",
       "    <tr>\n",
       "      <th>XRCC2_sim_perc</th>\n",
       "      <td>0.990636</td>\n",
       "      <td>0.966277</td>\n",
       "      <td>0.939447</td>\n",
       "      <td>0.996791</td>\n",
       "      <td>0.998106</td>\n",
       "      <td>0.885943</td>\n",
       "      <td>0.503893</td>\n",
       "      <td>0.969960</td>\n",
       "      <td>0.999158</td>\n",
       "      <td>0.997948</td>\n",
       "      <td>0.997580</td>\n",
       "      <td>0.971591</td>\n",
       "      <td>0.997317</td>\n",
       "      <td>0.999737</td>\n",
       "      <td>0.999106</td>\n",
       "      <td>0.752262</td>\n",
       "      <td>1.000000</td>\n",
       "      <td>0.988163</td>\n",
       "      <td>0.875421</td>\n",
       "      <td>0.000000</td>\n",
       "    </tr>\n",
       "  </tbody>\n",
       "</table>\n",
       "</div>"
      ],
      "text/plain": [
       "                    FANCA     FANCB     FANCC     BRCA2    FANCD2     FANCE  \\\n",
       "FANCA_sim        0.000000  7.665104  8.127575  6.414759  7.131968  8.107625   \n",
       "FANCA_sim_perc   0.000000  0.999579  0.999842  0.992161  0.996317  0.999842   \n",
       "FANCB_sim        7.665104  0.000000  6.771049  4.947805  7.430605  7.123895   \n",
       "FANCB_sim_perc   0.998632  0.000000  0.997317  0.698074  0.998053  0.998790   \n",
       "FANCC_sim        8.127575  6.771049  0.000000  5.818381  7.227028  8.128179   \n",
       "FANCC_sim_perc   0.999790  0.998106  0.000000  0.965488  0.997054  0.999947   \n",
       "BRCA2_sim        6.414759  4.947805  5.818381  0.000000  7.830819  7.453912   \n",
       "BRCA2_sim_perc   0.993424  0.987532  0.991267  0.000000  0.999263  0.999421   \n",
       "FANCD2_sim       7.131968  7.430605  7.227028  7.830819  0.000000  7.801961   \n",
       "FANCD2_sim_perc  0.997106  0.999474  0.998474  0.998737  0.000000  0.999579   \n",
       "FANCE_sim        8.107625  7.123895  8.128179  7.453912  7.801961  0.000000   \n",
       "FANCE_sim_perc   0.999632  0.998632  0.999895  0.997685  0.999158  0.000000   \n",
       "FANCF_sim        8.133525  7.137596  8.161589  5.020994  7.213720  8.169740   \n",
       "FANCF_sim_perc   0.999842  0.998790  0.999947  0.728851  0.997001  1.000000   \n",
       "FANCG_sim        8.114880  7.876083  8.102749  7.957709  7.309339  8.113182   \n",
       "FANCG_sim_perc   0.999684  0.999842  0.999790  0.999106  0.997475  0.999895   \n",
       "FANCI_sim        7.623168  7.144021  7.298342  5.682074  7.933257  6.965274   \n",
       "FANCI_sim_perc   0.998580  0.998895  0.998580  0.945760  0.999579  0.998264   \n",
       "BRIP1_sim        7.191518  4.253695  4.269397  7.109639  5.663237  4.465534   \n",
       "BRIP1_sim_perc   0.997317  0.964699  0.554451  0.995213  0.990688  0.897043   \n",
       "FANCL_sim        7.915455  7.666925  7.853620  5.335388  7.870917  7.051144   \n",
       "FANCL_sim_perc   0.999000  0.999632  0.999211  0.858744  0.999421  0.998580   \n",
       "FANCM_sim        7.686853  7.754939  7.912879  4.911664  7.402274  7.777475   \n",
       "FANCM_sim_perc   0.998685  0.999737  0.999527  0.683291  0.997896  0.999527   \n",
       "PALB2_sim        4.919861  3.136707  3.662798  8.000441  4.658996  4.231221   \n",
       "PALB2_sim_perc   0.706913  0.799137  0.377420  0.999527  0.950495  0.831860   \n",
       "RAD51C_sim       5.698090  3.893176  5.330723  7.114549  7.310319  4.762893   \n",
       "RAD51C_sim_perc  0.950179  0.945128  0.944129  0.995265  0.997527  0.950968   \n",
       "SLX4_sim         7.281170  7.336919  7.442037  7.431057  7.581861  7.150205   \n",
       "SLX4_sim_perc    0.997633  0.999369  0.998843  0.997580  0.998369  0.998948   \n",
       "ERCC4_sim        7.449128  6.774013  7.408429  5.584397  7.053115  7.138026   \n",
       "ERCC4_sim_perc   0.998264  0.998159  0.998790  0.928030  0.995949  0.998895   \n",
       "RAD51_sim        6.185612  3.752006  5.715941  8.135328  7.872530  5.682710   \n",
       "RAD51_sim_perc   0.987532  0.932292  0.988110  0.999895  0.999474  0.996054   \n",
       "BRCA1_sim        8.123561  4.290523  5.707332  8.145746  7.837479  5.433005   \n",
       "BRCA1_sim_perc   0.999737  0.966330  0.987637  0.999947  0.999316  0.993371   \n",
       "UBE2T_sim        7.017165  7.382528  7.008214  5.262312  7.123080  6.981115   \n",
       "UBE2T_sim_perc   0.996896  0.999421  0.997738  0.831387  0.996265  0.998316   \n",
       "XRCC2_sim        6.287984  4.289215  5.308710  7.306519  7.435635  4.419440   \n",
       "XRCC2_sim_perc   0.990636  0.966277  0.939447  0.996791  0.998106  0.885943   \n",
       "\n",
       "                    FANCF     FANCG     FANCI     BRIP1     FANCL     FANCM  \\\n",
       "FANCA_sim        8.133525  8.114880  7.623168  7.191518  7.915455  7.686853   \n",
       "FANCA_sim_perc   0.999895  0.999947  0.999790  0.998948  0.999737  0.999000   \n",
       "FANCB_sim        7.137596  7.876083  7.144021  4.253695  7.666925  7.754939   \n",
       "FANCB_sim_perc   0.999053  0.999263  0.998895  0.948232  0.999211  0.999211   \n",
       "FANCC_sim        8.161589  8.102749  7.298342  4.269397  7.853620  7.912879   \n",
       "FANCC_sim_perc   0.999947  0.999842  0.999474  0.949074  0.999579  0.999632   \n",
       "BRCA2_sim        5.020994  7.957709  5.682074  7.109639  5.335388  4.911664   \n",
       "BRCA2_sim_perc   0.975957  0.999579  0.979272  0.998527  0.985743  0.974274   \n",
       "FANCD2_sim       7.213720  7.309339  7.933257  5.663237  7.870917  7.402274   \n",
       "FANCD2_sim_perc  0.999211  0.998843  0.999842  0.990688  0.999684  0.998474   \n",
       "FANCE_sim        8.169740  8.113182  6.965274  4.465534  7.051144  7.777475   \n",
       "FANCE_sim_perc   1.000000  0.999895  0.997843  0.960964  0.998685  0.999263   \n",
       "FANCF_sim        0.000000  8.118121  6.953337  3.991343  7.920660  7.721102   \n",
       "FANCF_sim_perc   0.000000  1.000000  0.997685  0.914931  0.999790  0.999106   \n",
       "FANCG_sim        8.118121  0.000000  7.208825  5.403651  7.671418  7.828922   \n",
       "FANCG_sim_perc   0.999842  0.000000  0.999211  0.987216  0.999263  0.999316   \n",
       "FANCI_sim        6.953337  7.208825  0.000000  5.671120  7.951148  7.373785   \n",
       "FANCI_sim_perc   0.998422  0.998422  0.000000  0.990899  0.999895  0.998369   \n",
       "BRIP1_sim        3.991343  5.403651  5.671120  0.000000  5.314059  4.915250   \n",
       "BRIP1_sim_perc   0.707439  0.915825  0.979061  0.000000  0.984796  0.974379   \n",
       "FANCL_sim        7.920660  7.671418  7.951148  5.314059  0.000000  7.833858   \n",
       "FANCL_sim_perc   0.999790  0.998948  0.999895  0.986111  0.000000  0.999369   \n",
       "FANCM_sim        7.721102  7.828922  7.373785  4.915250  7.833858  0.000000   \n",
       "FANCM_sim_perc   0.999527  0.999106  0.999579  0.978851  0.999474  0.000000   \n",
       "PALB2_sim        4.407206  4.620458  5.174043  7.029966  4.366872  4.466267   \n",
       "PALB2_sim_perc   0.857113  0.682449  0.953598  0.997896  0.826021  0.943182   \n",
       "RAD51C_sim       4.476824  5.934189  7.227260  6.959184  5.227013  4.658035   \n",
       "RAD51C_sim_perc  0.876420  0.976221  0.999316  0.997317  0.980692  0.959280   \n",
       "SLX4_sim         7.136587  7.128881  7.352636  7.687253  6.984514  7.493067   \n",
       "SLX4_sim_perc    0.999000  0.998106  0.999527  0.999579  0.998422  0.998685   \n",
       "ERCC4_sim        7.187049  7.293961  7.002518  7.164580  7.166894  7.598567   \n",
       "ERCC4_sim_perc   0.999106  0.998737  0.997948  0.998790  0.999000  0.998948   \n",
       "RAD51_sim        4.673099  6.300767  6.407777  7.166238  4.684821  6.381220   \n",
       "RAD51_sim_perc   0.926031  0.989478  0.992003  0.998843  0.909301  0.996896   \n",
       "BRCA1_sim        4.810779  6.325158  6.460032  9.144388  5.362079  4.701371   \n",
       "BRCA1_sim_perc   0.951021  0.990215  0.992950  1.000000  0.986585  0.962016   \n",
       "UBE2T_sim        6.870685  6.797184  6.964588  4.980310  7.974388  7.140076   \n",
       "UBE2T_sim_perc   0.998159  0.996475  0.997738  0.980324  0.999947  0.997948   \n",
       "XRCC2_sim        3.541185  5.832651  7.201821  7.031194  6.288250  4.855318   \n",
       "XRCC2_sim_perc   0.503893  0.969960  0.999158  0.997948  0.997580  0.971591   \n",
       "\n",
       "                    PALB2    RAD51C      SLX4     ERCC4     RAD51     BRCA1  \\\n",
       "FANCA_sim        4.919861  5.698090  7.281170  7.449128  6.185612  8.123561   \n",
       "FANCA_sim_perc   0.982271  0.965173  0.997685  0.998737  0.986164  0.997685   \n",
       "FANCB_sim        3.136707  3.893176  7.336919  6.774013  3.752006  4.290523   \n",
       "FANCB_sim_perc   0.359322  0.348537  0.997843  0.993003  0.406776  0.560080   \n",
       "FANCC_sim        3.662798  5.330723  7.442037  7.408429  5.715941  5.707332   \n",
       "FANCC_sim_perc   0.693497  0.870160  0.998580  0.998527  0.963910  0.952073   \n",
       "BRCA2_sim        8.000441  7.114549  7.431057  5.584397  8.135328  8.145746   \n",
       "BRCA2_sim_perc   0.999737  0.998369  0.998527  0.975011  0.999579  0.998159   \n",
       "FANCD2_sim       4.658996  7.310319  7.581861  7.053115  7.872530  7.837479   \n",
       "FANCD2_sim_perc  0.970013  0.999000  0.999053  0.994003  0.998527  0.992950   \n",
       "FANCE_sim        4.231221  4.762893  7.150205  7.138026  5.682710  5.433005   \n",
       "FANCE_sim_perc   0.917403  0.615951  0.997264  0.995002  0.960543  0.914089   \n",
       "FANCF_sim        4.407206  4.476824  7.136587  7.187049  4.673099  4.810779   \n",
       "FANCF_sim_perc   0.945497  0.517940  0.997159  0.995949  0.689289  0.703335   \n",
       "FANCG_sim        4.620458  5.934189  7.128881  7.293961  6.300767  6.325158   \n",
       "FANCG_sim_perc   0.967172  0.988794  0.996896  0.997422  0.989794  0.974011   \n",
       "FANCI_sim        5.174043  7.227260  7.352636  7.002518  6.407777  6.460032   \n",
       "FANCI_sim_perc   0.989110  0.998737  0.997896  0.993687  0.991425  0.975852   \n",
       "BRIP1_sim        7.029966  6.959184  7.687253  7.164580  7.166238  9.144388   \n",
       "BRIP1_sim_perc   0.997790  0.997790  0.999263  0.995476  0.995265  1.000000   \n",
       "FANCL_sim        4.366872  5.227013  6.984514  7.166894  4.684821  5.362079   \n",
       "FANCL_sim_perc   0.939394  0.827915  0.996580  0.995581  0.693761  0.896991   \n",
       "FANCM_sim        4.466267  4.658035  7.493067  7.598567  6.381220  4.701371   \n",
       "FANCM_sim_perc   0.953072  0.580124  0.998685  0.999053  0.991162  0.671507   \n",
       "PALB2_sim        0.000000  6.722526  7.551782  3.963594  8.005961  8.016091   \n",
       "PALB2_sim_perc   0.000000  0.997475  0.998895  0.473432  0.999000  0.995476   \n",
       "RAD51C_sim       6.722526  0.000000  8.697811  5.255947  8.111050  7.304740   \n",
       "RAD51C_sim_perc  0.996633  0.000000  1.000000  0.933449  0.999263  0.987952   \n",
       "SLX4_sim         7.551782  8.697811  0.000000  8.233839  7.906017  7.884081   \n",
       "SLX4_sim_perc    0.999158  1.000000  0.000000  0.999579  0.998580  0.993529   \n",
       "ERCC4_sim        3.963594  5.255947  8.233839  0.000000  7.717279  7.395290   \n",
       "ERCC4_sim_perc   0.843013  0.840120  0.999790  0.000000  0.998211  0.989320   \n",
       "RAD51_sim        8.005961  8.111050  7.906017  7.717279  0.000000  8.120280   \n",
       "RAD51_sim_perc   0.999790  0.999684  0.999474  0.999106  0.000000  0.997422   \n",
       "BRCA1_sim        8.016091  7.304740  7.884081  7.395290  8.120280  0.000000   \n",
       "BRCA1_sim_perc   0.999842  0.998948  0.999421  0.998211  0.999421  0.000000   \n",
       "UBE2T_sim        4.147547  5.407784  3.766680  3.275838  5.743471  7.362208   \n",
       "UBE2T_sim_perc   0.898201  0.898201  0.808554  0.270570  0.966856  0.988794   \n",
       "XRCC2_sim        6.933945  8.139024  7.615032  4.700043  9.135344  7.319406   \n",
       "XRCC2_sim_perc   0.997317  0.999737  0.999106  0.752262  1.000000  0.988163   \n",
       "\n",
       "                    UBE2T     XRCC2  \n",
       "FANCA_sim        7.017165  6.287984  \n",
       "FANCA_sim_perc   0.997843  0.996423  \n",
       "FANCB_sim        7.382528  4.289215  \n",
       "FANCB_sim_perc   0.999579  0.619844  \n",
       "FANCC_sim        7.008214  5.308710  \n",
       "FANCC_sim_perc   0.997790  0.930345  \n",
       "BRCA2_sim        5.262312  7.306519  \n",
       "BRCA2_sim_perc   0.954861  0.998948  \n",
       "FANCD2_sim       7.123080  7.435635  \n",
       "FANCD2_sim_perc  0.998316  0.999158  \n",
       "FANCE_sim        6.981115  4.419440  \n",
       "FANCE_sim_perc   0.997633  0.663247  \n",
       "FANCF_sim        6.870685  3.541185  \n",
       "FANCF_sim_perc   0.997159  0.387784  \n",
       "FANCG_sim        6.797184  5.832651  \n",
       "FANCG_sim_perc   0.996896  0.987216  \n",
       "FANCI_sim        6.964588  7.201821  \n",
       "FANCI_sim_perc   0.997475  0.998369  \n",
       "BRIP1_sim        4.980310  7.031194  \n",
       "BRIP1_sim_perc   0.920981  0.997896  \n",
       "FANCL_sim        7.974388  6.288250  \n",
       "FANCL_sim_perc   0.999947  0.996475  \n",
       "FANCM_sim        7.140076  4.855318  \n",
       "FANCM_sim_perc   0.998527  0.811658  \n",
       "PALB2_sim        4.147547  6.933945  \n",
       "PALB2_sim_perc   0.781987  0.997738  \n",
       "RAD51C_sim       5.407784  8.139024  \n",
       "RAD51C_sim_perc  0.967645  0.999842  \n",
       "SLX4_sim         3.766680  7.615032  \n",
       "SLX4_sim_perc    0.653988  0.999421  \n",
       "ERCC4_sim        3.275838  4.700043  \n",
       "ERCC4_sim_perc   0.392887  0.759996  \n",
       "RAD51_sim        5.743471  9.135344  \n",
       "RAD51_sim_perc   0.984848  1.000000  \n",
       "BRCA1_sim        7.362208  7.319406  \n",
       "BRCA1_sim_perc   0.999474  0.999000  \n",
       "UBE2T_sim        0.000000  4.640398  \n",
       "UBE2T_sim_perc   0.000000  0.738847  \n",
       "XRCC2_sim        4.640398  0.000000  \n",
       "XRCC2_sim_perc   0.875421  0.000000  "
      ]
     },
     "execution_count": 258,
     "metadata": {},
     "output_type": "execute_result"
    }
   ],
   "source": [
    "df = pd.DataFrame(index=seed)\n",
    "sim_names_2_index = ddot.make_index(sim_names)\n",
    "fa_idx = [sim_names_2_index[s] for s in seed]\n",
    "for g in seed:\n",
    "    g_idx = sim_names_2_index[g]\n",
    "    g_sim = sim[g_idx, fa_idx]\n",
    "    g_perc = (sim[:, fa_idx] < g_sim.reshape(1, -1)).sum(0) / float(sim.shape[0] - 1)\n",
    "    df['%s_sim' % g] = g_sim\n",
    "    df['%s_sim_perc' % g] = g_perc\n",
    "df = df.T\n",
    "df"
   ]
  },
  {
   "cell_type": "code",
   "execution_count": 259,
   "metadata": {
    "ExecuteTime": {
     "end_time": "2017-09-23T04:00:43.840918Z",
     "start_time": "2017-09-23T04:00:43.830185Z"
    }
   },
   "outputs": [
    {
     "data": {
      "text/plain": [
       "FANCA_sim_perc     0.945352\n",
       "FANCB_sim_perc     0.795986\n",
       "FANCC_sim_perc     0.915641\n",
       "BRCA2_sim_perc     0.940372\n",
       "FANCD2_sim_perc    0.946557\n",
       "FANCE_sim_perc     0.900639\n",
       "FANCF_sim_perc     0.843503\n",
       "FANCG_sim_perc     0.943942\n",
       "FANCI_sim_perc     0.943411\n",
       "BRIP1_sim_perc     0.893269\n",
       "FANCL_sim_perc     0.909267\n",
       "FANCM_sim_perc     0.882949\n",
       "PALB2_sim_perc     0.808481\n",
       "RAD51C_sim_perc    0.922861\n",
       "SLX4_sim_perc      0.931416\n",
       "ERCC4_sim_perc     0.886698\n",
       "RAD51_sim_perc     0.934812\n",
       "BRCA1_sim_perc     0.941172\n",
       "UBE2T_sim_perc     0.868032\n",
       "XRCC2_sim_perc     0.891467\n",
       "dtype: float64"
      ]
     },
     "execution_count": 259,
     "metadata": {},
     "output_type": "execute_result"
    }
   ],
   "source": [
    "df.loc[[x for x in df.index if 'perc' in x], :].mean(1)"
   ]
  },
  {
   "cell_type": "code",
   "execution_count": 280,
   "metadata": {
    "ExecuteTime": {
     "end_time": "2017-09-25T12:57:16.113088Z",
     "start_time": "2017-09-25T12:57:16.086165Z"
    }
   },
   "outputs": [
    {
     "name": "stdout",
     "output_type": "stream",
     "text": [
      "[ 0.999  0.     0.997  0.698  0.998  0.999  0.999  0.999  0.999  0.948\n",
      "  0.999  0.999  0.359  0.349  0.998  0.993  0.407  0.56   1.     0.62 ]\n",
      "[ 7.665  0.     6.771  4.948  7.431  7.124  7.138  7.876  7.144  4.254\n",
      "  7.667  7.755  3.137  3.893  7.337  6.774  3.752  4.291  7.383  4.289]\n",
      "[ 2550  9211  4300  2563   604 11744  5811  7451  1500 10842 16889  7900\n",
      " 18897  1131  6444  8917 18947  8226  7270 17664]\n"
     ]
    }
   ],
   "source": [
    "g = 'FANCB'\n",
    "g_idx = sim_names_2_index[g]\n",
    "g_sim = sim[g_idx, fa_idx]\n",
    "g_perc = (sim[:, fa_idx] < g_sim.reshape(1, -1)).sum(0) / float(sim.shape[0] - 1)\n",
    "print g_perc\n",
    "\n",
    "print g_sim\n",
    "print sim_argsort[g_idx, fa_idx]"
   ]
  },
  {
   "cell_type": "code",
   "execution_count": 289,
   "metadata": {
    "ExecuteTime": {
     "end_time": "2017-09-25T13:03:29.669435Z",
     "start_time": "2017-09-25T13:03:29.654396Z"
    }
   },
   "outputs": [
    {
     "name": "stdout",
     "output_type": "stream",
     "text": [
      "[ 0.958  0.429  0.047  0.487  0.331]\n",
      "[2 4 1 3 0]\n",
      "[4 2 0 3 1]\n"
     ]
    }
   ],
   "source": [
    "# x = np.random.random(5)\n",
    "print x\n",
    "tmp = np.argsort(x)\n",
    "print tmp\n",
    "tmp2 = np.empty(x.size, np.int32)\n",
    "tmp2[tmp] = np.arange(x.size)\n",
    "print tmp2"
   ]
  },
  {
   "cell_type": "code",
   "execution_count": 295,
   "metadata": {
    "ExecuteTime": {
     "end_time": "2017-09-25T13:06:13.031896Z",
     "start_time": "2017-09-25T13:06:12.986087Z"
    }
   },
   "outputs": [
    {
     "name": "stdout",
     "output_type": "stream",
     "text": [
      "          0         1         2         3         4\n",
      "0  0.196273  0.692368  0.284013  0.124768  0.273781\n",
      "1  0.196273  0.692368  0.284013  0.124768  0.273781\n",
      "2  0.500318  0.109638  0.032496  0.816772  0.717121\n",
      "3  0.580478  0.250494  0.610363  0.508620  0.523114\n",
      "4  0.802217  0.876236  0.199837  0.423788  0.965456\n"
     ]
    },
    {
     "data": {
      "text/html": [
       "<div>\n",
       "<style>\n",
       "    .dataframe thead tr:only-child th {\n",
       "        text-align: right;\n",
       "    }\n",
       "\n",
       "    .dataframe thead th {\n",
       "        text-align: left;\n",
       "    }\n",
       "\n",
       "    .dataframe tbody tr th {\n",
       "        vertical-align: top;\n",
       "    }\n",
       "</style>\n",
       "<table border=\"1\" class=\"dataframe\">\n",
       "  <thead>\n",
       "    <tr style=\"text-align: right;\">\n",
       "      <th></th>\n",
       "      <th>0</th>\n",
       "      <th>1</th>\n",
       "      <th>2</th>\n",
       "      <th>3</th>\n",
       "      <th>4</th>\n",
       "    </tr>\n",
       "  </thead>\n",
       "  <tbody>\n",
       "    <tr>\n",
       "      <th>0</th>\n",
       "      <td>1.0</td>\n",
       "      <td>3.0</td>\n",
       "      <td>3.0</td>\n",
       "      <td>1.0</td>\n",
       "      <td>1.0</td>\n",
       "    </tr>\n",
       "    <tr>\n",
       "      <th>1</th>\n",
       "      <td>1.0</td>\n",
       "      <td>3.0</td>\n",
       "      <td>3.0</td>\n",
       "      <td>1.0</td>\n",
       "      <td>1.0</td>\n",
       "    </tr>\n",
       "    <tr>\n",
       "      <th>2</th>\n",
       "      <td>3.0</td>\n",
       "      <td>1.0</td>\n",
       "      <td>1.0</td>\n",
       "      <td>5.0</td>\n",
       "      <td>4.0</td>\n",
       "    </tr>\n",
       "    <tr>\n",
       "      <th>3</th>\n",
       "      <td>4.0</td>\n",
       "      <td>2.0</td>\n",
       "      <td>5.0</td>\n",
       "      <td>4.0</td>\n",
       "      <td>3.0</td>\n",
       "    </tr>\n",
       "    <tr>\n",
       "      <th>4</th>\n",
       "      <td>5.0</td>\n",
       "      <td>5.0</td>\n",
       "      <td>2.0</td>\n",
       "      <td>3.0</td>\n",
       "      <td>5.0</td>\n",
       "    </tr>\n",
       "  </tbody>\n",
       "</table>\n",
       "</div>"
      ],
      "text/plain": [
       "     0    1    2    3    4\n",
       "0  1.0  3.0  3.0  1.0  1.0\n",
       "1  1.0  3.0  3.0  1.0  1.0\n",
       "2  3.0  1.0  1.0  5.0  4.0\n",
       "3  4.0  2.0  5.0  4.0  3.0\n",
       "4  5.0  5.0  2.0  3.0  5.0"
      ]
     },
     "execution_count": 295,
     "metadata": {},
     "output_type": "execute_result"
    }
   ],
   "source": [
    "# df = pd.DataFrame(np.random.random((5,5)))\n",
    "df.loc[0,:] = df.loc[1,:]\n",
    "print df\n",
    "df.rank(0, method='min')"
   ]
  },
  {
   "cell_type": "code",
   "execution_count": 285,
   "metadata": {
    "ExecuteTime": {
     "end_time": "2017-09-25T12:58:53.565428Z",
     "start_time": "2017-09-25T12:58:53.550574Z"
    }
   },
   "outputs": [
    {
     "name": "stdout",
     "output_type": "stream",
     "text": [
      "18161\n",
      "4.28921511819\n",
      "17664\n",
      "7226\n"
     ]
    }
   ],
   "source": [
    "print fa_idx[-1]\n",
    "print sim[g_idx, 18161]\n",
    "print np.argsort(sim[:, 18161])[g_idx]\n",
    "print (sim[g_idx, 18161] < sim[:, 18161]).sum()"
   ]
  },
  {
   "cell_type": "code",
   "execution_count": 314,
   "metadata": {
    "ExecuteTime": {
     "end_time": "2017-09-25T13:20:50.311194Z",
     "start_time": "2017-09-25T13:20:16.349574Z"
    },
    "collapsed": true
   },
   "outputs": [],
   "source": [
    "sim_rank = pd.DataFrame(sim).rank(0) / (sim.shape[0] - 1)\n",
    "sim_rank = pd.DataFrame((sim_rank.values + sim_rank.values.T) / 2.0)"
   ]
  },
  {
   "cell_type": "code",
   "execution_count": 324,
   "metadata": {
    "ExecuteTime": {
     "end_time": "2017-09-25T16:08:34.998231Z",
     "start_time": "2017-09-25T16:08:34.621658Z"
    }
   },
   "outputs": [
    {
     "name": "stdout",
     "output_type": "stream",
     "text": [
      "min_sim: 0.840498737374\n"
     ]
    },
    {
     "data": {
      "image/png": "[encoded data removed]",
      "text/plain": [
       "<matplotlib.figure.Figure at 0x7fdd24a59dd0>"
      ]
     },
     "metadata": {},
     "output_type": "display_data"
    }
   ],
   "source": [
    "a, b, c, fig_tmp = expand_seed(seed, sim_rank.values, sim_names, agg='mean', seed_perc=0, figure=True)\n",
    "fig_tmp"
   ]
  },
  {
   "cell_type": "code",
   "execution_count": 344,
   "metadata": {
    "ExecuteTime": {
     "end_time": "2017-09-25T16:21:40.092123Z",
     "start_time": "2017-09-25T16:21:37.813585Z"
    }
   },
   "outputs": [
    {
     "name": "stdout",
     "output_type": "stream",
     "text": [
      "temp output: /tmp/tmpTGeU0C\n",
      "temp graph: /tmp/tmpbGyTQH\n",
      "temp output log: /tmp/tmp6a6ZS4\n",
      "/tmp/tmpbGyTQH\t0.05\t0.5\t-10000000 2017-09-25 09:21:38.025429\n",
      "CLIXO command: /cellar/users/mikeyu/DeepTranslate/ddot/ddot/mhk7-clixo_0.3-cec3674/clixo /tmp/tmpbGyTQH 0.05 0.5 | awk '{if ( $1 ~ /^#/ ) {print \"\\#\", strftime(\"%Y-%m-%d %H:%M:%S\"), $0 ; fflush() } else {print $0}}' | tee /tmp/tmp6a6ZS4\n",
      "Extracting by grep -v # 2017-09-25 09:21:39.936868\n",
      "Elapsed time (sec): 1.91143894196 2017-09-25 09:21:39.967189\n",
      "Ontology: 429 genes, 146 terms, 876 gene-term relations, 173 term-term relations\n",
      "node_attributes: \n",
      "edge_attributes: CLIXO_score\n"
     ]
    },
    {
     "data": {
      "text/plain": [
       "<ddot.Ontology.Ontology instance at 0x7fdd290a5ea8>"
      ]
     },
     "execution_count": 344,
     "metadata": {},
     "output_type": "execute_result"
    }
   ],
   "source": [
    "Ontology.run_clixo(melt_square(pd.DataFrame(sim[b, :][:, b], columns=a, index=a)),\n",
    "                   0.05, 0.5)"
   ]
  },
  {
   "cell_type": "code",
   "execution_count": 343,
   "metadata": {
    "ExecuteTime": {
     "end_time": "2017-09-25T16:21:32.017906Z",
     "start_time": "2017-09-25T16:21:31.620264Z"
    }
   },
   "outputs": [
    {
     "data": {
      "text/plain": [
       "<matplotlib.axes._subplots.AxesSubplot at 0x7fdd2d8fa2d0>"
      ]
     },
     "execution_count": 343,
     "metadata": {},
     "output_type": "execute_result"
    },
    {
     "data": {
      "image/png": "[encoded data removed]",
      "text/plain": [
       "<matplotlib.figure.Figure at 0x7fdd2fd40cd0>"
      ]
     },
     "metadata": {},
     "output_type": "display_data"
    }
   ],
   "source": [
    "sns.distplot(sim[b, :][:, b][np.triu_indices(b.size,1)])"
   ]
  },
  {
   "cell_type": "code",
   "execution_count": 320,
   "metadata": {
    "ExecuteTime": {
     "end_time": "2017-09-25T13:21:24.914639Z",
     "start_time": "2017-09-25T13:21:24.905305Z"
    }
   },
   "outputs": [
    {
     "data": {
      "text/plain": [
       "True"
      ]
     },
     "execution_count": 320,
     "metadata": {},
     "output_type": "execute_result"
    }
   ],
   "source": [
    "'RFWD3' in a"
   ]
  },
  {
   "cell_type": "code",
   "execution_count": 219,
   "metadata": {
    "ExecuteTime": {
     "end_time": "2017-09-23T02:19:38.069266Z",
     "start_time": "2017-09-23T02:19:37.690014Z"
    }
   },
   "outputs": [
    {
     "name": "stdout",
     "output_type": "stream",
     "text": [
      "min_sim: 5.20081410586\n"
     ]
    },
    {
     "data": {
      "image/png": "[encoded data removed]",
      "text/plain": [
       "<matplotlib.figure.Figure at 0x7fdd2479bb10>"
      ]
     },
     "metadata": {},
     "output_type": "display_data"
    }
   ],
   "source": [
    "a, b, c, fig_tmp = expand_seed(seed, sim, sim_names, agg='mean', seed_perc=0, figure=True)\n",
    "fig_tmp"
   ]
  },
  {
   "cell_type": "code",
   "execution_count": 239,
   "metadata": {
    "ExecuteTime": {
     "end_time": "2017-09-23T03:40:02.069902Z",
     "start_time": "2017-09-23T03:40:01.701793Z"
    }
   },
   "outputs": [
    {
     "data": {
      "text/plain": [
       "<matplotlib.axes._subplots.AxesSubplot at 0x7fdd2fd59950>"
      ]
     },
     "execution_count": 239,
     "metadata": {},
     "output_type": "execute_result"
    },
    {
     "data": {
      "image/png": "[encoded data removed]",
      "text/plain": [
       "<matplotlib.figure.Figure at 0x7fdd2b4e1190>"
      ]
     },
     "metadata": {},
     "output_type": "display_data"
    }
   ],
   "source": [
    "sns.distplot(sim_rank[fa_idx, :].mean(0))"
   ]
  },
  {
   "cell_type": "code",
   "execution_count": 257,
   "metadata": {
    "ExecuteTime": {
     "end_time": "2017-09-23T04:00:06.863081Z",
     "start_time": "2017-09-23T04:00:06.836174Z"
    }
   },
   "outputs": [
    {
     "data": {
      "text/html": [
       "<div>\n",
       "<style>\n",
       "    .dataframe thead tr:only-child th {\n",
       "        text-align: right;\n",
       "    }\n",
       "\n",
       "    .dataframe thead th {\n",
       "        text-align: left;\n",
       "    }\n",
       "\n",
       "    .dataframe tbody tr th {\n",
       "        vertical-align: top;\n",
       "    }\n",
       "</style>\n",
       "<table border=\"1\" class=\"dataframe\">\n",
       "  <thead>\n",
       "    <tr style=\"text-align: right;\">\n",
       "      <th></th>\n",
       "      <th>0</th>\n",
       "    </tr>\n",
       "  </thead>\n",
       "  <tbody>\n",
       "    <tr>\n",
       "      <th>0</th>\n",
       "      <td>0.528259</td>\n",
       "    </tr>\n",
       "    <tr>\n",
       "      <th>1</th>\n",
       "      <td>0.444184</td>\n",
       "    </tr>\n",
       "    <tr>\n",
       "      <th>2</th>\n",
       "      <td>0.451247</td>\n",
       "    </tr>\n",
       "    <tr>\n",
       "      <th>3</th>\n",
       "      <td>0.502999</td>\n",
       "    </tr>\n",
       "    <tr>\n",
       "      <th>4</th>\n",
       "      <td>0.537240</td>\n",
       "    </tr>\n",
       "    <tr>\n",
       "      <th>5</th>\n",
       "      <td>0.596696</td>\n",
       "    </tr>\n",
       "    <tr>\n",
       "      <th>6</th>\n",
       "      <td>0.495023</td>\n",
       "    </tr>\n",
       "    <tr>\n",
       "      <th>7</th>\n",
       "      <td>0.446691</td>\n",
       "    </tr>\n",
       "    <tr>\n",
       "      <th>8</th>\n",
       "      <td>0.630571</td>\n",
       "    </tr>\n",
       "    <tr>\n",
       "      <th>9</th>\n",
       "      <td>0.543224</td>\n",
       "    </tr>\n",
       "    <tr>\n",
       "      <th>10</th>\n",
       "      <td>0.590820</td>\n",
       "    </tr>\n",
       "    <tr>\n",
       "      <th>11</th>\n",
       "      <td>0.603267</td>\n",
       "    </tr>\n",
       "    <tr>\n",
       "      <th>12</th>\n",
       "      <td>0.576536</td>\n",
       "    </tr>\n",
       "    <tr>\n",
       "      <th>13</th>\n",
       "      <td>0.412700</td>\n",
       "    </tr>\n",
       "    <tr>\n",
       "      <th>14</th>\n",
       "      <td>0.443755</td>\n",
       "    </tr>\n",
       "    <tr>\n",
       "      <th>15</th>\n",
       "      <td>0.469863</td>\n",
       "    </tr>\n",
       "    <tr>\n",
       "      <th>16</th>\n",
       "      <td>0.512305</td>\n",
       "    </tr>\n",
       "    <tr>\n",
       "      <th>17</th>\n",
       "      <td>0.557607</td>\n",
       "    </tr>\n",
       "    <tr>\n",
       "      <th>18</th>\n",
       "      <td>0.434796</td>\n",
       "    </tr>\n",
       "    <tr>\n",
       "      <th>19</th>\n",
       "      <td>0.545541</td>\n",
       "    </tr>\n",
       "  </tbody>\n",
       "</table>\n",
       "</div>"
      ],
      "text/plain": [
       "           0\n",
       "0   0.528259\n",
       "1   0.444184\n",
       "2   0.451247\n",
       "3   0.502999\n",
       "4   0.537240\n",
       "5   0.596696\n",
       "6   0.495023\n",
       "7   0.446691\n",
       "8   0.630571\n",
       "9   0.543224\n",
       "10  0.590820\n",
       "11  0.603267\n",
       "12  0.576536\n",
       "13  0.412700\n",
       "14  0.443755\n",
       "15  0.469863\n",
       "16  0.512305\n",
       "17  0.557607\n",
       "18  0.434796\n",
       "19  0.545541"
      ]
     },
     "execution_count": 257,
     "metadata": {},
     "output_type": "execute_result"
    }
   ],
   "source": [
    "pd.DataFrame(sim_rank[fa_idx, :][:, fa_idx].mean(1))"
   ]
  },
  {
   "cell_type": "code",
   "execution_count": null,
   "metadata": {
    "collapsed": true
   },
   "outputs": [],
   "source": []
  },
  {
   "cell_type": "markdown",
   "metadata": {
    "collapsed": true
   },
   "source": [
    "# Timeline of Fanconi Anemia genes"
   ]
  },
  {
   "cell_type": "code",
   "execution_count": null,
   "metadata": {
    "collapsed": true
   },
   "outputs": [],
   "source": []
  }
 ],
 "metadata": {
  "kernelspec": {
   "display_name": "Python 2",
   "language": "python",
   "name": "python2"
  },
  "language_info": {
   "codemirror_mode": {
    "name": "ipython",
    "version": 2
   },
   "file_extension": ".py",
   "mimetype": "text/x-python",
   "name": "python",
   "nbconvert_exporter": "python",
   "pygments_lexer": "ipython2",
   "version": "2.7.13"
  },
  "latex_envs": {
   "LaTeX_envs_menu_present": true,
   "autocomplete": true,
   "bibliofile": "biblio.bib",
   "cite_by": "apalike",
   "current_citInitial": 1,
   "eqLabelWithNumbers": true,
   "eqNumInitial": 1,
   "hotkeys": {
    "equation": "Ctrl-E",
    "itemize": "Ctrl-I"
   },
   "labels_anchors": false,
   "latex_user_defs": false,
   "report_style_numbering": false,
   "user_envs_cfg": false
  },
  "toc": {
   "colors": {
    "hover_highlight": "#DAA520",
    "navigate_num": "#000000",
    "navigate_text": "#333333",
    "running_highlight": "#FF0000",
    "selected_highlight": "#FFD700",
    "sidebar_border": "#EEEEEE",
    "wrapper_background": "#FFFFFF"
   },
   "moveMenuLeft": true,
   "nav_menu": {
    "height": "225px",
    "width": "252px"
   },
   "navigate_menu": true,
   "number_sections": true,
   "sideBar": true,
   "threshold": 4,
   "toc_cell": false,
   "toc_position": {
    "height": "661px",
    "left": "0px",
    "right": "1414.04px",
    "top": "108px",
    "width": "212px"
   },
   "toc_section_display": "block",
   "toc_window_display": false,
   "widenNotebook": false
  }
 },
 "nbformat": 4,
 "nbformat_minor": 2
}
