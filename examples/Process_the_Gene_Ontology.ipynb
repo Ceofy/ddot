{
 "cells": [
  {
   "cell_type": "markdown",
   "metadata": {},
   "source": [
    "# Introduction: Use DDOT to download and process a human-focused Gene Ontology (GO)\n",
    "\n",
    "The Gene Ontology (GO) is a general structure that has been curated to describe all species. This notebook extracts the portion of GO that is focused on human biology. This notebook does the following processing steps:\n",
    "\n",
    "1. Download the GO structure and gene-term annotations\n",
    "2. Remove redundant GO terms that are not relevant for human, i.e. terms that contain no human genes.\n",
    "3. Concatenate all three branches of GO (biological process, molecular function, cellular component) into a unified ontology with an artificial root 'GO:00SUPER'\n",
    "4. Convert gene IDs and symbols using mygene.info Python package (Installation: https://pypi.org/project/mygene/)\n",
    "5. Upload ontology to NDEx\n",
    "\n",
    "It is strongly recommended that you go through the tutorial (DDOT_Tutorial.ipynb) before this notebook."
   ]
  },
  {
   "cell_type": "code",
   "execution_count": 2,
   "metadata": {
    "ExecuteTime": {
     "end_time": "2018-05-23T20:02:48.032399Z",
     "start_time": "2018-05-23T20:02:42.213957Z"
    },
    "collapsed": true
   },
   "outputs": [],
   "source": [
    "import requests\n",
    "import gzip\n",
    "import pandas as pd\n",
    "import networkx as nx\n",
    "import sys\n",
    "\n",
    "import ddot\n",
    "from ddot import Ontology, parse_gaf, parse_obo, nx_to_NdexGraph"
   ]
  },
  {
   "cell_type": "markdown",
   "metadata": {},
   "source": [
    "# Set NDEx username and password"
   ]
  },
  {
   "cell_type": "code",
   "execution_count": 3,
   "metadata": {
    "ExecuteTime": {
     "end_time": "2018-05-23T20:02:48.067248Z",
     "start_time": "2018-05-23T20:02:48.035585Z"
    },
    "collapsed": true
   },
   "outputs": [],
   "source": [
    "ndex_server = 'http://test.ndexbio.org'\n",
    "ndex_user, ndex_pass = 'scratch', 'scratch'"
   ]
  },
  {
   "cell_type": "markdown",
   "metadata": {},
   "source": [
    "# Download and Parse Gene Ontology files"
   ]
  },
  {
   "cell_type": "code",
   "execution_count": 4,
   "metadata": {
    "ExecuteTime": {
     "end_time": "2018-05-23T20:02:54.089317Z",
     "start_time": "2018-05-23T20:02:48.069592Z"
    },
    "collapsed": true
   },
   "outputs": [],
   "source": [
    "# Download GO obo file\n",
    "r = requests.get('http://purl.obolibrary.org/obo/go/go-basic.obo')\n",
    "with open('go-basic.obo', 'wb') as f:\n",
    "    f.write(r.content)\n",
    "\n",
    "# Parse OBO file\n",
    "parse_obo('go-basic.obo', 'go.tab', 'goID_2_name.tab', 'goID_2_namespace.tab', 'goID_2_alt_id.tab')\n",
    "\n",
    "# Download gene-term annotations for human\n",
    "r = requests.get('http://geneontology.org/gene-associations/goa_human.gaf.gz')\n",
    "with open('goa_human.gaf.gz', 'wb') as f:\n",
    "    f.write(r.content)"
   ]
  },
  {
   "cell_type": "markdown",
   "metadata": {},
   "source": [
    "# Create Ontology object from Gene Ontology files"
   ]
  },
  {
   "cell_type": "code",
   "execution_count": 6,
   "metadata": {
    "ExecuteTime": {
     "end_time": "2018-05-24T06:31:59.058994Z",
     "start_time": "2018-05-24T06:31:56.589183Z"
    }
   },
   "outputs": [
    {
     "name": "stderr",
     "output_type": "stream",
     "text": [
      "/cellar/users/mikeyu/anaconda2/lib/python2.7/site-packages/IPython/core/interactiveshell.py:2821: DtypeWarning: Columns (15) have mixed types. Specify dtype option on import or set low_memory=False.\n",
      "  if self.run_code(code, result):\n"
     ]
    }
   ],
   "source": [
    "hierarchy = pd.read_table('go.tab',\n",
    "                          sep='\\t',\n",
    "                          header=None,\n",
    "                          names=['Parent', 'Child', 'Relation', 'Namespace'])\n",
    "with gzip.open('goa_human.gaf.gz', 'rb') as f:\n",
    "    mapping = parse_gaf(f)"
   ]
  },
  {
   "cell_type": "code",
   "execution_count": 7,
   "metadata": {
    "ExecuteTime": {
     "end_time": "2018-05-24T06:32:02.285619Z",
     "start_time": "2018-05-24T06:31:59.060849Z"
    }
   },
   "outputs": [
    {
     "name": "stdout",
     "output_type": "stream",
     "text": [
      "WARNING: Dropping 208594 duplicate gene-term connections\n",
      "Unifying 3 roots into one super-root\n"
     ]
    },
    {
     "data": {
      "text/plain": [
       "19688 genes, 44974 terms, 282119 gene-term relations, 92720 term-term relations\n",
       "node_attributes: []\n",
       "edge_attributes: []"
      ]
     },
     "execution_count": 7,
     "metadata": {},
     "output_type": "execute_result"
    }
   ],
   "source": [
    "go_human = Ontology.from_table(\n",
    "    table=hierarchy,\n",
    "    parent='Parent',\n",
    "    child='Child',\n",
    "    mapping=mapping,\n",
    "    mapping_child='DB Object ID',\n",
    "    mapping_parent='GO ID',\n",
    "    add_root_name='GO:00SUPER',\n",
    "    ignore_orphan_terms=True)\n",
    "go_human.clear_node_attr()\n",
    "go_human.clear_edge_attr()\n",
    "go_human"
   ]
  },
  {
   "cell_type": "markdown",
   "metadata": {},
   "source": [
    "# Collapse GO with respect to human UniProt IDs"
   ]
  },
  {
   "cell_type": "code",
   "execution_count": 8,
   "metadata": {
    "ExecuteTime": {
     "end_time": "2018-05-24T06:32:32.114578Z",
     "start_time": "2018-05-24T06:32:02.287270Z"
    }
   },
   "outputs": [
    {
     "name": "stdout",
     "output_type": "stream",
     "text": [
      "collapse command: /cellar/users/mikeyu/DeepTranslate/ddot/ddot/alignOntology/collapseRedundantNodes /tmp/tmpduZj1c\n",
      "CPU times: user 16.9 s, sys: 800 ms, total: 17.7 s\n",
      "Wall time: 29.8 s\n",
      "19688 genes, 19617 terms, 222011 gene-term relations, 44351 term-term relations\n",
      "node_attributes: []\n",
      "edge_attributes: []\n"
     ]
    }
   ],
   "source": [
    "%time go_human = go_human.collapse_ontology(method='mhkramer')\n",
    "if 'GO:00SUPER' not in go_human.terms: go_human.add_root('GO:00SUPER', inplace=True)\n",
    "print go_human"
   ]
  },
  {
   "cell_type": "markdown",
   "metadata": {},
   "source": [
    "# Add descriptions of GO terms"
   ]
  },
  {
   "cell_type": "code",
   "execution_count": 9,
   "metadata": {
    "ExecuteTime": {
     "end_time": "2018-05-24T06:32:32.310797Z",
     "start_time": "2018-05-24T06:32:32.116223Z"
    },
    "collapsed": true
   },
   "outputs": [],
   "source": [
    "go_descriptions = pd.read_table('goID_2_name.tab',\n",
    "                                header=None,\n",
    "                                names=['Term', 'Term_Description'],\n",
    "                                index_col=0)\n",
    "go_human.update_node_attr(go_descriptions)\n",
    "\n",
    "go_branches = pd.read_table('goID_2_namespace.tab',\n",
    "                                header=None,\n",
    "                                names=['Term', 'Branch'],\n",
    "                                index_col=0)\n",
    "go_human.update_node_attr(go_branches)"
   ]
  },
  {
   "cell_type": "markdown",
   "metadata": {},
   "source": [
    "# Upload GO to NDEx (and write to local file)\n",
    "* GO's annotation files uses UniProt IDs for human genes. Use the mygene.info package to convert UniProt IDs to Ensembl, HUGO, and Entrez IDs."
   ]
  },
  {
   "cell_type": "code",
   "execution_count": null,
   "metadata": {
    "collapsed": true
   },
   "outputs": [],
   "source": [
    "# Install the mygene package (it is recommend you run this in a separate bash terminal, not in this Jupyter notebook. If you want to use a conda virtual environment, then you first need to activate the environment)\n",
    "! pip install mygene"
   ]
  },
  {
   "cell_type": "code",
   "execution_count": 10,
   "metadata": {
    "ExecuteTime": {
     "end_time": "2018-05-24T06:32:32.342339Z",
     "start_time": "2018-05-24T06:32:32.312458Z"
    },
    "collapsed": true
   },
   "outputs": [],
   "source": [
    "import mygene\n",
    "mg = mygene.MyGeneInfo()"
   ]
  },
  {
   "cell_type": "code",
   "execution_count": 11,
   "metadata": {
    "ExecuteTime": {
     "end_time": "2018-05-24T06:32:32.360188Z",
     "start_time": "2018-05-24T06:32:32.343900Z"
    },
    "collapsed": true
   },
   "outputs": [],
   "source": [
    "name = 'Human-specific Gene Ontology'"
   ]
  },
  {
   "cell_type": "markdown",
   "metadata": {},
   "source": [
    "## Format GO with UniProt IDs and upload to NDEx"
   ]
  },
  {
   "cell_type": "code",
   "execution_count": 12,
   "metadata": {
    "ExecuteTime": {
     "end_time": "2018-05-24T06:32:58.537649Z",
     "start_time": "2018-05-24T06:32:32.361623Z"
    }
   },
   "outputs": [
    {
     "name": "stdout",
     "output_type": "stream",
     "text": [
      "\n",
      "http://dev2.ndexbio.org/v2/network/4c7503af-5f1c-11e8-9d1c-0660b7976219\n"
     ]
    }
   ],
   "source": [
    "go_human_uniprot = go_human.copy()\n",
    "\n",
    "# Write GO to file\n",
    "go_human_uniprot.to_table('collapsed_go.uniprot', clixo_format=True)\n",
    "go_human_uniprot.to_pickle('collapsed_go.uniprot.pkl')\n",
    "\n",
    "url, G = go_human_uniprot.to_ndex(name='%s, %s' % (name, 'UniProt'),\n",
    "                                  ndex_server=ndex_server,\n",
    "                                  ndex_user=ndex_user,\n",
    "                                  ndex_pass=ndex_pass,\n",
    "                                  layout=None,\n",
    "                                  visibility='PUBLIC')\n",
    "print(url)"
   ]
  },
  {
   "cell_type": "markdown",
   "metadata": {},
   "source": [
    "## Format GO with gene symbols and upload to NDEx"
   ]
  },
  {
   "cell_type": "code",
   "execution_count": 13,
   "metadata": {
    "ExecuteTime": {
     "end_time": "2018-05-24T21:07:00.468694Z",
     "start_time": "2018-05-24T21:06:04.284426Z"
    }
   },
   "outputs": [
    {
     "name": "stdout",
     "output_type": "stream",
     "text": [
      "querying 1-1000...done.\n",
      "querying 1001-2000...done.\n",
      "querying 2001-3000...done.\n",
      "querying 3001-4000...done.\n",
      "querying 4001-5000...done.\n",
      "querying 5001-6000...done.\n",
      "querying 6001-7000...done.\n",
      "querying 7001-8000...done.\n",
      "querying 8001-9000...done.\n",
      "querying 9001-10000...done.\n",
      "querying 10001-11000...done.\n",
      "querying 11001-12000...done.\n",
      "querying 12001-13000...done.\n",
      "querying 13001-14000...done.\n",
      "querying 14001-15000...done.\n",
      "querying 15001-16000...done.\n",
      "querying 16001-17000...done.\n",
      "querying 17001-18000...done.\n",
      "querying 18001-19000...done.\n",
      "querying 19001-19688...done.\n",
      "Finished.\n",
      "338 input query terms found dup hits:\n",
      "\t[(u'G5E9R7', 2), (u'Q6ZTI6', 2), (u'P62807', 6), (u'P62805', 10), (u'Q5DJT8', 3), (u'P50391', 3), (u\n",
      "638 input query terms found no hit:\n",
      "\t[u'A0A075B734', u'A0A087WSY4', u'A0A087WUL8', u'A0A087WV96', u'A0A087WX78', u'A0A087X1C1', u'A0A087X\n",
      "Pass \"returnall=True\" to return complete lists of duplicate or missing query terms.\n"
     ]
    }
   ],
   "source": [
    "uniprot_2_symbol_df = mg.querymany(go_human.genes, scopes='uniprot', fields='symbol', species='human', as_dataframe=True)\n",
    "\n",
    "def f(x):\n",
    "    x = x['symbol']\n",
    "    if len(x)==1:\n",
    "        return x[0]\n",
    "    else:\n",
    "        return x.tolist()\n",
    "uniprot_2_symbol = uniprot_2_symbol_df.dropna(subset=['symbol']).groupby('query').apply(f)"
   ]
  },
  {
   "cell_type": "code",
   "execution_count": 15,
   "metadata": {
    "ExecuteTime": {
     "end_time": "2018-05-24T21:08:55.255808Z",
     "start_time": "2018-05-24T21:08:26.388404Z"
    }
   },
   "outputs": [
    {
     "name": "stdout",
     "output_type": "stream",
     "text": [
      "19216 genes, 19617 terms, 220577 gene-term relations, 44351 term-term relations\n",
      "node_attributes: ['Term_Description', 'Branch']\n",
      "edge_attributes: []\n",
      "http://dev2.ndexbio.org/v2/network/aa7d4745-5f96-11e8-9d1c-0660b7976219\n"
     ]
    }
   ],
   "source": [
    "go_human_symbol = go_human.delete(to_delete=set(go_human.genes) - set(uniprot_2_symbol.keys()))\n",
    "go_human_symbol = go_human_symbol.rename(genes=uniprot_2_symbol.to_dict())\n",
    "print(go_human_symbol)\n",
    "\n",
    "# Write GO to file\n",
    "go_human_symbol.to_table('collapsed_go.symbol', clixo_format=True)\n",
    "go_human_symbol.to_pickle('collapsed_go.symbol.pkl')\n",
    "\n",
    "url, G = go_human_symbol.to_ndex(name='%s, %s' % (name, 'Symbol'),\n",
    "                                 ndex_server=ndex_server,\n",
    "                                 ndex_user=ndex_user,\n",
    "                                 ndex_pass=ndex_pass,\n",
    "                                 layout=None,\n",
    "                                 visibility='PUBLIC')\n",
    "print(url)"
   ]
  },
  {
   "cell_type": "markdown",
   "metadata": {},
   "source": [
    "## Format GO with Entrez gene IDs and upload to NDEx"
   ]
  },
  {
   "cell_type": "code",
   "execution_count": 14,
   "metadata": {
    "ExecuteTime": {
     "end_time": "2018-05-24T21:08:26.386887Z",
     "start_time": "2018-05-24T21:07:27.782284Z"
    }
   },
   "outputs": [
    {
     "name": "stdout",
     "output_type": "stream",
     "text": [
      "querying 1-1000...done.\n",
      "querying 1001-2000...done.\n",
      "querying 2001-3000...done.\n",
      "querying 3001-4000...done.\n",
      "querying 4001-5000...done.\n",
      "querying 5001-6000...done.\n",
      "querying 6001-7000...done.\n",
      "querying 7001-8000...done.\n",
      "querying 8001-9000...done.\n",
      "querying 9001-10000...done.\n",
      "querying 10001-11000...done.\n",
      "querying 11001-12000...done.\n",
      "querying 12001-13000...done.\n",
      "querying 13001-14000...done.\n",
      "querying 14001-15000...done.\n",
      "querying 15001-16000...done.\n",
      "querying 16001-17000...done.\n",
      "querying 17001-18000...done.\n",
      "querying 18001-19000...done.\n",
      "querying 19001-19688...done.\n",
      "Finished.\n",
      "338 input query terms found dup hits:\n",
      "\t[(u'G5E9R7', 2), (u'Q6ZTI6', 2), (u'P62807', 6), (u'P62805', 10), (u'Q5DJT8', 3), (u'P50391', 3), (u\n",
      "638 input query terms found no hit:\n",
      "\t[u'A0A075B734', u'A0A087WSY4', u'A0A087WUL8', u'A0A087WV96', u'A0A087WX78', u'A0A087X1C1', u'A0A087X\n",
      "Pass \"returnall=True\" to return complete lists of duplicate or missing query terms.\n"
     ]
    }
   ],
   "source": [
    "uniprot_2_entrezgene_df = mg.querymany(go_human.genes, scopes='uniprot', fields='entrezgene', species='human', as_dataframe=True)\n",
    "\n",
    "def f(x):\n",
    "    x = x['entrezgene'].astype(int).astype(str)\n",
    "    if len(x)==1:\n",
    "        return x[0]\n",
    "    else:\n",
    "        return x.tolist()\n",
    "uniprot_2_entrezgene = uniprot_2_entrezgene_df.dropna(subset=['entrezgene']).groupby('query').apply(f)"
   ]
  },
  {
   "cell_type": "code",
   "execution_count": 48,
   "metadata": {
    "ExecuteTime": {
     "end_time": "2018-01-24T07:07:42.055474Z",
     "start_time": "2018-01-24T07:07:07.731615Z"
    }
   },
   "outputs": [
    {
     "name": "stdout",
     "output_type": "stream",
     "text": [
      "18617 genes, 19343 terms, 212832 gene-term relations, 43296 term-term relations\n",
      "node_attributes: ['Term_Description', 'Branch', 'Size']\n",
      "edge_attributes: []\n",
      "http://dev2.ndexbio.org/v2/network/44980eef-00d5-11e8-bd69-0660b7976219\n"
     ]
    }
   ],
   "source": [
    "go_human_entrez = go_human.delete(to_delete=set(go_human.genes) - set(uniprot_2_entrezgene.keys()))\n",
    "go_human_entrez = go_human_entrez.rename(genes=uniprot_2_entrezgene.to_dict())\n",
    "print go_human_entrez\n",
    "\n",
    "# Write GO to file\n",
    "go_human_entrez.to_table('collapsed_go.entrez', clixo_format=True)\n",
    "go_human_entrez.to_pickle('collapsed_go.entrez.pkl')\n",
    "\n",
    "url, G = go_human_entrez.to_ndex(name='%s, %s' % (name, 'Entrez'),\n",
    "                                 ndex_server=ndex_server,\n",
    "                                 ndex_user=ndex_user,\n",
    "                                 ndex_pass=ndex_pass,\n",
    "                                 layout=None,\n",
    "                                 visibility='PUBLIC')\n",
    "print(url)"
   ]
  }
 ],
 "metadata": {
  "kernelspec": {
   "display_name": "Python [default]",
   "language": "python",
   "name": "python2"
  },
  "language_info": {
   "codemirror_mode": {
    "name": "ipython",
    "version": 2
   },
   "file_extension": ".py",
   "mimetype": "text/x-python",
   "name": "python",
   "nbconvert_exporter": "python",
   "pygments_lexer": "ipython2",
   "version": "2.7.13"
  },
  "latex_envs": {
   "LaTeX_envs_menu_present": true,
   "autocomplete": true,
   "bibliofile": "biblio.bib",
   "cite_by": "apalike",
   "current_citInitial": 1,
   "eqLabelWithNumbers": true,
   "eqNumInitial": 1,
   "hotkeys": {
    "equation": "Ctrl-E",
    "itemize": "Ctrl-I"
   },
   "labels_anchors": false,
   "latex_user_defs": false,
   "report_style_numbering": false,
   "user_envs_cfg": false
  },
  "toc": {
   "colors": {
    "hover_highlight": "#DAA520",
    "navigate_num": "#000000",
    "navigate_text": "#333333",
    "running_highlight": "#FF0000",
    "selected_highlight": "#FFD700",
    "sidebar_border": "#EEEEEE",
    "wrapper_background": "#FFFFFF"
   },
   "moveMenuLeft": true,
   "nav_menu": {
    "height": "66px",
    "width": "252px"
   },
   "navigate_menu": true,
   "number_sections": true,
   "sideBar": true,
   "threshold": 4,
   "toc_cell": false,
   "toc_position": {
    "height": "652px",
    "left": "0px",
    "right": "1359.8px",
    "top": "108px",
    "width": "176px"
   },
   "toc_section_display": "block",
   "toc_window_display": false,
   "widenNotebook": false
  }
 },
 "nbformat": 4,
 "nbformat_minor": 1
}
