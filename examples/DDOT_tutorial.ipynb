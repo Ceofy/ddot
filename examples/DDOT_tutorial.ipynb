{
 "cells": [
  {
   "cell_type": "code",
   "execution_count": 11,
   "metadata": {
    "ExecuteTime": {
     "end_time": "2018-05-24T22:13:04.513053Z",
     "start_time": "2018-05-24T22:13:03.675585Z"
    }
   },
   "outputs": [
    {
     "name": "stdout",
     "output_type": "stream",
     "text": [
      "The autoreload extension is already loaded. To reload it, use:\n",
      "  %reload_ext autoreload\n"
     ]
    }
   ],
   "source": [
    "%load_ext autoreload\n",
    "%autoreload 2\n",
    "\n",
    "import sys\n",
    "sys.path.insert(0, '/cellar/users/mikeyu/DeepTranslate/ddot')\n",
    "\n",
    "import numpy as np\n",
    "np.set_printoptions(linewidth=150)"
   ]
  },
  {
   "cell_type": "markdown",
   "metadata": {},
   "source": [
    "# Introduction: DDOT tutorial\n",
    "\n",
    "__What is an ontology?__\n",
    "\n",
    "An ontology is a hierarchical arrangement of two types of nodes: (1)\n",
    "genes at the leaves of the hierarchy and (2) terms at intermediate\n",
    "levels of the hierarchy. The hierarchy can be thought of as directed\n",
    "acyclic graph (DAG), in which each node can have multiple children or\n",
    "multiple parent nodes. DAGs are a generalization of trees\n",
    "(a.k.a. dendogram), where each node has at most one parent.\n",
    "\n",
    "__What is DDOT?__\n",
    "\n",
    "The DDOT Python package provides many functions for assembling,\n",
    "analyzing, and visualizing ontologies.  The main functionalities are\n",
    "implemented in an object-oriented manner by an \"Ontology\" class, which handles ontologies that are data-driven as well as those\n",
    "that are manually curated like the Gene Ontology.\n",
    "\n",
    "__What to do after reading this tutorial__\n",
    "\n",
    "Check out a complete list of functions in the [Ontology class](http://ddot.readthedocs.io/en/latest/ontology.html) and a list of [utility functions](http://ddot.readthedocs.io/en/latest/utils.html) that may help you build more concise pipelines. Also check out [example Jupyter notebooks](https://github.com/michaelkyu/ddot/tree/master/examples) that contain pipelines for downloading and processing the Gene Ontology and for inferring data-driven gene ontologies of diseases"
   ]
  },
  {
   "cell_type": "code",
   "execution_count": 2,
   "metadata": {
    "ExecuteTime": {
     "end_time": "2018-05-24T21:31:23.611675Z",
     "start_time": "2018-05-24T21:31:18.083469Z"
    },
    "collapsed": true
   },
   "outputs": [],
   "source": [
    "# Import Ontology class from DDOT package\n",
    "import ddot\n",
    "from ddot import Ontology"
   ]
  },
  {
   "cell_type": "markdown",
   "metadata": {},
   "source": [
    "# Creating an Ontology object\n",
    "\n",
    "An object of the Ontology class can be created in several ways. As an example, we will build the following toy ontology\n",
    "\n",
    "<img src=\"https://github.com/michaelkyu/ontology/blob/master/docs/toy_ontology.png?raw=true\" height=\"250\" align=\"left\">"
   ]
  },
  {
   "cell_type": "markdown",
   "metadata": {},
   "source": [
    "## Create ontology through the \\_\\_init\\_\\_ constructor"
   ]
  },
  {
   "cell_type": "code",
   "execution_count": 3,
   "metadata": {
    "ExecuteTime": {
     "end_time": "2018-05-24T21:31:25.419309Z",
     "start_time": "2018-05-24T21:31:25.377607Z"
    },
    "collapsed": true
   },
   "outputs": [],
   "source": [
    "# Connections from child terms to parent terms\n",
    "hierarchy = [('S3', 'S1'),\n",
    "             ('S4', 'S1'),\n",
    "             ('S5', 'S1'),\n",
    "             ('S5', 'S2'),\n",
    "             ('S6', 'S2'),\n",
    "             ('S1', 'S0'),\n",
    "             ('S2', 'S0')]\n",
    "\n",
    "# Connections from genes to terms\n",
    "mapping = [('A', 'S3'),\n",
    "           ('B', 'S3'),\n",
    "           ('C', 'S3'),\n",
    "           ('C', 'S4'),\n",
    "           ('D', 'S4'),\n",
    "           ('E', 'S5'),\n",
    "           ('F', 'S5'),\n",
    "           ('G', 'S6'),\n",
    "           ('H', 'S6')]\n",
    "\n",
    "# Construct ontology\n",
    "ont = Ontology(hierarchy, mapping)"
   ]
  },
  {
   "cell_type": "markdown",
   "metadata": {},
   "source": [
    "## Create an ontology from a tab-delimited table or Pandas dataframe"
   ]
  },
  {
   "cell_type": "code",
   "execution_count": 10,
   "metadata": {
    "ExecuteTime": {
     "end_time": "2018-05-02T18:07:38.600383Z",
     "start_time": "2018-05-02T18:07:29.704336Z"
    }
   },
   "outputs": [
    {
     "data": {
      "text/html": [
       "<div>\n",
       "<style scoped>\n",
       "    .dataframe tbody tr th:only-of-type {\n",
       "        vertical-align: middle;\n",
       "    }\n",
       "\n",
       "    .dataframe tbody tr th {\n",
       "        vertical-align: top;\n",
       "    }\n",
       "\n",
       "    .dataframe thead th {\n",
       "        text-align: right;\n",
       "    }\n",
       "</style>\n",
       "<table border=\"1\" class=\"dataframe\">\n",
       "  <thead>\n",
       "    <tr style=\"text-align: right;\">\n",
       "      <th></th>\n",
       "      <th>Parent</th>\n",
       "      <th>Child</th>\n",
       "      <th>EdgeType</th>\n",
       "    </tr>\n",
       "  </thead>\n",
       "  <tbody>\n",
       "    <tr>\n",
       "      <th>0</th>\n",
       "      <td>S0</td>\n",
       "      <td>S1</td>\n",
       "      <td>Child-Parent</td>\n",
       "    </tr>\n",
       "    <tr>\n",
       "      <th>1</th>\n",
       "      <td>S0</td>\n",
       "      <td>S2</td>\n",
       "      <td>Child-Parent</td>\n",
       "    </tr>\n",
       "    <tr>\n",
       "      <th>2</th>\n",
       "      <td>S1</td>\n",
       "      <td>S3</td>\n",
       "      <td>Child-Parent</td>\n",
       "    </tr>\n",
       "    <tr>\n",
       "      <th>3</th>\n",
       "      <td>S1</td>\n",
       "      <td>S4</td>\n",
       "      <td>Child-Parent</td>\n",
       "    </tr>\n",
       "    <tr>\n",
       "      <th>4</th>\n",
       "      <td>S1</td>\n",
       "      <td>S5</td>\n",
       "      <td>Child-Parent</td>\n",
       "    </tr>\n",
       "    <tr>\n",
       "      <th>5</th>\n",
       "      <td>S2</td>\n",
       "      <td>S5</td>\n",
       "      <td>Child-Parent</td>\n",
       "    </tr>\n",
       "    <tr>\n",
       "      <th>6</th>\n",
       "      <td>S2</td>\n",
       "      <td>S6</td>\n",
       "      <td>Child-Parent</td>\n",
       "    </tr>\n",
       "    <tr>\n",
       "      <th>7</th>\n",
       "      <td>S3</td>\n",
       "      <td>A</td>\n",
       "      <td>Gene-Term</td>\n",
       "    </tr>\n",
       "    <tr>\n",
       "      <th>8</th>\n",
       "      <td>S3</td>\n",
       "      <td>B</td>\n",
       "      <td>Gene-Term</td>\n",
       "    </tr>\n",
       "    <tr>\n",
       "      <th>9</th>\n",
       "      <td>S3</td>\n",
       "      <td>C</td>\n",
       "      <td>Gene-Term</td>\n",
       "    </tr>\n",
       "    <tr>\n",
       "      <th>10</th>\n",
       "      <td>S4</td>\n",
       "      <td>C</td>\n",
       "      <td>Gene-Term</td>\n",
       "    </tr>\n",
       "    <tr>\n",
       "      <th>11</th>\n",
       "      <td>S4</td>\n",
       "      <td>D</td>\n",
       "      <td>Gene-Term</td>\n",
       "    </tr>\n",
       "    <tr>\n",
       "      <th>12</th>\n",
       "      <td>S5</td>\n",
       "      <td>E</td>\n",
       "      <td>Gene-Term</td>\n",
       "    </tr>\n",
       "    <tr>\n",
       "      <th>13</th>\n",
       "      <td>S5</td>\n",
       "      <td>F</td>\n",
       "      <td>Gene-Term</td>\n",
       "    </tr>\n",
       "    <tr>\n",
       "      <th>14</th>\n",
       "      <td>S6</td>\n",
       "      <td>G</td>\n",
       "      <td>Gene-Term</td>\n",
       "    </tr>\n",
       "    <tr>\n",
       "      <th>15</th>\n",
       "      <td>S6</td>\n",
       "      <td>H</td>\n",
       "      <td>Gene-Term</td>\n",
       "    </tr>\n",
       "  </tbody>\n",
       "</table>\n",
       "</div>"
      ],
      "text/plain": [
       "   Parent Child      EdgeType\n",
       "0      S0    S1  Child-Parent\n",
       "1      S0    S2  Child-Parent\n",
       "2      S1    S3  Child-Parent\n",
       "3      S1    S4  Child-Parent\n",
       "4      S1    S5  Child-Parent\n",
       "5      S2    S5  Child-Parent\n",
       "6      S2    S6  Child-Parent\n",
       "7      S3     A     Gene-Term\n",
       "8      S3     B     Gene-Term\n",
       "9      S3     C     Gene-Term\n",
       "10     S4     C     Gene-Term\n",
       "11     S4     D     Gene-Term\n",
       "12     S5     E     Gene-Term\n",
       "13     S5     F     Gene-Term\n",
       "14     S6     G     Gene-Term\n",
       "15     S6     H     Gene-Term"
      ]
     },
     "execution_count": 10,
     "metadata": {},
     "output_type": "execute_result"
    }
   ],
   "source": [
    "ont.to_table('toy_ontology.txt')"
   ]
  },
  {
   "cell_type": "code",
   "execution_count": 6,
   "metadata": {
    "ExecuteTime": {
     "end_time": "2018-04-06T23:54:06.623923Z",
     "start_time": "2018-04-06T23:54:06.568231Z"
    },
    "collapsed": true
   },
   "outputs": [],
   "source": [
    "ont = Ontology.from_table('toy_ontology.txt')"
   ]
  },
  {
   "cell_type": "markdown",
   "metadata": {},
   "source": [
    "## From the Network Data Exchange (NDEx).\n",
    "* It is strongly recommended that you create a free account on NDEx at http://test.ndexbio.org/ in order to keep track of your networks.\n",
    "* Note that the main NDEx server is at http://ndexbio.org/. You will need an account made specifically on test.ndexbio.org rather than ndexbio.org"
   ]
  },
  {
   "cell_type": "code",
   "execution_count": 8,
   "metadata": {
    "ExecuteTime": {
     "end_time": "2018-05-24T22:12:08.894797Z",
     "start_time": "2018-05-24T22:12:08.861256Z"
    },
    "collapsed": true
   },
   "outputs": [],
   "source": [
    "# Set the NDEx server and the user account/password. (Replace with your own NDEx user account)\n",
    "ndex_server = 'http://test.ndexbio.org'\n",
    "ndex_user, ndex_pass = 'scratch', 'scratch'"
   ]
  },
  {
   "cell_type": "code",
   "execution_count": 5,
   "metadata": {
    "ExecuteTime": {
     "end_time": "2018-05-02T19:00:15.360848Z",
     "start_time": "2018-05-02T19:00:14.653636Z"
    }
   },
   "outputs": [
    {
     "name": "stdout",
     "output_type": "stream",
     "text": [
      "\n",
      "http://dev2.ndexbio.org/v2/network/0c6dcf11-4e3b-11e8-9d1c-0660b7976219\n"
     ]
    }
   ],
   "source": [
    "# Upload ontology to NDEx. The string after \"v2/network/\" is a unique identifier, which is called the UUID, of the ontology in NDEx\n",
    "url, _ = ont.to_ndex(ndex_server=ndex_server, ndex_user=ndex_user, ndex_pass=ndex_pass)\n",
    "print(url)"
   ]
  },
  {
   "cell_type": "code",
   "execution_count": 6,
   "metadata": {
    "ExecuteTime": {
     "end_time": "2018-05-02T19:00:16.809148Z",
     "start_time": "2018-05-02T19:00:16.532057Z"
    }
   },
   "outputs": [
    {
     "name": "stdout",
     "output_type": "stream",
     "text": [
      "\n",
      "8 genes, 7 terms, 9 gene-term relations, 7 term-term relations\n",
      "node_attributes: ['isRoot', 'Vis:Fill Color', 'Vis:Border Paint', 'NodeType', 'y_pos', 'name', 'Size', 'Vis:Size', 'x_pos', 'Vis:Shape', 'Label']\n",
      "edge_attributes: ['Vis:Visible', 'Is_Tree_Edge', 'EdgeType']\n"
     ]
    }
   ],
   "source": [
    "# Download the ontology from NDEx\n",
    "ont2 = Ontology.from_ndex(url)\n",
    "print(ont2)"
   ]
  },
  {
   "cell_type": "markdown",
   "metadata": {},
   "source": [
    "# Inspecting the structure of an ontology"
   ]
  },
  {
   "cell_type": "markdown",
   "metadata": {},
   "source": [
    "An Ontology object contains seven attributes:\n",
    "\n",
    "* ``genes`` : List of gene names\n",
    "* ``terms`` : List of term names\n",
    "* ``gene_2_term`` : dictionary mapping a gene name to a list of terms connected to that gene. Terms are represented as their 0-based index in ``terms``.\n",
    "* ``term_2_gene`` : dictionary mapping a term name to a list or genes connected to that term. Genes are represented as their 0-based index in ``genes``.\n",
    "* ``child_2_parent`` : dictionary mapping a child term to its parent terms.\n",
    "* ``parent_2_child`` : dictionary mapping a parent term to its children terms.\n",
    "* ``term_sizes`` : A list of each term's size, i.e. the number of unique genes contained within this term and its descendants. The order of this list is the same as ``terms``. For every ``i``, it holds that ``term_sizes[i] = len(self.term_2_gene[self.terms[i]])``"
   ]
  },
  {
   "cell_type": "code",
   "execution_count": 7,
   "metadata": {
    "ExecuteTime": {
     "end_time": "2018-05-02T19:00:19.750394Z",
     "start_time": "2018-05-02T19:00:19.705328Z"
    }
   },
   "outputs": [
    {
     "data": {
      "text/plain": [
       "['A', 'B', 'C', 'D', 'E', 'F', 'G', 'H']"
      ]
     },
     "execution_count": 7,
     "metadata": {},
     "output_type": "execute_result"
    }
   ],
   "source": [
    "ont.genes"
   ]
  },
  {
   "cell_type": "code",
   "execution_count": 8,
   "metadata": {
    "ExecuteTime": {
     "end_time": "2018-05-02T19:00:19.951929Z",
     "start_time": "2018-05-02T19:00:19.920800Z"
    }
   },
   "outputs": [
    {
     "data": {
      "text/plain": [
       "['S0', 'S1', 'S2', 'S3', 'S4', 'S5', 'S6']"
      ]
     },
     "execution_count": 8,
     "metadata": {},
     "output_type": "execute_result"
    }
   ],
   "source": [
    "ont.terms"
   ]
  },
  {
   "cell_type": "code",
   "execution_count": 9,
   "metadata": {
    "ExecuteTime": {
     "end_time": "2018-05-02T19:00:21.581449Z",
     "start_time": "2018-05-02T19:00:21.549666Z"
    }
   },
   "outputs": [
    {
     "data": {
      "text/plain": [
       "{'A': [3],\n",
       " 'B': [3],\n",
       " 'C': [4, 3],\n",
       " 'D': [4],\n",
       " 'E': [5],\n",
       " 'F': [5],\n",
       " 'G': [6],\n",
       " 'H': [6]}"
      ]
     },
     "execution_count": 9,
     "metadata": {},
     "output_type": "execute_result"
    }
   ],
   "source": [
    "ont.gene_2_term"
   ]
  },
  {
   "cell_type": "code",
   "execution_count": 10,
   "metadata": {
    "ExecuteTime": {
     "end_time": "2018-05-02T19:00:26.096150Z",
     "start_time": "2018-05-02T19:00:26.061410Z"
    }
   },
   "outputs": [
    {
     "data": {
      "text/plain": [
       "{'S3': [0, 1, 2],\n",
       " 'S4': [2, 3],\n",
       " 'S5': [4, 5],\n",
       " 'S6': [6, 7],\n",
       " 'S0': [],\n",
       " 'S1': [],\n",
       " 'S2': []}"
      ]
     },
     "execution_count": 10,
     "metadata": {},
     "output_type": "execute_result"
    }
   ],
   "source": [
    "ont.term_2_gene"
   ]
  },
  {
   "cell_type": "code",
   "execution_count": 11,
   "metadata": {
    "ExecuteTime": {
     "end_time": "2018-05-02T19:00:34.657994Z",
     "start_time": "2018-05-02T19:00:34.622724Z"
    }
   },
   "outputs": [
    {
     "data": {
      "text/plain": [
       "{'S1': ['S0'],\n",
       " 'S2': ['S0'],\n",
       " 'S3': ['S1'],\n",
       " 'S4': ['S1'],\n",
       " 'S5': ['S1', 'S2'],\n",
       " 'S6': ['S2'],\n",
       " 'S0': []}"
      ]
     },
     "execution_count": 11,
     "metadata": {},
     "output_type": "execute_result"
    }
   ],
   "source": [
    "ont.child_2_parent"
   ]
  },
  {
   "cell_type": "code",
   "execution_count": 12,
   "metadata": {
    "ExecuteTime": {
     "end_time": "2018-05-02T19:00:35.226270Z",
     "start_time": "2018-05-02T19:00:35.194266Z"
    }
   },
   "outputs": [
    {
     "data": {
      "text/plain": [
       "{'S0': ('S1', 'S2'),\n",
       " 'S1': ('S3', 'S4', 'S5'),\n",
       " 'S2': ('S5', 'S6'),\n",
       " 'S3': [],\n",
       " 'S4': [],\n",
       " 'S5': [],\n",
       " 'S6': []}"
      ]
     },
     "execution_count": 12,
     "metadata": {},
     "output_type": "execute_result"
    }
   ],
   "source": [
    "ont.parent_2_child"
   ]
  },
  {
   "cell_type": "markdown",
   "metadata": {},
   "source": [
    "Alternatively, the hierarchical connections can be viewed as a binary matrix, using `Ontology.connected()`"
   ]
  },
  {
   "cell_type": "code",
   "execution_count": 15,
   "metadata": {
    "ExecuteTime": {
     "end_time": "2018-04-06T23:55:01.503394Z",
     "start_time": "2018-04-06T23:55:00.814348Z"
    }
   },
   "outputs": [
    {
     "data": {
      "text/plain": [
       "array([[1, 0, 0, 0, 0, 0, 0, 0, 1, 1, 0, 1, 0, 0, 0],\n",
       "       [0, 1, 0, 0, 0, 0, 0, 0, 1, 1, 0, 1, 0, 0, 0],\n",
       "       [0, 0, 1, 0, 0, 0, 0, 0, 1, 1, 0, 1, 1, 0, 0],\n",
       "       [0, 0, 0, 1, 0, 0, 0, 0, 1, 1, 0, 0, 1, 0, 0],\n",
       "       [0, 0, 0, 0, 1, 0, 0, 0, 1, 1, 1, 0, 0, 1, 0],\n",
       "       [0, 0, 0, 0, 0, 1, 0, 0, 1, 1, 1, 0, 0, 1, 0],\n",
       "       [0, 0, 0, 0, 0, 0, 1, 0, 1, 0, 1, 0, 0, 0, 1],\n",
       "       [0, 0, 0, 0, 0, 0, 0, 1, 1, 0, 1, 0, 0, 0, 1],\n",
       "       [0, 0, 0, 0, 0, 0, 0, 0, 1, 0, 0, 0, 0, 0, 0],\n",
       "       [0, 0, 0, 0, 0, 0, 0, 0, 1, 1, 0, 0, 0, 0, 0],\n",
       "       [0, 0, 0, 0, 0, 0, 0, 0, 1, 0, 1, 0, 0, 0, 0],\n",
       "       [0, 0, 0, 0, 0, 0, 0, 0, 1, 1, 0, 1, 0, 0, 0],\n",
       "       [0, 0, 0, 0, 0, 0, 0, 0, 1, 1, 0, 0, 1, 0, 0],\n",
       "       [0, 0, 0, 0, 0, 0, 0, 0, 1, 1, 1, 0, 0, 1, 0],\n",
       "       [0, 0, 0, 0, 0, 0, 0, 0, 1, 0, 1, 0, 0, 0, 1]], dtype=int32)"
      ]
     },
     "execution_count": 15,
     "metadata": {},
     "output_type": "execute_result"
    }
   ],
   "source": [
    "conn = ont.connected()\n",
    "np.array(conn, dtype=np.int32)"
   ]
  },
  {
   "cell_type": "markdown",
   "metadata": {
    "ExecuteTime": {
     "end_time": "2018-04-01T21:12:33.941513Z",
     "start_time": "2018-04-01T21:12:33.132850Z"
    }
   },
   "source": [
    "A summary of an Ontology’s object, i.e. the number of genes, terms, and connections, can be printed `print(ont)`"
   ]
  },
  {
   "cell_type": "code",
   "execution_count": 16,
   "metadata": {
    "ExecuteTime": {
     "end_time": "2018-04-06T23:55:04.356804Z",
     "start_time": "2018-04-06T23:55:04.318987Z"
    }
   },
   "outputs": [
    {
     "name": "stdout",
     "output_type": "stream",
     "text": [
      "8 genes, 7 terms, 9 gene-term relations, 7 term-term relations\n",
      "node_attributes: []\n",
      "edge_attributes: [2]\n"
     ]
    }
   ],
   "source": [
    "print(ont)"
   ]
  },
  {
   "cell_type": "markdown",
   "metadata": {},
   "source": [
    "# Manipulating the structure of an ontology"
   ]
  },
  {
   "cell_type": "markdown",
   "metadata": {},
   "source": [
    "DDOT provides several convenience functions for processing Ontologies into a desirable structure. Currently, there are no functions for adding genes and terms. If this is needed, then we recommend creating a new Ontology or manipulating the contents in a different library, such as NetworkX or igraph, and transforming the results into Ontology."
   ]
  },
  {
   "cell_type": "code",
   "execution_count": 17,
   "metadata": {
    "ExecuteTime": {
     "end_time": "2018-04-06T23:55:06.594384Z",
     "start_time": "2018-04-06T23:55:06.420597Z"
    }
   },
   "outputs": [
    {
     "data": {
      "text/html": [
       "<div>\n",
       "<style scoped>\n",
       "    .dataframe tbody tr th:only-of-type {\n",
       "        vertical-align: middle;\n",
       "    }\n",
       "\n",
       "    .dataframe tbody tr th {\n",
       "        vertical-align: top;\n",
       "    }\n",
       "\n",
       "    .dataframe thead th {\n",
       "        text-align: right;\n",
       "    }\n",
       "</style>\n",
       "<table border=\"1\" class=\"dataframe\">\n",
       "  <thead>\n",
       "    <tr style=\"text-align: right;\">\n",
       "      <th></th>\n",
       "      <th>Parent</th>\n",
       "      <th>Child</th>\n",
       "      <th>EdgeType</th>\n",
       "    </tr>\n",
       "  </thead>\n",
       "  <tbody>\n",
       "    <tr>\n",
       "      <th>0</th>\n",
       "      <td>S0_alias</td>\n",
       "      <td>S1</td>\n",
       "      <td>Child-Parent</td>\n",
       "    </tr>\n",
       "    <tr>\n",
       "      <th>1</th>\n",
       "      <td>S0_alias</td>\n",
       "      <td>S2</td>\n",
       "      <td>Child-Parent</td>\n",
       "    </tr>\n",
       "    <tr>\n",
       "      <th>2</th>\n",
       "      <td>S1</td>\n",
       "      <td>S3</td>\n",
       "      <td>Child-Parent</td>\n",
       "    </tr>\n",
       "    <tr>\n",
       "      <th>3</th>\n",
       "      <td>S1</td>\n",
       "      <td>S4</td>\n",
       "      <td>Child-Parent</td>\n",
       "    </tr>\n",
       "    <tr>\n",
       "      <th>4</th>\n",
       "      <td>S1</td>\n",
       "      <td>S5</td>\n",
       "      <td>Child-Parent</td>\n",
       "    </tr>\n",
       "    <tr>\n",
       "      <th>5</th>\n",
       "      <td>S2</td>\n",
       "      <td>S5</td>\n",
       "      <td>Child-Parent</td>\n",
       "    </tr>\n",
       "    <tr>\n",
       "      <th>6</th>\n",
       "      <td>S2</td>\n",
       "      <td>S6</td>\n",
       "      <td>Child-Parent</td>\n",
       "    </tr>\n",
       "    <tr>\n",
       "      <th>7</th>\n",
       "      <td>S3</td>\n",
       "      <td>A_alias</td>\n",
       "      <td>Gene-Term</td>\n",
       "    </tr>\n",
       "    <tr>\n",
       "      <th>8</th>\n",
       "      <td>S3</td>\n",
       "      <td>B</td>\n",
       "      <td>Gene-Term</td>\n",
       "    </tr>\n",
       "    <tr>\n",
       "      <th>9</th>\n",
       "      <td>S3</td>\n",
       "      <td>C</td>\n",
       "      <td>Gene-Term</td>\n",
       "    </tr>\n",
       "    <tr>\n",
       "      <th>10</th>\n",
       "      <td>S4</td>\n",
       "      <td>C</td>\n",
       "      <td>Gene-Term</td>\n",
       "    </tr>\n",
       "    <tr>\n",
       "      <th>11</th>\n",
       "      <td>S4</td>\n",
       "      <td>D</td>\n",
       "      <td>Gene-Term</td>\n",
       "    </tr>\n",
       "    <tr>\n",
       "      <th>12</th>\n",
       "      <td>S5</td>\n",
       "      <td>E</td>\n",
       "      <td>Gene-Term</td>\n",
       "    </tr>\n",
       "    <tr>\n",
       "      <th>13</th>\n",
       "      <td>S5</td>\n",
       "      <td>F</td>\n",
       "      <td>Gene-Term</td>\n",
       "    </tr>\n",
       "    <tr>\n",
       "      <th>14</th>\n",
       "      <td>S6</td>\n",
       "      <td>G</td>\n",
       "      <td>Gene-Term</td>\n",
       "    </tr>\n",
       "    <tr>\n",
       "      <th>15</th>\n",
       "      <td>S6</td>\n",
       "      <td>H</td>\n",
       "      <td>Gene-Term</td>\n",
       "    </tr>\n",
       "  </tbody>\n",
       "</table>\n",
       "</div>"
      ],
      "text/plain": [
       "      Parent    Child      EdgeType\n",
       "0   S0_alias       S1  Child-Parent\n",
       "1   S0_alias       S2  Child-Parent\n",
       "2         S1       S3  Child-Parent\n",
       "3         S1       S4  Child-Parent\n",
       "4         S1       S5  Child-Parent\n",
       "5         S2       S5  Child-Parent\n",
       "6         S2       S6  Child-Parent\n",
       "7         S3  A_alias     Gene-Term\n",
       "8         S3        B     Gene-Term\n",
       "9         S3        C     Gene-Term\n",
       "10        S4        C     Gene-Term\n",
       "11        S4        D     Gene-Term\n",
       "12        S5        E     Gene-Term\n",
       "13        S5        F     Gene-Term\n",
       "14        S6        G     Gene-Term\n",
       "15        S6        H     Gene-Term"
      ]
     },
     "execution_count": 17,
     "metadata": {},
     "output_type": "execute_result"
    }
   ],
   "source": [
    "# Renaming genes and terms.\n",
    "ont2 = ont.rename(genes={'A' : 'A_alias'}, terms={'S0':'S0_alias'})\n",
    "ont2.to_table()"
   ]
  },
  {
   "cell_type": "markdown",
   "metadata": {},
   "source": [
    "## Delete S1 and G while preserving transitive connections\n",
    "\n",
    "<img src=\"https://github.com/michaelkyu/ontology/blob/master/docs/toy_ontology_delete_transitive.png?raw=true\" height=\"250\" align=\"left\">"
   ]
  },
  {
   "cell_type": "code",
   "execution_count": 18,
   "metadata": {
    "ExecuteTime": {
     "end_time": "2018-04-06T23:55:08.315459Z",
     "start_time": "2018-04-06T23:55:08.276477Z"
    }
   },
   "outputs": [
    {
     "name": "stdout",
     "output_type": "stream",
     "text": [
      "7 genes, 6 terms, 8 gene-term relations, 6 term-term relations\n",
      "node_attributes: []\n",
      "edge_attributes: [2]\n"
     ]
    }
   ],
   "source": [
    "ont2 = ont.delete(to_delete=['S1', 'G'])\n",
    "print(ont2)"
   ]
  },
  {
   "cell_type": "markdown",
   "metadata": {
    "ExecuteTime": {
     "end_time": "2018-04-01T19:15:12.279137Z",
     "start_time": "2018-04-01T19:15:11.004604Z"
    }
   },
   "source": [
    "## Delete S1 and G (don't preserve transitive connections)\n",
    "\n",
    "<img src=\"https://github.com/michaelkyu/ontology/blob/master/docs/toy_ontology_delete_not_transitive.png?raw=true\" height=\"250\" align=\"left\">"
   ]
  },
  {
   "cell_type": "code",
   "execution_count": 19,
   "metadata": {
    "ExecuteTime": {
     "end_time": "2018-04-06T23:55:10.519434Z",
     "start_time": "2018-04-06T23:55:10.480993Z"
    }
   },
   "outputs": [
    {
     "name": "stdout",
     "output_type": "stream",
     "text": [
      "7 genes, 6 terms, 8 gene-term relations, 3 term-term relations\n",
      "node_attributes: []\n",
      "edge_attributes: [2]\n"
     ]
    }
   ],
   "source": [
    "ont2 = ont.delete(to_delete=['S1', 'G'], preserve_transitivity=False)\n",
    "print(ont2)"
   ]
  },
  {
   "cell_type": "markdown",
   "metadata": {},
   "source": [
    "## Propagate gene-term connections\n",
    "\n",
    "<img src=\"https://github.com/michaelkyu/ontology/blob/master/docs/toy_ontology_propagate_gene_term.png?raw=true\" height=\"250\" align=\"left\">"
   ]
  },
  {
   "cell_type": "code",
   "execution_count": 20,
   "metadata": {
    "ExecuteTime": {
     "end_time": "2018-04-06T23:55:12.511546Z",
     "start_time": "2018-04-06T23:55:12.460533Z"
    }
   },
   "outputs": [
    {
     "name": "stdout",
     "output_type": "stream",
     "text": [
      "8 genes, 7 terms, 27 gene-term relations, 7 term-term relations\n",
      "node_attributes: []\n",
      "edge_attributes: [2]\n"
     ]
    }
   ],
   "source": [
    "ont2 = ont.propagate(direction='forward', gene_term=True, term_term=False)\n",
    "print(ont2)\n",
    "\n",
    "# Remove all transitive connections, and maintain only a parsimonious set of connections\n",
    "ont3 = ont2.propagate(direction='reverse', gene_term=True, term_term=False)"
   ]
  },
  {
   "cell_type": "markdown",
   "metadata": {},
   "source": [
    "## Propagate term-term connections\n",
    "\n",
    "<img src=\"https://github.com/michaelkyu/ontology/blob/master/docs/toy_ontology_propagate_term_term.png?raw=true\" height=\"250\" align=\"left\">"
   ]
  },
  {
   "cell_type": "code",
   "execution_count": 21,
   "metadata": {
    "ExecuteTime": {
     "end_time": "2018-04-06T23:55:14.141276Z",
     "start_time": "2018-04-06T23:55:14.102583Z"
    }
   },
   "outputs": [
    {
     "name": "stdout",
     "output_type": "stream",
     "text": [
      "8 genes, 7 terms, 9 gene-term relations, 11 term-term relations\n",
      "node_attributes: []\n",
      "edge_attributes: [2]\n"
     ]
    }
   ],
   "source": [
    "ont2 = ont.propagate(direction='forward', gene_term=False, term_term=True)\n",
    "print(ont2)\n",
    "\n",
    "# Remove all transitive connections, and maintain only a parsimonious set of connections\n",
    "ont3 = ont2.propagate(direction='reverse', gene_term=False, term_term=True)"
   ]
  },
  {
   "cell_type": "markdown",
   "metadata": {},
   "source": [
    "## Take the subbranch consisting of all term and genes under S1\n",
    "\n",
    "<img src=\"https://github.com/michaelkyu/ontology/blob/master/docs/toy_ontology_S1.png?raw=true\" width=\"250\" align=\"left\">"
   ]
  },
  {
   "cell_type": "code",
   "execution_count": 22,
   "metadata": {
    "ExecuteTime": {
     "end_time": "2018-04-06T23:55:15.636409Z",
     "start_time": "2018-04-06T23:55:15.564571Z"
    }
   },
   "outputs": [
    {
     "name": "stdout",
     "output_type": "stream",
     "text": [
      "Genes and Terms to keep: 10\n",
      "6 genes, 4 terms, 7 gene-term relations, 3 term-term relations\n",
      "node_attributes: ['Original_Size']\n",
      "edge_attributes: [2]\n"
     ]
    }
   ],
   "source": [
    "ont2 = ont.focus(branches=['S1'])\n",
    "print(ont2)"
   ]
  },
  {
   "cell_type": "markdown",
   "metadata": {},
   "source": [
    "# Inferring a data-driven ontology\n",
    "\n",
    "An ontology can also be inferred in a data-driven manner based on an input set of node-node similarities."
   ]
  },
  {
   "cell_type": "code",
   "execution_count": 62,
   "metadata": {
    "ExecuteTime": {
     "end_time": "2018-04-07T00:01:17.904204Z",
     "start_time": "2018-04-07T00:01:17.846759Z"
    }
   },
   "outputs": [
    {
     "name": "stdout",
     "output_type": "stream",
     "text": [
      "['A' 'B' 'C' 'D' 'E' 'F' 'G' 'H']\n",
      "[[ 1.4150375  1.4150375  1.4150375  0.4150375  0.4150375  0.4150375 -0.        -0.       ]\n",
      " [ 1.4150375  1.4150375  1.4150375  0.4150375  0.4150375  0.4150375 -0.        -0.       ]\n",
      " [ 1.4150375  1.4150375  2.         2.         0.4150375  0.4150375 -0.        -0.       ]\n",
      " [ 0.4150375  0.4150375  2.         2.         0.4150375  0.4150375 -0.        -0.       ]\n",
      " [ 0.4150375  0.4150375  0.4150375  0.4150375  2.         2.         1.         1.       ]\n",
      " [ 0.4150375  0.4150375  0.4150375  0.4150375  2.         2.         1.         1.       ]\n",
      " [-0.        -0.        -0.        -0.         1.         1.         2.         2.       ]\n",
      " [-0.        -0.        -0.        -0.         1.         1.         2.         2.       ]]\n"
     ]
    }
   ],
   "source": [
    "sim, genes = ont.flatten()\n",
    "print(genes)\n",
    "print(sim)"
   ]
  },
  {
   "cell_type": "code",
   "execution_count": 93,
   "metadata": {
    "ExecuteTime": {
     "end_time": "2018-04-07T00:13:39.137071Z",
     "start_time": "2018-04-07T00:13:38.692363Z"
    },
    "collapsed": true
   },
   "outputs": [],
   "source": [
    "ont2 = Ontology.run_clixo(sim, 0.0, 1.0, square=True, square_names=genes)"
   ]
  },
  {
   "cell_type": "code",
   "execution_count": 97,
   "metadata": {
    "ExecuteTime": {
     "end_time": "2018-04-07T02:14:20.023017Z",
     "start_time": "2018-04-07T02:14:19.211680Z"
    },
    "scrolled": true
   },
   "outputs": [
    {
     "name": "stdout",
     "output_type": "stream",
     "text": [
      "8 genes, 7 terms, 9 gene-term relations, 7 term-term relations\n",
      "node_attributes: []\n",
      "edge_attributes: ['CLIXO_score']\n"
     ]
    }
   ],
   "source": [
    "print(ont2)"
   ]
  },
  {
   "cell_type": "markdown",
   "metadata": {},
   "source": [
    "# Ontology alignment\n",
    "\n",
    "<img src=\"https://github.com/michaelkyu/ontology/blob/master/docs/toy_ontology_alignment.png?raw=true\" width=\"550\" align=\"left\">"
   ]
  },
  {
   "cell_type": "code",
   "execution_count": 95,
   "metadata": {
    "ExecuteTime": {
     "end_time": "2018-04-07T00:13:42.759711Z",
     "start_time": "2018-04-07T00:13:42.723899Z"
    },
    "collapsed": true
   },
   "outputs": [],
   "source": [
    "## Make a second ontology\n",
    "\n",
    "# Connections from child terms to parent terms\n",
    "hierarchy = [('T3', 'T1'),\n",
    "             ('T4', 'T1'),\n",
    "             ('T1', 'T0'),\n",
    "             ('T5', 'T0')]\n",
    "\n",
    "# Connections from genes to terms\n",
    "mapping = [('A', 'T3'),\n",
    "           ('B', 'T3'),\n",
    "           ('C', 'T3'),\n",
    "           ('D', 'T4'),\n",
    "           ('E', 'T4'),\n",
    "           ('F', 'T4'),\n",
    "           ('G', 'T5'),\n",
    "           ('H', 'T5')]\n",
    "\n",
    "# Construct ontology\n",
    "ont_B = Ontology(hierarchy, mapping)"
   ]
  },
  {
   "cell_type": "code",
   "execution_count": 101,
   "metadata": {
    "ExecuteTime": {
     "end_time": "2018-04-07T02:19:29.928523Z",
     "start_time": "2018-04-07T02:19:25.482838Z"
    }
   },
   "outputs": [
    {
     "name": "stdout",
     "output_type": "stream",
     "text": [
      "collapse command: /cellar/users/mikeyu/DeepTranslate/ddot/ddot/alignOntology/collapseRedundantNodes /tmp/tmp69tzhltw\n",
      "collapse command: /cellar/users/mikeyu/DeepTranslate/ddot/ddot/alignOntology/collapseRedundantNodes /tmp/tmpq7jbs_ag\n",
      "Alignment command: /cellar/users/mikeyu/DeepTranslate/ddot/ddot/alignOntology/calculateFDRs /tmp/tmpdleaetmk /tmp/tmpwvbp55c8 0.05 criss_cross /tmp/tmp8bvabn36 100 40 gene\n"
     ]
    },
    {
     "data": {
      "text/html": [
       "<div>\n",
       "<style scoped>\n",
       "    .dataframe tbody tr th:only-of-type {\n",
       "        vertical-align: middle;\n",
       "    }\n",
       "\n",
       "    .dataframe tbody tr th {\n",
       "        vertical-align: top;\n",
       "    }\n",
       "\n",
       "    .dataframe thead th {\n",
       "        text-align: right;\n",
       "    }\n",
       "</style>\n",
       "<table border=\"1\" class=\"dataframe\">\n",
       "  <thead>\n",
       "    <tr style=\"text-align: right;\">\n",
       "      <th></th>\n",
       "      <th>Term</th>\n",
       "      <th>Similarity</th>\n",
       "      <th>FDR</th>\n",
       "    </tr>\n",
       "    <tr>\n",
       "      <th>Term</th>\n",
       "      <th></th>\n",
       "      <th></th>\n",
       "      <th></th>\n",
       "    </tr>\n",
       "  </thead>\n",
       "  <tbody>\n",
       "    <tr>\n",
       "      <th>S3</th>\n",
       "      <td>T3</td>\n",
       "      <td>0.985294</td>\n",
       "      <td>0.00</td>\n",
       "    </tr>\n",
       "    <tr>\n",
       "      <th>S1</th>\n",
       "      <td>T1</td>\n",
       "      <td>0.913608</td>\n",
       "      <td>0.00</td>\n",
       "    </tr>\n",
       "    <tr>\n",
       "      <th>S6</th>\n",
       "      <td>T5</td>\n",
       "      <td>0.910000</td>\n",
       "      <td>0.02</td>\n",
       "    </tr>\n",
       "    <tr>\n",
       "      <th>S0</th>\n",
       "      <td>T0</td>\n",
       "      <td>0.892982</td>\n",
       "      <td>0.01</td>\n",
       "    </tr>\n",
       "  </tbody>\n",
       "</table>\n",
       "</div>"
      ],
      "text/plain": [
       "     Term  Similarity   FDR\n",
       "Term                       \n",
       "S3     T3    0.985294  0.00\n",
       "S1     T1    0.913608  0.00\n",
       "S6     T5    0.910000  0.02\n",
       "S0     T0    0.892982  0.01"
      ]
     },
     "execution_count": 101,
     "metadata": {},
     "output_type": "execute_result"
    }
   ],
   "source": [
    "ont.align(ont_B)"
   ]
  },
  {
   "cell_type": "markdown",
   "metadata": {},
   "source": [
    "# Construct ontotypes"
   ]
  },
  {
   "cell_type": "code",
   "execution_count": 21,
   "metadata": {
    "ExecuteTime": {
     "end_time": "2018-04-10T22:40:14.883248Z",
     "start_time": "2018-04-10T22:40:14.838558Z"
    }
   },
   "outputs": [
    {
     "name": "stdout",
     "output_type": "stream",
     "text": [
      "   S0  S1  S2  S3  S4  S5  S6\n",
      "0   0   0   0   2   0   0   0\n",
      "1   0   0   0   1   0   1   0\n",
      "2   0   0   0   1   0   0   1\n",
      "3   0   0   0   1   0   1   0\n",
      "4   0   0   0   1   0   0   1\n",
      "5   0   0   0   1   1   1   0\n",
      "6   0   0   0   0   1   1   0\n",
      "7   0   0   0   0   1   0   1\n",
      "8   0   0   0   0   0   1   1\n",
      "9   0   0   0   0   0   0   2\n"
     ]
    }
   ],
   "source": [
    "# Genotypes can be represented as tuples of mutated genes\n",
    "genotypes = [('A', 'B'),\n",
    "             ('A', 'E'),\n",
    "             ('A', 'H'),\n",
    "             ('B', 'E'),\n",
    "             ('B', 'H'),\n",
    "             ('C', 'F'),\n",
    "             ('D', 'E'),\n",
    "             ('D', 'H'),\n",
    "             ('E', 'H'),\n",
    "             ('G', 'H')]\n",
    "\n",
    "ontotypes = ont.get_ontotype(genotypes)\n",
    "print(ontotypes)"
   ]
  },
  {
   "cell_type": "code",
   "execution_count": 23,
   "metadata": {
    "ExecuteTime": {
     "end_time": "2018-04-10T22:40:21.885915Z",
     "start_time": "2018-04-10T22:40:21.819996Z"
    }
   },
   "outputs": [
    {
     "name": "stdout",
     "output_type": "stream",
     "text": [
      "Genotype matrix\n",
      "             A    B    C    D    E    F    G    H\n",
      "Genotype0  1.0  1.0  0.0  0.0  0.0  0.0  0.0  0.0\n",
      "Genotype1  1.0  0.0  0.0  0.0  1.0  0.0  0.0  0.0\n",
      "Genotype2  1.0  0.0  0.0  0.0  0.0  0.0  0.0  1.0\n",
      "Genotype3  0.0  1.0  0.0  0.0  1.0  0.0  0.0  0.0\n",
      "Genotype4  0.0  1.0  0.0  0.0  0.0  0.0  0.0  1.0\n",
      "Genotype5  0.0  0.0  1.0  0.0  0.0  1.0  0.0  0.0\n",
      "Genotype6  0.0  0.0  0.0  1.0  1.0  0.0  0.0  0.0\n",
      "Genotype7  0.0  0.0  0.0  1.0  0.0  0.0  0.0  1.0\n",
      "Genotype8  0.0  0.0  0.0  0.0  1.0  0.0  0.0  1.0\n",
      "Genotype9  0.0  0.0  0.0  0.0  0.0  0.0  1.0  1.0\n",
      "\n",
      "Ontotype matrix\n",
      "            S0   S1   S2   S3   S4   S5   S6\n",
      "Genotype0  0.0  0.0  0.0  2.0  0.0  0.0  0.0\n",
      "Genotype1  0.0  0.0  0.0  1.0  0.0  1.0  0.0\n",
      "Genotype2  0.0  0.0  0.0  1.0  0.0  0.0  1.0\n",
      "Genotype3  0.0  0.0  0.0  1.0  0.0  1.0  0.0\n",
      "Genotype4  0.0  0.0  0.0  1.0  0.0  0.0  1.0\n",
      "Genotype5  0.0  0.0  0.0  1.0  1.0  1.0  0.0\n",
      "Genotype6  0.0  0.0  0.0  0.0  1.0  1.0  0.0\n",
      "Genotype7  0.0  0.0  0.0  0.0  1.0  0.0  1.0\n",
      "Genotype8  0.0  0.0  0.0  0.0  0.0  1.0  1.0\n",
      "Genotype9  0.0  0.0  0.0  0.0  0.0  0.0  2.0\n"
     ]
    }
   ],
   "source": [
    "# Genotypes can also be represented a genotype-by-gene matrix\n",
    "import pandas as pd, numpy as np\n",
    "genotypes_df = pd.DataFrame(np.zeros((len(genotypes), len(ont.genes)), np.float64),\n",
    "                            index=['Genotype%s' % i for i in range(len(genotypes))],\n",
    "                            columns=ont.genes)\n",
    "for i, (g1, g2) in enumerate(genotypes):\n",
    "    genotypes_df.loc['Genotype%s' % i, g1] = 1.0\n",
    "    genotypes_df.loc['Genotype%s' % i, g2] = 1.0\n",
    "print('Genotype matrix')\n",
    "print(genotypes_df)\n",
    "print()\n",
    "\n",
    "ontotypes = ont.get_ontotype(genotypes_df, input_format='matrix')\n",
    "print('Ontotype matrix')\n",
    "print(ontotypes)"
   ]
  },
  {
   "cell_type": "markdown",
   "metadata": {},
   "source": [
    "# Conversions to NetworkX and igraph"
   ]
  },
  {
   "cell_type": "code",
   "execution_count": 104,
   "metadata": {
    "ExecuteTime": {
     "end_time": "2018-04-07T02:19:38.769538Z",
     "start_time": "2018-04-07T02:19:38.736672Z"
    }
   },
   "outputs": [
    {
     "name": "stdout",
     "output_type": "stream",
     "text": [
      "IGRAPH DN-- 15 16 --\n",
      "+ attr: NodeType (v), name (v), EdgeType (e)\n",
      "+ edges (vertex names):\n",
      "A->S3, B->S3, C->S3, C->S4, D->S4, E->S5, F->S5, G->S6, H->S6, S1->S0, S2->S0,\n",
      "S3->S1, S4->S1, S5->S1, S5->S2, S6->S2\n"
     ]
    }
   ],
   "source": [
    "# Convert to an igraph object\n",
    "G = ont.to_igraph()\n",
    "print(G)"
   ]
  },
  {
   "cell_type": "code",
   "execution_count": 105,
   "metadata": {
    "ExecuteTime": {
     "end_time": "2018-04-07T02:19:41.790862Z",
     "start_time": "2018-04-07T02:19:41.733086Z"
    }
   },
   "outputs": [
    {
     "name": "stdout",
     "output_type": "stream",
     "text": [
      "['A', 'B', 'C', 'D', 'E', 'F', 'G', 'H', 'S0', 'S1', 'S2', 'S3', 'S4', 'S5', 'S6']\n",
      "[('A', 'S3'), ('B', 'S3'), ('C', 'S3'), ('C', 'S4'), ('D', 'S4'), ('E', 'S5'), ('F', 'S5'), ('G', 'S6'), ('H', 'S6'), ('S1', 'S0'), ('S2', 'S0'), ('S3', 'S1'), ('S4', 'S1'), ('S5', 'S1'), ('S5', 'S2'), ('S6', 'S2')]\n"
     ]
    }
   ],
   "source": [
    "# Convert to a NetworkX object\n",
    "G = ont.to_networkx()\n",
    "print(G.nodes())\n",
    "print(G.edges())"
   ]
  },
  {
   "cell_type": "markdown",
   "metadata": {},
   "source": [
    "# Visualization in the HiView web application (http://hiview.ucsd.edu)\n",
    "* HiView is a web application for general visualization of the hierarchical structure in ontologies.\n",
    "* First upload your ontology into NDEx using the [Ontology.to_ndex()](http://ddot.readthedocs.io/en/latest/ontology.html#ddot.Ontology.to_ndex) function, and then have HiView read the ontology from NDEx\n",
    "* It supports ontologies that have a simple tree structure and those that are more complicated (directed acyclic graphs, in which nodes have multiple parents)"
   ]
  },
  {
   "cell_type": "markdown",
   "metadata": {},
   "source": [
    "# A simple upload to NDEx and visualization in HiView\n",
    "Setting `layout=\"bubble\"` (the default) will identify a spanning tree of the DAG and then lay this tree in a space-compact manner. When viewing in HiView, only the edges in the spanning tree are shown, while the other edges can be chosen to be shown.\n",
    "\n",
    "<img src=\"https://github.com/michaelkyu/ddot/blob/master/docs/toy_ontology_spanning_tree.png?raw=true\" height=\"250\" align=\"left\">"
   ]
  },
  {
   "cell_type": "code",
   "execution_count": 13,
   "metadata": {
    "ExecuteTime": {
     "end_time": "2018-05-02T19:00:46.762331Z",
     "start_time": "2018-05-02T19:00:46.269081Z"
    }
   },
   "outputs": [
    {
     "name": "stdout",
     "output_type": "stream",
     "text": [
      "Go to http://hiview.ucsd.edu in your web browser\n",
      "Enter this into the \"NDEx Sever URL\" field: http://test.ndexbio.org\n",
      "Enter this into the \"UUID of the main hierarchy\" field: 1f2538a4-4e3b-11e8-9d1c-0660b7976219\n"
     ]
    }
   ],
   "source": [
    "url, _ = ont.to_ndex(ndex_server=ndex_server,\n",
    "                     ndex_user=ndex_user,\n",
    "                     ndex_pass=ndex_pass,\n",
    "                     layout='bubble')\n",
    "\n",
    "print('Go to http://hiview.ucsd.edu in your web browser')\n",
    "print('Enter this into the \"NDEx Sever URL\" field: %s' % ndex_server)\n",
    "print('Enter this into the \"UUID of the main hierarchy\" field: %s' % url.split('/')[-1])"
   ]
  },
  {
   "cell_type": "markdown",
   "metadata": {},
   "source": [
    "## An alternative layout by duplicating nodes\n",
    "Setting `layout=\"bubble-collect\"` will convert the DAG into a tree by duplicating nodes.\n",
    "This transformation enables the ontology structure to be visualized without edges crossing.\n",
    "\n",
    "\n",
    "<img src=\"https://github.com/michaelkyu/ddot/blob/master/docs/toy_ontology_dag2tree.png?raw=true\" height=\"250\" align=\"left\">"
   ]
  },
  {
   "cell_type": "code",
   "execution_count": null,
   "metadata": {
    "collapsed": true
   },
   "outputs": [],
   "source": [
    "url, _ = ont.to_ndex(ndex_server=ndex_server,\n",
    "                     ndex_user=ndex_user,\n",
    "                     ndex_pass=ndex_pass,\n",
    "                     layout='bubble-collect')\n",
    "\n",
    "print('Go to http://hiview.ucsd.edu in your web browser')\n",
    "print('Enter this into the \"NDEx Sever URL\" field: %s' % ndex_server)\n",
    "print('Enter this into the \"UUID of the main hierarchy\" field: %s' % url.split('/')[-1])"
   ]
  },
  {
   "cell_type": "markdown",
   "metadata": {},
   "source": [
    "## Visualizing node medatata\n",
    "\n",
    "An ontology object has a `node_attr` field that is a pandas DataFrame. The rows of the dataframe are genes or terms, and the columns are node attributes. Special attributes are understood and rendered by HiView -- these control node color, node size, and node labels"
   ]
  },
  {
   "cell_type": "code",
   "execution_count": 36,
   "metadata": {
    "ExecuteTime": {
     "end_time": "2018-05-24T23:38:47.467268Z",
     "start_time": "2018-05-24T23:38:47.419808Z"
    }
   },
   "outputs": [
    {
     "data": {
      "text/html": [
       "<div>\n",
       "<style scoped>\n",
       "    .dataframe tbody tr th:only-of-type {\n",
       "        vertical-align: middle;\n",
       "    }\n",
       "\n",
       "    .dataframe tbody tr th {\n",
       "        vertical-align: top;\n",
       "    }\n",
       "\n",
       "    .dataframe thead th {\n",
       "        text-align: right;\n",
       "    }\n",
       "</style>\n",
       "<table border=\"1\" class=\"dataframe\">\n",
       "  <thead>\n",
       "    <tr style=\"text-align: right;\">\n",
       "      <th></th>\n",
       "      <th>Vis:Fill Color</th>\n",
       "      <th>Size</th>\n",
       "      <th>Label</th>\n",
       "    </tr>\n",
       "    <tr>\n",
       "      <th>Node</th>\n",
       "      <th></th>\n",
       "      <th></th>\n",
       "      <th></th>\n",
       "    </tr>\n",
       "  </thead>\n",
       "  <tbody>\n",
       "    <tr>\n",
       "      <th>C</th>\n",
       "      <td>#7fc97f</td>\n",
       "      <td>10.0</td>\n",
       "      <td>NaN</td>\n",
       "    </tr>\n",
       "    <tr>\n",
       "      <th>S1</th>\n",
       "      <td>#beaed4</td>\n",
       "      <td>NaN</td>\n",
       "      <td>NaN</td>\n",
       "    </tr>\n",
       "    <tr>\n",
       "      <th>S0</th>\n",
       "      <td>#fdc086</td>\n",
       "      <td>NaN</td>\n",
       "      <td>NaN</td>\n",
       "    </tr>\n",
       "    <tr>\n",
       "      <th>S4</th>\n",
       "      <td>NaN</td>\n",
       "      <td>NaN</td>\n",
       "      <td>S4 alias</td>\n",
       "    </tr>\n",
       "    <tr>\n",
       "      <th>S5</th>\n",
       "      <td>NaN</td>\n",
       "      <td>NaN</td>\n",
       "      <td>S5 alias</td>\n",
       "    </tr>\n",
       "  </tbody>\n",
       "</table>\n",
       "</div>"
      ],
      "text/plain": [
       "     Vis:Fill Color  Size     Label\n",
       "Node                               \n",
       "C           #7fc97f  10.0       NaN\n",
       "S1          #beaed4   NaN       NaN\n",
       "S0          #fdc086   NaN       NaN\n",
       "S4              NaN   NaN  S4 alias\n",
       "S5              NaN   NaN  S5 alias"
      ]
     },
     "execution_count": 36,
     "metadata": {},
     "output_type": "execute_result"
    }
   ],
   "source": [
    "# Set the fill color of nodes\n",
    "ont.node_attr.loc['C', 'Vis:Fill Color'] = '#7fc97f'\n",
    "ont.node_attr.loc['S1', 'Vis:Fill Color'] = '#beaed4'\n",
    "ont.node_attr.loc['S0', 'Vis:Fill Color'] = '#fdc086'\n",
    "\n",
    "# Set the node sizes (if not set, the default is the term size, as found in Ontology.term_sizes)\n",
    "ont.node_attr.loc['C', 'Size'] = 10\n",
    "\n",
    "# Set the node labels (default is the gene and term names, as found in Ontology.genes and Ontology.terms)\n",
    "ont.node_attr.loc['S4', 'Label'] = 'S4 alias'\n",
    "ont.node_attr.loc['S5', 'Label'] = 'S5 alias'\n",
    "\n",
    "ont.node_attr"
   ]
  },
  {
   "cell_type": "code",
   "execution_count": 35,
   "metadata": {
    "ExecuteTime": {
     "end_time": "2018-05-24T23:38:38.448305Z",
     "start_time": "2018-05-24T23:38:38.401586Z"
    },
    "collapsed": true
   },
   "outputs": [],
   "source": [
    "## Clear node attributes (optional, uncoment below to use)\n",
    "# ont.clear_node_attr()\n",
    "# print(ont.node_attr)"
   ]
  },
  {
   "cell_type": "markdown",
   "metadata": {},
   "source": [
    "## Viewing pairwise interaction networks supporting each term"
   ]
  },
  {
   "cell_type": "code",
   "execution_count": 5,
   "metadata": {
    "ExecuteTime": {
     "end_time": "2018-05-24T22:10:29.872775Z",
     "start_time": "2018-05-24T22:10:29.826270Z"
    }
   },
   "outputs": [
    {
     "name": "stdout",
     "output_type": "stream",
     "text": [
      "['A' 'B' 'C' 'D' 'E' 'F' 'G' 'H']\n",
      "[[ 1.4150375  1.4150375  1.4150375  0.4150375  0.4150375  0.4150375 -0.        -0.       ]\n",
      " [ 1.4150375  1.4150375  1.4150375  0.4150375  0.4150375  0.4150375 -0.        -0.       ]\n",
      " [ 1.4150375  1.4150375  2.         2.         0.4150375  0.4150375 -0.        -0.       ]\n",
      " [ 0.4150375  0.4150375  2.         2.         0.4150375  0.4150375 -0.        -0.       ]\n",
      " [ 0.4150375  0.4150375  0.4150375  0.4150375  2.         2.         1.         1.       ]\n",
      " [ 0.4150375  0.4150375  0.4150375  0.4150375  2.         2.         1.         1.       ]\n",
      " [-0.        -0.        -0.        -0.         1.         1.         2.         2.       ]\n",
      " [-0.        -0.        -0.        -0.         1.         1.         2.         2.       ]]\n"
     ]
    }
   ],
   "source": [
    "# Calculate a gene-by-gene similarity matrix using the Resnik semantic similarity definition (see section \"Inferring a data-driven ontology\")\n",
    "sim, genes = ont.flatten()\n",
    "print(genes)\n",
    "print(sim)"
   ]
  },
  {
   "cell_type": "code",
   "execution_count": 29,
   "metadata": {
    "ExecuteTime": {
     "end_time": "2018-05-24T23:36:04.822747Z",
     "start_time": "2018-05-24T23:36:04.773267Z"
    }
   },
   "outputs": [
    {
     "data": {
      "text/html": [
       "<div>\n",
       "<style scoped>\n",
       "    .dataframe tbody tr th:only-of-type {\n",
       "        vertical-align: middle;\n",
       "    }\n",
       "\n",
       "    .dataframe tbody tr th {\n",
       "        vertical-align: top;\n",
       "    }\n",
       "\n",
       "    .dataframe thead th {\n",
       "        text-align: right;\n",
       "    }\n",
       "</style>\n",
       "<table border=\"1\" class=\"dataframe\">\n",
       "  <thead>\n",
       "    <tr style=\"text-align: right;\">\n",
       "      <th></th>\n",
       "      <th>Gene1</th>\n",
       "      <th>Gene2</th>\n",
       "      <th>similarity</th>\n",
       "    </tr>\n",
       "  </thead>\n",
       "  <tbody>\n",
       "    <tr>\n",
       "      <th>0</th>\n",
       "      <td>A</td>\n",
       "      <td>B</td>\n",
       "      <td>1.415038</td>\n",
       "    </tr>\n",
       "    <tr>\n",
       "      <th>1</th>\n",
       "      <td>A</td>\n",
       "      <td>C</td>\n",
       "      <td>1.415038</td>\n",
       "    </tr>\n",
       "    <tr>\n",
       "      <th>2</th>\n",
       "      <td>A</td>\n",
       "      <td>D</td>\n",
       "      <td>0.415038</td>\n",
       "    </tr>\n",
       "    <tr>\n",
       "      <th>3</th>\n",
       "      <td>A</td>\n",
       "      <td>E</td>\n",
       "      <td>0.415038</td>\n",
       "    </tr>\n",
       "    <tr>\n",
       "      <th>4</th>\n",
       "      <td>A</td>\n",
       "      <td>F</td>\n",
       "      <td>0.415038</td>\n",
       "    </tr>\n",
       "  </tbody>\n",
       "</table>\n",
       "</div>"
      ],
      "text/plain": [
       "  Gene1 Gene2  similarity\n",
       "0     A     B    1.415038\n",
       "1     A     C    1.415038\n",
       "2     A     D    0.415038\n",
       "3     A     E    0.415038\n",
       "4     A     F    0.415038"
      ]
     },
     "execution_count": 29,
     "metadata": {},
     "output_type": "execute_result"
    }
   ],
   "source": [
    "# Convert the gene-by-gene similarity matrix into a dataframe with a \"long\" format, where rows represent gene pairss\n",
    "import pandas as pd\n",
    "sim_df = pd.DataFrame(sim, index=genes, columns=genes)\n",
    "sim_long = ddot.melt_square(sim_df)\n",
    "sim_long.head()"
   ]
  },
  {
   "cell_type": "code",
   "execution_count": 27,
   "metadata": {
    "ExecuteTime": {
     "end_time": "2018-05-24T23:35:55.490269Z",
     "start_time": "2018-05-24T23:35:54.711967Z"
    }
   },
   "outputs": [
    {
     "data": {
      "text/html": [
       "<div>\n",
       "<style scoped>\n",
       "    .dataframe tbody tr th:only-of-type {\n",
       "        vertical-align: middle;\n",
       "    }\n",
       "\n",
       "    .dataframe tbody tr th {\n",
       "        vertical-align: top;\n",
       "    }\n",
       "\n",
       "    .dataframe thead th {\n",
       "        text-align: right;\n",
       "    }\n",
       "</style>\n",
       "<table border=\"1\" class=\"dataframe\">\n",
       "  <thead>\n",
       "    <tr style=\"text-align: right;\">\n",
       "      <th></th>\n",
       "      <th>Gene1</th>\n",
       "      <th>Gene2</th>\n",
       "      <th>similarity</th>\n",
       "      <th>Interaction_Type1</th>\n",
       "      <th>Interaction_Type2</th>\n",
       "    </tr>\n",
       "  </thead>\n",
       "  <tbody>\n",
       "    <tr>\n",
       "      <th>0</th>\n",
       "      <td>A</td>\n",
       "      <td>B</td>\n",
       "      <td>1.415038</td>\n",
       "      <td>1.833367</td>\n",
       "      <td>1.618822</td>\n",
       "    </tr>\n",
       "    <tr>\n",
       "      <th>1</th>\n",
       "      <td>A</td>\n",
       "      <td>C</td>\n",
       "      <td>1.415038</td>\n",
       "      <td>1.668998</td>\n",
       "      <td>1.727922</td>\n",
       "    </tr>\n",
       "    <tr>\n",
       "      <th>2</th>\n",
       "      <td>A</td>\n",
       "      <td>D</td>\n",
       "      <td>0.415038</td>\n",
       "      <td>0.766172</td>\n",
       "      <td>0.643903</td>\n",
       "    </tr>\n",
       "    <tr>\n",
       "      <th>3</th>\n",
       "      <td>A</td>\n",
       "      <td>E</td>\n",
       "      <td>0.415038</td>\n",
       "      <td>0.664731</td>\n",
       "      <td>0.585459</td>\n",
       "    </tr>\n",
       "    <tr>\n",
       "      <th>4</th>\n",
       "      <td>A</td>\n",
       "      <td>F</td>\n",
       "      <td>0.415038</td>\n",
       "      <td>0.669328</td>\n",
       "      <td>0.571242</td>\n",
       "    </tr>\n",
       "  </tbody>\n",
       "</table>\n",
       "</div>"
      ],
      "text/plain": [
       "  Gene1 Gene2  similarity  Interaction_Type1  Interaction_Type2\n",
       "0     A     B    1.415038           1.833367           1.618822\n",
       "1     A     C    1.415038           1.668998           1.727922\n",
       "2     A     D    0.415038           0.766172           0.643903\n",
       "3     A     E    0.415038           0.664731           0.585459\n",
       "4     A     F    0.415038           0.669328           0.571242"
      ]
     },
     "execution_count": 27,
     "metadata": {},
     "output_type": "execute_result"
    }
   ],
   "source": [
    "# Create other gene-gene interactions. For example, these can represent protein-protein interactions or gene co-expression. Here, we simulate interactions by adding a random noise to the Resnik similarity\n",
    "sim_long['Interaction_Type1'] = sim_long['similarity'] + np.random.random(sim_long.shape[0]) / 2.\n",
    "sim_long['Interaction_Type2'] = sim_long['similarity'] + np.random.random(sim_long.shape[0]) / 2.\n",
    "sim_long.head()"
   ]
  },
  {
   "cell_type": "code",
   "execution_count": 37,
   "metadata": {
    "ExecuteTime": {
     "end_time": "2018-05-24T23:38:57.116506Z",
     "start_time": "2018-05-24T23:38:55.559897Z"
    },
    "scrolled": false
   },
   "outputs": [
    {
     "name": "stdout",
     "output_type": "stream",
     "text": [
      "Go to http://hiview.ucsd.edu in your web browser\n",
      "Enter this into the \"NDEx Sever URL\" field: http://test.ndexbio.org\n",
      "Enter this into the \"UUID of the main hierarchy\" field: a0770167-5fab-11e8-9d1c-0660b7976219\n"
     ]
    }
   ],
   "source": [
    "# Setting layout='bubble-collect' will convert the DAG into a tree by duplicating nodes.\n",
    "# This transformation enables the ontology structure to be visualized without edges crossing.\n",
    "url, _ = ont.to_ndex(ndex_server=ndex_server,\n",
    "                     ndex_user=ndex_user,\n",
    "                     ndex_pass=ndex_pass,\n",
    "                     network=sim_long,\n",
    "                     main_feature='similarity',\n",
    "                     layout='bubble-collect')\n",
    "\n",
    "print('Go to http://hiview.ucsd.edu in your web browser')\n",
    "print('Enter this into the \"NDEx Sever URL\" field: %s' % ndex_server)\n",
    "print('Enter this into the \"UUID of the main hierarchy\" field: %s' % url.split('/')[-1])"
   ]
  }
 ],
 "metadata": {
  "kernelspec": {
   "display_name": "Python 3",
   "language": "python",
   "name": "python3"
  },
  "language_info": {
   "codemirror_mode": {
    "name": "ipython",
    "version": 3
   },
   "file_extension": ".py",
   "mimetype": "text/x-python",
   "name": "python",
   "nbconvert_exporter": "python",
   "pygments_lexer": "ipython3",
   "version": "3.6.4"
  },
  "latex_envs": {
   "LaTeX_envs_menu_present": true,
   "autocomplete": true,
   "bibliofile": "biblio.bib",
   "cite_by": "apalike",
   "current_citInitial": 1,
   "eqLabelWithNumbers": true,
   "eqNumInitial": 1,
   "hotkeys": {
    "equation": "Ctrl-E",
    "itemize": "Ctrl-I"
   },
   "labels_anchors": false,
   "latex_user_defs": false,
   "report_style_numbering": false,
   "user_envs_cfg": false
  },
  "toc": {
   "colors": {
    "hover_highlight": "#DAA520",
    "navigate_num": "#000000",
    "navigate_text": "#333333",
    "running_highlight": "#FF0000",
    "selected_highlight": "#FFD700",
    "sidebar_border": "#EEEEEE",
    "wrapper_background": "#FFFFFF"
   },
   "moveMenuLeft": true,
   "nav_menu": {
    "height": "66px",
    "width": "252px"
   },
   "navigate_menu": true,
   "number_sections": true,
   "sideBar": true,
   "threshold": 4,
   "toc_cell": false,
   "toc_position": {
    "height": "672px",
    "left": "0px",
    "right": "1391.67px",
    "top": "106px",
    "width": "299px"
   },
   "toc_section_display": "block",
   "toc_window_display": true,
   "widenNotebook": false
  }
 },
 "nbformat": 4,
 "nbformat_minor": 2
}
