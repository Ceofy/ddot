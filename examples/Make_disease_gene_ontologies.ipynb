{
 "cells": [
  {
   "cell_type": "markdown",
   "metadata": {
    "nbpresent": {
     "id": "122ad36c-8ca6-4194-a6c1-1c0f07903677"
    }
   },
   "source": [
    "# Introduction: Constructing a data-driven gene ontology to study disease mechanisms\n",
    "\n",
    "This notebook demonstrates how to create data-driven gene ontologies to study disease mechanisms. This notebook focuses on Fanconi Anemia (FA), a rare genetic disorder that is associated with bone marrow failure, myeloid dysplasia, and increased cancer risk. Although mutations in 20 genes are known to cause FA by dysrupting the repair of DNA damage, the existence of other FA genes and the involvement of other pathways besides DNA repair remain unclear. To discover new FA genes and pathways, this notebook executes a five-step pipeline to construct a Fanconi Anemia gene ontology (FanGO)\n",
    "\n",
    "1. Gather input data, consisting of the 20 known FA genes as a seed set of genes for modeling and a pre-computed gene similarity network derived by integrating several types of molecular evidence including protein-protein interactions, co-expression, co-localization, and epistasis.\n",
    "\n",
    "2. Score every gene for its involvement in FA by calculating its average functional similarity to the seed genes. The minimum score among the seed genes was used as a threshold to identify an additional set of 174 candidate genes.\n",
    "\n",
    "3. Organize all genes in a hierarchy of 74 cellular subsystems to construct FanGO.\n",
    "\n",
    "4. Align FanGO to the Gene Ontology.\n",
    "\n",
    "5. Upload FanGO to an online database, the Network Data Exchange ([NDEx](http://ndexbio.org)), and visualize FanGO in the [HiView](http://hiview.ucsd.edu) web application.\n",
    "\n",
    "Code is also provided to analyze 651 other diseases using a similar pipeline. Known gene-disease associations are taken from the [Monarch Initiative database](https://monarchinitiative.org/)\n",
    "\n",
    "Before reading this notebook, it is recommended that you look at the [DDOT tutorial](https://github.com/michaelkyu/ddot/blob/master/examples/DDOT_tutorial.ipynb)\n",
    "\n",
    "<img src=\"https://raw.githubusercontent.com/michaelkyu/ddot/master/docs/software_pipeline_23jan2018.png\" width=\"700\" align=\"left\">"
   ]
  },
  {
   "cell_type": "code",
   "execution_count": 1,
   "metadata": {
    "ExecuteTime": {
     "end_time": "2018-06-08T19:04:04.341742Z",
     "start_time": "2018-06-08T19:04:03.932817Z"
    },
    "collapsed": true
   },
   "outputs": [],
   "source": [
    "%load_ext autoreload\n",
    "%autoreload 2\n",
    "\n",
    "import sys\n",
    "sys.path.insert(0, '/cellar/users/mikeyu/DeepTranslate/ddot')\n",
    "\n",
    "import numpy as np\n",
    "np.set_printoptions(linewidth=150)"
   ]
  },
  {
   "cell_type": "code",
   "execution_count": 2,
   "metadata": {
    "ExecuteTime": {
     "end_time": "2018-06-08T19:04:08.041002Z",
     "start_time": "2018-06-08T19:04:04.345051Z"
    },
    "collapsed": true,
    "nbpresent": {
     "id": "25718bac-8f5f-4d23-a2a9-b5be1791371b"
    }
   },
   "outputs": [],
   "source": [
    "import pandas as pd\n",
    "import networkx as nx\n",
    "import numpy as np\n",
    "\n",
    "import ddot\n",
    "from ddot import Ontology, ndex_to_sim_matrix, expand_seed, melt_square, make_seed_ontology, make_index"
   ]
  },
  {
   "cell_type": "markdown",
   "metadata": {
    "nbpresent": {
     "id": "1be29053-42b0-4eb0-bcdc-c2de670b16ce"
    }
   },
   "source": [
    "# Set the NDEx server and the user account/password\n",
    "* Replace with your own NDEx user account"
   ]
  },
  {
   "cell_type": "code",
   "execution_count": 3,
   "metadata": {
    "ExecuteTime": {
     "end_time": "2018-06-08T19:04:08.080476Z",
     "start_time": "2018-06-08T19:04:08.051248Z"
    },
    "collapsed": true,
    "nbpresent": {
     "id": "854ac2f2-4c1c-4d99-ad12-c6710e7e7dd7"
    }
   },
   "outputs": [],
   "source": [
    "ndex_server = 'http://test.ndexbio.org'\n",
    "ndex_user, ndex_pass = 'scratch', 'scratch'"
   ]
  },
  {
   "cell_type": "markdown",
   "metadata": {},
   "source": [
    "# Read gene-gene integrated similarity network"
   ]
  },
  {
   "cell_type": "code",
   "execution_count": null,
   "metadata": {
    "collapsed": true
   },
   "outputs": [],
   "source": [
    "# ## Read gene similarity network\n",
    "# sim, sim_names = ndex_to_sim_matrix(\n",
    "#     ndex_uuid='d2dfa5cc-56de-11e7-a2e2-0660b7976219',\n",
    "#     similarity='similarity',\n",
    "#     input_fmt='cx_matrix',\n",
    "#     output_fmt='matrix',\n",
    "#     subset=None)\n",
    "# sim = pd.DataFrame(sim, columns=sim_names, index=sim_names)\n",
    "\n",
    "# ## Rank transform the similarities\n",
    "# sim_rank = sim.rank(0) / (sim.shape[0] - 1)\n",
    "# sim_rank = pd.DataFrame((sim_rank.values + sim_rank.values.T) / 2.0, columns=sim_names, index=sim_names)\n",
    "\n",
    "# sim_rank.head()"
   ]
  },
  {
   "cell_type": "code",
   "execution_count": 7,
   "metadata": {
    "ExecuteTime": {
     "end_time": "2018-06-08T19:05:07.497536Z",
     "start_time": "2018-06-08T19:04:58.108284Z"
    },
    "collapsed": true
   },
   "outputs": [],
   "source": [
    "tmp = np.load('/cellar/users/mikeyu/DeepTranslate/hnexo/RFv2r3_square.npz')\n",
    "sim, sim_names = tmp['rf'], tmp['genes']\n",
    "np.fill_diagonal(sim, 0)\n",
    "sim[np.isnan(sim)] = 0\n",
    "sim = pd.DataFrame(sim, columns=sim_names, index=sim_names)\n",
    "\n",
    "tmp = np.load('/cellar/users/mikeyu/DeepTranslate/hnexo/RFv2r3_square.ranked.npz')\n",
    "sim_rank, sim_names = tmp['rf'], tmp['genes']\n",
    "sim_rank = pd.DataFrame(sim_rank, columns=sim_names, index=sim_names)"
   ]
  },
  {
   "cell_type": "markdown",
   "metadata": {
    "nbpresent": {
     "id": "f0d07107-fd03-42b8-bf19-fdf2ffde5b61"
    }
   },
   "source": [
    "# Specify a set of seed genes with known associations to the disease being studied"
   ]
  },
  {
   "cell_type": "code",
   "execution_count": 13,
   "metadata": {
    "ExecuteTime": {
     "end_time": "2018-06-08T19:05:52.895389Z",
     "start_time": "2018-06-08T19:05:52.852414Z"
    },
    "collapsed": true,
    "nbpresent": {
     "id": "18901780-c455-4bac-a323-4d4a146c4de1"
    }
   },
   "outputs": [],
   "source": [
    "# Let seed genes be the 20 known genes that cause Fanconi Anemia (from the Fanconi Anemia Mutation Database, http://www2.rockefeller.edu/fanconi/)\n",
    "seed = ['FANCA', 'FANCB', 'FANCC', 'BRCA2', 'FANCD2',\n",
    "        'FANCE', 'FANCF', 'FANCG', 'FANCI', 'BRIP1',\n",
    "        'FANCL', 'FANCM', 'PALB2', 'RAD51C', 'SLX4',\n",
    "        'ERCC4', 'RAD51', 'BRCA1', 'UBE2T', 'XRCC2']"
   ]
  },
  {
   "cell_type": "code",
   "execution_count": 12,
   "metadata": {
    "ExecuteTime": {
     "end_time": "2018-06-08T19:05:50.906802Z",
     "start_time": "2018-06-08T19:05:50.863367Z"
    },
    "nbpresent": {
     "id": "628f6bcc-91c6-4807-90cb-2f82b12a2892"
    }
   },
   "outputs": [],
   "source": [
    "# # Let seed genes be the known genese for one of 651 diseases (uncomment to use)\n",
    "\n",
    "# # Retrieve a table of gene-disease associations from the Monarch Initiative (reformatted and stored on NDEx)\n",
    "# monarch, _ = ddot.ndex_to_sim_matrix(\n",
    "#     ddot.config.MONARCH_DISEASE_GENE_SLIM_URL,\n",
    "#     similarity=None,\n",
    "#     input_fmt='cx',\n",
    "#     output_fmt='sparse')\n",
    "# print(monarch.head())\n",
    "\n",
    "# # Example: get the known genes for Caffey Disease\n",
    "# seed = monarch.loc[monarch['disease']=='caffey_disease', 'gene'].tolist()\n",
    "# seed = [s for s in seed if s in sim_names]\n",
    "# print('Seed:', seed)"
   ]
  },
  {
   "cell_type": "markdown",
   "metadata": {
    "nbpresent": {
     "id": "f0261c45-a5fc-443a-989b-90e07507d20e"
    }
   },
   "source": [
    "# Identify candidate set of genes that are highly similar to the seed set of genes"
   ]
  },
  {
   "cell_type": "code",
   "execution_count": 14,
   "metadata": {
    "ExecuteTime": {
     "end_time": "2018-06-08T19:05:55.218555Z",
     "start_time": "2018-06-08T19:05:55.039299Z"
    },
    "collapsed": true,
    "nbpresent": {
     "id": "38b31ac6-24d7-4012-9497-2e1114d548d2"
    }
   },
   "outputs": [],
   "source": [
    "expand, expand_idx, sim_2_seed, fig = expand_seed(\n",
    "    seed,\n",
    "    sim_rank.values,\n",
    "    sim_names,\n",
    "    seed_perc=0,\n",
    "    agg='mean',\n",
    "    figure=True)"
   ]
  },
  {
   "cell_type": "markdown",
   "metadata": {
    "nbpresent": {
     "id": "aa21f852-ff5b-4380-82c9-0caa92162ead"
    }
   },
   "source": [
    "# Organize seed and candidate genes into a data-driven gene ontology"
   ]
  },
  {
   "cell_type": "code",
   "execution_count": 15,
   "metadata": {
    "ExecuteTime": {
     "end_time": "2018-06-08T19:05:57.344354Z",
     "start_time": "2018-06-08T19:05:56.912136Z"
    },
    "nbpresent": {
     "id": "080d0cb5-6d63-44e2-8d94-165a2cd7ad81"
    }
   },
   "outputs": [
    {
     "data": {
      "text/plain": [
       "194 genes, 74 terms, 349 gene-term relations, 86 term-term relations\n",
       "node_attributes: []\n",
       "edge_attributes: ['CLIXO_score']"
      ]
     },
     "execution_count": 15,
     "metadata": {},
     "output_type": "execute_result"
    }
   ],
   "source": [
    "# Run CliXO, with parameters alpha=0.05 and beta=0.5\n",
    "ont = Ontology.run_clixo(sim.loc[expand, :].loc[:, expand], alpha=0.05, beta=0.5, square=True)\n",
    "ont"
   ]
  },
  {
   "cell_type": "markdown",
   "metadata": {
    "nbpresent": {
     "id": "260b3d19-9afc-4fe4-91b1-7a3fbd3c1135"
    }
   },
   "source": [
    "# Align the data-driven ontology with the Gene Ontology (GO)"
   ]
  },
  {
   "cell_type": "code",
   "execution_count": 16,
   "metadata": {
    "ExecuteTime": {
     "end_time": "2018-06-08T19:06:32.652339Z",
     "start_time": "2018-06-08T19:05:59.935247Z"
    },
    "nbpresent": {
     "id": "8d454a74-6744-48ec-ab46-b8565c860512"
    }
   },
   "outputs": [
    {
     "name": "stdout",
     "output_type": "stream",
     "text": [
      "\n",
      "19015 genes, 19343 terms, 215488 gene-term relations, 36362 term-term relations\n",
      "node_attributes: ['name', u'Branch', u'Vis:Shape', u'Vis:Border Paint', u'Vis:Size', u'Term_Description', u'Vis:Fill Color']\n",
      "edge_attributes: [u'Vis:Visible']\n"
     ]
    }
   ],
   "source": [
    "# Read Gene Ontology from NDEx. This version has been pre-processed to contain a non-redundant set of GO terms and connections that are relevant to human genes (see Get_Gene_Ontology.ipynb) \n",
    "go_human = Ontology.from_ndex(ddot.config.GO_HUMAN_URL)\n",
    "print(go_human)"
   ]
  },
  {
   "cell_type": "code",
   "execution_count": 17,
   "metadata": {
    "ExecuteTime": {
     "end_time": "2018-06-08T19:06:50.238323Z",
     "start_time": "2018-06-08T19:06:32.654461Z"
    }
   },
   "outputs": [
    {
     "name": "stdout",
     "output_type": "stream",
     "text": [
      "Common genes: 193\n",
      "collapse command: /cellar/users/mikeyu/DeepTranslate/ddot/ddot/alignOntology/collapseRedundantNodes /tmp/tmp17AjwI\n",
      "collapse command: /cellar/users/mikeyu/DeepTranslate/ddot/ddot/alignOntology/collapseRedundantNodes /tmp/tmp1NUuxG\n",
      "ont1_collapsed: 193 genes, 74 terms, 348 gene-term relations, 86 term-term relations\n",
      "node_attributes: []\n",
      "edge_attributes: ['CLIXO_score']\n",
      "ont2_collapsed: 193 genes, 1854 terms, 3594 gene-term relations, 4490 term-term relations\n",
      "node_attributes: ['name', u'Branch', u'Vis:Shape', u'Vis:Border Paint', u'Vis:Size', u'Term_Description', u'Vis:Fill Color']\n",
      "edge_attributes: [u'Vis:Visible']\n",
      "Alignment command: /cellar/users/mikeyu/DeepTranslate/ddot/ddot/alignOntology/calculateFDRs /tmp/tmpS7to4W /tmp/tmpmhDzUL 0.05 criss_cross /tmp/tmpJWdUzf 100 40 gene\n"
     ]
    },
    {
     "data": {
      "text/html": [
       "<div>\n",
       "<style>\n",
       "    .dataframe thead tr:only-child th {\n",
       "        text-align: right;\n",
       "    }\n",
       "\n",
       "    .dataframe thead th {\n",
       "        text-align: left;\n",
       "    }\n",
       "\n",
       "    .dataframe tbody tr th {\n",
       "        vertical-align: top;\n",
       "    }\n",
       "</style>\n",
       "<table border=\"1\" class=\"dataframe\">\n",
       "  <thead>\n",
       "    <tr style=\"text-align: right;\">\n",
       "      <th></th>\n",
       "      <th>Term</th>\n",
       "      <th>Similarity</th>\n",
       "      <th>FDR</th>\n",
       "    </tr>\n",
       "    <tr>\n",
       "      <th>Term</th>\n",
       "      <th></th>\n",
       "      <th></th>\n",
       "      <th></th>\n",
       "    </tr>\n",
       "  </thead>\n",
       "  <tbody>\n",
       "    <tr>\n",
       "      <th>S:196</th>\n",
       "      <td>GO:0035098</td>\n",
       "      <td>0.902149</td>\n",
       "      <td>0.000000</td>\n",
       "    </tr>\n",
       "    <tr>\n",
       "      <th>S:219</th>\n",
       "      <td>GO:1905773</td>\n",
       "      <td>0.900885</td>\n",
       "      <td>0.000000</td>\n",
       "    </tr>\n",
       "    <tr>\n",
       "      <th>S:206</th>\n",
       "      <td>GO:1901673</td>\n",
       "      <td>0.891945</td>\n",
       "      <td>0.003333</td>\n",
       "    </tr>\n",
       "    <tr>\n",
       "      <th>S:205</th>\n",
       "      <td>GO:0004748</td>\n",
       "      <td>0.891813</td>\n",
       "      <td>0.002500</td>\n",
       "    </tr>\n",
       "    <tr>\n",
       "      <th>S:240</th>\n",
       "      <td>GO:0071821</td>\n",
       "      <td>0.891386</td>\n",
       "      <td>0.000000</td>\n",
       "    </tr>\n",
       "  </tbody>\n",
       "</table>\n",
       "</div>"
      ],
      "text/plain": [
       "             Term  Similarity       FDR\n",
       "Term                                   \n",
       "S:196  GO:0035098    0.902149  0.000000\n",
       "S:219  GO:1905773    0.900885  0.000000\n",
       "S:206  GO:1901673    0.891945  0.003333\n",
       "S:205  GO:0004748    0.891813  0.002500\n",
       "S:240  GO:0071821    0.891386  0.000000"
      ]
     },
     "execution_count": 17,
     "metadata": {},
     "output_type": "execute_result"
    }
   ],
   "source": [
    "# Align ontologies\n",
    "alignment = ont.align(go_human, \n",
    "                      iterations=100,\n",
    "                      update_self=['Term_Description'],\n",
    "                      align_label='Term_Description',\n",
    "                      verbose=True)\n",
    "alignment.head()"
   ]
  },
  {
   "cell_type": "code",
   "execution_count": 18,
   "metadata": {
    "ExecuteTime": {
     "end_time": "2018-06-08T19:06:50.290335Z",
     "start_time": "2018-06-08T19:06:50.240035Z"
    },
    "nbpresent": {
     "id": "ead00b01-64fe-439c-a274-15f303a3d5a4"
    }
   },
   "outputs": [
    {
     "data": {
      "text/html": [
       "<div>\n",
       "<style>\n",
       "    .dataframe thead tr:only-child th {\n",
       "        text-align: right;\n",
       "    }\n",
       "\n",
       "    .dataframe thead th {\n",
       "        text-align: left;\n",
       "    }\n",
       "\n",
       "    .dataframe tbody tr th {\n",
       "        vertical-align: top;\n",
       "    }\n",
       "</style>\n",
       "<table border=\"1\" class=\"dataframe\">\n",
       "  <thead>\n",
       "    <tr style=\"text-align: right;\">\n",
       "      <th></th>\n",
       "      <th>Aligned_Term</th>\n",
       "      <th>Aligned_Similarity</th>\n",
       "      <th>Aligned_FDR</th>\n",
       "      <th>Aligned_Term_Description</th>\n",
       "      <th>Label</th>\n",
       "    </tr>\n",
       "  </thead>\n",
       "  <tbody>\n",
       "    <tr>\n",
       "      <th>S:195</th>\n",
       "      <td>GO:0098535</td>\n",
       "      <td>0.889600</td>\n",
       "      <td>0.002000</td>\n",
       "      <td>de novo centriole assembly involved in multi-c...</td>\n",
       "      <td>S:195\\nde novo centriole assembly involved in ...</td>\n",
       "    </tr>\n",
       "    <tr>\n",
       "      <th>S:196</th>\n",
       "      <td>GO:0035098</td>\n",
       "      <td>0.902149</td>\n",
       "      <td>0.000000</td>\n",
       "      <td>ESC/E(Z) complex</td>\n",
       "      <td>S:196\\nESC/E(Z) complex</td>\n",
       "    </tr>\n",
       "    <tr>\n",
       "      <th>S:200</th>\n",
       "      <td>GO:0051087</td>\n",
       "      <td>0.505705</td>\n",
       "      <td>0.075294</td>\n",
       "      <td>chaperone binding</td>\n",
       "      <td>S:200\\nchaperone binding</td>\n",
       "    </tr>\n",
       "    <tr>\n",
       "      <th>S:205</th>\n",
       "      <td>GO:0004748</td>\n",
       "      <td>0.891813</td>\n",
       "      <td>0.002500</td>\n",
       "      <td>ribonucleoside-diphosphate reductase activity,...</td>\n",
       "      <td>S:205\\nribonucleoside-diphosphate reductase ac...</td>\n",
       "    </tr>\n",
       "    <tr>\n",
       "      <th>S:206</th>\n",
       "      <td>GO:1901673</td>\n",
       "      <td>0.891945</td>\n",
       "      <td>0.003333</td>\n",
       "      <td>regulation of mitotic spindle assembly</td>\n",
       "      <td>S:206\\nregulation of mitotic spindle assembly</td>\n",
       "    </tr>\n",
       "    <tr>\n",
       "      <th>S:207</th>\n",
       "      <td>GO:0000381</td>\n",
       "      <td>0.882179</td>\n",
       "      <td>0.010000</td>\n",
       "      <td>regulation of alternative mRNA splicing, via s...</td>\n",
       "      <td>S:207\\nregulation of alternative mRNA splicing...</td>\n",
       "    </tr>\n",
       "    <tr>\n",
       "      <th>S:209</th>\n",
       "      <td>GO:0008536</td>\n",
       "      <td>0.598753</td>\n",
       "      <td>0.028462</td>\n",
       "      <td>Ran GTPase binding</td>\n",
       "      <td>S:209\\nRan GTPase binding</td>\n",
       "    </tr>\n",
       "    <tr>\n",
       "      <th>S:210</th>\n",
       "      <td>GO:0051292</td>\n",
       "      <td>0.883572</td>\n",
       "      <td>0.008571</td>\n",
       "      <td>nuclear pore complex assembly</td>\n",
       "      <td>S:210\\nnuclear pore complex assembly</td>\n",
       "    </tr>\n",
       "    <tr>\n",
       "      <th>S:211</th>\n",
       "      <td>GO:0006346</td>\n",
       "      <td>0.868901</td>\n",
       "      <td>0.016667</td>\n",
       "      <td>methylation-dependent chromatin silencing</td>\n",
       "      <td>S:211\\nmethylation-dependent chromatin silencing</td>\n",
       "    </tr>\n",
       "    <tr>\n",
       "      <th>S:212</th>\n",
       "      <td>GO:0070064</td>\n",
       "      <td>0.514149</td>\n",
       "      <td>0.071875</td>\n",
       "      <td>proline-rich region binding</td>\n",
       "      <td>S:212\\nproline-rich region binding</td>\n",
       "    </tr>\n",
       "    <tr>\n",
       "      <th>S:213</th>\n",
       "      <td>GO:0048025</td>\n",
       "      <td>0.878031</td>\n",
       "      <td>0.011818</td>\n",
       "      <td>negative regulation of mRNA splicing, via spli...</td>\n",
       "      <td>S:213\\nnegative regulation of mRNA splicing, v...</td>\n",
       "    </tr>\n",
       "    <tr>\n",
       "      <th>S:214</th>\n",
       "      <td>GO:0009113</td>\n",
       "      <td>0.882894</td>\n",
       "      <td>0.010000</td>\n",
       "      <td>purine nucleobase biosynthetic process</td>\n",
       "      <td>S:214\\npurine nucleobase biosynthetic process</td>\n",
       "    </tr>\n",
       "    <tr>\n",
       "      <th>S:216</th>\n",
       "      <td>GO:0032042</td>\n",
       "      <td>0.573594</td>\n",
       "      <td>0.048000</td>\n",
       "      <td>mitochondrial DNA metabolic process</td>\n",
       "      <td>S:216\\nmitochondrial DNA metabolic process</td>\n",
       "    </tr>\n",
       "    <tr>\n",
       "      <th>S:217</th>\n",
       "      <td>GO:0043137</td>\n",
       "      <td>0.586344</td>\n",
       "      <td>0.042857</td>\n",
       "      <td>DNA replication, removal of RNA primer</td>\n",
       "      <td>S:217\\nDNA replication, removal of RNA primer</td>\n",
       "    </tr>\n",
       "    <tr>\n",
       "      <th>S:219</th>\n",
       "      <td>GO:1905773</td>\n",
       "      <td>0.900885</td>\n",
       "      <td>0.000000</td>\n",
       "      <td>8-hydroxy-2'-deoxyguanosine DNA binding</td>\n",
       "      <td>S:219\\n8-hydroxy-2'-deoxyguanosine DNA binding</td>\n",
       "    </tr>\n",
       "    <tr>\n",
       "      <th>S:220</th>\n",
       "      <td>GO:0032301</td>\n",
       "      <td>0.887632</td>\n",
       "      <td>0.003333</td>\n",
       "      <td>MutSalpha complex</td>\n",
       "      <td>S:220\\nMutSalpha complex</td>\n",
       "    </tr>\n",
       "    <tr>\n",
       "      <th>S:221</th>\n",
       "      <td>GO:0035563</td>\n",
       "      <td>0.878671</td>\n",
       "      <td>0.013000</td>\n",
       "      <td>positive regulation of chromatin binding</td>\n",
       "      <td>S:221\\npositive regulation of chromatin binding</td>\n",
       "    </tr>\n",
       "    <tr>\n",
       "      <th>S:229</th>\n",
       "      <td>GO:0005521</td>\n",
       "      <td>0.363738</td>\n",
       "      <td>0.092000</td>\n",
       "      <td>lamin binding</td>\n",
       "      <td>S:229\\nlamin binding</td>\n",
       "    </tr>\n",
       "    <tr>\n",
       "      <th>S:230</th>\n",
       "      <td>GO:0043200</td>\n",
       "      <td>0.561015</td>\n",
       "      <td>0.045000</td>\n",
       "      <td>response to amino acid</td>\n",
       "      <td>S:230\\nresponse to amino acid</td>\n",
       "    </tr>\n",
       "    <tr>\n",
       "      <th>S:231</th>\n",
       "      <td>GO:0005662</td>\n",
       "      <td>0.891386</td>\n",
       "      <td>0.000000</td>\n",
       "      <td>DNA replication factor A complex</td>\n",
       "      <td>S:231\\nDNA replication factor A complex</td>\n",
       "    </tr>\n",
       "    <tr>\n",
       "      <th>S:232</th>\n",
       "      <td>GO:0001094</td>\n",
       "      <td>0.595648</td>\n",
       "      <td>0.004000</td>\n",
       "      <td>TFIID-class transcription factor binding</td>\n",
       "      <td>S:232\\nTFIID-class transcription factor binding</td>\n",
       "    </tr>\n",
       "    <tr>\n",
       "      <th>S:233</th>\n",
       "      <td>GO:0000707</td>\n",
       "      <td>0.377060</td>\n",
       "      <td>0.094444</td>\n",
       "      <td>meiotic DNA recombinase assembly</td>\n",
       "      <td>S:233\\nmeiotic DNA recombinase assembly</td>\n",
       "    </tr>\n",
       "    <tr>\n",
       "      <th>S:234</th>\n",
       "      <td>GO:0048146</td>\n",
       "      <td>0.442841</td>\n",
       "      <td>0.057500</td>\n",
       "      <td>positive regulation of fibroblast proliferation</td>\n",
       "      <td>S:234\\npositive regulation of fibroblast proli...</td>\n",
       "    </tr>\n",
       "    <tr>\n",
       "      <th>S:236</th>\n",
       "      <td>GO:0036033</td>\n",
       "      <td>0.521509</td>\n",
       "      <td>0.047143</td>\n",
       "      <td>mediator complex binding</td>\n",
       "      <td>S:236\\nmediator complex binding</td>\n",
       "    </tr>\n",
       "    <tr>\n",
       "      <th>S:237</th>\n",
       "      <td>GO:0000405</td>\n",
       "      <td>0.802647</td>\n",
       "      <td>0.000000</td>\n",
       "      <td>bubble DNA binding</td>\n",
       "      <td>S:237\\nbubble DNA binding</td>\n",
       "    </tr>\n",
       "    <tr>\n",
       "      <th>S:239</th>\n",
       "      <td>GO:0000811</td>\n",
       "      <td>0.600984</td>\n",
       "      <td>0.005000</td>\n",
       "      <td>GINS complex</td>\n",
       "      <td>S:239\\nGINS complex</td>\n",
       "    </tr>\n",
       "    <tr>\n",
       "      <th>S:240</th>\n",
       "      <td>GO:0071821</td>\n",
       "      <td>0.891386</td>\n",
       "      <td>0.000000</td>\n",
       "      <td>FANCM-MHF complex</td>\n",
       "      <td>S:240\\nFANCM-MHF complex</td>\n",
       "    </tr>\n",
       "    <tr>\n",
       "      <th>S:241</th>\n",
       "      <td>GO:0098536</td>\n",
       "      <td>0.432697</td>\n",
       "      <td>0.030000</td>\n",
       "      <td>deuterosome</td>\n",
       "      <td>S:241\\ndeuterosome</td>\n",
       "    </tr>\n",
       "    <tr>\n",
       "      <th>S:242</th>\n",
       "      <td>GO:0006335</td>\n",
       "      <td>0.360899</td>\n",
       "      <td>0.062500</td>\n",
       "      <td>DNA replication-dependent nucleosome assembly</td>\n",
       "      <td>S:242\\nDNA replication-dependent nucleosome as...</td>\n",
       "    </tr>\n",
       "    <tr>\n",
       "      <th>S:243</th>\n",
       "      <td>GO:0008821</td>\n",
       "      <td>0.592757</td>\n",
       "      <td>0.000000</td>\n",
       "      <td>crossover junction endodeoxyribonuclease activity</td>\n",
       "      <td>S:243\\ncrossover junction endodeoxyribonucleas...</td>\n",
       "    </tr>\n",
       "    <tr>\n",
       "      <th>S:244</th>\n",
       "      <td>GO:0008610</td>\n",
       "      <td>0.442373</td>\n",
       "      <td>0.030000</td>\n",
       "      <td>lipid biosynthetic process</td>\n",
       "      <td>S:244\\nlipid biosynthetic process</td>\n",
       "    </tr>\n",
       "    <tr>\n",
       "      <th>S:245</th>\n",
       "      <td>GO:0000150</td>\n",
       "      <td>0.552376</td>\n",
       "      <td>0.000000</td>\n",
       "      <td>recombinase activity</td>\n",
       "      <td>S:245\\nrecombinase activity</td>\n",
       "    </tr>\n",
       "    <tr>\n",
       "      <th>S:247</th>\n",
       "      <td>GO:0043240</td>\n",
       "      <td>0.414114</td>\n",
       "      <td>0.000000</td>\n",
       "      <td>Fanconi anaemia nuclear complex</td>\n",
       "      <td>S:247\\nFanconi anaemia nuclear complex</td>\n",
       "    </tr>\n",
       "    <tr>\n",
       "      <th>S:248</th>\n",
       "      <td>GO:0006978</td>\n",
       "      <td>0.350815</td>\n",
       "      <td>0.021667</td>\n",
       "      <td>DNA damage response, signal transduction by p5...</td>\n",
       "      <td>S:248\\nDNA damage response, signal transductio...</td>\n",
       "    </tr>\n",
       "    <tr>\n",
       "      <th>S:249</th>\n",
       "      <td>GO:0031261</td>\n",
       "      <td>0.371194</td>\n",
       "      <td>0.002000</td>\n",
       "      <td>DNA replication preinitiation complex</td>\n",
       "      <td>S:249\\nDNA replication preinitiation complex</td>\n",
       "    </tr>\n",
       "    <tr>\n",
       "      <th>S:250</th>\n",
       "      <td>GO:0031390</td>\n",
       "      <td>0.499434</td>\n",
       "      <td>0.000000</td>\n",
       "      <td>Ctf18 RFC-like complex</td>\n",
       "      <td>S:250\\nCtf18 RFC-like complex</td>\n",
       "    </tr>\n",
       "    <tr>\n",
       "      <th>S:251</th>\n",
       "      <td>GO:0000712</td>\n",
       "      <td>0.402787</td>\n",
       "      <td>0.002500</td>\n",
       "      <td>resolution of meiotic recombination intermediates</td>\n",
       "      <td>S:251\\nresolution of meiotic recombination int...</td>\n",
       "    </tr>\n",
       "    <tr>\n",
       "      <th>S:252</th>\n",
       "      <td>GO:0000796</td>\n",
       "      <td>0.448329</td>\n",
       "      <td>0.000000</td>\n",
       "      <td>condensin complex</td>\n",
       "      <td>S:252\\ncondensin complex</td>\n",
       "    </tr>\n",
       "    <tr>\n",
       "      <th>S:254</th>\n",
       "      <td>GO:0032201</td>\n",
       "      <td>0.394536</td>\n",
       "      <td>0.000000</td>\n",
       "      <td>telomere maintenance via semi-conservative rep...</td>\n",
       "      <td>S:254\\ntelomere maintenance via semi-conservat...</td>\n",
       "    </tr>\n",
       "    <tr>\n",
       "      <th>S:255</th>\n",
       "      <td>GO:0042393</td>\n",
       "      <td>0.242748</td>\n",
       "      <td>0.006667</td>\n",
       "      <td>histone binding</td>\n",
       "      <td>S:255\\nhistone binding</td>\n",
       "    </tr>\n",
       "    <tr>\n",
       "      <th>S:256</th>\n",
       "      <td>GO:0000793</td>\n",
       "      <td>0.283442</td>\n",
       "      <td>0.000000</td>\n",
       "      <td>condensed chromosome</td>\n",
       "      <td>S:256\\ncondensed chromosome</td>\n",
       "    </tr>\n",
       "    <tr>\n",
       "      <th>S:258</th>\n",
       "      <td>GO:0051301</td>\n",
       "      <td>0.410033</td>\n",
       "      <td>0.000000</td>\n",
       "      <td>cell division</td>\n",
       "      <td>S:258\\ncell division</td>\n",
       "    </tr>\n",
       "    <tr>\n",
       "      <th>S:259</th>\n",
       "      <td>GO:0006281</td>\n",
       "      <td>0.381899</td>\n",
       "      <td>0.000000</td>\n",
       "      <td>DNA repair</td>\n",
       "      <td>S:259\\nDNA repair</td>\n",
       "    </tr>\n",
       "  </tbody>\n",
       "</table>\n",
       "</div>"
      ],
      "text/plain": [
       "      Aligned_Term  Aligned_Similarity  Aligned_FDR  \\\n",
       "S:195   GO:0098535            0.889600     0.002000   \n",
       "S:196   GO:0035098            0.902149     0.000000   \n",
       "S:200   GO:0051087            0.505705     0.075294   \n",
       "S:205   GO:0004748            0.891813     0.002500   \n",
       "S:206   GO:1901673            0.891945     0.003333   \n",
       "S:207   GO:0000381            0.882179     0.010000   \n",
       "S:209   GO:0008536            0.598753     0.028462   \n",
       "S:210   GO:0051292            0.883572     0.008571   \n",
       "S:211   GO:0006346            0.868901     0.016667   \n",
       "S:212   GO:0070064            0.514149     0.071875   \n",
       "S:213   GO:0048025            0.878031     0.011818   \n",
       "S:214   GO:0009113            0.882894     0.010000   \n",
       "S:216   GO:0032042            0.573594     0.048000   \n",
       "S:217   GO:0043137            0.586344     0.042857   \n",
       "S:219   GO:1905773            0.900885     0.000000   \n",
       "S:220   GO:0032301            0.887632     0.003333   \n",
       "S:221   GO:0035563            0.878671     0.013000   \n",
       "S:229   GO:0005521            0.363738     0.092000   \n",
       "S:230   GO:0043200            0.561015     0.045000   \n",
       "S:231   GO:0005662            0.891386     0.000000   \n",
       "S:232   GO:0001094            0.595648     0.004000   \n",
       "S:233   GO:0000707            0.377060     0.094444   \n",
       "S:234   GO:0048146            0.442841     0.057500   \n",
       "S:236   GO:0036033            0.521509     0.047143   \n",
       "S:237   GO:0000405            0.802647     0.000000   \n",
       "S:239   GO:0000811            0.600984     0.005000   \n",
       "S:240   GO:0071821            0.891386     0.000000   \n",
       "S:241   GO:0098536            0.432697     0.030000   \n",
       "S:242   GO:0006335            0.360899     0.062500   \n",
       "S:243   GO:0008821            0.592757     0.000000   \n",
       "S:244   GO:0008610            0.442373     0.030000   \n",
       "S:245   GO:0000150            0.552376     0.000000   \n",
       "S:247   GO:0043240            0.414114     0.000000   \n",
       "S:248   GO:0006978            0.350815     0.021667   \n",
       "S:249   GO:0031261            0.371194     0.002000   \n",
       "S:250   GO:0031390            0.499434     0.000000   \n",
       "S:251   GO:0000712            0.402787     0.002500   \n",
       "S:252   GO:0000796            0.448329     0.000000   \n",
       "S:254   GO:0032201            0.394536     0.000000   \n",
       "S:255   GO:0042393            0.242748     0.006667   \n",
       "S:256   GO:0000793            0.283442     0.000000   \n",
       "S:258   GO:0051301            0.410033     0.000000   \n",
       "S:259   GO:0006281            0.381899     0.000000   \n",
       "\n",
       "                                Aligned_Term_Description  \\\n",
       "S:195  de novo centriole assembly involved in multi-c...   \n",
       "S:196                                   ESC/E(Z) complex   \n",
       "S:200                                  chaperone binding   \n",
       "S:205  ribonucleoside-diphosphate reductase activity,...   \n",
       "S:206             regulation of mitotic spindle assembly   \n",
       "S:207  regulation of alternative mRNA splicing, via s...   \n",
       "S:209                                 Ran GTPase binding   \n",
       "S:210                      nuclear pore complex assembly   \n",
       "S:211          methylation-dependent chromatin silencing   \n",
       "S:212                        proline-rich region binding   \n",
       "S:213  negative regulation of mRNA splicing, via spli...   \n",
       "S:214             purine nucleobase biosynthetic process   \n",
       "S:216                mitochondrial DNA metabolic process   \n",
       "S:217             DNA replication, removal of RNA primer   \n",
       "S:219            8-hydroxy-2'-deoxyguanosine DNA binding   \n",
       "S:220                                  MutSalpha complex   \n",
       "S:221           positive regulation of chromatin binding   \n",
       "S:229                                      lamin binding   \n",
       "S:230                             response to amino acid   \n",
       "S:231                   DNA replication factor A complex   \n",
       "S:232           TFIID-class transcription factor binding   \n",
       "S:233                   meiotic DNA recombinase assembly   \n",
       "S:234    positive regulation of fibroblast proliferation   \n",
       "S:236                           mediator complex binding   \n",
       "S:237                                 bubble DNA binding   \n",
       "S:239                                       GINS complex   \n",
       "S:240                                  FANCM-MHF complex   \n",
       "S:241                                        deuterosome   \n",
       "S:242      DNA replication-dependent nucleosome assembly   \n",
       "S:243  crossover junction endodeoxyribonuclease activity   \n",
       "S:244                         lipid biosynthetic process   \n",
       "S:245                               recombinase activity   \n",
       "S:247                    Fanconi anaemia nuclear complex   \n",
       "S:248  DNA damage response, signal transduction by p5...   \n",
       "S:249              DNA replication preinitiation complex   \n",
       "S:250                             Ctf18 RFC-like complex   \n",
       "S:251  resolution of meiotic recombination intermediates   \n",
       "S:252                                  condensin complex   \n",
       "S:254  telomere maintenance via semi-conservative rep...   \n",
       "S:255                                    histone binding   \n",
       "S:256                               condensed chromosome   \n",
       "S:258                                      cell division   \n",
       "S:259                                         DNA repair   \n",
       "\n",
       "                                                   Label  \n",
       "S:195  S:195\\nde novo centriole assembly involved in ...  \n",
       "S:196                            S:196\\nESC/E(Z) complex  \n",
       "S:200                           S:200\\nchaperone binding  \n",
       "S:205  S:205\\nribonucleoside-diphosphate reductase ac...  \n",
       "S:206      S:206\\nregulation of mitotic spindle assembly  \n",
       "S:207  S:207\\nregulation of alternative mRNA splicing...  \n",
       "S:209                          S:209\\nRan GTPase binding  \n",
       "S:210               S:210\\nnuclear pore complex assembly  \n",
       "S:211   S:211\\nmethylation-dependent chromatin silencing  \n",
       "S:212                 S:212\\nproline-rich region binding  \n",
       "S:213  S:213\\nnegative regulation of mRNA splicing, v...  \n",
       "S:214      S:214\\npurine nucleobase biosynthetic process  \n",
       "S:216         S:216\\nmitochondrial DNA metabolic process  \n",
       "S:217      S:217\\nDNA replication, removal of RNA primer  \n",
       "S:219     S:219\\n8-hydroxy-2'-deoxyguanosine DNA binding  \n",
       "S:220                           S:220\\nMutSalpha complex  \n",
       "S:221    S:221\\npositive regulation of chromatin binding  \n",
       "S:229                               S:229\\nlamin binding  \n",
       "S:230                      S:230\\nresponse to amino acid  \n",
       "S:231            S:231\\nDNA replication factor A complex  \n",
       "S:232    S:232\\nTFIID-class transcription factor binding  \n",
       "S:233            S:233\\nmeiotic DNA recombinase assembly  \n",
       "S:234  S:234\\npositive regulation of fibroblast proli...  \n",
       "S:236                    S:236\\nmediator complex binding  \n",
       "S:237                          S:237\\nbubble DNA binding  \n",
       "S:239                                S:239\\nGINS complex  \n",
       "S:240                           S:240\\nFANCM-MHF complex  \n",
       "S:241                                 S:241\\ndeuterosome  \n",
       "S:242  S:242\\nDNA replication-dependent nucleosome as...  \n",
       "S:243  S:243\\ncrossover junction endodeoxyribonucleas...  \n",
       "S:244                  S:244\\nlipid biosynthetic process  \n",
       "S:245                        S:245\\nrecombinase activity  \n",
       "S:247             S:247\\nFanconi anaemia nuclear complex  \n",
       "S:248  S:248\\nDNA damage response, signal transductio...  \n",
       "S:249       S:249\\nDNA replication preinitiation complex  \n",
       "S:250                      S:250\\nCtf18 RFC-like complex  \n",
       "S:251  S:251\\nresolution of meiotic recombination int...  \n",
       "S:252                           S:252\\ncondensin complex  \n",
       "S:254  S:254\\ntelomere maintenance via semi-conservat...  \n",
       "S:255                             S:255\\nhistone binding  \n",
       "S:256                        S:256\\ncondensed chromosome  \n",
       "S:258                               S:258\\ncell division  \n",
       "S:259                                  S:259\\nDNA repair  "
      ]
     },
     "execution_count": 18,
     "metadata": {},
     "output_type": "execute_result"
    }
   ],
   "source": [
    "# Note how node attributes have been updated to reflect the ontology alignment\n",
    "ont.node_attr"
   ]
  },
  {
   "cell_type": "markdown",
   "metadata": {
    "nbpresent": {
     "id": "b508af71-63cd-4275-9b77-9e8338e1a345"
    }
   },
   "source": [
    "# Upload ontology with NDEx to visualize in the HiView application (http://hiview.ucsd.edu)\n",
    "* A two-dimensional layout of nodes is automatically calculated to optimize visualization of hierarchical structure\n",
    "* Molecular networks, such as protein-protein interactions and RNA coexpression, can be visualized in HiView to understand how an ontology's structure is consistent with data\n",
    "* Node attributes (color and size) can be set to visualize metadata."
   ]
  },
  {
   "cell_type": "code",
   "execution_count": 19,
   "metadata": {
    "ExecuteTime": {
     "end_time": "2018-06-08T19:06:50.312928Z",
     "start_time": "2018-06-08T19:06:50.291731Z"
    },
    "collapsed": true,
    "nbpresent": {
     "id": "bda55846-119b-4b2e-8d57-168b72b2193d"
    }
   },
   "outputs": [],
   "source": [
    "# Set the node color of seed genes to be green\n",
    "fill_attr = pd.DataFrame({'Vis:Fill Color' : '#6ACC65'}, index=seed)\n",
    "ont.update_node_attr(fill_attr)"
   ]
  },
  {
   "cell_type": "code",
   "execution_count": 20,
   "metadata": {
    "ExecuteTime": {
     "end_time": "2018-06-08T19:06:50.335915Z",
     "start_time": "2018-06-08T19:06:50.314227Z"
    },
    "nbpresent": {
     "id": "dec08f16-ed17-4716-95cb-bdbf6e56e2d1"
    }
   },
   "outputs": [],
   "source": [
    "# Set the node color of inferred terms according to the alignment with GO (for visualization in HiView)\n",
    "fill_attr = ont.node_attr['Aligned_Similarity'].dropna().map(ddot.color_gradient)\n",
    "fill_attr = fill_attr.to_frame().rename(columns={'Aligned_Similarity' : 'Vis:Fill Color'})\n",
    "ont.update_node_attr(fill_attr)"
   ]
  },
  {
   "cell_type": "code",
   "execution_count": 21,
   "metadata": {
    "ExecuteTime": {
     "end_time": "2018-06-08T19:07:04.569200Z",
     "start_time": "2018-06-08T19:06:50.337451Z"
    },
    "nbpresent": {
     "id": "44364aa3-b43a-485c-98e0-632ce5dfeb57"
    }
   },
   "outputs": [
    {
     "name": "stdout",
     "output_type": "stream",
     "text": [
      "\n"
     ]
    },
    {
     "data": {
      "text/html": [
       "<div>\n",
       "<style>\n",
       "    .dataframe thead tr:only-child th {\n",
       "        text-align: right;\n",
       "    }\n",
       "\n",
       "    .dataframe thead th {\n",
       "        text-align: left;\n",
       "    }\n",
       "\n",
       "    .dataframe tbody tr th {\n",
       "        vertical-align: top;\n",
       "    }\n",
       "</style>\n",
       "<table border=\"1\" class=\"dataframe\">\n",
       "  <thead>\n",
       "    <tr style=\"text-align: right;\">\n",
       "      <th></th>\n",
       "      <th>Gene1</th>\n",
       "      <th>Gene2</th>\n",
       "      <th>GTEx Skin-SunExposed_Lowerleg</th>\n",
       "      <th>GTEx Esophagus-Mucosa</th>\n",
       "      <th>PPI PrePPI</th>\n",
       "      <th>PPI huMap</th>\n",
       "      <th>PPI BioGRID</th>\n",
       "      <th>GTEx Artery-Aorta</th>\n",
       "      <th>GTEx Breast-MammaryTissue</th>\n",
       "      <th>GTEx Nerve-Tibial</th>\n",
       "      <th>...</th>\n",
       "      <th>GTEx Muscle-Skeletal</th>\n",
       "      <th>GTEx sum</th>\n",
       "      <th>GTEx Adipose-Subcutaneous</th>\n",
       "      <th>PPI CCSB</th>\n",
       "      <th>GTEx Adipose-Visceral_Omentum</th>\n",
       "      <th>GTEx Esophagus-Muscularis</th>\n",
       "      <th>GTEx WholeBlood</th>\n",
       "      <th>PPI InbioMap</th>\n",
       "      <th>GTEx Heart-LeftVentricle</th>\n",
       "      <th>RandomForest integrated similarity</th>\n",
       "    </tr>\n",
       "  </thead>\n",
       "  <tbody>\n",
       "    <tr>\n",
       "      <th>0</th>\n",
       "      <td>ARHGAP19</td>\n",
       "      <td>ASF1B</td>\n",
       "      <td>False</td>\n",
       "      <td>False</td>\n",
       "      <td>False</td>\n",
       "      <td>False</td>\n",
       "      <td>False</td>\n",
       "      <td>False</td>\n",
       "      <td>False</td>\n",
       "      <td>False</td>\n",
       "      <td>...</td>\n",
       "      <td>False</td>\n",
       "      <td>0</td>\n",
       "      <td>False</td>\n",
       "      <td>False</td>\n",
       "      <td>False</td>\n",
       "      <td>False</td>\n",
       "      <td>False</td>\n",
       "      <td>False</td>\n",
       "      <td>False</td>\n",
       "      <td>5.624597</td>\n",
       "    </tr>\n",
       "    <tr>\n",
       "      <th>1</th>\n",
       "      <td>ARHGAP19</td>\n",
       "      <td>C16orf59</td>\n",
       "      <td>False</td>\n",
       "      <td>False</td>\n",
       "      <td>False</td>\n",
       "      <td>False</td>\n",
       "      <td>False</td>\n",
       "      <td>False</td>\n",
       "      <td>False</td>\n",
       "      <td>False</td>\n",
       "      <td>...</td>\n",
       "      <td>False</td>\n",
       "      <td>0</td>\n",
       "      <td>False</td>\n",
       "      <td>False</td>\n",
       "      <td>False</td>\n",
       "      <td>False</td>\n",
       "      <td>False</td>\n",
       "      <td>False</td>\n",
       "      <td>False</td>\n",
       "      <td>4.986351</td>\n",
       "    </tr>\n",
       "    <tr>\n",
       "      <th>2</th>\n",
       "      <td>ARHGAP19</td>\n",
       "      <td>CCNA2</td>\n",
       "      <td>False</td>\n",
       "      <td>False</td>\n",
       "      <td>False</td>\n",
       "      <td>False</td>\n",
       "      <td>False</td>\n",
       "      <td>False</td>\n",
       "      <td>False</td>\n",
       "      <td>False</td>\n",
       "      <td>...</td>\n",
       "      <td>False</td>\n",
       "      <td>0</td>\n",
       "      <td>False</td>\n",
       "      <td>False</td>\n",
       "      <td>False</td>\n",
       "      <td>False</td>\n",
       "      <td>False</td>\n",
       "      <td>False</td>\n",
       "      <td>False</td>\n",
       "      <td>5.853767</td>\n",
       "    </tr>\n",
       "    <tr>\n",
       "      <th>3</th>\n",
       "      <td>ARHGAP19</td>\n",
       "      <td>CDC45</td>\n",
       "      <td>False</td>\n",
       "      <td>False</td>\n",
       "      <td>False</td>\n",
       "      <td>False</td>\n",
       "      <td>False</td>\n",
       "      <td>False</td>\n",
       "      <td>False</td>\n",
       "      <td>False</td>\n",
       "      <td>...</td>\n",
       "      <td>False</td>\n",
       "      <td>0</td>\n",
       "      <td>False</td>\n",
       "      <td>False</td>\n",
       "      <td>False</td>\n",
       "      <td>False</td>\n",
       "      <td>False</td>\n",
       "      <td>False</td>\n",
       "      <td>False</td>\n",
       "      <td>5.783103</td>\n",
       "    </tr>\n",
       "    <tr>\n",
       "      <th>4</th>\n",
       "      <td>ARHGAP19</td>\n",
       "      <td>CDT1</td>\n",
       "      <td>False</td>\n",
       "      <td>False</td>\n",
       "      <td>False</td>\n",
       "      <td>False</td>\n",
       "      <td>False</td>\n",
       "      <td>False</td>\n",
       "      <td>False</td>\n",
       "      <td>False</td>\n",
       "      <td>...</td>\n",
       "      <td>False</td>\n",
       "      <td>0</td>\n",
       "      <td>False</td>\n",
       "      <td>False</td>\n",
       "      <td>False</td>\n",
       "      <td>False</td>\n",
       "      <td>False</td>\n",
       "      <td>False</td>\n",
       "      <td>False</td>\n",
       "      <td>5.914361</td>\n",
       "    </tr>\n",
       "  </tbody>\n",
       "</table>\n",
       "<p>5 rows × 31 columns</p>\n",
       "</div>"
      ],
      "text/plain": [
       "      Gene1     Gene2  GTEx Skin-SunExposed_Lowerleg  GTEx Esophagus-Mucosa  \\\n",
       "0  ARHGAP19     ASF1B                          False                  False   \n",
       "1  ARHGAP19  C16orf59                          False                  False   \n",
       "2  ARHGAP19     CCNA2                          False                  False   \n",
       "3  ARHGAP19     CDC45                          False                  False   \n",
       "4  ARHGAP19      CDT1                          False                  False   \n",
       "\n",
       "   PPI PrePPI  PPI huMap  PPI BioGRID  GTEx Artery-Aorta  \\\n",
       "0       False      False        False              False   \n",
       "1       False      False        False              False   \n",
       "2       False      False        False              False   \n",
       "3       False      False        False              False   \n",
       "4       False      False        False              False   \n",
       "\n",
       "   GTEx Breast-MammaryTissue  GTEx Nerve-Tibial  \\\n",
       "0                      False              False   \n",
       "1                      False              False   \n",
       "2                      False              False   \n",
       "3                      False              False   \n",
       "4                      False              False   \n",
       "\n",
       "                  ...                  GTEx Muscle-Skeletal  GTEx sum  \\\n",
       "0                 ...                                 False         0   \n",
       "1                 ...                                 False         0   \n",
       "2                 ...                                 False         0   \n",
       "3                 ...                                 False         0   \n",
       "4                 ...                                 False         0   \n",
       "\n",
       "   GTEx Adipose-Subcutaneous  PPI CCSB  GTEx Adipose-Visceral_Omentum  \\\n",
       "0                      False     False                          False   \n",
       "1                      False     False                          False   \n",
       "2                      False     False                          False   \n",
       "3                      False     False                          False   \n",
       "4                      False     False                          False   \n",
       "\n",
       "   GTEx Esophagus-Muscularis  GTEx WholeBlood  PPI InbioMap  \\\n",
       "0                      False            False         False   \n",
       "1                      False            False         False   \n",
       "2                      False            False         False   \n",
       "3                      False            False         False   \n",
       "4                      False            False         False   \n",
       "\n",
       "   GTEx Heart-LeftVentricle  RandomForest integrated similarity  \n",
       "0                     False                            5.624597  \n",
       "1                     False                            4.986351  \n",
       "2                     False                            5.853767  \n",
       "3                     False                            5.783103  \n",
       "4                     False                            5.914361  \n",
       "\n",
       "[5 rows x 31 columns]"
      ]
     },
     "execution_count": 21,
     "metadata": {},
     "output_type": "execute_result"
    }
   ],
   "source": [
    "# Download a table containing multiple types of gene-gene interactions, which were preformatted and uploaded to NDEx for the Fanconi Anemia example.\n",
    "from ndex.networkn import NdexGraph\n",
    "G_ndex = NdexGraph(server='http://test.ndexbio.org', uuid='9412e430-02f1-11e8-bd69-0660b7976219')\n",
    "G = ddot.NdexGraph_to_nx(G_ndex)\n",
    "gene_network_data = ddot.nx_edges_to_pandas(G)\n",
    "gene_network_data.index.names = ['Gene1', 'Gene2']\n",
    "gene_network_data.reset_index(inplace=True)\n",
    "gene_network_data['RandomForest integrated similarity'] = [sim.loc[g1, g2] for g1, g2 in zip(gene_network_data['Gene1'], gene_network_data['Gene2'])]\n",
    "gene_network_data.head()"
   ]
  },
  {
   "cell_type": "code",
   "execution_count": 22,
   "metadata": {
    "ExecuteTime": {
     "end_time": "2018-06-08T19:07:45.099635Z",
     "start_time": "2018-06-08T19:07:04.570788Z"
    },
    "nbpresent": {
     "id": "341bae67-0f64-4c00-957b-3e49c8c135b0"
    }
   },
   "outputs": [
    {
     "name": "stdout",
     "output_type": "stream",
     "text": [
      "\n",
      "Go to http://hiview.ucsd.edu in your web browser\n",
      "Enter this into the \"NDEx Sever URL\" field: http://dev2.ndexbio.org\n",
      "Enter this into the \"UUID of the main hierarchy\" field: 39c0b900-6b4f-11e8-9d1c-0660b7976219\n"
     ]
    }
   ],
   "source": [
    "# Upload ontology to NDEx\n",
    "ndex_url, G = ont.to_ndex(\n",
    "            name='Fanconi Anemia Gene Ontology',\n",
    "            description='Generated with the Data-driven Ontology Toolkit (https://github.com/michaelkyu/ddot)',\n",
    "            ndex_server=ndex_server,\n",
    "            ndex_user=ndex_user,\n",
    "            ndex_pass=ndex_pass,\n",
    "            visibility='PUBLIC',\n",
    "            layout='bubble-collect',\n",
    "            network=gene_network_data,\n",
    "            main_feature='RandomForest integrated similarity')\n",
    "\n",
    "print('Go to http://hiview.ucsd.edu in your web browser')\n",
    "print('Enter this into the \"NDEx Sever URL\" field: %s' % ndex_url.split('ndexbio.org')[0] + 'ndexbio.org')\n",
    "print('Enter this into the \"UUID of the main hierarchy\" field: %s' % ndex_url.split('/')[-1])"
   ]
  }
 ],
 "metadata": {
  "kernelspec": {
   "display_name": "Python [default]",
   "language": "python",
   "name": "python2"
  },
  "language_info": {
   "codemirror_mode": {
    "name": "ipython",
    "version": 2
   },
   "file_extension": ".py",
   "mimetype": "text/x-python",
   "name": "python",
   "nbconvert_exporter": "python",
   "pygments_lexer": "ipython2",
   "version": "2.7.13"
  },
  "latex_envs": {
   "LaTeX_envs_menu_present": true,
   "autocomplete": true,
   "bibliofile": "biblio.bib",
   "cite_by": "apalike",
   "current_citInitial": 1,
   "eqLabelWithNumbers": true,
   "eqNumInitial": 1,
   "hotkeys": {
    "equation": "Ctrl-E",
    "itemize": "Ctrl-I"
   },
   "labels_anchors": false,
   "latex_user_defs": false,
   "report_style_numbering": false,
   "user_envs_cfg": false
  },
  "toc": {
   "colors": {
    "hover_highlight": "#DAA520",
    "navigate_num": "#000000",
    "navigate_text": "#333333",
    "running_highlight": "#FF0000",
    "selected_highlight": "#FFD700",
    "sidebar_border": "#EEEEEE",
    "wrapper_background": "#FFFFFF"
   },
   "moveMenuLeft": true,
   "nav_menu": {
    "height": "225px",
    "width": "252px"
   },
   "navigate_menu": true,
   "number_sections": true,
   "sideBar": true,
   "threshold": 4,
   "toc_cell": false,
   "toc_position": {
    "height": "690px",
    "left": "0px",
    "right": "1414.04px",
    "top": "108px",
    "width": "330px"
   },
   "toc_section_display": "block",
   "toc_window_display": false,
   "widenNotebook": false
  }
 },
 "nbformat": 4,
 "nbformat_minor": 2
}
