{
 "cells": [
  {
   "cell_type": "markdown",
   "metadata": {},
   "source": [
    "# Use DDOT to download and process a human-specific Gene Ontology\n",
    "1. Download the GO structure and gene-term annotations\n",
    "2. Concatenate all three branches (biological process, molecular function, cellular component) into a unified ontology with an artificial new root 'GO:00SUPER'\n",
    "3. Remove redundant terms that are not relevant for human\n",
    "4. Convert gene IDs and symbols using mygene.info"
   ]
  },
  {
   "cell_type": "markdown",
   "metadata": {},
   "source": [
    "# Import libraries"
   ]
  },
  {
   "cell_type": "code",
   "execution_count": 1,
   "metadata": {
    "collapsed": true
   },
   "outputs": [],
   "source": [
    "import requests\n",
    "import gzip\n",
    "import pandas as pd\n",
    "import networkx as nx\n",
    "\n",
    "import sys\n",
    "sys.path = ['/cellar/users/mikeyu/DeepTranslate/ddot'] + sys.path\n",
    "\n",
    "import ddot\n",
    "from ddot import Ontology, get_gene_name_converter, parse_gaf, parse_obo, nx_to_NdexGraph, read_term_descriptions"
   ]
  },
  {
   "cell_type": "markdown",
   "metadata": {},
   "source": [
    "# Set NDEx username and password"
   ]
  },
  {
   "cell_type": "code",
   "execution_count": null,
   "metadata": {
    "collapsed": true
   },
   "outputs": [],
   "source": [
    "ndex_server = 'http://test.ndexbio.org'\n",
    "ndex_user = 'mikeyu_testacct'\n",
    "ndex_pass = 'GoHejVeg8'"
   ]
  },
  {
   "cell_type": "markdown",
   "metadata": {},
   "source": [
    "# Download and Parse Gene Ontology files"
   ]
  },
  {
   "cell_type": "code",
   "execution_count": 3,
   "metadata": {
    "collapsed": false
   },
   "outputs": [],
   "source": [
    "# Download GO obo file\n",
    "r = requests.get('http://purl.obolibrary.org/obo/go/go-basic.obo')\n",
    "with open('go-basic.obo', 'wb') as f:\n",
    "    f.write(r.content)\n",
    "\n",
    "# Parse OBO file\n",
    "parse_obo('go-basic.obo', 'go.tab', 'goID_2_name.tab', 'goID_2_namespace.tab', 'goID_2_alt_id.tab')\n",
    "\n",
    "# Download gene-term annotations for human\n",
    "r = requests.get('http://geneontology.org/gene-associations/goa_human.gaf.gz')\n",
    "with open('goa_human.gaf.gz', 'wb') as f:\n",
    "    f.write(r.content)"
   ]
  },
  {
   "cell_type": "markdown",
   "metadata": {},
   "source": [
    "# Read Gene Ontology for human"
   ]
  },
  {
   "cell_type": "code",
   "execution_count": 3,
   "metadata": {
    "collapsed": false
   },
   "outputs": [
    {
     "name": "stdout",
     "output_type": "stream",
     "text": [
      "Unifying 3 roots into one super-root\n",
      "WARNING: There are 27276 terms that have no direct gene annotations\n",
      "19445 genes, 44626 terms, 263478 gene-term relations, 91619 term-term relations\n"
     ]
    }
   ],
   "source": [
    "hierarchy = pd.read_table('go.tab',\n",
    "                          sep='\\t',\n",
    "                          header=None,\n",
    "                          names=['Parent', 'Child', 'Relation', 'Namespace']).loc[:,['Child', 'Parent']].values.tolist()\n",
    "with gzip.open('goa_human.gaf.gz', 'rb') as f:\n",
    "    mapping = parse_gaf(f)\n",
    "go_human = Ontology(hierarchy, mapping, propagate=False, add_root_name='GO:00SUPER')\n",
    "assert go_human.is_dag()\n",
    "print go_human.summary()"
   ]
  },
  {
   "cell_type": "markdown",
   "metadata": {},
   "source": [
    "# Collapse GO with respect to human UniProt IDs"
   ]
  },
  {
   "cell_type": "code",
   "execution_count": 5,
   "metadata": {
    "collapsed": false
   },
   "outputs": [
    {
     "name": "stdout",
     "output_type": "stream",
     "text": [
      "collapse command: /cellar/users/mikeyu/alignOntology/collapseRedundantNodes /tmp/tmpfviKTE\n",
      "19445 genes, 19211 terms, 263657 gene-term relations, 43410 term-term relations\n"
     ]
    }
   ],
   "source": [
    "go_human = go_human.collapse_ontology()\n",
    "print go_human.summary()"
   ]
  },
  {
   "cell_type": "markdown",
   "metadata": {},
   "source": [
    "# Convert UniProt IDs to Ensembl, HUGO, and Entrez IDs"
   ]
  },
  {
   "cell_type": "code",
   "execution_count": 6,
   "metadata": {
    "collapsed": false
   },
   "outputs": [],
   "source": [
    "uniprot_2_entrezgene = get_gene_name_converter(go_human.genes, scopes='uniprot', fields='entrezgene', species='human')\n",
    "uniprot_2_symbol = get_gene_name_converter(go_human.genes, scopes='uniprot', fields='symbol', species='human')\n",
    "uniprot_2_ensembl = get_gene_name_converter(go_human.genes, scopes='uniprot', fields='ensembl', species='human')\n",
    "\n",
    "gene_attr = pd.DataFrame({\n",
    "        'entrez_gene' : pd.Series(uniprot_2_entrezgene),\n",
    "        'gene_symbol' : pd.Series(uniprot_2_symbol),\n",
    "        'ensembl_gene' : pd.Series({k : ','.join(v) for k, v in uniprot_2_ensembl.items()})\n",
    "})\n",
    "gene_attr.index.name = 'uniprot'\n",
    "gene_attr"
   ]
  },
  {
   "cell_type": "markdown",
   "metadata": {},
   "source": [
    "# Write GO to local files and upload GO to NDEx"
   ]
  },
  {
   "cell_type": "code",
   "execution_count": 9,
   "metadata": {
    "collapsed": true
   },
   "outputs": [],
   "source": [
    "# Read table mapping GO ID to term descriptions\n",
    "go_descriptions = read_term_descriptions('goID_2_name.tab')\n",
    "\n",
    "name = 'Human-specific Gene Ontology'"
   ]
  },
  {
   "cell_type": "markdown",
   "metadata": {},
   "source": [
    "## GO with UniProt IDs"
   ]
  },
  {
   "cell_type": "code",
   "execution_count": 10,
   "metadata": {
    "collapsed": false
   },
   "outputs": [
    {
     "data": {
      "text/plain": [
       "u'http://dev2.ndexbio.org/v2/network/577927ed-55ec-11e7-a2e2-0660b7976219'"
      ]
     },
     "execution_count": 10,
     "metadata": {},
     "output_type": "execute_result"
    }
   ],
   "source": [
    "# Write GO to file\n",
    "go_human.to_3col_table('collapsed_go.uniprot')\n",
    "\n",
    "# Get NdexGraph object\n",
    "go_human_ndex = go_human.to_NdexGraph(name='%s, %s' % (name, 'UniProt'),\n",
    "                                      gene_attr=gene_attr,\n",
    "                                      term_attr=go_descriptions.rename('Label').to_frame())\n",
    "\n",
    "# Upload to NDEx\n",
    "go_human_ndex.upload_to(ndex_server, ndex_user, ndex_pass)"
   ]
  },
  {
   "cell_type": "markdown",
   "metadata": {},
   "source": [
    "## GO with HUGO symbols"
   ]
  },
  {
   "cell_type": "code",
   "execution_count": 13,
   "metadata": {
    "collapsed": false
   },
   "outputs": [
    {
     "data": {
      "text/plain": [
       "u'http://dev2.ndexbio.org/v2/network/8bfa8318-55ed-11e7-a2e2-0660b7976219'"
      ]
     },
     "execution_count": 13,
     "metadata": {},
     "output_type": "execute_result"
    }
   ],
   "source": [
    "go_human_symbol = go_human.rename(genes=uniprot_2_symbol)\n",
    "\n",
    "# Write GO to file\n",
    "go_human_symbol.to_3col_table('collapsed_go.symbol')\n",
    "\n",
    "# Get NdexGraph object\n",
    "go_human_ndex = go_human_symbol.to_NdexGraph(name='%s, %s' % (name, 'Symbol'),\n",
    "                                        gene_attr=gene_attr.reset_index().set_index('gene_symbol'),\n",
    "                                        term_attr=go_descriptions.rename('Label').to_frame())\n",
    "\n",
    "# Upload to NDEx\n",
    "go_human_ndex.upload_to(ndex_server, ndex_user, ndex_pass)"
   ]
  },
  {
   "cell_type": "markdown",
   "metadata": {},
   "source": [
    "## GO with Entrez gene IDs"
   ]
  },
  {
   "cell_type": "code",
   "execution_count": 11,
   "metadata": {
    "collapsed": false
   },
   "outputs": [
    {
     "data": {
      "text/plain": [
       "u'http://dev2.ndexbio.org/v2/network/8784cee1-55ec-11e7-a2e2-0660b7976219'"
      ]
     },
     "execution_count": 11,
     "metadata": {},
     "output_type": "execute_result"
    }
   ],
   "source": [
    "go_human_entrez = go_human.rename(genes=uniprot_2_entrezgene)\n",
    "\n",
    "# Write GO to file\n",
    "go_human_entrez.to_3col_table('collapsed_go.entrez')\n",
    "\n",
    "# Get NdexGraph object\n",
    "go_human_ndex = go_human_entrez.to_NdexGraph(name='%s, %s' % (name, 'Entrez'),\n",
    "                                        gene_attr=gene_attr.reset_index().set_index('entrez_gene'),\n",
    "                                        term_attr=go_descriptions.rename('Label').to_frame())\n",
    "\n",
    "# Upload to NDEx\n",
    "go_human_ndex.upload_to(ndex_server, ndex_user, ndex_pass)"
   ]
  },
  {
   "cell_type": "markdown",
   "metadata": {},
   "source": [
    "## GO with Ensembl gene IDs"
   ]
  },
  {
   "cell_type": "code",
   "execution_count": 12,
   "metadata": {
    "collapsed": false
   },
   "outputs": [
    {
     "data": {
      "text/plain": [
       "u'http://dev2.ndexbio.org/v2/network/ac1d8d54-55ec-11e7-a2e2-0660b7976219'"
      ]
     },
     "execution_count": 12,
     "metadata": {},
     "output_type": "execute_result"
    }
   ],
   "source": [
    "go_human_ensembl = go_human.rename(genes=uniprot_2_ensembl)\n",
    "\n",
    "# Write GO to file\n",
    "go_human_ensembl.to_3col_table('collapsed_go.ensembl')\n",
    "\n",
    "# Get NdexGraph object\n",
    "go_human_ndex = go_human_ensembl.to_NdexGraph(name='%s, %s' % (name, 'Ensembl'),\n",
    "                                      gene_attr=gene_attr.reset_index().set_index('ensembl_gene'),\n",
    "                                      term_attr=go_descriptions.rename('Label').to_frame())\n",
    "\n",
    "# Upload to NDEx\n",
    "go_human_ndex.upload_to(ndex_server, ndex_user, ndex_pass)"
   ]
  }
 ],
 "metadata": {
  "kernelspec": {
   "display_name": "Python 2",
   "language": "python",
   "name": "python2"
  },
  "language_info": {
   "codemirror_mode": {
    "name": "ipython",
    "version": 2
   },
   "file_extension": ".py",
   "mimetype": "text/x-python",
   "name": "python",
   "nbconvert_exporter": "python",
   "pygments_lexer": "ipython2",
   "version": "2.7.13"
  },
  "latex_envs": {
   "LaTeX_envs_menu_present": true,
   "autocomplete": true,
   "bibliofile": "biblio.bib",
   "cite_by": "apalike",
   "current_citInitial": 1,
   "eqLabelWithNumbers": true,
   "eqNumInitial": 1,
   "hotkeys": {
    "equation": "Ctrl-E",
    "itemize": "Ctrl-I"
   },
   "labels_anchors": false,
   "latex_user_defs": false,
   "report_style_numbering": false,
   "user_envs_cfg": false
  },
  "toc": {
   "colors": {
    "hover_highlight": "#DAA520",
    "navigate_num": "#000000",
    "navigate_text": "#333333",
    "running_highlight": "#FF0000",
    "selected_highlight": "#FFD700",
    "sidebar_border": "#EEEEEE",
    "wrapper_background": "#FFFFFF"
   },
   "moveMenuLeft": true,
   "nav_menu": {
    "height": "66px",
    "width": "252px"
   },
   "navigate_menu": true,
   "number_sections": true,
   "sideBar": true,
   "threshold": 4,
   "toc_cell": false,
   "toc_position": {
    "height": "652px",
    "left": "0px",
    "right": "1359.8px",
    "top": "108px",
    "width": "176px"
   },
   "toc_section_display": "block",
   "toc_window_display": false,
   "widenNotebook": false
  }
 },
 "nbformat": 4,
 "nbformat_minor": 0
}
