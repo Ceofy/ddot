{
 "cells": [
  {
   "cell_type": "code",
   "execution_count": 1,
   "metadata": {
    "ExecuteTime": {
     "end_time": "2017-08-09T15:09:53.238359Z",
     "start_time": "2017-08-09T15:09:50.432664Z"
    },
    "collapsed": false
   },
   "outputs": [],
   "source": [
    "import requests\n",
    "import gzip\n",
    "import pandas as pd\n",
    "import networkx as nx\n",
    "import numpy as np\n",
    "\n",
    "%matplotlib inline\n",
    "import seaborn as sns\n",
    "\n",
    "import sys\n",
    "sys.path = ['/cellar/users/mikeyu/DeepTranslate/ddot'] + sys.path\n",
    "\n",
    "import ddot\n",
    "from ddot import Ontology, get_gene_name_converter, parse_gaf, parse_obo, nx_to_NdexGraph, read_term_descriptions, ndex_to_sim_matrix\n",
    "from ddot import expand_seed, melt_square, make_index, align_hierarchies, update_nx_with_alignment, parse_ndex_uuid\n",
    "from ddot.utils import NdexGraph_to_nx\n",
    "from ddot.utils import bubble_layout_nx"
   ]
  },
  {
   "cell_type": "markdown",
   "metadata": {},
   "source": [
    "# Setup parameters"
   ]
  },
  {
   "cell_type": "code",
   "execution_count": 2,
   "metadata": {
    "ExecuteTime": {
     "end_time": "2017-08-09T15:09:53.244151Z",
     "start_time": "2017-08-09T15:09:53.240980Z"
    },
    "collapsed": true
   },
   "outputs": [],
   "source": [
    "alpha = 0.1\n",
    "beta = 0.5"
   ]
  },
  {
   "cell_type": "code",
   "execution_count": 3,
   "metadata": {
    "ExecuteTime": {
     "end_time": "2017-08-09T15:09:53.249152Z",
     "start_time": "2017-08-09T15:09:53.246091Z"
    },
    "collapsed": true
   },
   "outputs": [],
   "source": [
    "similarity_uuid = 'd2dfa5cc-56de-11e7-a2e2-0660b7976219'\n",
    "# similarity_uuid = '5a88022f-53dd-11e7-a2e2-0660b7976219'\n",
    "\n",
    "go_uuid = '8bfa8318-55ed-11e7-a2e2-0660b7976219'"
   ]
  },
  {
   "cell_type": "code",
   "execution_count": 4,
   "metadata": {
    "ExecuteTime": {
     "end_time": "2017-08-09T15:09:53.259705Z",
     "start_time": "2017-08-09T15:09:53.256751Z"
    },
    "collapsed": true
   },
   "outputs": [],
   "source": [
    "ndex_server = 'http://test.ndexbio.org'\n",
    "ndex_user = 'mikeyu_testacct2'\n",
    "ndex_pass = 'GoHejVeg8'"
   ]
  },
  {
   "cell_type": "code",
   "execution_count": 5,
   "metadata": {
    "ExecuteTime": {
     "end_time": "2017-08-09T15:09:53.264997Z",
     "start_time": "2017-08-09T15:09:53.261672Z"
    },
    "collapsed": true
   },
   "outputs": [],
   "source": [
    "seed = ['FANCA','FANCB', 'FANCC', 'BRCA2', 'FANCD2', 'FANCE',\n",
    "        'FANCF', 'FANCG', 'FANCI', 'BRIP1', 'FANCL', 'FANCM', 'PALB2', 'RAD51C', 'SLX4', 'ERCC4', 'RAD51',\n",
    "        'BRCA1', 'UBE2T', 'XRCC2']"
   ]
  },
  {
   "cell_type": "markdown",
   "metadata": {},
   "source": [
    "# Download similarity data from NDEx"
   ]
  },
  {
   "cell_type": "code",
   "execution_count": 6,
   "metadata": {
    "ExecuteTime": {
     "end_time": "2017-08-09T15:03:37.885334Z",
     "start_time": "2017-08-09T15:03:32.164203Z"
    },
    "collapsed": false
   },
   "outputs": [
    {
     "name": "stdout",
     "output_type": "stream",
     "text": [
      "CPU times: user 4 ms, sys: 0 ns, total: 4 ms\n",
      "Wall time: 1.18 ms\n"
     ]
    }
   ],
   "source": [
    "%time tmp = np.load('/cellar/users/mikeyu/DeepTranslate/hnexo/RFv2r3_square.npz')\n",
    "rf, rf_genes = tmp['rf'], tmp['genes']\n",
    "np.fill_diagonal(rf, 0)\n",
    "rf[np.isnan(rf)] = 0\n",
    "sim, sim_names = rf, rf_genes"
   ]
  },
  {
   "cell_type": "code",
   "execution_count": 12,
   "metadata": {
    "ExecuteTime": {
     "end_time": "2017-08-09T14:41:25.311149Z",
     "start_time": "2017-08-09T14:41:25.307850Z"
    },
    "collapsed": false
   },
   "outputs": [],
   "source": [
    "# sim, sim_names = ndex_to_sim_matrix(\n",
    "#     similarity_uuid,\n",
    "#     ndex_server,\n",
    "#     ndex_user,\n",
    "#     ndex_pass,\n",
    "#     similarity='similarity',\n",
    "#     input_fmt='cx_matrix',\n",
    "#     output_fmt='matrix',\n",
    "#     subset=None)"
   ]
  },
  {
   "cell_type": "markdown",
   "metadata": {},
   "source": [
    "# Expand known FA genes"
   ]
  },
  {
   "cell_type": "code",
   "execution_count": 13,
   "metadata": {
    "ExecuteTime": {
     "end_time": "2017-08-09T14:41:25.768506Z",
     "start_time": "2017-08-09T14:41:25.312884Z"
    },
    "collapsed": false
   },
   "outputs": [
    {
     "name": "stdout",
     "output_type": "stream",
     "text": [
      "min_sim: 5.20081410586\n"
     ]
    },
    {
     "data": {
      "text/plain": [
       "246"
      ]
     },
     "execution_count": 13,
     "metadata": {},
     "output_type": "execute_result"
    },
    {
     "data": {
      "image/png": "[encoded data removed]",
      "text/plain": [
       "<matplotlib.figure.Figure at 0x7fe550a04150>"
      ]
     },
     "metadata": {},
     "output_type": "display_data"
    }
   ],
   "source": [
    "expand, expand_idx, sim_2_seed, fig = expand_seed(\n",
    "    seed,\n",
    "    sim,\n",
    "    sim_names,\n",
    "    agg='mean',\n",
    "    min_sim=4,\n",
    "    filter_perc=None,\n",
    "    seed_perc=0,\n",
    "    agg_perc=None,\n",
    "    expand_size=None,\n",
    "    figure=True,\n",
    ")\n",
    "expand = list(expand)\n",
    "len(expand)"
   ]
  },
  {
   "cell_type": "markdown",
   "metadata": {},
   "source": [
    "# Run CLIXO"
   ]
  },
  {
   "cell_type": "code",
   "execution_count": 14,
   "metadata": {
    "ExecuteTime": {
     "end_time": "2017-08-09T14:41:25.801177Z",
     "start_time": "2017-08-09T14:41:25.770290Z"
    },
    "collapsed": false
   },
   "outputs": [],
   "source": [
    "df_sq = pd.DataFrame(sim[expand_idx, :][:, expand_idx], index=expand, columns=expand)\n",
    "df = melt_square(df_sq)"
   ]
  },
  {
   "cell_type": "code",
   "execution_count": 15,
   "metadata": {
    "ExecuteTime": {
     "end_time": "2017-08-09T14:41:29.468614Z",
     "start_time": "2017-08-09T14:41:27.817435Z"
    },
    "collapsed": false
   },
   "outputs": [
    {
     "name": "stdout",
     "output_type": "stream",
     "text": [
      "temp output: /tmp/tmpyxqmrH\n",
      "temp graph: /tmp/tmpeTgHB8\n",
      "temp output log: /tmp/tmpENy1V4\n",
      "/tmp/tmpeTgHB8\t0.1\t0.5\t-10000000 2017-08-09 14:41:27.888110\n",
      "CLIXO command: /cellar/users/mikeyu/DeepTranslate/ddot/ddot/mhk7-clixo_0.3-cec3674/clixo /tmp/tmpeTgHB8 0.1 0.5 | awk '{if ( $1 ~ /^#/ ) {print \"\\#\", strftime(\"%Y-%m-%d %H:%M:%S\"), $0 ; fflush() } else {print $0}}' | tee /tmp/tmpENy1V4\n",
      "Extracting by grep -v # 2017-08-09 14:41:29.195860\n",
      "Elapsed time (sec): 1.31485795975 2017-08-09 14:41:29.223603\n",
      "Ontology: 246 genes, 38 terms, 290 gene-term relations, 38 term-term relations\n"
     ]
    }
   ],
   "source": [
    "ont = Ontology.run_clixo(df, alpha, beta)\n",
    "# ont.propagate_annotations(direction='forward', inplace=True)"
   ]
  },
  {
   "cell_type": "code",
   "execution_count": 88,
   "metadata": {
    "ExecuteTime": {
     "end_time": "2017-08-09T17:29:08.285619Z",
     "start_time": "2017-08-09T17:29:08.253154Z"
    },
    "collapsed": true
   },
   "outputs": [],
   "source": [
    "# ont.to_3col_table('/cellar/users/mikeyu/tmp.txt')\n",
    "ont = Ontology.from_table('/cellar/users/mikeyu/tmp.txt')"
   ]
  },
  {
   "cell_type": "markdown",
   "metadata": {},
   "source": [
    "# Align with Gene Ontology"
   ]
  },
  {
   "cell_type": "markdown",
   "metadata": {},
   "source": [
    "## Read Gene Ontology from NDEx"
   ]
  },
  {
   "cell_type": "code",
   "execution_count": 8,
   "metadata": {
    "ExecuteTime": {
     "end_time": "2017-08-09T15:03:52.938121Z",
     "start_time": "2017-08-09T15:03:38.271298Z"
    },
    "collapsed": false
   },
   "outputs": [
    {
     "name": "stdout",
     "output_type": "stream",
     "text": [
      "WARNING: There are 1959 terms that have no direct gene annotations\n"
     ]
    },
    {
     "data": {
      "text/plain": [
       "'18765 genes, 19211 terms, 260093 gene-term relations, 43410 term-term relations'"
      ]
     },
     "execution_count": 8,
     "metadata": {},
     "output_type": "execute_result"
    }
   ],
   "source": [
    "go_human = Ontology.from_ndex(go_uuid)\n",
    "go_human.summary()"
   ]
  },
  {
   "cell_type": "code",
   "execution_count": 89,
   "metadata": {
    "ExecuteTime": {
     "end_time": "2017-08-09T17:29:16.504478Z",
     "start_time": "2017-08-09T17:29:10.311520Z"
    },
    "collapsed": true
   },
   "outputs": [],
   "source": [
    "go_human = Ontology.from_table('/cellar/users/mikeyu/go.txt')"
   ]
  },
  {
   "cell_type": "code",
   "execution_count": 90,
   "metadata": {
    "ExecuteTime": {
     "end_time": "2017-08-09T17:29:16.655182Z",
     "start_time": "2017-08-09T17:29:16.507654Z"
    },
    "collapsed": true
   },
   "outputs": [],
   "source": [
    "term_descriptions = read_term_descriptions('/cellar/users/mikeyu/DeepTranslate/go_human_7jun2017/goID_2_name.tab')\n",
    "go_human.update_node_attr(term_descriptions.to_frame())"
   ]
  },
  {
   "cell_type": "markdown",
   "metadata": {},
   "source": [
    "## Do alignment"
   ]
  },
  {
   "cell_type": "code",
   "execution_count": null,
   "metadata": {
    "ExecuteTime": {
     "end_time": "2017-08-09T15:10:36.537413Z",
     "start_time": "2017-08-09T15:10:20.747052Z"
    },
    "collapsed": false
   },
   "outputs": [],
   "source": [
    "alignment = ont.align(go_human, 3, 4, update_self=True, update_ref=True)\n",
    "alignment.head()"
   ]
  },
  {
   "cell_type": "code",
   "execution_count": 85,
   "metadata": {
    "ExecuteTime": {
     "end_time": "2017-08-09T17:28:13.740140Z",
     "start_time": "2017-08-09T17:28:13.611328Z"
    },
    "collapsed": true
   },
   "outputs": [],
   "source": [
    "import os, shutil\n",
    "import shlex\n",
    "from subprocess import Popen\n",
    "from ddot import read_alignment_file\n",
    "import tempfile\n",
    "\n",
    "def align_hierarchies(hier1,\n",
    "                      hier2,\n",
    "                      iterations,\n",
    "                      threads,\n",
    "                      update_hier1=False,\n",
    "                      update_hier2=False,\n",
    "                      calculateFDRs=None,\n",
    "                      mutual_collapse=True,\n",
    "                      output=None):\n",
    "    if output is None:\n",
    "        with tempfile.NamedTemporaryFile('w', delete=True) as output_file:\n",
    "            return align_hierarchies(hier1, hier2, iterations, threads,\n",
    "                                     update_hier1=update_hier1, update_hier2=update_hier2,\n",
    "                                     mutual_collapse=mutual_collapse,\n",
    "                                     output=output_file.name,\n",
    "                                     calculateFDRs=calculateFDRs)\n",
    "\n",
    "    hier1_orig, hier2_orig = hier1, hier2\n",
    "    if mutual_collapse:\n",
    "        hier1, hier2 = Ontology.mutual_collapse(hier1, hier2)\n",
    "\n",
    "    def to_file(hier):\n",
    "        if isinstance(hier, Ontology):\n",
    "            with tempfile.NamedTemporaryFile('w', delete=False) as f:\n",
    "                hier.to_3col_table(f, parent_child=True)\n",
    "            hier = f.name\n",
    "        else:\n",
    "            assert isinstance(hier, file) or os.path.exists(hier)\n",
    "        return hier\n",
    "\n",
    "    hier1 = to_file(hier1)\n",
    "    hier2 = to_file(hier2)\n",
    "\n",
    "    if calculateFDRs is None:\n",
    "        assert os.path.isdir(ddot.config.alignOntology)\n",
    "        calculateFDRs = os.path.join(ddot.config.alignOntology, 'calculateFDRs')\n",
    "    assert os.path.isfile(calculateFDRs)\n",
    "\n",
    "    output_dir = tempfile.mkdtemp(prefix='tmp')\n",
    "    cmd = '{5} {0} {1} 0.05 criss_cross {2} {3} {4} gene'.format(\n",
    "              hier1, hier2, output_dir, iterations, threads, calculateFDRs)\n",
    "    print 'Alignment command:', cmd\n",
    "\n",
    "    p = Popen(shlex.split(cmd), shell=False)\n",
    "    \n",
    "    try:        \n",
    "        p.wait()\n",
    "        shutil.copy(os.path.join(output_dir, 'alignments_FDR_0.1_t_0.1'), output)\n",
    "    finally:\n",
    "        if os.path.isdir(output_dir):\n",
    "            shutil.rmtree(output_dir)\n",
    "\n",
    "        if p.poll() is None:\n",
    "            if verbose: time_print('Killing alignment process %s. Output: %s' % (p.pid, output))\n",
    "            p.kill()  # Kill the process\n",
    "\n",
    "        alignment = read_alignment_file(output)\n",
    "\n",
    "        append_prefix = lambda x: 'Aligned_%s' % x\n",
    "        \n",
    "        if update_hier1:\n",
    "            tmp = alignment.copy()[['Term', 'Similarity', 'FDR']]\n",
    "            overlap = pd.Index(tmp['Term']).intersection(hier2_orig.node_attr.index)\n",
    "            other_attr = hier2_orig.node_attr.loc[overlap, :].rename(columns=append_prefix)\n",
    "            tmp.rename(columns=append_prefix, inplace=True)\n",
    "            print tmp.head()\n",
    "            hier1_orig.update_node_attr(tmp)            \n",
    "#             hier1_orig.update_node_attr(other_attr)\n",
    "        if update_hier2:\n",
    "            tmp = alignment.copy()[['Term', 'Similarity', 'FDR']]\n",
    "            print tmp['Term']\n",
    "            tmp.index, tmp['Term'] = tmp['Term'].values.copy(), tmp.index.values.copy()\n",
    "            overlap = pd.Index(tmp['Term']).intersection(hier1_orig.node_attr.index)\n",
    "            other_attr = hier1_orig.node_attr.loc[overlap, :].rename(columns=append_prefix)\n",
    "            tmp.rename(columns=lambda x: 'Aligned_%s' % x, inplace=True)\n",
    "            print tmp.head()\n",
    "            hier2_orig.update_node_attr(tmp)\n",
    "#             hier2_orig.update_node_attr(other_attr)\n",
    "\n",
    "        return alignment"
   ]
  },
  {
   "cell_type": "code",
   "execution_count": 91,
   "metadata": {
    "ExecuteTime": {
     "end_time": "2017-08-09T17:29:33.620767Z",
     "start_time": "2017-08-09T17:29:16.657026Z"
    },
    "collapsed": false
   },
   "outputs": [
    {
     "name": "stdout",
     "output_type": "stream",
     "text": [
      "collapse command: /cellar/users/mikeyu/alignOntology/collapseRedundantNodes /tmp/tmpO_yLw3\n",
      "collapse command: /cellar/users/mikeyu/alignOntology/collapseRedundantNodes /tmp/tmpK9LvNW\n",
      "Alignment command: /cellar/users/mikeyu/alignOntology/calculateFDRs /tmp/tmp_bcoFn /tmp/tmphxPCJi 0.05 criss_cross /tmp/tmpEq9iOp 3 4 gene\n",
      "          Aligned_Term  Aligned_Similarity  Aligned_FDR\n",
      "Term                                                   \n",
      "CLIXO:254   GO:0005849            0.903591          0.0\n",
      "CLIXO:256   GO:0000811            0.892705          0.0\n",
      "CLIXO:265   GO:0005662            0.892473          0.0\n",
      "CLIXO:251   GO:0005971            0.884841          0.0\n",
      "CLIXO:268   GO:0009378            0.879401          0.0\n",
      "Term\n",
      "CLIXO:254    GO:0005849\n",
      "CLIXO:256    GO:0000811\n",
      "CLIXO:265    GO:0005662\n",
      "CLIXO:251    GO:0005971\n",
      "CLIXO:268    GO:0009378\n",
      "CLIXO:272    GO:0097472\n",
      "CLIXO:269    GO:0071140\n",
      "CLIXO:271    GO:0034719\n",
      "CLIXO:273    GO:0003725\n",
      "CLIXO:266    GO:0036464\n",
      "CLIXO:276    GO:1990391\n",
      "CLIXO:277    GO:0000726\n",
      "CLIXO:274    GO:0031436\n",
      "CLIXO:275    GO:0009611\n",
      "CLIXO:278    GO:1902494\n",
      "Name: Term, dtype: object\n",
      "           Aligned_Term  Aligned_Similarity  Aligned_FDR\n",
      "GO:0005849    CLIXO:254            0.903591          0.0\n",
      "GO:0000811    CLIXO:256            0.892705          0.0\n",
      "GO:0005662    CLIXO:265            0.892473          0.0\n",
      "GO:0005971    CLIXO:251            0.884841          0.0\n",
      "GO:0009378    CLIXO:268            0.879401          0.0\n"
     ]
    }
   ],
   "source": [
    "alignment = align_hierarchies(ont, go_human, 3, 4, update_hier1=True, update_hier2=True)"
   ]
  },
  {
   "cell_type": "code",
   "execution_count": 93,
   "metadata": {
    "ExecuteTime": {
     "end_time": "2017-08-09T17:29:46.329286Z",
     "start_time": "2017-08-09T17:29:46.304725Z"
    },
    "collapsed": false
   },
   "outputs": [
    {
     "data": {
      "text/html": [
       "<div>\n",
       "<style>\n",
       "    .dataframe thead tr:only-child th {\n",
       "        text-align: right;\n",
       "    }\n",
       "\n",
       "    .dataframe thead th {\n",
       "        text-align: left;\n",
       "    }\n",
       "\n",
       "    .dataframe tbody tr th {\n",
       "        vertical-align: top;\n",
       "    }\n",
       "</style>\n",
       "<table border=\"1\" class=\"dataframe\">\n",
       "  <thead>\n",
       "    <tr style=\"text-align: right;\">\n",
       "      <th></th>\n",
       "      <th>Aligned_Term</th>\n",
       "      <th>Aligned_Similarity</th>\n",
       "      <th>Aligned_FDR</th>\n",
       "    </tr>\n",
       "    <tr>\n",
       "      <th>Term</th>\n",
       "      <th></th>\n",
       "      <th></th>\n",
       "      <th></th>\n",
       "    </tr>\n",
       "  </thead>\n",
       "  <tbody>\n",
       "    <tr>\n",
       "      <th>CLIXO:254</th>\n",
       "      <td>GO:0005849</td>\n",
       "      <td>0.903591</td>\n",
       "      <td>0.0</td>\n",
       "    </tr>\n",
       "    <tr>\n",
       "      <th>CLIXO:256</th>\n",
       "      <td>GO:0000811</td>\n",
       "      <td>0.892705</td>\n",
       "      <td>0.0</td>\n",
       "    </tr>\n",
       "    <tr>\n",
       "      <th>CLIXO:265</th>\n",
       "      <td>GO:0005662</td>\n",
       "      <td>0.892473</td>\n",
       "      <td>0.0</td>\n",
       "    </tr>\n",
       "    <tr>\n",
       "      <th>CLIXO:251</th>\n",
       "      <td>GO:0005971</td>\n",
       "      <td>0.884841</td>\n",
       "      <td>0.0</td>\n",
       "    </tr>\n",
       "    <tr>\n",
       "      <th>CLIXO:268</th>\n",
       "      <td>GO:0009378</td>\n",
       "      <td>0.879401</td>\n",
       "      <td>0.0</td>\n",
       "    </tr>\n",
       "    <tr>\n",
       "      <th>CLIXO:272</th>\n",
       "      <td>GO:0097472</td>\n",
       "      <td>0.516281</td>\n",
       "      <td>0.0</td>\n",
       "    </tr>\n",
       "    <tr>\n",
       "      <th>CLIXO:269</th>\n",
       "      <td>GO:0071140</td>\n",
       "      <td>0.459495</td>\n",
       "      <td>0.0</td>\n",
       "    </tr>\n",
       "    <tr>\n",
       "      <th>CLIXO:271</th>\n",
       "      <td>GO:0034719</td>\n",
       "      <td>0.448419</td>\n",
       "      <td>0.0</td>\n",
       "    </tr>\n",
       "    <tr>\n",
       "      <th>CLIXO:273</th>\n",
       "      <td>GO:0003725</td>\n",
       "      <td>0.441528</td>\n",
       "      <td>0.0</td>\n",
       "    </tr>\n",
       "    <tr>\n",
       "      <th>CLIXO:266</th>\n",
       "      <td>GO:0036464</td>\n",
       "      <td>0.438152</td>\n",
       "      <td>0.0</td>\n",
       "    </tr>\n",
       "    <tr>\n",
       "      <th>CLIXO:276</th>\n",
       "      <td>GO:1990391</td>\n",
       "      <td>0.360683</td>\n",
       "      <td>0.0</td>\n",
       "    </tr>\n",
       "    <tr>\n",
       "      <th>CLIXO:277</th>\n",
       "      <td>GO:0000726</td>\n",
       "      <td>0.357891</td>\n",
       "      <td>0.0</td>\n",
       "    </tr>\n",
       "    <tr>\n",
       "      <th>CLIXO:274</th>\n",
       "      <td>GO:0031436</td>\n",
       "      <td>0.355755</td>\n",
       "      <td>0.0</td>\n",
       "    </tr>\n",
       "    <tr>\n",
       "      <th>CLIXO:275</th>\n",
       "      <td>GO:0009611</td>\n",
       "      <td>0.253359</td>\n",
       "      <td>0.0</td>\n",
       "    </tr>\n",
       "    <tr>\n",
       "      <th>CLIXO:278</th>\n",
       "      <td>GO:1902494</td>\n",
       "      <td>0.247855</td>\n",
       "      <td>0.0</td>\n",
       "    </tr>\n",
       "  </tbody>\n",
       "</table>\n",
       "</div>"
      ],
      "text/plain": [
       "          Aligned_Term  Aligned_Similarity  Aligned_FDR\n",
       "Term                                                   \n",
       "CLIXO:254   GO:0005849            0.903591          0.0\n",
       "CLIXO:256   GO:0000811            0.892705          0.0\n",
       "CLIXO:265   GO:0005662            0.892473          0.0\n",
       "CLIXO:251   GO:0005971            0.884841          0.0\n",
       "CLIXO:268   GO:0009378            0.879401          0.0\n",
       "CLIXO:272   GO:0097472            0.516281          0.0\n",
       "CLIXO:269   GO:0071140            0.459495          0.0\n",
       "CLIXO:271   GO:0034719            0.448419          0.0\n",
       "CLIXO:273   GO:0003725            0.441528          0.0\n",
       "CLIXO:266   GO:0036464            0.438152          0.0\n",
       "CLIXO:276   GO:1990391            0.360683          0.0\n",
       "CLIXO:277   GO:0000726            0.357891          0.0\n",
       "CLIXO:274   GO:0031436            0.355755          0.0\n",
       "CLIXO:275   GO:0009611            0.253359          0.0\n",
       "CLIXO:278   GO:1902494            0.247855          0.0"
      ]
     },
     "execution_count": 93,
     "metadata": {},
     "output_type": "execute_result"
    }
   ],
   "source": [
    "ont.node_attr"
   ]
  },
  {
   "cell_type": "code",
   "execution_count": 92,
   "metadata": {
    "ExecuteTime": {
     "end_time": "2017-08-09T17:29:40.642259Z",
     "start_time": "2017-08-09T17:29:40.609753Z"
    },
    "collapsed": false
   },
   "outputs": [
    {
     "data": {
      "text/html": [
       "<div>\n",
       "<style>\n",
       "    .dataframe thead tr:only-child th {\n",
       "        text-align: right;\n",
       "    }\n",
       "\n",
       "    .dataframe thead th {\n",
       "        text-align: left;\n",
       "    }\n",
       "\n",
       "    .dataframe tbody tr th {\n",
       "        vertical-align: top;\n",
       "    }\n",
       "</style>\n",
       "<table border=\"1\" class=\"dataframe\">\n",
       "  <thead>\n",
       "    <tr style=\"text-align: right;\">\n",
       "      <th></th>\n",
       "      <th>Term_Description</th>\n",
       "      <th>Aligned_Term</th>\n",
       "      <th>Aligned_Similarity</th>\n",
       "      <th>Aligned_FDR</th>\n",
       "    </tr>\n",
       "  </thead>\n",
       "  <tbody>\n",
       "    <tr>\n",
       "      <th>GO:0005849</th>\n",
       "      <td>mRNA cleavage factor complex</td>\n",
       "      <td>CLIXO:254</td>\n",
       "      <td>0.903591</td>\n",
       "      <td>0.0</td>\n",
       "    </tr>\n",
       "    <tr>\n",
       "      <th>GO:0000811</th>\n",
       "      <td>GINS complex</td>\n",
       "      <td>CLIXO:256</td>\n",
       "      <td>0.892705</td>\n",
       "      <td>0.0</td>\n",
       "    </tr>\n",
       "    <tr>\n",
       "      <th>GO:0005662</th>\n",
       "      <td>DNA replication factor A complex</td>\n",
       "      <td>CLIXO:265</td>\n",
       "      <td>0.892473</td>\n",
       "      <td>0.0</td>\n",
       "    </tr>\n",
       "    <tr>\n",
       "      <th>GO:0005971</th>\n",
       "      <td>ribonucleoside-diphosphate reductase complex</td>\n",
       "      <td>CLIXO:251</td>\n",
       "      <td>0.884841</td>\n",
       "      <td>0.0</td>\n",
       "    </tr>\n",
       "    <tr>\n",
       "      <th>GO:0009378</th>\n",
       "      <td>four-way junction helicase activity</td>\n",
       "      <td>CLIXO:268</td>\n",
       "      <td>0.879401</td>\n",
       "      <td>0.0</td>\n",
       "    </tr>\n",
       "    <tr>\n",
       "      <th>GO:0097472</th>\n",
       "      <td>cyclin-dependent protein kinase activity</td>\n",
       "      <td>CLIXO:272</td>\n",
       "      <td>0.516281</td>\n",
       "      <td>0.0</td>\n",
       "    </tr>\n",
       "    <tr>\n",
       "      <th>GO:0071140</th>\n",
       "      <td>resolution of mitotic recombination intermediates</td>\n",
       "      <td>CLIXO:269</td>\n",
       "      <td>0.459495</td>\n",
       "      <td>0.0</td>\n",
       "    </tr>\n",
       "    <tr>\n",
       "      <th>GO:0034719</th>\n",
       "      <td>SMN-Sm protein complex</td>\n",
       "      <td>CLIXO:271</td>\n",
       "      <td>0.448419</td>\n",
       "      <td>0.0</td>\n",
       "    </tr>\n",
       "    <tr>\n",
       "      <th>GO:0003725</th>\n",
       "      <td>double-stranded RNA binding</td>\n",
       "      <td>CLIXO:273</td>\n",
       "      <td>0.441528</td>\n",
       "      <td>0.0</td>\n",
       "    </tr>\n",
       "    <tr>\n",
       "      <th>GO:0036464</th>\n",
       "      <td>cytoplasmic ribonucleoprotein granule</td>\n",
       "      <td>CLIXO:266</td>\n",
       "      <td>0.438152</td>\n",
       "      <td>0.0</td>\n",
       "    </tr>\n",
       "    <tr>\n",
       "      <th>GO:1990391</th>\n",
       "      <td>DNA repair complex</td>\n",
       "      <td>CLIXO:276</td>\n",
       "      <td>0.360683</td>\n",
       "      <td>0.0</td>\n",
       "    </tr>\n",
       "    <tr>\n",
       "      <th>GO:0000726</th>\n",
       "      <td>non-recombinational repair</td>\n",
       "      <td>CLIXO:277</td>\n",
       "      <td>0.357891</td>\n",
       "      <td>0.0</td>\n",
       "    </tr>\n",
       "    <tr>\n",
       "      <th>GO:0031436</th>\n",
       "      <td>BRCA1-BARD1 complex</td>\n",
       "      <td>CLIXO:274</td>\n",
       "      <td>0.355755</td>\n",
       "      <td>0.0</td>\n",
       "    </tr>\n",
       "    <tr>\n",
       "      <th>GO:0009611</th>\n",
       "      <td>response to wounding</td>\n",
       "      <td>CLIXO:275</td>\n",
       "      <td>0.253359</td>\n",
       "      <td>0.0</td>\n",
       "    </tr>\n",
       "    <tr>\n",
       "      <th>GO:1902494</th>\n",
       "      <td>catalytic complex</td>\n",
       "      <td>CLIXO:278</td>\n",
       "      <td>0.247855</td>\n",
       "      <td>0.0</td>\n",
       "    </tr>\n",
       "  </tbody>\n",
       "</table>\n",
       "</div>"
      ],
      "text/plain": [
       "                                             Term_Description Aligned_Term  \\\n",
       "GO:0005849                       mRNA cleavage factor complex    CLIXO:254   \n",
       "GO:0000811                                       GINS complex    CLIXO:256   \n",
       "GO:0005662                   DNA replication factor A complex    CLIXO:265   \n",
       "GO:0005971       ribonucleoside-diphosphate reductase complex    CLIXO:251   \n",
       "GO:0009378                four-way junction helicase activity    CLIXO:268   \n",
       "GO:0097472           cyclin-dependent protein kinase activity    CLIXO:272   \n",
       "GO:0071140  resolution of mitotic recombination intermediates    CLIXO:269   \n",
       "GO:0034719                             SMN-Sm protein complex    CLIXO:271   \n",
       "GO:0003725                        double-stranded RNA binding    CLIXO:273   \n",
       "GO:0036464              cytoplasmic ribonucleoprotein granule    CLIXO:266   \n",
       "GO:1990391                                 DNA repair complex    CLIXO:276   \n",
       "GO:0000726                         non-recombinational repair    CLIXO:277   \n",
       "GO:0031436                                BRCA1-BARD1 complex    CLIXO:274   \n",
       "GO:0009611                               response to wounding    CLIXO:275   \n",
       "GO:1902494                                  catalytic complex    CLIXO:278   \n",
       "\n",
       "            Aligned_Similarity  Aligned_FDR  \n",
       "GO:0005849            0.903591          0.0  \n",
       "GO:0000811            0.892705          0.0  \n",
       "GO:0005662            0.892473          0.0  \n",
       "GO:0005971            0.884841          0.0  \n",
       "GO:0009378            0.879401          0.0  \n",
       "GO:0097472            0.516281          0.0  \n",
       "GO:0071140            0.459495          0.0  \n",
       "GO:0034719            0.448419          0.0  \n",
       "GO:0003725            0.441528          0.0  \n",
       "GO:0036464            0.438152          0.0  \n",
       "GO:1990391            0.360683          0.0  \n",
       "GO:0000726            0.357891          0.0  \n",
       "GO:0031436            0.355755          0.0  \n",
       "GO:0009611            0.253359          0.0  \n",
       "GO:1902494            0.247855          0.0  "
      ]
     },
     "execution_count": 92,
     "metadata": {},
     "output_type": "execute_result"
    }
   ],
   "source": [
    "go_human.node_attr"
   ]
  },
  {
   "cell_type": "code",
   "execution_count": 35,
   "metadata": {
    "ExecuteTime": {
     "end_time": "2017-07-27T17:06:07.976289Z",
     "start_time": "2017-07-27T17:06:07.932887Z"
    },
    "collapsed": true
   },
   "outputs": [],
   "source": [
    "alignment.to_csv('/cellar/users/mikeyu/alignment.txt', index=True, sep='\\t')"
   ]
  },
  {
   "cell_type": "code",
   "execution_count": 36,
   "metadata": {
    "ExecuteTime": {
     "end_time": "2017-07-27T17:06:07.992057Z",
     "start_time": "2017-07-27T17:06:07.980272Z"
    },
    "collapsed": false
   },
   "outputs": [],
   "source": [
    "alignment = pd.read_table('/cellar/users/mikeyu/alignment.txt', index_col=0)\n",
    "alignment = alignment.rename(columns={'Term.1' : 'Term'})"
   ]
  },
  {
   "cell_type": "markdown",
   "metadata": {},
   "source": [
    "# Upload to NDEx"
   ]
  },
  {
   "cell_type": "markdown",
   "metadata": {},
   "source": [
    "## Upload subnetworks supporting each term"
   ]
  },
  {
   "cell_type": "code",
   "execution_count": 37,
   "metadata": {
    "ExecuteTime": {
     "end_time": "2017-07-27T17:06:07.997748Z",
     "start_time": "2017-07-27T17:06:07.993923Z"
    },
    "collapsed": false
   },
   "outputs": [],
   "source": [
    "name = 'FanGO'\n",
    "description = (\n",
    "    'Data-driven ontology created by CLIXO '\n",
    "    '(parameters: alpha={alpha}, beta={beta}). '\n",
    "    'Created from similarity network '\n",
    "    'at {ndex_server}/{ndex_uuid}').format(\n",
    "        alpha=alpha,\n",
    "        beta=beta,\n",
    "        ndex_server=ndex_server,\n",
    "        ndex_uuid=similarity_uuid)"
   ]
  },
  {
   "cell_type": "code",
   "execution_count": 38,
   "metadata": {
    "ExecuteTime": {
     "end_time": "2017-07-27T17:06:21.336189Z",
     "start_time": "2017-07-27T17:06:07.999445Z"
    },
    "collapsed": false,
    "scrolled": true
   },
   "outputs": [
    {
     "name": "stdout",
     "output_type": "stream",
     "text": [
      "features: ['similarity']\n",
      "gene_columns: ['Gene1', 'Gene2']\n",
      "Setup time: 0.0638768672943\n",
      "(0, 'Term:', 'CLIXO:246', 'Gene pairs:', 1, 'Genes:', 2, 'Time:', 0.1582, 'Upload time:', 0.1575)\n",
      "(1, 'Term:', 'CLIXO:247', 'Gene pairs:', 1, 'Genes:', 2, 'Time:', 0.1643, 'Upload time:', 0.1629)\n",
      "(2, 'Term:', 'CLIXO:248', 'Gene pairs:', 1, 'Genes:', 2, 'Time:', 0.1633, 'Upload time:', 0.161)\n",
      "(3, 'Term:', 'CLIXO:249', 'Gene pairs:', 1, 'Genes:', 2, 'Time:', 0.1613, 'Upload time:', 0.1592)\n",
      "(4, 'Term:', 'CLIXO:250', 'Gene pairs:', 1, 'Genes:', 2, 'Time:', 0.1566, 'Upload time:', 0.1545)\n",
      "(5, 'Term:', 'CLIXO:251', 'Gene pairs:', 1, 'Genes:', 2, 'Time:', 0.1625, 'Upload time:', 0.1605)\n",
      "(6, 'Term:', 'CLIXO:252', 'Gene pairs:', 1, 'Genes:', 2, 'Time:', 0.1566, 'Upload time:', 0.1556)\n",
      "(7, 'Term:', 'CLIXO:253', 'Gene pairs:', 1, 'Genes:', 2, 'Time:', 0.1614, 'Upload time:', 0.1592)\n",
      "(8, 'Term:', 'CLIXO:254', 'Gene pairs:', 1, 'Genes:', 2, 'Time:', 0.1608, 'Upload time:', 0.1583)\n",
      "(9, 'Term:', 'CLIXO:255', 'Gene pairs:', 1, 'Genes:', 2, 'Time:', 0.1615, 'Upload time:', 0.1589)\n",
      "(10, 'Term:', 'CLIXO:256', 'Gene pairs:', 1, 'Genes:', 2, 'Time:', 0.1559, 'Upload time:', 0.1533)\n",
      "(11, 'Term:', 'CLIXO:257', 'Gene pairs:', 1, 'Genes:', 2, 'Time:', 0.1698, 'Upload time:', 0.1671)\n",
      "(12, 'Term:', 'CLIXO:258', 'Gene pairs:', 1, 'Genes:', 2, 'Time:', 0.1572, 'Upload time:', 0.1548)\n",
      "(13, 'Term:', 'CLIXO:259', 'Gene pairs:', 1, 'Genes:', 2, 'Time:', 0.168, 'Upload time:', 0.1661)\n",
      "(14, 'Term:', 'CLIXO:260', 'Gene pairs:', 1, 'Genes:', 2, 'Time:', 0.1567, 'Upload time:', 0.1541)\n",
      "(15, 'Term:', 'CLIXO:261', 'Gene pairs:', 1, 'Genes:', 2, 'Time:', 0.1616, 'Upload time:', 0.159)\n",
      "(16, 'Term:', 'CLIXO:262', 'Gene pairs:', 1, 'Genes:', 2, 'Time:', 0.1535, 'Upload time:', 0.1514)\n",
      "(17, 'Term:', 'CLIXO:263', 'Gene pairs:', 1, 'Genes:', 2, 'Time:', 0.1582, 'Upload time:', 0.1555)\n",
      "(18, 'Term:', 'CLIXO:264', 'Gene pairs:', 1, 'Genes:', 2, 'Time:', 0.1639, 'Upload time:', 0.1616)\n",
      "(19, 'Term:', 'CLIXO:265', 'Gene pairs:', 3, 'Genes:', 3, 'Time:', 0.1594, 'Upload time:', 0.1569)\n",
      "(20, 'Term:', 'CLIXO:266', 'Gene pairs:', 3, 'Genes:', 3, 'Time:', 0.1629, 'Upload time:', 0.1603)\n",
      "(21, 'Term:', 'CLIXO:267', 'Gene pairs:', 3, 'Genes:', 3, 'Time:', 0.1557, 'Upload time:', 0.154)\n",
      "(22, 'Term:', 'CLIXO:268', 'Gene pairs:', 3, 'Genes:', 3, 'Time:', 0.1524, 'Upload time:', 0.1503)\n",
      "(23, 'Term:', 'CLIXO:269', 'Gene pairs:', 6, 'Genes:', 4, 'Time:', 0.1528, 'Upload time:', 0.1504)\n",
      "(24, 'Term:', 'CLIXO:270', 'Gene pairs:', 6, 'Genes:', 4, 'Time:', 0.16, 'Upload time:', 0.1578)\n",
      "(25, 'Term:', 'CLIXO:271', 'Gene pairs:', 6, 'Genes:', 4, 'Time:', 0.1583, 'Upload time:', 0.1561)\n",
      "(26, 'Term:', 'CLIXO:272', 'Gene pairs:', 10, 'Genes:', 5, 'Time:', 0.1592, 'Upload time:', 0.1575)\n",
      "(27, 'Term:', 'CLIXO:273', 'Gene pairs:', 10, 'Genes:', 5, 'Time:', 0.1583, 'Upload time:', 0.1545)\n",
      "(28, 'Term:', 'CLIXO:274', 'Gene pairs:', 10, 'Genes:', 5, 'Time:', 0.1587, 'Upload time:', 0.1562)\n",
      "(29, 'Term:', 'CLIXO:275', 'Gene pairs:', 36, 'Genes:', 9, 'Time:', 0.1595, 'Upload time:', 0.156)\n",
      "(30, 'Term:', 'CLIXO:276', 'Gene pairs:', 91, 'Genes:', 14, 'Time:', 0.1556, 'Upload time:', 0.1539)\n",
      "(31, 'Term:', 'CLIXO:277', 'Gene pairs:', 253, 'Genes:', 23, 'Time:', 0.2057, 'Upload time:', 0.1978)\n",
      "(32, 'Term:', 'CLIXO:278', 'Gene pairs:', 325, 'Genes:', 26, 'Time:', 0.2006, 'Upload time:', 0.197)\n",
      "(33, 'Term:', 'CLIXO:279', 'Gene pairs:', 4560, 'Genes:', 96, 'Time:', 0.4239, 'Upload time:', 0.381)\n",
      "(34, 'Term:', 'CLIXO:280', 'Gene pairs:', 10011, 'Genes:', 142, 'Time:', 0.5795, 'Upload time:', 0.5051)\n",
      "(35, 'Term:', 'CLIXO:281', 'Gene pairs:', 17766, 'Genes:', 189, 'Time:', 0.9338, 'Upload time:', 0.7027)\n",
      "(36, 'Term:', 'CLIXO:282', 'Gene pairs:', 26796, 'Genes:', 232, 'Time:', 1.0506, 'Upload time:', 0.8577)\n",
      "(37, 'Term:', 'CLIXO:283', 'Gene pairs:', 30135, 'Genes:', 246, 'Time:', 1.286, 'Upload time:', 0.9426)\n"
     ]
    }
   ],
   "source": [
    "term_2_uuid = ont.upload_subnets_ndex(\n",
    "    df,\n",
    "    ['similarity'],\n",
    "    ndex_server,\n",
    "    ndex_user,\n",
    "    ndex_pass,\n",
    "    name,\n",
    "    public=True,\n",
    "    verbose=True\n",
    ")"
   ]
  },
  {
   "cell_type": "code",
   "execution_count": 42,
   "metadata": {
    "ExecuteTime": {
     "end_time": "2017-07-27T17:06:47.055926Z",
     "start_time": "2017-07-27T17:06:47.041954Z"
    },
    "collapsed": false
   },
   "outputs": [],
   "source": [
    "import cPickle\n",
    "with open('/cellar/users/mikeyu/term_2_uuid.pkl', 'w') as f:\n",
    "    cPickle.dump(term_2_uuid, f)"
   ]
  },
  {
   "cell_type": "code",
   "execution_count": null,
   "metadata": {
    "collapsed": true
   },
   "outputs": [],
   "source": [
    "import cPickle\n",
    "with open('/cellar/users/mikeyu/term_2_uuid.pkl', 'w') as f:\n",
    "    term_2_uuid = cPickle.load(f)"
   ]
  },
  {
   "cell_type": "markdown",
   "metadata": {},
   "source": [
    "## Upload ontology"
   ]
  },
  {
   "cell_type": "code",
   "execution_count": 44,
   "metadata": {
    "ExecuteTime": {
     "end_time": "2017-07-27T17:06:56.976797Z",
     "start_time": "2017-07-27T17:06:56.803107Z"
    },
    "collapsed": false
   },
   "outputs": [
    {
     "name": "stdout",
     "output_type": "stream",
     "text": [
      "WARNING: There are 38 terms that have no direct gene annotations\n",
      "29 GO:0005662\n",
      "82 GO:0006298\n",
      "118 GO:0034719\n",
      "188 GO:1902494\n",
      "190 GO:0009611\n",
      "191 GO:0031436\n",
      "192 GO:0006303\n",
      "196 GO:0003725\n",
      "197 GO:0097472\n",
      "216 GO:0009378\n",
      "220 GO:0071140\n",
      "231 GO:0036464\n"
     ]
    }
   ],
   "source": [
    "ont_ndex = ont.to_NdexGraph(\n",
    "    name=name,\n",
    "    description=description,\n",
    "    term_2_uuid=term_2_uuid,\n",
    "    layout='bubble',\n",
    "    alignment=alignment,\n",
    "    represents=True)\n",
    "\n",
    "for x, n in ont_ndex.nodes(data=True):\n",
    "    n['x_pos'] = float(n['x_pos'])\n",
    "    n['y_pos'] = float(n['y_pos'])\n",
    "    if n.has_key('Aligned_Term'):\n",
    "        print x, n['Aligned_Term']\n",
    "        \n",
    "nx.write_graphml(ont_ndex, '/cellar/users/mikeyu/tmp.graphml')"
   ]
  },
  {
   "cell_type": "code",
   "execution_count": 20,
   "metadata": {
    "ExecuteTime": {
     "end_time": "2017-07-27T16:36:26.188003Z",
     "start_time": "2017-07-27T16:36:25.809946Z"
    },
    "collapsed": false
   },
   "outputs": [
    {
     "name": "stdout",
     "output_type": "stream",
     "text": [
      "WARNING: There are 38 terms that have no direct gene annotations\n"
     ]
    },
    {
     "data": {
      "image/png": "[encoded data removed]",
      "text/plain": [
       "<matplotlib.figure.Figure at 0x7f570594ddd0>"
      ]
     },
     "metadata": {},
     "output_type": "display_data"
    }
   ],
   "source": [
    "# ont_nx = ont.to_networkx(layout='bubble', spanning_tree=True)\n",
    "# ont_nx.pos = transform_pos(ont_nx.pos)\n",
    "# nx.draw(ont_nx, ont_nx.pos)\n",
    "# nx.write_graphml(ont_nx, '/cellar/users/mikeyu/tmp.graphml')"
   ]
  },
  {
   "cell_type": "code",
   "execution_count": 46,
   "metadata": {
    "ExecuteTime": {
     "end_time": "2017-07-27T17:07:15.432842Z",
     "start_time": "2017-07-27T17:07:14.464834Z"
    },
    "collapsed": false
   },
   "outputs": [
    {
     "data": {
      "text/plain": [
       "''"
      ]
     },
     "execution_count": 46,
     "metadata": {},
     "output_type": "execute_result"
    }
   ],
   "source": [
    "ont_url = ont_ndex.upload_to(ndex_server, ndex_user, ndex_pass)\n",
    "ont_uuid = parse_ndex_uuid(ont_url)\n",
    "ont_url\n",
    "\n",
    "import time\n",
    "time.sleep(0.5)\n",
    "import ndex.client as nc\n",
    "ndex = nc.Ndex(ndex_server, ndex_user, ndex_pass)\n",
    "ndex.make_network_public(ont_uuid)"
   ]
  }
 ],
 "metadata": {
  "kernelspec": {
   "display_name": "Python 2",
   "language": "python",
   "name": "python2"
  },
  "language_info": {
   "codemirror_mode": {
    "name": "ipython",
    "version": 2
   },
   "file_extension": ".py",
   "mimetype": "text/x-python",
   "name": "python",
   "nbconvert_exporter": "python",
   "pygments_lexer": "ipython2",
   "version": "2.7.13"
  },
  "latex_envs": {
   "LaTeX_envs_menu_present": true,
   "autocomplete": true,
   "bibliofile": "biblio.bib",
   "cite_by": "apalike",
   "current_citInitial": 1,
   "eqLabelWithNumbers": true,
   "eqNumInitial": 1,
   "hotkeys": {
    "equation": "Ctrl-E",
    "itemize": "Ctrl-I"
   },
   "labels_anchors": false,
   "latex_user_defs": false,
   "report_style_numbering": false,
   "user_envs_cfg": false
  },
  "toc": {
   "colors": {
    "hover_highlight": "#DAA520",
    "navigate_num": "#000000",
    "navigate_text": "#333333",
    "running_highlight": "#FF0000",
    "selected_highlight": "#FFD700",
    "sidebar_border": "#EEEEEE",
    "wrapper_background": "#FFFFFF"
   },
   "moveMenuLeft": true,
   "nav_menu": {
    "height": "225px",
    "width": "252px"
   },
   "navigate_menu": true,
   "number_sections": true,
   "sideBar": true,
   "threshold": 4,
   "toc_cell": false,
   "toc_section_display": "block",
   "toc_window_display": false,
   "widenNotebook": false
  }
 },
 "nbformat": 4,
 "nbformat_minor": 2
}
