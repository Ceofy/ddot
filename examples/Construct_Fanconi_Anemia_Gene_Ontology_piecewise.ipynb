{
 "cells": [
  {
   "cell_type": "code",
   "execution_count": 1,
   "metadata": {
    "ExecuteTime": {
     "end_time": "2017-08-10T02:59:44.335625Z",
     "start_time": "2017-08-10T02:59:41.448895Z"
    },
    "collapsed": false
   },
   "outputs": [],
   "source": [
    "import requests\n",
    "import gzip\n",
    "import pandas as pd\n",
    "import networkx as nx\n",
    "import numpy as np\n",
    "\n",
    "%matplotlib inline\n",
    "import seaborn as sns\n",
    "\n",
    "import sys\n",
    "sys.path = ['/cellar/users/mikeyu/DeepTranslate/ddot'] + sys.path\n",
    "\n",
    "import ddot\n",
    "from ddot import Ontology, get_gene_name_converter, parse_gaf, parse_obo, nx_to_NdexGraph, read_term_descriptions, ndex_to_sim_matrix\n",
    "from ddot import expand_seed, melt_square, make_index, align_hierarchies, update_nx_with_alignment, parse_ndex_uuid"
   ]
  },
  {
   "cell_type": "markdown",
   "metadata": {},
   "source": [
    "# Setup parameters"
   ]
  },
  {
   "cell_type": "code",
   "execution_count": 2,
   "metadata": {
    "ExecuteTime": {
     "end_time": "2017-08-10T02:59:44.341975Z",
     "start_time": "2017-08-10T02:59:44.338305Z"
    },
    "collapsed": true
   },
   "outputs": [],
   "source": [
    "ndex_server = 'http://test.ndexbio.org'\n",
    "ndex_user = 'mikeyu_testacct2'\n",
    "ndex_pass = 'GoHejVeg8'"
   ]
  },
  {
   "cell_type": "code",
   "execution_count": 3,
   "metadata": {
    "ExecuteTime": {
     "end_time": "2017-08-10T02:59:44.346701Z",
     "start_time": "2017-08-10T02:59:44.343963Z"
    },
    "collapsed": true
   },
   "outputs": [],
   "source": [
    "alpha = 0.1\n",
    "beta = 0.5"
   ]
  },
  {
   "cell_type": "code",
   "execution_count": 4,
   "metadata": {
    "ExecuteTime": {
     "end_time": "2017-08-10T02:59:44.352247Z",
     "start_time": "2017-08-10T02:59:44.348746Z"
    },
    "collapsed": true
   },
   "outputs": [],
   "source": [
    "seed = ['FANCA','FANCB', 'FANCC', 'BRCA2', 'FANCD2', 'FANCE',\n",
    "        'FANCF', 'FANCG', 'FANCI', 'BRIP1', 'FANCL', 'FANCM', 'PALB2', 'RAD51C', 'SLX4', 'ERCC4', 'RAD51',\n",
    "        'BRCA1', 'UBE2T', 'XRCC2']"
   ]
  },
  {
   "cell_type": "code",
   "execution_count": 5,
   "metadata": {
    "ExecuteTime": {
     "end_time": "2017-08-10T02:59:44.356828Z",
     "start_time": "2017-08-10T02:59:44.354259Z"
    },
    "collapsed": true
   },
   "outputs": [],
   "source": [
    "similarity_uuid = 'd2dfa5cc-56de-11e7-a2e2-0660b7976219'"
   ]
  },
  {
   "cell_type": "markdown",
   "metadata": {},
   "source": [
    "# Download similarity data from NDEx"
   ]
  },
  {
   "cell_type": "code",
   "execution_count": 6,
   "metadata": {
    "ExecuteTime": {
     "end_time": "2017-08-10T02:59:52.389595Z",
     "start_time": "2017-08-10T02:59:46.794477Z"
    },
    "collapsed": false
   },
   "outputs": [
    {
     "name": "stdout",
     "output_type": "stream",
     "text": [
      "CPU times: user 4 ms, sys: 0 ns, total: 4 ms\n",
      "Wall time: 1.45 ms\n"
     ]
    }
   ],
   "source": [
    "# %time tmp = np.load('/cellar/users/mikeyu/DeepTranslate/hnexo/RFv2r3_square.npz')\n",
    "# rf, rf_genes = tmp['rf'], tmp['genes']\n",
    "# np.fill_diagonal(rf, 0)\n",
    "# rf[np.isnan(rf)] = 0\n",
    "# sim, sim_names = rf, rf_genes"
   ]
  },
  {
   "cell_type": "code",
   "execution_count": 7,
   "metadata": {
    "ExecuteTime": {
     "end_time": "2017-08-10T02:34:42.171241Z",
     "start_time": "2017-08-10T02:34:42.168088Z"
    },
    "collapsed": false
   },
   "outputs": [],
   "source": [
    "sim, sim_names = ndex_to_sim_matrix(\n",
    "    similarity_uuid,\n",
    "    ndex_server,\n",
    "    ndex_user,\n",
    "    ndex_pass,\n",
    "    similarity='similarity',\n",
    "    input_fmt='cx_matrix',\n",
    "    output_fmt='matrix',\n",
    "    subset=None)"
   ]
  },
  {
   "cell_type": "markdown",
   "metadata": {},
   "source": [
    "# Expand known FA genes"
   ]
  },
  {
   "cell_type": "code",
   "execution_count": 7,
   "metadata": {
    "ExecuteTime": {
     "end_time": "2017-08-10T02:59:52.833420Z",
     "start_time": "2017-08-10T02:59:52.391758Z"
    },
    "collapsed": false
   },
   "outputs": [
    {
     "name": "stdout",
     "output_type": "stream",
     "text": [
      "min_sim: 5.20081410586\n"
     ]
    },
    {
     "data": {
      "text/plain": [
       "246"
      ]
     },
     "execution_count": 7,
     "metadata": {},
     "output_type": "execute_result"
    },
    {
     "data": {
      "image/png": "[encoded data removed]",
      "text/plain": [
       "<matplotlib.figure.Figure at 0x7f89d82a4650>"
      ]
     },
     "metadata": {},
     "output_type": "display_data"
    }
   ],
   "source": [
    "expand, expand_idx, sim_2_seed, fig = expand_seed(\n",
    "    seed,\n",
    "    sim,\n",
    "    sim_names,\n",
    "    agg='mean',\n",
    "    min_sim=4,\n",
    "    filter_perc=None,\n",
    "    seed_perc=0,\n",
    "    agg_perc=None,\n",
    "    expand_size=None,\n",
    "    figure=True,\n",
    ")\n",
    "expand = list(expand)\n",
    "len(expand)"
   ]
  },
  {
   "cell_type": "markdown",
   "metadata": {},
   "source": [
    "# Run CLIXO"
   ]
  },
  {
   "cell_type": "code",
   "execution_count": 8,
   "metadata": {
    "ExecuteTime": {
     "end_time": "2017-08-10T02:59:52.867641Z",
     "start_time": "2017-08-10T02:59:52.835226Z"
    },
    "collapsed": false
   },
   "outputs": [],
   "source": [
    "df_sq = pd.DataFrame(sim[expand_idx, :][:, expand_idx], index=expand, columns=expand)\n",
    "df = melt_square(df_sq)"
   ]
  },
  {
   "cell_type": "code",
   "execution_count": 9,
   "metadata": {
    "ExecuteTime": {
     "end_time": "2017-08-10T02:59:54.272357Z",
     "start_time": "2017-08-10T02:59:52.869790Z"
    },
    "collapsed": false
   },
   "outputs": [
    {
     "name": "stdout",
     "output_type": "stream",
     "text": [
      "temp output: /tmp/tmplLgp7P\n",
      "temp graph: /tmp/tmpYa736E\n",
      "temp output log: /tmp/tmpQkCzxY\n",
      "/tmp/tmpYa736E\t0.1\t0.5\t-10000000 2017-08-10 02:59:52.916558\n",
      "CLIXO command: /cellar/users/mikeyu/DeepTranslate/ddot/ddot/mhk7-clixo_0.3-cec3674/clixo /tmp/tmpYa736E 0.1 0.5 | awk '{if ( $1 ~ /^#/ ) {print \"\\#\", strftime(\"%Y-%m-%d %H:%M:%S\"), $0 ; fflush() } else {print $0}}' | tee /tmp/tmpQkCzxY\n",
      "Extracting by grep -v # 2017-08-10 02:59:54.209748\n",
      "Elapsed time (sec): 1.29730081558 2017-08-10 02:59:54.235148\n",
      "Ontology: 246 genes, 38 terms, 290 gene-term relations, 38 term-term relations\n"
     ]
    }
   ],
   "source": [
    "ont = Ontology.run_clixo(df, alpha, beta)\n",
    "# ont.propagate_annotations(direction='forward', inplace=True)"
   ]
  },
  {
   "cell_type": "code",
   "execution_count": 10,
   "metadata": {
    "ExecuteTime": {
     "end_time": "2017-08-10T02:59:54.278097Z",
     "start_time": "2017-08-10T02:59:54.274893Z"
    },
    "collapsed": false
   },
   "outputs": [],
   "source": [
    "# ont.to_3col_table('/cellar/users/mikeyu/tmp.txt')\n",
    "# ont = Ontology.from_table('/cellar/users/mikeyu/tmp.txt')"
   ]
  },
  {
   "cell_type": "markdown",
   "metadata": {},
   "source": [
    "# Align with Gene Ontology"
   ]
  },
  {
   "cell_type": "markdown",
   "metadata": {},
   "source": [
    "## Read Gene Ontology from NDEx"
   ]
  },
  {
   "cell_type": "code",
   "execution_count": 11,
   "metadata": {
    "ExecuteTime": {
     "end_time": "2017-08-10T03:00:10.281641Z",
     "start_time": "2017-08-10T02:59:54.280333Z"
    },
    "collapsed": false
   },
   "outputs": [
    {
     "name": "stdout",
     "output_type": "stream",
     "text": [
      "WARNING: There are 1959 terms that have no direct gene annotations\n"
     ]
    },
    {
     "data": {
      "text/plain": [
       "'18765 genes, 19211 terms, 260093 gene-term relations, 43410 term-term relations'"
      ]
     },
     "execution_count": 11,
     "metadata": {},
     "output_type": "execute_result"
    }
   ],
   "source": [
    "go_human = Ontology.from_ndex(ddot.config.GO_HUMAN_URL)\n",
    "go_human.summary()"
   ]
  },
  {
   "cell_type": "code",
   "execution_count": 12,
   "metadata": {
    "ExecuteTime": {
     "end_time": "2017-08-10T03:00:10.287803Z",
     "start_time": "2017-08-10T03:00:10.284471Z"
    },
    "collapsed": true
   },
   "outputs": [],
   "source": [
    "# go_human = Ontology.from_table('/cellar/users/mikeyu/go.txt')"
   ]
  },
  {
   "cell_type": "code",
   "execution_count": 13,
   "metadata": {
    "ExecuteTime": {
     "end_time": "2017-08-10T03:00:10.442382Z",
     "start_time": "2017-08-10T03:00:10.290487Z"
    },
    "collapsed": true
   },
   "outputs": [],
   "source": [
    "term_descriptions = read_term_descriptions('/cellar/users/mikeyu/DeepTranslate/go_human_7jun2017/goID_2_name.tab')\n",
    "go_human.update_node_attr(term_descriptions.to_frame())"
   ]
  },
  {
   "cell_type": "markdown",
   "metadata": {},
   "source": [
    "## Do alignment"
   ]
  },
  {
   "cell_type": "code",
   "execution_count": 14,
   "metadata": {
    "ExecuteTime": {
     "end_time": "2017-08-10T03:00:25.976322Z",
     "start_time": "2017-08-10T03:00:10.444228Z"
    },
    "collapsed": false
   },
   "outputs": [
    {
     "name": "stdout",
     "output_type": "stream",
     "text": [
      "collapse command: /cellar/users/mikeyu/alignOntology/collapseRedundantNodes /tmp/tmpN0uldS\n",
      "collapse command: /cellar/users/mikeyu/alignOntology/collapseRedundantNodes /tmp/tmpozcho5\n",
      "Alignment command: /cellar/users/mikeyu/DeepTranslate/ddot/ddot/alignOntology/calculateFDRs /tmp/tmp2iIHDZ /tmp/tmpUt0FSD 0.05 criss_cross /tmp/tmpeppLdc 3 4 gene\n"
     ]
    },
    {
     "data": {
      "text/html": [
       "<div>\n",
       "<style>\n",
       "    .dataframe thead tr:only-child th {\n",
       "        text-align: right;\n",
       "    }\n",
       "\n",
       "    .dataframe thead th {\n",
       "        text-align: left;\n",
       "    }\n",
       "\n",
       "    .dataframe tbody tr th {\n",
       "        vertical-align: top;\n",
       "    }\n",
       "</style>\n",
       "<table border=\"1\" class=\"dataframe\">\n",
       "  <thead>\n",
       "    <tr style=\"text-align: right;\">\n",
       "      <th></th>\n",
       "      <th>Term</th>\n",
       "      <th>Similarity</th>\n",
       "      <th>FDR</th>\n",
       "    </tr>\n",
       "    <tr>\n",
       "      <th>Term</th>\n",
       "      <th></th>\n",
       "      <th></th>\n",
       "      <th></th>\n",
       "    </tr>\n",
       "  </thead>\n",
       "  <tbody>\n",
       "    <tr>\n",
       "      <th>CLIXO:283</th>\n",
       "      <td>GO:0003674</td>\n",
       "      <td>0.982772</td>\n",
       "      <td>0.0</td>\n",
       "    </tr>\n",
       "    <tr>\n",
       "      <th>CLIXO:265</th>\n",
       "      <td>GO:0005662</td>\n",
       "      <td>0.892473</td>\n",
       "      <td>0.0</td>\n",
       "    </tr>\n",
       "    <tr>\n",
       "      <th>CLIXO:268</th>\n",
       "      <td>GO:0009378</td>\n",
       "      <td>0.879401</td>\n",
       "      <td>0.0</td>\n",
       "    </tr>\n",
       "    <tr>\n",
       "      <th>CLIXO:272</th>\n",
       "      <td>GO:0097472</td>\n",
       "      <td>0.516281</td>\n",
       "      <td>0.0</td>\n",
       "    </tr>\n",
       "    <tr>\n",
       "      <th>CLIXO:269</th>\n",
       "      <td>GO:0071140</td>\n",
       "      <td>0.459495</td>\n",
       "      <td>0.0</td>\n",
       "    </tr>\n",
       "  </tbody>\n",
       "</table>\n",
       "</div>"
      ],
      "text/plain": [
       "                 Term  Similarity  FDR\n",
       "Term                                  \n",
       "CLIXO:283  GO:0003674    0.982772  0.0\n",
       "CLIXO:265  GO:0005662    0.892473  0.0\n",
       "CLIXO:268  GO:0009378    0.879401  0.0\n",
       "CLIXO:272  GO:0097472    0.516281  0.0\n",
       "CLIXO:269  GO:0071140    0.459495  0.0"
      ]
     },
     "execution_count": 14,
     "metadata": {},
     "output_type": "execute_result"
    }
   ],
   "source": [
    "alignment = ont.align(go_human, 3, 4, update_self=True, update_ref=True)\n",
    "alignment.head()"
   ]
  },
  {
   "cell_type": "markdown",
   "metadata": {},
   "source": [
    "# Upload Ontology to NDEx\n",
    "## To be viewed by Kei's Hierarchical Viewer"
   ]
  },
  {
   "cell_type": "code",
   "execution_count": 15,
   "metadata": {
    "ExecuteTime": {
     "end_time": "2017-08-10T03:00:53.168885Z",
     "start_time": "2017-08-10T03:00:25.979059Z"
    },
    "collapsed": false,
    "scrolled": false
   },
   "outputs": [
    {
     "name": "stdout",
     "output_type": "stream",
     "text": [
      "WARNING: There are 38 terms that have no direct gene annotations\n"
     ]
    },
    {
     "data": {
      "text/plain": [
       "u'http://dev2.ndexbio.org/v2/network/c6116969-7db2-11e7-9743-0660b7976219'"
      ]
     },
     "execution_count": 15,
     "metadata": {},
     "output_type": "execute_result"
    }
   ],
   "source": [
    "name = 'Fanconi Anemia Gene Ontology (FanGO)'\n",
    "description = (\n",
    "    'Data-driven ontology created by CLIXO '\n",
    "    '(parameters: alpha={alpha}, beta={beta}). '\n",
    "    'Created from similarity network '\n",
    "    'at {ndex_server}/{ndex_uuid}').format(\n",
    "        alpha=alpha,\n",
    "        beta=beta,\n",
    "        ndex_server=ndex_server,\n",
    "        ndex_uuid=similarity_uuid)\n",
    "\n",
    "ont_url, ont_ndexgraph = ont.to_ndex(\n",
    "    name=name,\n",
    "    description=description,\n",
    "    term_2_uuid=True,\n",
    "    sim=df,\n",
    "    features=['similarity'],\n",
    "    public=True\n",
    ")\n",
    "\n",
    "ont_url\n",
    "\n",
    "# nx.write_graphml(ont_ndexgraph, '/cellar/users/mikeyu/tmp.graphml')"
   ]
  },
  {
   "cell_type": "code",
   "execution_count": null,
   "metadata": {
    "collapsed": true
   },
   "outputs": [],
   "source": []
  }
 ],
 "metadata": {
  "kernelspec": {
   "display_name": "Python 2",
   "language": "python",
   "name": "python2"
  },
  "language_info": {
   "codemirror_mode": {
    "name": "ipython",
    "version": 2
   },
   "file_extension": ".py",
   "mimetype": "text/x-python",
   "name": "python",
   "nbconvert_exporter": "python",
   "pygments_lexer": "ipython2",
   "version": "2.7.13"
  },
  "latex_envs": {
   "LaTeX_envs_menu_present": true,
   "autocomplete": true,
   "bibliofile": "biblio.bib",
   "cite_by": "apalike",
   "current_citInitial": 1,
   "eqLabelWithNumbers": true,
   "eqNumInitial": 1,
   "hotkeys": {
    "equation": "Ctrl-E",
    "itemize": "Ctrl-I"
   },
   "labels_anchors": false,
   "latex_user_defs": false,
   "report_style_numbering": false,
   "user_envs_cfg": false
  },
  "toc": {
   "colors": {
    "hover_highlight": "#DAA520",
    "navigate_num": "#000000",
    "navigate_text": "#333333",
    "running_highlight": "#FF0000",
    "selected_highlight": "#FFD700",
    "sidebar_border": "#EEEEEE",
    "wrapper_background": "#FFFFFF"
   },
   "moveMenuLeft": true,
   "nav_menu": {
    "height": "225px",
    "width": "252px"
   },
   "navigate_menu": true,
   "number_sections": true,
   "sideBar": true,
   "threshold": 4,
   "toc_cell": false,
   "toc_section_display": "block",
   "toc_window_display": false,
   "widenNotebook": false
  }
 },
 "nbformat": 4,
 "nbformat_minor": 2
}
