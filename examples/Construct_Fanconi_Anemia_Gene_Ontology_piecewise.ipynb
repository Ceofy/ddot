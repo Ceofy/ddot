{
 "cells": [
  {
   "cell_type": "code",
   "execution_count": 1,
   "metadata": {
    "ExecuteTime": {
     "end_time": "2017-08-16T16:40:08.559018Z",
     "start_time": "2017-08-16T16:40:00.328192Z"
    },
    "collapsed": false
   },
   "outputs": [
    {
     "name": "stdout",
     "output_type": "stream",
     "text": [
      "\n"
     ]
    }
   ],
   "source": [
    "import requests\n",
    "import gzip\n",
    "import pandas as pd\n",
    "import networkx as nx\n",
    "import numpy as np\n",
    "\n",
    "%matplotlib inline\n",
    "import seaborn as sns\n",
    "\n",
    "import sys\n",
    "sys.path = ['/cellar/users/mikeyu/DeepTranslate/ddot'] + sys.path\n",
    "\n",
    "import ddot\n",
    "from ddot import Ontology, nx_to_NdexGraph, read_term_descriptions, ndex_to_sim_matrix, expand_seed, melt_square, align_hierarchies, parse_ndex_uuid"
   ]
  },
  {
   "cell_type": "markdown",
   "metadata": {},
   "source": [
    "# Setup parameters"
   ]
  },
  {
   "cell_type": "code",
   "execution_count": 2,
   "metadata": {
    "ExecuteTime": {
     "end_time": "2017-08-16T16:40:08.567094Z",
     "start_time": "2017-08-16T16:40:08.562238Z"
    },
    "collapsed": true
   },
   "outputs": [],
   "source": [
    "ndex_server = 'http://test.ndexbio.org'\n",
    "ndex_user = 'mikeyu_testacct3'\n",
    "ndex_pass = 'GoHejVeg8'"
   ]
  },
  {
   "cell_type": "code",
   "execution_count": 3,
   "metadata": {
    "ExecuteTime": {
     "end_time": "2017-08-16T16:40:08.573563Z",
     "start_time": "2017-08-16T16:40:08.569987Z"
    },
    "collapsed": true
   },
   "outputs": [],
   "source": [
    "alpha = 0.1\n",
    "beta = 0.5"
   ]
  },
  {
   "cell_type": "code",
   "execution_count": 4,
   "metadata": {
    "ExecuteTime": {
     "end_time": "2017-08-16T16:40:08.580987Z",
     "start_time": "2017-08-16T16:40:08.576353Z"
    },
    "collapsed": true
   },
   "outputs": [],
   "source": [
    "seed = ['FANCA','FANCB', 'FANCC', 'BRCA2', 'FANCD2', 'FANCE',\n",
    "        'FANCF', 'FANCG', 'FANCI', 'BRIP1', 'FANCL', 'FANCM', 'PALB2', 'RAD51C', 'SLX4', 'ERCC4', 'RAD51',\n",
    "        'BRCA1', 'UBE2T', 'XRCC2']"
   ]
  },
  {
   "cell_type": "code",
   "execution_count": 5,
   "metadata": {
    "ExecuteTime": {
     "end_time": "2017-08-16T16:40:08.586827Z",
     "start_time": "2017-08-16T16:40:08.583605Z"
    },
    "collapsed": true
   },
   "outputs": [],
   "source": [
    "similarity_uuid = 'd2dfa5cc-56de-11e7-a2e2-0660b7976219'"
   ]
  },
  {
   "cell_type": "markdown",
   "metadata": {},
   "source": [
    "# Download similarity data from NDEx"
   ]
  },
  {
   "cell_type": "code",
   "execution_count": 6,
   "metadata": {
    "ExecuteTime": {
     "end_time": "2017-08-16T16:40:15.342947Z",
     "start_time": "2017-08-16T16:40:08.589414Z"
    },
    "collapsed": false
   },
   "outputs": [
    {
     "name": "stdout",
     "output_type": "stream",
     "text": [
      "CPU times: user 4 ms, sys: 0 ns, total: 4 ms\n",
      "Wall time: 1.27 ms\n"
     ]
    }
   ],
   "source": [
    "%time tmp = np.load('/cellar/users/mikeyu/DeepTranslate/hnexo/RFv2r3_square.npz')\n",
    "rf, rf_genes = tmp['rf'], tmp['genes']\n",
    "np.fill_diagonal(rf, 0)\n",
    "rf[np.isnan(rf)] = 0\n",
    "sim, sim_names = rf, rf_genes"
   ]
  },
  {
   "cell_type": "code",
   "execution_count": 7,
   "metadata": {
    "ExecuteTime": {
     "end_time": "2017-08-16T16:40:15.353313Z",
     "start_time": "2017-08-16T16:40:15.347235Z"
    },
    "collapsed": false
   },
   "outputs": [],
   "source": [
    "# sim, sim_names = ndex_to_sim_matrix(\n",
    "#     similarity_uuid,\n",
    "#     ndex_server,\n",
    "#     ndex_user,\n",
    "#     ndex_pass,\n",
    "#     similarity='similarity',\n",
    "#     input_fmt='cx_matrix',\n",
    "#     output_fmt='matrix',\n",
    "#     subset=None)"
   ]
  },
  {
   "cell_type": "markdown",
   "metadata": {},
   "source": [
    "# Expand known FA genes"
   ]
  },
  {
   "cell_type": "code",
   "execution_count": 8,
   "metadata": {
    "ExecuteTime": {
     "end_time": "2017-08-16T16:40:15.829465Z",
     "start_time": "2017-08-16T16:40:15.356327Z"
    },
    "collapsed": false
   },
   "outputs": [
    {
     "name": "stdout",
     "output_type": "stream",
     "text": [
      "min_sim: 5.20081410586\n"
     ]
    },
    {
     "data": {
      "text/plain": [
       "246"
      ]
     },
     "execution_count": 8,
     "metadata": {},
     "output_type": "execute_result"
    },
    {
     "data": {
      "image/png": "[encoded data removed]",
      "text/plain": [
       "<matplotlib.figure.Figure at 0x7f6237d3cf50>"
      ]
     },
     "metadata": {},
     "output_type": "display_data"
    }
   ],
   "source": [
    "expand, expand_idx, sim_2_seed, fig = expand_seed(\n",
    "    seed,\n",
    "    sim,\n",
    "    sim_names,\n",
    "    agg='mean',\n",
    "    min_sim=4,\n",
    "    filter_perc=None,\n",
    "    seed_perc=0,\n",
    "    agg_perc=None,\n",
    "    expand_size=None,\n",
    "    figure=True,\n",
    ")\n",
    "expand = list(expand)\n",
    "len(expand)"
   ]
  },
  {
   "cell_type": "markdown",
   "metadata": {},
   "source": [
    "# Run CLIXO"
   ]
  },
  {
   "cell_type": "code",
   "execution_count": 9,
   "metadata": {
    "ExecuteTime": {
     "end_time": "2017-08-16T16:40:17.233511Z",
     "start_time": "2017-08-16T16:40:15.831309Z"
    },
    "collapsed": false
   },
   "outputs": [
    {
     "name": "stdout",
     "output_type": "stream",
     "text": [
      "temp output: /tmp/tmpJTFRFH\n",
      "temp graph: /tmp/tmpRohPqV\n",
      "temp output log: /tmp/tmp9eGWhV\n",
      "/tmp/tmpRohPqV\t0.1\t0.5\t-10000000 2017-08-16 16:40:15.893267\n",
      "CLIXO command: /cellar/users/mikeyu/DeepTranslate/ddot/ddot/mhk7-clixo_0.3-cec3674/clixo /tmp/tmpRohPqV 0.1 0.5 | awk '{if ( $1 ~ /^#/ ) {print \"\\#\", strftime(\"%Y-%m-%d %H:%M:%S\"), $0 ; fflush() } else {print $0}}' | tee /tmp/tmp9eGWhV\n",
      "Extracting by grep -v # 2017-08-16 16:40:17.111531\n",
      "Elapsed time (sec): 1.21526622772 2017-08-16 16:40:17.161358\n",
      "Ontology: 246 genes, 38 terms, 290 gene-term relations, 38 term-term relations\n",
      "node_attributes: \n",
      "edge_attributes: CLIXO_score\n"
     ]
    }
   ],
   "source": [
    "df_sq = pd.DataFrame(sim[expand_idx, :][:, expand_idx], index=expand, columns=expand)\n",
    "df = melt_square(df_sq)\n",
    "ont = Ontology.run_clixo(df, alpha, beta)"
   ]
  },
  {
   "cell_type": "code",
   "execution_count": 10,
   "metadata": {
    "ExecuteTime": {
     "end_time": "2017-08-15T19:21:36.970419Z",
     "start_time": "2017-08-15T19:21:36.965091Z"
    },
    "collapsed": false
   },
   "outputs": [],
   "source": [
    "# ont.to_pickle('/cellar/users/mikeyu/tmp.pkl')\n",
    "ont = Ontology.read_pickle('/cellar/users/mikeyu/tmp.pkl')"
   ]
  },
  {
   "cell_type": "markdown",
   "metadata": {},
   "source": [
    "# Align with Gene Ontology"
   ]
  },
  {
   "cell_type": "markdown",
   "metadata": {},
   "source": [
    "## Read Gene Ontology from NDEx"
   ]
  },
  {
   "cell_type": "code",
   "execution_count": 10,
   "metadata": {
    "ExecuteTime": {
     "end_time": "2017-08-16T16:40:53.047310Z",
     "start_time": "2017-08-16T16:40:17.235975Z"
    },
    "collapsed": false
   },
   "outputs": [
    {
     "name": "stdout",
     "output_type": "stream",
     "text": [
      "\n",
      "WARNING: There are 11 terms that are annotated to genes but not connected to the rest of the ontology\n",
      "WARNING: There are 2305 terms that have no direct gene annotations\n",
      "Changing node_attr index name from None to 'Node'\n",
      "Changing edge_attr index names from [None, None] to ['Child', 'Parent']\n",
      "18770 genes, 19277 terms, 212312 gene-term relations, 42961 term-term relations\n",
      "node_attributes: entrez_gene, name, isRoot, Branch, Label, ensembl_gene, uniprot, Term_Description, Gene_or_Term, Size\n",
      "edge_attributes: Is_Tree_Edge, EdgeType\n"
     ]
    }
   ],
   "source": [
    "go_human = Ontology.from_ndex(ddot.config.GO_HUMAN_URL)\n",
    "print go_human.summary()"
   ]
  },
  {
   "cell_type": "code",
   "execution_count": 12,
   "metadata": {
    "ExecuteTime": {
     "end_time": "2017-08-15T19:22:07.434835Z",
     "start_time": "2017-08-15T19:22:06.643269Z"
    },
    "collapsed": true
   },
   "outputs": [],
   "source": [
    "# go_human.to_pickle('/cellar/users/mikeyu/go.pkl')\n",
    "go_human = Ontology.read_pickle('/cellar/users/mikeyu/go.pkl')"
   ]
  },
  {
   "cell_type": "markdown",
   "metadata": {},
   "source": [
    "## Do alignment"
   ]
  },
  {
   "cell_type": "code",
   "execution_count": 11,
   "metadata": {
    "ExecuteTime": {
     "end_time": "2017-08-16T16:41:08.948399Z",
     "start_time": "2017-08-16T16:40:53.049173Z"
    },
    "collapsed": false
   },
   "outputs": [
    {
     "name": "stdout",
     "output_type": "stream",
     "text": [
      "collapse command: /cellar/users/mikeyu/alignOntology/collapseRedundantNodes /tmp/tmpPBedKe\n",
      "collapse command: /cellar/users/mikeyu/alignOntology/collapseRedundantNodes /tmp/tmpsovirw\n",
      "Alignment command: /cellar/users/mikeyu/DeepTranslate/ddot/ddot/alignOntology/calculateFDRs /tmp/tmpZW7AOg /tmp/tmpOj49Bg 0.05 criss_cross /tmp/tmpcQhMa0 100 40 gene\n"
     ]
    }
   ],
   "source": [
    "alignment = ont.align(go_human, 100, 40, update_self=['Term_Description', 'Size'], update_ref=False)"
   ]
  },
  {
   "cell_type": "markdown",
   "metadata": {},
   "source": [
    "# Annotate which genes are seeds and which genes have drug targets"
   ]
  },
  {
   "cell_type": "code",
   "execution_count": 12,
   "metadata": {
    "ExecuteTime": {
     "end_time": "2017-08-16T16:41:09.569141Z",
     "start_time": "2017-08-16T16:41:08.950505Z"
    },
    "collapsed": false
   },
   "outputs": [
    {
     "name": "stdout",
     "output_type": "stream",
     "text": [
      "\n"
     ]
    }
   ],
   "source": [
    "pharos, pharos_nodes = ndex_to_sim_matrix(\n",
    "    parse_ndex_uuid(ddot.config.PHAROS_URL),\n",
    "    similarity=None,\n",
    "    input_fmt='cx',\n",
    "    output_fmt='sparse',\n",
    "    ndex_server=ndex_server, ndex_user=ndex_user, ndex_pass=ndex_pass)\n",
    "pharos.rename(columns={'Node1' : 'gene', 'Node2' : 'drug'}, inplace=True)\n",
    "gene_drug = pharos.groupby('gene').agg({'drug' : lambda x : ','.join(x)})\n",
    "gene_drug['has_drug'] = True\n",
    "\n",
    "ont.update_node_attr(gene_drug)"
   ]
  },
  {
   "cell_type": "code",
   "execution_count": 13,
   "metadata": {
    "ExecuteTime": {
     "end_time": "2017-08-16T16:41:09.583160Z",
     "start_time": "2017-08-16T16:41:09.571596Z"
    },
    "collapsed": false
   },
   "outputs": [],
   "source": [
    "seed_set = set(seed)\n",
    "seed_attr = pd.DataFrame({'Seed' : [g in seed_set for g in ont.genes]}, index=ont.genes)\n",
    "ont.update_node_attr(seed_attr)"
   ]
  },
  {
   "cell_type": "code",
   "execution_count": 14,
   "metadata": {
    "ExecuteTime": {
     "end_time": "2017-08-16T16:41:09.602054Z",
     "start_time": "2017-08-16T16:41:09.585397Z"
    },
    "collapsed": false
   },
   "outputs": [],
   "source": [
    "def make_label(x):\n",
    "    if pd.isnull(x['Aligned_Term_Description']):\n",
    "        return x.name\n",
    "    else:\n",
    "        return '%s\\n%s' % (x.name, x['Aligned_Term_Description'])\n",
    "    \n",
    "ont.node_attr = ont.node_attr.reindex(set(ont.genes) | set(ont.terms))\n",
    "ont.node_attr['Label'] = ont.node_attr.apply(make_label, axis=1)"
   ]
  },
  {
   "cell_type": "markdown",
   "metadata": {},
   "source": [
    "# Upload Ontology to NDEx (to be viewed by Kei's Hierarchical Viewer)"
   ]
  },
  {
   "cell_type": "code",
   "execution_count": 15,
   "metadata": {
    "ExecuteTime": {
     "end_time": "2017-08-16T16:41:17.060755Z",
     "start_time": "2017-08-16T16:41:09.604189Z"
    },
    "collapsed": false,
    "scrolled": false
   },
   "outputs": [
    {
     "name": "stdout",
     "output_type": "stream",
     "text": [
      "WARNING: There are 38 terms that have no direct gene annotations\n",
      "http://dev2.ndexbio.org/v2/network/65b4250f-82dc-11e7-9743-0660b7976219\n"
     ]
    }
   ],
   "source": [
    "name = 'Fanconi Anemia Gene Ontology (FanGO)'\n",
    "description = (\n",
    "    'Data-driven ontology created by CLIXO '\n",
    "    '(parameters: alpha={alpha}, beta={beta}). '\n",
    "    'Created from similarity network '\n",
    "    'at {ndex_server}/{ndex_uuid}').format(\n",
    "        alpha=alpha,\n",
    "        beta=beta,\n",
    "        ndex_server=ndex_server,\n",
    "        ndex_uuid=similarity_uuid)\n",
    "\n",
    "ont_url, ont_ndexgraph = ont.to_ndex(\n",
    "    name=name,\n",
    "    description=description,\n",
    "    sim=df,\n",
    "    features=['similarity'],\n",
    "    public=True,\n",
    "    subnet_max_term_size=10,\n",
    ")\n",
    "\n",
    "print ont_url\n",
    "\n",
    "# nx.write_graphml(ont_ndexgraph, '/cellar/users/mikeyu/tmp.graphml')"
   ]
  },
  {
   "cell_type": "code",
   "execution_count": null,
   "metadata": {
    "collapsed": true
   },
   "outputs": [],
   "source": []
  }
 ],
 "metadata": {
  "kernelspec": {
   "display_name": "Python 2",
   "language": "python",
   "name": "python2"
  },
  "language_info": {
   "codemirror_mode": {
    "name": "ipython",
    "version": 2
   },
   "file_extension": ".py",
   "mimetype": "text/x-python",
   "name": "python",
   "nbconvert_exporter": "python",
   "pygments_lexer": "ipython2",
   "version": "2.7.13"
  },
  "latex_envs": {
   "LaTeX_envs_menu_present": true,
   "autocomplete": true,
   "bibliofile": "biblio.bib",
   "cite_by": "apalike",
   "current_citInitial": 1,
   "eqLabelWithNumbers": true,
   "eqNumInitial": 1,
   "hotkeys": {
    "equation": "Ctrl-E",
    "itemize": "Ctrl-I"
   },
   "labels_anchors": false,
   "latex_user_defs": false,
   "report_style_numbering": false,
   "user_envs_cfg": false
  },
  "toc": {
   "colors": {
    "hover_highlight": "#DAA520",
    "navigate_num": "#000000",
    "navigate_text": "#333333",
    "running_highlight": "#FF0000",
    "selected_highlight": "#FFD700",
    "sidebar_border": "#EEEEEE",
    "wrapper_background": "#FFFFFF"
   },
   "moveMenuLeft": true,
   "nav_menu": {
    "height": "225px",
    "width": "252px"
   },
   "navigate_menu": true,
   "number_sections": true,
   "sideBar": true,
   "threshold": 4,
   "toc_cell": false,
   "toc_section_display": "block",
   "toc_window_display": false,
   "widenNotebook": false
  }
 },
 "nbformat": 4,
 "nbformat_minor": 2
}
