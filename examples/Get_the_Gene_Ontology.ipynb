{
 "cells": [
  {
   "cell_type": "markdown",
   "metadata": {},
   "source": [
    "# Use DDOT to download and process a human-focused Gene Ontology\n",
    "1. Download the GO structure and gene-term annotations\n",
    "2. Concatenate all three branches (biological process, molecular function, cellular component) into a unified ontology with an artificial new root 'GO:00SUPER'\n",
    "3. Remove redundant terms that are not relevant for human\n",
    "4. Convert gene IDs and symbols using mygene.info\n",
    "5. Upload ontology to NDEx"
   ]
  },
  {
   "cell_type": "markdown",
   "metadata": {},
   "source": [
    "# Import libraries"
   ]
  },
  {
   "cell_type": "code",
   "execution_count": 3,
   "metadata": {
    "ExecuteTime": {
     "end_time": "2018-01-24T01:31:11.924283Z",
     "start_time": "2018-01-24T01:31:10.150242Z"
    }
   },
   "outputs": [
    {
     "name": "stdout",
     "output_type": "stream",
     "text": [
      "\n",
      "\n"
     ]
    }
   ],
   "source": [
    "import requests\n",
    "import gzip\n",
    "import pandas as pd\n",
    "import networkx as nx\n",
    "import sys\n",
    "\n",
    "%load_ext autoreload\n",
    "%autoreload 2\n",
    "\n",
    "sys.path.insert(0, '/cellar/users/mikeyu/DeepTranslate/ddot')\n",
    "import ddot\n",
    "from ddot import Ontology, get_gene_name_converter, parse_gaf, parse_obo, nx_to_NdexGraph"
   ]
  },
  {
   "cell_type": "markdown",
   "metadata": {},
   "source": [
    "# Set NDEx username and password"
   ]
  },
  {
   "cell_type": "code",
   "execution_count": 4,
   "metadata": {
    "ExecuteTime": {
     "end_time": "2018-01-24T01:31:11.965548Z",
     "start_time": "2018-01-24T01:31:11.927317Z"
    },
    "collapsed": true
   },
   "outputs": [],
   "source": [
    "ndex_server = 'http://test.ndexbio.org'\n",
    "ndex_user = 'mikeyu_testacct3'\n",
    "ndex_pass = 'GoHejVeg8'"
   ]
  },
  {
   "cell_type": "markdown",
   "metadata": {},
   "source": [
    "# Download and Parse Gene Ontology files"
   ]
  },
  {
   "cell_type": "code",
   "execution_count": 3,
   "metadata": {
    "ExecuteTime": {
     "end_time": "2017-10-04T04:07:02.853996Z",
     "start_time": "2017-10-04T04:06:58.787737Z"
    },
    "collapsed": true
   },
   "outputs": [],
   "source": [
    "# Download GO obo file\n",
    "r = requests.get('http://purl.obolibrary.org/obo/go/go-basic.obo')\n",
    "with open('go-basic.obo', 'wb') as f:\n",
    "    f.write(r.content)\n",
    "\n",
    "# Parse OBO file\n",
    "parse_obo('go-basic.obo', 'go.tab', 'goID_2_name.tab', 'goID_2_namespace.tab', 'goID_2_alt_id.tab')\n",
    "\n",
    "# Download gene-term annotations for human\n",
    "r = requests.get('http://geneontology.org/gene-associations/goa_human.gaf.gz')\n",
    "with open('goa_human.gaf.gz', 'wb') as f:\n",
    "    f.write(r.content)"
   ]
  },
  {
   "cell_type": "markdown",
   "metadata": {},
   "source": [
    "# Read Gene Ontology for human"
   ]
  },
  {
   "cell_type": "code",
   "execution_count": 5,
   "metadata": {
    "ExecuteTime": {
     "end_time": "2018-01-24T01:31:15.315471Z",
     "start_time": "2018-01-24T01:31:13.832550Z"
    },
    "collapsed": true
   },
   "outputs": [],
   "source": [
    "hierarchy = pd.read_table('go.tab',\n",
    "                          sep='\\t',\n",
    "                          header=None,\n",
    "                          names=['Parent', 'Child', 'Relation', 'Namespace'])\n",
    "with gzip.open('goa_human.gaf.gz', 'rb') as f:\n",
    "    mapping = parse_gaf(f)"
   ]
  },
  {
   "cell_type": "code",
   "execution_count": 6,
   "metadata": {
    "ExecuteTime": {
     "end_time": "2018-01-24T01:31:18.319917Z",
     "start_time": "2018-01-24T01:31:15.318628Z"
    }
   },
   "outputs": [
    {
     "name": "stdout",
     "output_type": "stream",
     "text": [
      "WARNING: Dropping 168022 duplicate gene-term connections\n",
      "Unifying 3 roots into one super-root\n"
     ]
    },
    {
     "data": {
      "text/plain": [
       "19468 genes, 44978 terms, 266539 gene-term relations, 91366 term-term relations\n",
       "node_attributes: []\n",
       "edge_attributes: []"
      ]
     },
     "execution_count": 6,
     "metadata": {},
     "output_type": "execute_result"
    }
   ],
   "source": [
    "go_human = Ontology.from_table(\n",
    "    table=hierarchy,\n",
    "    parent='Parent',\n",
    "    child='Child',\n",
    "    mapping=mapping,\n",
    "    mapping_child='DB Object ID',\n",
    "    mapping_parent='GO ID',\n",
    "    add_root_name='GO:00SUPER',\n",
    "    ignore_orphan_terms=True)\n",
    "go_human.clear_node_attr()\n",
    "go_human.clear_edge_attr()\n",
    "go_human"
   ]
  },
  {
   "cell_type": "markdown",
   "metadata": {},
   "source": [
    "# Collapse GO with respect to human UniProt IDs"
   ]
  },
  {
   "cell_type": "code",
   "execution_count": 7,
   "metadata": {
    "ExecuteTime": {
     "end_time": "2018-01-24T01:31:50.387579Z",
     "start_time": "2018-01-24T01:31:18.321573Z"
    }
   },
   "outputs": [
    {
     "name": "stdout",
     "output_type": "stream",
     "text": [
      "collapse command: /cellar/users/mikeyu/DeepTranslate/ddot/ddot/alignOntology/collapseRedundantNodes /tmp/tmpcw5qMv\n",
      "CPU times: user 19.5 s, sys: 356 ms, total: 19.9 s\n",
      "Wall time: 32 s\n",
      "19468 genes, 19343 terms, 216482 gene-term relations, 43296 term-term relations\n",
      "node_attributes: []\n",
      "edge_attributes: []\n"
     ]
    }
   ],
   "source": [
    "%time go_human = go_human.collapse_ontology(method='mhkramer')\n",
    "if 'GO:00SUPER' not in go_human.terms: go_human.add_root('GO:00SUPER', inplace=True)\n",
    "print go_human"
   ]
  },
  {
   "cell_type": "markdown",
   "metadata": {},
   "source": [
    "# Add descriptions of GO terms"
   ]
  },
  {
   "cell_type": "code",
   "execution_count": 8,
   "metadata": {
    "ExecuteTime": {
     "end_time": "2018-01-24T01:31:56.611406Z",
     "start_time": "2018-01-24T01:31:50.389361Z"
    },
    "collapsed": true
   },
   "outputs": [],
   "source": [
    "go_descriptions = pd.read_table('goID_2_name.tab',\n",
    "                                header=None,\n",
    "                                names=['Term', 'Term_Description'],\n",
    "                                index_col=0)\n",
    "go_human.update_node_attr(go_descriptions)\n",
    "\n",
    "go_branches = pd.read_table('goID_2_namespace.tab',\n",
    "                                header=None,\n",
    "                                names=['Term', 'Branch'],\n",
    "                                index_col=0)\n",
    "go_human.update_node_attr(go_branches)\n",
    "\n",
    "# Add size\n",
    "sizes = pd.DataFrame({'Size' : go_human.term_sizes}, index=go_human.terms)\n",
    "go_human.update_node_attr(sizes)"
   ]
  },
  {
   "cell_type": "markdown",
   "metadata": {},
   "source": [
    "# Use mygene.info to convert UniProt IDs to Ensembl, HUGO, and Entrez IDs"
   ]
  },
  {
   "cell_type": "code",
   "execution_count": 9,
   "metadata": {
    "ExecuteTime": {
     "end_time": "2018-01-24T01:31:56.636960Z",
     "start_time": "2018-01-24T01:31:56.613502Z"
    },
    "collapsed": true
   },
   "outputs": [],
   "source": [
    "import mygene\n",
    "mg = mygene.MyGeneInfo()"
   ]
  },
  {
   "cell_type": "code",
   "execution_count": 10,
   "metadata": {
    "ExecuteTime": {
     "end_time": "2018-01-24T01:33:01.319500Z",
     "start_time": "2018-01-24T01:31:56.638602Z"
    }
   },
   "outputs": [
    {
     "name": "stdout",
     "output_type": "stream",
     "text": [
      "querying 1-1000...done.\n",
      "querying 1001-2000...done.\n",
      "querying 2001-3000...done.\n",
      "querying 3001-4000...done.\n",
      "querying 4001-5000...done.\n",
      "querying 5001-6000...done.\n",
      "querying 6001-7000...done.\n",
      "querying 7001-8000...done.\n",
      "querying 8001-9000...done.\n",
      "querying 9001-10000...done.\n",
      "querying 10001-11000...done.\n",
      "querying 11001-12000...done.\n",
      "querying 12001-13000...done.\n",
      "querying 13001-14000...done.\n",
      "querying 14001-15000...done.\n",
      "querying 15001-16000...done.\n",
      "querying 16001-17000...done.\n",
      "querying 17001-18000...done.\n",
      "querying 18001-19000...done.\n",
      "querying 19001-19468...done.\n",
      "Finished.\n",
      "298 input query terms found dup hits:\n",
      "\t[(u'G5E9R7', 2), (u'Q6ZTI6', 2), (u'P62807', 6), (u'P62805', 10), (u'P31995', 2), (u'P50391', 3), (u\n",
      "653 input query terms found no hit:\n",
      "\t[u'A0A075B734', u'A0A087WSY4', u'A0A087WUL8', u'A0A087WV96', u'A0A087WX78', u'A0A087X1C1', u'A0A087X\n",
      "Pass \"returnall=True\" to return complete lists of duplicate or missing query terms.\n"
     ]
    }
   ],
   "source": [
    "uniprot_2_entrezgene_df = mg.querymany(go_human.genes, scopes='uniprot', fields='entrezgene', species='human', as_dataframe=True)\n",
    "\n",
    "def f(x):\n",
    "    x = x['entrezgene'].astype(int).astype(str)\n",
    "    if len(x)==1:\n",
    "        return x[0]\n",
    "    else:\n",
    "        return x.tolist()\n",
    "uniprot_2_entrezgene = uniprot_2_entrezgene_df.dropna(subset=['entrezgene']).groupby('query').apply(f)"
   ]
  },
  {
   "cell_type": "code",
   "execution_count": 11,
   "metadata": {
    "ExecuteTime": {
     "end_time": "2018-01-24T01:34:04.327081Z",
     "start_time": "2018-01-24T01:33:01.322839Z"
    }
   },
   "outputs": [
    {
     "name": "stdout",
     "output_type": "stream",
     "text": [
      "querying 1-1000...done.\n",
      "querying 1001-2000...done.\n",
      "querying 2001-3000...done.\n",
      "querying 3001-4000...done.\n",
      "querying 4001-5000...done.\n",
      "querying 5001-6000...done.\n",
      "querying 6001-7000...done.\n",
      "querying 7001-8000...done.\n",
      "querying 8001-9000...done.\n",
      "querying 9001-10000...done.\n",
      "querying 10001-11000...done.\n",
      "querying 11001-12000...done.\n",
      "querying 12001-13000...done.\n",
      "querying 13001-14000...done.\n",
      "querying 14001-15000...done.\n",
      "querying 15001-16000...done.\n",
      "querying 16001-17000...done.\n",
      "querying 17001-18000...done.\n",
      "querying 18001-19000...done.\n",
      "querying 19001-19468...done.\n",
      "Finished.\n",
      "298 input query terms found dup hits:\n",
      "\t[(u'G5E9R7', 2), (u'Q6ZTI6', 2), (u'P62807', 6), (u'P62805', 10), (u'P31995', 2), (u'P50391', 3), (u\n",
      "653 input query terms found no hit:\n",
      "\t[u'A0A075B734', u'A0A087WSY4', u'A0A087WUL8', u'A0A087WV96', u'A0A087WX78', u'A0A087X1C1', u'A0A087X\n",
      "Pass \"returnall=True\" to return complete lists of duplicate or missing query terms.\n"
     ]
    }
   ],
   "source": [
    "uniprot_2_symbol_df = mg.querymany(go_human.genes, scopes='uniprot', fields='symbol', species='human', as_dataframe=True)\n",
    "\n",
    "def f(x):\n",
    "    x = x['symbol']\n",
    "    if len(x)==1:\n",
    "        return x[0]\n",
    "    else:\n",
    "        return x.tolist()\n",
    "uniprot_2_symbol = uniprot_2_symbol_df.dropna(subset=['symbol']).groupby('query').apply(f)"
   ]
  },
  {
   "cell_type": "code",
   "execution_count": 12,
   "metadata": {
    "ExecuteTime": {
     "end_time": "2018-01-24T01:35:12.870846Z",
     "start_time": "2018-01-24T01:34:04.328951Z"
    }
   },
   "outputs": [
    {
     "name": "stdout",
     "output_type": "stream",
     "text": [
      "querying 1-1000...done.\n",
      "querying 1001-2000...done.\n",
      "querying 2001-3000...done.\n",
      "querying 3001-4000...done.\n",
      "querying 4001-5000...done.\n",
      "querying 5001-6000...done.\n",
      "querying 6001-7000...done.\n",
      "querying 7001-8000...done.\n",
      "querying 8001-9000...done.\n",
      "querying 9001-10000...done.\n",
      "querying 10001-11000...done.\n",
      "querying 11001-12000...done.\n",
      "querying 12001-13000...done.\n",
      "querying 13001-14000...done.\n",
      "querying 14001-15000...done.\n",
      "querying 15001-16000...done.\n",
      "querying 16001-17000...done.\n",
      "querying 17001-18000...done.\n",
      "querying 18001-19000...done.\n",
      "querying 19001-19468...done.\n",
      "Finished.\n",
      "298 input query terms found dup hits:\n",
      "\t[(u'G5E9R7', 2), (u'Q6ZTI6', 2), (u'P62807', 6), (u'P62805', 10), (u'P31995', 2), (u'P50391', 3), (u\n",
      "653 input query terms found no hit:\n",
      "\t[u'A0A075B734', u'A0A087WSY4', u'A0A087WUL8', u'A0A087WV96', u'A0A087WX78', u'A0A087X1C1', u'A0A087X\n",
      "Pass \"returnall=True\" to return complete lists of duplicate or missing query terms.\n"
     ]
    }
   ],
   "source": [
    "uniprot_2_ensembl_df = mg.querymany(go_human.genes, scopes='uniprot', fields='ensembl', species='human', as_dataframe=True)\n",
    "\n",
    "# def f(x):\n",
    "#     x = x['ensembl']\n",
    "#     if len(x)==1:\n",
    "#         return x[0]['gene']\n",
    "#     else:\n",
    "#         return [y['gene'] for y in x.tolist()]\n",
    "# uniprot_2_ensembl = uniprot_2_ensembl_df.dropna(subset=['ensembl']).groupby('query').apply(f)"
   ]
  },
  {
   "cell_type": "code",
   "execution_count": 35,
   "metadata": {
    "ExecuteTime": {
     "end_time": "2018-01-24T07:03:33.127670Z",
     "start_time": "2018-01-24T07:03:31.706210Z"
    }
   },
   "outputs": [],
   "source": [
    "def f(x):\n",
    "    x = x['ensembl']\n",
    "    ret = []\n",
    "    for y in x:\n",
    "        if isinstance(y, (pd.Series, list)):\n",
    "            for z in y: ret.append(z['gene'])\n",
    "        else:\n",
    "            ret.append(y['gene'])\n",
    "    if len(ret)==1:\n",
    "        return ret[0]\n",
    "    else:\n",
    "        return ret\n",
    "uniprot_2_ensembl = uniprot_2_ensembl_df.dropna(subset=['ensembl']).groupby('query').apply(f)"
   ]
  },
  {
   "cell_type": "markdown",
   "metadata": {},
   "source": [
    "# Write GO to local files and upload GO to NDEx"
   ]
  },
  {
   "cell_type": "code",
   "execution_count": 46,
   "metadata": {
    "ExecuteTime": {
     "end_time": "2018-01-24T07:06:34.059251Z",
     "start_time": "2018-01-24T07:06:34.023503Z"
    },
    "collapsed": true
   },
   "outputs": [],
   "source": [
    "name = 'Human-specific Gene Ontology'"
   ]
  },
  {
   "cell_type": "markdown",
   "metadata": {},
   "source": [
    "## GO with UniProt IDs"
   ]
  },
  {
   "cell_type": "code",
   "execution_count": 73,
   "metadata": {
    "ExecuteTime": {
     "end_time": "2018-01-24T01:09:08.172318Z",
     "start_time": "2018-01-24T01:08:35.188644Z"
    }
   },
   "outputs": [
    {
     "name": "stdout",
     "output_type": "stream",
     "text": [
      "http://dev2.ndexbio.org/v2/network/2d4dc26f-00a3-11e8-bd69-0660b7976219\n"
     ]
    }
   ],
   "source": [
    "go_human_uniprot = go_human.copy()\n",
    "\n",
    "# Write GO to file\n",
    "go_human_uniprot.to_table('collapsed_go.uniprot', clixo_format=True)\n",
    "go_human_uniprot.to_pickle('collapsed_go.uniprot.pkl')\n",
    "\n",
    "url, G = go_human_uniprot.to_ndex(name='%s, %s' % (name, 'UniProt'),\n",
    "                                  ndex_server=ndex_server,\n",
    "                                  ndex_user=ndex_user,\n",
    "                                  ndex_pass=ndex_pass,\n",
    "                                  layout=None,\n",
    "                                  visibility='PUBLIC')\n",
    "print url"
   ]
  },
  {
   "cell_type": "markdown",
   "metadata": {},
   "source": [
    "## GO with HUGO symbols"
   ]
  },
  {
   "cell_type": "code",
   "execution_count": 47,
   "metadata": {
    "ExecuteTime": {
     "end_time": "2018-01-24T07:07:07.729611Z",
     "start_time": "2018-01-24T07:06:35.181853Z"
    }
   },
   "outputs": [
    {
     "name": "stdout",
     "output_type": "stream",
     "text": [
      "19205 genes, 19343 terms, 215376 gene-term relations, 43296 term-term relations\n",
      "node_attributes: ['Term_Description', 'Branch', 'Size']\n",
      "edge_attributes: []\n",
      "http://dev2.ndexbio.org/v2/network/3030845c-00d5-11e8-bd69-0660b7976219\n"
     ]
    }
   ],
   "source": [
    "go_human_symbol = go_human.delete(to_delete=set(go_human.genes) - set(uniprot_2_symbol.keys()))\n",
    "go_human_symbol = go_human_symbol.rename(genes=uniprot_2_symbol.to_dict())\n",
    "print(go_human_symbol)\n",
    "\n",
    "# Write GO to file\n",
    "go_human_symbol.to_table('collapsed_go.symbol', clixo_format=True)\n",
    "go_human_symbol.to_pickle('collapsed_go.symbol.pkl')\n",
    "\n",
    "url, G = go_human_symbol.to_ndex(name='%s, %s' % (name, 'Symbol'),\n",
    "                                 ndex_server=ndex_server,\n",
    "                                 ndex_user=ndex_user,\n",
    "                                 ndex_pass=ndex_pass,\n",
    "                                 layout=None,\n",
    "                                 visibility='PUBLIC')\n",
    "print url"
   ]
  },
  {
   "cell_type": "markdown",
   "metadata": {},
   "source": [
    "## GO with Entrez gene IDs"
   ]
  },
  {
   "cell_type": "code",
   "execution_count": 48,
   "metadata": {
    "ExecuteTime": {
     "end_time": "2018-01-24T07:07:42.055474Z",
     "start_time": "2018-01-24T07:07:07.731615Z"
    }
   },
   "outputs": [
    {
     "name": "stdout",
     "output_type": "stream",
     "text": [
      "18617 genes, 19343 terms, 212832 gene-term relations, 43296 term-term relations\n",
      "node_attributes: ['Term_Description', 'Branch', 'Size']\n",
      "edge_attributes: []\n",
      "http://dev2.ndexbio.org/v2/network/44980eef-00d5-11e8-bd69-0660b7976219\n"
     ]
    }
   ],
   "source": [
    "go_human_entrez = go_human.delete(to_delete=set(go_human.genes) - set(uniprot_2_entrezgene.keys()))\n",
    "go_human_entrez = go_human_entrez.rename(genes=uniprot_2_entrezgene.to_dict())\n",
    "print go_human_entrez\n",
    "\n",
    "# Write GO to file\n",
    "go_human_entrez.to_table('collapsed_go.entrez', clixo_format=True)\n",
    "go_human_entrez.to_pickle('collapsed_go.entrez.pkl')\n",
    "\n",
    "url, G = go_human_entrez.to_ndex(name='%s, %s' % (name, 'Entrez'),\n",
    "                                 ndex_server=ndex_server,\n",
    "                                 ndex_user=ndex_user,\n",
    "                                 ndex_pass=ndex_pass,\n",
    "                                 layout=None,\n",
    "                                 visibility='PUBLIC')\n",
    "print url"
   ]
  },
  {
   "cell_type": "markdown",
   "metadata": {},
   "source": [
    "## GO with Ensembl gene IDs"
   ]
  },
  {
   "cell_type": "code",
   "execution_count": 49,
   "metadata": {
    "ExecuteTime": {
     "end_time": "2018-01-24T07:08:20.123063Z",
     "start_time": "2018-01-24T07:07:42.057430Z"
    }
   },
   "outputs": [
    {
     "name": "stdout",
     "output_type": "stream",
     "text": [
      "21585 genes, 19343 terms, 238383 gene-term relations, 43296 term-term relations\n",
      "node_attributes: ['Term_Description', 'Branch', 'Size']\n",
      "edge_attributes: []\n",
      "http://dev2.ndexbio.org/v2/network/5b269832-00d5-11e8-bd69-0660b7976219\n"
     ]
    }
   ],
   "source": [
    "go_human_ensembl = go_human.delete(to_delete=set(go_human.genes) - set(uniprot_2_ensembl.keys()))\n",
    "go_human_ensembl = go_human_ensembl.rename(genes=uniprot_2_ensembl.to_dict())\n",
    "print go_human_ensembl\n",
    "\n",
    "# Write GO to file\n",
    "go_human_ensembl.to_table('collapsed_go.ensembl', clixo_format=True)\n",
    "go_human_ensembl.to_pickle('collapsed_go.ensembl.pkl')\n",
    "\n",
    "url, G = go_human_ensembl.to_ndex(name='%s, %s' % (name, 'ENSEMBL'),\n",
    "                                 ndex_server=ndex_server,\n",
    "                                 ndex_user=ndex_user,\n",
    "                                 ndex_pass=ndex_pass,\n",
    "                                 layout=None,\n",
    "                                 visibility='PUBLIC')\n",
    "print url"
   ]
  }
 ],
 "metadata": {
  "kernelspec": {
   "display_name": "Python 2",
   "language": "python",
   "name": "python2"
  },
  "language_info": {
   "codemirror_mode": {
    "name": "ipython",
    "version": 2
   },
   "file_extension": ".py",
   "mimetype": "text/x-python",
   "name": "python",
   "nbconvert_exporter": "python",
   "pygments_lexer": "ipython2",
   "version": "2.7.13"
  },
  "latex_envs": {
   "LaTeX_envs_menu_present": true,
   "autocomplete": true,
   "bibliofile": "biblio.bib",
   "cite_by": "apalike",
   "current_citInitial": 1,
   "eqLabelWithNumbers": true,
   "eqNumInitial": 1,
   "hotkeys": {
    "equation": "Ctrl-E",
    "itemize": "Ctrl-I"
   },
   "labels_anchors": false,
   "latex_user_defs": false,
   "report_style_numbering": false,
   "user_envs_cfg": false
  },
  "toc": {
   "colors": {
    "hover_highlight": "#DAA520",
    "navigate_num": "#000000",
    "navigate_text": "#333333",
    "running_highlight": "#FF0000",
    "selected_highlight": "#FFD700",
    "sidebar_border": "#EEEEEE",
    "wrapper_background": "#FFFFFF"
   },
   "moveMenuLeft": true,
   "nav_menu": {
    "height": "66px",
    "width": "252px"
   },
   "navigate_menu": true,
   "number_sections": true,
   "sideBar": true,
   "threshold": 4,
   "toc_cell": false,
   "toc_position": {
    "height": "652px",
    "left": "0px",
    "right": "1359.8px",
    "top": "108px",
    "width": "176px"
   },
   "toc_section_display": "block",
   "toc_window_display": false,
   "widenNotebook": false
  }
 },
 "nbformat": 4,
 "nbformat_minor": 1
}
