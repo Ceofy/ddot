{
 "cells": [
  {
   "cell_type": "code",
   "execution_count": 3,
   "metadata": {
    "ExecuteTime": {
     "end_time": "2018-05-18T21:48:55.527825Z",
     "start_time": "2018-05-18T21:48:54.731809Z"
    }
   },
   "outputs": [
    {
     "name": "stdout",
     "output_type": "stream",
     "text": [
      "The autoreload extension is already loaded. To reload it, use:\n",
      "  %reload_ext autoreload\n"
     ]
    }
   ],
   "source": [
    "%load_ext autoreload\n",
    "%autoreload 2\n",
    "\n",
    "import sys\n",
    "sys.path.insert(0, '/cellar/users/mikeyu/DeepTranslate/ddot')\n",
    "\n",
    "import numpy as np\n",
    "np.set_printoptions(linewidth=150)"
   ]
  },
  {
   "cell_type": "code",
   "execution_count": 5,
   "metadata": {
    "ExecuteTime": {
     "end_time": "2018-05-18T21:49:08.929993Z",
     "start_time": "2018-05-18T21:49:08.841372Z"
    },
    "collapsed": true
   },
   "outputs": [],
   "source": [
    "import pandas as pd\n",
    "import networkx as nx\n",
    "import numpy as np\n",
    "\n",
    "import ddot\n",
    "from ddot import Ontology, ndex_to_sim_matrix, expand_seed, melt_square, make_seed_ontology, make_index"
   ]
  },
  {
   "cell_type": "markdown",
   "metadata": {},
   "source": [
    "# Setup parameters"
   ]
  },
  {
   "cell_type": "code",
   "execution_count": 6,
   "metadata": {
    "ExecuteTime": {
     "end_time": "2018-05-18T21:49:09.458698Z",
     "start_time": "2018-05-18T21:49:09.418010Z"
    },
    "collapsed": true
   },
   "outputs": [],
   "source": [
    "alpha = 0.05\n",
    "beta = 0.5"
   ]
  },
  {
   "cell_type": "code",
   "execution_count": 4,
   "metadata": {
    "ExecuteTime": {
     "end_time": "2018-01-23T23:56:57.907403Z",
     "start_time": "2018-01-23T23:56:57.879657Z"
    },
    "collapsed": true
   },
   "outputs": [],
   "source": [
    "seed = ['FANCA','FANCB', 'FANCC', 'BRCA2', 'FANCD2', 'FANCE',\n",
    "        'FANCF', 'FANCG', 'FANCI', 'BRIP1', 'FANCL', 'FANCM', 'PALB2', 'RAD51C', 'SLX4', 'ERCC4', 'RAD51',\n",
    "        'BRCA1', 'UBE2T', 'XRCC2']"
   ]
  },
  {
   "cell_type": "code",
   "execution_count": 5,
   "metadata": {
    "ExecuteTime": {
     "end_time": "2018-01-23T23:56:57.933349Z",
     "start_time": "2018-01-23T23:56:57.909210Z"
    },
    "collapsed": true
   },
   "outputs": [],
   "source": [
    "ndex_user, ndex_pass = 'scratch', 'scratch'\n",
    "ndex_server = 'http://test.ndexbio.org'"
   ]
  },
  {
   "cell_type": "markdown",
   "metadata": {},
   "source": [
    "# Read Gene Ontology"
   ]
  },
  {
   "cell_type": "code",
   "execution_count": 6,
   "metadata": {
    "ExecuteTime": {
     "end_time": "2018-01-23T23:56:57.957687Z",
     "start_time": "2018-01-23T23:56:57.935009Z"
    },
    "collapsed": true
   },
   "outputs": [],
   "source": [
    "go_human = Ontology.from_ndex(ddot.config.GO_HUMAN_URL)\n",
    "print go_human"
   ]
  },
  {
   "cell_type": "markdown",
   "metadata": {},
   "source": [
    "# Read gene similarity network"
   ]
  },
  {
   "cell_type": "code",
   "execution_count": 8,
   "metadata": {
    "ExecuteTime": {
     "end_time": "2018-01-23T23:56:58.407804Z",
     "start_time": "2018-01-23T23:56:58.368951Z"
    },
    "collapsed": true
   },
   "outputs": [],
   "source": [
    "sim, sim_names = ndex_to_sim_matrix(\n",
    "    ndex_uuid='d2dfa5cc-56de-11e7-a2e2-0660b7976219',\n",
    "    similarity='similarity',\n",
    "    input_fmt='cx_matrix',\n",
    "    output_fmt='matrix',\n",
    "    subset=None)\n",
    "sim = pd.DataFrame(sim, columns=sim_names, index=sim_names)"
   ]
  },
  {
   "cell_type": "markdown",
   "metadata": {},
   "source": [
    "## Rank transform the similarities"
   ]
  },
  {
   "cell_type": "code",
   "execution_count": 35,
   "metadata": {
    "ExecuteTime": {
     "end_time": "2018-01-24T07:14:02.312199Z",
     "start_time": "2018-01-24T07:13:23.490815Z"
    },
    "collapsed": true
   },
   "outputs": [],
   "source": [
    "sim_rank = sim.rank(0) / (sim.shape[0] - 1)\n",
    "sim_rank = pd.DataFrame((sim_rank.values + sim_rank.values.T) / 2.0, columns=sim_names, index=sim_names)"
   ]
  },
  {
   "cell_type": "markdown",
   "metadata": {},
   "source": [
    "# Create FanGO"
   ]
  },
  {
   "cell_type": "markdown",
   "metadata": {},
   "source": [
    "##  Use single function"
   ]
  },
  {
   "cell_type": "markdown",
   "metadata": {},
   "source": [
    "## Use multiple functions"
   ]
  },
  {
   "cell_type": "code",
   "execution_count": 37,
   "metadata": {
    "ExecuteTime": {
     "end_time": "2018-01-24T07:14:03.462131Z",
     "start_time": "2018-01-24T07:14:03.094062Z"
    }
   },
   "outputs": [
    {
     "data": {
      "image/png": "[encoded data removed]",
      "text/plain": [
       "<matplotlib.figure.Figure at 0x7fc2be6db9d0>"
      ]
     },
     "metadata": {},
     "output_type": "display_data"
    }
   ],
   "source": [
    "import seaborn as sns\n",
    "import matplotlib.pyplot as plt\n",
    "%matplotlib inline\n",
    "np.set_printoptions(precision=3)\n",
    "plt.rcParams['svg.fonttype'] = 'none'\n",
    "\n",
    "expand, expand_idx, sim_2_seed, fig = expand_seed(\n",
    "    seed,\n",
    "    sim_rank.values,\n",
    "    sim_names,\n",
    "    seed_perc=0,\n",
    "    agg='mean',\n",
    "    figure=True)"
   ]
  },
  {
   "cell_type": "code",
   "execution_count": 42,
   "metadata": {
    "ExecuteTime": {
     "end_time": "2018-01-24T07:15:37.110801Z",
     "start_time": "2018-01-24T07:15:36.655935Z"
    }
   },
   "outputs": [
    {
     "data": {
      "text/plain": [
       "194 genes, 74 terms, 349 gene-term relations, 86 term-term relations\n",
       "node_attributes: []\n",
       "edge_attributes: ['CLIXO_score']"
      ]
     },
     "execution_count": 42,
     "metadata": {},
     "output_type": "execute_result"
    }
   ],
   "source": [
    "ont = Ontology.run_clixo(sim.loc[expand, :].loc[:, expand], alpha, beta, square=True)\n",
    "ont"
   ]
  },
  {
   "cell_type": "code",
   "execution_count": 43,
   "metadata": {
    "ExecuteTime": {
     "end_time": "2018-01-24T07:15:58.761901Z",
     "start_time": "2018-01-24T07:15:42.846620Z"
    }
   },
   "outputs": [
    {
     "name": "stdout",
     "output_type": "stream",
     "text": [
      "Common genes: 193\n",
      "collapse command: /cellar/users/mikeyu/DeepTranslate/ddot/ddot/alignOntology/collapseRedundantNodes /tmp/tmpm6qmVD\n",
      "collapse command: /cellar/users/mikeyu/DeepTranslate/ddot/ddot/alignOntology/collapseRedundantNodes /tmp/tmp8wNDN9\n",
      "ont1_collapsed: 193 genes, 74 terms, 348 gene-term relations, 86 term-term relations\n",
      "node_attributes: []\n",
      "edge_attributes: ['CLIXO_score']\n",
      "ont2_collapsed: 193 genes, 1854 terms, 3594 gene-term relations, 5039 term-term relations\n",
      "node_attributes: ['Term_Description', 'Branch', 'Size']\n",
      "edge_attributes: []\n",
      "Alignment command: /cellar/users/mikeyu/DeepTranslate/ddot/ddot/alignOntology/calculateFDRs /tmp/tmpSFy36f /tmp/tmpfCRyJ2 0.05 criss_cross /tmp/tmpL1v4vZ 100 40 gene\n"
     ]
    }
   ],
   "source": [
    "alignment = ont.align(go_human, \n",
    "                      iterations=100,\n",
    "                      threads=40,\n",
    "                      update_self=['Term_Description', 'Size'],\n",
    "                      align_label='Term_Description',\n",
    "                      verbose=True)"
   ]
  },
  {
   "cell_type": "code",
   "execution_count": 45,
   "metadata": {
    "ExecuteTime": {
     "end_time": "2018-01-24T07:17:40.625830Z",
     "start_time": "2018-01-24T07:17:17.598028Z"
    }
   },
   "outputs": [
    {
     "name": "stdout",
     "output_type": "stream",
     "text": [
      "Uploading 74 terms\n",
      "0 No data provided for gene pairs in Term: CLIXO:194\n",
      "1 No data provided for gene pairs in Term: CLIXO:195\n",
      "2 No data provided for gene pairs in Term: CLIXO:196\n",
      "3 Term: CLIXO:197 Gene pairs: 1 Genes: 2 Time: 0.1482 Upload time: 0.1449 NDEx URL: http://dev2.ndexbio.org/v2/network/9c569028-00d6-11e8-bd69-0660b7976219\n",
      "4 Term: CLIXO:198 Gene pairs: 1 Genes: 2 Time: 0.1615 Upload time: 0.1554 NDEx URL: http://dev2.ndexbio.org/v2/network/9c6f484b-00d6-11e8-bd69-0660b7976219\n",
      "5 Term: CLIXO:199 Gene pairs: 1 Genes: 2 Time: 0.1684 Upload time: 0.1623 NDEx URL: http://dev2.ndexbio.org/v2/network/9c8938ed-00d6-11e8-bd69-0660b7976219\n",
      "6 Term: CLIXO:200 Gene pairs: 1 Genes: 2 Time: 0.167 Upload time: 0.1595 NDEx URL: http://dev2.ndexbio.org/v2/network/9ca2db6f-00d6-11e8-bd69-0660b7976219\n",
      "7 Term: CLIXO:201 Gene pairs: 1 Genes: 2 Time: 0.16 Upload time: 0.1537 NDEx URL: http://dev2.ndexbio.org/v2/network/9cbb6c81-00d6-11e8-bd69-0660b7976219\n",
      "8 No data provided for gene pairs in Term: CLIXO:202\n",
      "9 Term: CLIXO:203 Gene pairs: 1 Genes: 2 Time: 0.1672 Upload time: 0.1605 NDEx URL: http://dev2.ndexbio.org/v2/network/9cd58433-00d6-11e8-bd69-0660b7976219\n",
      "10 No data provided for gene pairs in Term: CLIXO:204\n",
      "11 No data provided for gene pairs in Term: CLIXO:205\n",
      "12 No data provided for gene pairs in Term: CLIXO:206\n",
      "13 No data provided for gene pairs in Term: CLIXO:207\n",
      "14 Term: CLIXO:208 Gene pairs: 1 Genes: 2 Time: 0.1565 Upload time: 0.1496 NDEx URL: http://dev2.ndexbio.org/v2/network/9cedee35-00d6-11e8-bd69-0660b7976219\n",
      "15 No data provided for gene pairs in Term: CLIXO:209\n",
      "16 No data provided for gene pairs in Term: CLIXO:210\n",
      "17 No data provided for gene pairs in Term: CLIXO:211\n",
      "18 No data provided for gene pairs in Term: CLIXO:212\n",
      "19 No data provided for gene pairs in Term: CLIXO:213\n",
      "20 No data provided for gene pairs in Term: CLIXO:214\n",
      "21 No data provided for gene pairs in Term: CLIXO:215\n",
      "22 No data provided for gene pairs in Term: CLIXO:216\n",
      "23 Term: CLIXO:217 Gene pairs: 1 Genes: 2 Time: 0.1532 Upload time: 0.1473 NDEx URL: http://dev2.ndexbio.org/v2/network/9d06312d-00d6-11e8-bd69-0660b7976219\n",
      "24 No data provided for gene pairs in Term: CLIXO:218\n",
      "25 Term: CLIXO:219 Gene pairs: 1 Genes: 2 Time: 0.1665 Upload time: 0.1604 NDEx URL: http://dev2.ndexbio.org/v2/network/9d1fac9f-00d6-11e8-bd69-0660b7976219\n",
      "26 Term: CLIXO:220 Gene pairs: 1 Genes: 2 Time: 0.1571 Upload time: 0.1538 NDEx URL: http://dev2.ndexbio.org/v2/network/9d37c881-00d6-11e8-bd69-0660b7976219\n",
      "27 No data provided for gene pairs in Term: CLIXO:221\n",
      "28 Term: CLIXO:222 Gene pairs: 1 Genes: 2 Time: 0.1514 Upload time: 0.146 NDEx URL: http://dev2.ndexbio.org/v2/network/9d4f6f33-00d6-11e8-bd69-0660b7976219\n",
      "29 Term: CLIXO:223 Gene pairs: 1 Genes: 2 Time: 0.156 Upload time: 0.1509 NDEx URL: http://dev2.ndexbio.org/v2/network/9d678b15-00d6-11e8-bd69-0660b7976219\n",
      "30 No data provided for gene pairs in Term: CLIXO:224\n",
      "31 Term: CLIXO:225 Gene pairs: 1 Genes: 2 Time: 0.1664 Upload time: 0.1598 NDEx URL: http://dev2.ndexbio.org/v2/network/9d810687-00d6-11e8-bd69-0660b7976219\n",
      "32 Term: CLIXO:226 Gene pairs: 1 Genes: 2 Time: 0.1549 Upload time: 0.1486 NDEx URL: http://dev2.ndexbio.org/v2/network/9d992269-00d6-11e8-bd69-0660b7976219\n",
      "33 Term: CLIXO:227 Gene pairs: 1 Genes: 2 Time: 0.156 Upload time: 0.1499 NDEx URL: http://dev2.ndexbio.org/v2/network/9db0c91b-00d6-11e8-bd69-0660b7976219\n",
      "34 Term: CLIXO:228 Gene pairs: 1 Genes: 2 Time: 0.157 Upload time: 0.1505 NDEx URL: http://dev2.ndexbio.org/v2/network/9dc9331d-00d6-11e8-bd69-0660b7976219\n",
      "35 No data provided for gene pairs in Term: CLIXO:229\n",
      "36 Term: CLIXO:230 Gene pairs: 3 Genes: 3 Time: 0.1528 Upload time: 0.146 NDEx URL: http://dev2.ndexbio.org/v2/network/9de0d9cf-00d6-11e8-bd69-0660b7976219\n",
      "37 Term: CLIXO:231 Gene pairs: 3 Genes: 3 Time: 0.1573 Upload time: 0.1517 NDEx URL: http://dev2.ndexbio.org/v2/network/9df8cea1-00d6-11e8-bd69-0660b7976219\n",
      "38 Term: CLIXO:232 Gene pairs: 3 Genes: 3 Time: 0.169 Upload time: 0.1625 NDEx URL: http://dev2.ndexbio.org/v2/network/9e12bf43-00d6-11e8-bd69-0660b7976219\n",
      "39 Term: CLIXO:233 Gene pairs: 3 Genes: 3 Time: 0.1593 Upload time: 0.1524 NDEx URL: http://dev2.ndexbio.org/v2/network/9e2b7765-00d6-11e8-bd69-0660b7976219\n",
      "40 Term: CLIXO:234 Gene pairs: 3 Genes: 3 Time: 0.1458 Upload time: 0.1391 NDEx URL: http://dev2.ndexbio.org/v2/network/9e425ac7-00d6-11e8-bd69-0660b7976219\n",
      "41 Term: CLIXO:235 Gene pairs: 1 Genes: 3 Time: 0.1587 Upload time: 0.1524 NDEx URL: http://dev2.ndexbio.org/v2/network/9e5a76a9-00d6-11e8-bd69-0660b7976219\n",
      "42 No data provided for gene pairs in Term: CLIXO:236\n",
      "43 Term: CLIXO:237 Gene pairs: 1 Genes: 3 Time: 0.1583 Upload time: 0.1496 NDEx URL: http://dev2.ndexbio.org/v2/network/9e732ecb-00d6-11e8-bd69-0660b7976219\n",
      "44 Term: CLIXO:238 Gene pairs: 1 Genes: 3 Time: 0.1576 Upload time: 0.1513 NDEx URL: http://dev2.ndexbio.org/v2/network/9e8b71bd-00d6-11e8-bd69-0660b7976219\n",
      "45 No data provided for gene pairs in Term: CLIXO:239\n",
      "46 Term: CLIXO:240 Gene pairs: 3 Genes: 3 Time: 0.1628 Upload time: 0.1571 NDEx URL: http://dev2.ndexbio.org/v2/network/9ea477ff-00d6-11e8-bd69-0660b7976219\n",
      "47 Term: CLIXO:241 Gene pairs: 3 Genes: 4 Time: 0.1621 Upload time: 0.1554 NDEx URL: http://dev2.ndexbio.org/v2/network/9ebd7e41-00d6-11e8-bd69-0660b7976219\n",
      "48 Term: CLIXO:242 Gene pairs: 3 Genes: 4 Time: 0.1538 Upload time: 0.1459 NDEx URL: http://dev2.ndexbio.org/v2/network/9ed57313-00d6-11e8-bd69-0660b7976219\n",
      "49 Term: CLIXO:243 Gene pairs: 6 Genes: 4 Time: 0.1908 Upload time: 0.1839 NDEx URL: http://dev2.ndexbio.org/v2/network/9ef2e628-00d6-11e8-bd69-0660b7976219\n",
      "50 Term: CLIXO:244 Gene pairs: 6 Genes: 4 Time: 0.2026 Upload time: 0.1945 NDEx URL: http://dev2.ndexbio.org/v2/network/9f11dfeb-00d6-11e8-bd69-0660b7976219\n",
      "51 Term: CLIXO:245 Gene pairs: 10 Genes: 5 Time: 0.1963 Upload time: 0.1855 NDEx URL: http://dev2.ndexbio.org/v2/network/9f30164d-00d6-11e8-bd69-0660b7976219\n",
      "52 Term: CLIXO:246 Gene pairs: 6 Genes: 5 Time: 0.2 Upload time: 0.1907 NDEx URL: http://dev2.ndexbio.org/v2/network/9f4ee8ef-00d6-11e8-bd69-0660b7976219\n",
      "53 Term: CLIXO:247 Gene pairs: 10 Genes: 5 Time: 0.1924 Upload time: 0.185 NDEx URL: http://dev2.ndexbio.org/v2/network/9f6c8211-00d6-11e8-bd69-0660b7976219\n",
      "54 Term: CLIXO:248 Gene pairs: 10 Genes: 5 Time: 0.1868 Upload time: 0.1762 NDEx URL: http://dev2.ndexbio.org/v2/network/9f89a703-00d6-11e8-bd69-0660b7976219\n",
      "55 Term: CLIXO:249 Gene pairs: 6 Genes: 7 Time: 0.194 Upload time: 0.1851 NDEx URL: http://dev2.ndexbio.org/v2/network/9fa74125-00d6-11e8-bd69-0660b7976219\n",
      "56 Term: CLIXO:250 Gene pairs: 21 Genes: 8 Time: 0.2419 Upload time: 0.2308 NDEx URL: http://dev2.ndexbio.org/v2/network/9fcc5557-00d6-11e8-bd69-0660b7976219\n",
      "57 Term: CLIXO:251 Gene pairs: 28 Genes: 8 Time: 0.2363 Upload time: 0.2272 NDEx URL: http://dev2.ndexbio.org/v2/network/9ff0a639-00d6-11e8-bd69-0660b7976219\n",
      "58 Term: CLIXO:252 Gene pairs: 15 Genes: 9 Time: 0.1941 Upload time: 0.1821 NDEx URL: http://dev2.ndexbio.org/v2/network/a00e8e7c-00d6-11e8-bd69-0660b7976219\n",
      "59 Term: CLIXO:253 Gene pairs: 91 Genes: 17 Time: 0.2901 Upload time: 0.2752 NDEx URL: http://dev2.ndexbio.org/v2/network/a03ace9e-00d6-11e8-bd69-0660b7976219\n",
      "60 Term: CLIXO:254 Gene pairs: 120 Genes: 20 Time: 0.3163 Upload time: 0.3012 NDEx URL: http://dev2.ndexbio.org/v2/network/a06b5480-00d6-11e8-bd69-0660b7976219\n",
      "61 Term: CLIXO:255 Gene pairs: 105 Genes: 23 Time: 0.29 Upload time: 0.2729 NDEx URL: http://dev2.ndexbio.org/v2/network/a09809d2-00d6-11e8-bd69-0660b7976219\n",
      "62 Term: CLIXO:256 Gene pairs: 171 Genes: 24 Time: 0.337 Upload time: 0.319 NDEx URL: http://dev2.ndexbio.org/v2/network/a0cb9cf4-00d6-11e8-bd69-0660b7976219\n",
      "63 Term: CLIXO:257 Gene pairs: 496 Genes: 43 Time: 0.4586 Upload time: 0.4176 NDEx URL: http://dev2.ndexbio.org/v2/network/a1117f96-00d6-11e8-bd69-0660b7976219\n",
      "64 Term: CLIXO:258 Gene pairs: 666 Genes: 54 Time: 0.5179 Upload time: 0.465 NDEx URL: http://dev2.ndexbio.org/v2/network/a16062e8-00d6-11e8-bd69-0660b7976219\n",
      "65 Term: CLIXO:259 Gene pairs: 1128 Genes: 56 Time: 0.6006 Upload time: 0.526 NDEx URL: http://dev2.ndexbio.org/v2/network/a1bbc95a-00d6-11e8-bd69-0660b7976219\n",
      "66 Term: CLIXO:260 Gene pairs: 2701 Genes: 86 Time: 0.8607 Upload time: 0.7362 NDEx URL: http://dev2.ndexbio.org/v2/network/a23c921c-00d6-11e8-bd69-0660b7976219\n"
     ]
    },
    {
     "name": "stdout",
     "output_type": "stream",
     "text": [
      "67 Term: CLIXO:261 Gene pairs: 5253 Genes: 131 Time: 1.5009 Upload time: 1.2855 NDEx URL: http://dev2.ndexbio.org/v2/network/a31bf59e-00d6-11e8-bd69-0660b7976219\n",
      "68 Term: CLIXO:262 Gene pairs: 6903 Genes: 166 Time: 1.6268 Upload time: 1.3681 NDEx URL: http://dev2.ndexbio.org/v2/network/a411c750-00d6-11e8-bd69-0660b7976219\n",
      "69 Term: CLIXO:263 Gene pairs: 7021 Genes: 176 Time: 1.7844 Upload time: 1.5299 NDEx URL: http://dev2.ndexbio.org/v2/network/a5227402-00d6-11e8-bd69-0660b7976219\n",
      "70 Term: CLIXO:264 Gene pairs: 7021 Genes: 183 Time: 1.912 Upload time: 1.6547 NDEx URL: http://dev2.ndexbio.org/v2/network/a6434d5d-00d6-11e8-bd69-0660b7976219\n",
      "71 Term: CLIXO:265 Gene pairs: 7021 Genes: 189 Time: 1.6123 Upload time: 1.3585 NDEx URL: http://dev2.ndexbio.org/v2/network/a73dda07-00d6-11e8-bd69-0660b7976219\n",
      "72 Term: CLIXO:266 Gene pairs: 7021 Genes: 192 Time: 1.708 Upload time: 1.4508 NDEx URL: http://dev2.ndexbio.org/v2/network/a847a8eb-00d6-11e8-bd69-0660b7976219\n",
      "73 Term: CLIXO:267 Gene pairs: 7021 Genes: 194 Time: 1.683 Upload time: 1.4236 NDEx URL: http://dev2.ndexbio.org/v2/network/a942f8de-00d6-11e8-bd69-0660b7976219\n",
      "Creating NdexGraph\n",
      "Uploading to NDEx\n"
     ]
    },
    {
     "data": {
      "text/plain": [
       "(u'http://dev2.ndexbio.org/v2/network/a9c28920-00d6-11e8-bd69-0660b7976219',\n",
       " <ndex.networkn.NdexGraph at 0x7fc2be5e9190>)"
      ]
     },
     "execution_count": 45,
     "metadata": {},
     "output_type": "execute_result"
    }
   ],
   "source": [
    "ont.to_ndex(name='Fanconi Anemia Gene Ontology',\n",
    "            ndex_server=ndex_server,\n",
    "            ndex_user=ndex_user,\n",
    "            ndex_pass=ndex_pass,\n",
    "            visibility='PUBLIC',\n",
    "            layout='bubble-collect',\n",
    "            network=hnexo_data,\n",
    "            features=hnexo_data.columns,\n",
    "            main_feature='RF score',\n",
    "            verbose=True)"
   ]
  },
  {
   "cell_type": "markdown",
   "metadata": {},
   "source": [
    "## "
   ]
  },
  {
   "cell_type": "code",
   "execution_count": null,
   "metadata": {
    "collapsed": true
   },
   "outputs": [],
   "source": [
    "ont, url, ont_ndexgraph, expand_results = make_seed_ontology(\n",
    "      sim,\n",
    "      sim_names,\n",
    "      build_kwargs={'alpha' : alpha,\n",
    "                    'beta' : beta,\n",
    "                    'method' : 'clixo'},\n",
    "      expand_kwargs={'seed' : seed,\n",
    "                     'sim': sim_rank.values,\n",
    "                     'sim_names': sim_names,\n",
    "                     'seed_perc':0,\n",
    "                     'agg':'mean',\n",
    "                     'figure':True},\n",
    "      align_kwargs={'hier' : go_human,\n",
    "                    'iterations':100,\n",
    "                    'threads': 40,\n",
    "                    'update_self': ['Term_Description', 'Size'],\n",
    "                    'align_label' : 'Term_Description'},\n",
    "      ndex_kwargs={'ndex_user':ndex_user,\n",
    "                   'ndex_pass':ndex_pass,\n",
    "                   'ndex_server':ndex_server,\n",
    "                   'name' : 'Fanconi Anemia Gene Ontology (FanGO)',\n",
    "                   'visible_term_attr': ['Aligned_Term',\n",
    "                                         'Aligned_Similarity',\n",
    "                                         'Aligned_FDR',\n",
    "                                         'Aligned_Term_Description',\n",
    "                                         'Aligned_Size',\n",
    "                                         'Similarity_2_Seed'],\n",
    "                   'subnet_max_term_size' : 0,\n",
    "                   'visibility' : 'PUBLIC',\n",
    "                   'layout' : 'bubble-collect',                  \n",
    "                   'network' : hnexo_data,\n",
    "                   'features' : hnexo_data.columns,\n",
    "                   'main_feature' : 'RF score'},\n",
    "      node_attr=gene_drug,\n",
    "      verbose=True,\n",
    "      ndex=True,\n",
    ")\n",
    "print url\n",
    "print ont"
   ]
  }
 ],
 "metadata": {
  "kernelspec": {
   "display_name": "Python 2",
   "language": "python",
   "name": "python2"
  },
  "language_info": {
   "codemirror_mode": {
    "name": "ipython",
    "version": 2
   },
   "file_extension": ".py",
   "mimetype": "text/x-python",
   "name": "python",
   "nbconvert_exporter": "python",
   "pygments_lexer": "ipython2",
   "version": "2.7.13"
  },
  "latex_envs": {
   "LaTeX_envs_menu_present": true,
   "autocomplete": true,
   "bibliofile": "biblio.bib",
   "cite_by": "apalike",
   "current_citInitial": 1,
   "eqLabelWithNumbers": true,
   "eqNumInitial": 1,
   "hotkeys": {
    "equation": "Ctrl-E",
    "itemize": "Ctrl-I"
   },
   "labels_anchors": false,
   "latex_user_defs": false,
   "report_style_numbering": false,
   "user_envs_cfg": false
  },
  "toc": {
   "colors": {
    "hover_highlight": "#DAA520",
    "navigate_num": "#000000",
    "navigate_text": "#333333",
    "running_highlight": "#FF0000",
    "selected_highlight": "#FFD700",
    "sidebar_border": "#EEEEEE",
    "wrapper_background": "#FFFFFF"
   },
   "moveMenuLeft": true,
   "nav_menu": {
    "height": "225px",
    "width": "252px"
   },
   "navigate_menu": true,
   "number_sections": true,
   "sideBar": true,
   "threshold": 4,
   "toc_cell": false,
   "toc_position": {
    "height": "690px",
    "left": "0px",
    "right": "1414.04px",
    "top": "108px",
    "width": "330px"
   },
   "toc_section_display": "block",
   "toc_window_display": false,
   "widenNotebook": false
  }
 },
 "nbformat": 4,
 "nbformat_minor": 2
}
